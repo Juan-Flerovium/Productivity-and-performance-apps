{
 "cells": [
  {
   "cell_type": "code",
   "execution_count": 1,
   "metadata": {},
   "outputs": [],
   "source": [
    "import nbformat\n",
    "from nbconvert import PythonExporter\n",
    "\n",
    "# Load the notebook\n",
    "with open('/Users/juanfranciscolorussonotarofrancesco/Desktop/Progress Data Exports/Productivity_dates.ipynb', encoding='utf-8') as f:\n",
    "    notebook = nbformat.read(f, as_version=4)\n",
    "\n",
    "# Create a PythonExporter\n",
    "exporter = PythonExporter()\n",
    "\n",
    "# Export the notebook to Python script\n",
    "script, _ = exporter.from_notebook_node(notebook)\n",
    "\n",
    "# Write the script to a file\n",
    "with open('/Users/juanfranciscolorussonotarofrancesco/Desktop/Progress Data Exports/Productivity_dates.py', 'w', encoding='utf-8') as f:\n",
    "    f.write(script)\n"
   ]
  },
  {
   "cell_type": "code",
   "execution_count": 2,
   "metadata": {},
   "outputs": [
    {
     "data": {
      "application/vnd.plotly.v1+json": {
       "config": {
        "plotlyServerURL": "https://plot.ly"
       },
       "data": [
        {
         "customdata": [
          [
           "2022-11-21",
           "2023-01-10",
           "L1"
          ],
          [
           "2022-11-21",
           "2023-01-10",
           "L1"
          ],
          [
           null,
           null,
           null
          ],
          [
           "2022-11-23",
           "2023-01-18",
           "L2"
          ],
          [
           "2022-11-23",
           "2023-01-18",
           "L2"
          ],
          [
           null,
           null,
           null
          ],
          [
           "2023-01-04",
           "2023-02-14",
           "L3"
          ],
          [
           "2023-01-04",
           "2023-02-14",
           "L3"
          ],
          [
           null,
           null,
           null
          ],
          [
           "2023-01-04",
           "2023-02-17",
           "L4"
          ],
          [
           "2023-01-04",
           "2023-02-17",
           "L4"
          ],
          [
           null,
           null,
           null
          ],
          [
           "2023-01-18",
           "2023-03-01",
           "L5"
          ],
          [
           "2023-01-18",
           "2023-03-01",
           "L5"
          ],
          [
           null,
           null,
           null
          ],
          [
           "2023-02-14",
           "2023-03-13",
           "L6"
          ],
          [
           "2023-02-14",
           "2023-03-13",
           "L6"
          ],
          [
           null,
           null,
           null
          ],
          [
           "2023-02-28",
           "2023-03-27",
           "L7"
          ],
          [
           "2023-02-28",
           "2023-03-27",
           "L7"
          ],
          [
           null,
           null,
           null
          ],
          [
           "2023-03-14",
           "2023-04-12",
           "L8"
          ],
          [
           "2023-03-14",
           "2023-04-12",
           "L8"
          ],
          [
           null,
           null,
           null
          ]
         ],
         "hovertemplate": "Initial Date: %{customdata[0]}<br>Final Date: %{customdata[1]}<br>Level: %{customdata[2]}",
         "legendgroup": "0, 0",
         "line": {
          "color": "#3366CC",
          "dash": "dash"
         },
         "marker": {
          "symbol": "circle"
         },
         "mode": "lines",
         "name": "Demising Walls Planned",
         "orientation": "v",
         "showlegend": true,
         "type": "scatter",
         "x": [
          "2022-11-21T00:00:00",
          "2023-01-10T23:00:00",
          null,
          "2022-11-23T00:00:00",
          "2023-01-18T23:00:00",
          null,
          "2023-01-04T00:00:00",
          "2023-02-14T23:00:00",
          null,
          "2023-01-04T00:00:00",
          "2023-02-17T23:00:00",
          null,
          "2023-01-18T00:00:00",
          "2023-03-01T23:00:00",
          null,
          "2023-02-14T00:00:00",
          "2023-03-13T23:00:00",
          null,
          "2023-02-28T00:00:00",
          "2023-03-27T23:00:00",
          null,
          "2023-03-14T00:00:00",
          "2023-04-12T23:00:00",
          null
         ],
         "xaxis": "x",
         "y": [
          1,
          2,
          null,
          2,
          3,
          null,
          3,
          4,
          null,
          4,
          5,
          null,
          5,
          6,
          null,
          6,
          7,
          null,
          7,
          8,
          null,
          8,
          9,
          null
         ],
         "yaxis": "y"
        },
        {
         "customdata": [
          [
           "2022-12-15",
           "2023-02-14",
           "L1"
          ],
          [
           "2022-12-15",
           "2023-02-14",
           "L1"
          ],
          [
           null,
           null,
           null
          ],
          [
           "2023-01-16",
           "2023-02-17",
           "L2"
          ],
          [
           "2023-01-16",
           "2023-02-17",
           "L2"
          ],
          [
           null,
           null,
           null
          ],
          [
           "2023-02-09",
           "2023-02-22",
           "L3"
          ],
          [
           "2023-02-09",
           "2023-02-22",
           "L3"
          ],
          [
           null,
           null,
           null
          ],
          [
           "2023-02-09",
           "2023-03-01",
           "L4"
          ],
          [
           "2023-02-09",
           "2023-03-01",
           "L4"
          ],
          [
           null,
           null,
           null
          ],
          [
           "2023-02-09",
           "2023-03-13",
           "L5"
          ],
          [
           "2023-02-09",
           "2023-03-13",
           "L5"
          ],
          [
           null,
           null,
           null
          ],
          [
           "2023-02-09",
           "2023-03-23",
           "L6"
          ],
          [
           "2023-02-09",
           "2023-03-23",
           "L6"
          ],
          [
           null,
           null,
           null
          ],
          [
           "2023-03-28",
           "2023-04-11",
           "L7"
          ],
          [
           "2023-03-28",
           "2023-04-11",
           "L7"
          ],
          [
           null,
           null,
           null
          ],
          [
           "2023-04-13",
           "2023-04-25",
           "L8"
          ],
          [
           "2023-04-13",
           "2023-04-25",
           "L8"
          ],
          [
           null,
           null,
           null
          ]
         ],
         "hovertemplate": "Initial Date: %{customdata[0]}<br>Final Date: %{customdata[1]}<br>Level: %{customdata[2]}",
         "legendgroup": "1, 1",
         "line": {
          "color": "#DC3912",
          "dash": "dash"
         },
         "marker": {
          "symbol": "circle"
         },
         "mode": "lines",
         "name": "HL MEP Services (1st Fix) Planned",
         "orientation": "v",
         "showlegend": true,
         "type": "scatter",
         "x": [
          "2022-12-15T00:00:00",
          "2023-02-14T23:00:00",
          null,
          "2023-01-16T00:00:00",
          "2023-02-17T23:00:00",
          null,
          "2023-02-09T00:00:00",
          "2023-02-22T23:00:00",
          null,
          "2023-02-09T00:00:00",
          "2023-03-01T23:00:00",
          null,
          "2023-02-09T00:00:00",
          "2023-03-13T23:00:00",
          null,
          "2023-02-09T00:00:00",
          "2023-03-23T23:00:00",
          null,
          "2023-03-28T00:00:00",
          "2023-04-11T23:00:00",
          null,
          "2023-04-13T00:00:00",
          "2023-04-25T23:00:00",
          null
         ],
         "xaxis": "x",
         "y": [
          1,
          2,
          null,
          2,
          3,
          null,
          3,
          4,
          null,
          4,
          5,
          null,
          5,
          6,
          null,
          6,
          7,
          null,
          7,
          8,
          null,
          8,
          9,
          null
         ],
         "yaxis": "y"
        },
        {
         "customdata": [
          [
           "2023-02-13",
           "2023-02-24",
           "L1"
          ],
          [
           "2023-02-13",
           "2023-02-24",
           "L1"
          ],
          [
           null,
           null,
           null
          ],
          [
           "2023-02-13",
           "2023-02-24",
           "L2"
          ],
          [
           "2023-02-13",
           "2023-02-24",
           "L2"
          ],
          [
           null,
           null,
           null
          ],
          [
           "2023-02-24",
           "2023-03-09",
           "L3"
          ],
          [
           "2023-02-24",
           "2023-03-09",
           "L3"
          ],
          [
           null,
           null,
           null
          ],
          [
           "2023-03-03",
           "2023-03-16",
           "L4"
          ],
          [
           "2023-03-03",
           "2023-03-16",
           "L4"
          ],
          [
           null,
           null,
           null
          ],
          [
           "2023-03-15",
           "2023-03-28",
           "L5"
          ],
          [
           "2023-03-15",
           "2023-03-28",
           "L5"
          ],
          [
           null,
           null,
           null
          ],
          [
           "2023-03-27",
           "2023-04-11",
           "L6"
          ],
          [
           "2023-03-27",
           "2023-04-11",
           "L6"
          ],
          [
           null,
           null,
           null
          ],
          [
           "2023-04-13",
           "2023-04-26",
           "L7"
          ],
          [
           "2023-04-13",
           "2023-04-26",
           "L7"
          ],
          [
           null,
           null,
           null
          ],
          [
           "2023-04-27",
           "2023-05-11",
           "L8"
          ],
          [
           "2023-04-27",
           "2023-05-11",
           "L8"
          ],
          [
           null,
           null,
           null
          ]
         ],
         "hovertemplate": "Initial Date: %{customdata[0]}<br>Final Date: %{customdata[1]}<br>Level: %{customdata[2]}",
         "legendgroup": "2, 2",
         "line": {
          "color": "#FF9900",
          "dash": "dash"
         },
         "marker": {
          "symbol": "circle"
         },
         "mode": "lines",
         "name": "Internal walls 2nd Drylining Visit Planned",
         "orientation": "v",
         "showlegend": true,
         "type": "scatter",
         "x": [
          "2023-02-13T00:00:00",
          "2023-02-24T23:00:00",
          null,
          "2023-02-13T00:00:00",
          "2023-02-24T23:00:00",
          null,
          "2023-02-24T00:00:00",
          "2023-03-09T23:00:00",
          null,
          "2023-03-03T00:00:00",
          "2023-03-16T23:00:00",
          null,
          "2023-03-15T00:00:00",
          "2023-03-28T23:00:00",
          null,
          "2023-03-27T00:00:00",
          "2023-04-11T23:00:00",
          null,
          "2023-04-13T00:00:00",
          "2023-04-26T23:00:00",
          null,
          "2023-04-27T00:00:00",
          "2023-05-11T23:00:00",
          null
         ],
         "xaxis": "x",
         "y": [
          1,
          2,
          null,
          2,
          3,
          null,
          3,
          4,
          null,
          4,
          5,
          null,
          5,
          6,
          null,
          6,
          7,
          null,
          7,
          8,
          null,
          8,
          9,
          null
         ],
         "yaxis": "y"
        },
        {
         "customdata": [
          [
           "2023-02-27",
           "2023-03-14",
           "L1"
          ],
          [
           "2023-02-27",
           "2023-03-14",
           "L1"
          ],
          [
           null,
           null,
           null
          ],
          [
           "2023-02-27",
           "2023-03-14",
           "L2"
          ],
          [
           "2023-02-27",
           "2023-03-14",
           "L2"
          ],
          [
           null,
           null,
           null
          ],
          [
           "2023-03-10",
           "2023-03-27",
           "L3"
          ],
          [
           "2023-03-10",
           "2023-03-27",
           "L3"
          ],
          [
           null,
           null,
           null
          ],
          [
           "2023-03-17",
           "2023-04-03",
           "L4"
          ],
          [
           "2023-03-17",
           "2023-04-03",
           "L4"
          ],
          [
           null,
           null,
           null
          ],
          [
           "2023-03-29",
           "2023-04-17",
           "L5"
          ],
          [
           "2023-03-29",
           "2023-04-17",
           "L5"
          ],
          [
           null,
           null,
           null
          ],
          [
           "2023-04-12",
           "2023-04-27",
           "L6"
          ],
          [
           "2023-04-12",
           "2023-04-27",
           "L6"
          ],
          [
           null,
           null,
           null
          ],
          [
           "2023-04-27",
           "2023-05-15",
           "L7"
          ],
          [
           "2023-04-27",
           "2023-05-15",
           "L7"
          ],
          [
           null,
           null,
           null
          ],
          [
           "2023-05-12",
           "2023-05-30",
           "L8"
          ],
          [
           "2023-05-12",
           "2023-05-30",
           "L8"
          ],
          [
           null,
           null,
           null
          ]
         ],
         "hovertemplate": "Initial Date: %{customdata[0]}<br>Final Date: %{customdata[1]}<br>Level: %{customdata[2]}",
         "legendgroup": "3, 3",
         "line": {
          "color": "#109618",
          "dash": "dash"
         },
         "marker": {
          "symbol": "circle"
         },
         "mode": "lines",
         "name": "HL MEP Services (2nd Fix) Planned",
         "orientation": "v",
         "showlegend": true,
         "type": "scatter",
         "x": [
          "2023-02-27T00:00:00",
          "2023-03-14T23:00:00",
          null,
          "2023-02-27T00:00:00",
          "2023-03-14T23:00:00",
          null,
          "2023-03-10T00:00:00",
          "2023-03-27T23:00:00",
          null,
          "2023-03-17T00:00:00",
          "2023-04-03T23:00:00",
          null,
          "2023-03-29T00:00:00",
          "2023-04-17T23:00:00",
          null,
          "2023-04-12T00:00:00",
          "2023-04-27T23:00:00",
          null,
          "2023-04-27T00:00:00",
          "2023-05-15T23:00:00",
          null,
          "2023-05-12T00:00:00",
          "2023-05-30T23:00:00",
          null
         ],
         "xaxis": "x",
         "y": [
          1,
          2,
          null,
          2,
          3,
          null,
          3,
          4,
          null,
          4,
          5,
          null,
          5,
          6,
          null,
          6,
          7,
          null,
          7,
          8,
          null,
          8,
          9,
          null
         ],
         "yaxis": "y"
        },
        {
         "customdata": [
          [
           "2023-03-17",
           "2023-04-19",
           "L1"
          ],
          [
           "2023-03-17",
           "2023-04-19",
           "L1"
          ],
          [
           null,
           null,
           null
          ],
          [
           "2023-03-17",
           "2023-04-19",
           "L2"
          ],
          [
           "2023-03-17",
           "2023-04-19",
           "L2"
          ],
          [
           null,
           null,
           null
          ],
          [
           "2023-03-30",
           "2023-05-03",
           "L3"
          ],
          [
           "2023-03-30",
           "2023-05-03",
           "L3"
          ],
          [
           null,
           null,
           null
          ],
          [
           "2023-04-06",
           "2023-05-10",
           "L4"
          ],
          [
           "2023-04-06",
           "2023-05-10",
           "L4"
          ],
          [
           null,
           null,
           null
          ],
          [
           "2023-04-20",
           "2023-05-22",
           "L5"
          ],
          [
           "2023-04-20",
           "2023-05-22",
           "L5"
          ],
          [
           null,
           null,
           null
          ],
          [
           "2023-05-03",
           "2023-06-02",
           "L6"
          ],
          [
           "2023-05-03",
           "2023-06-02",
           "L6"
          ],
          [
           null,
           null,
           null
          ],
          [
           "2023-05-18",
           "2023-06-19",
           "L7"
          ],
          [
           "2023-05-18",
           "2023-06-19",
           "L7"
          ],
          [
           null,
           null,
           null
          ],
          [
           "2023-06-02",
           "2023-07-03",
           "L8"
          ],
          [
           "2023-06-02",
           "2023-07-03",
           "L8"
          ],
          [
           null,
           null,
           null
          ]
         ],
         "hovertemplate": "Initial Date: %{customdata[0]}<br>Final Date: %{customdata[1]}<br>Level: %{customdata[2]}",
         "legendgroup": "4, 4",
         "line": {
          "color": "#990099",
          "dash": "dash"
         },
         "marker": {
          "symbol": "circle"
         },
         "mode": "lines",
         "name": "Final Drylining / Install Ceilings Planned",
         "orientation": "v",
         "showlegend": true,
         "type": "scatter",
         "x": [
          "2023-03-17T00:00:00",
          "2023-04-19T23:00:00",
          null,
          "2023-03-17T00:00:00",
          "2023-04-19T23:00:00",
          null,
          "2023-03-30T00:00:00",
          "2023-05-03T23:00:00",
          null,
          "2023-04-06T00:00:00",
          "2023-05-10T23:00:00",
          null,
          "2023-04-20T00:00:00",
          "2023-05-22T23:00:00",
          null,
          "2023-05-03T00:00:00",
          "2023-06-02T23:00:00",
          null,
          "2023-05-18T00:00:00",
          "2023-06-19T23:00:00",
          null,
          "2023-06-02T00:00:00",
          "2023-07-03T23:00:00",
          null
         ],
         "xaxis": "x",
         "y": [
          1,
          2,
          null,
          2,
          3,
          null,
          3,
          4,
          null,
          4,
          5,
          null,
          5,
          6,
          null,
          6,
          7,
          null,
          7,
          8,
          null,
          8,
          9,
          null
         ],
         "yaxis": "y"
        },
        {
         "customdata": [
          [
           "2023-04-19",
           "2023-06-01",
           "L1"
          ],
          [
           "2023-04-19",
           "2023-06-01",
           "L1"
          ],
          [
           null,
           null,
           null
          ],
          [
           "2023-04-19",
           "2023-06-01",
           "L2"
          ],
          [
           "2023-04-19",
           "2023-06-01",
           "L2"
          ],
          [
           null,
           null,
           null
          ],
          [
           "2023-05-03",
           "2023-06-14",
           "L3"
          ],
          [
           "2023-05-03",
           "2023-06-14",
           "L3"
          ],
          [
           null,
           null,
           null
          ],
          [
           "2023-05-10",
           "2023-06-21",
           "L4"
          ],
          [
           "2023-05-10",
           "2023-06-21",
           "L4"
          ],
          [
           null,
           null,
           null
          ],
          [
           "2023-05-22",
           "2023-07-03",
           "L5"
          ],
          [
           "2023-05-22",
           "2023-07-03",
           "L5"
          ],
          [
           null,
           null,
           null
          ],
          [
           "2023-06-02",
           "2023-07-13",
           "L6"
          ],
          [
           "2023-06-02",
           "2023-07-13",
           "L6"
          ],
          [
           null,
           null,
           null
          ],
          [
           "2023-06-19",
           "2023-07-28",
           "L7"
          ],
          [
           "2023-06-19",
           "2023-07-28",
           "L7"
          ],
          [
           null,
           null,
           null
          ],
          [
           "2023-07-03",
           "2023-08-11",
           "L8"
          ],
          [
           "2023-07-03",
           "2023-08-11",
           "L8"
          ],
          [
           null,
           null,
           null
          ]
         ],
         "hovertemplate": "Initial Date: %{customdata[0]}<br>Final Date: %{customdata[1]}<br>Level: %{customdata[2]}",
         "legendgroup": "5, 5",
         "line": {
          "color": "#0099C6",
          "dash": "dash"
         },
         "marker": {
          "symbol": "circle"
         },
         "mode": "lines",
         "name": "Screed / Joinery / Kitchens Planned",
         "orientation": "v",
         "showlegend": true,
         "type": "scatter",
         "x": [
          "2023-04-19T00:00:00",
          "2023-06-01T23:00:00",
          null,
          "2023-04-19T00:00:00",
          "2023-06-01T23:00:00",
          null,
          "2023-05-03T00:00:00",
          "2023-06-14T23:00:00",
          null,
          "2023-05-10T00:00:00",
          "2023-06-21T23:00:00",
          null,
          "2023-05-22T00:00:00",
          "2023-07-03T23:00:00",
          null,
          "2023-06-02T00:00:00",
          "2023-07-13T23:00:00",
          null,
          "2023-06-19T00:00:00",
          "2023-07-28T23:00:00",
          null,
          "2023-07-03T00:00:00",
          "2023-08-11T23:00:00",
          null
         ],
         "xaxis": "x",
         "y": [
          1,
          2,
          null,
          2,
          3,
          null,
          3,
          4,
          null,
          4,
          5,
          null,
          5,
          6,
          null,
          6,
          7,
          null,
          7,
          8,
          null,
          8,
          9,
          null
         ],
         "yaxis": "y"
        },
        {
         "customdata": [
          [
           "2022-11-23",
           "2023-03-03",
           "L1"
          ],
          [
           "2022-11-23",
           "2023-03-03",
           "L1"
          ],
          [
           null,
           null,
           null
          ],
          [
           "2022-12-07",
           "2023-01-30",
           "L2"
          ],
          [
           "2022-12-07",
           "2023-01-30",
           "L2"
          ],
          [
           null,
           null,
           null
          ],
          [
           "2023-01-13",
           "2023-02-13",
           "L3"
          ],
          [
           "2023-01-13",
           "2023-02-13",
           "L3"
          ],
          [
           null,
           null,
           null
          ],
          [
           "2023-01-22",
           "2023-02-13",
           "L4"
          ],
          [
           "2023-01-22",
           "2023-02-13",
           "L4"
          ],
          [
           null,
           null,
           null
          ],
          [
           "2023-01-28",
           "2023-02-21",
           "L5"
          ],
          [
           "2023-01-28",
           "2023-02-21",
           "L5"
          ],
          [
           null,
           null,
           null
          ],
          [
           "2023-02-08",
           "2023-02-24",
           "L6"
          ],
          [
           "2023-02-08",
           "2023-02-24",
           "L6"
          ],
          [
           null,
           null,
           null
          ],
          [
           "2023-02-22",
           "2023-03-07",
           "L7"
          ],
          [
           "2023-02-22",
           "2023-03-07",
           "L7"
          ],
          [
           null,
           null,
           null
          ],
          [
           "2023-02-22",
           "2023-03-07",
           "L8"
          ],
          [
           "2023-02-22",
           "2023-03-07",
           "L8"
          ],
          [
           null,
           null,
           null
          ]
         ],
         "hovertemplate": "Initial Date: %{customdata[0]}<br>Final Date: %{customdata[1]}<br>Level: %{customdata[2]}",
         "legendgroup": "0",
         "line": {
          "color": "#3366CC",
          "dash": "solid"
         },
         "marker": {
          "symbol": "circle"
         },
         "mode": "lines",
         "name": "Demising Walls Actuals",
         "orientation": "v",
         "showlegend": true,
         "type": "scatter",
         "x": [
          "2022-11-23T00:00:00",
          "2023-03-03T23:00:00",
          null,
          "2022-12-07T00:00:00",
          "2023-01-30T23:00:00",
          null,
          "2023-01-13T00:00:00",
          "2023-02-13T23:00:00",
          null,
          "2023-01-22T00:00:00",
          "2023-02-13T23:00:00",
          null,
          "2023-01-28T00:00:00",
          "2023-02-21T23:00:00",
          null,
          "2023-02-08T00:00:00",
          "2023-02-24T23:00:00",
          null,
          "2023-02-22T00:00:00",
          "2023-03-07T23:00:00",
          null,
          "2023-02-22T00:00:00",
          "2023-03-07T23:00:00",
          null
         ],
         "xaxis": "x",
         "y": [
          1,
          2,
          null,
          2,
          3,
          null,
          3,
          4,
          null,
          4,
          5,
          null,
          5,
          6,
          null,
          6,
          7,
          null,
          7,
          8,
          null,
          8,
          9,
          null
         ],
         "yaxis": "y"
        },
        {
         "customdata": [
          [
           "2023-01-18",
           "2023-04-27",
           "L1"
          ],
          [
           "2023-01-18",
           "2023-04-27",
           "L1"
          ],
          [
           null,
           null,
           null
          ],
          [
           "2023-02-03",
           "2023-07-24",
           "L2"
          ],
          [
           "2023-02-03",
           "2023-07-24",
           "L2"
          ],
          [
           null,
           null,
           null
          ],
          [
           "2023-02-22",
           "2023-07-24",
           "L3"
          ],
          [
           "2023-02-22",
           "2023-07-24",
           "L3"
          ],
          [
           null,
           null,
           null
          ],
          [
           "2023-02-22",
           "2023-07-24",
           "L4"
          ],
          [
           "2023-02-22",
           "2023-07-24",
           "L4"
          ],
          [
           null,
           null,
           null
          ],
          [
           "2023-02-28",
           "2023-07-24",
           "L5"
          ],
          [
           "2023-02-28",
           "2023-07-24",
           "L5"
          ],
          [
           null,
           null,
           null
          ],
          [
           "2023-02-28",
           "2023-07-24",
           "L6"
          ],
          [
           "2023-02-28",
           "2023-07-24",
           "L6"
          ],
          [
           null,
           null,
           null
          ],
          [
           "2023-03-08",
           "2023-07-28",
           "L7"
          ],
          [
           "2023-03-08",
           "2023-07-28",
           "L7"
          ],
          [
           null,
           null,
           null
          ],
          [
           "2023-03-21",
           "2023-08-10",
           "L8"
          ],
          [
           "2023-03-21",
           "2023-08-10",
           "L8"
          ],
          [
           null,
           null,
           null
          ]
         ],
         "hovertemplate": "Initial Date: %{customdata[0]}<br>Final Date: %{customdata[1]}<br>Level: %{customdata[2]}",
         "legendgroup": "1",
         "line": {
          "color": "#DC3912",
          "dash": "solid"
         },
         "marker": {
          "symbol": "circle"
         },
         "mode": "lines",
         "name": "HL MEP Services (1st Fix) Actuals",
         "orientation": "v",
         "showlegend": true,
         "type": "scatter",
         "x": [
          "2023-01-18T00:00:00",
          "2023-04-27T23:00:00",
          null,
          "2023-02-03T00:00:00",
          "2023-07-24T23:00:00",
          null,
          "2023-02-22T00:00:00",
          "2023-07-24T23:00:00",
          null,
          "2023-02-22T00:00:00",
          "2023-07-24T23:00:00",
          null,
          "2023-02-28T00:00:00",
          "2023-07-24T23:00:00",
          null,
          "2023-02-28T00:00:00",
          "2023-07-24T23:00:00",
          null,
          "2023-03-08T00:00:00",
          "2023-07-28T23:00:00",
          null,
          "2023-03-21T00:00:00",
          "2023-08-10T23:00:00",
          null
         ],
         "xaxis": "x",
         "y": [
          1,
          2,
          null,
          2,
          3,
          null,
          3,
          4,
          null,
          4,
          5,
          null,
          5,
          6,
          null,
          6,
          7,
          null,
          7,
          8,
          null,
          8,
          9,
          null
         ],
         "yaxis": "y"
        },
        {
         "customdata": [
          [
           "2023-01-13",
           "2023-06-07",
           "L1"
          ],
          [
           "2023-01-13",
           "2023-06-07",
           "L1"
          ],
          [
           null,
           null,
           null
          ],
          [
           "2023-01-18",
           "2023-07-06",
           "L2"
          ],
          [
           "2023-01-18",
           "2023-07-06",
           "L2"
          ],
          [
           null,
           null,
           null
          ],
          [
           "2023-01-24",
           "2023-07-24",
           "L3"
          ],
          [
           "2023-01-24",
           "2023-07-24",
           "L3"
          ],
          [
           null,
           null,
           null
          ],
          [
           "2023-01-28",
           "2023-08-10",
           "L4"
          ],
          [
           "2023-01-28",
           "2023-08-10",
           "L4"
          ],
          [
           null,
           null,
           null
          ],
          [
           "2023-01-31",
           "2023-08-17",
           "L5"
          ],
          [
           "2023-01-31",
           "2023-08-17",
           "L5"
          ],
          [
           null,
           null,
           null
          ],
          [
           "2023-02-14",
           "2023-07-24",
           "L6"
          ],
          [
           "2023-02-14",
           "2023-07-24",
           "L6"
          ],
          [
           null,
           null,
           null
          ],
          [
           "2023-02-22",
           "2023-08-10",
           "L7"
          ],
          [
           "2023-02-22",
           "2023-08-10",
           "L7"
          ],
          [
           null,
           null,
           null
          ],
          [
           "2023-02-25",
           "2023-09-07",
           "L8"
          ],
          [
           "2023-02-25",
           "2023-09-07",
           "L8"
          ],
          [
           null,
           null,
           null
          ]
         ],
         "hovertemplate": "Initial Date: %{customdata[0]}<br>Final Date: %{customdata[1]}<br>Level: %{customdata[2]}",
         "legendgroup": "2",
         "line": {
          "color": "#FF9900",
          "dash": "solid"
         },
         "marker": {
          "symbol": "circle"
         },
         "mode": "lines",
         "name": "Internal walls 2nd Drylining Visit Actuals",
         "orientation": "v",
         "showlegend": true,
         "type": "scatter",
         "x": [
          "2023-01-13T00:00:00",
          "2023-06-07T23:00:00",
          null,
          "2023-01-18T00:00:00",
          "2023-07-06T23:00:00",
          null,
          "2023-01-24T00:00:00",
          "2023-07-24T23:00:00",
          null,
          "2023-01-28T00:00:00",
          "2023-08-10T23:00:00",
          null,
          "2023-01-31T00:00:00",
          "2023-08-17T23:00:00",
          null,
          "2023-02-14T00:00:00",
          "2023-07-24T23:00:00",
          null,
          "2023-02-22T00:00:00",
          "2023-08-10T23:00:00",
          null,
          "2023-02-25T00:00:00",
          "2023-09-07T23:00:00",
          null
         ],
         "xaxis": "x",
         "y": [
          1,
          2,
          null,
          2,
          3,
          null,
          3,
          4,
          null,
          4,
          5,
          null,
          5,
          6,
          null,
          6,
          7,
          null,
          7,
          8,
          null,
          8,
          9,
          null
         ],
         "yaxis": "y"
        },
        {
         "customdata": [
          [
           null,
           null,
           "L1"
          ],
          [
           null,
           null,
           "L1"
          ],
          [
           null,
           null,
           null
          ],
          [
           null,
           null,
           "L2"
          ],
          [
           null,
           null,
           "L2"
          ],
          [
           null,
           null,
           null
          ],
          [
           null,
           null,
           "L3"
          ],
          [
           null,
           null,
           "L3"
          ],
          [
           null,
           null,
           null
          ],
          [
           null,
           null,
           "L4"
          ],
          [
           null,
           null,
           "L4"
          ],
          [
           null,
           null,
           null
          ],
          [
           null,
           null,
           "L5"
          ],
          [
           null,
           null,
           "L5"
          ],
          [
           null,
           null,
           null
          ],
          [
           null,
           null,
           "L6"
          ],
          [
           null,
           null,
           "L6"
          ],
          [
           null,
           null,
           null
          ],
          [
           null,
           null,
           "L7"
          ],
          [
           null,
           null,
           "L7"
          ],
          [
           null,
           null,
           null
          ],
          [
           null,
           null,
           "L8"
          ],
          [
           null,
           null,
           "L8"
          ],
          [
           null,
           null,
           null
          ]
         ],
         "hovertemplate": "Initial Date: %{customdata[0]}<br>Final Date: %{customdata[1]}<br>Level: %{customdata[2]}",
         "legendgroup": "3",
         "line": {
          "color": "#109618",
          "dash": "solid"
         },
         "marker": {
          "symbol": "circle"
         },
         "mode": "lines",
         "name": "HL MEP Services (2nd Fix) Actuals",
         "orientation": "v",
         "showlegend": true,
         "type": "scatter",
         "x": [
          null,
          null,
          null,
          null,
          null,
          null,
          null,
          null,
          null,
          null,
          null,
          null,
          null,
          null,
          null,
          null,
          null,
          null,
          null,
          null,
          null,
          null,
          null,
          null
         ],
         "xaxis": "x",
         "y": [
          1,
          2,
          null,
          2,
          3,
          null,
          3,
          4,
          null,
          4,
          5,
          null,
          5,
          6,
          null,
          6,
          7,
          null,
          7,
          8,
          null,
          8,
          9,
          null
         ],
         "yaxis": "y"
        },
        {
         "customdata": [
          [
           "2023-03-17",
           "2023-08-17",
           "L1"
          ],
          [
           "2023-03-17",
           "2023-08-17",
           "L1"
          ],
          [
           null,
           null,
           null
          ],
          [
           "2023-06-06",
           "2023-08-03",
           "L2"
          ],
          [
           "2023-06-06",
           "2023-08-03",
           "L2"
          ],
          [
           null,
           null,
           null
          ],
          [
           "2023-06-10",
           "2023-08-17",
           "L3"
          ],
          [
           "2023-06-10",
           "2023-08-17",
           "L3"
          ],
          [
           null,
           null,
           null
          ],
          [
           "2023-06-23",
           "2023-08-17",
           "L4"
          ],
          [
           "2023-06-23",
           "2023-08-17",
           "L4"
          ],
          [
           null,
           null,
           null
          ],
          [
           "2023-07-07",
           "2023-08-17",
           "L5"
          ],
          [
           "2023-07-07",
           "2023-08-17",
           "L5"
          ],
          [
           null,
           null,
           null
          ],
          [
           "2023-07-23",
           "2023-08-10",
           "L6"
          ],
          [
           "2023-07-23",
           "2023-08-10",
           "L6"
          ],
          [
           null,
           null,
           null
          ],
          [
           "2023-07-29",
           "2023-08-17",
           "L7"
          ],
          [
           "2023-07-29",
           "2023-08-17",
           "L7"
          ],
          [
           null,
           null,
           null
          ],
          [
           "2023-08-04",
           "2023-09-07",
           "L8"
          ],
          [
           "2023-08-04",
           "2023-09-07",
           "L8"
          ],
          [
           null,
           null,
           null
          ]
         ],
         "hovertemplate": "Initial Date: %{customdata[0]}<br>Final Date: %{customdata[1]}<br>Level: %{customdata[2]}",
         "legendgroup": "4",
         "line": {
          "color": "#990099",
          "dash": "solid"
         },
         "marker": {
          "symbol": "circle"
         },
         "mode": "lines",
         "name": "Final Drylining / Install Ceilings Actuals",
         "orientation": "v",
         "showlegend": true,
         "type": "scatter",
         "x": [
          "2023-03-17T00:00:00",
          "2023-08-17T23:00:00",
          null,
          "2023-06-06T00:00:00",
          "2023-08-03T23:00:00",
          null,
          "2023-06-10T00:00:00",
          "2023-08-17T23:00:00",
          null,
          "2023-06-23T00:00:00",
          "2023-08-17T23:00:00",
          null,
          "2023-07-07T00:00:00",
          "2023-08-17T23:00:00",
          null,
          "2023-07-23T00:00:00",
          "2023-08-10T23:00:00",
          null,
          "2023-07-29T00:00:00",
          "2023-08-17T23:00:00",
          null,
          "2023-08-04T00:00:00",
          "2023-09-07T23:00:00",
          null
         ],
         "xaxis": "x",
         "y": [
          1,
          2,
          null,
          2,
          3,
          null,
          3,
          4,
          null,
          4,
          5,
          null,
          5,
          6,
          null,
          6,
          7,
          null,
          7,
          8,
          null,
          8,
          9,
          null
         ],
         "yaxis": "y"
        },
        {
         "customdata": [
          [
           "2023-03-31",
           "2023-07-13",
           "L1"
          ],
          [
           "2023-03-31",
           "2023-07-13",
           "L1"
          ],
          [
           null,
           null,
           null
          ],
          [
           "2023-06-23",
           "2023-08-03",
           "L2"
          ],
          [
           "2023-06-23",
           "2023-08-03",
           "L2"
          ],
          [
           null,
           null,
           null
          ],
          [
           "2023-07-07",
           "2023-08-10",
           "L3"
          ],
          [
           "2023-07-07",
           "2023-08-10",
           "L3"
          ],
          [
           null,
           null,
           null
          ],
          [
           "2023-07-29",
           "2023-08-17",
           "L4"
          ],
          [
           "2023-07-29",
           "2023-08-17",
           "L4"
          ],
          [
           null,
           null,
           null
          ],
          [
           "2023-07-29",
           "2023-09-07",
           "L5"
          ],
          [
           "2023-07-29",
           "2023-09-07",
           "L5"
          ],
          [
           null,
           null,
           null
          ],
          [
           "2023-08-04",
           "2023-09-14",
           "L6"
          ],
          [
           "2023-08-04",
           "2023-09-14",
           "L6"
          ],
          [
           null,
           null,
           null
          ],
          [
           "2023-08-11",
           "2023-10-14",
           "L7"
          ],
          [
           "2023-08-11",
           "2023-10-14",
           "L7"
          ],
          [
           null,
           null,
           null
          ],
          [
           "2023-09-01",
           "2023-11-21",
           "L8"
          ],
          [
           "2023-09-01",
           "2023-11-21",
           "L8"
          ],
          [
           null,
           null,
           null
          ]
         ],
         "hovertemplate": "Initial Date: %{customdata[0]}<br>Final Date: %{customdata[1]}<br>Level: %{customdata[2]}",
         "legendgroup": "5",
         "line": {
          "color": "#0099C6",
          "dash": "solid"
         },
         "marker": {
          "symbol": "circle"
         },
         "mode": "lines",
         "name": "Screed / Joinery / Kitchens Actuals",
         "orientation": "v",
         "showlegend": true,
         "type": "scatter",
         "x": [
          "2023-03-31T00:00:00",
          "2023-07-13T23:00:00",
          null,
          "2023-06-23T00:00:00",
          "2023-08-03T23:00:00",
          null,
          "2023-07-07T00:00:00",
          "2023-08-10T23:00:00",
          null,
          "2023-07-29T00:00:00",
          "2023-08-17T23:00:00",
          null,
          "2023-07-29T00:00:00",
          "2023-09-07T23:00:00",
          null,
          "2023-08-04T00:00:00",
          "2023-09-14T23:00:00",
          null,
          "2023-08-11T00:00:00",
          "2023-10-14T08:55:23.886048",
          null,
          "2023-09-01T00:00:00",
          "2023-11-21T07:12:41.873990",
          null
         ],
         "xaxis": "x",
         "y": [
          1,
          2,
          null,
          2,
          3,
          null,
          3,
          4,
          null,
          4,
          5,
          null,
          5,
          6,
          null,
          6,
          7,
          null,
          7,
          8,
          null,
          8,
          9,
          null
         ],
         "yaxis": "y"
        }
       ],
       "layout": {
        "annotations": [
         {
          "font": {
           "size": 12
          },
          "showarrow": false,
          "text": "<b>L1<b>",
          "x": -0.030434782608695653,
          "xref": "paper",
          "y": 1.5,
          "yref": "y"
         },
         {
          "font": {
           "size": 12
          },
          "showarrow": false,
          "text": "<b>L2<b>",
          "x": -0.030434782608695653,
          "xref": "paper",
          "y": 2.5,
          "yref": "y"
         },
         {
          "font": {
           "size": 12
          },
          "showarrow": false,
          "text": "<b>L3<b>",
          "x": -0.030434782608695653,
          "xref": "paper",
          "y": 3.5,
          "yref": "y"
         },
         {
          "font": {
           "size": 12
          },
          "showarrow": false,
          "text": "<b>L4<b>",
          "x": -0.030434782608695653,
          "xref": "paper",
          "y": 4.5,
          "yref": "y"
         },
         {
          "font": {
           "size": 12
          },
          "showarrow": false,
          "text": "<b>L5<b>",
          "x": -0.030434782608695653,
          "xref": "paper",
          "y": 5.5,
          "yref": "y"
         },
         {
          "font": {
           "size": 12
          },
          "showarrow": false,
          "text": "<b>L6<b>",
          "x": -0.030434782608695653,
          "xref": "paper",
          "y": 6.5,
          "yref": "y"
         },
         {
          "font": {
           "size": 12
          },
          "showarrow": false,
          "text": "<b>L7<b>",
          "x": -0.030434782608695653,
          "xref": "paper",
          "y": 7.5,
          "yref": "y"
         },
         {
          "font": {
           "size": 12
          },
          "showarrow": false,
          "text": "<b>L8<b>",
          "x": -0.030434782608695653,
          "xref": "paper",
          "y": 8.5,
          "yref": "y"
         }
        ],
        "height": 860,
        "legend": {
         "tracegroupgap": 0
        },
        "shapes": [
         {
          "fillcolor": "#eaeaf2",
          "line": {
           "color": "#ffffff",
           "width": 1.5
          },
          "opacity": 1,
          "type": "rect",
          "x0": -0.030434782608695653,
          "x1": 0,
          "xref": "paper",
          "y0": 0,
          "y1": 1,
          "yref": "paper"
         },
         {
          "line": {
           "color": "#ffffff",
           "width": 1.5
          },
          "opacity": 1,
          "type": "line",
          "x0": -0.030434782608695653,
          "x1": 0,
          "xref": "paper",
          "y0": 1,
          "y1": 1,
          "yref": "y"
         },
         {
          "line": {
           "color": "#ffffff",
           "width": 1.5
          },
          "opacity": 1,
          "type": "line",
          "x0": -0.030434782608695653,
          "x1": 0,
          "xref": "paper",
          "y0": 2,
          "y1": 2,
          "yref": "y"
         },
         {
          "line": {
           "color": "#ffffff",
           "width": 1.5
          },
          "opacity": 1,
          "type": "line",
          "x0": -0.030434782608695653,
          "x1": 0,
          "xref": "paper",
          "y0": 3,
          "y1": 3,
          "yref": "y"
         },
         {
          "line": {
           "color": "#ffffff",
           "width": 1.5
          },
          "opacity": 1,
          "type": "line",
          "x0": -0.030434782608695653,
          "x1": 0,
          "xref": "paper",
          "y0": 4,
          "y1": 4,
          "yref": "y"
         },
         {
          "line": {
           "color": "#ffffff",
           "width": 1.5
          },
          "opacity": 1,
          "type": "line",
          "x0": -0.030434782608695653,
          "x1": 0,
          "xref": "paper",
          "y0": 5,
          "y1": 5,
          "yref": "y"
         },
         {
          "line": {
           "color": "#ffffff",
           "width": 1.5
          },
          "opacity": 1,
          "type": "line",
          "x0": -0.030434782608695653,
          "x1": 0,
          "xref": "paper",
          "y0": 6,
          "y1": 6,
          "yref": "y"
         },
         {
          "line": {
           "color": "#ffffff",
           "width": 1.5
          },
          "opacity": 1,
          "type": "line",
          "x0": -0.030434782608695653,
          "x1": 0,
          "xref": "paper",
          "y0": 7,
          "y1": 7,
          "yref": "y"
         },
         {
          "line": {
           "color": "#ffffff",
           "width": 1.5
          },
          "opacity": 1,
          "type": "line",
          "x0": -0.030434782608695653,
          "x1": 0,
          "xref": "paper",
          "y0": 8,
          "y1": 8,
          "yref": "y"
         },
         {
          "line": {
           "color": "#ffffff",
           "width": 1.5
          },
          "opacity": 1,
          "type": "line",
          "x0": -0.030434782608695653,
          "x1": 0,
          "xref": "paper",
          "y0": 9,
          "y1": 9,
          "yref": "y"
         }
        ],
        "template": {
         "data": {
          "bar": [
           {
            "error_x": {
             "color": "rgb(36,36,36)"
            },
            "error_y": {
             "color": "rgb(36,36,36)"
            },
            "marker": {
             "line": {
              "color": "rgb(234,234,242)",
              "width": 0.5
             },
             "pattern": {
              "fillmode": "overlay",
              "size": 10,
              "solidity": 0.2
             }
            },
            "type": "bar"
           }
          ],
          "barpolar": [
           {
            "marker": {
             "line": {
              "color": "rgb(234,234,242)",
              "width": 0.5
             },
             "pattern": {
              "fillmode": "overlay",
              "size": 10,
              "solidity": 0.2
             }
            },
            "type": "barpolar"
           }
          ],
          "carpet": [
           {
            "aaxis": {
             "endlinecolor": "rgb(36,36,36)",
             "gridcolor": "white",
             "linecolor": "white",
             "minorgridcolor": "white",
             "startlinecolor": "rgb(36,36,36)"
            },
            "baxis": {
             "endlinecolor": "rgb(36,36,36)",
             "gridcolor": "white",
             "linecolor": "white",
             "minorgridcolor": "white",
             "startlinecolor": "rgb(36,36,36)"
            },
            "type": "carpet"
           }
          ],
          "choropleth": [
           {
            "colorbar": {
             "outlinewidth": 0,
             "tickcolor": "rgb(36,36,36)",
             "ticklen": 8,
             "ticks": "outside",
             "tickwidth": 2
            },
            "type": "choropleth"
           }
          ],
          "contour": [
           {
            "colorbar": {
             "outlinewidth": 0,
             "tickcolor": "rgb(36,36,36)",
             "ticklen": 8,
             "ticks": "outside",
             "tickwidth": 2
            },
            "colorscale": [
             [
              0,
              "rgb(2,4,25)"
             ],
             [
              0.06274509803921569,
              "rgb(24,15,41)"
             ],
             [
              0.12549019607843137,
              "rgb(47,23,57)"
             ],
             [
              0.18823529411764706,
              "rgb(71,28,72)"
             ],
             [
              0.25098039215686274,
              "rgb(97,30,82)"
             ],
             [
              0.3137254901960784,
              "rgb(123,30,89)"
             ],
             [
              0.3764705882352941,
              "rgb(150,27,91)"
             ],
             [
              0.4392156862745098,
              "rgb(177,22,88)"
             ],
             [
              0.5019607843137255,
              "rgb(203,26,79)"
             ],
             [
              0.5647058823529412,
              "rgb(223,47,67)"
             ],
             [
              0.6274509803921569,
              "rgb(236,76,61)"
             ],
             [
              0.6901960784313725,
              "rgb(242,107,73)"
             ],
             [
              0.7529411764705882,
              "rgb(244,135,95)"
             ],
             [
              0.8156862745098039,
              "rgb(245,162,122)"
             ],
             [
              0.8784313725490196,
              "rgb(246,188,153)"
             ],
             [
              0.9411764705882353,
              "rgb(247,212,187)"
             ],
             [
              1,
              "rgb(250,234,220)"
             ]
            ],
            "type": "contour"
           }
          ],
          "contourcarpet": [
           {
            "colorbar": {
             "outlinewidth": 0,
             "tickcolor": "rgb(36,36,36)",
             "ticklen": 8,
             "ticks": "outside",
             "tickwidth": 2
            },
            "type": "contourcarpet"
           }
          ],
          "heatmap": [
           {
            "colorbar": {
             "outlinewidth": 0,
             "tickcolor": "rgb(36,36,36)",
             "ticklen": 8,
             "ticks": "outside",
             "tickwidth": 2
            },
            "colorscale": [
             [
              0,
              "rgb(2,4,25)"
             ],
             [
              0.06274509803921569,
              "rgb(24,15,41)"
             ],
             [
              0.12549019607843137,
              "rgb(47,23,57)"
             ],
             [
              0.18823529411764706,
              "rgb(71,28,72)"
             ],
             [
              0.25098039215686274,
              "rgb(97,30,82)"
             ],
             [
              0.3137254901960784,
              "rgb(123,30,89)"
             ],
             [
              0.3764705882352941,
              "rgb(150,27,91)"
             ],
             [
              0.4392156862745098,
              "rgb(177,22,88)"
             ],
             [
              0.5019607843137255,
              "rgb(203,26,79)"
             ],
             [
              0.5647058823529412,
              "rgb(223,47,67)"
             ],
             [
              0.6274509803921569,
              "rgb(236,76,61)"
             ],
             [
              0.6901960784313725,
              "rgb(242,107,73)"
             ],
             [
              0.7529411764705882,
              "rgb(244,135,95)"
             ],
             [
              0.8156862745098039,
              "rgb(245,162,122)"
             ],
             [
              0.8784313725490196,
              "rgb(246,188,153)"
             ],
             [
              0.9411764705882353,
              "rgb(247,212,187)"
             ],
             [
              1,
              "rgb(250,234,220)"
             ]
            ],
            "type": "heatmap"
           }
          ],
          "heatmapgl": [
           {
            "colorbar": {
             "outlinewidth": 0,
             "tickcolor": "rgb(36,36,36)",
             "ticklen": 8,
             "ticks": "outside",
             "tickwidth": 2
            },
            "colorscale": [
             [
              0,
              "rgb(2,4,25)"
             ],
             [
              0.06274509803921569,
              "rgb(24,15,41)"
             ],
             [
              0.12549019607843137,
              "rgb(47,23,57)"
             ],
             [
              0.18823529411764706,
              "rgb(71,28,72)"
             ],
             [
              0.25098039215686274,
              "rgb(97,30,82)"
             ],
             [
              0.3137254901960784,
              "rgb(123,30,89)"
             ],
             [
              0.3764705882352941,
              "rgb(150,27,91)"
             ],
             [
              0.4392156862745098,
              "rgb(177,22,88)"
             ],
             [
              0.5019607843137255,
              "rgb(203,26,79)"
             ],
             [
              0.5647058823529412,
              "rgb(223,47,67)"
             ],
             [
              0.6274509803921569,
              "rgb(236,76,61)"
             ],
             [
              0.6901960784313725,
              "rgb(242,107,73)"
             ],
             [
              0.7529411764705882,
              "rgb(244,135,95)"
             ],
             [
              0.8156862745098039,
              "rgb(245,162,122)"
             ],
             [
              0.8784313725490196,
              "rgb(246,188,153)"
             ],
             [
              0.9411764705882353,
              "rgb(247,212,187)"
             ],
             [
              1,
              "rgb(250,234,220)"
             ]
            ],
            "type": "heatmapgl"
           }
          ],
          "histogram": [
           {
            "marker": {
             "pattern": {
              "fillmode": "overlay",
              "size": 10,
              "solidity": 0.2
             }
            },
            "type": "histogram"
           }
          ],
          "histogram2d": [
           {
            "colorbar": {
             "outlinewidth": 0,
             "tickcolor": "rgb(36,36,36)",
             "ticklen": 8,
             "ticks": "outside",
             "tickwidth": 2
            },
            "colorscale": [
             [
              0,
              "rgb(2,4,25)"
             ],
             [
              0.06274509803921569,
              "rgb(24,15,41)"
             ],
             [
              0.12549019607843137,
              "rgb(47,23,57)"
             ],
             [
              0.18823529411764706,
              "rgb(71,28,72)"
             ],
             [
              0.25098039215686274,
              "rgb(97,30,82)"
             ],
             [
              0.3137254901960784,
              "rgb(123,30,89)"
             ],
             [
              0.3764705882352941,
              "rgb(150,27,91)"
             ],
             [
              0.4392156862745098,
              "rgb(177,22,88)"
             ],
             [
              0.5019607843137255,
              "rgb(203,26,79)"
             ],
             [
              0.5647058823529412,
              "rgb(223,47,67)"
             ],
             [
              0.6274509803921569,
              "rgb(236,76,61)"
             ],
             [
              0.6901960784313725,
              "rgb(242,107,73)"
             ],
             [
              0.7529411764705882,
              "rgb(244,135,95)"
             ],
             [
              0.8156862745098039,
              "rgb(245,162,122)"
             ],
             [
              0.8784313725490196,
              "rgb(246,188,153)"
             ],
             [
              0.9411764705882353,
              "rgb(247,212,187)"
             ],
             [
              1,
              "rgb(250,234,220)"
             ]
            ],
            "type": "histogram2d"
           }
          ],
          "histogram2dcontour": [
           {
            "colorbar": {
             "outlinewidth": 0,
             "tickcolor": "rgb(36,36,36)",
             "ticklen": 8,
             "ticks": "outside",
             "tickwidth": 2
            },
            "colorscale": [
             [
              0,
              "rgb(2,4,25)"
             ],
             [
              0.06274509803921569,
              "rgb(24,15,41)"
             ],
             [
              0.12549019607843137,
              "rgb(47,23,57)"
             ],
             [
              0.18823529411764706,
              "rgb(71,28,72)"
             ],
             [
              0.25098039215686274,
              "rgb(97,30,82)"
             ],
             [
              0.3137254901960784,
              "rgb(123,30,89)"
             ],
             [
              0.3764705882352941,
              "rgb(150,27,91)"
             ],
             [
              0.4392156862745098,
              "rgb(177,22,88)"
             ],
             [
              0.5019607843137255,
              "rgb(203,26,79)"
             ],
             [
              0.5647058823529412,
              "rgb(223,47,67)"
             ],
             [
              0.6274509803921569,
              "rgb(236,76,61)"
             ],
             [
              0.6901960784313725,
              "rgb(242,107,73)"
             ],
             [
              0.7529411764705882,
              "rgb(244,135,95)"
             ],
             [
              0.8156862745098039,
              "rgb(245,162,122)"
             ],
             [
              0.8784313725490196,
              "rgb(246,188,153)"
             ],
             [
              0.9411764705882353,
              "rgb(247,212,187)"
             ],
             [
              1,
              "rgb(250,234,220)"
             ]
            ],
            "type": "histogram2dcontour"
           }
          ],
          "mesh3d": [
           {
            "colorbar": {
             "outlinewidth": 0,
             "tickcolor": "rgb(36,36,36)",
             "ticklen": 8,
             "ticks": "outside",
             "tickwidth": 2
            },
            "type": "mesh3d"
           }
          ],
          "parcoords": [
           {
            "line": {
             "colorbar": {
              "outlinewidth": 0,
              "tickcolor": "rgb(36,36,36)",
              "ticklen": 8,
              "ticks": "outside",
              "tickwidth": 2
             }
            },
            "type": "parcoords"
           }
          ],
          "pie": [
           {
            "automargin": true,
            "type": "pie"
           }
          ],
          "scatter": [
           {
            "marker": {
             "colorbar": {
              "outlinewidth": 0,
              "tickcolor": "rgb(36,36,36)",
              "ticklen": 8,
              "ticks": "outside",
              "tickwidth": 2
             }
            },
            "type": "scatter"
           }
          ],
          "scatter3d": [
           {
            "line": {
             "colorbar": {
              "outlinewidth": 0,
              "tickcolor": "rgb(36,36,36)",
              "ticklen": 8,
              "ticks": "outside",
              "tickwidth": 2
             }
            },
            "marker": {
             "colorbar": {
              "outlinewidth": 0,
              "tickcolor": "rgb(36,36,36)",
              "ticklen": 8,
              "ticks": "outside",
              "tickwidth": 2
             }
            },
            "type": "scatter3d"
           }
          ],
          "scattercarpet": [
           {
            "marker": {
             "colorbar": {
              "outlinewidth": 0,
              "tickcolor": "rgb(36,36,36)",
              "ticklen": 8,
              "ticks": "outside",
              "tickwidth": 2
             }
            },
            "type": "scattercarpet"
           }
          ],
          "scattergeo": [
           {
            "marker": {
             "colorbar": {
              "outlinewidth": 0,
              "tickcolor": "rgb(36,36,36)",
              "ticklen": 8,
              "ticks": "outside",
              "tickwidth": 2
             }
            },
            "type": "scattergeo"
           }
          ],
          "scattergl": [
           {
            "marker": {
             "colorbar": {
              "outlinewidth": 0,
              "tickcolor": "rgb(36,36,36)",
              "ticklen": 8,
              "ticks": "outside",
              "tickwidth": 2
             }
            },
            "type": "scattergl"
           }
          ],
          "scattermapbox": [
           {
            "marker": {
             "colorbar": {
              "outlinewidth": 0,
              "tickcolor": "rgb(36,36,36)",
              "ticklen": 8,
              "ticks": "outside",
              "tickwidth": 2
             }
            },
            "type": "scattermapbox"
           }
          ],
          "scatterpolar": [
           {
            "marker": {
             "colorbar": {
              "outlinewidth": 0,
              "tickcolor": "rgb(36,36,36)",
              "ticklen": 8,
              "ticks": "outside",
              "tickwidth": 2
             }
            },
            "type": "scatterpolar"
           }
          ],
          "scatterpolargl": [
           {
            "marker": {
             "colorbar": {
              "outlinewidth": 0,
              "tickcolor": "rgb(36,36,36)",
              "ticklen": 8,
              "ticks": "outside",
              "tickwidth": 2
             }
            },
            "type": "scatterpolargl"
           }
          ],
          "scatterternary": [
           {
            "marker": {
             "colorbar": {
              "outlinewidth": 0,
              "tickcolor": "rgb(36,36,36)",
              "ticklen": 8,
              "ticks": "outside",
              "tickwidth": 2
             }
            },
            "type": "scatterternary"
           }
          ],
          "surface": [
           {
            "colorbar": {
             "outlinewidth": 0,
             "tickcolor": "rgb(36,36,36)",
             "ticklen": 8,
             "ticks": "outside",
             "tickwidth": 2
            },
            "colorscale": [
             [
              0,
              "rgb(2,4,25)"
             ],
             [
              0.06274509803921569,
              "rgb(24,15,41)"
             ],
             [
              0.12549019607843137,
              "rgb(47,23,57)"
             ],
             [
              0.18823529411764706,
              "rgb(71,28,72)"
             ],
             [
              0.25098039215686274,
              "rgb(97,30,82)"
             ],
             [
              0.3137254901960784,
              "rgb(123,30,89)"
             ],
             [
              0.3764705882352941,
              "rgb(150,27,91)"
             ],
             [
              0.4392156862745098,
              "rgb(177,22,88)"
             ],
             [
              0.5019607843137255,
              "rgb(203,26,79)"
             ],
             [
              0.5647058823529412,
              "rgb(223,47,67)"
             ],
             [
              0.6274509803921569,
              "rgb(236,76,61)"
             ],
             [
              0.6901960784313725,
              "rgb(242,107,73)"
             ],
             [
              0.7529411764705882,
              "rgb(244,135,95)"
             ],
             [
              0.8156862745098039,
              "rgb(245,162,122)"
             ],
             [
              0.8784313725490196,
              "rgb(246,188,153)"
             ],
             [
              0.9411764705882353,
              "rgb(247,212,187)"
             ],
             [
              1,
              "rgb(250,234,220)"
             ]
            ],
            "type": "surface"
           }
          ],
          "table": [
           {
            "cells": {
             "fill": {
              "color": "rgb(231,231,240)"
             },
             "line": {
              "color": "white"
             }
            },
            "header": {
             "fill": {
              "color": "rgb(183,183,191)"
             },
             "line": {
              "color": "white"
             }
            },
            "type": "table"
           }
          ]
         },
         "layout": {
          "annotationdefaults": {
           "arrowcolor": "rgb(67,103,167)"
          },
          "autotypenumbers": "strict",
          "coloraxis": {
           "colorbar": {
            "outlinewidth": 0,
            "tickcolor": "rgb(36,36,36)",
            "ticklen": 8,
            "ticks": "outside",
            "tickwidth": 2
           }
          },
          "colorscale": {
           "sequential": [
            [
             0,
             "rgb(2,4,25)"
            ],
            [
             0.06274509803921569,
             "rgb(24,15,41)"
            ],
            [
             0.12549019607843137,
             "rgb(47,23,57)"
            ],
            [
             0.18823529411764706,
             "rgb(71,28,72)"
            ],
            [
             0.25098039215686274,
             "rgb(97,30,82)"
            ],
            [
             0.3137254901960784,
             "rgb(123,30,89)"
            ],
            [
             0.3764705882352941,
             "rgb(150,27,91)"
            ],
            [
             0.4392156862745098,
             "rgb(177,22,88)"
            ],
            [
             0.5019607843137255,
             "rgb(203,26,79)"
            ],
            [
             0.5647058823529412,
             "rgb(223,47,67)"
            ],
            [
             0.6274509803921569,
             "rgb(236,76,61)"
            ],
            [
             0.6901960784313725,
             "rgb(242,107,73)"
            ],
            [
             0.7529411764705882,
             "rgb(244,135,95)"
            ],
            [
             0.8156862745098039,
             "rgb(245,162,122)"
            ],
            [
             0.8784313725490196,
             "rgb(246,188,153)"
            ],
            [
             0.9411764705882353,
             "rgb(247,212,187)"
            ],
            [
             1,
             "rgb(250,234,220)"
            ]
           ],
           "sequentialminus": [
            [
             0,
             "rgb(2,4,25)"
            ],
            [
             0.06274509803921569,
             "rgb(24,15,41)"
            ],
            [
             0.12549019607843137,
             "rgb(47,23,57)"
            ],
            [
             0.18823529411764706,
             "rgb(71,28,72)"
            ],
            [
             0.25098039215686274,
             "rgb(97,30,82)"
            ],
            [
             0.3137254901960784,
             "rgb(123,30,89)"
            ],
            [
             0.3764705882352941,
             "rgb(150,27,91)"
            ],
            [
             0.4392156862745098,
             "rgb(177,22,88)"
            ],
            [
             0.5019607843137255,
             "rgb(203,26,79)"
            ],
            [
             0.5647058823529412,
             "rgb(223,47,67)"
            ],
            [
             0.6274509803921569,
             "rgb(236,76,61)"
            ],
            [
             0.6901960784313725,
             "rgb(242,107,73)"
            ],
            [
             0.7529411764705882,
             "rgb(244,135,95)"
            ],
            [
             0.8156862745098039,
             "rgb(245,162,122)"
            ],
            [
             0.8784313725490196,
             "rgb(246,188,153)"
            ],
            [
             0.9411764705882353,
             "rgb(247,212,187)"
            ],
            [
             1,
             "rgb(250,234,220)"
            ]
           ]
          },
          "colorway": [
           "rgb(76,114,176)",
           "rgb(221,132,82)",
           "rgb(85,168,104)",
           "rgb(196,78,82)",
           "rgb(129,114,179)",
           "rgb(147,120,96)",
           "rgb(218,139,195)",
           "rgb(140,140,140)",
           "rgb(204,185,116)",
           "rgb(100,181,205)"
          ],
          "font": {
           "color": "rgb(36,36,36)"
          },
          "geo": {
           "bgcolor": "white",
           "lakecolor": "white",
           "landcolor": "rgb(234,234,242)",
           "showlakes": true,
           "showland": true,
           "subunitcolor": "white"
          },
          "hoverlabel": {
           "align": "left"
          },
          "hovermode": "closest",
          "paper_bgcolor": "white",
          "plot_bgcolor": "rgb(234,234,242)",
          "polar": {
           "angularaxis": {
            "gridcolor": "white",
            "linecolor": "white",
            "showgrid": true,
            "ticks": ""
           },
           "bgcolor": "rgb(234,234,242)",
           "radialaxis": {
            "gridcolor": "white",
            "linecolor": "white",
            "showgrid": true,
            "ticks": ""
           }
          },
          "scene": {
           "xaxis": {
            "backgroundcolor": "rgb(234,234,242)",
            "gridcolor": "white",
            "gridwidth": 2,
            "linecolor": "white",
            "showbackground": true,
            "showgrid": true,
            "ticks": "",
            "zerolinecolor": "white"
           },
           "yaxis": {
            "backgroundcolor": "rgb(234,234,242)",
            "gridcolor": "white",
            "gridwidth": 2,
            "linecolor": "white",
            "showbackground": true,
            "showgrid": true,
            "ticks": "",
            "zerolinecolor": "white"
           },
           "zaxis": {
            "backgroundcolor": "rgb(234,234,242)",
            "gridcolor": "white",
            "gridwidth": 2,
            "linecolor": "white",
            "showbackground": true,
            "showgrid": true,
            "ticks": "",
            "zerolinecolor": "white"
           }
          },
          "shapedefaults": {
           "fillcolor": "rgb(67,103,167)",
           "line": {
            "width": 0
           },
           "opacity": 0.5
          },
          "ternary": {
           "aaxis": {
            "gridcolor": "white",
            "linecolor": "white",
            "showgrid": true,
            "ticks": ""
           },
           "baxis": {
            "gridcolor": "white",
            "linecolor": "white",
            "showgrid": true,
            "ticks": ""
           },
           "bgcolor": "rgb(234,234,242)",
           "caxis": {
            "gridcolor": "white",
            "linecolor": "white",
            "showgrid": true,
            "ticks": ""
           }
          },
          "xaxis": {
           "automargin": true,
           "gridcolor": "white",
           "linecolor": "white",
           "showgrid": true,
           "ticks": "",
           "title": {
            "standoff": 15
           },
           "zerolinecolor": "white"
          },
          "yaxis": {
           "automargin": true,
           "gridcolor": "white",
           "linecolor": "white",
           "showgrid": true,
           "ticks": "",
           "title": {
            "standoff": 15
           },
           "zerolinecolor": "white"
          }
         }
        },
        "title": {
         "text": "<b>Flowlines 6WP Plan v Actual South<b>"
        },
        "width": 1403,
        "xaxis": {
         "anchor": "y",
         "domain": [
          0,
          1
         ],
         "range": [
          "2022-10-26T00:00:00",
          "2023-11-26T07:12:41.873990"
         ],
         "title": {
          "text": "<b>Date<b>"
         }
        },
        "yaxis": {
         "anchor": "x",
         "domain": [
          0,
          1
         ],
         "range": [
          0.75,
          9.25
         ],
         "tickvals": [
          0,
          1,
          2,
          3,
          4,
          5,
          6,
          7,
          8,
          9
         ],
         "title": {
          "standoff": 30,
          "text": "<b>Floor<b>"
         }
        }
       }
      }
     },
     "metadata": {},
     "output_type": "display_data"
    },
    {
     "data": {
      "application/vnd.plotly.v1+json": {
       "config": {
        "plotlyServerURL": "https://plot.ly"
       },
       "data": [
        {
         "customdata": [
          [
           "2022-10-31",
           "2022-11-25",
           "L1"
          ],
          [
           "2022-10-31",
           "2022-11-25",
           "L1"
          ],
          [
           null,
           null,
           null
          ],
          [
           "2022-11-18",
           "2022-12-16",
           "L2"
          ],
          [
           "2022-11-18",
           "2022-12-16",
           "L2"
          ],
          [
           null,
           null,
           null
          ],
          [
           "2022-11-21",
           "2022-12-16",
           "L3"
          ],
          [
           "2022-11-21",
           "2022-12-16",
           "L3"
          ],
          [
           null,
           null,
           null
          ],
          [
           "2023-01-02",
           "2023-01-27",
           "L4"
          ],
          [
           "2023-01-02",
           "2023-01-27",
           "L4"
          ],
          [
           null,
           null,
           null
          ],
          [
           "2023-01-16",
           "2023-02-10",
           "L5"
          ],
          [
           "2023-01-16",
           "2023-02-10",
           "L5"
          ],
          [
           null,
           null,
           null
          ],
          [
           "2023-01-26",
           "2023-03-01",
           "L6"
          ],
          [
           "2023-01-26",
           "2023-03-01",
           "L6"
          ],
          [
           null,
           null,
           null
          ],
          [
           "2023-02-03",
           "2023-03-02",
           "L7"
          ],
          [
           "2023-02-03",
           "2023-03-02",
           "L7"
          ],
          [
           null,
           null,
           null
          ],
          [
           "2023-02-17",
           "2023-03-16",
           "L8"
          ],
          [
           "2023-02-17",
           "2023-03-16",
           "L8"
          ],
          [
           null,
           null,
           null
          ],
          [
           "2023-02-20",
           "2023-03-17",
           "L9"
          ],
          [
           "2023-02-20",
           "2023-03-17",
           "L9"
          ],
          [
           null,
           null,
           null
          ],
          [
           "2023-03-03",
           "2023-03-30",
           "L10"
          ],
          [
           "2023-03-03",
           "2023-03-30",
           "L10"
          ],
          [
           null,
           null,
           null
          ],
          [
           "2023-03-03",
           "2023-03-30",
           "L11"
          ],
          [
           "2023-03-03",
           "2023-03-30",
           "L11"
          ],
          [
           null,
           null,
           null
          ]
         ],
         "hovertemplate": "Initial Date: %{customdata[0]}<br>Final Date: %{customdata[1]}<br>Level: %{customdata[2]}",
         "legendgroup": "0, 0",
         "line": {
          "color": "#3366CC",
          "dash": "dash"
         },
         "marker": {
          "symbol": "circle"
         },
         "mode": "lines",
         "name": "Demising Walls Planned",
         "orientation": "v",
         "showlegend": true,
         "type": "scatter",
         "x": [
          "2022-10-31T00:00:00",
          "2022-11-25T23:00:00",
          null,
          "2022-11-18T00:00:00",
          "2022-12-16T23:00:00",
          null,
          "2022-11-21T00:00:00",
          "2022-12-16T23:00:00",
          null,
          "2023-01-02T00:00:00",
          "2023-01-27T23:00:00",
          null,
          "2023-01-16T00:00:00",
          "2023-02-10T23:00:00",
          null,
          "2023-01-26T00:00:00",
          "2023-03-01T23:00:00",
          null,
          "2023-02-03T00:00:00",
          "2023-03-02T23:00:00",
          null,
          "2023-02-17T00:00:00",
          "2023-03-16T23:00:00",
          null,
          "2023-02-20T00:00:00",
          "2023-03-17T23:00:00",
          null,
          "2023-03-03T00:00:00",
          "2023-03-30T23:00:00",
          null,
          "2023-03-03T00:00:00",
          "2023-03-30T23:00:00",
          null
         ],
         "xaxis": "x",
         "y": [
          0,
          1,
          null,
          1,
          2,
          null,
          2,
          3,
          null,
          3,
          4,
          null,
          4,
          5,
          null,
          5,
          6,
          null,
          6,
          7,
          null,
          7,
          8,
          null,
          8,
          9,
          null,
          9,
          10,
          null,
          10,
          11,
          null
         ],
         "yaxis": "y"
        },
        {
         "customdata": [
          [
           "2022-11-28",
           "2023-01-20",
           "L1"
          ],
          [
           "2022-11-28",
           "2023-01-20",
           "L1"
          ],
          [
           null,
           null,
           null
          ],
          [
           "2022-12-12",
           "2023-02-13",
           "L2"
          ],
          [
           "2022-12-12",
           "2023-02-13",
           "L2"
          ],
          [
           null,
           null,
           null
          ],
          [
           "2023-01-17",
           "2023-02-20",
           "L3"
          ],
          [
           "2023-01-17",
           "2023-02-20",
           "L3"
          ],
          [
           null,
           null,
           null
          ],
          [
           "2023-01-27",
           "2023-02-24",
           "L4"
          ],
          [
           "2023-01-27",
           "2023-02-24",
           "L4"
          ],
          [
           null,
           null,
           null
          ],
          [
           "2023-02-06",
           "2023-02-27",
           "L5"
          ],
          [
           "2023-02-06",
           "2023-02-27",
           "L5"
          ],
          [
           null,
           null,
           null
          ],
          [
           "2023-02-09",
           "2023-03-09",
           "L6"
          ],
          [
           "2023-02-09",
           "2023-03-09",
           "L6"
          ],
          [
           null,
           null,
           null
          ],
          [
           "2023-02-09",
           "2023-03-10",
           "L7"
          ],
          [
           "2023-02-09",
           "2023-03-10",
           "L7"
          ],
          [
           null,
           null,
           null
          ],
          [
           "2023-02-10",
           "2023-04-03",
           "L8"
          ],
          [
           "2023-02-10",
           "2023-04-03",
           "L8"
          ],
          [
           null,
           null,
           null
          ],
          [
           "2023-02-09",
           "2023-04-03",
           "L9"
          ],
          [
           "2023-02-09",
           "2023-04-03",
           "L9"
          ],
          [
           null,
           null,
           null
          ],
          [
           "2023-03-31",
           "2023-04-21",
           "L10"
          ],
          [
           "2023-03-31",
           "2023-04-21",
           "L10"
          ],
          [
           null,
           null,
           null
          ],
          [
           "2023-03-31",
           "2023-04-21",
           "L11"
          ],
          [
           "2023-03-31",
           "2023-04-21",
           "L11"
          ],
          [
           null,
           null,
           null
          ]
         ],
         "hovertemplate": "Initial Date: %{customdata[0]}<br>Final Date: %{customdata[1]}<br>Level: %{customdata[2]}",
         "legendgroup": "1, 1",
         "line": {
          "color": "#DC3912",
          "dash": "dash"
         },
         "marker": {
          "symbol": "circle"
         },
         "mode": "lines",
         "name": "HL MEP Services (1st Fix) Planned",
         "orientation": "v",
         "showlegend": true,
         "type": "scatter",
         "x": [
          "2022-11-28T00:00:00",
          "2023-01-20T23:00:00",
          null,
          "2022-12-12T00:00:00",
          "2023-02-13T23:00:00",
          null,
          "2023-01-17T00:00:00",
          "2023-02-20T23:00:00",
          null,
          "2023-01-27T00:00:00",
          "2023-02-24T23:00:00",
          null,
          "2023-02-06T00:00:00",
          "2023-02-27T23:00:00",
          null,
          "2023-02-09T00:00:00",
          "2023-03-09T23:00:00",
          null,
          "2023-02-09T00:00:00",
          "2023-03-10T23:00:00",
          null,
          "2023-02-10T00:00:00",
          "2023-04-03T23:00:00",
          null,
          "2023-02-09T00:00:00",
          "2023-04-03T23:00:00",
          null,
          "2023-03-31T00:00:00",
          "2023-04-21T23:00:00",
          null,
          "2023-03-31T00:00:00",
          "2023-04-21T23:00:00",
          null
         ],
         "xaxis": "x",
         "y": [
          0,
          1,
          null,
          1,
          2,
          null,
          2,
          3,
          null,
          3,
          4,
          null,
          4,
          5,
          null,
          5,
          6,
          null,
          6,
          7,
          null,
          7,
          8,
          null,
          8,
          9,
          null,
          9,
          10,
          null,
          10,
          11,
          null
         ],
         "yaxis": "y"
        },
        {
         "customdata": [
          [
           "2023-01-20",
           "2023-02-23",
           "L1"
          ],
          [
           "2023-01-20",
           "2023-02-23",
           "L1"
          ],
          [
           null,
           null,
           null
          ],
          [
           "2023-02-13",
           "2023-02-28",
           "L2"
          ],
          [
           "2023-02-13",
           "2023-02-28",
           "L2"
          ],
          [
           null,
           null,
           null
          ],
          [
           "2023-02-20",
           "2023-03-07",
           "L3"
          ],
          [
           "2023-02-20",
           "2023-03-07",
           "L3"
          ],
          [
           null,
           null,
           null
          ],
          [
           "2023-02-22",
           "2023-03-13",
           "L4"
          ],
          [
           "2023-02-22",
           "2023-03-13",
           "L4"
          ],
          [
           null,
           null,
           null
          ],
          [
           "2023-02-22",
           "2023-03-14",
           "L5"
          ],
          [
           "2023-02-22",
           "2023-03-14",
           "L5"
          ],
          [
           null,
           null,
           null
          ],
          [
           "2023-03-08",
           "2023-03-24",
           "L6"
          ],
          [
           "2023-03-08",
           "2023-03-24",
           "L6"
          ],
          [
           null,
           null,
           null
          ],
          [
           "2023-03-14",
           "2023-03-27",
           "L7"
          ],
          [
           "2023-03-14",
           "2023-03-27",
           "L7"
          ],
          [
           null,
           null,
           null
          ],
          [
           "2023-03-28",
           "2023-04-27",
           "L8"
          ],
          [
           "2023-03-28",
           "2023-04-27",
           "L8"
          ],
          [
           null,
           null,
           null
          ],
          [
           "2023-03-29",
           "2023-04-20",
           "L9"
          ],
          [
           "2023-03-29",
           "2023-04-20",
           "L9"
          ],
          [
           null,
           null,
           null
          ],
          [
           "2023-04-18",
           "2023-05-09",
           "L10"
          ],
          [
           "2023-04-18",
           "2023-05-09",
           "L10"
          ],
          [
           null,
           null,
           null
          ],
          [
           "2023-04-18",
           "2023-05-09",
           "L11"
          ],
          [
           "2023-04-18",
           "2023-05-09",
           "L11"
          ],
          [
           null,
           null,
           null
          ]
         ],
         "hovertemplate": "Initial Date: %{customdata[0]}<br>Final Date: %{customdata[1]}<br>Level: %{customdata[2]}",
         "legendgroup": "2, 2",
         "line": {
          "color": "#FF9900",
          "dash": "dash"
         },
         "marker": {
          "symbol": "circle"
         },
         "mode": "lines",
         "name": "Internal walls 2nd Drylining Visit Planned",
         "orientation": "v",
         "showlegend": true,
         "type": "scatter",
         "x": [
          "2023-01-20T00:00:00",
          "2023-02-23T23:00:00",
          null,
          "2023-02-13T00:00:00",
          "2023-02-28T23:00:00",
          null,
          "2023-02-20T00:00:00",
          "2023-03-07T23:00:00",
          null,
          "2023-02-22T00:00:00",
          "2023-03-13T23:00:00",
          null,
          "2023-02-22T00:00:00",
          "2023-03-14T23:00:00",
          null,
          "2023-03-08T00:00:00",
          "2023-03-24T23:00:00",
          null,
          "2023-03-14T00:00:00",
          "2023-03-27T23:00:00",
          null,
          "2023-03-28T00:00:00",
          "2023-04-27T23:00:00",
          null,
          "2023-03-29T00:00:00",
          "2023-04-20T23:00:00",
          null,
          "2023-04-18T00:00:00",
          "2023-05-09T23:00:00",
          null,
          "2023-04-18T00:00:00",
          "2023-05-09T23:00:00",
          null
         ],
         "xaxis": "x",
         "y": [
          0,
          1,
          null,
          1,
          2,
          null,
          2,
          3,
          null,
          3,
          4,
          null,
          4,
          5,
          null,
          5,
          6,
          null,
          6,
          7,
          null,
          7,
          8,
          null,
          8,
          9,
          null,
          9,
          10,
          null,
          10,
          11,
          null
         ],
         "yaxis": "y"
        },
        {
         "customdata": [
          [
           "2023-02-17",
           "2023-03-13",
           "L1"
          ],
          [
           "2023-02-17",
           "2023-03-13",
           "L1"
          ],
          [
           null,
           null,
           null
          ],
          [
           "2023-02-27",
           "2023-03-16",
           "L2"
          ],
          [
           "2023-02-27",
           "2023-03-16",
           "L2"
          ],
          [
           null,
           null,
           null
          ],
          [
           "2023-03-06",
           "2023-03-23",
           "L3"
          ],
          [
           "2023-03-06",
           "2023-03-23",
           "L3"
          ],
          [
           null,
           null,
           null
          ],
          [
           "2023-03-08",
           "2023-03-29",
           "L4"
          ],
          [
           "2023-03-08",
           "2023-03-29",
           "L4"
          ],
          [
           null,
           null,
           null
          ],
          [
           "2023-03-08",
           "2023-03-30",
           "L5"
          ],
          [
           "2023-03-08",
           "2023-03-30",
           "L5"
          ],
          [
           null,
           null,
           null
          ],
          [
           "2023-03-22",
           "2023-04-13",
           "L6"
          ],
          [
           "2023-03-22",
           "2023-04-13",
           "L6"
          ],
          [
           null,
           null,
           null
          ],
          [
           "2023-03-28",
           "2023-04-14",
           "L7"
          ],
          [
           "2023-03-28",
           "2023-04-14",
           "L7"
          ],
          [
           null,
           null,
           null
          ],
          [
           "2023-04-13",
           "2023-05-16",
           "L8"
          ],
          [
           "2023-04-13",
           "2023-05-16",
           "L8"
          ],
          [
           null,
           null,
           null
          ],
          [
           "2023-04-14",
           "2023-05-09",
           "L9"
          ],
          [
           "2023-04-14",
           "2023-05-09",
           "L9"
          ],
          [
           null,
           null,
           null
          ],
          [
           "2023-05-03",
           "2023-05-25",
           "L10"
          ],
          [
           "2023-05-03",
           "2023-05-25",
           "L10"
          ],
          [
           null,
           null,
           null
          ],
          [
           "2023-05-03",
           "2023-05-25",
           "L11"
          ],
          [
           "2023-05-03",
           "2023-05-25",
           "L11"
          ],
          [
           null,
           null,
           null
          ]
         ],
         "hovertemplate": "Initial Date: %{customdata[0]}<br>Final Date: %{customdata[1]}<br>Level: %{customdata[2]}",
         "legendgroup": "3, 3",
         "line": {
          "color": "#109618",
          "dash": "dash"
         },
         "marker": {
          "symbol": "circle"
         },
         "mode": "lines",
         "name": "HL MEP Services (2nd Fix) Planned",
         "orientation": "v",
         "showlegend": true,
         "type": "scatter",
         "x": [
          "2023-02-17T00:00:00",
          "2023-03-13T23:00:00",
          null,
          "2023-02-27T00:00:00",
          "2023-03-16T23:00:00",
          null,
          "2023-03-06T00:00:00",
          "2023-03-23T23:00:00",
          null,
          "2023-03-08T00:00:00",
          "2023-03-29T23:00:00",
          null,
          "2023-03-08T00:00:00",
          "2023-03-30T23:00:00",
          null,
          "2023-03-22T00:00:00",
          "2023-04-13T23:00:00",
          null,
          "2023-03-28T00:00:00",
          "2023-04-14T23:00:00",
          null,
          "2023-04-13T00:00:00",
          "2023-05-16T23:00:00",
          null,
          "2023-04-14T00:00:00",
          "2023-05-09T23:00:00",
          null,
          "2023-05-03T00:00:00",
          "2023-05-25T23:00:00",
          null,
          "2023-05-03T00:00:00",
          "2023-05-25T23:00:00",
          null
         ],
         "xaxis": "x",
         "y": [
          0,
          1,
          null,
          1,
          2,
          null,
          2,
          3,
          null,
          3,
          4,
          null,
          4,
          5,
          null,
          5,
          6,
          null,
          6,
          7,
          null,
          7,
          8,
          null,
          8,
          9,
          null,
          9,
          10,
          null,
          10,
          11,
          null
         ],
         "yaxis": "y"
        },
        {
         "customdata": [
          [
           "2023-03-10",
           "2023-04-18",
           "L1"
          ],
          [
           "2023-03-10",
           "2023-04-18",
           "L1"
          ],
          [
           null,
           null,
           null
          ],
          [
           "2023-03-17",
           "2023-04-20",
           "L2"
          ],
          [
           "2023-03-17",
           "2023-04-20",
           "L2"
          ],
          [
           null,
           null,
           null
          ],
          [
           "2023-03-24",
           "2023-04-28",
           "L3"
          ],
          [
           "2023-03-24",
           "2023-04-28",
           "L3"
          ],
          [
           null,
           null,
           null
          ],
          [
           "2023-03-28",
           "2023-05-05",
           "L4"
          ],
          [
           "2023-03-28",
           "2023-05-05",
           "L4"
          ],
          [
           null,
           null,
           null
          ],
          [
           "2023-03-28",
           "2023-05-08",
           "L5"
          ],
          [
           "2023-03-28",
           "2023-05-08",
           "L5"
          ],
          [
           null,
           null,
           null
          ],
          [
           "2023-04-13",
           "2023-05-17",
           "L6"
          ],
          [
           "2023-04-13",
           "2023-05-17",
           "L6"
          ],
          [
           null,
           null,
           null
          ],
          [
           "2023-04-19",
           "2023-05-19",
           "L7"
          ],
          [
           "2023-04-19",
           "2023-05-19",
           "L7"
          ],
          [
           null,
           null,
           null
          ],
          [
           "2023-05-04",
           "2023-06-13",
           "L8"
          ],
          [
           "2023-05-04",
           "2023-06-13",
           "L8"
          ],
          [
           null,
           null,
           null
          ],
          [
           "2023-05-05",
           "2023-06-13",
           "L9"
          ],
          [
           "2023-05-05",
           "2023-06-13",
           "L9"
          ],
          [
           null,
           null,
           null
          ],
          [
           "2023-05-23",
           "2023-07-05",
           "L10"
          ],
          [
           "2023-05-23",
           "2023-07-05",
           "L10"
          ],
          [
           null,
           null,
           null
          ],
          [
           "2023-05-23",
           "2023-06-29",
           "L11"
          ],
          [
           "2023-05-23",
           "2023-06-29",
           "L11"
          ],
          [
           null,
           null,
           null
          ]
         ],
         "hovertemplate": "Initial Date: %{customdata[0]}<br>Final Date: %{customdata[1]}<br>Level: %{customdata[2]}",
         "legendgroup": "4, 4",
         "line": {
          "color": "#990099",
          "dash": "dash"
         },
         "marker": {
          "symbol": "circle"
         },
         "mode": "lines",
         "name": "Final Drylining / Install Ceilings Planned",
         "orientation": "v",
         "showlegend": true,
         "type": "scatter",
         "x": [
          "2023-03-10T00:00:00",
          "2023-04-18T23:00:00",
          null,
          "2023-03-17T00:00:00",
          "2023-04-20T23:00:00",
          null,
          "2023-03-24T00:00:00",
          "2023-04-28T23:00:00",
          null,
          "2023-03-28T00:00:00",
          "2023-05-05T23:00:00",
          null,
          "2023-03-28T00:00:00",
          "2023-05-08T23:00:00",
          null,
          "2023-04-13T00:00:00",
          "2023-05-17T23:00:00",
          null,
          "2023-04-19T00:00:00",
          "2023-05-19T23:00:00",
          null,
          "2023-05-04T00:00:00",
          "2023-06-13T23:00:00",
          null,
          "2023-05-05T00:00:00",
          "2023-06-13T23:00:00",
          null,
          "2023-05-23T00:00:00",
          "2023-07-05T23:00:00",
          null,
          "2023-05-23T00:00:00",
          "2023-06-29T23:00:00",
          null
         ],
         "xaxis": "x",
         "y": [
          0,
          1,
          null,
          1,
          2,
          null,
          2,
          3,
          null,
          3,
          4,
          null,
          4,
          5,
          null,
          5,
          6,
          null,
          6,
          7,
          null,
          7,
          8,
          null,
          8,
          9,
          null,
          9,
          10,
          null,
          10,
          11,
          null
         ],
         "yaxis": "y"
        },
        {
         "customdata": [
          [
           "2023-04-12",
           "2023-05-23",
           "L1"
          ],
          [
           "2023-04-12",
           "2023-05-23",
           "L1"
          ],
          [
           null,
           null,
           null
          ],
          [
           "2023-04-19",
           "2023-05-26",
           "L2"
          ],
          [
           "2023-04-19",
           "2023-05-26",
           "L2"
          ],
          [
           null,
           null,
           null
          ],
          [
           "2023-04-26",
           "2023-06-05",
           "L3"
          ],
          [
           "2023-04-26",
           "2023-06-05",
           "L3"
          ],
          [
           null,
           null,
           null
          ],
          [
           "2023-05-05",
           "2023-06-12",
           "L4"
          ],
          [
           "2023-05-05",
           "2023-06-12",
           "L4"
          ],
          [
           null,
           null,
           null
          ],
          [
           "2023-04-28",
           "2023-06-12",
           "L5"
          ],
          [
           "2023-04-28",
           "2023-06-12",
           "L5"
          ],
          [
           null,
           null,
           null
          ],
          [
           "2023-05-15",
           "2023-06-22",
           "L6"
          ],
          [
           "2023-05-15",
           "2023-06-22",
           "L6"
          ],
          [
           null,
           null,
           null
          ],
          [
           "2023-05-19",
           "2023-06-23",
           "L7"
          ],
          [
           "2023-05-19",
           "2023-06-23",
           "L7"
          ],
          [
           null,
           null,
           null
          ],
          [
           "2023-05-26",
           "2023-07-17",
           "L8"
          ],
          [
           "2023-05-26",
           "2023-07-17",
           "L8"
          ],
          [
           null,
           null,
           null
          ],
          [
           "2023-06-06",
           "2023-07-17",
           "L9"
          ],
          [
           "2023-06-06",
           "2023-07-17",
           "L9"
          ],
          [
           null,
           null,
           null
          ],
          [
           "2023-06-22",
           "2023-08-02",
           "L10"
          ],
          [
           "2023-06-22",
           "2023-08-02",
           "L10"
          ],
          [
           null,
           null,
           null
          ],
          [
           "2023-06-22",
           "2023-08-02",
           "L11"
          ],
          [
           "2023-06-22",
           "2023-08-02",
           "L11"
          ],
          [
           null,
           null,
           null
          ]
         ],
         "hovertemplate": "Initial Date: %{customdata[0]}<br>Final Date: %{customdata[1]}<br>Level: %{customdata[2]}",
         "legendgroup": "5, 5",
         "line": {
          "color": "#0099C6",
          "dash": "dash"
         },
         "marker": {
          "symbol": "circle"
         },
         "mode": "lines",
         "name": "Screed / Joinery / Kitchens Planned",
         "orientation": "v",
         "showlegend": true,
         "type": "scatter",
         "x": [
          "2023-04-12T00:00:00",
          "2023-05-23T23:00:00",
          null,
          "2023-04-19T00:00:00",
          "2023-05-26T23:00:00",
          null,
          "2023-04-26T00:00:00",
          "2023-06-05T23:00:00",
          null,
          "2023-05-05T00:00:00",
          "2023-06-12T23:00:00",
          null,
          "2023-04-28T00:00:00",
          "2023-06-12T23:00:00",
          null,
          "2023-05-15T00:00:00",
          "2023-06-22T23:00:00",
          null,
          "2023-05-19T00:00:00",
          "2023-06-23T23:00:00",
          null,
          "2023-05-26T00:00:00",
          "2023-07-17T23:00:00",
          null,
          "2023-06-06T00:00:00",
          "2023-07-17T23:00:00",
          null,
          "2023-06-22T00:00:00",
          "2023-08-02T23:00:00",
          null,
          "2023-06-22T00:00:00",
          "2023-08-02T23:00:00",
          null
         ],
         "xaxis": "x",
         "y": [
          0,
          1,
          null,
          1,
          2,
          null,
          2,
          3,
          null,
          3,
          4,
          null,
          4,
          5,
          null,
          5,
          6,
          null,
          6,
          7,
          null,
          7,
          8,
          null,
          8,
          9,
          null,
          9,
          10,
          null,
          10,
          11,
          null
         ],
         "yaxis": "y"
        },
        {
         "customdata": [
          [
           "2022-11-02",
           "2022-12-16",
           "L1"
          ],
          [
           "2022-11-02",
           "2022-12-16",
           "L1"
          ],
          [
           null,
           null,
           null
          ],
          [
           "2022-11-23",
           "2023-03-03",
           "L2"
          ],
          [
           "2022-11-23",
           "2023-03-03",
           "L2"
          ],
          [
           null,
           null,
           null
          ],
          [
           "2022-12-13",
           "2023-03-03",
           "L3"
          ],
          [
           "2022-12-13",
           "2023-03-03",
           "L3"
          ],
          [
           null,
           null,
           null
          ],
          [
           "2023-01-17",
           "2023-03-03",
           "L4"
          ],
          [
           "2023-01-17",
           "2023-03-03",
           "L4"
          ],
          [
           null,
           null,
           null
          ],
          [
           "2023-01-24",
           "2023-03-23",
           "L5"
          ],
          [
           "2023-01-24",
           "2023-03-23",
           "L5"
          ],
          [
           null,
           null,
           null
          ],
          [
           "2023-02-14",
           "2023-05-13",
           "L6"
          ],
          [
           "2023-02-14",
           "2023-05-13",
           "L6"
          ],
          [
           null,
           null,
           null
          ],
          [
           "2023-02-14",
           "2023-03-16",
           "L7"
          ],
          [
           "2023-02-14",
           "2023-03-16",
           "L7"
          ],
          [
           null,
           null,
           null
          ],
          [
           "2023-03-21",
           "2023-03-30",
           "L8"
          ],
          [
           "2023-03-21",
           "2023-03-30",
           "L8"
          ],
          [
           null,
           null,
           null
          ],
          [
           "2023-03-21",
           "2023-08-10",
           "L9"
          ],
          [
           "2023-03-21",
           "2023-08-10",
           "L9"
          ],
          [
           null,
           null,
           null
          ],
          [
           "2023-03-21",
           "2023-05-05",
           "L10"
          ],
          [
           "2023-03-21",
           "2023-05-05",
           "L10"
          ],
          [
           null,
           null,
           null
          ],
          [
           "2023-05-03",
           "2023-10-09",
           "L11"
          ],
          [
           "2023-05-03",
           "2023-10-09",
           "L11"
          ],
          [
           null,
           null,
           null
          ],
          [
           "2023-06-23",
           "2024-03-09",
           "L12"
          ],
          [
           "2023-06-23",
           "2024-03-09",
           "L12"
          ],
          [
           null,
           null,
           null
          ],
          [
           null,
           null,
           "L13"
          ],
          [
           null,
           null,
           "L13"
          ],
          [
           null,
           null,
           null
          ]
         ],
         "hovertemplate": "Initial Date: %{customdata[0]}<br>Final Date: %{customdata[1]}<br>Level: %{customdata[2]}",
         "legendgroup": "0",
         "line": {
          "color": "#3366CC",
          "dash": "solid"
         },
         "marker": {
          "symbol": "circle"
         },
         "mode": "lines",
         "name": "Demising Walls Actuals",
         "orientation": "v",
         "showlegend": true,
         "type": "scatter",
         "x": [
          "2022-11-02T00:00:00",
          "2022-12-16T23:00:00",
          null,
          "2022-11-23T00:00:00",
          "2023-03-03T23:00:00",
          null,
          "2022-12-13T00:00:00",
          "2023-03-03T23:00:00",
          null,
          "2023-01-17T00:00:00",
          "2023-03-03T23:00:00",
          null,
          "2023-01-24T00:00:00",
          "2023-03-23T23:00:00",
          null,
          "2023-02-14T00:00:00",
          "2023-05-13T23:00:00",
          null,
          "2023-02-14T00:00:00",
          "2023-03-16T23:00:00",
          null,
          "2023-03-21T00:00:00",
          "2023-03-30T23:00:00",
          null,
          "2023-03-21T00:00:00",
          "2023-08-10T23:00:00",
          null,
          "2023-03-21T00:00:00",
          "2023-05-05T23:00:00",
          null,
          "2023-05-03T00:00:00",
          "2023-10-09T19:50:12.875536",
          null,
          "2023-06-23T00:00:00",
          "2024-03-09T12:39:34.468085",
          null,
          null,
          null,
          null
         ],
         "xaxis": "x",
         "y": [
          0,
          1,
          null,
          1,
          2,
          null,
          2,
          3,
          null,
          3,
          4,
          null,
          4,
          5,
          null,
          5,
          6,
          null,
          6,
          7,
          null,
          7,
          8,
          null,
          8,
          9,
          null,
          9,
          10,
          null,
          10,
          11,
          null,
          11,
          12,
          null,
          12,
          13,
          null
         ],
         "yaxis": "y"
        },
        {
         "customdata": [
          [
           "2022-12-13",
           "2023-05-13",
           "L1"
          ],
          [
           "2022-12-13",
           "2023-05-13",
           "L1"
          ],
          [
           null,
           null,
           null
          ],
          [
           "2023-01-27",
           "2023-06-19",
           "L2"
          ],
          [
           "2023-01-27",
           "2023-06-19",
           "L2"
          ],
          [
           null,
           null,
           null
          ],
          [
           "2023-02-03",
           "2023-07-22",
           "L3"
          ],
          [
           "2023-02-03",
           "2023-07-22",
           "L3"
          ],
          [
           null,
           null,
           null
          ],
          [
           "2023-02-14",
           "2023-07-22",
           "L4"
          ],
          [
           "2023-02-14",
           "2023-07-22",
           "L4"
          ],
          [
           null,
           null,
           null
          ],
          [
           "2023-02-28",
           "2023-07-22",
           "L5"
          ],
          [
           "2023-02-28",
           "2023-07-22",
           "L5"
          ],
          [
           null,
           null,
           null
          ],
          [
           "2023-02-28",
           "2023-08-17",
           "L6"
          ],
          [
           "2023-02-28",
           "2023-08-17",
           "L6"
          ],
          [
           null,
           null,
           null
          ],
          [
           "2023-03-15",
           "2023-08-17",
           "L7"
          ],
          [
           "2023-03-15",
           "2023-08-17",
           "L7"
          ],
          [
           null,
           null,
           null
          ],
          [
           "2023-03-21",
           "2023-08-17",
           "L8"
          ],
          [
           "2023-03-21",
           "2023-08-17",
           "L8"
          ],
          [
           null,
           null,
           null
          ],
          [
           "2023-05-24",
           "2023-10-25",
           "L9"
          ],
          [
           "2023-05-24",
           "2023-10-25",
           "L9"
          ],
          [
           null,
           null,
           null
          ],
          [
           "2023-06-23",
           "2023-10-13",
           "L10"
          ],
          [
           "2023-06-23",
           "2023-10-13",
           "L10"
          ],
          [
           null,
           null,
           null
          ],
          [
           "2023-06-23",
           "2023-11-02",
           "L11"
          ],
          [
           "2023-06-23",
           "2023-11-02",
           "L11"
          ],
          [
           null,
           null,
           null
          ],
          [
           "2023-08-04",
           "2023-11-16",
           "L12"
          ],
          [
           "2023-08-04",
           "2023-11-16",
           "L12"
          ],
          [
           null,
           null,
           null
          ],
          [
           "2023-09-15",
           "2023-11-04",
           "L13"
          ],
          [
           "2023-09-15",
           "2023-11-04",
           "L13"
          ],
          [
           null,
           null,
           null
          ]
         ],
         "hovertemplate": "Initial Date: %{customdata[0]}<br>Final Date: %{customdata[1]}<br>Level: %{customdata[2]}",
         "legendgroup": "1",
         "line": {
          "color": "#DC3912",
          "dash": "solid"
         },
         "marker": {
          "symbol": "circle"
         },
         "mode": "lines",
         "name": "HL MEP Services (1st Fix) Actuals",
         "orientation": "v",
         "showlegend": true,
         "type": "scatter",
         "x": [
          "2022-12-13T00:00:00",
          "2023-05-13T23:00:00",
          null,
          "2023-01-27T00:00:00",
          "2023-06-19T23:00:00",
          null,
          "2023-02-03T00:00:00",
          "2023-07-22T23:00:00",
          null,
          "2023-02-14T00:00:00",
          "2023-07-22T23:00:00",
          null,
          "2023-02-28T00:00:00",
          "2023-07-22T23:00:00",
          null,
          "2023-02-28T00:00:00",
          "2023-08-17T23:00:00",
          null,
          "2023-03-15T00:00:00",
          "2023-08-17T23:00:00",
          null,
          "2023-03-21T00:00:00",
          "2023-08-17T23:00:00",
          null,
          "2023-05-24T00:00:00",
          "2023-10-25T17:25:19.226119",
          null,
          "2023-06-23T00:00:00",
          "2023-10-13T20:31:31.244240",
          null,
          "2023-06-23T00:00:00",
          "2023-11-02T21:57:33.459973",
          null,
          "2023-08-04T00:00:00",
          "2023-11-16T18:58:52.584270",
          null,
          "2023-09-15T00:00:00",
          "2023-11-04T22:37:39.854015",
          null
         ],
         "xaxis": "x",
         "y": [
          0,
          1,
          null,
          1,
          2,
          null,
          2,
          3,
          null,
          3,
          4,
          null,
          4,
          5,
          null,
          5,
          6,
          null,
          6,
          7,
          null,
          7,
          8,
          null,
          8,
          9,
          null,
          9,
          10,
          null,
          10,
          11,
          null,
          11,
          12,
          null,
          12,
          13,
          null
         ],
         "yaxis": "y"
        },
        {
         "customdata": [
          [
           "2022-11-29",
           "2023-06-19",
           "L1"
          ],
          [
           "2022-11-29",
           "2023-06-19",
           "L1"
          ],
          [
           null,
           null,
           null
          ],
          [
           "2023-01-27",
           "2023-08-10",
           "L2"
          ],
          [
           "2023-01-27",
           "2023-08-10",
           "L2"
          ],
          [
           null,
           null,
           null
          ],
          [
           "2023-01-27",
           "2023-08-17",
           "L3"
          ],
          [
           "2023-01-27",
           "2023-08-17",
           "L3"
          ],
          [
           null,
           null,
           null
          ],
          [
           "2023-01-17",
           "2023-08-10",
           "L4"
          ],
          [
           "2023-01-17",
           "2023-08-10",
           "L4"
          ],
          [
           null,
           null,
           null
          ],
          [
           "2023-02-28",
           "2023-09-22",
           "L5"
          ],
          [
           "2023-02-28",
           "2023-09-22",
           "L5"
          ],
          [
           null,
           null,
           null
          ],
          [
           "2023-02-14",
           "2023-09-28",
           "L6"
          ],
          [
           "2023-02-14",
           "2023-09-28",
           "L6"
          ],
          [
           null,
           null,
           null
          ],
          [
           "2023-02-14",
           "2023-09-28",
           "L7"
          ],
          [
           "2023-02-14",
           "2023-09-28",
           "L7"
          ],
          [
           null,
           null,
           null
          ],
          [
           "2023-03-21",
           "2023-09-28",
           "L8"
          ],
          [
           "2023-03-21",
           "2023-09-28",
           "L8"
          ],
          [
           null,
           null,
           null
          ],
          [
           "2023-03-21",
           "2023-10-14",
           "L9"
          ],
          [
           "2023-03-21",
           "2023-10-14",
           "L9"
          ],
          [
           null,
           null,
           null
          ],
          [
           "2023-03-21",
           "2023-10-09",
           "L10"
          ],
          [
           "2023-03-21",
           "2023-10-09",
           "L10"
          ],
          [
           null,
           null,
           null
          ],
          [
           "2023-06-16",
           "2023-10-11",
           "L11"
          ],
          [
           "2023-06-16",
           "2023-10-11",
           "L11"
          ],
          [
           null,
           null,
           null
          ],
          [
           "2023-07-25",
           "2023-12-11",
           "L12"
          ],
          [
           "2023-07-25",
           "2023-12-11",
           "L12"
          ],
          [
           null,
           null,
           null
          ],
          [
           "2023-07-25",
           "2023-11-22",
           "L13"
          ],
          [
           "2023-07-25",
           "2023-11-22",
           "L13"
          ],
          [
           null,
           null,
           null
          ]
         ],
         "hovertemplate": "Initial Date: %{customdata[0]}<br>Final Date: %{customdata[1]}<br>Level: %{customdata[2]}",
         "legendgroup": "2",
         "line": {
          "color": "#FF9900",
          "dash": "solid"
         },
         "marker": {
          "symbol": "circle"
         },
         "mode": "lines",
         "name": "Internal walls 2nd Drylining Visit Actuals",
         "orientation": "v",
         "showlegend": true,
         "type": "scatter",
         "x": [
          "2022-11-29T00:00:00",
          "2023-06-19T23:00:00",
          null,
          "2023-01-27T00:00:00",
          "2023-08-10T23:00:00",
          null,
          "2023-01-27T00:00:00",
          "2023-08-17T23:00:00",
          null,
          "2023-01-17T00:00:00",
          "2023-08-10T23:00:00",
          null,
          "2023-02-28T00:00:00",
          "2023-09-22T23:00:00",
          null,
          "2023-02-14T00:00:00",
          "2023-09-28T23:00:00",
          null,
          "2023-02-14T00:00:00",
          "2023-09-28T23:00:00",
          null,
          "2023-03-21T00:00:00",
          "2023-09-28T23:00:00",
          null,
          "2023-03-21T00:00:00",
          "2023-10-14T22:55:00",
          null,
          "2023-03-21T00:00:00",
          "2023-10-09T20:51:57.737789",
          null,
          "2023-06-16T00:00:00",
          "2023-10-11T17:55:37.488314",
          null,
          "2023-07-25T00:00:00",
          "2023-12-11T21:22:12.343584",
          null,
          "2023-07-25T00:00:00",
          "2023-11-22T06:03:10.337284",
          null
         ],
         "xaxis": "x",
         "y": [
          0,
          1,
          null,
          1,
          2,
          null,
          2,
          3,
          null,
          3,
          4,
          null,
          4,
          5,
          null,
          5,
          6,
          null,
          6,
          7,
          null,
          7,
          8,
          null,
          8,
          9,
          null,
          9,
          10,
          null,
          10,
          11,
          null,
          11,
          12,
          null,
          12,
          13,
          null
         ],
         "yaxis": "y"
        },
        {
         "customdata": [
          [
           "2023-02-28",
           "2023-05-23",
           "L1"
          ],
          [
           "2023-02-28",
           "2023-05-23",
           "L1"
          ],
          [
           null,
           null,
           null
          ],
          [
           "2023-04-13",
           "2023-06-19",
           "L2"
          ],
          [
           "2023-04-13",
           "2023-06-19",
           "L2"
          ],
          [
           null,
           null,
           null
          ],
          [
           "2023-04-28",
           "2023-08-17",
           "L3"
          ],
          [
           "2023-04-28",
           "2023-08-17",
           "L3"
          ],
          [
           null,
           null,
           null
          ],
          [
           "2023-05-06",
           "2023-08-17",
           "L4"
          ],
          [
           "2023-05-06",
           "2023-08-17",
           "L4"
          ],
          [
           null,
           null,
           null
          ],
          [
           "2023-05-19",
           "2023-08-17",
           "L5"
          ],
          [
           "2023-05-19",
           "2023-08-17",
           "L5"
          ],
          [
           null,
           null,
           null
          ],
          [
           "2023-05-19",
           "2023-08-17",
           "L6"
          ],
          [
           "2023-05-19",
           "2023-08-17",
           "L6"
          ],
          [
           null,
           null,
           null
          ],
          [
           "2023-05-24",
           "2023-08-17",
           "L7"
          ],
          [
           "2023-05-24",
           "2023-08-17",
           "L7"
          ],
          [
           null,
           null,
           null
          ],
          [
           "2023-06-23",
           "2023-11-01",
           "L8"
          ],
          [
           "2023-06-23",
           "2023-11-01",
           "L8"
          ],
          [
           null,
           null,
           null
          ],
          [
           "2023-07-14",
           "2023-10-18",
           "L9"
          ],
          [
           "2023-07-14",
           "2023-10-18",
           "L9"
          ],
          [
           null,
           null,
           null
          ],
          [
           "2023-08-04",
           "2023-12-02",
           "L10"
          ],
          [
           "2023-08-04",
           "2023-12-02",
           "L10"
          ],
          [
           null,
           null,
           null
          ],
          [
           "2023-08-18",
           "2024-10-06",
           "L11"
          ],
          [
           "2023-08-18",
           "2024-10-06",
           "L11"
          ],
          [
           null,
           null,
           null
          ],
          [
           null,
           null,
           "L12"
          ],
          [
           null,
           null,
           "L12"
          ],
          [
           null,
           null,
           null
          ],
          [
           null,
           null,
           "L13"
          ],
          [
           null,
           null,
           "L13"
          ],
          [
           null,
           null,
           null
          ]
         ],
         "hovertemplate": "Initial Date: %{customdata[0]}<br>Final Date: %{customdata[1]}<br>Level: %{customdata[2]}",
         "legendgroup": "3",
         "line": {
          "color": "#109618",
          "dash": "solid"
         },
         "marker": {
          "symbol": "circle"
         },
         "mode": "lines",
         "name": "HL MEP Services (2nd Fix) Actuals",
         "orientation": "v",
         "showlegend": true,
         "type": "scatter",
         "x": [
          "2023-02-28T00:00:00",
          "2023-05-23T23:00:00",
          null,
          "2023-04-13T00:00:00",
          "2023-06-19T23:00:00",
          null,
          "2023-04-28T00:00:00",
          "2023-08-17T23:00:00",
          null,
          "2023-05-06T00:00:00",
          "2023-08-17T23:00:00",
          null,
          "2023-05-19T00:00:00",
          "2023-08-17T23:00:00",
          null,
          "2023-05-19T00:00:00",
          "2023-08-17T23:00:00",
          null,
          "2023-05-24T00:00:00",
          "2023-08-17T23:00:00",
          null,
          "2023-06-23T00:00:00",
          "2023-11-01T03:15:20.481928",
          null,
          "2023-07-14T00:00:00",
          "2023-10-18T11:59:14.858934",
          null,
          "2023-08-04T00:00:00",
          "2023-12-02T20:38:52.613391",
          null,
          "2023-08-18T00:00:00",
          "2024-10-06T10:17:49.306931",
          null,
          null,
          null,
          null,
          null,
          null,
          null
         ],
         "xaxis": "x",
         "y": [
          0,
          1,
          null,
          1,
          2,
          null,
          2,
          3,
          null,
          3,
          4,
          null,
          4,
          5,
          null,
          5,
          6,
          null,
          6,
          7,
          null,
          7,
          8,
          null,
          8,
          9,
          null,
          9,
          10,
          null,
          10,
          11,
          null,
          11,
          12,
          null,
          12,
          13,
          null
         ],
         "yaxis": "y"
        },
        {
         "customdata": [
          [
           "2023-03-15",
           "2023-06-30",
           "L1"
          ],
          [
           "2023-03-15",
           "2023-06-30",
           "L1"
          ],
          [
           null,
           null,
           null
          ],
          [
           "2023-06-23",
           "2023-08-17",
           "L2"
          ],
          [
           "2023-06-23",
           "2023-08-17",
           "L2"
          ],
          [
           null,
           null,
           null
          ],
          [
           "2023-07-14",
           "2023-08-31",
           "L3"
          ],
          [
           "2023-07-14",
           "2023-08-31",
           "L3"
          ],
          [
           null,
           null,
           null
          ],
          [
           "2023-07-14",
           "2023-08-10",
           "L4"
          ],
          [
           "2023-07-14",
           "2023-08-10",
           "L4"
          ],
          [
           null,
           null,
           null
          ],
          [
           "2023-07-14",
           "2023-10-11",
           "L5"
          ],
          [
           "2023-07-14",
           "2023-10-11",
           "L5"
          ],
          [
           null,
           null,
           null
          ],
          [
           "2023-08-04",
           "2023-09-28",
           "L6"
          ],
          [
           "2023-08-04",
           "2023-09-28",
           "L6"
          ],
          [
           null,
           null,
           null
          ],
          [
           "2023-08-04",
           "2023-10-02",
           "L7"
          ],
          [
           "2023-08-04",
           "2023-10-02",
           "L7"
          ],
          [
           null,
           null,
           null
          ],
          [
           "2023-08-11",
           "2023-10-01",
           "L8"
          ],
          [
           "2023-08-11",
           "2023-10-01",
           "L8"
          ],
          [
           null,
           null,
           null
          ],
          [
           "2023-08-18",
           "2023-09-28",
           "L9"
          ],
          [
           "2023-08-18",
           "2023-09-28",
           "L9"
          ],
          [
           null,
           null,
           null
          ],
          [
           "2023-09-15",
           "2023-09-28",
           "L10"
          ],
          [
           "2023-09-15",
           "2023-09-28",
           "L10"
          ],
          [
           null,
           null,
           null
          ],
          [
           "2023-09-15",
           "2023-10-09",
           "L11"
          ],
          [
           "2023-09-15",
           "2023-10-09",
           "L11"
          ],
          [
           null,
           null,
           null
          ],
          [
           null,
           null,
           "L12"
          ],
          [
           null,
           null,
           "L12"
          ],
          [
           null,
           null,
           null
          ],
          [
           null,
           null,
           "L13"
          ],
          [
           null,
           null,
           "L13"
          ],
          [
           null,
           null,
           null
          ]
         ],
         "hovertemplate": "Initial Date: %{customdata[0]}<br>Final Date: %{customdata[1]}<br>Level: %{customdata[2]}",
         "legendgroup": "4",
         "line": {
          "color": "#990099",
          "dash": "solid"
         },
         "marker": {
          "symbol": "circle"
         },
         "mode": "lines",
         "name": "Final Drylining / Install Ceilings Actuals",
         "orientation": "v",
         "showlegend": true,
         "type": "scatter",
         "x": [
          "2023-03-15T00:00:00",
          "2023-06-30T23:00:00",
          null,
          "2023-06-23T00:00:00",
          "2023-08-17T23:00:00",
          null,
          "2023-07-14T00:00:00",
          "2023-08-31T23:00:00",
          null,
          "2023-07-14T00:00:00",
          "2023-08-10T23:00:00",
          null,
          "2023-07-14T00:00:00",
          "2023-10-11T06:25:47.252748",
          null,
          "2023-08-04T00:00:00",
          "2023-09-28T23:00:00",
          null,
          "2023-08-04T00:00:00",
          "2023-10-02T05:09:50.476190",
          null,
          "2023-08-11T00:00:00",
          "2023-10-01T16:48:00",
          null,
          "2023-08-18T00:00:00",
          "2023-09-28T23:00:00",
          null,
          "2023-09-15T00:00:00",
          "2023-09-28T23:00:00",
          null,
          "2023-09-15T00:00:00",
          "2023-10-09T16:08:03.605833",
          null,
          null,
          null,
          null,
          null,
          null,
          null
         ],
         "xaxis": "x",
         "y": [
          0,
          1,
          null,
          1,
          2,
          null,
          2,
          3,
          null,
          3,
          4,
          null,
          4,
          5,
          null,
          5,
          6,
          null,
          6,
          7,
          null,
          7,
          8,
          null,
          8,
          9,
          null,
          9,
          10,
          null,
          10,
          11,
          null,
          11,
          12,
          null,
          12,
          13,
          null
         ],
         "yaxis": "y"
        },
        {
         "customdata": [
          [
           "2023-03-24",
           "2023-11-15",
           "L1"
          ],
          [
           "2023-03-24",
           "2023-11-15",
           "L1"
          ],
          [
           null,
           null,
           null
          ],
          [
           "2023-07-14",
           "2023-10-16",
           "L2"
          ],
          [
           "2023-07-14",
           "2023-10-16",
           "L2"
          ],
          [
           null,
           null,
           null
          ],
          [
           "2023-07-14",
           "2023-11-09",
           "L3"
          ],
          [
           "2023-07-14",
           "2023-11-09",
           "L3"
          ],
          [
           null,
           null,
           null
          ],
          [
           "2023-07-28",
           "2023-10-05",
           "L4"
          ],
          [
           "2023-07-28",
           "2023-10-05",
           "L4"
          ],
          [
           null,
           null,
           null
          ],
          [
           "2023-08-04",
           "2023-10-30",
           "L5"
          ],
          [
           "2023-08-04",
           "2023-10-30",
           "L5"
          ],
          [
           null,
           null,
           null
          ],
          [
           "2023-08-04",
           "2023-10-13",
           "L6"
          ],
          [
           "2023-08-04",
           "2023-10-13",
           "L6"
          ],
          [
           null,
           null,
           null
          ],
          [
           "2023-09-15",
           "2023-10-02",
           "L7"
          ],
          [
           "2023-09-15",
           "2023-10-02",
           "L7"
          ],
          [
           null,
           null,
           null
          ],
          [
           "2023-09-15",
           "2023-10-04",
           "L8"
          ],
          [
           "2023-09-15",
           "2023-10-04",
           "L8"
          ],
          [
           null,
           null,
           null
          ],
          [
           "2023-09-15",
           "2023-10-10",
           "L9"
          ],
          [
           "2023-09-15",
           "2023-10-10",
           "L9"
          ],
          [
           null,
           null,
           null
          ],
          [
           "2023-09-15",
           "2023-10-16",
           "L10"
          ],
          [
           "2023-09-15",
           "2023-10-16",
           "L10"
          ],
          [
           null,
           null,
           null
          ],
          [
           "2023-09-15",
           "2023-10-28",
           "L11"
          ],
          [
           "2023-09-15",
           "2023-10-28",
           "L11"
          ],
          [
           null,
           null,
           null
          ],
          [
           null,
           null,
           "L12"
          ],
          [
           null,
           null,
           "L12"
          ],
          [
           null,
           null,
           null
          ],
          [
           null,
           null,
           "L13"
          ],
          [
           null,
           null,
           "L13"
          ],
          [
           null,
           null,
           null
          ]
         ],
         "hovertemplate": "Initial Date: %{customdata[0]}<br>Final Date: %{customdata[1]}<br>Level: %{customdata[2]}",
         "legendgroup": "5",
         "line": {
          "color": "#0099C6",
          "dash": "solid"
         },
         "marker": {
          "symbol": "circle"
         },
         "mode": "lines",
         "name": "Screed / Joinery / Kitchens Actuals",
         "orientation": "v",
         "showlegend": true,
         "type": "scatter",
         "x": [
          "2023-03-24T00:00:00",
          "2023-11-15T23:42:32.508361",
          null,
          "2023-07-14T00:00:00",
          "2023-10-16T15:49:57.785978",
          null,
          "2023-07-14T00:00:00",
          "2023-11-09T03:43:17.748209",
          null,
          "2023-07-28T00:00:00",
          "2023-10-05T19:09:58.669623",
          null,
          "2023-08-04T00:00:00",
          "2023-10-30T21:25:26.701571",
          null,
          "2023-08-04T00:00:00",
          "2023-10-13T02:57:26.616541",
          null,
          "2023-09-15T00:00:00",
          "2023-10-02T14:58:47.272727",
          null,
          "2023-09-15T00:00:00",
          "2023-10-04T09:29:35.822140",
          null,
          "2023-09-15T00:00:00",
          "2023-10-10T14:18:11.442543",
          null,
          "2023-09-15T00:00:00",
          "2023-10-16T23:10:32.061069",
          null,
          "2023-09-15T00:00:00",
          "2023-10-28T22:33:52.318993",
          null,
          null,
          null,
          null,
          null,
          null,
          null
         ],
         "xaxis": "x",
         "y": [
          0,
          1,
          null,
          1,
          2,
          null,
          2,
          3,
          null,
          3,
          4,
          null,
          4,
          5,
          null,
          5,
          6,
          null,
          6,
          7,
          null,
          7,
          8,
          null,
          8,
          9,
          null,
          9,
          10,
          null,
          10,
          11,
          null,
          11,
          12,
          null,
          12,
          13,
          null
         ],
         "yaxis": "y"
        }
       ],
       "layout": {
        "annotations": [
         {
          "font": {
           "size": 12
          },
          "showarrow": false,
          "text": "<b>L1<b>",
          "x": -0.030434782608695653,
          "xref": "paper",
          "y": 0.5,
          "yref": "y"
         },
         {
          "font": {
           "size": 12
          },
          "showarrow": false,
          "text": "<b>L2<b>",
          "x": -0.030434782608695653,
          "xref": "paper",
          "y": 1.5,
          "yref": "y"
         },
         {
          "font": {
           "size": 12
          },
          "showarrow": false,
          "text": "<b>L3<b>",
          "x": -0.030434782608695653,
          "xref": "paper",
          "y": 2.5,
          "yref": "y"
         },
         {
          "font": {
           "size": 12
          },
          "showarrow": false,
          "text": "<b>L4<b>",
          "x": -0.030434782608695653,
          "xref": "paper",
          "y": 3.5,
          "yref": "y"
         },
         {
          "font": {
           "size": 12
          },
          "showarrow": false,
          "text": "<b>L5<b>",
          "x": -0.030434782608695653,
          "xref": "paper",
          "y": 4.5,
          "yref": "y"
         },
         {
          "font": {
           "size": 12
          },
          "showarrow": false,
          "text": "<b>L6<b>",
          "x": -0.030434782608695653,
          "xref": "paper",
          "y": 5.5,
          "yref": "y"
         },
         {
          "font": {
           "size": 12
          },
          "showarrow": false,
          "text": "<b>L7<b>",
          "x": -0.030434782608695653,
          "xref": "paper",
          "y": 6.5,
          "yref": "y"
         },
         {
          "font": {
           "size": 12
          },
          "showarrow": false,
          "text": "<b>L8<b>",
          "x": -0.030434782608695653,
          "xref": "paper",
          "y": 7.5,
          "yref": "y"
         },
         {
          "font": {
           "size": 12
          },
          "showarrow": false,
          "text": "<b>L9<b>",
          "x": -0.030434782608695653,
          "xref": "paper",
          "y": 8.5,
          "yref": "y"
         },
         {
          "font": {
           "size": 12
          },
          "showarrow": false,
          "text": "<b>L10<b>",
          "x": -0.030434782608695653,
          "xref": "paper",
          "y": 9.5,
          "yref": "y"
         },
         {
          "font": {
           "size": 12
          },
          "showarrow": false,
          "text": "<b>L11<b>",
          "x": -0.030434782608695653,
          "xref": "paper",
          "y": 10.5,
          "yref": "y"
         },
         {
          "font": {
           "size": 12
          },
          "showarrow": false,
          "text": "<b>L12<b>",
          "x": -0.030434782608695653,
          "xref": "paper",
          "y": 11.5,
          "yref": "y"
         },
         {
          "font": {
           "size": 12
          },
          "showarrow": false,
          "text": "<b>L13<b>",
          "x": -0.030434782608695653,
          "xref": "paper",
          "y": 12.5,
          "yref": "y"
         }
        ],
        "height": 860,
        "legend": {
         "tracegroupgap": 0
        },
        "shapes": [
         {
          "fillcolor": "#eaeaf2",
          "line": {
           "color": "#ffffff",
           "width": 1.5
          },
          "opacity": 1,
          "type": "rect",
          "x0": -0.030434782608695653,
          "x1": 0,
          "xref": "paper",
          "y0": 0,
          "y1": 1,
          "yref": "paper"
         },
         {
          "line": {
           "color": "#ffffff",
           "width": 1.5
          },
          "opacity": 1,
          "type": "line",
          "x0": -0.030434782608695653,
          "x1": 0,
          "xref": "paper",
          "y0": 0,
          "y1": 0,
          "yref": "y"
         },
         {
          "line": {
           "color": "#ffffff",
           "width": 1.5
          },
          "opacity": 1,
          "type": "line",
          "x0": -0.030434782608695653,
          "x1": 0,
          "xref": "paper",
          "y0": 1,
          "y1": 1,
          "yref": "y"
         },
         {
          "line": {
           "color": "#ffffff",
           "width": 1.5
          },
          "opacity": 1,
          "type": "line",
          "x0": -0.030434782608695653,
          "x1": 0,
          "xref": "paper",
          "y0": 2,
          "y1": 2,
          "yref": "y"
         },
         {
          "line": {
           "color": "#ffffff",
           "width": 1.5
          },
          "opacity": 1,
          "type": "line",
          "x0": -0.030434782608695653,
          "x1": 0,
          "xref": "paper",
          "y0": 3,
          "y1": 3,
          "yref": "y"
         },
         {
          "line": {
           "color": "#ffffff",
           "width": 1.5
          },
          "opacity": 1,
          "type": "line",
          "x0": -0.030434782608695653,
          "x1": 0,
          "xref": "paper",
          "y0": 4,
          "y1": 4,
          "yref": "y"
         },
         {
          "line": {
           "color": "#ffffff",
           "width": 1.5
          },
          "opacity": 1,
          "type": "line",
          "x0": -0.030434782608695653,
          "x1": 0,
          "xref": "paper",
          "y0": 5,
          "y1": 5,
          "yref": "y"
         },
         {
          "line": {
           "color": "#ffffff",
           "width": 1.5
          },
          "opacity": 1,
          "type": "line",
          "x0": -0.030434782608695653,
          "x1": 0,
          "xref": "paper",
          "y0": 6,
          "y1": 6,
          "yref": "y"
         },
         {
          "line": {
           "color": "#ffffff",
           "width": 1.5
          },
          "opacity": 1,
          "type": "line",
          "x0": -0.030434782608695653,
          "x1": 0,
          "xref": "paper",
          "y0": 7,
          "y1": 7,
          "yref": "y"
         },
         {
          "line": {
           "color": "#ffffff",
           "width": 1.5
          },
          "opacity": 1,
          "type": "line",
          "x0": -0.030434782608695653,
          "x1": 0,
          "xref": "paper",
          "y0": 8,
          "y1": 8,
          "yref": "y"
         },
         {
          "line": {
           "color": "#ffffff",
           "width": 1.5
          },
          "opacity": 1,
          "type": "line",
          "x0": -0.030434782608695653,
          "x1": 0,
          "xref": "paper",
          "y0": 9,
          "y1": 9,
          "yref": "y"
         },
         {
          "line": {
           "color": "#ffffff",
           "width": 1.5
          },
          "opacity": 1,
          "type": "line",
          "x0": -0.030434782608695653,
          "x1": 0,
          "xref": "paper",
          "y0": 10,
          "y1": 10,
          "yref": "y"
         },
         {
          "line": {
           "color": "#ffffff",
           "width": 1.5
          },
          "opacity": 1,
          "type": "line",
          "x0": -0.030434782608695653,
          "x1": 0,
          "xref": "paper",
          "y0": 11,
          "y1": 11,
          "yref": "y"
         },
         {
          "line": {
           "color": "#ffffff",
           "width": 1.5
          },
          "opacity": 1,
          "type": "line",
          "x0": -0.030434782608695653,
          "x1": 0,
          "xref": "paper",
          "y0": 12,
          "y1": 12,
          "yref": "y"
         },
         {
          "line": {
           "color": "#ffffff",
           "width": 1.5
          },
          "opacity": 1,
          "type": "line",
          "x0": -0.030434782608695653,
          "x1": 0,
          "xref": "paper",
          "y0": 13,
          "y1": 13,
          "yref": "y"
         }
        ],
        "template": {
         "data": {
          "bar": [
           {
            "error_x": {
             "color": "rgb(36,36,36)"
            },
            "error_y": {
             "color": "rgb(36,36,36)"
            },
            "marker": {
             "line": {
              "color": "rgb(234,234,242)",
              "width": 0.5
             },
             "pattern": {
              "fillmode": "overlay",
              "size": 10,
              "solidity": 0.2
             }
            },
            "type": "bar"
           }
          ],
          "barpolar": [
           {
            "marker": {
             "line": {
              "color": "rgb(234,234,242)",
              "width": 0.5
             },
             "pattern": {
              "fillmode": "overlay",
              "size": 10,
              "solidity": 0.2
             }
            },
            "type": "barpolar"
           }
          ],
          "carpet": [
           {
            "aaxis": {
             "endlinecolor": "rgb(36,36,36)",
             "gridcolor": "white",
             "linecolor": "white",
             "minorgridcolor": "white",
             "startlinecolor": "rgb(36,36,36)"
            },
            "baxis": {
             "endlinecolor": "rgb(36,36,36)",
             "gridcolor": "white",
             "linecolor": "white",
             "minorgridcolor": "white",
             "startlinecolor": "rgb(36,36,36)"
            },
            "type": "carpet"
           }
          ],
          "choropleth": [
           {
            "colorbar": {
             "outlinewidth": 0,
             "tickcolor": "rgb(36,36,36)",
             "ticklen": 8,
             "ticks": "outside",
             "tickwidth": 2
            },
            "type": "choropleth"
           }
          ],
          "contour": [
           {
            "colorbar": {
             "outlinewidth": 0,
             "tickcolor": "rgb(36,36,36)",
             "ticklen": 8,
             "ticks": "outside",
             "tickwidth": 2
            },
            "colorscale": [
             [
              0,
              "rgb(2,4,25)"
             ],
             [
              0.06274509803921569,
              "rgb(24,15,41)"
             ],
             [
              0.12549019607843137,
              "rgb(47,23,57)"
             ],
             [
              0.18823529411764706,
              "rgb(71,28,72)"
             ],
             [
              0.25098039215686274,
              "rgb(97,30,82)"
             ],
             [
              0.3137254901960784,
              "rgb(123,30,89)"
             ],
             [
              0.3764705882352941,
              "rgb(150,27,91)"
             ],
             [
              0.4392156862745098,
              "rgb(177,22,88)"
             ],
             [
              0.5019607843137255,
              "rgb(203,26,79)"
             ],
             [
              0.5647058823529412,
              "rgb(223,47,67)"
             ],
             [
              0.6274509803921569,
              "rgb(236,76,61)"
             ],
             [
              0.6901960784313725,
              "rgb(242,107,73)"
             ],
             [
              0.7529411764705882,
              "rgb(244,135,95)"
             ],
             [
              0.8156862745098039,
              "rgb(245,162,122)"
             ],
             [
              0.8784313725490196,
              "rgb(246,188,153)"
             ],
             [
              0.9411764705882353,
              "rgb(247,212,187)"
             ],
             [
              1,
              "rgb(250,234,220)"
             ]
            ],
            "type": "contour"
           }
          ],
          "contourcarpet": [
           {
            "colorbar": {
             "outlinewidth": 0,
             "tickcolor": "rgb(36,36,36)",
             "ticklen": 8,
             "ticks": "outside",
             "tickwidth": 2
            },
            "type": "contourcarpet"
           }
          ],
          "heatmap": [
           {
            "colorbar": {
             "outlinewidth": 0,
             "tickcolor": "rgb(36,36,36)",
             "ticklen": 8,
             "ticks": "outside",
             "tickwidth": 2
            },
            "colorscale": [
             [
              0,
              "rgb(2,4,25)"
             ],
             [
              0.06274509803921569,
              "rgb(24,15,41)"
             ],
             [
              0.12549019607843137,
              "rgb(47,23,57)"
             ],
             [
              0.18823529411764706,
              "rgb(71,28,72)"
             ],
             [
              0.25098039215686274,
              "rgb(97,30,82)"
             ],
             [
              0.3137254901960784,
              "rgb(123,30,89)"
             ],
             [
              0.3764705882352941,
              "rgb(150,27,91)"
             ],
             [
              0.4392156862745098,
              "rgb(177,22,88)"
             ],
             [
              0.5019607843137255,
              "rgb(203,26,79)"
             ],
             [
              0.5647058823529412,
              "rgb(223,47,67)"
             ],
             [
              0.6274509803921569,
              "rgb(236,76,61)"
             ],
             [
              0.6901960784313725,
              "rgb(242,107,73)"
             ],
             [
              0.7529411764705882,
              "rgb(244,135,95)"
             ],
             [
              0.8156862745098039,
              "rgb(245,162,122)"
             ],
             [
              0.8784313725490196,
              "rgb(246,188,153)"
             ],
             [
              0.9411764705882353,
              "rgb(247,212,187)"
             ],
             [
              1,
              "rgb(250,234,220)"
             ]
            ],
            "type": "heatmap"
           }
          ],
          "heatmapgl": [
           {
            "colorbar": {
             "outlinewidth": 0,
             "tickcolor": "rgb(36,36,36)",
             "ticklen": 8,
             "ticks": "outside",
             "tickwidth": 2
            },
            "colorscale": [
             [
              0,
              "rgb(2,4,25)"
             ],
             [
              0.06274509803921569,
              "rgb(24,15,41)"
             ],
             [
              0.12549019607843137,
              "rgb(47,23,57)"
             ],
             [
              0.18823529411764706,
              "rgb(71,28,72)"
             ],
             [
              0.25098039215686274,
              "rgb(97,30,82)"
             ],
             [
              0.3137254901960784,
              "rgb(123,30,89)"
             ],
             [
              0.3764705882352941,
              "rgb(150,27,91)"
             ],
             [
              0.4392156862745098,
              "rgb(177,22,88)"
             ],
             [
              0.5019607843137255,
              "rgb(203,26,79)"
             ],
             [
              0.5647058823529412,
              "rgb(223,47,67)"
             ],
             [
              0.6274509803921569,
              "rgb(236,76,61)"
             ],
             [
              0.6901960784313725,
              "rgb(242,107,73)"
             ],
             [
              0.7529411764705882,
              "rgb(244,135,95)"
             ],
             [
              0.8156862745098039,
              "rgb(245,162,122)"
             ],
             [
              0.8784313725490196,
              "rgb(246,188,153)"
             ],
             [
              0.9411764705882353,
              "rgb(247,212,187)"
             ],
             [
              1,
              "rgb(250,234,220)"
             ]
            ],
            "type": "heatmapgl"
           }
          ],
          "histogram": [
           {
            "marker": {
             "pattern": {
              "fillmode": "overlay",
              "size": 10,
              "solidity": 0.2
             }
            },
            "type": "histogram"
           }
          ],
          "histogram2d": [
           {
            "colorbar": {
             "outlinewidth": 0,
             "tickcolor": "rgb(36,36,36)",
             "ticklen": 8,
             "ticks": "outside",
             "tickwidth": 2
            },
            "colorscale": [
             [
              0,
              "rgb(2,4,25)"
             ],
             [
              0.06274509803921569,
              "rgb(24,15,41)"
             ],
             [
              0.12549019607843137,
              "rgb(47,23,57)"
             ],
             [
              0.18823529411764706,
              "rgb(71,28,72)"
             ],
             [
              0.25098039215686274,
              "rgb(97,30,82)"
             ],
             [
              0.3137254901960784,
              "rgb(123,30,89)"
             ],
             [
              0.3764705882352941,
              "rgb(150,27,91)"
             ],
             [
              0.4392156862745098,
              "rgb(177,22,88)"
             ],
             [
              0.5019607843137255,
              "rgb(203,26,79)"
             ],
             [
              0.5647058823529412,
              "rgb(223,47,67)"
             ],
             [
              0.6274509803921569,
              "rgb(236,76,61)"
             ],
             [
              0.6901960784313725,
              "rgb(242,107,73)"
             ],
             [
              0.7529411764705882,
              "rgb(244,135,95)"
             ],
             [
              0.8156862745098039,
              "rgb(245,162,122)"
             ],
             [
              0.8784313725490196,
              "rgb(246,188,153)"
             ],
             [
              0.9411764705882353,
              "rgb(247,212,187)"
             ],
             [
              1,
              "rgb(250,234,220)"
             ]
            ],
            "type": "histogram2d"
           }
          ],
          "histogram2dcontour": [
           {
            "colorbar": {
             "outlinewidth": 0,
             "tickcolor": "rgb(36,36,36)",
             "ticklen": 8,
             "ticks": "outside",
             "tickwidth": 2
            },
            "colorscale": [
             [
              0,
              "rgb(2,4,25)"
             ],
             [
              0.06274509803921569,
              "rgb(24,15,41)"
             ],
             [
              0.12549019607843137,
              "rgb(47,23,57)"
             ],
             [
              0.18823529411764706,
              "rgb(71,28,72)"
             ],
             [
              0.25098039215686274,
              "rgb(97,30,82)"
             ],
             [
              0.3137254901960784,
              "rgb(123,30,89)"
             ],
             [
              0.3764705882352941,
              "rgb(150,27,91)"
             ],
             [
              0.4392156862745098,
              "rgb(177,22,88)"
             ],
             [
              0.5019607843137255,
              "rgb(203,26,79)"
             ],
             [
              0.5647058823529412,
              "rgb(223,47,67)"
             ],
             [
              0.6274509803921569,
              "rgb(236,76,61)"
             ],
             [
              0.6901960784313725,
              "rgb(242,107,73)"
             ],
             [
              0.7529411764705882,
              "rgb(244,135,95)"
             ],
             [
              0.8156862745098039,
              "rgb(245,162,122)"
             ],
             [
              0.8784313725490196,
              "rgb(246,188,153)"
             ],
             [
              0.9411764705882353,
              "rgb(247,212,187)"
             ],
             [
              1,
              "rgb(250,234,220)"
             ]
            ],
            "type": "histogram2dcontour"
           }
          ],
          "mesh3d": [
           {
            "colorbar": {
             "outlinewidth": 0,
             "tickcolor": "rgb(36,36,36)",
             "ticklen": 8,
             "ticks": "outside",
             "tickwidth": 2
            },
            "type": "mesh3d"
           }
          ],
          "parcoords": [
           {
            "line": {
             "colorbar": {
              "outlinewidth": 0,
              "tickcolor": "rgb(36,36,36)",
              "ticklen": 8,
              "ticks": "outside",
              "tickwidth": 2
             }
            },
            "type": "parcoords"
           }
          ],
          "pie": [
           {
            "automargin": true,
            "type": "pie"
           }
          ],
          "scatter": [
           {
            "marker": {
             "colorbar": {
              "outlinewidth": 0,
              "tickcolor": "rgb(36,36,36)",
              "ticklen": 8,
              "ticks": "outside",
              "tickwidth": 2
             }
            },
            "type": "scatter"
           }
          ],
          "scatter3d": [
           {
            "line": {
             "colorbar": {
              "outlinewidth": 0,
              "tickcolor": "rgb(36,36,36)",
              "ticklen": 8,
              "ticks": "outside",
              "tickwidth": 2
             }
            },
            "marker": {
             "colorbar": {
              "outlinewidth": 0,
              "tickcolor": "rgb(36,36,36)",
              "ticklen": 8,
              "ticks": "outside",
              "tickwidth": 2
             }
            },
            "type": "scatter3d"
           }
          ],
          "scattercarpet": [
           {
            "marker": {
             "colorbar": {
              "outlinewidth": 0,
              "tickcolor": "rgb(36,36,36)",
              "ticklen": 8,
              "ticks": "outside",
              "tickwidth": 2
             }
            },
            "type": "scattercarpet"
           }
          ],
          "scattergeo": [
           {
            "marker": {
             "colorbar": {
              "outlinewidth": 0,
              "tickcolor": "rgb(36,36,36)",
              "ticklen": 8,
              "ticks": "outside",
              "tickwidth": 2
             }
            },
            "type": "scattergeo"
           }
          ],
          "scattergl": [
           {
            "marker": {
             "colorbar": {
              "outlinewidth": 0,
              "tickcolor": "rgb(36,36,36)",
              "ticklen": 8,
              "ticks": "outside",
              "tickwidth": 2
             }
            },
            "type": "scattergl"
           }
          ],
          "scattermapbox": [
           {
            "marker": {
             "colorbar": {
              "outlinewidth": 0,
              "tickcolor": "rgb(36,36,36)",
              "ticklen": 8,
              "ticks": "outside",
              "tickwidth": 2
             }
            },
            "type": "scattermapbox"
           }
          ],
          "scatterpolar": [
           {
            "marker": {
             "colorbar": {
              "outlinewidth": 0,
              "tickcolor": "rgb(36,36,36)",
              "ticklen": 8,
              "ticks": "outside",
              "tickwidth": 2
             }
            },
            "type": "scatterpolar"
           }
          ],
          "scatterpolargl": [
           {
            "marker": {
             "colorbar": {
              "outlinewidth": 0,
              "tickcolor": "rgb(36,36,36)",
              "ticklen": 8,
              "ticks": "outside",
              "tickwidth": 2
             }
            },
            "type": "scatterpolargl"
           }
          ],
          "scatterternary": [
           {
            "marker": {
             "colorbar": {
              "outlinewidth": 0,
              "tickcolor": "rgb(36,36,36)",
              "ticklen": 8,
              "ticks": "outside",
              "tickwidth": 2
             }
            },
            "type": "scatterternary"
           }
          ],
          "surface": [
           {
            "colorbar": {
             "outlinewidth": 0,
             "tickcolor": "rgb(36,36,36)",
             "ticklen": 8,
             "ticks": "outside",
             "tickwidth": 2
            },
            "colorscale": [
             [
              0,
              "rgb(2,4,25)"
             ],
             [
              0.06274509803921569,
              "rgb(24,15,41)"
             ],
             [
              0.12549019607843137,
              "rgb(47,23,57)"
             ],
             [
              0.18823529411764706,
              "rgb(71,28,72)"
             ],
             [
              0.25098039215686274,
              "rgb(97,30,82)"
             ],
             [
              0.3137254901960784,
              "rgb(123,30,89)"
             ],
             [
              0.3764705882352941,
              "rgb(150,27,91)"
             ],
             [
              0.4392156862745098,
              "rgb(177,22,88)"
             ],
             [
              0.5019607843137255,
              "rgb(203,26,79)"
             ],
             [
              0.5647058823529412,
              "rgb(223,47,67)"
             ],
             [
              0.6274509803921569,
              "rgb(236,76,61)"
             ],
             [
              0.6901960784313725,
              "rgb(242,107,73)"
             ],
             [
              0.7529411764705882,
              "rgb(244,135,95)"
             ],
             [
              0.8156862745098039,
              "rgb(245,162,122)"
             ],
             [
              0.8784313725490196,
              "rgb(246,188,153)"
             ],
             [
              0.9411764705882353,
              "rgb(247,212,187)"
             ],
             [
              1,
              "rgb(250,234,220)"
             ]
            ],
            "type": "surface"
           }
          ],
          "table": [
           {
            "cells": {
             "fill": {
              "color": "rgb(231,231,240)"
             },
             "line": {
              "color": "white"
             }
            },
            "header": {
             "fill": {
              "color": "rgb(183,183,191)"
             },
             "line": {
              "color": "white"
             }
            },
            "type": "table"
           }
          ]
         },
         "layout": {
          "annotationdefaults": {
           "arrowcolor": "rgb(67,103,167)"
          },
          "autotypenumbers": "strict",
          "coloraxis": {
           "colorbar": {
            "outlinewidth": 0,
            "tickcolor": "rgb(36,36,36)",
            "ticklen": 8,
            "ticks": "outside",
            "tickwidth": 2
           }
          },
          "colorscale": {
           "sequential": [
            [
             0,
             "rgb(2,4,25)"
            ],
            [
             0.06274509803921569,
             "rgb(24,15,41)"
            ],
            [
             0.12549019607843137,
             "rgb(47,23,57)"
            ],
            [
             0.18823529411764706,
             "rgb(71,28,72)"
            ],
            [
             0.25098039215686274,
             "rgb(97,30,82)"
            ],
            [
             0.3137254901960784,
             "rgb(123,30,89)"
            ],
            [
             0.3764705882352941,
             "rgb(150,27,91)"
            ],
            [
             0.4392156862745098,
             "rgb(177,22,88)"
            ],
            [
             0.5019607843137255,
             "rgb(203,26,79)"
            ],
            [
             0.5647058823529412,
             "rgb(223,47,67)"
            ],
            [
             0.6274509803921569,
             "rgb(236,76,61)"
            ],
            [
             0.6901960784313725,
             "rgb(242,107,73)"
            ],
            [
             0.7529411764705882,
             "rgb(244,135,95)"
            ],
            [
             0.8156862745098039,
             "rgb(245,162,122)"
            ],
            [
             0.8784313725490196,
             "rgb(246,188,153)"
            ],
            [
             0.9411764705882353,
             "rgb(247,212,187)"
            ],
            [
             1,
             "rgb(250,234,220)"
            ]
           ],
           "sequentialminus": [
            [
             0,
             "rgb(2,4,25)"
            ],
            [
             0.06274509803921569,
             "rgb(24,15,41)"
            ],
            [
             0.12549019607843137,
             "rgb(47,23,57)"
            ],
            [
             0.18823529411764706,
             "rgb(71,28,72)"
            ],
            [
             0.25098039215686274,
             "rgb(97,30,82)"
            ],
            [
             0.3137254901960784,
             "rgb(123,30,89)"
            ],
            [
             0.3764705882352941,
             "rgb(150,27,91)"
            ],
            [
             0.4392156862745098,
             "rgb(177,22,88)"
            ],
            [
             0.5019607843137255,
             "rgb(203,26,79)"
            ],
            [
             0.5647058823529412,
             "rgb(223,47,67)"
            ],
            [
             0.6274509803921569,
             "rgb(236,76,61)"
            ],
            [
             0.6901960784313725,
             "rgb(242,107,73)"
            ],
            [
             0.7529411764705882,
             "rgb(244,135,95)"
            ],
            [
             0.8156862745098039,
             "rgb(245,162,122)"
            ],
            [
             0.8784313725490196,
             "rgb(246,188,153)"
            ],
            [
             0.9411764705882353,
             "rgb(247,212,187)"
            ],
            [
             1,
             "rgb(250,234,220)"
            ]
           ]
          },
          "colorway": [
           "rgb(76,114,176)",
           "rgb(221,132,82)",
           "rgb(85,168,104)",
           "rgb(196,78,82)",
           "rgb(129,114,179)",
           "rgb(147,120,96)",
           "rgb(218,139,195)",
           "rgb(140,140,140)",
           "rgb(204,185,116)",
           "rgb(100,181,205)"
          ],
          "font": {
           "color": "rgb(36,36,36)"
          },
          "geo": {
           "bgcolor": "white",
           "lakecolor": "white",
           "landcolor": "rgb(234,234,242)",
           "showlakes": true,
           "showland": true,
           "subunitcolor": "white"
          },
          "hoverlabel": {
           "align": "left"
          },
          "hovermode": "closest",
          "paper_bgcolor": "white",
          "plot_bgcolor": "rgb(234,234,242)",
          "polar": {
           "angularaxis": {
            "gridcolor": "white",
            "linecolor": "white",
            "showgrid": true,
            "ticks": ""
           },
           "bgcolor": "rgb(234,234,242)",
           "radialaxis": {
            "gridcolor": "white",
            "linecolor": "white",
            "showgrid": true,
            "ticks": ""
           }
          },
          "scene": {
           "xaxis": {
            "backgroundcolor": "rgb(234,234,242)",
            "gridcolor": "white",
            "gridwidth": 2,
            "linecolor": "white",
            "showbackground": true,
            "showgrid": true,
            "ticks": "",
            "zerolinecolor": "white"
           },
           "yaxis": {
            "backgroundcolor": "rgb(234,234,242)",
            "gridcolor": "white",
            "gridwidth": 2,
            "linecolor": "white",
            "showbackground": true,
            "showgrid": true,
            "ticks": "",
            "zerolinecolor": "white"
           },
           "zaxis": {
            "backgroundcolor": "rgb(234,234,242)",
            "gridcolor": "white",
            "gridwidth": 2,
            "linecolor": "white",
            "showbackground": true,
            "showgrid": true,
            "ticks": "",
            "zerolinecolor": "white"
           }
          },
          "shapedefaults": {
           "fillcolor": "rgb(67,103,167)",
           "line": {
            "width": 0
           },
           "opacity": 0.5
          },
          "ternary": {
           "aaxis": {
            "gridcolor": "white",
            "linecolor": "white",
            "showgrid": true,
            "ticks": ""
           },
           "baxis": {
            "gridcolor": "white",
            "linecolor": "white",
            "showgrid": true,
            "ticks": ""
           },
           "bgcolor": "rgb(234,234,242)",
           "caxis": {
            "gridcolor": "white",
            "linecolor": "white",
            "showgrid": true,
            "ticks": ""
           }
          },
          "xaxis": {
           "automargin": true,
           "gridcolor": "white",
           "linecolor": "white",
           "showgrid": true,
           "ticks": "",
           "title": {
            "standoff": 15
           },
           "zerolinecolor": "white"
          },
          "yaxis": {
           "automargin": true,
           "gridcolor": "white",
           "linecolor": "white",
           "showgrid": true,
           "ticks": "",
           "title": {
            "standoff": 15
           },
           "zerolinecolor": "white"
          }
         }
        },
        "title": {
         "text": "<b>Flowlines 6WP Plan v Actual North<b>",
         "x": 0.3
        },
        "width": 1403,
        "xaxis": {
         "anchor": "y",
         "domain": [
          0,
          1
         ],
         "range": [
          "2022-10-26T00:00:00",
          "2024-10-11T10:17:49.306931"
         ],
         "title": {
          "text": "<b>Date<b>"
         }
        },
        "yaxis": {
         "anchor": "x",
         "domain": [
          0,
          1
         ],
         "range": [
          -0.25,
          13.25
         ],
         "tickvals": [
          0,
          1,
          2,
          3,
          4,
          5,
          6,
          7,
          8,
          9,
          10,
          11,
          12,
          13,
          14
         ],
         "title": {
          "standoff": 30,
          "text": "<b>Floor<b>"
         }
        }
       }
      }
     },
     "metadata": {},
     "output_type": "display_data"
    },
    {
     "data": {
      "application/vnd.plotly.v1+json": {
       "config": {
        "plotlyServerURL": "https://plot.ly"
       },
       "data": [
        {
         "hoverinfo": "none",
         "legendgroup": "",
         "line": {
          "color": "black",
          "dash": "solid",
          "width": 5
         },
         "marker": {
          "symbol": "circle"
         },
         "mode": "lines",
         "name": "",
         "opacity": 0.05,
         "orientation": "v",
         "showlegend": false,
         "type": "scatter",
         "x": [
          "2022-11-23T00:00:00",
          "2023-03-03T23:00:00",
          null,
          "2022-12-07T00:00:00",
          "2023-01-30T23:00:00",
          null,
          "2023-01-13T00:00:00",
          "2023-02-13T23:00:00",
          null,
          "2023-01-22T00:00:00",
          "2023-02-13T23:00:00",
          null,
          "2023-01-28T00:00:00",
          "2023-02-21T23:00:00",
          null,
          "2023-02-08T00:00:00",
          "2023-02-24T23:00:00",
          null,
          "2023-02-22T00:00:00",
          "2023-03-07T23:00:00",
          null,
          "2023-02-22T00:00:00",
          "2023-03-07T23:00:00",
          null
         ],
         "xaxis": "x",
         "y": [
          0,
          1,
          null,
          1,
          2,
          null,
          2,
          3,
          null,
          3,
          4,
          null,
          4,
          5,
          null,
          5,
          6,
          null,
          6,
          7,
          null,
          7,
          8,
          null
         ],
         "yaxis": "y"
        },
        {
         "customdata": [
          [
           "Date Range: 2022-11-23 to 2022-11-28 <br>Cumulative Progress: 0.0% <br>Level: L1"
          ],
          [
           "Date Range: 2022-11-23 to 2022-11-28<br>Progress in period: 17.33% <br>Cumulative Progress: 17.33% <br>Level: L1"
          ],
          [
           null
          ]
         ],
         "hovertemplate": "%{customdata[0]}",
         "legendgroup": "17.333333333333332",
         "line": {
          "color": "#dfd800",
          "dash": "solid",
          "width": 5
         },
         "marker": {
          "symbol": "circle"
         },
         "mode": "lines",
         "name": "",
         "orientation": "v",
         "showlegend": true,
         "type": "scatter",
         "x": [
          "2022-11-23T00:00:00",
          "2022-11-28T23:00:00",
          null
         ],
         "xaxis": "x",
         "y": [
          0,
          0.059017746595130004,
          null
         ],
         "yaxis": "y"
        },
        {
         "customdata": [
          [
           "Date Range: 2022-11-29 to 2022-12-01 <br>Cumulative Progress: 17.33% <br>Level: L1"
          ],
          [
           "Date Range: 2022-11-29 to 2022-12-01<br>Progress in period: 1.17% <br>Cumulative Progress: 18.5% <br>Level: L1"
          ],
          [
           null
          ]
         ],
         "hovertemplate": "%{customdata[0]}",
         "legendgroup": "1.1666666666666679",
         "line": {
          "color": "#ff1000",
          "dash": "solid",
          "width": 5
         },
         "marker": {
          "symbol": "circle"
         },
         "mode": "lines",
         "name": "",
         "orientation": "v",
         "showlegend": true,
         "type": "scatter",
         "x": [
          "2022-11-29T00:00:00",
          "2022-12-01T23:00:00",
          null
         ],
         "xaxis": "x",
         "y": [
          0.059430458109781266,
          0.08873297565002064,
          null
         ],
         "yaxis": "y"
        },
        {
         "customdata": [
          [
           "Date Range: 2022-12-02 to 2022-12-05 <br>Cumulative Progress: 18.5% <br>Level: L1"
          ],
          [
           "Date Range: 2022-12-02 to 2022-12-05<br>Progress in period: 7.83% <br>Cumulative Progress: 26.33% <br>Level: L1"
          ],
          [
           null
          ]
         ],
         "hovertemplate": "%{customdata[0]}",
         "legendgroup": "7.833333333333332",
         "line": {
          "color": "#ff6f00",
          "dash": "solid",
          "width": 5
         },
         "marker": {
          "symbol": "circle"
         },
         "mode": "lines",
         "name": "",
         "orientation": "v",
         "showlegend": true,
         "type": "scatter",
         "x": [
          "2022-12-02T00:00:00",
          "2022-12-05T23:00:00",
          null
         ],
         "xaxis": "x",
         "y": [
          0.08914568716467189,
          0.12835328105654148,
          null
         ],
         "yaxis": "y"
        },
        {
         "customdata": [
          [
           "Date Range: 2023-01-13 to 2023-01-16 <br>Cumulative Progress: 26.33% <br>Level: L1"
          ],
          [
           "Date Range: 2023-01-13 to 2023-01-16<br>Progress in period: 44.67% <br>Cumulative Progress: 71.0% <br>Level: L1"
          ],
          [
           null
          ]
         ],
         "hovertemplate": "%{customdata[0]}",
         "legendgroup": "44.66666666666667",
         "line": {
          "color": "#34eb00",
          "dash": "solid",
          "width": 5
         },
         "marker": {
          "symbol": "circle"
         },
         "mode": "lines",
         "name": "",
         "orientation": "v",
         "showlegend": true,
         "type": "scatter",
         "x": [
          "2023-01-13T00:00:00",
          "2023-01-16T23:00:00",
          null
         ],
         "xaxis": "x",
         "y": [
          0.5051588939331407,
          0.5443664878250103,
          null
         ],
         "yaxis": "y"
        },
        {
         "customdata": [
          [
           "Date Range: 2023-01-18 to 2023-01-19 <br>Cumulative Progress: 71.0% <br>Level: L1"
          ],
          [
           "Date Range: 2023-01-18 to 2023-01-19<br>Progress in period: 9.33% <br>Cumulative Progress: 80.33% <br>Level: L1"
          ],
          [
           null
          ]
         ],
         "hovertemplate": "%{customdata[0]}",
         "legendgroup": "9.333333333333329",
         "line": {
          "color": "#ff8400",
          "dash": "solid",
          "width": 5
         },
         "marker": {
          "symbol": "circle"
         },
         "mode": "lines",
         "name": "",
         "orientation": "v",
         "showlegend": true,
         "type": "scatter",
         "x": [
          "2023-01-18T00:00:00",
          "2023-01-19T23:00:00",
          null
         ],
         "xaxis": "x",
         "y": [
          0.5546842756912918,
          0.574081716879901,
          null
         ],
         "yaxis": "y"
        },
        {
         "customdata": [
          [
           "Date Range: 2023-01-22 to 2023-01-23 <br>Cumulative Progress: 80.33% <br>Level: L1"
          ],
          [
           "Date Range: 2023-01-22 to 2023-01-23<br>Progress in period: 12.33% <br>Cumulative Progress: 92.67% <br>Level: L1"
          ],
          [
           null
          ]
         ],
         "hovertemplate": "%{customdata[0]}",
         "legendgroup": "12.333333333333343",
         "line": {
          "color": "#ffae00",
          "dash": "solid",
          "width": 5
         },
         "marker": {
          "symbol": "circle"
         },
         "mode": "lines",
         "name": "",
         "orientation": "v",
         "showlegend": true,
         "type": "scatter",
         "x": [
          "2023-01-22T00:00:00",
          "2023-01-23T23:00:00",
          null
         ],
         "xaxis": "x",
         "y": [
          0.5943045810978126,
          0.6137020222864218,
          null
         ],
         "yaxis": "y"
        },
        {
         "customdata": [
          [
           "Date Range: 2023-01-28 to 2023-01-30 <br>Cumulative Progress: 92.67% <br>Level: L1"
          ],
          [
           "Date Range: 2023-01-28 to 2023-01-30<br>Progress in period: 0.67% <br>Cumulative Progress: 93.33% <br>Level: L1"
          ],
          [
           null
          ]
         ],
         "hovertemplate": "%{customdata[0]}",
         "legendgroup": "0.6666666666666572",
         "line": {
          "color": "#ff0900",
          "dash": "solid",
          "width": 5
         },
         "marker": {
          "symbol": "circle"
         },
         "mode": "lines",
         "name": "",
         "orientation": "v",
         "showlegend": true,
         "type": "scatter",
         "x": [
          "2023-01-28T00:00:00",
          "2023-01-30T23:00:00",
          null
         ],
         "xaxis": "x",
         "y": [
          0.6537350392075939,
          0.6830375567478333,
          null
         ],
         "yaxis": "y"
        },
        {
         "customdata": [
          [
           "Date Range: 2023-02-14 to 2023-02-21 <br>Cumulative Progress: 93.33% <br>Level: L1"
          ],
          [
           "Date Range: 2023-02-14 to 2023-02-21<br>Progress in period: 5.83% <br>Cumulative Progress: 99.17% <br>Level: L1"
          ],
          [
           null
          ]
         ],
         "hovertemplate": "%{customdata[0]}",
         "legendgroup": "5.833333333333343",
         "line": {
          "color": "#ff5200",
          "dash": "solid",
          "width": 5
         },
         "marker": {
          "symbol": "circle"
         },
         "mode": "lines",
         "name": "",
         "orientation": "v",
         "showlegend": true,
         "type": "scatter",
         "x": [
          "2023-02-14T00:00:00",
          "2023-02-21T23:00:00",
          null
         ],
         "xaxis": "x",
         "y": [
          0.8221213371853074,
          0.9009492364836978,
          null
         ],
         "yaxis": "y"
        },
        {
         "customdata": [
          [
           "Date Range: 2023-02-28 to 2023-03-03 <br>Cumulative Progress: 99.17% <br>Level: L1"
          ],
          [
           "Date Range: 2023-02-28 to 2023-03-03<br>Progress in period: 0.83% <br>Cumulative Progress: 100.0% <br>Level: L1"
          ],
          [
           null
          ]
         ],
         "hovertemplate": "%{customdata[0]}",
         "legendgroup": "0.8333333333333286",
         "line": {
          "color": "#ff0c00",
          "dash": "solid",
          "width": 5
         },
         "marker": {
          "symbol": "circle"
         },
         "mode": "lines",
         "name": "",
         "orientation": "v",
         "showlegend": true,
         "type": "scatter",
         "x": [
          "2023-02-28T00:00:00",
          "2023-03-03T23:00:00",
          null
         ],
         "xaxis": "x",
         "y": [
          0.9607924061081304,
          1,
          null
         ],
         "yaxis": "y"
        },
        {
         "customdata": [
          [
           "Date Range: 2022-12-07 to 2022-12-12 <br>Cumulative Progress: 0.0% <br>Level: L2"
          ],
          [
           "Date Range: 2022-12-07 to 2022-12-12<br>Progress in period: 17.17% <br>Cumulative Progress: 17.17% <br>Level: L2"
          ],
          [
           null
          ]
         ],
         "hovertemplate": "%{customdata[0]}",
         "legendgroup": "17.166666666666668",
         "line": {
          "color": "#e2d700",
          "dash": "solid",
          "width": 5
         },
         "marker": {
          "symbol": "circle"
         },
         "mode": "lines",
         "name": "",
         "orientation": "v",
         "showlegend": true,
         "type": "scatter",
         "x": [
          "2022-12-07T00:00:00",
          "2022-12-12T23:00:00",
          null
         ],
         "xaxis": "x",
         "y": [
          1,
          1.10841546626232,
          null
         ],
         "yaxis": "y"
        },
        {
         "customdata": [
          [
           "Date Range: 2023-01-13 to 2023-01-16 <br>Cumulative Progress: 17.17% <br>Level: L2"
          ],
          [
           "Date Range: 2023-01-13 to 2023-01-16<br>Progress in period: 65.0% <br>Cumulative Progress: 82.17% <br>Level: L2"
          ],
          [
           null
          ]
         ],
         "hovertemplate": "%{customdata[0]}",
         "legendgroup": "65.0",
         "line": {
          "color": "#34eb00",
          "dash": "solid",
          "width": 5
         },
         "marker": {
          "symbol": "circle"
         },
         "mode": "lines",
         "name": "",
         "orientation": "v",
         "showlegend": true,
         "type": "scatter",
         "x": [
          "2023-01-13T00:00:00",
          "2023-01-16T23:00:00",
          null
         ],
         "xaxis": "x",
         "y": [
          1.6732373009855952,
          1.7452615617892344,
          null
         ],
         "yaxis": "y"
        },
        {
         "customdata": [
          [
           "Date Range: 2023-01-18 to 2023-01-19 <br>Cumulative Progress: 82.17% <br>Level: L2"
          ],
          [
           "Date Range: 2023-01-18 to 2023-01-19<br>Progress in period: 1.5% <br>Cumulative Progress: 83.67% <br>Level: L2"
          ],
          [
           null
          ]
         ],
         "hovertemplate": "%{customdata[0]}",
         "legendgroup": "1.5",
         "line": {
          "color": "#ff1500",
          "dash": "solid",
          "width": 5
         },
         "marker": {
          "symbol": "circle"
         },
         "mode": "lines",
         "name": "",
         "orientation": "v",
         "showlegend": true,
         "type": "scatter",
         "x": [
          "2023-01-18T00:00:00",
          "2023-01-19T23:00:00",
          null
         ],
         "xaxis": "x",
         "y": [
          1.7642153146322972,
          1.7998483699772554,
          null
         ],
         "yaxis": "y"
        },
        {
         "customdata": [
          [
           "Date Range: 2023-01-22 to 2023-01-23 <br>Cumulative Progress: 83.67% <br>Level: L2"
          ],
          [
           "Date Range: 2023-01-22 to 2023-01-23<br>Progress in period: 4.67% <br>Cumulative Progress: 88.33% <br>Level: L2"
          ],
          [
           null
          ]
         ],
         "hovertemplate": "%{customdata[0]}",
         "legendgroup": "4.666666666666657",
         "line": {
          "color": "#ff4200",
          "dash": "solid",
          "width": 5
         },
         "marker": {
          "symbol": "circle"
         },
         "mode": "lines",
         "name": "",
         "orientation": "v",
         "showlegend": true,
         "type": "scatter",
         "x": [
          "2023-01-22T00:00:00",
          "2023-01-23T23:00:00",
          null
         ],
         "xaxis": "x",
         "y": [
          1.8369977255496588,
          1.872630780894617,
          null
         ],
         "yaxis": "y"
        },
        {
         "customdata": [
          [
           "Date Range: 2023-01-28 to 2023-01-30 <br>Cumulative Progress: 88.33% <br>Level: L2"
          ],
          [
           "Date Range: 2023-01-28 to 2023-01-30<br>Progress in period: 11.67% <br>Cumulative Progress: 100.0% <br>Level: L2"
          ],
          [
           null
          ]
         ],
         "hovertemplate": "%{customdata[0]}",
         "legendgroup": "11.666666666666671",
         "line": {
          "color": "#ffa500",
          "dash": "solid",
          "width": 5
         },
         "marker": {
          "symbol": "circle"
         },
         "mode": "lines",
         "name": "",
         "orientation": "v",
         "showlegend": true,
         "type": "scatter",
         "x": [
          "2023-01-28T00:00:00",
          "2023-01-30T23:00:00",
          null
         ],
         "xaxis": "x",
         "y": [
          1.9461713419257012,
          2,
          null
         ],
         "yaxis": "y"
        },
        {
         "customdata": [
          [
           "Date Range: 2023-01-13 to 2023-01-16 <br>Cumulative Progress: 0.0% <br>Level: L3"
          ],
          [
           "Date Range: 2023-01-13 to 2023-01-16<br>Progress in period: 19.17% <br>Cumulative Progress: 19.17% <br>Level: L3"
          ],
          [
           null
          ]
         ],
         "hovertemplate": "%{customdata[0]}",
         "legendgroup": "19.166666666666668",
         "line": {
          "color": "#c7da00",
          "dash": "solid",
          "width": 5
         },
         "marker": {
          "symbol": "circle"
         },
         "mode": "lines",
         "name": "",
         "orientation": "v",
         "showlegend": true,
         "type": "scatter",
         "x": [
          "2023-01-13T00:00:00",
          "2023-01-16T23:00:00",
          null
         ],
         "xaxis": "x",
         "y": [
          2,
          2.123859191655802,
          null
         ],
         "yaxis": "y"
        },
        {
         "customdata": [
          [
           "Date Range: 2023-01-18 to 2023-01-19 <br>Cumulative Progress: 19.17% <br>Level: L3"
          ],
          [
           "Date Range: 2023-01-18 to 2023-01-19<br>Progress in period: 2.0% <br>Cumulative Progress: 21.17% <br>Level: L3"
          ],
          [
           null
          ]
         ],
         "hovertemplate": "%{customdata[0]}",
         "legendgroup": "2.0",
         "line": {
          "color": "#ff1c00",
          "dash": "solid",
          "width": 5
         },
         "marker": {
          "symbol": "circle"
         },
         "mode": "lines",
         "name": "",
         "orientation": "v",
         "showlegend": true,
         "type": "scatter",
         "x": [
          "2023-01-18T00:00:00",
          "2023-01-19T23:00:00",
          null
         ],
         "xaxis": "x",
         "y": [
          2.1564537157757497,
          2.2177314211212518,
          null
         ],
         "yaxis": "y"
        },
        {
         "customdata": [
          [
           "Date Range: 2023-01-22 to 2023-01-23 <br>Cumulative Progress: 21.17% <br>Level: L3"
          ],
          [
           "Date Range: 2023-01-22 to 2023-01-23<br>Progress in period: 13.17% <br>Cumulative Progress: 34.33% <br>Level: L3"
          ],
          [
           null
          ]
         ],
         "hovertemplate": "%{customdata[0]}",
         "legendgroup": "13.166666666666668",
         "line": {
          "color": "#ffba00",
          "dash": "solid",
          "width": 5
         },
         "marker": {
          "symbol": "circle"
         },
         "mode": "lines",
         "name": "",
         "orientation": "v",
         "showlegend": true,
         "type": "scatter",
         "x": [
          "2023-01-22T00:00:00",
          "2023-01-23T23:00:00",
          null
         ],
         "xaxis": "x",
         "y": [
          2.2816166883963493,
          2.3428943937418514,
          null
         ],
         "yaxis": "y"
        },
        {
         "customdata": [
          [
           "Date Range: 2023-01-24 to 2023-01-26 <br>Cumulative Progress: 34.33% <br>Level: L3"
          ],
          [
           "Date Range: 2023-01-24 to 2023-01-26<br>Progress in period: 24.33% <br>Cumulative Progress: 58.67% <br>Level: L3"
          ],
          [
           null
          ]
         ],
         "hovertemplate": "%{customdata[0]}",
         "legendgroup": "24.33333333333333",
         "line": {
          "color": "#81e200",
          "dash": "solid",
          "width": 5
         },
         "marker": {
          "symbol": "circle"
         },
         "mode": "lines",
         "name": "",
         "orientation": "v",
         "showlegend": true,
         "type": "scatter",
         "x": [
          "2023-01-24T00:00:00",
          "2023-01-26T23:00:00",
          null
         ],
         "xaxis": "x",
         "y": [
          2.344198174706649,
          2.4367666232073013,
          null
         ],
         "yaxis": "y"
        },
        {
         "customdata": [
          [
           "Date Range: 2023-01-28 to 2023-01-30 <br>Cumulative Progress: 58.67% <br>Level: L3"
          ],
          [
           "Date Range: 2023-01-28 to 2023-01-30<br>Progress in period: 30.0% <br>Cumulative Progress: 88.67% <br>Level: L3"
          ],
          [
           null
          ]
         ],
         "hovertemplate": "%{customdata[0]}",
         "legendgroup": "30.000000000000007",
         "line": {
          "color": "#34eb00",
          "dash": "solid",
          "width": 5
         },
         "marker": {
          "symbol": "circle"
         },
         "mode": "lines",
         "name": "",
         "orientation": "v",
         "showlegend": true,
         "type": "scatter",
         "x": [
          "2023-01-28T00:00:00",
          "2023-01-30T23:00:00",
          null
         ],
         "xaxis": "x",
         "y": [
          2.469361147327249,
          2.561929595827901,
          null
         ],
         "yaxis": "y"
        },
        {
         "customdata": [
          [
           "Date Range: 2023-02-03 to 2023-02-07 <br>Cumulative Progress: 88.67% <br>Level: L3"
          ],
          [
           "Date Range: 2023-02-03 to 2023-02-07<br>Progress in period: 1.0% <br>Cumulative Progress: 89.67% <br>Level: L3"
          ],
          [
           null
          ]
         ],
         "hovertemplate": "%{customdata[0]}",
         "legendgroup": "1.0",
         "line": {
          "color": "#ff0e00",
          "dash": "solid",
          "width": 5
         },
         "marker": {
          "symbol": "circle"
         },
         "mode": "lines",
         "name": "",
         "orientation": "v",
         "showlegend": true,
         "type": "scatter",
         "x": [
          "2023-02-03T00:00:00",
          "2023-02-07T23:00:00",
          null
         ],
         "xaxis": "x",
         "y": [
          2.6571056062581486,
          2.8122555410691,
          null
         ],
         "yaxis": "y"
        },
        {
         "customdata": [
          [
           "Date Range: 2023-02-08 to 2023-02-13 <br>Cumulative Progress: 89.67% <br>Level: L3"
          ],
          [
           "Date Range: 2023-02-08 to 2023-02-13<br>Progress in period: 8.67% <br>Cumulative Progress: 98.33% <br>Level: L3"
          ],
          [
           null
          ]
         ],
         "hovertemplate": "%{customdata[0]}",
         "legendgroup": "8.666666666666657",
         "line": {
          "color": "#ff7a00",
          "dash": "solid",
          "width": 5
         },
         "marker": {
          "symbol": "circle"
         },
         "mode": "lines",
         "name": "",
         "orientation": "v",
         "showlegend": true,
         "type": "scatter",
         "x": [
          "2023-02-08T00:00:00",
          "2023-02-13T23:00:00",
          null
         ],
         "xaxis": "x",
         "y": [
          2.8135593220338984,
          3,
          null
         ],
         "yaxis": "y"
        },
        {
         "customdata": [
          [
           "Date Range: 2023-01-22 to 2023-01-23 <br>Cumulative Progress: 0.0% <br>Level: L4"
          ],
          [
           "Date Range: 2023-01-22 to 2023-01-23<br>Progress in period: 10.17% <br>Cumulative Progress: 10.17% <br>Level: L4"
          ],
          [
           null
          ]
         ],
         "hovertemplate": "%{customdata[0]}",
         "legendgroup": "10.166666666666666",
         "line": {
          "color": "#ff9000",
          "dash": "solid",
          "width": 5
         },
         "marker": {
          "symbol": "circle"
         },
         "mode": "lines",
         "name": "",
         "orientation": "v",
         "showlegend": true,
         "type": "scatter",
         "x": [
          "2023-01-22T00:00:00",
          "2023-01-23T23:00:00",
          null
         ],
         "xaxis": "x",
         "y": [
          3,
          3.0852994555353903,
          null
         ],
         "yaxis": "y"
        },
        {
         "customdata": [
          [
           "Date Range: 2023-01-24 to 2023-01-26 <br>Cumulative Progress: 10.17% <br>Level: L4"
          ],
          [
           "Date Range: 2023-01-24 to 2023-01-26<br>Progress in period: 18.0% <br>Cumulative Progress: 28.17% <br>Level: L4"
          ],
          [
           null
          ]
         ],
         "hovertemplate": "%{customdata[0]}",
         "legendgroup": "18.0",
         "line": {
          "color": "#d6d900",
          "dash": "solid",
          "width": 5
         },
         "marker": {
          "symbol": "circle"
         },
         "mode": "lines",
         "name": "",
         "orientation": "v",
         "showlegend": true,
         "type": "scatter",
         "x": [
          "2023-01-24T00:00:00",
          "2023-01-26T23:00:00",
          null
         ],
         "xaxis": "x",
         "y": [
          3.087114337568058,
          3.215970961887477,
          null
         ],
         "yaxis": "y"
        },
        {
         "customdata": [
          [
           "Date Range: 2023-01-28 to 2023-01-30 <br>Cumulative Progress: 28.17% <br>Level: L4"
          ],
          [
           "Date Range: 2023-01-28 to 2023-01-30<br>Progress in period: 36.33% <br>Cumulative Progress: 64.5% <br>Level: L4"
          ],
          [
           null
          ]
         ],
         "hovertemplate": "%{customdata[0]}",
         "legendgroup": "36.33333333333333",
         "line": {
          "color": "#34eb00",
          "dash": "solid",
          "width": 5
         },
         "marker": {
          "symbol": "circle"
         },
         "mode": "lines",
         "name": "",
         "orientation": "v",
         "showlegend": true,
         "type": "scatter",
         "x": [
          "2023-01-28T00:00:00",
          "2023-01-30T23:00:00",
          null
         ],
         "xaxis": "x",
         "y": [
          3.2613430127041743,
          3.3901996370235934,
          null
         ],
         "yaxis": "y"
        },
        {
         "customdata": [
          [
           "Date Range: 2023-01-31 to 2023-02-02 <br>Cumulative Progress: 64.5% <br>Level: L4"
          ],
          [
           "Date Range: 2023-01-31 to 2023-02-02<br>Progress in period: 24.67% <br>Cumulative Progress: 89.17% <br>Level: L4"
          ],
          [
           null
          ]
         ],
         "hovertemplate": "%{customdata[0]}",
         "legendgroup": "24.66666666666667",
         "line": {
          "color": "#7ce300",
          "dash": "solid",
          "width": 5
         },
         "marker": {
          "symbol": "circle"
         },
         "mode": "lines",
         "name": "",
         "orientation": "v",
         "showlegend": true,
         "type": "scatter",
         "x": [
          "2023-01-31T00:00:00",
          "2023-02-02T23:00:00",
          null
         ],
         "xaxis": "x",
         "y": [
          3.392014519056261,
          3.5208711433756807,
          null
         ],
         "yaxis": "y"
        },
        {
         "customdata": [
          [
           "Date Range: 2023-02-03 to 2023-02-07 <br>Cumulative Progress: 89.17% <br>Level: L4"
          ],
          [
           "Date Range: 2023-02-03 to 2023-02-07<br>Progress in period: 0.5% <br>Cumulative Progress: 89.67% <br>Level: L4"
          ],
          [
           null
          ]
         ],
         "hovertemplate": "%{customdata[0]}",
         "legendgroup": "0.5",
         "line": {
          "color": "#ff0700",
          "dash": "solid",
          "width": 5
         },
         "marker": {
          "symbol": "circle"
         },
         "mode": "lines",
         "name": "",
         "orientation": "v",
         "showlegend": true,
         "type": "scatter",
         "x": [
          "2023-02-03T00:00:00",
          "2023-02-07T23:00:00",
          null
         ],
         "xaxis": "x",
         "y": [
          3.5226860254083485,
          3.7386569872958257,
          null
         ],
         "yaxis": "y"
        },
        {
         "customdata": [
          [
           "Date Range: 2023-02-08 to 2023-02-13 <br>Cumulative Progress: 89.67% <br>Level: L4"
          ],
          [
           "Date Range: 2023-02-08 to 2023-02-13<br>Progress in period: 9.33% <br>Cumulative Progress: 99.0% <br>Level: L4"
          ],
          [
           null
          ]
         ],
         "hovertemplate": "%{customdata[0]}",
         "legendgroup": "9.333333333333329",
         "line": {
          "color": "#ff8400",
          "dash": "solid",
          "width": 5
         },
         "marker": {
          "symbol": "circle"
         },
         "mode": "lines",
         "name": "",
         "orientation": "v",
         "showlegend": true,
         "type": "scatter",
         "x": [
          "2023-02-08T00:00:00",
          "2023-02-13T23:00:00",
          null
         ],
         "xaxis": "x",
         "y": [
          3.7404718693284935,
          4,
          null
         ],
         "yaxis": "y"
        },
        {
         "customdata": [
          [
           "Date Range: 2023-01-28 to 2023-01-30 <br>Cumulative Progress: 0.0% <br>Level: L5"
          ],
          [
           "Date Range: 2023-01-28 to 2023-01-30<br>Progress in period: 10.33% <br>Cumulative Progress: 10.33% <br>Level: L5"
          ],
          [
           null
          ]
         ],
         "hovertemplate": "%{customdata[0]}",
         "legendgroup": "10.333333333333334",
         "line": {
          "color": "#ff9200",
          "dash": "solid",
          "width": 5
         },
         "marker": {
          "symbol": "circle"
         },
         "mode": "lines",
         "name": "",
         "orientation": "v",
         "showlegend": true,
         "type": "scatter",
         "x": [
          "2023-01-28T00:00:00",
          "2023-01-30T23:00:00",
          null
         ],
         "xaxis": "x",
         "y": [
          4,
          4.118530884808013,
          null
         ],
         "yaxis": "y"
        },
        {
         "customdata": [
          [
           "Date Range: 2023-01-31 to 2023-02-02 <br>Cumulative Progress: 10.33% <br>Level: L5"
          ],
          [
           "Date Range: 2023-01-31 to 2023-02-02<br>Progress in period: 20.83% <br>Cumulative Progress: 31.17% <br>Level: L5"
          ],
          [
           null
          ]
         ],
         "hovertemplate": "%{customdata[0]}",
         "legendgroup": "20.833333333333336",
         "line": {
          "color": "#b0dd00",
          "dash": "solid",
          "width": 5
         },
         "marker": {
          "symbol": "circle"
         },
         "mode": "lines",
         "name": "",
         "orientation": "v",
         "showlegend": true,
         "type": "scatter",
         "x": [
          "2023-01-31T00:00:00",
          "2023-02-02T23:00:00",
          null
         ],
         "xaxis": "x",
         "y": [
          4.120200333889817,
          4.23873121869783,
          null
         ],
         "yaxis": "y"
        },
        {
         "customdata": [
          [
           "Date Range: 2023-02-03 to 2023-02-07 <br>Cumulative Progress: 31.17% <br>Level: L5"
          ],
          [
           "Date Range: 2023-02-03 to 2023-02-07<br>Progress in period: 45.33% <br>Cumulative Progress: 76.5% <br>Level: L5"
          ],
          [
           null
          ]
         ],
         "hovertemplate": "%{customdata[0]}",
         "legendgroup": "45.33333333333333",
         "line": {
          "color": "#34eb00",
          "dash": "solid",
          "width": 5
         },
         "marker": {
          "symbol": "circle"
         },
         "mode": "lines",
         "name": "",
         "orientation": "v",
         "showlegend": true,
         "type": "scatter",
         "x": [
          "2023-02-03T00:00:00",
          "2023-02-07T23:00:00",
          null
         ],
         "xaxis": "x",
         "y": [
          4.240400667779633,
          4.439065108514191,
          null
         ],
         "yaxis": "y"
        },
        {
         "customdata": [
          [
           "Date Range: 2023-02-08 to 2023-02-13 <br>Cumulative Progress: 76.5% <br>Level: L5"
          ],
          [
           "Date Range: 2023-02-08 to 2023-02-13<br>Progress in period: 15.33% <br>Cumulative Progress: 91.83% <br>Level: L5"
          ],
          [
           null
          ]
         ],
         "hovertemplate": "%{customdata[0]}",
         "legendgroup": "15.333333333333329",
         "line": {
          "color": "#fad500",
          "dash": "solid",
          "width": 5
         },
         "marker": {
          "symbol": "circle"
         },
         "mode": "lines",
         "name": "",
         "orientation": "v",
         "showlegend": true,
         "type": "scatter",
         "x": [
          "2023-02-08T00:00:00",
          "2023-02-13T23:00:00",
          null
         ],
         "xaxis": "x",
         "y": [
          4.440734557595993,
          4.6794657762938225,
          null
         ],
         "yaxis": "y"
        },
        {
         "customdata": [
          [
           "Date Range: 2023-02-14 to 2023-02-21 <br>Cumulative Progress: 91.83% <br>Level: L5"
          ],
          [
           "Date Range: 2023-02-14 to 2023-02-21<br>Progress in period: 8.17% <br>Cumulative Progress: 100.0% <br>Level: L5"
          ],
          [
           null
          ]
         ],
         "hovertemplate": "%{customdata[0]}",
         "legendgroup": "8.166666666666671",
         "line": {
          "color": "#ff7300",
          "dash": "solid",
          "width": 5
         },
         "marker": {
          "symbol": "circle"
         },
         "mode": "lines",
         "name": "",
         "orientation": "v",
         "showlegend": true,
         "type": "scatter",
         "x": [
          "2023-02-14T00:00:00",
          "2023-02-21T23:00:00",
          null
         ],
         "xaxis": "x",
         "y": [
          4.681135225375626,
          5,
          null
         ],
         "yaxis": "y"
        },
        {
         "customdata": [
          [
           "Date Range: 2023-02-08 to 2023-02-13 <br>Cumulative Progress: 0.0% <br>Level: L6"
          ],
          [
           "Date Range: 2023-02-08 to 2023-02-13<br>Progress in period: 17.17% <br>Cumulative Progress: 17.17% <br>Level: L6"
          ],
          [
           null
          ]
         ],
         "hovertemplate": "%{customdata[0]}",
         "legendgroup": "17.166666666666668",
         "line": {
          "color": "#e2d700",
          "dash": "solid",
          "width": 5
         },
         "marker": {
          "symbol": "circle"
         },
         "mode": "lines",
         "name": "",
         "orientation": "v",
         "showlegend": true,
         "type": "scatter",
         "x": [
          "2023-02-08T00:00:00",
          "2023-02-13T23:00:00",
          null
         ],
         "xaxis": "x",
         "y": [
          5,
          5.351351351351352,
          null
         ],
         "yaxis": "y"
        },
        {
         "customdata": [
          [
           "Date Range: 2023-02-14 to 2023-02-21 <br>Cumulative Progress: 17.17% <br>Level: L6"
          ],
          [
           "Date Range: 2023-02-14 to 2023-02-21<br>Progress in period: 50.5% <br>Cumulative Progress: 67.67% <br>Level: L6"
          ],
          [
           null
          ]
         ],
         "hovertemplate": "%{customdata[0]}",
         "legendgroup": "50.5",
         "line": {
          "color": "#34eb00",
          "dash": "solid",
          "width": 5
         },
         "marker": {
          "symbol": "circle"
         },
         "mode": "lines",
         "name": "",
         "orientation": "v",
         "showlegend": true,
         "type": "scatter",
         "x": [
          "2023-02-14T00:00:00",
          "2023-02-21T23:00:00",
          null
         ],
         "xaxis": "x",
         "y": [
          5.353808353808354,
          5.823095823095823,
          null
         ],
         "yaxis": "y"
        },
        {
         "customdata": [
          [
           "Date Range: 2023-02-22 to 2023-02-24 <br>Cumulative Progress: 67.67% <br>Level: L6"
          ],
          [
           "Date Range: 2023-02-22 to 2023-02-24<br>Progress in period: 31.5% <br>Cumulative Progress: 99.17% <br>Level: L6"
          ],
          [
           null
          ]
         ],
         "hovertemplate": "%{customdata[0]}",
         "legendgroup": "31.5",
         "line": {
          "color": "#34eb00",
          "dash": "solid",
          "width": 5
         },
         "marker": {
          "symbol": "circle"
         },
         "mode": "lines",
         "name": "",
         "orientation": "v",
         "showlegend": true,
         "type": "scatter",
         "x": [
          "2023-02-22T00:00:00",
          "2023-02-24T23:00:00",
          null
         ],
         "xaxis": "x",
         "y": [
          5.825552825552825,
          6,
          null
         ],
         "yaxis": "y"
        },
        {
         "customdata": [
          [
           "Date Range: 2023-02-22 to 2023-02-24 <br>Cumulative Progress: 0.0% <br>Level: L7"
          ],
          [
           "Date Range: 2023-02-22 to 2023-02-24<br>Progress in period: 27.0% <br>Cumulative Progress: 27.0% <br>Level: L7"
          ],
          [
           null
          ]
         ],
         "hovertemplate": "%{customdata[0]}",
         "legendgroup": "27.0",
         "line": {
          "color": "#5de600",
          "dash": "solid",
          "width": 5
         },
         "marker": {
          "symbol": "circle"
         },
         "mode": "lines",
         "name": "",
         "orientation": "v",
         "showlegend": true,
         "type": "scatter",
         "x": [
          "2023-02-22T00:00:00",
          "2023-02-24T23:00:00",
          null
         ],
         "xaxis": "x",
         "y": [
          6,
          6.2119402985074625,
          null
         ],
         "yaxis": "y"
        },
        {
         "customdata": [
          [
           "Date Range: 2023-02-25 to 2023-02-27 <br>Cumulative Progress: 27.0% <br>Level: L7"
          ],
          [
           "Date Range: 2023-02-25 to 2023-02-27<br>Progress in period: 14.83% <br>Cumulative Progress: 41.83% <br>Level: L7"
          ],
          [
           null
          ]
         ],
         "hovertemplate": "%{customdata[0]}",
         "legendgroup": "14.833333333333336",
         "line": {
          "color": "#ffd200",
          "dash": "solid",
          "width": 5
         },
         "marker": {
          "symbol": "circle"
         },
         "mode": "lines",
         "name": "",
         "orientation": "v",
         "showlegend": true,
         "type": "scatter",
         "x": [
          "2023-02-25T00:00:00",
          "2023-02-27T23:00:00",
          null
         ],
         "xaxis": "x",
         "y": [
          6.214925373134328,
          6.426865671641791,
          null
         ],
         "yaxis": "y"
        },
        {
         "customdata": [
          [
           "Date Range: 2023-02-28 to 2023-03-03 <br>Cumulative Progress: 41.83% <br>Level: L7"
          ],
          [
           "Date Range: 2023-02-28 to 2023-03-03<br>Progress in period: 46.83% <br>Cumulative Progress: 88.67% <br>Level: L7"
          ],
          [
           null
          ]
         ],
         "hovertemplate": "%{customdata[0]}",
         "legendgroup": "46.833333333333336",
         "line": {
          "color": "#34eb00",
          "dash": "solid",
          "width": 5
         },
         "marker": {
          "symbol": "circle"
         },
         "mode": "lines",
         "name": "",
         "orientation": "v",
         "showlegend": true,
         "type": "scatter",
         "x": [
          "2023-02-28T00:00:00",
          "2023-03-03T23:00:00",
          null
         ],
         "xaxis": "x",
         "y": [
          6.429850746268657,
          6.713432835820895,
          null
         ],
         "yaxis": "y"
        },
        {
         "customdata": [
          [
           "Date Range: 2023-03-04 to 2023-03-07 <br>Cumulative Progress: 88.67% <br>Level: L7"
          ],
          [
           "Date Range: 2023-03-04 to 2023-03-07<br>Progress in period: 11.33% <br>Cumulative Progress: 100.0% <br>Level: L7"
          ],
          [
           null
          ]
         ],
         "hovertemplate": "%{customdata[0]}",
         "legendgroup": "11.333333333333329",
         "line": {
          "color": "#ffa000",
          "dash": "solid",
          "width": 5
         },
         "marker": {
          "symbol": "circle"
         },
         "mode": "lines",
         "name": "",
         "orientation": "v",
         "showlegend": true,
         "type": "scatter",
         "x": [
          "2023-03-04T00:00:00",
          "2023-03-07T23:00:00",
          null
         ],
         "xaxis": "x",
         "y": [
          6.7164179104477615,
          7,
          null
         ],
         "yaxis": "y"
        },
        {
         "customdata": [
          [
           "Date Range: 2023-02-22 to 2023-02-24 <br>Cumulative Progress: 0.0% <br>Level: L8"
          ],
          [
           "Date Range: 2023-02-22 to 2023-02-24<br>Progress in period: 24.2% <br>Cumulative Progress: 24.2% <br>Level: L8"
          ],
          [
           null
          ]
         ],
         "hovertemplate": "%{customdata[0]}",
         "legendgroup": "24.2",
         "line": {
          "color": "#82e200",
          "dash": "solid",
          "width": 5
         },
         "marker": {
          "symbol": "circle"
         },
         "mode": "lines",
         "name": "",
         "orientation": "v",
         "showlegend": true,
         "type": "scatter",
         "x": [
          "2023-02-22T00:00:00",
          "2023-02-24T23:00:00",
          null
         ],
         "xaxis": "x",
         "y": [
          7,
          7.2119402985074625,
          null
         ],
         "yaxis": "y"
        },
        {
         "customdata": [
          [
           "Date Range: 2023-02-25 to 2023-02-27 <br>Cumulative Progress: 24.2% <br>Level: L8"
          ],
          [
           "Date Range: 2023-02-25 to 2023-02-27<br>Progress in period: 13.6% <br>Cumulative Progress: 37.8% <br>Level: L8"
          ],
          [
           null
          ]
         ],
         "hovertemplate": "%{customdata[0]}",
         "legendgroup": "13.599999999999998",
         "line": {
          "color": "#ffc000",
          "dash": "solid",
          "width": 5
         },
         "marker": {
          "symbol": "circle"
         },
         "mode": "lines",
         "name": "",
         "orientation": "v",
         "showlegend": true,
         "type": "scatter",
         "x": [
          "2023-02-25T00:00:00",
          "2023-02-27T23:00:00",
          null
         ],
         "xaxis": "x",
         "y": [
          7.214925373134328,
          7.426865671641791,
          null
         ],
         "yaxis": "y"
        },
        {
         "customdata": [
          [
           "Date Range: 2023-02-28 to 2023-03-03 <br>Cumulative Progress: 37.8% <br>Level: L8"
          ],
          [
           "Date Range: 2023-02-28 to 2023-03-03<br>Progress in period: 58.8% <br>Cumulative Progress: 96.6% <br>Level: L8"
          ],
          [
           null
          ]
         ],
         "hovertemplate": "%{customdata[0]}",
         "legendgroup": "58.8",
         "line": {
          "color": "#34eb00",
          "dash": "solid",
          "width": 5
         },
         "marker": {
          "symbol": "circle"
         },
         "mode": "lines",
         "name": "",
         "orientation": "v",
         "showlegend": true,
         "type": "scatter",
         "x": [
          "2023-02-28T00:00:00",
          "2023-03-03T23:00:00",
          null
         ],
         "xaxis": "x",
         "y": [
          7.429850746268657,
          7.713432835820895,
          null
         ],
         "yaxis": "y"
        },
        {
         "customdata": [
          [
           "Date Range: 2023-03-04 to 2023-03-07 <br>Cumulative Progress: 96.6% <br>Level: L8"
          ],
          [
           "Date Range: 2023-03-04 to 2023-03-07<br>Progress in period: 2.0% <br>Cumulative Progress: 98.6% <br>Level: L8"
          ],
          [
           null
          ]
         ],
         "hovertemplate": "%{customdata[0]}",
         "legendgroup": "2.0",
         "line": {
          "color": "#ff1c00",
          "dash": "solid",
          "width": 5
         },
         "marker": {
          "symbol": "circle"
         },
         "mode": "lines",
         "name": "",
         "orientation": "v",
         "showlegend": true,
         "type": "scatter",
         "x": [
          "2023-03-04T00:00:00",
          "2023-03-07T23:00:00",
          null
         ],
         "xaxis": "x",
         "y": [
          7.7164179104477615,
          8,
          null
         ],
         "yaxis": "y"
        },
        {
         "hoverinfo": "none",
         "legendgroup": "",
         "line": {
          "color": "black",
          "dash": "solid",
          "width": 5
         },
         "marker": {
          "symbol": "circle"
         },
         "mode": "lines",
         "name": "",
         "opacity": 0.05,
         "orientation": "v",
         "showlegend": false,
         "type": "scatter",
         "x": [
          "2023-01-18T00:00:00",
          "2023-04-27T23:00:00",
          null,
          "2023-02-03T00:00:00",
          "2023-07-24T23:00:00",
          null,
          "2023-02-22T00:00:00",
          "2023-07-24T23:00:00",
          null,
          "2023-02-22T00:00:00",
          "2023-07-24T23:00:00",
          null,
          "2023-02-28T00:00:00",
          "2023-07-24T23:00:00",
          null,
          "2023-02-28T00:00:00",
          "2023-07-24T23:00:00",
          null,
          "2023-03-08T00:00:00",
          "2023-07-28T23:00:00",
          null,
          "2023-03-21T00:00:00",
          "2023-08-10T23:00:00",
          null
         ],
         "xaxis": "x",
         "y": [
          0,
          1,
          null,
          1,
          2,
          null,
          2,
          3,
          null,
          3,
          4,
          null,
          4,
          5,
          null,
          5,
          6,
          null,
          6,
          7,
          null,
          7,
          8,
          null
         ],
         "yaxis": "y"
        },
        {
         "customdata": [
          [
           "Date Range: 2023-01-18 to 2023-01-19 <br>Cumulative Progress: 0.0% <br>Level: L1"
          ],
          [
           "Date Range: 2023-01-18 to 2023-01-19<br>Progress in period: 10.33% <br>Cumulative Progress: 10.33% <br>Level: L1"
          ],
          [
           null
          ]
         ],
         "hovertemplate": "%{customdata[0]}",
         "legendgroup": "10.333333333333334",
         "line": {
          "color": "#ff9200",
          "dash": "solid",
          "width": 5
         },
         "marker": {
          "symbol": "circle"
         },
         "mode": "lines",
         "name": "",
         "orientation": "v",
         "showlegend": true,
         "type": "scatter",
         "x": [
          "2023-01-18T00:00:00",
          "2023-01-19T23:00:00",
          null
         ],
         "xaxis": "x",
         "y": [
          0,
          0.019591496456857024,
          null
         ],
         "yaxis": "y"
        },
        {
         "customdata": [
          [
           "Date Range: 2023-01-22 to 2023-01-23 <br>Cumulative Progress: 10.33% <br>Level: L1"
          ],
          [
           "Date Range: 2023-01-22 to 2023-01-23<br>Progress in period: 4.83% <br>Cumulative Progress: 15.17% <br>Level: L1"
          ],
          [
           null
          ]
         ],
         "hovertemplate": "%{customdata[0]}",
         "legendgroup": "4.833333333333332",
         "line": {
          "color": "#ff4400",
          "dash": "solid",
          "width": 5
         },
         "marker": {
          "symbol": "circle"
         },
         "mode": "lines",
         "name": "",
         "orientation": "v",
         "showlegend": true,
         "type": "scatter",
         "x": [
          "2023-01-22T00:00:00",
          "2023-01-23T23:00:00",
          null
         ],
         "xaxis": "x",
         "y": [
          0.040016673614005835,
          0.05960817007086286,
          null
         ],
         "yaxis": "y"
        },
        {
         "customdata": [
          [
           "Date Range: 2023-01-24 to 2023-01-26 <br>Cumulative Progress: 15.17% <br>Level: L1"
          ],
          [
           "Date Range: 2023-01-24 to 2023-01-26<br>Progress in period: 12.83% <br>Cumulative Progress: 28.0% <br>Level: L1"
          ],
          [
           null
          ]
         ],
         "hovertemplate": "%{customdata[0]}",
         "legendgroup": "12.833333333333334",
         "line": {
          "color": "#ffb500",
          "dash": "solid",
          "width": 5
         },
         "marker": {
          "symbol": "circle"
         },
         "mode": "lines",
         "name": "",
         "orientation": "v",
         "showlegend": true,
         "type": "scatter",
         "x": [
          "2023-01-24T00:00:00",
          "2023-01-26T23:00:00",
          null
         ],
         "xaxis": "x",
         "y": [
          0.06002501042100875,
          0.08962067528136723,
          null
         ],
         "yaxis": "y"
        },
        {
         "customdata": [
          [
           "Date Range: 2023-01-28 to 2023-01-30 <br>Cumulative Progress: 28.0% <br>Level: L1"
          ],
          [
           "Date Range: 2023-01-28 to 2023-01-30<br>Progress in period: 6.67% <br>Cumulative Progress: 34.67% <br>Level: L1"
          ],
          [
           null
          ]
         ],
         "hovertemplate": "%{customdata[0]}",
         "legendgroup": "6.666666666666664",
         "line": {
          "color": "#ff5e00",
          "dash": "solid",
          "width": 5
         },
         "marker": {
          "symbol": "circle"
         },
         "mode": "lines",
         "name": "",
         "orientation": "v",
         "showlegend": true,
         "type": "scatter",
         "x": [
          "2023-01-28T00:00:00",
          "2023-01-30T23:00:00",
          null
         ],
         "xaxis": "x",
         "y": [
          0.1000416840350146,
          0.12963734889537307,
          null
         ],
         "yaxis": "y"
        },
        {
         "customdata": [
          [
           "Date Range: 2023-01-31 to 2023-02-02 <br>Cumulative Progress: 34.67% <br>Level: L1"
          ],
          [
           "Date Range: 2023-01-31 to 2023-02-02<br>Progress in period: 3.17% <br>Cumulative Progress: 37.83% <br>Level: L1"
          ],
          [
           null
          ]
         ],
         "hovertemplate": "%{customdata[0]}",
         "legendgroup": "3.1666666666666714",
         "line": {
          "color": "#ff2d00",
          "dash": "solid",
          "width": 5
         },
         "marker": {
          "symbol": "circle"
         },
         "mode": "lines",
         "name": "",
         "orientation": "v",
         "showlegend": true,
         "type": "scatter",
         "x": [
          "2023-01-31T00:00:00",
          "2023-02-02T23:00:00",
          null
         ],
         "xaxis": "x",
         "y": [
          0.13005418924551895,
          0.15964985410587745,
          null
         ],
         "yaxis": "y"
        },
        {
         "customdata": [
          [
           "Date Range: 2023-02-03 to 2023-02-07 <br>Cumulative Progress: 37.83% <br>Level: L1"
          ],
          [
           "Date Range: 2023-02-03 to 2023-02-07<br>Progress in period: 0.5% <br>Cumulative Progress: 38.33% <br>Level: L1"
          ],
          [
           null
          ]
         ],
         "hovertemplate": "%{customdata[0]}",
         "legendgroup": "0.5",
         "line": {
          "color": "#ff0700",
          "dash": "solid",
          "width": 5
         },
         "marker": {
          "symbol": "circle"
         },
         "mode": "lines",
         "name": "",
         "orientation": "v",
         "showlegend": true,
         "type": "scatter",
         "x": [
          "2023-02-03T00:00:00",
          "2023-02-07T23:00:00",
          null
         ],
         "xaxis": "x",
         "y": [
          0.16006669445602334,
          0.20967069612338474,
          null
         ],
         "yaxis": "y"
        },
        {
         "customdata": [
          [
           "Date Range: 2023-02-08 to 2023-02-13 <br>Cumulative Progress: 38.33% <br>Level: L1"
          ],
          [
           "Date Range: 2023-02-08 to 2023-02-13<br>Progress in period: 29.17% <br>Cumulative Progress: 67.5% <br>Level: L1"
          ],
          [
           null
          ]
         ],
         "hovertemplate": "%{customdata[0]}",
         "legendgroup": "29.166666666666664",
         "line": {
          "color": "#3fea00",
          "dash": "solid",
          "width": 5
         },
         "marker": {
          "symbol": "circle"
         },
         "mode": "lines",
         "name": "",
         "orientation": "v",
         "showlegend": true,
         "type": "scatter",
         "x": [
          "2023-02-08T00:00:00",
          "2023-02-13T23:00:00",
          null
         ],
         "xaxis": "x",
         "y": [
          0.21008753647353065,
          0.2696957065443935,
          null
         ],
         "yaxis": "y"
        },
        {
         "customdata": [
          [
           "Date Range: 2023-02-14 to 2023-02-21 <br>Cumulative Progress: 67.5% <br>Level: L1"
          ],
          [
           "Date Range: 2023-02-14 to 2023-02-21<br>Progress in period: 19.5% <br>Cumulative Progress: 87.0% <br>Level: L1"
          ],
          [
           null
          ]
         ],
         "hovertemplate": "%{customdata[0]}",
         "legendgroup": "19.5",
         "line": {
          "color": "#c2db00",
          "dash": "solid",
          "width": 5
         },
         "marker": {
          "symbol": "circle"
         },
         "mode": "lines",
         "name": "",
         "orientation": "v",
         "showlegend": true,
         "type": "scatter",
         "x": [
          "2023-02-14T00:00:00",
          "2023-02-21T23:00:00",
          null
         ],
         "xaxis": "x",
         "y": [
          0.2701125468945394,
          0.34972905377240515,
          null
         ],
         "yaxis": "y"
        },
        {
         "customdata": [
          [
           "Date Range: 2023-02-22 to 2023-02-24 <br>Cumulative Progress: 87.0% <br>Level: L1"
          ],
          [
           "Date Range: 2023-02-22 to 2023-02-24<br>Progress in period: 1.5% <br>Cumulative Progress: 88.5% <br>Level: L1"
          ],
          [
           null
          ]
         ],
         "hovertemplate": "%{customdata[0]}",
         "legendgroup": "1.5",
         "line": {
          "color": "#ff1500",
          "dash": "solid",
          "width": 5
         },
         "marker": {
          "symbol": "circle"
         },
         "mode": "lines",
         "name": "",
         "orientation": "v",
         "showlegend": true,
         "type": "scatter",
         "x": [
          "2023-02-22T00:00:00",
          "2023-02-24T23:00:00",
          null
         ],
         "xaxis": "x",
         "y": [
          0.35014589412255104,
          0.37974155898290957,
          null
         ],
         "yaxis": "y"
        },
        {
         "customdata": [
          [
           "Date Range: 2023-02-25 to 2023-02-27 <br>Cumulative Progress: 88.5% <br>Level: L1"
          ],
          [
           "Date Range: 2023-02-25 to 2023-02-27<br>Progress in period: 0.67% <br>Cumulative Progress: 89.17% <br>Level: L1"
          ],
          [
           null
          ],
          [
           "Date Range: 2023-04-26 to 2023-04-27 <br>Cumulative Progress: 94.5% <br>Level: L1"
          ],
          [
           "Date Range: 2023-04-26 to 2023-04-27<br>Progress in period: 0.67% <br>Cumulative Progress: 95.17% <br>Level: L1"
          ],
          [
           null
          ]
         ],
         "hovertemplate": "%{customdata[0]}",
         "legendgroup": "0.6666666666666714",
         "line": {
          "color": "#ff0900",
          "dash": "solid",
          "width": 5
         },
         "marker": {
          "symbol": "circle"
         },
         "mode": "lines",
         "name": "",
         "orientation": "v",
         "showlegend": true,
         "type": "scatter",
         "x": [
          "2023-02-25T00:00:00",
          "2023-02-27T23:00:00",
          null,
          "2023-04-26T00:00:00",
          "2023-04-27T23:00:00",
          null
         ],
         "xaxis": "x",
         "y": [
          0.38015839933305545,
          0.4097540641934139,
          null,
          0.980408503543143,
          1,
          null
         ],
         "yaxis": "y"
        },
        {
         "customdata": [
          [
           "Date Range: 2023-02-28 to 2023-03-03 <br>Cumulative Progress: 89.17% <br>Level: L1"
          ],
          [
           "Date Range: 2023-02-28 to 2023-03-03<br>Progress in period: 1.0% <br>Cumulative Progress: 90.17% <br>Level: L1"
          ],
          [
           null
          ]
         ],
         "hovertemplate": "%{customdata[0]}",
         "legendgroup": "1.0",
         "line": {
          "color": "#ff0e00",
          "dash": "solid",
          "width": 5
         },
         "marker": {
          "symbol": "circle"
         },
         "mode": "lines",
         "name": "",
         "orientation": "v",
         "showlegend": true,
         "type": "scatter",
         "x": [
          "2023-02-28T00:00:00",
          "2023-03-03T23:00:00",
          null
         ],
         "xaxis": "x",
         "y": [
          0.4101709045435598,
          0.4497707378074198,
          null
         ],
         "yaxis": "y"
        },
        {
         "customdata": [
          [
           "Date Range: 2023-03-04 to 2023-03-07 <br>Cumulative Progress: 90.17% <br>Level: L1"
          ],
          [
           "Date Range: 2023-03-04 to 2023-03-07<br>Progress in period: 0.83% <br>Cumulative Progress: 91.0% <br>Level: L1"
          ],
          [
           null
          ]
         ],
         "hovertemplate": "%{customdata[0]}",
         "legendgroup": "0.8333333333333286",
         "line": {
          "color": "#ff0c00",
          "dash": "solid",
          "width": 5
         },
         "marker": {
          "symbol": "circle"
         },
         "mode": "lines",
         "name": "",
         "orientation": "v",
         "showlegend": true,
         "type": "scatter",
         "x": [
          "2023-03-04T00:00:00",
          "2023-03-07T23:00:00",
          null
         ],
         "xaxis": "x",
         "y": [
          0.45018757815756566,
          0.48978741142142557,
          null
         ],
         "yaxis": "y"
        },
        {
         "customdata": [
          [
           "Date Range: 2023-03-08 to 2023-03-09 <br>Cumulative Progress: 91.0% <br>Level: L1"
          ],
          [
           "Date Range: 2023-03-08 to 2023-03-09<br>Progress in period: 0.17% <br>Cumulative Progress: 91.17% <br>Level: L1"
          ],
          [
           null
          ],
          [
           "Date Range: 2023-04-16 to 2023-04-18 <br>Cumulative Progress: 94.0% <br>Level: L1"
          ],
          [
           "Date Range: 2023-04-16 to 2023-04-18<br>Progress in period: 0.17% <br>Cumulative Progress: 94.17% <br>Level: L1"
          ],
          [
           null
          ]
         ],
         "hovertemplate": "%{customdata[0]}",
         "legendgroup": "0.1666666666666714",
         "line": {
          "color": "#ff0200",
          "dash": "solid",
          "width": 5
         },
         "marker": {
          "symbol": "circle"
         },
         "mode": "lines",
         "name": "",
         "orientation": "v",
         "showlegend": true,
         "type": "scatter",
         "x": [
          "2023-03-08T00:00:00",
          "2023-03-09T23:00:00",
          null,
          "2023-04-16T00:00:00",
          "2023-04-18T23:00:00",
          null
         ],
         "xaxis": "x",
         "y": [
          0.4902042517715715,
          0.5097957482284285,
          null,
          0.8803668195081283,
          0.9099624843684869,
          null
         ],
         "yaxis": "y"
        },
        {
         "customdata": [
          [
           "Date Range: 2023-03-10 to 2023-03-14 <br>Cumulative Progress: 91.17% <br>Level: L1"
          ],
          [
           "Date Range: 2023-03-10 to 2023-03-14<br>Progress in period: 1.67% <br>Cumulative Progress: 92.83% <br>Level: L1"
          ],
          [
           null
          ]
         ],
         "hovertemplate": "%{customdata[0]}",
         "legendgroup": "1.6666666666666572",
         "line": {
          "color": "#ff1800",
          "dash": "solid",
          "width": 5
         },
         "marker": {
          "symbol": "circle"
         },
         "mode": "lines",
         "name": "",
         "orientation": "v",
         "showlegend": true,
         "type": "scatter",
         "x": [
          "2023-03-10T00:00:00",
          "2023-03-14T23:00:00",
          null
         ],
         "xaxis": "x",
         "y": [
          0.5102125885785744,
          0.5598165902459358,
          null
         ],
         "yaxis": "y"
        },
        {
         "customdata": [
          [
           "Date Range: 2023-03-17 to 2023-03-20 <br>Cumulative Progress: 92.83% <br>Level: L1"
          ],
          [
           "Date Range: 2023-03-17 to 2023-03-20<br>Progress in period: 0.83% <br>Cumulative Progress: 93.67% <br>Level: L1"
          ],
          [
           null
          ]
         ],
         "hovertemplate": "%{customdata[0]}",
         "legendgroup": "0.8333333333333428",
         "line": {
          "color": "#ff0c00",
          "dash": "solid",
          "width": 5
         },
         "marker": {
          "symbol": "circle"
         },
         "mode": "lines",
         "name": "",
         "orientation": "v",
         "showlegend": true,
         "type": "scatter",
         "x": [
          "2023-03-17T00:00:00",
          "2023-03-20T23:00:00",
          null
         ],
         "xaxis": "x",
         "y": [
          0.5802417674030846,
          0.6198416006669446,
          null
         ],
         "yaxis": "y"
        },
        {
         "customdata": [
          [
           "Date Range: 2023-03-31 to 2023-03-31 <br>Cumulative Progress: 93.67% <br>Level: L1"
          ],
          [
           "Date Range: 2023-03-31 to 2023-03-31<br>Progress in period: 0.33% <br>Cumulative Progress: 94.0% <br>Level: L1"
          ],
          [
           null
          ],
          [
           "Date Range: 2023-04-22 to 2023-04-25 <br>Cumulative Progress: 94.17% <br>Level: L1"
          ],
          [
           "Date Range: 2023-04-22 to 2023-04-25<br>Progress in period: 0.33% <br>Cumulative Progress: 94.5% <br>Level: L1"
          ],
          [
           null
          ]
         ],
         "hovertemplate": "%{customdata[0]}",
         "legendgroup": "0.3333333333333286",
         "line": {
          "color": "#ff0500",
          "dash": "solid",
          "width": 5
         },
         "marker": {
          "symbol": "circle"
         },
         "mode": "lines",
         "name": "",
         "orientation": "v",
         "showlegend": true,
         "type": "scatter",
         "x": [
          "2023-03-31T00:00:00",
          "2023-03-31T23:00:00",
          null,
          "2023-04-22T00:00:00",
          "2023-04-25T23:00:00",
          null
         ],
         "xaxis": "x",
         "y": [
          0.7203001250521051,
          0.7298874531054607,
          null,
          0.9403918299291372,
          0.9799916631929971,
          null
         ],
         "yaxis": "y"
        },
        {
         "customdata": [
          [
           "Date Range: 2023-02-03 to 2023-02-07 <br>Cumulative Progress: 0.0% <br>Level: L2"
          ],
          [
           "Date Range: 2023-02-03 to 2023-02-07<br>Progress in period: 5.67% <br>Cumulative Progress: 5.67% <br>Level: L2"
          ],
          [
           null
          ]
         ],
         "hovertemplate": "%{customdata[0]}",
         "legendgroup": "5.666666666666667",
         "line": {
          "color": "#ff5000",
          "dash": "solid",
          "width": 5
         },
         "marker": {
          "symbol": "circle"
         },
         "mode": "lines",
         "name": "",
         "orientation": "v",
         "showlegend": true,
         "type": "scatter",
         "x": [
          "2023-02-03T00:00:00",
          "2023-02-07T23:00:00",
          null
         ],
         "xaxis": "x",
         "y": [
          1,
          1.028834504482675,
          null
         ],
         "yaxis": "y"
        },
        {
         "customdata": [
          [
           "Date Range: 2023-02-08 to 2023-02-13 <br>Cumulative Progress: 5.67% <br>Level: L2"
          ],
          [
           "Date Range: 2023-02-08 to 2023-02-13<br>Progress in period: 19.17% <br>Cumulative Progress: 24.83% <br>Level: L2"
          ],
          [
           null
          ]
         ],
         "hovertemplate": "%{customdata[0]}",
         "legendgroup": "19.166666666666664",
         "line": {
          "color": "#c7da00",
          "dash": "solid",
          "width": 5
         },
         "marker": {
          "symbol": "circle"
         },
         "mode": "lines",
         "name": "",
         "orientation": "v",
         "showlegend": true,
         "type": "scatter",
         "x": [
          "2023-02-08T00:00:00",
          "2023-02-13T23:00:00",
          null
         ],
         "xaxis": "x",
         "y": [
          1.0290768112430337,
          1.0637266779743155,
          null
         ],
         "yaxis": "y"
        },
        {
         "customdata": [
          [
           "Date Range: 2023-02-14 to 2023-02-21 <br>Cumulative Progress: 24.83% <br>Level: L2"
          ],
          [
           "Date Range: 2023-02-14 to 2023-02-21<br>Progress in period: 15.0% <br>Cumulative Progress: 39.83% <br>Level: L2"
          ],
          [
           null
          ]
         ],
         "hovertemplate": "%{customdata[0]}",
         "legendgroup": "15.000000000000004",
         "line": {
          "color": "#ffd400",
          "dash": "solid",
          "width": 5
         },
         "marker": {
          "symbol": "circle"
         },
         "mode": "lines",
         "name": "",
         "orientation": "v",
         "showlegend": true,
         "type": "scatter",
         "x": [
          "2023-02-14T00:00:00",
          "2023-02-21T23:00:00",
          null
         ],
         "xaxis": "x",
         "y": [
          1.063968984734674,
          1.1102495759631694,
          null
         ],
         "yaxis": "y"
        },
        {
         "customdata": [
          [
           "Date Range: 2023-02-22 to 2023-02-24 <br>Cumulative Progress: 39.83% <br>Level: L2"
          ],
          [
           "Date Range: 2023-02-22 to 2023-02-24<br>Progress in period: 36.5% <br>Cumulative Progress: 76.33% <br>Level: L2"
          ],
          [
           null
          ]
         ],
         "hovertemplate": "%{customdata[0]}",
         "legendgroup": "36.49999999999999",
         "line": {
          "color": "#34eb00",
          "dash": "solid",
          "width": 5
         },
         "marker": {
          "symbol": "circle"
         },
         "mode": "lines",
         "name": "",
         "orientation": "v",
         "showlegend": true,
         "type": "scatter",
         "x": [
          "2023-02-22T00:00:00",
          "2023-02-24T23:00:00",
          null
         ],
         "xaxis": "x",
         "y": [
          1.110491882723528,
          1.1276956627089896,
          null
         ],
         "yaxis": "y"
        },
        {
         "customdata": [
          [
           "Date Range: 2023-02-25 to 2023-02-27 <br>Cumulative Progress: 76.33% <br>Level: L2"
          ],
          [
           "Date Range: 2023-02-25 to 2023-02-27<br>Progress in period: 1.5% <br>Cumulative Progress: 77.83% <br>Level: L2"
          ],
          [
           null
          ]
         ],
         "hovertemplate": "%{customdata[0]}",
         "legendgroup": "1.5",
         "line": {
          "color": "#ff1500",
          "dash": "solid",
          "width": 5
         },
         "marker": {
          "symbol": "circle"
         },
         "mode": "lines",
         "name": "",
         "orientation": "v",
         "showlegend": true,
         "type": "scatter",
         "x": [
          "2023-02-25T00:00:00",
          "2023-02-27T23:00:00",
          null
         ],
         "xaxis": "x",
         "y": [
          1.127937969469348,
          1.1451417494548097,
          null
         ],
         "yaxis": "y"
        },
        {
         "customdata": [
          [
           "Date Range: 2023-02-28 to 2023-03-03 <br>Cumulative Progress: 77.83% <br>Level: L2"
          ],
          [
           "Date Range: 2023-02-28 to 2023-03-03<br>Progress in period: 1.0% <br>Cumulative Progress: 78.83% <br>Level: L2"
          ],
          [
           null
          ]
         ],
         "hovertemplate": "%{customdata[0]}",
         "legendgroup": "1.0",
         "line": {
          "color": "#ff0e00",
          "dash": "solid",
          "width": 5
         },
         "marker": {
          "symbol": "circle"
         },
         "mode": "lines",
         "name": "",
         "orientation": "v",
         "showlegend": true,
         "type": "scatter",
         "x": [
          "2023-02-28T00:00:00",
          "2023-03-03T23:00:00",
          null
         ],
         "xaxis": "x",
         "y": [
          1.1453840562151685,
          1.1684031984492367,
          null
         ],
         "yaxis": "y"
        },
        {
         "customdata": [
          [
           "Date Range: 2023-03-04 to 2023-03-07 <br>Cumulative Progress: 78.83% <br>Level: L2"
          ],
          [
           "Date Range: 2023-03-04 to 2023-03-07<br>Progress in period: 0.33% <br>Cumulative Progress: 79.17% <br>Level: L2"
          ],
          [
           null
          ],
          [
           "Date Range: 2023-04-07 to 2023-04-12 <br>Cumulative Progress: 79.83% <br>Level: L2"
          ],
          [
           "Date Range: 2023-04-07 to 2023-04-12<br>Progress in period: 0.33% <br>Cumulative Progress: 80.17% <br>Level: L2"
          ],
          [
           null
          ]
         ],
         "hovertemplate": "%{customdata[0]}",
         "legendgroup": "0.3333333333333428",
         "line": {
          "color": "#ff0500",
          "dash": "solid",
          "width": 5
         },
         "marker": {
          "symbol": "circle"
         },
         "mode": "lines",
         "name": "",
         "orientation": "v",
         "showlegend": true,
         "type": "scatter",
         "x": [
          "2023-03-04T00:00:00",
          "2023-03-07T23:00:00",
          null,
          "2023-04-07T00:00:00",
          "2023-04-12T23:00:00",
          null
         ],
         "xaxis": "x",
         "y": [
          1.1686455052095954,
          1.1916646474436636,
          null,
          1.3663678216622244,
          1.4010176883935062,
          null
         ],
         "yaxis": "y"
        },
        {
         "customdata": [
          [
           "Date Range: 2023-03-21 to 2023-03-23 <br>Cumulative Progress: 79.17% <br>Level: L2"
          ],
          [
           "Date Range: 2023-03-21 to 2023-03-23<br>Progress in period: 0.17% <br>Cumulative Progress: 79.33% <br>Level: L2"
          ],
          [
           null
          ],
          [
           "Date Range: 2023-04-16 to 2023-04-18 <br>Cumulative Progress: 80.17% <br>Level: L2"
          ],
          [
           "Date Range: 2023-04-16 to 2023-04-18<br>Progress in period: 0.17% <br>Cumulative Progress: 80.33% <br>Level: L2"
          ],
          [
           null
          ]
         ],
         "hovertemplate": "%{customdata[0]}",
         "legendgroup": "0.1666666666666572",
         "line": {
          "color": "#ff0200",
          "dash": "solid",
          "width": 5
         },
         "marker": {
          "symbol": "circle"
         },
         "mode": "lines",
         "name": "",
         "orientation": "v",
         "showlegend": true,
         "type": "scatter",
         "x": [
          "2023-03-21T00:00:00",
          "2023-03-23T23:00:00",
          null,
          "2023-04-16T00:00:00",
          "2023-04-18T23:00:00",
          null
         ],
         "xaxis": "x",
         "y": [
          1.2675066634359098,
          1.2847104434213714,
          null,
          1.418706081899685,
          1.4359098618851465,
          null
         ],
         "yaxis": "y"
        },
        {
         "customdata": [
          [
           "Date Range: 2023-04-05 to 2023-04-06 <br>Cumulative Progress: 79.33% <br>Level: L2"
          ],
          [
           "Date Range: 2023-04-05 to 2023-04-06<br>Progress in period: 0.5% <br>Cumulative Progress: 79.83% <br>Level: L2"
          ],
          [
           null
          ]
         ],
         "hovertemplate": "%{customdata[0]}",
         "legendgroup": "0.5",
         "line": {
          "color": "#ff0700",
          "dash": "solid",
          "width": 5
         },
         "marker": {
          "symbol": "circle"
         },
         "mode": "lines",
         "name": "",
         "orientation": "v",
         "showlegend": true,
         "type": "scatter",
         "x": [
          "2023-04-05T00:00:00",
          "2023-04-06T23:00:00",
          null
         ],
         "xaxis": "x",
         "y": [
          1.3547370971650108,
          1.3661255149018658,
          null
         ],
         "yaxis": "y"
        },
        {
         "customdata": [
          [
           "Date Range: 2023-04-22 to 2023-04-25 <br>Cumulative Progress: 80.33% <br>Level: L2"
          ],
          [
           "Date Range: 2023-04-22 to 2023-04-25<br>Progress in period: 0.17% <br>Cumulative Progress: 80.5% <br>Level: L2"
          ],
          [
           null
          ]
         ],
         "hovertemplate": "%{customdata[0]}",
         "legendgroup": "0.1666666666666714",
         "line": {
          "color": "#ff0200",
          "dash": "solid",
          "width": 5
         },
         "marker": {
          "symbol": "circle"
         },
         "mode": "lines",
         "name": "",
         "orientation": "v",
         "showlegend": true,
         "type": "scatter",
         "x": [
          "2023-04-22T00:00:00",
          "2023-04-25T23:00:00",
          null
         ],
         "xaxis": "x",
         "y": [
          1.4535982553913254,
          1.4766173976253938,
          null
         ],
         "yaxis": "y"
        },
        {
         "customdata": [
          [
           "Date Range: 2023-05-14 to 2023-05-18 <br>Cumulative Progress: 80.5% <br>Level: L2"
          ],
          [
           "Date Range: 2023-05-14 to 2023-05-18<br>Progress in period: 1.83% <br>Cumulative Progress: 82.33% <br>Level: L2"
          ],
          [
           null
          ]
         ],
         "hovertemplate": "%{customdata[0]}",
         "legendgroup": "1.8333333333333286",
         "line": {
          "color": "#ff1a00",
          "dash": "solid",
          "width": 5
         },
         "marker": {
          "symbol": "circle"
         },
         "mode": "lines",
         "name": "",
         "orientation": "v",
         "showlegend": true,
         "type": "scatter",
         "x": [
          "2023-05-14T00:00:00",
          "2023-05-18T23:00:00",
          null
         ],
         "xaxis": "x",
         "y": [
          1.5815362248606735,
          1.6103707293433487,
          null
         ],
         "yaxis": "y"
        },
        {
         "customdata": [
          [
           "Date Range: 2023-06-06 to 2023-06-07 <br>Cumulative Progress: 82.33% <br>Level: L2"
          ],
          [
           "Date Range: 2023-06-06 to 2023-06-07<br>Progress in period: 2.5% <br>Cumulative Progress: 84.83% <br>Level: L2"
          ],
          [
           null
          ]
         ],
         "hovertemplate": "%{customdata[0]}",
         "legendgroup": "2.5",
         "line": {
          "color": "#ff2300",
          "dash": "solid",
          "width": 5
         },
         "marker": {
          "symbol": "circle"
         },
         "mode": "lines",
         "name": "",
         "orientation": "v",
         "showlegend": true,
         "type": "scatter",
         "x": [
          "2023-06-06T00:00:00",
          "2023-06-07T23:00:00",
          null
         ],
         "xaxis": "x",
         "y": [
          1.7152895565786286,
          1.7266779743154834,
          null
         ],
         "yaxis": "y"
        },
        {
         "customdata": [
          [
           "Date Range: 2023-06-10 to 2023-06-15 <br>Cumulative Progress: 84.83% <br>Level: L2"
          ],
          [
           "Date Range: 2023-06-10 to 2023-06-15<br>Progress in period: 6.83% <br>Cumulative Progress: 91.67% <br>Level: L2"
          ],
          [
           null
          ]
         ],
         "hovertemplate": "%{customdata[0]}",
         "legendgroup": "6.833333333333343",
         "line": {
          "color": "#ff6100",
          "dash": "solid",
          "width": 5
         },
         "marker": {
          "symbol": "circle"
         },
         "mode": "lines",
         "name": "",
         "orientation": "v",
         "showlegend": true,
         "type": "scatter",
         "x": [
          "2023-06-10T00:00:00",
          "2023-06-15T23:00:00",
          null
         ],
         "xaxis": "x",
         "y": [
          1.7385510055730555,
          1.7732008723043373,
          null
         ],
         "yaxis": "y"
        },
        {
         "customdata": [
          [
           "Date Range: 2023-07-23 to 2023-07-24 <br>Cumulative Progress: 91.67% <br>Level: L2"
          ],
          [
           "Date Range: 2023-07-23 to 2023-07-24<br>Progress in period: 8.33% <br>Cumulative Progress: 100.0% <br>Level: L2"
          ],
          [
           null
          ]
         ],
         "hovertemplate": "%{customdata[0]}",
         "legendgroup": "8.333333333333329",
         "line": {
          "color": "#ff7600",
          "dash": "solid",
          "width": 5
         },
         "marker": {
          "symbol": "circle"
         },
         "mode": "lines",
         "name": "",
         "orientation": "v",
         "showlegend": true,
         "type": "scatter",
         "x": [
          "2023-07-23T00:00:00",
          "2023-07-24T23:00:00",
          null
         ],
         "xaxis": "x",
         "y": [
          1.9886115822631452,
          2,
          null
         ],
         "yaxis": "y"
        },
        {
         "customdata": [
          [
           "Date Range: 2023-02-22 to 2023-02-24 <br>Cumulative Progress: 0.0% <br>Level: L3"
          ],
          [
           "Date Range: 2023-02-22 to 2023-02-24<br>Progress in period: 14.17% <br>Cumulative Progress: 14.17% <br>Level: L3"
          ],
          [
           null
          ]
         ],
         "hovertemplate": "%{customdata[0]}",
         "legendgroup": "14.166666666666666",
         "line": {
          "color": "#ffc800",
          "dash": "solid",
          "width": 5
         },
         "marker": {
          "symbol": "circle"
         },
         "mode": "lines",
         "name": "",
         "orientation": "v",
         "showlegend": true,
         "type": "scatter",
         "x": [
          "2023-02-22T00:00:00",
          "2023-02-24T23:00:00",
          null
         ],
         "xaxis": "x",
         "y": [
          2,
          2.01934077907927,
          null
         ],
         "yaxis": "y"
        },
        {
         "customdata": [
          [
           "Date Range: 2023-02-25 to 2023-02-27 <br>Cumulative Progress: 14.17% <br>Level: L3"
          ],
          [
           "Date Range: 2023-02-25 to 2023-02-27<br>Progress in period: 0.33% <br>Cumulative Progress: 14.5% <br>Level: L3"
          ],
          [
           null
          ]
         ],
         "hovertemplate": "%{customdata[0]}",
         "legendgroup": "0.3333333333333339",
         "line": {
          "color": "#ff0500",
          "dash": "solid",
          "width": 5
         },
         "marker": {
          "symbol": "circle"
         },
         "mode": "lines",
         "name": "",
         "orientation": "v",
         "showlegend": true,
         "type": "scatter",
         "x": [
          "2023-02-25T00:00:00",
          "2023-02-27T23:00:00",
          null
         ],
         "xaxis": "x",
         "y": [
          2.0196131844184144,
          2.0389539634976845,
          null
         ],
         "yaxis": "y"
        },
        {
         "customdata": [
          [
           "Date Range: 2023-02-28 to 2023-03-03 <br>Cumulative Progress: 14.5% <br>Level: L3"
          ],
          [
           "Date Range: 2023-02-28 to 2023-03-03<br>Progress in period: 0.17% <br>Cumulative Progress: 14.67% <br>Level: L3"
          ],
          [
           null
          ]
         ],
         "hovertemplate": "%{customdata[0]}",
         "legendgroup": "0.16666666666666607",
         "line": {
          "color": "#ff0200",
          "dash": "solid",
          "width": 5
         },
         "marker": {
          "symbol": "circle"
         },
         "mode": "lines",
         "name": "",
         "orientation": "v",
         "showlegend": true,
         "type": "scatter",
         "x": [
          "2023-02-28T00:00:00",
          "2023-03-03T23:00:00",
          null
         ],
         "xaxis": "x",
         "y": [
          2.0392263688368293,
          2.0651048760555706,
          null
         ],
         "yaxis": "y"
        },
        {
         "customdata": [
          [
           "Date Range: 2023-03-08 to 2023-03-09 <br>Cumulative Progress: 14.67% <br>Level: L3"
          ],
          [
           "Date Range: 2023-03-08 to 2023-03-09<br>Progress in period: 0.17% <br>Cumulative Progress: 14.83% <br>Level: L3"
          ],
          [
           null
          ],
          [
           "Date Range: 2023-03-31 to 2023-03-31 <br>Cumulative Progress: 15.17% <br>Level: L3"
          ],
          [
           "Date Range: 2023-03-31 to 2023-03-31<br>Progress in period: 0.17% <br>Cumulative Progress: 15.33% <br>Level: L3"
          ],
          [
           null
          ]
         ],
         "hovertemplate": "%{customdata[0]}",
         "legendgroup": "0.16666666666666785",
         "line": {
          "color": "#ff0200",
          "dash": "solid",
          "width": 5
         },
         "marker": {
          "symbol": "circle"
         },
         "mode": "lines",
         "name": "",
         "orientation": "v",
         "showlegend": true,
         "type": "scatter",
         "x": [
          "2023-03-08T00:00:00",
          "2023-03-09T23:00:00",
          null,
          "2023-03-31T00:00:00",
          "2023-03-31T23:00:00",
          null
         ],
         "xaxis": "x",
         "y": [
          2.0915281939526014,
          2.1043312448924,
          null,
          2.241895941160447,
          2.2481612639607738,
          null
         ],
         "yaxis": "y"
        },
        {
         "customdata": [
          [
           "Date Range: 2023-03-17 to 2023-03-20 <br>Cumulative Progress: 14.83% <br>Level: L3"
          ],
          [
           "Date Range: 2023-03-17 to 2023-03-20<br>Progress in period: 0.33% <br>Cumulative Progress: 15.17% <br>Level: L3"
          ],
          [
           null
          ]
         ],
         "hovertemplate": "%{customdata[0]}",
         "legendgroup": "0.33333333333333215",
         "line": {
          "color": "#ff0500",
          "dash": "solid",
          "width": 5
         },
         "marker": {
          "symbol": "circle"
         },
         "mode": "lines",
         "name": "",
         "orientation": "v",
         "showlegend": true,
         "type": "scatter",
         "x": [
          "2023-03-17T00:00:00",
          "2023-03-20T23:00:00",
          null
         ],
         "xaxis": "x",
         "y": [
          2.150367747207845,
          2.176246254426587,
          null
         ],
         "yaxis": "y"
        },
        {
         "customdata": [
          [
           "Date Range: 2023-04-13 to 2023-04-15 <br>Cumulative Progress: 15.33% <br>Level: L3"
          ],
          [
           "Date Range: 2023-04-13 to 2023-04-15<br>Progress in period: 7.0% <br>Cumulative Progress: 22.33% <br>Level: L3"
          ],
          [
           null
          ]
         ],
         "hovertemplate": "%{customdata[0]}",
         "legendgroup": "6.999999999999998",
         "line": {
          "color": "#ff6300",
          "dash": "solid",
          "width": 5
         },
         "marker": {
          "symbol": "circle"
         },
         "mode": "lines",
         "name": "",
         "orientation": "v",
         "showlegend": true,
         "type": "scatter",
         "x": [
          "2023-04-13T00:00:00",
          "2023-04-15T23:00:00",
          null
         ],
         "xaxis": "x",
         "y": [
          2.3268864069735766,
          2.3462271860528467,
          null
         ],
         "yaxis": "y"
        },
        {
         "customdata": [
          [
           "Date Range: 2023-04-16 to 2023-04-18 <br>Cumulative Progress: 22.33% <br>Level: L3"
          ],
          [
           "Date Range: 2023-04-16 to 2023-04-18<br>Progress in period: 1.17% <br>Cumulative Progress: 23.5% <br>Level: L3"
          ],
          [
           null
          ]
         ],
         "hovertemplate": "%{customdata[0]}",
         "legendgroup": "1.1666666666666679",
         "line": {
          "color": "#ff1000",
          "dash": "solid",
          "width": 5
         },
         "marker": {
          "symbol": "circle"
         },
         "mode": "lines",
         "name": "",
         "orientation": "v",
         "showlegend": true,
         "type": "scatter",
         "x": [
          "2023-04-16T00:00:00",
          "2023-04-18T23:00:00",
          null
         ],
         "xaxis": "x",
         "y": [
          2.346499591391991,
          2.365840370471261,
          null
         ],
         "yaxis": "y"
        },
        {
         "customdata": [
          [
           "Date Range: 2023-04-19 to 2023-04-21 <br>Cumulative Progress: 23.5% <br>Level: L3"
          ],
          [
           "Date Range: 2023-04-19 to 2023-04-21<br>Progress in period: 1.67% <br>Cumulative Progress: 25.17% <br>Level: L3"
          ],
          [
           null
          ]
         ],
         "hovertemplate": "%{customdata[0]}",
         "legendgroup": "1.6666666666666679",
         "line": {
          "color": "#ff1800",
          "dash": "solid",
          "width": 5
         },
         "marker": {
          "symbol": "circle"
         },
         "mode": "lines",
         "name": "",
         "orientation": "v",
         "showlegend": true,
         "type": "scatter",
         "x": [
          "2023-04-19T00:00:00",
          "2023-04-21T23:00:00",
          null
         ],
         "xaxis": "x",
         "y": [
          2.366112775810406,
          2.385453554889676,
          null
         ],
         "yaxis": "y"
        },
        {
         "customdata": [
          [
           "Date Range: 2023-04-22 to 2023-04-25 <br>Cumulative Progress: 25.17% <br>Level: L3"
          ],
          [
           "Date Range: 2023-04-22 to 2023-04-25<br>Progress in period: 25.83% <br>Cumulative Progress: 51.0% <br>Level: L3"
          ],
          [
           null
          ]
         ],
         "hovertemplate": "%{customdata[0]}",
         "legendgroup": "25.833333333333332",
         "line": {
          "color": "#6ce500",
          "dash": "solid",
          "width": 5
         },
         "marker": {
          "symbol": "circle"
         },
         "mode": "lines",
         "name": "",
         "orientation": "v",
         "showlegend": true,
         "type": "scatter",
         "x": [
          "2023-04-22T00:00:00",
          "2023-04-25T23:00:00",
          null
         ],
         "xaxis": "x",
         "y": [
          2.3857259602288203,
          2.411604467447562,
          null
         ],
         "yaxis": "y"
        },
        {
         "customdata": [
          [
           "Date Range: 2023-04-26 to 2023-04-27 <br>Cumulative Progress: 51.0% <br>Level: L3"
          ],
          [
           "Date Range: 2023-04-26 to 2023-04-27<br>Progress in period: 27.5% <br>Cumulative Progress: 78.5% <br>Level: L3"
          ],
          [
           null
          ]
         ],
         "hovertemplate": "%{customdata[0]}",
         "legendgroup": "27.5",
         "line": {
          "color": "#56e700",
          "dash": "solid",
          "width": 5
         },
         "marker": {
          "symbol": "circle"
         },
         "mode": "lines",
         "name": "",
         "orientation": "v",
         "showlegend": true,
         "type": "scatter",
         "x": [
          "2023-04-26T00:00:00",
          "2023-04-27T23:00:00",
          null
         ],
         "xaxis": "x",
         "y": [
          2.4118768727867064,
          2.424679923726505,
          null
         ],
         "yaxis": "y"
        },
        {
         "customdata": [
          [
           "Date Range: 2023-04-28 to 2023-05-02 <br>Cumulative Progress: 78.5% <br>Level: L3"
          ],
          [
           "Date Range: 2023-04-28 to 2023-05-02<br>Progress in period: 0.83% <br>Cumulative Progress: 79.33% <br>Level: L3"
          ],
          [
           null
          ]
         ],
         "hovertemplate": "%{customdata[0]}",
         "legendgroup": "0.8333333333333286",
         "line": {
          "color": "#ff0c00",
          "dash": "solid",
          "width": 5
         },
         "marker": {
          "symbol": "circle"
         },
         "mode": "lines",
         "name": "",
         "orientation": "v",
         "showlegend": true,
         "type": "scatter",
         "x": [
          "2023-04-28T00:00:00",
          "2023-05-02T23:00:00",
          null
         ],
         "xaxis": "x",
         "y": [
          2.4249523290656496,
          2.4573685644238625,
          null
         ],
         "yaxis": "y"
        },
        {
         "customdata": [
          [
           "Date Range: 2023-05-14 to 2023-05-18 <br>Cumulative Progress: 79.33% <br>Level: L3"
          ],
          [
           "Date Range: 2023-05-14 to 2023-05-18<br>Progress in period: 0.17% <br>Cumulative Progress: 79.5% <br>Level: L3"
          ],
          [
           null
          ]
         ],
         "hovertemplate": "%{customdata[0]}",
         "legendgroup": "0.1666666666666714",
         "line": {
          "color": "#ff0200",
          "dash": "solid",
          "width": 5
         },
         "marker": {
          "symbol": "circle"
         },
         "mode": "lines",
         "name": "",
         "orientation": "v",
         "showlegend": true,
         "type": "scatter",
         "x": [
          "2023-05-14T00:00:00",
          "2023-05-18T23:00:00",
          null
         ],
         "xaxis": "x",
         "y": [
          2.5295559792971942,
          2.561972214655407,
          null
         ],
         "yaxis": "y"
        },
        {
         "customdata": [
          [
           "Date Range: 2023-06-06 to 2023-06-07 <br>Cumulative Progress: 79.5% <br>Level: L3"
          ],
          [
           "Date Range: 2023-06-06 to 2023-06-07<br>Progress in period: 1.0% <br>Cumulative Progress: 80.5% <br>Level: L3"
          ],
          [
           null
          ]
         ],
         "hovertemplate": "%{customdata[0]}",
         "legendgroup": "1.0",
         "line": {
          "color": "#ff0e00",
          "dash": "solid",
          "width": 5
         },
         "marker": {
          "symbol": "circle"
         },
         "mode": "lines",
         "name": "",
         "orientation": "v",
         "showlegend": true,
         "type": "scatter",
         "x": [
          "2023-06-06T00:00:00",
          "2023-06-07T23:00:00",
          null
         ],
         "xaxis": "x",
         "y": [
          2.6799237265050397,
          2.692726777444838,
          null
         ],
         "yaxis": "y"
        },
        {
         "customdata": [
          [
           "Date Range: 2023-06-23 to 2023-06-30 <br>Cumulative Progress: 80.5% <br>Level: L3"
          ],
          [
           "Date Range: 2023-06-23 to 2023-06-30<br>Progress in period: 0.33% <br>Cumulative Progress: 80.83% <br>Level: L3"
          ],
          [
           null
          ]
         ],
         "hovertemplate": "%{customdata[0]}",
         "legendgroup": "0.3333333333333286",
         "line": {
          "color": "#ff0500",
          "dash": "solid",
          "width": 5
         },
         "marker": {
          "symbol": "circle"
         },
         "mode": "lines",
         "name": "",
         "orientation": "v",
         "showlegend": true,
         "type": "scatter",
         "x": [
          "2023-06-23T00:00:00",
          "2023-06-30T23:00:00",
          null
         ],
         "xaxis": "x",
         "y": [
          2.7910651048760555,
          2.8430945246526833,
          null
         ],
         "yaxis": "y"
        },
        {
         "customdata": [
          [
           "Date Range: 2023-07-23 to 2023-07-24 <br>Cumulative Progress: 80.83% <br>Level: L3"
          ],
          [
           "Date Range: 2023-07-23 to 2023-07-24<br>Progress in period: 19.17% <br>Cumulative Progress: 100.0% <br>Level: L3"
          ],
          [
           null
          ]
         ],
         "hovertemplate": "%{customdata[0]}",
         "legendgroup": "19.16666666666667",
         "line": {
          "color": "#c7da00",
          "dash": "solid",
          "width": 5
         },
         "marker": {
          "symbol": "circle"
         },
         "mode": "lines",
         "name": "",
         "orientation": "v",
         "showlegend": true,
         "type": "scatter",
         "x": [
          "2023-07-23T00:00:00",
          "2023-07-24T23:00:00",
          null
         ],
         "xaxis": "x",
         "y": [
          2.9871969490602015,
          3,
          null
         ],
         "yaxis": "y"
        },
        {
         "customdata": [
          [
           "Date Range: 2023-02-22 to 2023-02-24 <br>Cumulative Progress: 0.0% <br>Level: L4"
          ],
          [
           "Date Range: 2023-02-22 to 2023-02-24<br>Progress in period: 9.0% <br>Cumulative Progress: 9.0% <br>Level: L4"
          ],
          [
           null
          ]
         ],
         "hovertemplate": "%{customdata[0]}",
         "legendgroup": "9.0",
         "line": {
          "color": "#ff7f00",
          "dash": "solid",
          "width": 5
         },
         "marker": {
          "symbol": "circle"
         },
         "mode": "lines",
         "name": "",
         "orientation": "v",
         "showlegend": true,
         "type": "scatter",
         "x": [
          "2023-02-22T00:00:00",
          "2023-02-24T23:00:00",
          null
         ],
         "xaxis": "x",
         "y": [
          3,
          3.01934077907927,
          null
         ],
         "yaxis": "y"
        },
        {
         "customdata": [
          [
           "Date Range: 2023-02-25 to 2023-02-27 <br>Cumulative Progress: 9.0% <br>Level: L4"
          ],
          [
           "Date Range: 2023-02-25 to 2023-02-27<br>Progress in period: 2.5% <br>Cumulative Progress: 11.5% <br>Level: L4"
          ],
          [
           null
          ]
         ],
         "hovertemplate": "%{customdata[0]}",
         "legendgroup": "2.5",
         "line": {
          "color": "#ff2300",
          "dash": "solid",
          "width": 5
         },
         "marker": {
          "symbol": "circle"
         },
         "mode": "lines",
         "name": "",
         "orientation": "v",
         "showlegend": true,
         "type": "scatter",
         "x": [
          "2023-02-25T00:00:00",
          "2023-02-27T23:00:00",
          null
         ],
         "xaxis": "x",
         "y": [
          3.0196131844184144,
          3.0389539634976845,
          null
         ],
         "yaxis": "y"
        },
        {
         "customdata": [
          [
           "Date Range: 2023-02-28 to 2023-03-03 <br>Cumulative Progress: 11.5% <br>Level: L4"
          ],
          [
           "Date Range: 2023-02-28 to 2023-03-03<br>Progress in period: 0.83% <br>Cumulative Progress: 12.33% <br>Level: L4"
          ],
          [
           null
          ]
         ],
         "hovertemplate": "%{customdata[0]}",
         "legendgroup": "0.8333333333333339",
         "line": {
          "color": "#ff0c00",
          "dash": "solid",
          "width": 5
         },
         "marker": {
          "symbol": "circle"
         },
         "mode": "lines",
         "name": "",
         "orientation": "v",
         "showlegend": true,
         "type": "scatter",
         "x": [
          "2023-02-28T00:00:00",
          "2023-03-03T23:00:00",
          null
         ],
         "xaxis": "x",
         "y": [
          3.0392263688368293,
          3.0651048760555706,
          null
         ],
         "yaxis": "y"
        },
        {
         "customdata": [
          [
           "Date Range: 2023-03-04 to 2023-03-07 <br>Cumulative Progress: 12.33% <br>Level: L4"
          ],
          [
           "Date Range: 2023-03-04 to 2023-03-07<br>Progress in period: 0.17% <br>Cumulative Progress: 12.5% <br>Level: L4"
          ],
          [
           null
          ],
          [
           "Date Range: 2023-03-31 to 2023-03-31 <br>Cumulative Progress: 14.33% <br>Level: L4"
          ],
          [
           "Date Range: 2023-03-31 to 2023-03-31<br>Progress in period: 0.17% <br>Cumulative Progress: 14.5% <br>Level: L4"
          ],
          [
           null
          ]
         ],
         "hovertemplate": "%{customdata[0]}",
         "legendgroup": "0.16666666666666607",
         "line": {
          "color": "#ff0200",
          "dash": "solid",
          "width": 5
         },
         "marker": {
          "symbol": "circle"
         },
         "mode": "lines",
         "name": "",
         "orientation": "v",
         "showlegend": true,
         "type": "scatter",
         "x": [
          "2023-03-04T00:00:00",
          "2023-03-07T23:00:00",
          null,
          "2023-03-31T00:00:00",
          "2023-03-31T23:00:00",
          null
         ],
         "xaxis": "x",
         "y": [
          3.0653772813947153,
          3.0912557886134566,
          null,
          3.241895941160447,
          3.2481612639607738,
          null
         ],
         "yaxis": "y"
        },
        {
         "customdata": [
          [
           "Date Range: 2023-03-17 to 2023-03-20 <br>Cumulative Progress: 12.5% <br>Level: L4"
          ],
          [
           "Date Range: 2023-03-17 to 2023-03-20<br>Progress in period: 1.67% <br>Cumulative Progress: 14.17% <br>Level: L4"
          ],
          [
           null
          ]
         ],
         "hovertemplate": "%{customdata[0]}",
         "legendgroup": "1.666666666666666",
         "line": {
          "color": "#ff1800",
          "dash": "solid",
          "width": 5
         },
         "marker": {
          "symbol": "circle"
         },
         "mode": "lines",
         "name": "",
         "orientation": "v",
         "showlegend": true,
         "type": "scatter",
         "x": [
          "2023-03-17T00:00:00",
          "2023-03-20T23:00:00",
          null
         ],
         "xaxis": "x",
         "y": [
          3.150367747207845,
          3.176246254426587,
          null
         ],
         "yaxis": "y"
        },
        {
         "customdata": [
          [
           "Date Range: 2023-03-21 to 2023-03-23 <br>Cumulative Progress: 14.17% <br>Level: L4"
          ],
          [
           "Date Range: 2023-03-21 to 2023-03-23<br>Progress in period: 0.17% <br>Cumulative Progress: 14.33% <br>Level: L4"
          ],
          [
           null
          ]
         ],
         "hovertemplate": "%{customdata[0]}",
         "legendgroup": "0.16666666666666785",
         "line": {
          "color": "#ff0200",
          "dash": "solid",
          "width": 5
         },
         "marker": {
          "symbol": "circle"
         },
         "mode": "lines",
         "name": "",
         "orientation": "v",
         "showlegend": true,
         "type": "scatter",
         "x": [
          "2023-03-21T00:00:00",
          "2023-03-23T23:00:00",
          null
         ],
         "xaxis": "x",
         "y": [
          3.1765186597657316,
          3.1958594388450012,
          null
         ],
         "yaxis": "y"
        },
        {
         "customdata": [
          [
           "Date Range: 2023-04-16 to 2023-04-18 <br>Cumulative Progress: 14.5% <br>Level: L4"
          ],
          [
           "Date Range: 2023-04-16 to 2023-04-18<br>Progress in period: 0.33% <br>Cumulative Progress: 14.83% <br>Level: L4"
          ],
          [
           null
          ]
         ],
         "hovertemplate": "%{customdata[0]}",
         "legendgroup": "0.3333333333333339",
         "line": {
          "color": "#ff0500",
          "dash": "solid",
          "width": 5
         },
         "marker": {
          "symbol": "circle"
         },
         "mode": "lines",
         "name": "",
         "orientation": "v",
         "showlegend": true,
         "type": "scatter",
         "x": [
          "2023-04-16T00:00:00",
          "2023-04-18T23:00:00",
          null
         ],
         "xaxis": "x",
         "y": [
          3.346499591391991,
          3.365840370471261,
          null
         ],
         "yaxis": "y"
        },
        {
         "customdata": [
          [
           "Date Range: 2023-04-19 to 2023-04-21 <br>Cumulative Progress: 14.83% <br>Level: L4"
          ],
          [
           "Date Range: 2023-04-19 to 2023-04-21<br>Progress in period: 12.0% <br>Cumulative Progress: 26.83% <br>Level: L4"
          ],
          [
           null
          ]
         ],
         "hovertemplate": "%{customdata[0]}",
         "legendgroup": "11.999999999999998",
         "line": {
          "color": "#ffaa00",
          "dash": "solid",
          "width": 5
         },
         "marker": {
          "symbol": "circle"
         },
         "mode": "lines",
         "name": "",
         "orientation": "v",
         "showlegend": true,
         "type": "scatter",
         "x": [
          "2023-04-19T00:00:00",
          "2023-04-21T23:00:00",
          null
         ],
         "xaxis": "x",
         "y": [
          3.366112775810406,
          3.385453554889676,
          null
         ],
         "yaxis": "y"
        },
        {
         "customdata": [
          [
           "Date Range: 2023-04-26 to 2023-04-27 <br>Cumulative Progress: 26.83% <br>Level: L4"
          ],
          [
           "Date Range: 2023-04-26 to 2023-04-27<br>Progress in period: 8.67% <br>Cumulative Progress: 35.5% <br>Level: L4"
          ],
          [
           null
          ]
         ],
         "hovertemplate": "%{customdata[0]}",
         "legendgroup": "8.666666666666668",
         "line": {
          "color": "#ff7a00",
          "dash": "solid",
          "width": 5
         },
         "marker": {
          "symbol": "circle"
         },
         "mode": "lines",
         "name": "",
         "orientation": "v",
         "showlegend": true,
         "type": "scatter",
         "x": [
          "2023-04-26T00:00:00",
          "2023-04-27T23:00:00",
          null
         ],
         "xaxis": "x",
         "y": [
          3.4118768727867064,
          3.424679923726505,
          null
         ],
         "yaxis": "y"
        },
        {
         "customdata": [
          [
           "Date Range: 2023-04-28 to 2023-05-02 <br>Cumulative Progress: 35.5% <br>Level: L4"
          ],
          [
           "Date Range: 2023-04-28 to 2023-05-02<br>Progress in period: 3.83% <br>Cumulative Progress: 39.33% <br>Level: L4"
          ],
          [
           null
          ]
         ],
         "hovertemplate": "%{customdata[0]}",
         "legendgroup": "3.8333333333333357",
         "line": {
          "color": "#ff3600",
          "dash": "solid",
          "width": 5
         },
         "marker": {
          "symbol": "circle"
         },
         "mode": "lines",
         "name": "",
         "orientation": "v",
         "showlegend": true,
         "type": "scatter",
         "x": [
          "2023-04-28T00:00:00",
          "2023-05-02T23:00:00",
          null
         ],
         "xaxis": "x",
         "y": [
          3.4249523290656496,
          3.4573685644238625,
          null
         ],
         "yaxis": "y"
        },
        {
         "customdata": [
          [
           "Date Range: 2023-05-14 to 2023-05-18 <br>Cumulative Progress: 39.33% <br>Level: L4"
          ],
          [
           "Date Range: 2023-05-14 to 2023-05-18<br>Progress in period: 33.83% <br>Cumulative Progress: 73.17% <br>Level: L4"
          ],
          [
           null
          ]
         ],
         "hovertemplate": "%{customdata[0]}",
         "legendgroup": "33.833333333333336",
         "line": {
          "color": "#34eb00",
          "dash": "solid",
          "width": 5
         },
         "marker": {
          "symbol": "circle"
         },
         "mode": "lines",
         "name": "",
         "orientation": "v",
         "showlegend": true,
         "type": "scatter",
         "x": [
          "2023-05-14T00:00:00",
          "2023-05-18T23:00:00",
          null
         ],
         "xaxis": "x",
         "y": [
          3.5295559792971942,
          3.561972214655407,
          null
         ],
         "yaxis": "y"
        },
        {
         "customdata": [
          [
           "Date Range: 2023-06-06 to 2023-06-07 <br>Cumulative Progress: 73.17% <br>Level: L4"
          ],
          [
           "Date Range: 2023-06-06 to 2023-06-07<br>Progress in period: 2.33% <br>Cumulative Progress: 75.5% <br>Level: L4"
          ],
          [
           null
          ]
         ],
         "hovertemplate": "%{customdata[0]}",
         "legendgroup": "2.3333333333333286",
         "line": {
          "color": "#ff2100",
          "dash": "solid",
          "width": 5
         },
         "marker": {
          "symbol": "circle"
         },
         "mode": "lines",
         "name": "",
         "orientation": "v",
         "showlegend": true,
         "type": "scatter",
         "x": [
          "2023-06-06T00:00:00",
          "2023-06-07T23:00:00",
          null
         ],
         "xaxis": "x",
         "y": [
          3.6799237265050397,
          3.692726777444838,
          null
         ],
         "yaxis": "y"
        },
        {
         "customdata": [
          [
           "Date Range: 2023-06-10 to 2023-06-15 <br>Cumulative Progress: 75.5% <br>Level: L4"
          ],
          [
           "Date Range: 2023-06-10 to 2023-06-15<br>Progress in period: 1.5% <br>Cumulative Progress: 77.0% <br>Level: L4"
          ],
          [
           null
          ]
         ],
         "hovertemplate": "%{customdata[0]}",
         "legendgroup": "1.5",
         "line": {
          "color": "#ff1500",
          "dash": "solid",
          "width": 5
         },
         "marker": {
          "symbol": "circle"
         },
         "mode": "lines",
         "name": "",
         "orientation": "v",
         "showlegend": true,
         "type": "scatter",
         "x": [
          "2023-06-10T00:00:00",
          "2023-06-15T23:00:00",
          null
         ],
         "xaxis": "x",
         "y": [
          3.706074639062926,
          3.7450286025606103,
          null
         ],
         "yaxis": "y"
        },
        {
         "customdata": [
          [
           "Date Range: 2023-06-21 to 2023-06-22 <br>Cumulative Progress: 77.0% <br>Level: L4"
          ],
          [
           "Date Range: 2023-06-21 to 2023-06-22<br>Progress in period: 1.83% <br>Cumulative Progress: 78.83% <br>Level: L4"
          ],
          [
           null
          ]
         ],
         "hovertemplate": "%{customdata[0]}",
         "legendgroup": "1.8333333333333286",
         "line": {
          "color": "#ff1a00",
          "dash": "solid",
          "width": 5
         },
         "marker": {
          "symbol": "circle"
         },
         "mode": "lines",
         "name": "",
         "orientation": "v",
         "showlegend": true,
         "type": "scatter",
         "x": [
          "2023-06-21T00:00:00",
          "2023-06-22T23:00:00",
          null
         ],
         "xaxis": "x",
         "y": [
          3.7779896485971127,
          3.790792699536911,
          null
         ],
         "yaxis": "y"
        },
        {
         "customdata": [
          [
           "Date Range: 2023-06-23 to 2023-06-30 <br>Cumulative Progress: 78.83% <br>Level: L4"
          ],
          [
           "Date Range: 2023-06-23 to 2023-06-30<br>Progress in period: 1.17% <br>Cumulative Progress: 80.0% <br>Level: L4"
          ],
          [
           null
          ]
         ],
         "hovertemplate": "%{customdata[0]}",
         "legendgroup": "1.1666666666666714",
         "line": {
          "color": "#ff1000",
          "dash": "solid",
          "width": 5
         },
         "marker": {
          "symbol": "circle"
         },
         "mode": "lines",
         "name": "",
         "orientation": "v",
         "showlegend": true,
         "type": "scatter",
         "x": [
          "2023-06-23T00:00:00",
          "2023-06-30T23:00:00",
          null
         ],
         "xaxis": "x",
         "y": [
          3.7910651048760555,
          3.8430945246526833,
          null
         ],
         "yaxis": "y"
        },
        {
         "customdata": [
          [
           "Date Range: 2023-07-23 to 2023-07-24 <br>Cumulative Progress: 80.0% <br>Level: L4"
          ],
          [
           "Date Range: 2023-07-23 to 2023-07-24<br>Progress in period: 20.0% <br>Cumulative Progress: 100.0% <br>Level: L4"
          ],
          [
           null
          ]
         ],
         "hovertemplate": "%{customdata[0]}",
         "legendgroup": "20.0",
         "line": {
          "color": "#bbdc00",
          "dash": "solid",
          "width": 5
         },
         "marker": {
          "symbol": "circle"
         },
         "mode": "lines",
         "name": "",
         "orientation": "v",
         "showlegend": true,
         "type": "scatter",
         "x": [
          "2023-07-23T00:00:00",
          "2023-07-24T23:00:00",
          null
         ],
         "xaxis": "x",
         "y": [
          3.9871969490602015,
          4,
          null
         ],
         "yaxis": "y"
        },
        {
         "customdata": [
          [
           "Date Range: 2023-02-28 to 2023-03-03 <br>Cumulative Progress: 0.0% <br>Level: L5"
          ],
          [
           "Date Range: 2023-02-28 to 2023-03-03<br>Progress in period: 15.0% <br>Cumulative Progress: 15.0% <br>Level: L5"
          ],
          [
           null
          ]
         ],
         "hovertemplate": "%{customdata[0]}",
         "legendgroup": "15.0",
         "line": {
          "color": "#ffd400",
          "dash": "solid",
          "width": 5
         },
         "marker": {
          "symbol": "circle"
         },
         "mode": "lines",
         "name": "",
         "orientation": "v",
         "showlegend": true,
         "type": "scatter",
         "x": [
          "2023-02-28T00:00:00",
          "2023-03-03T23:00:00",
          null
         ],
         "xaxis": "x",
         "y": [
          4,
          4.026935072299405,
          null
         ],
         "yaxis": "y"
        },
        {
         "customdata": [
          [
           "Date Range: 2023-03-04 to 2023-03-07 <br>Cumulative Progress: 15.0% <br>Level: L5"
          ],
          [
           "Date Range: 2023-03-04 to 2023-03-07<br>Progress in period: 0.17% <br>Cumulative Progress: 15.17% <br>Level: L5"
          ],
          [
           null
          ]
         ],
         "hovertemplate": "%{customdata[0]}",
         "legendgroup": "0.16666666666666607",
         "line": {
          "color": "#ff0200",
          "dash": "solid",
          "width": 5
         },
         "marker": {
          "symbol": "circle"
         },
         "mode": "lines",
         "name": "",
         "orientation": "v",
         "showlegend": true,
         "type": "scatter",
         "x": [
          "2023-03-04T00:00:00",
          "2023-03-07T23:00:00",
          null
         ],
         "xaxis": "x",
         "y": [
          4.027218599376241,
          4.054153671675645,
          null
         ],
         "yaxis": "y"
        },
        {
         "customdata": [
          [
           "Date Range: 2023-04-05 to 2023-04-06 <br>Cumulative Progress: 15.17% <br>Level: L5"
          ],
          [
           "Date Range: 2023-04-05 to 2023-04-06<br>Progress in period: 0.5% <br>Cumulative Progress: 15.67% <br>Level: L5"
          ],
          [
           null
          ]
         ],
         "hovertemplate": "%{customdata[0]}",
         "legendgroup": "0.5",
         "line": {
          "color": "#ff0700",
          "dash": "solid",
          "width": 5
         },
         "marker": {
          "symbol": "circle"
         },
         "mode": "lines",
         "name": "",
         "orientation": "v",
         "showlegend": true,
         "type": "scatter",
         "x": [
          "2023-04-05T00:00:00",
          "2023-04-06T23:00:00",
          null
         ],
         "xaxis": "x",
         "y": [
          4.244967394386164,
          4.258293166997448,
          null
         ],
         "yaxis": "y"
        },
        {
         "customdata": [
          [
           "Date Range: 2023-04-07 to 2023-04-12 <br>Cumulative Progress: 15.67% <br>Level: L5"
          ],
          [
           "Date Range: 2023-04-07 to 2023-04-12<br>Progress in period: 0.67% <br>Cumulative Progress: 16.33% <br>Level: L5"
          ],
          [
           null
          ]
         ],
         "hovertemplate": "%{customdata[0]}",
         "legendgroup": "0.6666666666666661",
         "line": {
          "color": "#ff0900",
          "dash": "solid",
          "width": 5
         },
         "marker": {
          "symbol": "circle"
         },
         "mode": "lines",
         "name": "",
         "orientation": "v",
         "showlegend": true,
         "type": "scatter",
         "x": [
          "2023-04-07T00:00:00",
          "2023-04-12T23:00:00",
          null
         ],
         "xaxis": "x",
         "y": [
          4.258576694074284,
          4.299121066061809,
          null
         ],
         "yaxis": "y"
        },
        {
         "customdata": [
          [
           "Date Range: 2023-04-22 to 2023-04-25 <br>Cumulative Progress: 16.33% <br>Level: L5"
          ],
          [
           "Date Range: 2023-04-22 to 2023-04-25<br>Progress in period: 0.33% <br>Cumulative Progress: 16.67% <br>Level: L5"
          ],
          [
           null
          ]
         ],
         "hovertemplate": "%{customdata[0]}",
         "legendgroup": "0.3333333333333357",
         "line": {
          "color": "#ff0500",
          "dash": "solid",
          "width": 5
         },
         "marker": {
          "symbol": "circle"
         },
         "mode": "lines",
         "name": "",
         "orientation": "v",
         "showlegend": true,
         "type": "scatter",
         "x": [
          "2023-04-22T00:00:00",
          "2023-04-25T23:00:00",
          null
         ],
         "xaxis": "x",
         "y": [
          4.360646441735185,
          4.38758151403459,
          null
         ],
         "yaxis": "y"
        },
        {
         "customdata": [
          [
           "Date Range: 2023-04-26 to 2023-04-27 <br>Cumulative Progress: 16.67% <br>Level: L5"
          ],
          [
           "Date Range: 2023-04-26 to 2023-04-27<br>Progress in period: 0.17% <br>Cumulative Progress: 16.83% <br>Level: L5"
          ],
          [
           null
          ]
         ],
         "hovertemplate": "%{customdata[0]}",
         "legendgroup": "0.1666666666666643",
         "line": {
          "color": "#ff0200",
          "dash": "solid",
          "width": 5
         },
         "marker": {
          "symbol": "circle"
         },
         "mode": "lines",
         "name": "",
         "orientation": "v",
         "showlegend": true,
         "type": "scatter",
         "x": [
          "2023-04-26T00:00:00",
          "2023-04-27T23:00:00",
          null
         ],
         "xaxis": "x",
         "y": [
          4.387865041111426,
          4.40119081372271,
          null
         ],
         "yaxis": "y"
        },
        {
         "customdata": [
          [
           "Date Range: 2023-05-14 to 2023-05-18 <br>Cumulative Progress: 16.83% <br>Level: L5"
          ],
          [
           "Date Range: 2023-05-14 to 2023-05-18<br>Progress in period: 16.5% <br>Cumulative Progress: 33.33% <br>Level: L5"
          ],
          [
           null
          ]
         ],
         "hovertemplate": "%{customdata[0]}",
         "legendgroup": "16.500000000000004",
         "line": {
          "color": "#ebd600",
          "dash": "solid",
          "width": 5
         },
         "marker": {
          "symbol": "circle"
         },
         "mode": "lines",
         "name": "",
         "orientation": "v",
         "showlegend": true,
         "type": "scatter",
         "x": [
          "2023-05-14T00:00:00",
          "2023-05-18T23:00:00",
          null
         ],
         "xaxis": "x",
         "y": [
          4.510348738304508,
          4.5440884604479725,
          null
         ],
         "yaxis": "y"
        },
        {
         "customdata": [
          [
           "Date Range: 2023-06-06 to 2023-06-07 <br>Cumulative Progress: 33.33% <br>Level: L5"
          ],
          [
           "Date Range: 2023-06-06 to 2023-06-07<br>Progress in period: 3.0% <br>Cumulative Progress: 36.33% <br>Level: L5"
          ],
          [
           null
          ]
         ],
         "hovertemplate": "%{customdata[0]}",
         "legendgroup": "3.0",
         "line": {
          "color": "#ff2a00",
          "dash": "solid",
          "width": 5
         },
         "marker": {
          "symbol": "circle"
         },
         "mode": "lines",
         "name": "",
         "orientation": "v",
         "showlegend": true,
         "type": "scatter",
         "x": [
          "2023-06-06T00:00:00",
          "2023-06-07T23:00:00",
          null
         ],
         "xaxis": "x",
         "y": [
          4.66685568471789,
          4.680181457329175,
          null
         ],
         "yaxis": "y"
        },
        {
         "customdata": [
          [
           "Date Range: 2023-06-10 to 2023-06-15 <br>Cumulative Progress: 36.33% <br>Level: L5"
          ],
          [
           "Date Range: 2023-06-10 to 2023-06-15<br>Progress in period: 23.0% <br>Cumulative Progress: 59.33% <br>Level: L5"
          ],
          [
           null
          ]
         ],
         "hovertemplate": "%{customdata[0]}",
         "legendgroup": "23.0",
         "line": {
          "color": "#93e000",
          "dash": "solid",
          "width": 5
         },
         "marker": {
          "symbol": "circle"
         },
         "mode": "lines",
         "name": "",
         "orientation": "v",
         "showlegend": true,
         "type": "scatter",
         "x": [
          "2023-06-10T00:00:00",
          "2023-06-15T23:00:00",
          null
         ],
         "xaxis": "x",
         "y": [
          4.694074284094131,
          4.734618656081656,
          null
         ],
         "yaxis": "y"
        },
        {
         "customdata": [
          [
           "Date Range: 2023-06-21 to 2023-06-22 <br>Cumulative Progress: 59.33% <br>Level: L5"
          ],
          [
           "Date Range: 2023-06-21 to 2023-06-22<br>Progress in period: 10.33% <br>Cumulative Progress: 69.67% <br>Level: L5"
          ],
          [
           null
          ]
         ],
         "hovertemplate": "%{customdata[0]}",
         "legendgroup": "10.333333333333336",
         "line": {
          "color": "#ff9200",
          "dash": "solid",
          "width": 5
         },
         "marker": {
          "symbol": "circle"
         },
         "mode": "lines",
         "name": "",
         "orientation": "v",
         "showlegend": true,
         "type": "scatter",
         "x": [
          "2023-06-21T00:00:00",
          "2023-06-22T23:00:00",
          null
         ],
         "xaxis": "x",
         "y": [
          4.768925432378792,
          4.782251204990077,
          null
         ],
         "yaxis": "y"
        },
        {
         "customdata": [
          [
           "Date Range: 2023-06-23 to 2023-06-30 <br>Cumulative Progress: 69.67% <br>Level: L5"
          ],
          [
           "Date Range: 2023-06-23 to 2023-06-30<br>Progress in period: 9.67% <br>Cumulative Progress: 79.33% <br>Level: L5"
          ],
          [
           null
          ]
         ],
         "hovertemplate": "%{customdata[0]}",
         "legendgroup": "9.666666666666657",
         "line": {
          "color": "#ff8900",
          "dash": "solid",
          "width": 5
         },
         "marker": {
          "symbol": "circle"
         },
         "mode": "lines",
         "name": "",
         "orientation": "v",
         "showlegend": true,
         "type": "scatter",
         "x": [
          "2023-06-23T00:00:00",
          "2023-06-30T23:00:00",
          null
         ],
         "xaxis": "x",
         "y": [
          4.782534732066912,
          4.836688403742557,
          null
         ],
         "yaxis": "y"
        },
        {
         "customdata": [
          [
           "Date Range: 2023-07-01 to 2023-07-06 <br>Cumulative Progress: 79.33% <br>Level: L5"
          ],
          [
           "Date Range: 2023-07-01 to 2023-07-06<br>Progress in period: 0.33% <br>Cumulative Progress: 79.67% <br>Level: L5"
          ],
          [
           null
          ]
         ],
         "hovertemplate": "%{customdata[0]}",
         "legendgroup": "0.3333333333333428",
         "line": {
          "color": "#ff0500",
          "dash": "solid",
          "width": 5
         },
         "marker": {
          "symbol": "circle"
         },
         "mode": "lines",
         "name": "",
         "orientation": "v",
         "showlegend": true,
         "type": "scatter",
         "x": [
          "2023-07-01T00:00:00",
          "2023-07-06T23:00:00",
          null
         ],
         "xaxis": "x",
         "y": [
          4.836971930819393,
          4.877516302806918,
          null
         ],
         "yaxis": "y"
        },
        {
         "customdata": [
          [
           "Date Range: 2023-07-07 to 2023-07-13 <br>Cumulative Progress: 79.67% <br>Level: L5"
          ],
          [
           "Date Range: 2023-07-07 to 2023-07-13<br>Progress in period: 0.17% <br>Cumulative Progress: 79.83% <br>Level: L5"
          ],
          [
           null
          ]
         ],
         "hovertemplate": "%{customdata[0]}",
         "legendgroup": "0.1666666666666572",
         "line": {
          "color": "#ff0200",
          "dash": "solid",
          "width": 5
         },
         "marker": {
          "symbol": "circle"
         },
         "mode": "lines",
         "name": "",
         "orientation": "v",
         "showlegend": true,
         "type": "scatter",
         "x": [
          "2023-07-07T00:00:00",
          "2023-07-13T23:00:00",
          null
         ],
         "xaxis": "x",
         "y": [
          4.877799829883754,
          4.925148851715338,
          null
         ],
         "yaxis": "y"
        },
        {
         "customdata": [
          [
           "Date Range: 2023-07-23 to 2023-07-24 <br>Cumulative Progress: 79.83% <br>Level: L5"
          ],
          [
           "Date Range: 2023-07-23 to 2023-07-24<br>Progress in period: 20.17% <br>Cumulative Progress: 100.0% <br>Level: L5"
          ],
          [
           null
          ]
         ],
         "hovertemplate": "%{customdata[0]}",
         "legendgroup": "20.16666666666667",
         "line": {
          "color": "#b9dc00",
          "dash": "solid",
          "width": 5
         },
         "marker": {
          "symbol": "circle"
         },
         "mode": "lines",
         "name": "",
         "orientation": "v",
         "showlegend": true,
         "type": "scatter",
         "x": [
          "2023-07-23T00:00:00",
          "2023-07-24T23:00:00",
          null
         ],
         "xaxis": "x",
         "y": [
          4.986674227388716,
          5,
          null
         ],
         "yaxis": "y"
        },
        {
         "customdata": [
          [
           "Date Range: 2023-02-28 to 2023-03-03 <br>Cumulative Progress: 0.0% <br>Level: L6"
          ],
          [
           "Date Range: 2023-02-28 to 2023-03-03<br>Progress in period: 5.17% <br>Cumulative Progress: 5.17% <br>Level: L6"
          ],
          [
           null
          ]
         ],
         "hovertemplate": "%{customdata[0]}",
         "legendgroup": "5.166666666666667",
         "line": {
          "color": "#ff4900",
          "dash": "solid",
          "width": 5
         },
         "marker": {
          "symbol": "circle"
         },
         "mode": "lines",
         "name": "",
         "orientation": "v",
         "showlegend": true,
         "type": "scatter",
         "x": [
          "2023-02-28T00:00:00",
          "2023-03-03T23:00:00",
          null
         ],
         "xaxis": "x",
         "y": [
          5,
          5.026935072299405,
          null
         ],
         "yaxis": "y"
        },
        {
         "customdata": [
          [
           "Date Range: 2023-03-04 to 2023-03-07 <br>Cumulative Progress: 5.17% <br>Level: L6"
          ],
          [
           "Date Range: 2023-03-04 to 2023-03-07<br>Progress in period: 4.0% <br>Cumulative Progress: 9.17% <br>Level: L6"
          ],
          [
           null
          ]
         ],
         "hovertemplate": "%{customdata[0]}",
         "legendgroup": "3.999999999999999",
         "line": {
          "color": "#ff3900",
          "dash": "solid",
          "width": 5
         },
         "marker": {
          "symbol": "circle"
         },
         "mode": "lines",
         "name": "",
         "orientation": "v",
         "showlegend": true,
         "type": "scatter",
         "x": [
          "2023-03-04T00:00:00",
          "2023-03-07T23:00:00",
          null
         ],
         "xaxis": "x",
         "y": [
          5.027218599376241,
          5.054153671675645,
          null
         ],
         "yaxis": "y"
        },
        {
         "customdata": [
          [
           "Date Range: 2023-03-08 to 2023-03-09 <br>Cumulative Progress: 9.17% <br>Level: L6"
          ],
          [
           "Date Range: 2023-03-08 to 2023-03-09<br>Progress in period: 2.5% <br>Cumulative Progress: 11.67% <br>Level: L6"
          ],
          [
           null
          ]
         ],
         "hovertemplate": "%{customdata[0]}",
         "legendgroup": "2.5",
         "line": {
          "color": "#ff2300",
          "dash": "solid",
          "width": 5
         },
         "marker": {
          "symbol": "circle"
         },
         "mode": "lines",
         "name": "",
         "orientation": "v",
         "showlegend": true,
         "type": "scatter",
         "x": [
          "2023-03-08T00:00:00",
          "2023-03-09T23:00:00",
          null
         ],
         "xaxis": "x",
         "y": [
          5.054437198752481,
          5.0677629713637655,
          null
         ],
         "yaxis": "y"
        },
        {
         "customdata": [
          [
           "Date Range: 2023-03-21 to 2023-03-23 <br>Cumulative Progress: 11.67% <br>Level: L6"
          ],
          [
           "Date Range: 2023-03-21 to 2023-03-23<br>Progress in period: 1.83% <br>Cumulative Progress: 13.5% <br>Level: L6"
          ],
          [
           null
          ]
         ],
         "hovertemplate": "%{customdata[0]}",
         "legendgroup": "1.833333333333334",
         "line": {
          "color": "#ff1a00",
          "dash": "solid",
          "width": 5
         },
         "marker": {
          "symbol": "circle"
         },
         "mode": "lines",
         "name": "",
         "orientation": "v",
         "showlegend": true,
         "type": "scatter",
         "x": [
          "2023-03-21T00:00:00",
          "2023-03-23T23:00:00",
          null
         ],
         "xaxis": "x",
         "y": [
          5.142897646725262,
          5.163028069180607,
          null
         ],
         "yaxis": "y"
        },
        {
         "customdata": [
          [
           "Date Range: 2023-04-07 to 2023-04-12 <br>Cumulative Progress: 13.5% <br>Level: L6"
          ],
          [
           "Date Range: 2023-04-07 to 2023-04-12<br>Progress in period: 0.17% <br>Cumulative Progress: 13.67% <br>Level: L6"
          ],
          [
           null
          ]
         ],
         "hovertemplate": "%{customdata[0]}",
         "legendgroup": "0.16666666666666607",
         "line": {
          "color": "#ff0200",
          "dash": "solid",
          "width": 5
         },
         "marker": {
          "symbol": "circle"
         },
         "mode": "lines",
         "name": "",
         "orientation": "v",
         "showlegend": true,
         "type": "scatter",
         "x": [
          "2023-04-07T00:00:00",
          "2023-04-12T23:00:00",
          null
         ],
         "xaxis": "x",
         "y": [
          5.258576694074284,
          5.299121066061809,
          null
         ],
         "yaxis": "y"
        },
        {
         "customdata": [
          [
           "Date Range: 2023-04-22 to 2023-04-25 <br>Cumulative Progress: 13.67% <br>Level: L6"
          ],
          [
           "Date Range: 2023-04-22 to 2023-04-25<br>Progress in period: 0.17% <br>Cumulative Progress: 13.83% <br>Level: L6"
          ],
          [
           null
          ]
         ],
         "hovertemplate": "%{customdata[0]}",
         "legendgroup": "0.16666666666666785",
         "line": {
          "color": "#ff0200",
          "dash": "solid",
          "width": 5
         },
         "marker": {
          "symbol": "circle"
         },
         "mode": "lines",
         "name": "",
         "orientation": "v",
         "showlegend": true,
         "type": "scatter",
         "x": [
          "2023-04-22T00:00:00",
          "2023-04-25T23:00:00",
          null
         ],
         "xaxis": "x",
         "y": [
          5.360646441735185,
          5.38758151403459,
          null
         ],
         "yaxis": "y"
        },
        {
         "customdata": [
          [
           "Date Range: 2023-06-06 to 2023-06-07 <br>Cumulative Progress: 13.83% <br>Level: L6"
          ],
          [
           "Date Range: 2023-06-06 to 2023-06-07<br>Progress in period: 7.0% <br>Cumulative Progress: 20.83% <br>Level: L6"
          ],
          [
           null
          ]
         ],
         "hovertemplate": "%{customdata[0]}",
         "legendgroup": "6.999999999999998",
         "line": {
          "color": "#ff6300",
          "dash": "solid",
          "width": 5
         },
         "marker": {
          "symbol": "circle"
         },
         "mode": "lines",
         "name": "",
         "orientation": "v",
         "showlegend": true,
         "type": "scatter",
         "x": [
          "2023-06-06T00:00:00",
          "2023-06-07T23:00:00",
          null
         ],
         "xaxis": "x",
         "y": [
          5.66685568471789,
          5.680181457329175,
          null
         ],
         "yaxis": "y"
        },
        {
         "customdata": [
          [
           "Date Range: 2023-06-10 to 2023-06-15 <br>Cumulative Progress: 20.83% <br>Level: L6"
          ],
          [
           "Date Range: 2023-06-10 to 2023-06-15<br>Progress in period: 49.17% <br>Cumulative Progress: 70.0% <br>Level: L6"
          ],
          [
           null
          ]
         ],
         "hovertemplate": "%{customdata[0]}",
         "legendgroup": "49.16666666666667",
         "line": {
          "color": "#34eb00",
          "dash": "solid",
          "width": 5
         },
         "marker": {
          "symbol": "circle"
         },
         "mode": "lines",
         "name": "",
         "orientation": "v",
         "showlegend": true,
         "type": "scatter",
         "x": [
          "2023-06-10T00:00:00",
          "2023-06-15T23:00:00",
          null
         ],
         "xaxis": "x",
         "y": [
          5.694074284094131,
          5.734618656081656,
          null
         ],
         "yaxis": "y"
        },
        {
         "customdata": [
          [
           "Date Range: 2023-06-21 to 2023-06-22 <br>Cumulative Progress: 70.0% <br>Level: L6"
          ],
          [
           "Date Range: 2023-06-21 to 2023-06-22<br>Progress in period: 5.0% <br>Cumulative Progress: 75.0% <br>Level: L6"
          ],
          [
           null
          ]
         ],
         "hovertemplate": "%{customdata[0]}",
         "legendgroup": "5.0",
         "line": {
          "color": "#ff4700",
          "dash": "solid",
          "width": 5
         },
         "marker": {
          "symbol": "circle"
         },
         "mode": "lines",
         "name": "",
         "orientation": "v",
         "showlegend": true,
         "type": "scatter",
         "x": [
          "2023-06-21T00:00:00",
          "2023-06-22T23:00:00",
          null
         ],
         "xaxis": "x",
         "y": [
          5.768925432378792,
          5.782251204990077,
          null
         ],
         "yaxis": "y"
        },
        {
         "customdata": [
          [
           "Date Range: 2023-06-23 to 2023-06-30 <br>Cumulative Progress: 75.0% <br>Level: L6"
          ],
          [
           "Date Range: 2023-06-23 to 2023-06-30<br>Progress in period: 1.0% <br>Cumulative Progress: 76.0% <br>Level: L6"
          ],
          [
           null
          ]
         ],
         "hovertemplate": "%{customdata[0]}",
         "legendgroup": "1.0",
         "line": {
          "color": "#ff0e00",
          "dash": "solid",
          "width": 5
         },
         "marker": {
          "symbol": "circle"
         },
         "mode": "lines",
         "name": "",
         "orientation": "v",
         "showlegend": true,
         "type": "scatter",
         "x": [
          "2023-06-23T00:00:00",
          "2023-06-30T23:00:00",
          null
         ],
         "xaxis": "x",
         "y": [
          5.782534732066912,
          5.836688403742557,
          null
         ],
         "yaxis": "y"
        },
        {
         "customdata": [
          [
           "Date Range: 2023-07-01 to 2023-07-06 <br>Cumulative Progress: 76.0% <br>Level: L6"
          ],
          [
           "Date Range: 2023-07-01 to 2023-07-06<br>Progress in period: 6.5% <br>Cumulative Progress: 82.5% <br>Level: L6"
          ],
          [
           null
          ]
         ],
         "hovertemplate": "%{customdata[0]}",
         "legendgroup": "6.5",
         "line": {
          "color": "#ff5c00",
          "dash": "solid",
          "width": 5
         },
         "marker": {
          "symbol": "circle"
         },
         "mode": "lines",
         "name": "",
         "orientation": "v",
         "showlegend": true,
         "type": "scatter",
         "x": [
          "2023-07-01T00:00:00",
          "2023-07-06T23:00:00",
          null
         ],
         "xaxis": "x",
         "y": [
          5.836971930819393,
          5.877516302806918,
          null
         ],
         "yaxis": "y"
        },
        {
         "customdata": [
          [
           "Date Range: 2023-07-07 to 2023-07-13 <br>Cumulative Progress: 82.5% <br>Level: L6"
          ],
          [
           "Date Range: 2023-07-07 to 2023-07-13<br>Progress in period: 1.17% <br>Cumulative Progress: 83.67% <br>Level: L6"
          ],
          [
           null
          ]
         ],
         "hovertemplate": "%{customdata[0]}",
         "legendgroup": "1.1666666666666714",
         "line": {
          "color": "#ff1000",
          "dash": "solid",
          "width": 5
         },
         "marker": {
          "symbol": "circle"
         },
         "mode": "lines",
         "name": "",
         "orientation": "v",
         "showlegend": true,
         "type": "scatter",
         "x": [
          "2023-07-07T00:00:00",
          "2023-07-13T23:00:00",
          null
         ],
         "xaxis": "x",
         "y": [
          5.877799829883754,
          5.925148851715338,
          null
         ],
         "yaxis": "y"
        },
        {
         "customdata": [
          [
           "Date Range: 2023-07-23 to 2023-07-24 <br>Cumulative Progress: 83.67% <br>Level: L6"
          ],
          [
           "Date Range: 2023-07-23 to 2023-07-24<br>Progress in period: 16.33% <br>Cumulative Progress: 100.0% <br>Level: L6"
          ],
          [
           null
          ]
         ],
         "hovertemplate": "%{customdata[0]}",
         "legendgroup": "16.33333333333333",
         "line": {
          "color": "#edd600",
          "dash": "solid",
          "width": 5
         },
         "marker": {
          "symbol": "circle"
         },
         "mode": "lines",
         "name": "",
         "orientation": "v",
         "showlegend": true,
         "type": "scatter",
         "x": [
          "2023-07-23T00:00:00",
          "2023-07-24T23:00:00",
          null
         ],
         "xaxis": "x",
         "y": [
          5.986674227388716,
          6,
          null
         ],
         "yaxis": "y"
        },
        {
         "customdata": [
          [
           "Date Range: 2023-03-08 to 2023-03-09 <br>Cumulative Progress: 0.0% <br>Level: L7"
          ],
          [
           "Date Range: 2023-03-08 to 2023-03-09<br>Progress in period: 5.83% <br>Cumulative Progress: 5.83% <br>Level: L7"
          ],
          [
           null
          ]
         ],
         "hovertemplate": "%{customdata[0]}",
         "legendgroup": "5.833333333333333",
         "line": {
          "color": "#ff5200",
          "dash": "solid",
          "width": 5
         },
         "marker": {
          "symbol": "circle"
         },
         "mode": "lines",
         "name": "",
         "orientation": "v",
         "showlegend": true,
         "type": "scatter",
         "x": [
          "2023-03-08T00:00:00",
          "2023-03-09T23:00:00",
          null
         ],
         "xaxis": "x",
         "y": [
          6,
          6.013698630136986,
          null
         ],
         "yaxis": "y"
        },
        {
         "customdata": [
          [
           "Date Range: 2023-03-10 to 2023-03-14 <br>Cumulative Progress: 5.83% <br>Level: L7"
          ],
          [
           "Date Range: 2023-03-10 to 2023-03-14<br>Progress in period: 6.83% <br>Cumulative Progress: 12.67% <br>Level: L7"
          ],
          [
           null
          ]
         ],
         "hovertemplate": "%{customdata[0]}",
         "legendgroup": "6.833333333333333",
         "line": {
          "color": "#ff6100",
          "dash": "solid",
          "width": 5
         },
         "marker": {
          "symbol": "circle"
         },
         "mode": "lines",
         "name": "",
         "orientation": "v",
         "showlegend": true,
         "type": "scatter",
         "x": [
          "2023-03-10T00:00:00",
          "2023-03-14T23:00:00",
          null
         ],
         "xaxis": "x",
         "y": [
          6.013990090352667,
          6.048673856018653,
          null
         ],
         "yaxis": "y"
        },
        {
         "customdata": [
          [
           "Date Range: 2023-03-17 to 2023-03-20 <br>Cumulative Progress: 12.67% <br>Level: L7"
          ],
          [
           "Date Range: 2023-03-17 to 2023-03-20<br>Progress in period: 0.33% <br>Cumulative Progress: 13.0% <br>Level: L7"
          ],
          [
           null
          ],
          [
           "Date Range: 2023-04-22 to 2023-04-25 <br>Cumulative Progress: 13.0% <br>Level: L7"
          ],
          [
           "Date Range: 2023-04-22 to 2023-04-25<br>Progress in period: 0.33% <br>Cumulative Progress: 13.33% <br>Level: L7"
          ],
          [
           null
          ]
         ],
         "hovertemplate": "%{customdata[0]}",
         "legendgroup": "0.3333333333333339",
         "line": {
          "color": "#ff0500",
          "dash": "solid",
          "width": 5
         },
         "marker": {
          "symbol": "circle"
         },
         "mode": "lines",
         "name": "",
         "orientation": "v",
         "showlegend": true,
         "type": "scatter",
         "x": [
          "2023-03-17T00:00:00",
          "2023-03-20T23:00:00",
          null,
          "2023-04-22T00:00:00",
          "2023-04-25T23:00:00",
          null
         ],
         "xaxis": "x",
         "y": [
          6.062955406587001,
          6.090644127076654,
          null,
          6.314777032935004,
          6.342465753424658,
          null
         ],
         "yaxis": "y"
        },
        {
         "customdata": [
          [
           "Date Range: 2023-04-26 to 2023-04-27 <br>Cumulative Progress: 13.33% <br>Level: L7"
          ],
          [
           "Date Range: 2023-04-26 to 2023-04-27<br>Progress in period: 2.0% <br>Cumulative Progress: 15.33% <br>Level: L7"
          ],
          [
           null
          ]
         ],
         "hovertemplate": "%{customdata[0]}",
         "legendgroup": "2.0",
         "line": {
          "color": "#ff1c00",
          "dash": "solid",
          "width": 5
         },
         "marker": {
          "symbol": "circle"
         },
         "mode": "lines",
         "name": "",
         "orientation": "v",
         "showlegend": true,
         "type": "scatter",
         "x": [
          "2023-04-26T00:00:00",
          "2023-04-27T23:00:00",
          null
         ],
         "xaxis": "x",
         "y": [
          6.342757213640338,
          6.356455843777324,
          null
         ],
         "yaxis": "y"
        },
        {
         "customdata": [
          [
           "Date Range: 2023-06-06 to 2023-06-07 <br>Cumulative Progress: 15.33% <br>Level: L7"
          ],
          [
           "Date Range: 2023-06-06 to 2023-06-07<br>Progress in period: 65.0% <br>Cumulative Progress: 80.33% <br>Level: L7"
          ],
          [
           null
          ]
         ],
         "hovertemplate": "%{customdata[0]}",
         "legendgroup": "65.0",
         "line": {
          "color": "#34eb00",
          "dash": "solid",
          "width": 5
         },
         "marker": {
          "symbol": "circle"
         },
         "mode": "lines",
         "name": "",
         "orientation": "v",
         "showlegend": true,
         "type": "scatter",
         "x": [
          "2023-06-06T00:00:00",
          "2023-06-07T23:00:00",
          null
         ],
         "xaxis": "x",
         "y": [
          6.629554065870009,
          6.643252696006995,
          null
         ],
         "yaxis": "y"
        },
        {
         "customdata": [
          [
           "Date Range: 2023-06-10 to 2023-06-15 <br>Cumulative Progress: 80.33% <br>Level: L7"
          ],
          [
           "Date Range: 2023-06-10 to 2023-06-15<br>Progress in period: 1.0% <br>Cumulative Progress: 81.33% <br>Level: L7"
          ],
          [
           null
          ],
          [
           "Date Range: 2023-07-07 to 2023-07-13 <br>Cumulative Progress: 83.17% <br>Level: L7"
          ],
          [
           "Date Range: 2023-07-07 to 2023-07-13<br>Progress in period: 1.0% <br>Cumulative Progress: 84.17% <br>Level: L7"
          ],
          [
           null
          ]
         ],
         "hovertemplate": "%{customdata[0]}",
         "legendgroup": "1.0",
         "line": {
          "color": "#ff0e00",
          "dash": "solid",
          "width": 5
         },
         "marker": {
          "symbol": "circle"
         },
         "mode": "lines",
         "name": "",
         "orientation": "v",
         "showlegend": true,
         "type": "scatter",
         "x": [
          "2023-06-10T00:00:00",
          "2023-06-15T23:00:00",
          null,
          "2023-07-07T00:00:00",
          "2023-07-13T23:00:00",
          null
         ],
         "xaxis": "x",
         "y": [
          6.657534246575342,
          6.699213057417662,
          null,
          6.846400466336345,
          6.895074322354999,
          null
         ],
         "yaxis": "y"
        },
        {
         "customdata": [
          [
           "Date Range: 2023-06-21 to 2023-06-22 <br>Cumulative Progress: 81.33% <br>Level: L7"
          ],
          [
           "Date Range: 2023-06-21 to 2023-06-22<br>Progress in period: 1.17% <br>Cumulative Progress: 82.5% <br>Level: L7"
          ],
          [
           null
          ]
         ],
         "hovertemplate": "%{customdata[0]}",
         "legendgroup": "1.1666666666666714",
         "line": {
          "color": "#ff1000",
          "dash": "solid",
          "width": 5
         },
         "marker": {
          "symbol": "circle"
         },
         "mode": "lines",
         "name": "",
         "orientation": "v",
         "showlegend": true,
         "type": "scatter",
         "x": [
          "2023-06-21T00:00:00",
          "2023-06-22T23:00:00",
          null
         ],
         "xaxis": "x",
         "y": [
          6.73447974351501,
          6.748178373651997,
          null
         ],
         "yaxis": "y"
        },
        {
         "customdata": [
          [
           "Date Range: 2023-06-23 to 2023-06-30 <br>Cumulative Progress: 82.5% <br>Level: L7"
          ],
          [
           "Date Range: 2023-06-23 to 2023-06-30<br>Progress in period: 0.67% <br>Cumulative Progress: 83.17% <br>Level: L7"
          ],
          [
           null
          ]
         ],
         "hovertemplate": "%{customdata[0]}",
         "legendgroup": "0.6666666666666714",
         "line": {
          "color": "#ff0900",
          "dash": "solid",
          "width": 5
         },
         "marker": {
          "symbol": "circle"
         },
         "mode": "lines",
         "name": "",
         "orientation": "v",
         "showlegend": true,
         "type": "scatter",
         "x": [
          "2023-06-23T00:00:00",
          "2023-06-30T23:00:00",
          null
         ],
         "xaxis": "x",
         "y": [
          6.748469833867677,
          6.804138735062664,
          null
         ],
         "yaxis": "y"
        },
        {
         "customdata": [
          [
           "Date Range: 2023-07-23 to 2023-07-24 <br>Cumulative Progress: 84.17% <br>Level: L7"
          ],
          [
           "Date Range: 2023-07-23 to 2023-07-24<br>Progress in period: 1.83% <br>Cumulative Progress: 86.0% <br>Level: L7"
          ],
          [
           null
          ]
         ],
         "hovertemplate": "%{customdata[0]}",
         "legendgroup": "1.8333333333333286",
         "line": {
          "color": "#ff1a00",
          "dash": "solid",
          "width": 5
         },
         "marker": {
          "symbol": "circle"
         },
         "mode": "lines",
         "name": "",
         "orientation": "v",
         "showlegend": true,
         "type": "scatter",
         "x": [
          "2023-07-23T00:00:00",
          "2023-07-24T23:00:00",
          null
         ],
         "xaxis": "x",
         "y": [
          6.9583211891576795,
          6.972019819294666,
          null
         ],
         "yaxis": "y"
        },
        {
         "customdata": [
          [
           "Date Range: 2023-07-28 to 2023-07-28 <br>Cumulative Progress: 86.0% <br>Level: L7"
          ],
          [
           "Date Range: 2023-07-28 to 2023-07-28<br>Progress in period: 13.67% <br>Cumulative Progress: 99.67% <br>Level: L7"
          ],
          [
           null
          ]
         ],
         "hovertemplate": "%{customdata[0]}",
         "legendgroup": "13.666666666666671",
         "line": {
          "color": "#ffc100",
          "dash": "solid",
          "width": 5
         },
         "marker": {
          "symbol": "circle"
         },
         "mode": "lines",
         "name": "",
         "orientation": "v",
         "showlegend": true,
         "type": "scatter",
         "x": [
          "2023-07-28T00:00:00",
          "2023-07-28T23:00:00",
          null
         ],
         "xaxis": "x",
         "y": [
          6.993296415039347,
          7,
          null
         ],
         "yaxis": "y"
        },
        {
         "customdata": [
          [
           "Date Range: 2023-03-21 to 2023-03-23 <br>Cumulative Progress: 2.5% <br>Level: L8"
          ],
          [
           "Date Range: 2023-03-21 to 2023-03-23<br>Progress in period: 3.0% <br>Cumulative Progress: 5.5% <br>Level: L8"
          ],
          [
           null
          ]
         ],
         "hovertemplate": "%{customdata[0]}",
         "legendgroup": "3.0",
         "line": {
          "color": "#ff2a00",
          "dash": "solid",
          "width": 5
         },
         "marker": {
          "symbol": "circle"
         },
         "mode": "lines",
         "name": "",
         "orientation": "v",
         "showlegend": true,
         "type": "scatter",
         "x": [
          "2023-03-21T00:00:00",
          "2023-03-23T23:00:00",
          null
         ],
         "xaxis": "x",
         "y": [
          7,
          7.02069367531332,
          null
         ],
         "yaxis": "y"
        },
        {
         "customdata": [
          [
           "Date Range: 2023-04-26 to 2023-04-27 <br>Cumulative Progress: 5.5% <br>Level: L8"
          ],
          [
           "Date Range: 2023-04-26 to 2023-04-27<br>Progress in period: 1.83% <br>Cumulative Progress: 7.33% <br>Level: L8"
          ],
          [
           null
          ]
         ],
         "hovertemplate": "%{customdata[0]}",
         "legendgroup": "1.833333333333333",
         "line": {
          "color": "#ff1a00",
          "dash": "solid",
          "width": 5
         },
         "marker": {
          "symbol": "circle"
         },
         "mode": "lines",
         "name": "",
         "orientation": "v",
         "showlegend": true,
         "type": "scatter",
         "x": [
          "2023-04-26T00:00:00",
          "2023-04-27T23:00:00",
          null
         ],
         "xaxis": "x",
         "y": [
          7.251821626348003,
          7.26552025648499,
          null
         ],
         "yaxis": "y"
        },
        {
         "customdata": [
          [
           "Date Range: 2023-05-14 to 2023-05-18 <br>Cumulative Progress: 7.33% <br>Level: L8"
          ],
          [
           "Date Range: 2023-05-14 to 2023-05-18<br>Progress in period: 0.17% <br>Cumulative Progress: 7.5% <br>Level: L8"
          ],
          [
           null
          ]
         ],
         "hovertemplate": "%{customdata[0]}",
         "legendgroup": "0.16666666666666696",
         "line": {
          "color": "#ff0200",
          "dash": "solid",
          "width": 5
         },
         "marker": {
          "symbol": "circle"
         },
         "mode": "lines",
         "name": "",
         "orientation": "v",
         "showlegend": true,
         "type": "scatter",
         "x": [
          "2023-05-14T00:00:00",
          "2023-05-18T23:00:00",
          null
         ],
         "xaxis": "x",
         "y": [
          7.377732439522005,
          7.412416205187991,
          null
         ],
         "yaxis": "y"
        },
        {
         "customdata": [
          [
           "Date Range: 2023-06-06 to 2023-06-07 <br>Cumulative Progress: 7.5% <br>Level: L8"
          ],
          [
           "Date Range: 2023-06-06 to 2023-06-07<br>Progress in period: 15.33% <br>Cumulative Progress: 22.83% <br>Level: L8"
          ],
          [
           null
          ]
         ],
         "hovertemplate": "%{customdata[0]}",
         "legendgroup": "15.333333333333332",
         "line": {
          "color": "#fad500",
          "dash": "solid",
          "width": 5
         },
         "marker": {
          "symbol": "circle"
         },
         "mode": "lines",
         "name": "",
         "orientation": "v",
         "showlegend": true,
         "type": "scatter",
         "x": [
          "2023-06-06T00:00:00",
          "2023-06-07T23:00:00",
          null
         ],
         "xaxis": "x",
         "y": [
          7.538618478577674,
          7.552317108714661,
          null
         ],
         "yaxis": "y"
        },
        {
         "customdata": [
          [
           "Date Range: 2023-06-10 to 2023-06-15 <br>Cumulative Progress: 22.83% <br>Level: L8"
          ],
          [
           "Date Range: 2023-06-10 to 2023-06-15<br>Progress in period: 46.67% <br>Cumulative Progress: 69.5% <br>Level: L8"
          ],
          [
           null
          ]
         ],
         "hovertemplate": "%{customdata[0]}",
         "legendgroup": "46.66666666666667",
         "line": {
          "color": "#34eb00",
          "dash": "solid",
          "width": 5
         },
         "marker": {
          "symbol": "circle"
         },
         "mode": "lines",
         "name": "",
         "orientation": "v",
         "showlegend": true,
         "type": "scatter",
         "x": [
          "2023-06-10T00:00:00",
          "2023-06-15T23:00:00",
          null
         ],
         "xaxis": "x",
         "y": [
          7.566598659283008,
          7.608277470125328,
          null
         ],
         "yaxis": "y"
        },
        {
         "customdata": [
          [
           "Date Range: 2023-06-21 to 2023-06-22 <br>Cumulative Progress: 69.5% <br>Level: L8"
          ],
          [
           "Date Range: 2023-06-21 to 2023-06-22<br>Progress in period: 3.67% <br>Cumulative Progress: 73.17% <br>Level: L8"
          ],
          [
           null
          ]
         ],
         "hovertemplate": "%{customdata[0]}",
         "legendgroup": "3.6666666666666714",
         "line": {
          "color": "#ff3400",
          "dash": "solid",
          "width": 5
         },
         "marker": {
          "symbol": "circle"
         },
         "mode": "lines",
         "name": "",
         "orientation": "v",
         "showlegend": true,
         "type": "scatter",
         "x": [
          "2023-06-21T00:00:00",
          "2023-06-22T23:00:00",
          null
         ],
         "xaxis": "x",
         "y": [
          7.643544156222676,
          7.657242786359662,
          null
         ],
         "yaxis": "y"
        },
        {
         "customdata": [
          [
           "Date Range: 2023-06-23 to 2023-06-30 <br>Cumulative Progress: 73.17% <br>Level: L8"
          ],
          [
           "Date Range: 2023-06-23 to 2023-06-30<br>Progress in period: 0.67% <br>Cumulative Progress: 73.83% <br>Level: L8"
          ],
          [
           null
          ]
         ],
         "hovertemplate": "%{customdata[0]}",
         "legendgroup": "0.6666666666666572",
         "line": {
          "color": "#ff0900",
          "dash": "solid",
          "width": 5
         },
         "marker": {
          "symbol": "circle"
         },
         "mode": "lines",
         "name": "",
         "orientation": "v",
         "showlegend": true,
         "type": "scatter",
         "x": [
          "2023-06-23T00:00:00",
          "2023-06-30T23:00:00",
          null
         ],
         "xaxis": "x",
         "y": [
          7.657534246575342,
          7.713203147770329,
          null
         ],
         "yaxis": "y"
        },
        {
         "customdata": [
          [
           "Date Range: 2023-07-01 to 2023-07-06 <br>Cumulative Progress: 73.83% <br>Level: L8"
          ],
          [
           "Date Range: 2023-07-01 to 2023-07-06<br>Progress in period: 0.17% <br>Cumulative Progress: 74.0% <br>Level: L8"
          ],
          [
           null
          ],
          [
           "Date Range: 2023-08-04 to 2023-08-10 <br>Cumulative Progress: 97.33% <br>Level: L8"
          ],
          [
           "Date Range: 2023-08-04 to 2023-08-10<br>Progress in period: 0.17% <br>Cumulative Progress: 97.5% <br>Level: L8"
          ],
          [
           null
          ]
         ],
         "hovertemplate": "%{customdata[0]}",
         "legendgroup": "0.1666666666666714",
         "line": {
          "color": "#ff0200",
          "dash": "solid",
          "width": 5
         },
         "marker": {
          "symbol": "circle"
         },
         "mode": "lines",
         "name": "",
         "orientation": "v",
         "showlegend": true,
         "type": "scatter",
         "x": [
          "2023-07-01T00:00:00",
          "2023-07-06T23:00:00",
          null,
          "2023-08-04T00:00:00",
          "2023-08-10T23:00:00",
          null
         ],
         "xaxis": "x",
         "y": [
          7.71349460798601,
          7.7551734188283294,
          null,
          7.951326143981347,
          8,
          null
         ],
         "yaxis": "y"
        },
        {
         "customdata": [
          [
           "Date Range: 2023-07-07 to 2023-07-13 <br>Cumulative Progress: 74.0% <br>Level: L8"
          ],
          [
           "Date Range: 2023-07-07 to 2023-07-13<br>Progress in period: 0.5% <br>Cumulative Progress: 74.5% <br>Level: L8"
          ],
          [
           null
          ]
         ],
         "hovertemplate": "%{customdata[0]}",
         "legendgroup": "0.5",
         "line": {
          "color": "#ff0700",
          "dash": "solid",
          "width": 5
         },
         "marker": {
          "symbol": "circle"
         },
         "mode": "lines",
         "name": "",
         "orientation": "v",
         "showlegend": true,
         "type": "scatter",
         "x": [
          "2023-07-07T00:00:00",
          "2023-07-13T23:00:00",
          null
         ],
         "xaxis": "x",
         "y": [
          7.755464879044011,
          7.804138735062664,
          null
         ],
         "yaxis": "y"
        },
        {
         "customdata": [
          [
           "Date Range: 2023-07-23 to 2023-07-24 <br>Cumulative Progress: 74.5% <br>Level: L8"
          ],
          [
           "Date Range: 2023-07-23 to 2023-07-24<br>Progress in period: 3.17% <br>Cumulative Progress: 77.67% <br>Level: L8"
          ],
          [
           null
          ]
         ],
         "hovertemplate": "%{customdata[0]}",
         "legendgroup": "3.1666666666666714",
         "line": {
          "color": "#ff2d00",
          "dash": "solid",
          "width": 5
         },
         "marker": {
          "symbol": "circle"
         },
         "mode": "lines",
         "name": "",
         "orientation": "v",
         "showlegend": true,
         "type": "scatter",
         "x": [
          "2023-07-23T00:00:00",
          "2023-07-24T23:00:00",
          null
         ],
         "xaxis": "x",
         "y": [
          7.867385601865346,
          7.8810842320023315,
          null
         ],
         "yaxis": "y"
        },
        {
         "customdata": [
          [
           "Date Range: 2023-07-28 to 2023-07-28 <br>Cumulative Progress: 77.67% <br>Level: L8"
          ],
          [
           "Date Range: 2023-07-28 to 2023-07-28<br>Progress in period: 17.67% <br>Cumulative Progress: 95.33% <br>Level: L8"
          ],
          [
           null
          ]
         ],
         "hovertemplate": "%{customdata[0]}",
         "legendgroup": "17.666666666666657",
         "line": {
          "color": "#dbd800",
          "dash": "solid",
          "width": 5
         },
         "marker": {
          "symbol": "circle"
         },
         "mode": "lines",
         "name": "",
         "orientation": "v",
         "showlegend": true,
         "type": "scatter",
         "x": [
          "2023-07-28T00:00:00",
          "2023-07-28T23:00:00",
          null
         ],
         "xaxis": "x",
         "y": [
          7.902360827747012,
          7.909064412707665,
          null
         ],
         "yaxis": "y"
        },
        {
         "customdata": [
          [
           "Date Range: 2023-07-29 to 2023-08-03 <br>Cumulative Progress: 95.33% <br>Level: L8"
          ],
          [
           "Date Range: 2023-07-29 to 2023-08-03<br>Progress in period: 2.0% <br>Cumulative Progress: 97.33% <br>Level: L8"
          ],
          [
           null
          ]
         ],
         "hovertemplate": "%{customdata[0]}",
         "legendgroup": "2.0",
         "line": {
          "color": "#ff1c00",
          "dash": "solid",
          "width": 5
         },
         "marker": {
          "symbol": "circle"
         },
         "mode": "lines",
         "name": "",
         "orientation": "v",
         "showlegend": true,
         "type": "scatter",
         "x": [
          "2023-07-29T00:00:00",
          "2023-08-03T23:00:00",
          null
         ],
         "xaxis": "x",
         "y": [
          7.909355872923346,
          7.951034683765666,
          null
         ],
         "yaxis": "y"
        },
        {
         "hoverinfo": "none",
         "legendgroup": "",
         "line": {
          "color": "black",
          "dash": "solid",
          "width": 5
         },
         "marker": {
          "symbol": "circle"
         },
         "mode": "lines",
         "name": "",
         "opacity": 0.05,
         "orientation": "v",
         "showlegend": false,
         "type": "scatter",
         "x": [
          "2023-01-13T00:00:00",
          "2023-06-07T23:00:00",
          null,
          "2023-01-18T00:00:00",
          "2023-07-06T23:00:00",
          null,
          "2023-01-24T00:00:00",
          "2023-07-24T23:00:00",
          null,
          "2023-01-28T00:00:00",
          "2023-08-10T23:00:00",
          null,
          "2023-01-31T00:00:00",
          "2023-08-17T23:00:00",
          null,
          "2023-02-14T00:00:00",
          "2023-07-24T23:00:00",
          null,
          "2023-02-22T00:00:00",
          "2023-08-10T23:00:00",
          null,
          "2023-02-25T00:00:00",
          "2023-09-07T23:00:00",
          null
         ],
         "xaxis": "x",
         "y": [
          0,
          1,
          null,
          1,
          2,
          null,
          2,
          3,
          null,
          3,
          4,
          null,
          4,
          5,
          null,
          5,
          6,
          null,
          6,
          7,
          null,
          7,
          8,
          null
         ],
         "yaxis": "y"
        },
        {
         "customdata": [
          [
           "Date Range: 2023-01-13 to 2023-01-16 <br>Cumulative Progress: 0.0% <br>Level: L1"
          ],
          [
           "Date Range: 2023-01-13 to 2023-01-16<br>Progress in period: 13.38% <br>Cumulative Progress: 13.38% <br>Level: L1"
          ],
          [
           null
          ]
         ],
         "hovertemplate": "%{customdata[0]}",
         "legendgroup": "13.375",
         "line": {
          "color": "#ffbd00",
          "dash": "solid",
          "width": 5
         },
         "marker": {
          "symbol": "circle"
         },
         "mode": "lines",
         "name": "",
         "orientation": "v",
         "showlegend": true,
         "type": "scatter",
         "x": [
          "2023-01-13T00:00:00",
          "2023-01-16T23:00:00",
          null
         ],
         "xaxis": "x",
         "y": [
          0,
          0.027119611761347417,
          null
         ],
         "yaxis": "y"
        },
        {
         "customdata": [
          [
           "Date Range: 2023-01-18 to 2023-01-19 <br>Cumulative Progress: 13.38% <br>Level: L1"
          ],
          [
           "Date Range: 2023-01-18 to 2023-01-19<br>Progress in period: 3.42% <br>Cumulative Progress: 16.79% <br>Level: L1"
          ],
          [
           null
          ]
         ],
         "hovertemplate": "%{customdata[0]}",
         "legendgroup": "3.416666666666668",
         "line": {
          "color": "#ff3000",
          "dash": "solid",
          "width": 5
         },
         "marker": {
          "symbol": "circle"
         },
         "mode": "lines",
         "name": "",
         "orientation": "v",
         "showlegend": true,
         "type": "scatter",
         "x": [
          "2023-01-18T00:00:00",
          "2023-01-19T23:00:00",
          null
         ],
         "xaxis": "x",
         "y": [
          0.0342563516985441,
          0.04767342278047388,
          null
         ],
         "yaxis": "y"
        },
        {
         "customdata": [
          [
           "Date Range: 2023-01-22 to 2023-01-23 <br>Cumulative Progress: 16.79% <br>Level: L1"
          ],
          [
           "Date Range: 2023-01-22 to 2023-01-23<br>Progress in period: 0.08% <br>Cumulative Progress: 16.88% <br>Level: L1"
          ],
          [
           null
          ],
          [
           "Date Range: 2023-01-24 to 2023-01-26 <br>Cumulative Progress: 16.88% <br>Level: L1"
          ],
          [
           "Date Range: 2023-01-24 to 2023-01-26<br>Progress in period: 0.08% <br>Cumulative Progress: 16.96% <br>Level: L1"
          ],
          [
           null
          ]
         ],
         "hovertemplate": "%{customdata[0]}",
         "legendgroup": "0.08333333333333215",
         "line": {
          "color": "#ff0100",
          "dash": "solid",
          "width": 5
         },
         "marker": {
          "symbol": "circle"
         },
         "mode": "lines",
         "name": "",
         "orientation": "v",
         "showlegend": true,
         "type": "scatter",
         "x": [
          "2023-01-22T00:00:00",
          "2023-01-23T23:00:00",
          null,
          "2023-01-24T00:00:00",
          "2023-01-26T23:00:00",
          null
         ],
         "xaxis": "x",
         "y": [
          0.06166143305737939,
          0.07507850413930917,
          null,
          0.07536397373679703,
          0.09563231515843562,
          null
         ],
         "yaxis": "y"
        },
        {
         "customdata": [
          [
           "Date Range: 2023-01-28 to 2023-01-30 <br>Cumulative Progress: 16.96% <br>Level: L1"
          ],
          [
           "Date Range: 2023-01-28 to 2023-01-30<br>Progress in period: 1.67% <br>Cumulative Progress: 18.62% <br>Level: L1"
          ],
          [
           null
          ]
         ],
         "hovertemplate": "%{customdata[0]}",
         "legendgroup": "1.6666666666666679",
         "line": {
          "color": "#ff1800",
          "dash": "solid",
          "width": 5
         },
         "marker": {
          "symbol": "circle"
         },
         "mode": "lines",
         "name": "",
         "orientation": "v",
         "showlegend": true,
         "type": "scatter",
         "x": [
          "2023-01-28T00:00:00",
          "2023-01-30T23:00:00",
          null
         ],
         "xaxis": "x",
         "y": [
          0.10276905509563232,
          0.12303739651727091,
          null
         ],
         "yaxis": "y"
        },
        {
         "customdata": [
          [
           "Date Range: 2023-01-31 to 2023-02-02 <br>Cumulative Progress: 18.62% <br>Level: L1"
          ],
          [
           "Date Range: 2023-01-31 to 2023-02-02<br>Progress in period: 0.12% <br>Cumulative Progress: 18.75% <br>Level: L1"
          ],
          [
           null
          ]
         ],
         "hovertemplate": "%{customdata[0]}",
         "legendgroup": "0.125",
         "line": {
          "color": "#ff0200",
          "dash": "solid",
          "width": 5
         },
         "marker": {
          "symbol": "circle"
         },
         "mode": "lines",
         "name": "",
         "orientation": "v",
         "showlegend": true,
         "type": "scatter",
         "x": [
          "2023-01-31T00:00:00",
          "2023-02-02T23:00:00",
          null
         ],
         "xaxis": "x",
         "y": [
          0.12332286611475878,
          0.14359120753639737,
          null
         ],
         "yaxis": "y"
        },
        {
         "customdata": [
          [
           "Date Range: 2023-02-08 to 2023-02-13 <br>Cumulative Progress: 18.75% <br>Level: L1"
          ],
          [
           "Date Range: 2023-02-08 to 2023-02-13<br>Progress in period: 4.12% <br>Cumulative Progress: 22.88% <br>Level: L1"
          ],
          [
           null
          ]
         ],
         "hovertemplate": "%{customdata[0]}",
         "legendgroup": "4.125",
         "line": {
          "color": "#ff3a00",
          "dash": "solid",
          "width": 5
         },
         "marker": {
          "symbol": "circle"
         },
         "mode": "lines",
         "name": "",
         "orientation": "v",
         "showlegend": true,
         "type": "scatter",
         "x": [
          "2023-02-08T00:00:00",
          "2023-02-13T23:00:00",
          null
         ],
         "xaxis": "x",
         "y": [
          0.17813302883242935,
          0.2189551812731944,
          null
         ],
         "yaxis": "y"
        },
        {
         "customdata": [
          [
           "Date Range: 2023-02-14 to 2023-02-21 <br>Cumulative Progress: 22.88% <br>Level: L1"
          ],
          [
           "Date Range: 2023-02-14 to 2023-02-21<br>Progress in period: 7.58% <br>Cumulative Progress: 30.46% <br>Level: L1"
          ],
          [
           null
          ]
         ],
         "hovertemplate": "%{customdata[0]}",
         "legendgroup": "7.583333333333332",
         "line": {
          "color": "#ff6b00",
          "dash": "solid",
          "width": 5
         },
         "marker": {
          "symbol": "circle"
         },
         "mode": "lines",
         "name": "",
         "orientation": "v",
         "showlegend": true,
         "type": "scatter",
         "x": [
          "2023-02-14T00:00:00",
          "2023-02-21T23:00:00",
          null
         ],
         "xaxis": "x",
         "y": [
          0.21924065087068229,
          0.273765343990865,
          null
         ],
         "yaxis": "y"
        },
        {
         "customdata": [
          [
           "Date Range: 2023-02-22 to 2023-02-24 <br>Cumulative Progress: 30.46% <br>Level: L1"
          ],
          [
           "Date Range: 2023-02-22 to 2023-02-24<br>Progress in period: 5.33% <br>Cumulative Progress: 35.79% <br>Level: L1"
          ],
          [
           null
          ]
         ],
         "hovertemplate": "%{customdata[0]}",
         "legendgroup": "5.333333333333332",
         "line": {
          "color": "#ff4b00",
          "dash": "solid",
          "width": 5
         },
         "marker": {
          "symbol": "circle"
         },
         "mode": "lines",
         "name": "",
         "orientation": "v",
         "showlegend": true,
         "type": "scatter",
         "x": [
          "2023-02-22T00:00:00",
          "2023-02-24T23:00:00",
          null
         ],
         "xaxis": "x",
         "y": [
          0.2740508135883528,
          0.29431915500999145,
          null
         ],
         "yaxis": "y"
        },
        {
         "customdata": [
          [
           "Date Range: 2023-02-25 to 2023-02-27 <br>Cumulative Progress: 35.79% <br>Level: L1"
          ],
          [
           "Date Range: 2023-02-25 to 2023-02-27<br>Progress in period: 5.46% <br>Cumulative Progress: 41.25% <br>Level: L1"
          ],
          [
           null
          ]
         ],
         "hovertemplate": "%{customdata[0]}",
         "legendgroup": "5.458333333333336",
         "line": {
          "color": "#ff4d00",
          "dash": "solid",
          "width": 5
         },
         "marker": {
          "symbol": "circle"
         },
         "mode": "lines",
         "name": "",
         "orientation": "v",
         "showlegend": true,
         "type": "scatter",
         "x": [
          "2023-02-25T00:00:00",
          "2023-02-27T23:00:00",
          null
         ],
         "xaxis": "x",
         "y": [
          0.2946046246074793,
          0.3148729660291179,
          null
         ],
         "yaxis": "y"
        },
        {
         "customdata": [
          [
           "Date Range: 2023-02-28 to 2023-03-03 <br>Cumulative Progress: 41.25% <br>Level: L1"
          ],
          [
           "Date Range: 2023-02-28 to 2023-03-03<br>Progress in period: 6.79% <br>Cumulative Progress: 48.04% <br>Level: L1"
          ],
          [
           null
          ]
         ],
         "hovertemplate": "%{customdata[0]}",
         "legendgroup": "6.791666666666664",
         "line": {
          "color": "#ff6000",
          "dash": "solid",
          "width": 5
         },
         "marker": {
          "symbol": "circle"
         },
         "mode": "lines",
         "name": "",
         "orientation": "v",
         "showlegend": true,
         "type": "scatter",
         "x": [
          "2023-02-28T00:00:00",
          "2023-03-03T23:00:00",
          null
         ],
         "xaxis": "x",
         "y": [
          0.3151584356266058,
          0.3422780473879532,
          null
         ],
         "yaxis": "y"
        },
        {
         "customdata": [
          [
           "Date Range: 2023-03-04 to 2023-03-07 <br>Cumulative Progress: 48.04% <br>Level: L1"
          ],
          [
           "Date Range: 2023-03-04 to 2023-03-07<br>Progress in period: 5.75% <br>Cumulative Progress: 53.79% <br>Level: L1"
          ],
          [
           null
          ]
         ],
         "hovertemplate": "%{customdata[0]}",
         "legendgroup": "5.75",
         "line": {
          "color": "#ff5100",
          "dash": "solid",
          "width": 5
         },
         "marker": {
          "symbol": "circle"
         },
         "mode": "lines",
         "name": "",
         "orientation": "v",
         "showlegend": true,
         "type": "scatter",
         "x": [
          "2023-03-04T00:00:00",
          "2023-03-07T23:00:00",
          null
         ],
         "xaxis": "x",
         "y": [
          0.3425635169854411,
          0.3696831287467885,
          null
         ],
         "yaxis": "y"
        },
        {
         "customdata": [
          [
           "Date Range: 2023-03-08 to 2023-03-09 <br>Cumulative Progress: 53.79% <br>Level: L1"
          ],
          [
           "Date Range: 2023-03-08 to 2023-03-09<br>Progress in period: 3.46% <br>Cumulative Progress: 57.25% <br>Level: L1"
          ],
          [
           null
          ]
         ],
         "hovertemplate": "%{customdata[0]}",
         "legendgroup": "3.4583333333333357",
         "line": {
          "color": "#ff3100",
          "dash": "solid",
          "width": 5
         },
         "marker": {
          "symbol": "circle"
         },
         "mode": "lines",
         "name": "",
         "orientation": "v",
         "showlegend": true,
         "type": "scatter",
         "x": [
          "2023-03-08T00:00:00",
          "2023-03-09T23:00:00",
          null
         ],
         "xaxis": "x",
         "y": [
          0.3699685983442763,
          0.3833856694262061,
          null
         ],
         "yaxis": "y"
        },
        {
         "customdata": [
          [
           "Date Range: 2023-03-10 to 2023-03-14 <br>Cumulative Progress: 57.25% <br>Level: L1"
          ],
          [
           "Date Range: 2023-03-10 to 2023-03-14<br>Progress in period: 4.71% <br>Cumulative Progress: 61.96% <br>Level: L1"
          ],
          [
           null
          ]
         ],
         "hovertemplate": "%{customdata[0]}",
         "legendgroup": "4.708333333333336",
         "line": {
          "color": "#ff4300",
          "dash": "solid",
          "width": 5
         },
         "marker": {
          "symbol": "circle"
         },
         "mode": "lines",
         "name": "",
         "orientation": "v",
         "showlegend": true,
         "type": "scatter",
         "x": [
          "2023-03-10T00:00:00",
          "2023-03-14T23:00:00",
          null
         ],
         "xaxis": "x",
         "y": [
          0.383671139023694,
          0.41764202112475024,
          null
         ],
         "yaxis": "y"
        },
        {
         "customdata": [
          [
           "Date Range: 2023-03-17 to 2023-03-20 <br>Cumulative Progress: 61.96% <br>Level: L1"
          ],
          [
           "Date Range: 2023-03-17 to 2023-03-20<br>Progress in period: 3.79% <br>Cumulative Progress: 65.75% <br>Level: L1"
          ],
          [
           null
          ]
         ],
         "hovertemplate": "%{customdata[0]}",
         "legendgroup": "3.7916666666666643",
         "line": {
          "color": "#ff3600",
          "dash": "solid",
          "width": 5
         },
         "marker": {
          "symbol": "circle"
         },
         "mode": "lines",
         "name": "",
         "orientation": "v",
         "showlegend": true,
         "type": "scatter",
         "x": [
          "2023-03-17T00:00:00",
          "2023-03-20T23:00:00",
          null
         ],
         "xaxis": "x",
         "y": [
          0.43163003140165573,
          0.45874964316300315,
          null
         ],
         "yaxis": "y"
        },
        {
         "customdata": [
          [
           "Date Range: 2023-03-21 to 2023-03-23 <br>Cumulative Progress: 65.75% <br>Level: L1"
          ],
          [
           "Date Range: 2023-03-21 to 2023-03-23<br>Progress in period: 7.71% <br>Cumulative Progress: 73.46% <br>Level: L1"
          ],
          [
           null
          ]
         ],
         "hovertemplate": "%{customdata[0]}",
         "legendgroup": "7.708333333333329",
         "line": {
          "color": "#ff6d00",
          "dash": "solid",
          "width": 5
         },
         "marker": {
          "symbol": "circle"
         },
         "mode": "lines",
         "name": "",
         "orientation": "v",
         "showlegend": true,
         "type": "scatter",
         "x": [
          "2023-03-21T00:00:00",
          "2023-03-23T23:00:00",
          null
         ],
         "xaxis": "x",
         "y": [
          0.459035112760491,
          0.4793034541821296,
          null
         ],
         "yaxis": "y"
        },
        {
         "customdata": [
          [
           "Date Range: 2023-03-31 to 2023-03-31 <br>Cumulative Progress: 73.46% <br>Level: L1"
          ],
          [
           "Date Range: 2023-03-31 to 2023-03-31<br>Progress in period: 2.04% <br>Cumulative Progress: 75.5% <br>Level: L1"
          ],
          [
           null
          ]
         ],
         "hovertemplate": "%{customdata[0]}",
         "legendgroup": "2.0416666666666714",
         "line": {
          "color": "#ff1d00",
          "dash": "solid",
          "width": 5
         },
         "marker": {
          "symbol": "circle"
         },
         "mode": "lines",
         "name": "",
         "orientation": "v",
         "showlegend": true,
         "type": "scatter",
         "x": [
          "2023-03-31T00:00:00",
          "2023-03-31T23:00:00",
          null
         ],
         "xaxis": "x",
         "y": [
          0.5275478161575792,
          0.5341136168998002,
          null
         ],
         "yaxis": "y"
        },
        {
         "customdata": [
          [
           "Date Range: 2023-04-01 to 2023-04-04 <br>Cumulative Progress: 75.5% <br>Level: L1"
          ],
          [
           "Date Range: 2023-04-01 to 2023-04-04<br>Progress in period: 0.96% <br>Cumulative Progress: 76.46% <br>Level: L1"
          ],
          [
           null
          ]
         ],
         "hovertemplate": "%{customdata[0]}",
         "legendgroup": "0.9583333333333286",
         "line": {
          "color": "#ff0e00",
          "dash": "solid",
          "width": 5
         },
         "marker": {
          "symbol": "circle"
         },
         "mode": "lines",
         "name": "",
         "orientation": "v",
         "showlegend": true,
         "type": "scatter",
         "x": [
          "2023-04-01T00:00:00",
          "2023-04-04T23:00:00",
          null
         ],
         "xaxis": "x",
         "y": [
          0.5343990864972881,
          0.5615186982586354,
          null
         ],
         "yaxis": "y"
        },
        {
         "customdata": [
          [
           "Date Range: 2023-04-05 to 2023-04-06 <br>Cumulative Progress: 76.46% <br>Level: L1"
          ],
          [
           "Date Range: 2023-04-05 to 2023-04-06<br>Progress in period: 0.71% <br>Cumulative Progress: 77.17% <br>Level: L1"
          ],
          [
           null
          ]
         ],
         "hovertemplate": "%{customdata[0]}",
         "legendgroup": "0.7083333333333428",
         "line": {
          "color": "#ff0a00",
          "dash": "solid",
          "width": 5
         },
         "marker": {
          "symbol": "circle"
         },
         "mode": "lines",
         "name": "",
         "orientation": "v",
         "showlegend": true,
         "type": "scatter",
         "x": [
          "2023-04-05T00:00:00",
          "2023-04-06T23:00:00",
          null
         ],
         "xaxis": "x",
         "y": [
          0.5618041678561233,
          0.5752212389380531,
          null
         ],
         "yaxis": "y"
        },
        {
         "customdata": [
          [
           "Date Range: 2023-04-13 to 2023-04-15 <br>Cumulative Progress: 77.17% <br>Level: L1"
          ],
          [
           "Date Range: 2023-04-13 to 2023-04-15<br>Progress in period: 0.5% <br>Cumulative Progress: 77.67% <br>Level: L1"
          ],
          [
           null
          ]
         ],
         "hovertemplate": "%{customdata[0]}",
         "legendgroup": "0.5",
         "line": {
          "color": "#ff0700",
          "dash": "solid",
          "width": 5
         },
         "marker": {
          "symbol": "circle"
         },
         "mode": "lines",
         "name": "",
         "orientation": "v",
         "showlegend": true,
         "type": "scatter",
         "x": [
          "2023-04-13T00:00:00",
          "2023-04-15T23:00:00",
          null
         ],
         "xaxis": "x",
         "y": [
          0.6166143305737939,
          0.6368826719954325,
          null
         ],
         "yaxis": "y"
        },
        {
         "customdata": [
          [
           "Date Range: 2023-05-14 to 2023-05-18 <br>Cumulative Progress: 77.67% <br>Level: L1"
          ],
          [
           "Date Range: 2023-05-14 to 2023-05-18<br>Progress in period: 0.88% <br>Cumulative Progress: 78.54% <br>Level: L1"
          ],
          [
           null
          ]
         ],
         "hovertemplate": "%{customdata[0]}",
         "legendgroup": "0.875",
         "line": {
          "color": "#ff0c00",
          "dash": "solid",
          "width": 5
         },
         "marker": {
          "symbol": "circle"
         },
         "mode": "lines",
         "name": "",
         "orientation": "v",
         "showlegend": true,
         "type": "scatter",
         "x": [
          "2023-05-14T00:00:00",
          "2023-05-18T23:00:00",
          null
         ],
         "xaxis": "x",
         "y": [
          0.8290037111047673,
          0.8629745932058236,
          null
         ],
         "yaxis": "y"
        },
        {
         "customdata": [
          [
           "Date Range: 2023-06-06 to 2023-06-07 <br>Cumulative Progress: 78.54% <br>Level: L1"
          ],
          [
           "Date Range: 2023-06-06 to 2023-06-07<br>Progress in period: 18.88% <br>Cumulative Progress: 97.42% <br>Level: L1"
          ],
          [
           null
          ]
         ],
         "hovertemplate": "%{customdata[0]}",
         "legendgroup": "18.875",
         "line": {
          "color": "#cbda00",
          "dash": "solid",
          "width": 5
         },
         "marker": {
          "symbol": "circle"
         },
         "mode": "lines",
         "name": "",
         "orientation": "v",
         "showlegend": true,
         "type": "scatter",
         "x": [
          "2023-06-06T00:00:00",
          "2023-06-07T23:00:00",
          null
         ],
         "xaxis": "x",
         "y": [
          0.9865829289180702,
          1,
          null
         ],
         "yaxis": "y"
        },
        {
         "customdata": [
          [
           "Date Range: 2023-01-18 to 2023-01-19 <br>Cumulative Progress: 0.0% <br>Level: L2"
          ],
          [
           "Date Range: 2023-01-18 to 2023-01-19<br>Progress in period: 4.88% <br>Cumulative Progress: 4.88% <br>Level: L2"
          ],
          [
           null
          ]
         ],
         "hovertemplate": "%{customdata[0]}",
         "legendgroup": "4.875",
         "line": {
          "color": "#ff4500",
          "dash": "solid",
          "width": 5
         },
         "marker": {
          "symbol": "circle"
         },
         "mode": "lines",
         "name": "",
         "orientation": "v",
         "showlegend": true,
         "type": "scatter",
         "x": [
          "2023-01-18T00:00:00",
          "2023-01-19T23:00:00",
          null
         ],
         "xaxis": "x",
         "y": [
          1,
          1.0115224319686198,
          null
         ],
         "yaxis": "y"
        },
        {
         "customdata": [
          [
           "Date Range: 2023-01-22 to 2023-01-23 <br>Cumulative Progress: 4.88% <br>Level: L2"
          ],
          [
           "Date Range: 2023-01-22 to 2023-01-23<br>Progress in period: 3.71% <br>Cumulative Progress: 8.58% <br>Level: L2"
          ],
          [
           null
          ]
         ],
         "hovertemplate": "%{customdata[0]}",
         "legendgroup": "3.708333333333334",
         "line": {
          "color": "#ff3400",
          "dash": "solid",
          "width": 5
         },
         "marker": {
          "symbol": "circle"
         },
         "mode": "lines",
         "name": "",
         "orientation": "v",
         "showlegend": true,
         "type": "scatter",
         "x": [
          "2023-01-22T00:00:00",
          "2023-01-23T23:00:00",
          null
         ],
         "xaxis": "x",
         "y": [
          1.0235351801912234,
          1.0350576121598432,
          null
         ],
         "yaxis": "y"
        },
        {
         "customdata": [
          [
           "Date Range: 2023-01-24 to 2023-01-26 <br>Cumulative Progress: 8.58% <br>Level: L2"
          ],
          [
           "Date Range: 2023-01-24 to 2023-01-26<br>Progress in period: 2.96% <br>Cumulative Progress: 11.54% <br>Level: L2"
          ],
          [
           null
          ]
         ],
         "hovertemplate": "%{customdata[0]}",
         "legendgroup": "2.958333333333332",
         "line": {
          "color": "#ff2a00",
          "dash": "solid",
          "width": 5
         },
         "marker": {
          "symbol": "circle"
         },
         "mode": "lines",
         "name": "",
         "orientation": "v",
         "showlegend": true,
         "type": "scatter",
         "x": [
          "2023-01-24T00:00:00",
          "2023-01-26T23:00:00",
          null
         ],
         "xaxis": "x",
         "y": [
          1.035302770286835,
          1.0527089973032606,
          null
         ],
         "yaxis": "y"
        },
        {
         "customdata": [
          [
           "Date Range: 2023-01-28 to 2023-01-30 <br>Cumulative Progress: 11.54% <br>Level: L2"
          ],
          [
           "Date Range: 2023-01-28 to 2023-01-30<br>Progress in period: 1.04% <br>Cumulative Progress: 12.58% <br>Level: L2"
          ],
          [
           null
          ]
         ],
         "hovertemplate": "%{customdata[0]}",
         "legendgroup": "1.0416666666666679",
         "line": {
          "color": "#ff0f00",
          "dash": "solid",
          "width": 5
         },
         "marker": {
          "symbol": "circle"
         },
         "mode": "lines",
         "name": "",
         "orientation": "v",
         "showlegend": true,
         "type": "scatter",
         "x": [
          "2023-01-28T00:00:00",
          "2023-01-30T23:00:00",
          null
         ],
         "xaxis": "x",
         "y": [
          1.0588379504780583,
          1.076244177494484,
          null
         ],
         "yaxis": "y"
        },
        {
         "customdata": [
          [
           "Date Range: 2023-01-31 to 2023-02-02 <br>Cumulative Progress: 12.58% <br>Level: L2"
          ],
          [
           "Date Range: 2023-01-31 to 2023-02-02<br>Progress in period: 0.92% <br>Cumulative Progress: 13.5% <br>Level: L2"
          ],
          [
           null
          ]
         ],
         "hovertemplate": "%{customdata[0]}",
         "legendgroup": "0.9166666666666661",
         "line": {
          "color": "#ff0d00",
          "dash": "solid",
          "width": 5
         },
         "marker": {
          "symbol": "circle"
         },
         "mode": "lines",
         "name": "",
         "orientation": "v",
         "showlegend": true,
         "type": "scatter",
         "x": [
          "2023-01-31T00:00:00",
          "2023-02-02T23:00:00",
          null
         ],
         "xaxis": "x",
         "y": [
          1.0764893356214758,
          1.0938955626379014,
          null
         ],
         "yaxis": "y"
        },
        {
         "customdata": [
          [
           "Date Range: 2023-02-03 to 2023-02-07 <br>Cumulative Progress: 13.5% <br>Level: L2"
          ],
          [
           "Date Range: 2023-02-03 to 2023-02-07<br>Progress in period: 0.83% <br>Cumulative Progress: 14.33% <br>Level: L2"
          ],
          [
           null
          ]
         ],
         "hovertemplate": "%{customdata[0]}",
         "legendgroup": "0.8333333333333339",
         "line": {
          "color": "#ff0c00",
          "dash": "solid",
          "width": 5
         },
         "marker": {
          "symbol": "circle"
         },
         "mode": "lines",
         "name": "",
         "orientation": "v",
         "showlegend": true,
         "type": "scatter",
         "x": [
          "2023-02-03T00:00:00",
          "2023-02-07T23:00:00",
          null
         ],
         "xaxis": "x",
         "y": [
          1.0941407207648934,
          1.1233145378769307,
          null
         ],
         "yaxis": "y"
        },
        {
         "customdata": [
          [
           "Date Range: 2023-02-08 to 2023-02-13 <br>Cumulative Progress: 14.33% <br>Level: L2"
          ],
          [
           "Date Range: 2023-02-08 to 2023-02-13<br>Progress in period: 4.96% <br>Cumulative Progress: 19.29% <br>Level: L2"
          ],
          [
           null
          ]
         ],
         "hovertemplate": "%{customdata[0]}",
         "legendgroup": "4.958333333333334",
         "line": {
          "color": "#ff4600",
          "dash": "solid",
          "width": 5
         },
         "marker": {
          "symbol": "circle"
         },
         "mode": "lines",
         "name": "",
         "orientation": "v",
         "showlegend": true,
         "type": "scatter",
         "x": [
          "2023-02-08T00:00:00",
          "2023-02-13T23:00:00",
          null
         ],
         "xaxis": "x",
         "y": [
          1.1235596960039225,
          1.1586173081637656,
          null
         ],
         "yaxis": "y"
        },
        {
         "customdata": [
          [
           "Date Range: 2023-02-14 to 2023-02-21 <br>Cumulative Progress: 19.29% <br>Level: L2"
          ],
          [
           "Date Range: 2023-02-14 to 2023-02-21<br>Progress in period: 0.79% <br>Cumulative Progress: 20.08% <br>Level: L2"
          ],
          [
           null
          ]
         ],
         "hovertemplate": "%{customdata[0]}",
         "legendgroup": "0.7916666666666643",
         "line": {
          "color": "#ff0b00",
          "dash": "solid",
          "width": 5
         },
         "marker": {
          "symbol": "circle"
         },
         "mode": "lines",
         "name": "",
         "orientation": "v",
         "showlegend": true,
         "type": "scatter",
         "x": [
          "2023-02-14T00:00:00",
          "2023-02-21T23:00:00",
          null
         ],
         "xaxis": "x",
         "y": [
          1.1588624662907576,
          1.2056876685462123,
          null
         ],
         "yaxis": "y"
        },
        {
         "customdata": [
          [
           "Date Range: 2023-02-22 to 2023-02-24 <br>Cumulative Progress: 20.08% <br>Level: L2"
          ],
          [
           "Date Range: 2023-02-22 to 2023-02-24<br>Progress in period: 1.58% <br>Cumulative Progress: 21.67% <br>Level: L2"
          ],
          [
           null
          ]
         ],
         "hovertemplate": "%{customdata[0]}",
         "legendgroup": "1.5833333333333357",
         "line": {
          "color": "#ff1600",
          "dash": "solid",
          "width": 5
         },
         "marker": {
          "symbol": "circle"
         },
         "mode": "lines",
         "name": "",
         "orientation": "v",
         "showlegend": true,
         "type": "scatter",
         "x": [
          "2023-02-22T00:00:00",
          "2023-02-24T23:00:00",
          null
         ],
         "xaxis": "x",
         "y": [
          1.2059328266732043,
          1.2233390536896298,
          null
         ],
         "yaxis": "y"
        },
        {
         "customdata": [
          [
           "Date Range: 2023-02-25 to 2023-02-27 <br>Cumulative Progress: 21.67% <br>Level: L2"
          ],
          [
           "Date Range: 2023-02-25 to 2023-02-27<br>Progress in period: 0.25% <br>Cumulative Progress: 21.92% <br>Level: L2"
          ],
          [
           null
          ],
          [
           "Date Range: 2023-07-01 to 2023-07-06 <br>Cumulative Progress: 99.58% <br>Level: L2"
          ],
          [
           "Date Range: 2023-07-01 to 2023-07-06<br>Progress in period: 0.25% <br>Cumulative Progress: 99.83% <br>Level: L2"
          ],
          [
           null
          ]
         ],
         "hovertemplate": "%{customdata[0]}",
         "legendgroup": "0.25",
         "line": {
          "color": "#ff0400",
          "dash": "solid",
          "width": 5
         },
         "marker": {
          "symbol": "circle"
         },
         "mode": "lines",
         "name": "",
         "orientation": "v",
         "showlegend": true,
         "type": "scatter",
         "x": [
          "2023-02-25T00:00:00",
          "2023-02-27T23:00:00",
          null,
          "2023-07-01T00:00:00",
          "2023-07-06T23:00:00",
          null
         ],
         "xaxis": "x",
         "y": [
          1.2235842118166218,
          1.2409904388330473,
          null,
          1.964942387840157,
          2,
          null
         ],
         "yaxis": "y"
        },
        {
         "customdata": [
          [
           "Date Range: 2023-03-04 to 2023-03-07 <br>Cumulative Progress: 21.92% <br>Level: L2"
          ],
          [
           "Date Range: 2023-03-04 to 2023-03-07<br>Progress in period: 2.17% <br>Cumulative Progress: 24.08% <br>Level: L2"
          ],
          [
           null
          ]
         ],
         "hovertemplate": "%{customdata[0]}",
         "legendgroup": "2.1666666666666643",
         "line": {
          "color": "#ff1f00",
          "dash": "solid",
          "width": 5
         },
         "marker": {
          "symbol": "circle"
         },
         "mode": "lines",
         "name": "",
         "orientation": "v",
         "showlegend": true,
         "type": "scatter",
         "x": [
          "2023-03-04T00:00:00",
          "2023-03-07T23:00:00",
          null
         ],
         "xaxis": "x",
         "y": [
          1.2647707771512626,
          1.288060799215494,
          null
         ],
         "yaxis": "y"
        },
        {
         "customdata": [
          [
           "Date Range: 2023-03-08 to 2023-03-09 <br>Cumulative Progress: 24.08% <br>Level: L2"
          ],
          [
           "Date Range: 2023-03-08 to 2023-03-09<br>Progress in period: 6.46% <br>Cumulative Progress: 30.54% <br>Level: L2"
          ],
          [
           null
          ]
         ],
         "hovertemplate": "%{customdata[0]}",
         "legendgroup": "6.458333333333336",
         "line": {
          "color": "#ff5b00",
          "dash": "solid",
          "width": 5
         },
         "marker": {
          "symbol": "circle"
         },
         "mode": "lines",
         "name": "",
         "orientation": "v",
         "showlegend": true,
         "type": "scatter",
         "x": [
          "2023-03-08T00:00:00",
          "2023-03-09T23:00:00",
          null
         ],
         "xaxis": "x",
         "y": [
          1.288305957342486,
          1.2998283893111058,
          null
         ],
         "yaxis": "y"
        },
        {
         "customdata": [
          [
           "Date Range: 2023-03-10 to 2023-03-14 <br>Cumulative Progress: 30.54% <br>Level: L2"
          ],
          [
           "Date Range: 2023-03-10 to 2023-03-14<br>Progress in period: 11.04% <br>Cumulative Progress: 41.58% <br>Level: L2"
          ],
          [
           null
          ]
         ],
         "hovertemplate": "%{customdata[0]}",
         "legendgroup": "11.041666666666668",
         "line": {
          "color": "#ff9c00",
          "dash": "solid",
          "width": 5
         },
         "marker": {
          "symbol": "circle"
         },
         "mode": "lines",
         "name": "",
         "orientation": "v",
         "showlegend": true,
         "type": "scatter",
         "x": [
          "2023-03-10T00:00:00",
          "2023-03-14T23:00:00",
          null
         ],
         "xaxis": "x",
         "y": [
          1.3000735474380976,
          1.3292473645501348,
          null
         ],
         "yaxis": "y"
        },
        {
         "customdata": [
          [
           "Date Range: 2023-03-17 to 2023-03-20 <br>Cumulative Progress: 41.58% <br>Level: L2"
          ],
          [
           "Date Range: 2023-03-17 to 2023-03-20<br>Progress in period: 6.79% <br>Cumulative Progress: 48.38% <br>Level: L2"
          ],
          [
           null
          ]
         ],
         "hovertemplate": "%{customdata[0]}",
         "legendgroup": "6.791666666666664",
         "line": {
          "color": "#ff6000",
          "dash": "solid",
          "width": 5
         },
         "marker": {
          "symbol": "circle"
         },
         "mode": "lines",
         "name": "",
         "orientation": "v",
         "showlegend": true,
         "type": "scatter",
         "x": [
          "2023-03-17T00:00:00",
          "2023-03-20T23:00:00",
          null
         ],
         "xaxis": "x",
         "y": [
          1.3412601127727384,
          1.36455013483697,
          null
         ],
         "yaxis": "y"
        },
        {
         "customdata": [
          [
           "Date Range: 2023-03-21 to 2023-03-23 <br>Cumulative Progress: 48.38% <br>Level: L2"
          ],
          [
           "Date Range: 2023-03-21 to 2023-03-23<br>Progress in period: 15.88% <br>Cumulative Progress: 64.25% <br>Level: L2"
          ],
          [
           null
          ]
         ],
         "hovertemplate": "%{customdata[0]}",
         "legendgroup": "15.875",
         "line": {
          "color": "#f3d500",
          "dash": "solid",
          "width": 5
         },
         "marker": {
          "symbol": "circle"
         },
         "mode": "lines",
         "name": "",
         "orientation": "v",
         "showlegend": true,
         "type": "scatter",
         "x": [
          "2023-03-21T00:00:00",
          "2023-03-23T23:00:00",
          null
         ],
         "xaxis": "x",
         "y": [
          1.3647952929639617,
          1.3822015199803874,
          null
         ],
         "yaxis": "y"
        },
        {
         "customdata": [
          [
           "Date Range: 2023-03-31 to 2023-03-31 <br>Cumulative Progress: 64.25% <br>Level: L2"
          ],
          [
           "Date Range: 2023-03-31 to 2023-03-31<br>Progress in period: 4.08% <br>Cumulative Progress: 68.33% <br>Level: L2"
          ],
          [
           null
          ]
         ],
         "hovertemplate": "%{customdata[0]}",
         "legendgroup": "4.083333333333329",
         "line": {
          "color": "#ff3a00",
          "dash": "solid",
          "width": 5
         },
         "marker": {
          "symbol": "circle"
         },
         "mode": "lines",
         "name": "",
         "orientation": "v",
         "showlegend": true,
         "type": "scatter",
         "x": [
          "2023-03-31T00:00:00",
          "2023-03-31T23:00:00",
          null
         ],
         "xaxis": "x",
         "y": [
          1.42363324344202,
          1.4292718803628341,
          null
         ],
         "yaxis": "y"
        },
        {
         "customdata": [
          [
           "Date Range: 2023-04-01 to 2023-04-04 <br>Cumulative Progress: 68.33% <br>Level: L2"
          ],
          [
           "Date Range: 2023-04-01 to 2023-04-04<br>Progress in period: 4.5% <br>Cumulative Progress: 72.83% <br>Level: L2"
          ],
          [
           null
          ]
         ],
         "hovertemplate": "%{customdata[0]}",
         "legendgroup": "4.5",
         "line": {
          "color": "#ff4000",
          "dash": "solid",
          "width": 5
         },
         "marker": {
          "symbol": "circle"
         },
         "mode": "lines",
         "name": "",
         "orientation": "v",
         "showlegend": true,
         "type": "scatter",
         "x": [
          "2023-04-01T00:00:00",
          "2023-04-04T23:00:00",
          null
         ],
         "xaxis": "x",
         "y": [
          1.429517038489826,
          1.4528070605540573,
          null
         ],
         "yaxis": "y"
        },
        {
         "customdata": [
          [
           "Date Range: 2023-04-05 to 2023-04-06 <br>Cumulative Progress: 72.83% <br>Level: L2"
          ],
          [
           "Date Range: 2023-04-05 to 2023-04-06<br>Progress in period: 1.29% <br>Cumulative Progress: 74.12% <br>Level: L2"
          ],
          [
           null
          ]
         ],
         "hovertemplate": "%{customdata[0]}",
         "legendgroup": "1.2916666666666714",
         "line": {
          "color": "#ff1200",
          "dash": "solid",
          "width": 5
         },
         "marker": {
          "symbol": "circle"
         },
         "mode": "lines",
         "name": "",
         "orientation": "v",
         "showlegend": true,
         "type": "scatter",
         "x": [
          "2023-04-05T00:00:00",
          "2023-04-06T23:00:00",
          null
         ],
         "xaxis": "x",
         "y": [
          1.4530522186810493,
          1.464574650649669,
          null
         ],
         "yaxis": "y"
        },
        {
         "customdata": [
          [
           "Date Range: 2023-04-13 to 2023-04-15 <br>Cumulative Progress: 74.12% <br>Level: L2"
          ],
          [
           "Date Range: 2023-04-13 to 2023-04-15<br>Progress in period: 0.08% <br>Cumulative Progress: 74.21% <br>Level: L2"
          ],
          [
           null
          ]
         ],
         "hovertemplate": "%{customdata[0]}",
         "legendgroup": "0.0833333333333286",
         "line": {
          "color": "#ff0100",
          "dash": "solid",
          "width": 5
         },
         "marker": {
          "symbol": "circle"
         },
         "mode": "lines",
         "name": "",
         "orientation": "v",
         "showlegend": true,
         "type": "scatter",
         "x": [
          "2023-04-13T00:00:00",
          "2023-04-15T23:00:00",
          null
         ],
         "xaxis": "x",
         "y": [
          1.500122579063496,
          1.5175288060799215,
          null
         ],
         "yaxis": "y"
        },
        {
         "customdata": [
          [
           "Date Range: 2023-04-22 to 2023-04-25 <br>Cumulative Progress: 74.21% <br>Level: L2"
          ],
          [
           "Date Range: 2023-04-22 to 2023-04-25<br>Progress in period: 0.08% <br>Cumulative Progress: 74.29% <br>Level: L2"
          ],
          [
           null
          ]
         ],
         "hovertemplate": "%{customdata[0]}",
         "legendgroup": "0.08333333333334281",
         "line": {
          "color": "#ff0100",
          "dash": "solid",
          "width": 5
         },
         "marker": {
          "symbol": "circle"
         },
         "mode": "lines",
         "name": "",
         "orientation": "v",
         "showlegend": true,
         "type": "scatter",
         "x": [
          "2023-04-22T00:00:00",
          "2023-04-25T23:00:00",
          null
         ],
         "xaxis": "x",
         "y": [
          1.5530767344937484,
          1.57636675655798,
          null
         ],
         "yaxis": "y"
        },
        {
         "customdata": [
          [
           "Date Range: 2023-04-26 to 2023-04-27 <br>Cumulative Progress: 74.29% <br>Level: L2"
          ],
          [
           "Date Range: 2023-04-26 to 2023-04-27<br>Progress in period: 0.21% <br>Cumulative Progress: 74.5% <br>Level: L2"
          ],
          [
           null
          ]
         ],
         "hovertemplate": "%{customdata[0]}",
         "legendgroup": "0.2083333333333286",
         "line": {
          "color": "#ff0300",
          "dash": "solid",
          "width": 5
         },
         "marker": {
          "symbol": "circle"
         },
         "mode": "lines",
         "name": "",
         "orientation": "v",
         "showlegend": true,
         "type": "scatter",
         "x": [
          "2023-04-26T00:00:00",
          "2023-04-27T23:00:00",
          null
         ],
         "xaxis": "x",
         "y": [
          1.576611914684972,
          1.5881343466535915,
          null
         ],
         "yaxis": "y"
        },
        {
         "customdata": [
          [
           "Date Range: 2023-06-06 to 2023-06-07 <br>Cumulative Progress: 74.5% <br>Level: L2"
          ],
          [
           "Date Range: 2023-06-06 to 2023-06-07<br>Progress in period: 23.29% <br>Cumulative Progress: 97.79% <br>Level: L2"
          ],
          [
           null
          ]
         ],
         "hovertemplate": "%{customdata[0]}",
         "legendgroup": "23.29166666666667",
         "line": {
          "color": "#8fe100",
          "dash": "solid",
          "width": 5
         },
         "marker": {
          "symbol": "circle"
         },
         "mode": "lines",
         "name": "",
         "orientation": "v",
         "showlegend": true,
         "type": "scatter",
         "x": [
          "2023-06-06T00:00:00",
          "2023-06-07T23:00:00",
          null
         ],
         "xaxis": "x",
         "y": [
          1.817847511645011,
          1.8293699436136308,
          null
         ],
         "yaxis": "y"
        },
        {
         "customdata": [
          [
           "Date Range: 2023-06-21 to 2023-06-22 <br>Cumulative Progress: 97.79% <br>Level: L2"
          ],
          [
           "Date Range: 2023-06-21 to 2023-06-22<br>Progress in period: 1.79% <br>Cumulative Progress: 99.58% <br>Level: L2"
          ],
          [
           null
          ]
         ],
         "hovertemplate": "%{customdata[0]}",
         "legendgroup": "1.7916666666666572",
         "line": {
          "color": "#ff1900",
          "dash": "solid",
          "width": 5
         },
         "marker": {
          "symbol": "circle"
         },
         "mode": "lines",
         "name": "",
         "orientation": "v",
         "showlegend": true,
         "type": "scatter",
         "x": [
          "2023-06-21T00:00:00",
          "2023-06-22T23:00:00",
          null
         ],
         "xaxis": "x",
         "y": [
          1.9061044373620986,
          1.9176268693307184,
          null
         ],
         "yaxis": "y"
        },
        {
         "customdata": [
          [
           "Date Range: 2023-01-24 to 2023-01-26 <br>Cumulative Progress: 0.0% <br>Level: L3"
          ],
          [
           "Date Range: 2023-01-24 to 2023-01-26<br>Progress in period: 6.46% <br>Cumulative Progress: 6.46% <br>Level: L3"
          ],
          [
           null
          ]
         ],
         "hovertemplate": "%{customdata[0]}",
         "legendgroup": "6.458333333333333",
         "line": {
          "color": "#ff5b00",
          "dash": "solid",
          "width": 5
         },
         "marker": {
          "symbol": "circle"
         },
         "mode": "lines",
         "name": "",
         "orientation": "v",
         "showlegend": true,
         "type": "scatter",
         "x": [
          "2023-01-24T00:00:00",
          "2023-01-26T23:00:00",
          null
         ],
         "xaxis": "x",
         "y": [
          2,
          2.0162583008930617,
          null
         ],
         "yaxis": "y"
        },
        {
         "customdata": [
          [
           "Date Range: 2023-01-28 to 2023-01-30 <br>Cumulative Progress: 6.46% <br>Level: L3"
          ],
          [
           "Date Range: 2023-01-28 to 2023-01-30<br>Progress in period: 6.5% <br>Cumulative Progress: 12.96% <br>Level: L3"
          ],
          [
           null
          ]
         ],
         "hovertemplate": "%{customdata[0]}",
         "legendgroup": "6.500000000000001",
         "line": {
          "color": "#ff5c00",
          "dash": "solid",
          "width": 5
         },
         "marker": {
          "symbol": "circle"
         },
         "mode": "lines",
         "name": "",
         "orientation": "v",
         "showlegend": true,
         "type": "scatter",
         "x": [
          "2023-01-28T00:00:00",
          "2023-01-30T23:00:00",
          null
         ],
         "xaxis": "x",
         "y": [
          2.0219830547286466,
          2.0382413556217083,
          null
         ],
         "yaxis": "y"
        },
        {
         "customdata": [
          [
           "Date Range: 2023-02-03 to 2023-02-07 <br>Cumulative Progress: 12.96% <br>Level: L3"
          ],
          [
           "Date Range: 2023-02-03 to 2023-02-07<br>Progress in period: 0.54% <br>Cumulative Progress: 13.5% <br>Level: L3"
          ],
          [
           null
          ]
         ],
         "hovertemplate": "%{customdata[0]}",
         "legendgroup": "0.5416666666666661",
         "line": {
          "color": "#ff0800",
          "dash": "solid",
          "width": 5
         },
         "marker": {
          "symbol": "circle"
         },
         "mode": "lines",
         "name": "",
         "orientation": "v",
         "showlegend": true,
         "type": "scatter",
         "x": [
          "2023-02-03T00:00:00",
          "2023-02-07T23:00:00",
          null
         ],
         "xaxis": "x",
         "y": [
          2.0549576368216167,
          2.0822074650790015,
          null
         ],
         "yaxis": "y"
        },
        {
         "customdata": [
          [
           "Date Range: 2023-02-08 to 2023-02-13 <br>Cumulative Progress: 13.5% <br>Level: L3"
          ],
          [
           "Date Range: 2023-02-08 to 2023-02-13<br>Progress in period: 6.46% <br>Cumulative Progress: 19.96% <br>Level: L3"
          ],
          [
           null
          ]
         ],
         "hovertemplate": "%{customdata[0]}",
         "legendgroup": "6.458333333333332",
         "line": {
          "color": "#ff5b00",
          "dash": "solid",
          "width": 5
         },
         "marker": {
          "symbol": "circle"
         },
         "mode": "lines",
         "name": "",
         "orientation": "v",
         "showlegend": true,
         "type": "scatter",
         "x": [
          "2023-02-08T00:00:00",
          "2023-02-13T23:00:00",
          null
         ],
         "xaxis": "x",
         "y": [
          2.082436455232425,
          2.1151820471719716,
          null
         ],
         "yaxis": "y"
        },
        {
         "customdata": [
          [
           "Date Range: 2023-02-14 to 2023-02-21 <br>Cumulative Progress: 19.96% <br>Level: L3"
          ],
          [
           "Date Range: 2023-02-14 to 2023-02-21<br>Progress in period: 0.46% <br>Cumulative Progress: 20.42% <br>Level: L3"
          ],
          [
           null
          ]
         ],
         "hovertemplate": "%{customdata[0]}",
         "legendgroup": "0.4583333333333357",
         "line": {
          "color": "#ff0600",
          "dash": "solid",
          "width": 5
         },
         "marker": {
          "symbol": "circle"
         },
         "mode": "lines",
         "name": "",
         "orientation": "v",
         "showlegend": true,
         "type": "scatter",
         "x": [
          "2023-02-14T00:00:00",
          "2023-02-21T23:00:00",
          null
         ],
         "xaxis": "x",
         "y": [
          2.115411037325395,
          2.1591481566292647,
          null
         ],
         "yaxis": "y"
        },
        {
         "customdata": [
          [
           "Date Range: 2023-02-22 to 2023-02-24 <br>Cumulative Progress: 20.42% <br>Level: L3"
          ],
          [
           "Date Range: 2023-02-22 to 2023-02-24<br>Progress in period: 0.21% <br>Cumulative Progress: 20.62% <br>Level: L3"
          ],
          [
           null
          ]
         ],
         "hovertemplate": "%{customdata[0]}",
         "legendgroup": "0.20833333333333215",
         "line": {
          "color": "#ff0300",
          "dash": "solid",
          "width": 5
         },
         "marker": {
          "symbol": "circle"
         },
         "mode": "lines",
         "name": "",
         "orientation": "v",
         "showlegend": true,
         "type": "scatter",
         "x": [
          "2023-02-22T00:00:00",
          "2023-02-24T23:00:00",
          null
         ],
         "xaxis": "x",
         "y": [
          2.1593771467826883,
          2.17563544767575,
          null
         ],
         "yaxis": "y"
        },
        {
         "customdata": [
          [
           "Date Range: 2023-02-25 to 2023-02-27 <br>Cumulative Progress: 20.62% <br>Level: L3"
          ],
          [
           "Date Range: 2023-02-25 to 2023-02-27<br>Progress in period: 0.79% <br>Cumulative Progress: 21.42% <br>Level: L3"
          ],
          [
           null
          ]
         ],
         "hovertemplate": "%{customdata[0]}",
         "legendgroup": "0.7916666666666679",
         "line": {
          "color": "#ff0b00",
          "dash": "solid",
          "width": 5
         },
         "marker": {
          "symbol": "circle"
         },
         "mode": "lines",
         "name": "",
         "orientation": "v",
         "showlegend": true,
         "type": "scatter",
         "x": [
          "2023-02-25T00:00:00",
          "2023-02-27T23:00:00",
          null
         ],
         "xaxis": "x",
         "y": [
          2.175864437829173,
          2.192122738722235,
          null
         ],
         "yaxis": "y"
        },
        {
         "customdata": [
          [
           "Date Range: 2023-02-28 to 2023-03-03 <br>Cumulative Progress: 21.42% <br>Level: L3"
          ],
          [
           "Date Range: 2023-02-28 to 2023-03-03<br>Progress in period: 0.12% <br>Cumulative Progress: 21.54% <br>Level: L3"
          ],
          [
           null
          ],
          [
           "Date Range: 2023-04-22 to 2023-04-25 <br>Cumulative Progress: 72.38% <br>Level: L3"
          ],
          [
           "Date Range: 2023-04-22 to 2023-04-25<br>Progress in period: 0.12% <br>Cumulative Progress: 72.5% <br>Level: L3"
          ],
          [
           null
          ]
         ],
         "hovertemplate": "%{customdata[0]}",
         "legendgroup": "0.125",
         "line": {
          "color": "#ff0200",
          "dash": "solid",
          "width": 5
         },
         "marker": {
          "symbol": "circle"
         },
         "mode": "lines",
         "name": "",
         "orientation": "v",
         "showlegend": true,
         "type": "scatter",
         "x": [
          "2023-02-28T00:00:00",
          "2023-03-03T23:00:00",
          null,
          "2023-04-22T00:00:00",
          "2023-04-25T23:00:00",
          null
         ],
         "xaxis": "x",
         "y": [
          2.1923517288756584,
          2.2141057934508814,
          null,
          2.4836272040302267,
          2.5053812686054497,
          null
         ],
         "yaxis": "y"
        },
        {
         "customdata": [
          [
           "Date Range: 2023-03-10 to 2023-03-14 <br>Cumulative Progress: 21.54% <br>Level: L3"
          ],
          [
           "Date Range: 2023-03-10 to 2023-03-14<br>Progress in period: 9.96% <br>Cumulative Progress: 31.5% <br>Level: L3"
          ],
          [
           null
          ]
         ],
         "hovertemplate": "%{customdata[0]}",
         "legendgroup": "9.958333333333332",
         "line": {
          "color": "#ff8d00",
          "dash": "solid",
          "width": 5
         },
         "marker": {
          "symbol": "circle"
         },
         "mode": "lines",
         "name": "",
         "orientation": "v",
         "showlegend": true,
         "type": "scatter",
         "x": [
          "2023-03-10T00:00:00",
          "2023-03-14T23:00:00",
          null
         ],
         "xaxis": "x",
         "y": [
          2.247309365697275,
          2.27455919395466,
          null
         ],
         "yaxis": "y"
        },
        {
         "customdata": [
          [
           "Date Range: 2023-03-17 to 2023-03-20 <br>Cumulative Progress: 31.5% <br>Level: L3"
          ],
          [
           "Date Range: 2023-03-17 to 2023-03-20<br>Progress in period: 9.12% <br>Cumulative Progress: 40.62% <br>Level: L3"
          ],
          [
           null
          ]
         ],
         "hovertemplate": "%{customdata[0]}",
         "legendgroup": "9.125",
         "line": {
          "color": "#ff8100",
          "dash": "solid",
          "width": 5
         },
         "marker": {
          "symbol": "circle"
         },
         "mode": "lines",
         "name": "",
         "orientation": "v",
         "showlegend": true,
         "type": "scatter",
         "x": [
          "2023-03-17T00:00:00",
          "2023-03-20T23:00:00",
          null
         ],
         "xaxis": "x",
         "y": [
          2.2857797114724066,
          2.30753377604763,
          null
         ],
         "yaxis": "y"
        },
        {
         "customdata": [
          [
           "Date Range: 2023-03-21 to 2023-03-23 <br>Cumulative Progress: 40.62% <br>Level: L3"
          ],
          [
           "Date Range: 2023-03-21 to 2023-03-23<br>Progress in period: 21.46% <br>Cumulative Progress: 62.08% <br>Level: L3"
          ],
          [
           null
          ]
         ],
         "hovertemplate": "%{customdata[0]}",
         "legendgroup": "21.458333333333336",
         "line": {
          "color": "#a8de00",
          "dash": "solid",
          "width": 5
         },
         "marker": {
          "symbol": "circle"
         },
         "mode": "lines",
         "name": "",
         "orientation": "v",
         "showlegend": true,
         "type": "scatter",
         "x": [
          "2023-03-21T00:00:00",
          "2023-03-23T23:00:00",
          null
         ],
         "xaxis": "x",
         "y": [
          2.307762766201053,
          2.324021067094115,
          null
         ],
         "yaxis": "y"
        },
        {
         "customdata": [
          [
           "Date Range: 2023-03-31 to 2023-03-31 <br>Cumulative Progress: 62.08% <br>Level: L3"
          ],
          [
           "Date Range: 2023-03-31 to 2023-03-31<br>Progress in period: 2.62% <br>Cumulative Progress: 64.71% <br>Level: L3"
          ],
          [
           null
          ]
         ],
         "hovertemplate": "%{customdata[0]}",
         "legendgroup": "2.624999999999993",
         "line": {
          "color": "#ff2500",
          "dash": "solid",
          "width": 5
         },
         "marker": {
          "symbol": "circle"
         },
         "mode": "lines",
         "name": "",
         "orientation": "v",
         "showlegend": true,
         "type": "scatter",
         "x": [
          "2023-03-31T00:00:00",
          "2023-03-31T23:00:00",
          null
         ],
         "xaxis": "x",
         "y": [
          2.36272040302267,
          2.3679871765514084,
          null
         ],
         "yaxis": "y"
        },
        {
         "customdata": [
          [
           "Date Range: 2023-04-01 to 2023-04-04 <br>Cumulative Progress: 64.71% <br>Level: L3"
          ],
          [
           "Date Range: 2023-04-01 to 2023-04-04<br>Progress in period: 1.25% <br>Cumulative Progress: 65.96% <br>Level: L3"
          ],
          [
           null
          ]
         ],
         "hovertemplate": "%{customdata[0]}",
         "legendgroup": "1.25",
         "line": {
          "color": "#ff1200",
          "dash": "solid",
          "width": 5
         },
         "marker": {
          "symbol": "circle"
         },
         "mode": "lines",
         "name": "",
         "orientation": "v",
         "showlegend": true,
         "type": "scatter",
         "x": [
          "2023-04-01T00:00:00",
          "2023-04-04T23:00:00",
          null
         ],
         "xaxis": "x",
         "y": [
          2.3682161667048316,
          2.389970231280055,
          null
         ],
         "yaxis": "y"
        },
        {
         "customdata": [
          [
           "Date Range: 2023-04-05 to 2023-04-06 <br>Cumulative Progress: 65.96% <br>Level: L3"
          ],
          [
           "Date Range: 2023-04-05 to 2023-04-06<br>Progress in period: 4.58% <br>Cumulative Progress: 70.54% <br>Level: L3"
          ],
          [
           null
          ]
         ],
         "hovertemplate": "%{customdata[0]}",
         "legendgroup": "4.583333333333343",
         "line": {
          "color": "#ff4100",
          "dash": "solid",
          "width": 5
         },
         "marker": {
          "symbol": "circle"
         },
         "mode": "lines",
         "name": "",
         "orientation": "v",
         "showlegend": true,
         "type": "scatter",
         "x": [
          "2023-04-05T00:00:00",
          "2023-04-06T23:00:00",
          null
         ],
         "xaxis": "x",
         "y": [
          2.390199221433478,
          2.400961758644378,
          null
         ],
         "yaxis": "y"
        },
        {
         "customdata": [
          [
           "Date Range: 2023-04-07 to 2023-04-12 <br>Cumulative Progress: 70.54% <br>Level: L3"
          ],
          [
           "Date Range: 2023-04-07 to 2023-04-12<br>Progress in period: 1.83% <br>Cumulative Progress: 72.38% <br>Level: L3"
          ],
          [
           null
          ]
         ],
         "hovertemplate": "%{customdata[0]}",
         "legendgroup": "1.8333333333333286",
         "line": {
          "color": "#ff1a00",
          "dash": "solid",
          "width": 5
         },
         "marker": {
          "symbol": "circle"
         },
         "mode": "lines",
         "name": "",
         "orientation": "v",
         "showlegend": true,
         "type": "scatter",
         "x": [
          "2023-04-07T00:00:00",
          "2023-04-12T23:00:00",
          null
         ],
         "xaxis": "x",
         "y": [
          2.4011907487978017,
          2.433936340737348,
          null
         ],
         "yaxis": "y"
        },
        {
         "customdata": [
          [
           "Date Range: 2023-04-28 to 2023-05-02 <br>Cumulative Progress: 72.5% <br>Level: L3"
          ],
          [
           "Date Range: 2023-04-28 to 2023-05-02<br>Progress in period: 0.04% <br>Cumulative Progress: 72.54% <br>Level: L3"
          ],
          [
           null
          ]
         ],
         "hovertemplate": "%{customdata[0]}",
         "legendgroup": "0.041666666666671404",
         "line": {
          "color": "#ff0100",
          "dash": "solid",
          "width": 5
         },
         "marker": {
          "symbol": "circle"
         },
         "mode": "lines",
         "name": "",
         "orientation": "v",
         "showlegend": true,
         "type": "scatter",
         "x": [
          "2023-04-28T00:00:00",
          "2023-05-02T23:00:00",
          null
         ],
         "xaxis": "x",
         "y": [
          2.516601786123197,
          2.5438516143805816,
          null
         ],
         "yaxis": "y"
        },
        {
         "customdata": [
          [
           "Date Range: 2023-05-14 to 2023-05-18 <br>Cumulative Progress: 72.54% <br>Level: L3"
          ],
          [
           "Date Range: 2023-05-14 to 2023-05-18<br>Progress in period: 1.0% <br>Cumulative Progress: 73.54% <br>Level: L3"
          ],
          [
           null
          ]
         ],
         "hovertemplate": "%{customdata[0]}",
         "legendgroup": "1.0",
         "line": {
          "color": "#ff0e00",
          "dash": "solid",
          "width": 5
         },
         "marker": {
          "symbol": "circle"
         },
         "mode": "lines",
         "name": "",
         "orientation": "v",
         "showlegend": true,
         "type": "scatter",
         "x": [
          "2023-05-14T00:00:00",
          "2023-05-18T23:00:00",
          null
         ],
         "xaxis": "x",
         "y": [
          2.6045340050377837,
          2.6317838332951684,
          null
         ],
         "yaxis": "y"
        },
        {
         "customdata": [
          [
           "Date Range: 2023-06-06 to 2023-06-07 <br>Cumulative Progress: 73.54% <br>Level: L3"
          ],
          [
           "Date Range: 2023-06-06 to 2023-06-07<br>Progress in period: 8.71% <br>Cumulative Progress: 82.25% <br>Level: L3"
          ],
          [
           null
          ]
         ],
         "hovertemplate": "%{customdata[0]}",
         "legendgroup": "8.708333333333329",
         "line": {
          "color": "#ff7b00",
          "dash": "solid",
          "width": 5
         },
         "marker": {
          "symbol": "circle"
         },
         "mode": "lines",
         "name": "",
         "orientation": "v",
         "showlegend": true,
         "type": "scatter",
         "x": [
          "2023-06-06T00:00:00",
          "2023-06-07T23:00:00",
          null
         ],
         "xaxis": "x",
         "y": [
          2.730936569727502,
          2.741699106938402,
          null
         ],
         "yaxis": "y"
        },
        {
         "customdata": [
          [
           "Date Range: 2023-06-10 to 2023-06-15 <br>Cumulative Progress: 82.25% <br>Level: L3"
          ],
          [
           "Date Range: 2023-06-10 to 2023-06-15<br>Progress in period: 0.29% <br>Cumulative Progress: 82.54% <br>Level: L3"
          ],
          [
           null
          ]
         ],
         "hovertemplate": "%{customdata[0]}",
         "legendgroup": "0.2916666666666714",
         "line": {
          "color": "#ff0400",
          "dash": "solid",
          "width": 5
         },
         "marker": {
          "symbol": "circle"
         },
         "mode": "lines",
         "name": "",
         "orientation": "v",
         "showlegend": true,
         "type": "scatter",
         "x": [
          "2023-06-10T00:00:00",
          "2023-06-15T23:00:00",
          null
         ],
         "xaxis": "x",
         "y": [
          2.7529196244561485,
          2.785665216395695,
          null
         ],
         "yaxis": "y"
        },
        {
         "customdata": [
          [
           "Date Range: 2023-06-23 to 2023-06-30 <br>Cumulative Progress: 82.54% <br>Level: L3"
          ],
          [
           "Date Range: 2023-06-23 to 2023-06-30<br>Progress in period: 16.71% <br>Cumulative Progress: 99.25% <br>Level: L3"
          ],
          [
           null
          ]
         ],
         "hovertemplate": "%{customdata[0]}",
         "legendgroup": "16.70833333333333",
         "line": {
          "color": "#e8d700",
          "dash": "solid",
          "width": 5
         },
         "marker": {
          "symbol": "circle"
         },
         "mode": "lines",
         "name": "",
         "orientation": "v",
         "showlegend": true,
         "type": "scatter",
         "x": [
          "2023-06-23T00:00:00",
          "2023-06-30T23:00:00",
          null
         ],
         "xaxis": "x",
         "y": [
          2.82436455232425,
          2.86810167162812,
          null
         ],
         "yaxis": "y"
        },
        {
         "customdata": [
          [
           "Date Range: 2023-07-07 to 2023-07-13 <br>Cumulative Progress: 99.25% <br>Level: L3"
          ],
          [
           "Date Range: 2023-07-07 to 2023-07-13<br>Progress in period: 0.58% <br>Cumulative Progress: 99.83% <br>Level: L3"
          ],
          [
           null
          ]
         ],
         "hovertemplate": "%{customdata[0]}",
         "legendgroup": "0.5833333333333286",
         "line": {
          "color": "#ff0800",
          "dash": "solid",
          "width": 5
         },
         "marker": {
          "symbol": "circle"
         },
         "mode": "lines",
         "name": "",
         "orientation": "v",
         "showlegend": true,
         "type": "scatter",
         "x": [
          "2023-07-07T00:00:00",
          "2023-07-13T23:00:00",
          null
         ],
         "xaxis": "x",
         "y": [
          2.9013052438745133,
          2.9395465994962215,
          null
         ],
         "yaxis": "y"
        },
        {
         "customdata": [
          [
           "Date Range: 2023-07-23 to 2023-07-24 <br>Cumulative Progress: 99.83% <br>Level: L3"
          ],
          [
           "Date Range: 2023-07-23 to 2023-07-24<br>Progress in period: 0.17% <br>Cumulative Progress: 100.0% <br>Level: L3"
          ],
          [
           null
          ]
         ],
         "hovertemplate": "%{customdata[0]}",
         "legendgroup": "0.1666666666666714",
         "line": {
          "color": "#ff0200",
          "dash": "solid",
          "width": 5
         },
         "marker": {
          "symbol": "circle"
         },
         "mode": "lines",
         "name": "",
         "orientation": "v",
         "showlegend": true,
         "type": "scatter",
         "x": [
          "2023-07-23T00:00:00",
          "2023-07-24T23:00:00",
          null
         ],
         "xaxis": "x",
         "y": [
          2.9892374627891,
          3,
          null
         ],
         "yaxis": "y"
        },
        {
         "customdata": [
          [
           "Date Range: 2023-01-28 to 2023-01-30 <br>Cumulative Progress: 0.0% <br>Level: L4"
          ],
          [
           "Date Range: 2023-01-28 to 2023-01-30<br>Progress in period: 3.58% <br>Cumulative Progress: 3.58% <br>Level: L4"
          ],
          [
           null
          ]
         ],
         "hovertemplate": "%{customdata[0]}",
         "legendgroup": "3.5833333333333335",
         "line": {
          "color": "#ff3300",
          "dash": "solid",
          "width": 5
         },
         "marker": {
          "symbol": "circle"
         },
         "mode": "lines",
         "name": "",
         "orientation": "v",
         "showlegend": true,
         "type": "scatter",
         "x": [
          "2023-01-28T00:00:00",
          "2023-01-30T23:00:00",
          null
         ],
         "xaxis": "x",
         "y": [
          3,
          3.015174182517632,
          null
         ],
         "yaxis": "y"
        },
        {
         "customdata": [
          [
           "Date Range: 2023-01-31 to 2023-02-02 <br>Cumulative Progress: 3.58% <br>Level: L4"
          ],
          [
           "Date Range: 2023-01-31 to 2023-02-02<br>Progress in period: 8.17% <br>Cumulative Progress: 11.75% <br>Level: L4"
          ],
          [
           null
          ]
         ],
         "hovertemplate": "%{customdata[0]}",
         "legendgroup": "8.166666666666666",
         "line": {
          "color": "#ff7300",
          "dash": "solid",
          "width": 5
         },
         "marker": {
          "symbol": "circle"
         },
         "mode": "lines",
         "name": "",
         "orientation": "v",
         "showlegend": true,
         "type": "scatter",
         "x": [
          "2023-01-31T00:00:00",
          "2023-02-02T23:00:00",
          null
         ],
         "xaxis": "x",
         "y": [
          3.015387903398162,
          3.030562085915794,
          null
         ],
         "yaxis": "y"
        },
        {
         "customdata": [
          [
           "Date Range: 2023-02-03 to 2023-02-07 <br>Cumulative Progress: 11.75% <br>Level: L4"
          ],
          [
           "Date Range: 2023-02-03 to 2023-02-07<br>Progress in period: 0.25% <br>Cumulative Progress: 12.0% <br>Level: L4"
          ],
          [
           null
          ]
         ],
         "hovertemplate": "%{customdata[0]}",
         "legendgroup": "0.25",
         "line": {
          "color": "#ff0400",
          "dash": "solid",
          "width": 5
         },
         "marker": {
          "symbol": "circle"
         },
         "mode": "lines",
         "name": "",
         "orientation": "v",
         "showlegend": true,
         "type": "scatter",
         "x": [
          "2023-02-03T00:00:00",
          "2023-02-07T23:00:00",
          null
         ],
         "xaxis": "x",
         "y": [
          3.030775806796324,
          3.0562085915793973,
          null
         ],
         "yaxis": "y"
        },
        {
         "customdata": [
          [
           "Date Range: 2023-02-08 to 2023-02-13 <br>Cumulative Progress: 12.0% <br>Level: L4"
          ],
          [
           "Date Range: 2023-02-08 to 2023-02-13<br>Progress in period: 9.92% <br>Cumulative Progress: 21.92% <br>Level: L4"
          ],
          [
           null
          ]
         ],
         "hovertemplate": "%{customdata[0]}",
         "legendgroup": "9.916666666666668",
         "line": {
          "color": "#ff8c00",
          "dash": "solid",
          "width": 5
         },
         "marker": {
          "symbol": "circle"
         },
         "mode": "lines",
         "name": "",
         "orientation": "v",
         "showlegend": true,
         "type": "scatter",
         "x": [
          "2023-02-08T00:00:00",
          "2023-02-13T23:00:00",
          null
         ],
         "xaxis": "x",
         "y": [
          3.0564223124599272,
          3.0869843983757215,
          null
         ],
         "yaxis": "y"
        },
        {
         "customdata": [
          [
           "Date Range: 2023-03-17 to 2023-03-20 <br>Cumulative Progress: 21.92% <br>Level: L4"
          ],
          [
           "Date Range: 2023-03-17 to 2023-03-20<br>Progress in period: 2.38% <br>Cumulative Progress: 24.29% <br>Level: L4"
          ],
          [
           null
          ]
         ],
         "hovertemplate": "%{customdata[0]}",
         "legendgroup": "2.375",
         "line": {
          "color": "#ff2200",
          "dash": "solid",
          "width": 5
         },
         "marker": {
          "symbol": "circle"
         },
         "mode": "lines",
         "name": "",
         "orientation": "v",
         "showlegend": true,
         "type": "scatter",
         "x": [
          "2023-03-17T00:00:00",
          "2023-03-20T23:00:00",
          null
         ],
         "xaxis": "x",
         "y": [
          3.246206454370592,
          3.2665099380209446,
          null
         ],
         "yaxis": "y"
        },
        {
         "customdata": [
          [
           "Date Range: 2023-03-21 to 2023-03-23 <br>Cumulative Progress: 24.29% <br>Level: L4"
          ],
          [
           "Date Range: 2023-03-21 to 2023-03-23<br>Progress in period: 6.21% <br>Cumulative Progress: 30.5% <br>Level: L4"
          ],
          [
           null
          ]
         ],
         "hovertemplate": "%{customdata[0]}",
         "legendgroup": "6.208333333333332",
         "line": {
          "color": "#ff5800",
          "dash": "solid",
          "width": 5
         },
         "marker": {
          "symbol": "circle"
         },
         "mode": "lines",
         "name": "",
         "orientation": "v",
         "showlegend": true,
         "type": "scatter",
         "x": [
          "2023-03-21T00:00:00",
          "2023-03-23T23:00:00",
          null
         ],
         "xaxis": "x",
         "y": [
          3.2667236589014745,
          3.2818978414191067,
          null
         ],
         "yaxis": "y"
        },
        {
         "customdata": [
          [
           "Date Range: 2023-03-31 to 2023-03-31 <br>Cumulative Progress: 30.5% <br>Level: L4"
          ],
          [
           "Date Range: 2023-03-31 to 2023-03-31<br>Progress in period: 25.71% <br>Cumulative Progress: 56.21% <br>Level: L4"
          ],
          [
           null
          ]
         ],
         "hovertemplate": "%{customdata[0]}",
         "legendgroup": "25.708333333333336",
         "line": {
          "color": "#6ee400",
          "dash": "solid",
          "width": 5
         },
         "marker": {
          "symbol": "circle"
         },
         "mode": "lines",
         "name": "",
         "orientation": "v",
         "showlegend": true,
         "type": "scatter",
         "x": [
          "2023-03-31T00:00:00",
          "2023-03-31T23:00:00",
          null
         ],
         "xaxis": "x",
         "y": [
          3.3180166702286815,
          3.322932250480872,
          null
         ],
         "yaxis": "y"
        },
        {
         "customdata": [
          [
           "Date Range: 2023-04-01 to 2023-04-04 <br>Cumulative Progress: 56.21% <br>Level: L4"
          ],
          [
           "Date Range: 2023-04-01 to 2023-04-04<br>Progress in period: 1.62% <br>Cumulative Progress: 57.83% <br>Level: L4"
          ],
          [
           null
          ]
         ],
         "hovertemplate": "%{customdata[0]}",
         "legendgroup": "1.625",
         "line": {
          "color": "#ff1700",
          "dash": "solid",
          "width": 5
         },
         "marker": {
          "symbol": "circle"
         },
         "mode": "lines",
         "name": "",
         "orientation": "v",
         "showlegend": true,
         "type": "scatter",
         "x": [
          "2023-04-01T00:00:00",
          "2023-04-04T23:00:00",
          null
         ],
         "xaxis": "x",
         "y": [
          3.323145971361402,
          3.3434494550117546,
          null
         ],
         "yaxis": "y"
        },
        {
         "customdata": [
          [
           "Date Range: 2023-04-05 to 2023-04-06 <br>Cumulative Progress: 57.83% <br>Level: L4"
          ],
          [
           "Date Range: 2023-04-05 to 2023-04-06<br>Progress in period: 6.29% <br>Cumulative Progress: 64.12% <br>Level: L4"
          ],
          [
           null
          ]
         ],
         "hovertemplate": "%{customdata[0]}",
         "legendgroup": "6.291666666666664",
         "line": {
          "color": "#ff5900",
          "dash": "solid",
          "width": 5
         },
         "marker": {
          "symbol": "circle"
         },
         "mode": "lines",
         "name": "",
         "orientation": "v",
         "showlegend": true,
         "type": "scatter",
         "x": [
          "2023-04-05T00:00:00",
          "2023-04-06T23:00:00",
          null
         ],
         "xaxis": "x",
         "y": [
          3.3436631758922846,
          3.353708057277196,
          null
         ],
         "yaxis": "y"
        },
        {
         "customdata": [
          [
           "Date Range: 2023-04-07 to 2023-04-12 <br>Cumulative Progress: 64.12% <br>Level: L4"
          ],
          [
           "Date Range: 2023-04-07 to 2023-04-12<br>Progress in period: 4.54% <br>Cumulative Progress: 68.67% <br>Level: L4"
          ],
          [
           null
          ]
         ],
         "hovertemplate": "%{customdata[0]}",
         "legendgroup": "4.541666666666671",
         "line": {
          "color": "#ff4000",
          "dash": "solid",
          "width": 5
         },
         "marker": {
          "symbol": "circle"
         },
         "mode": "lines",
         "name": "",
         "orientation": "v",
         "showlegend": true,
         "type": "scatter",
         "x": [
          "2023-04-07T00:00:00",
          "2023-04-12T23:00:00",
          null
         ],
         "xaxis": "x",
         "y": [
          3.353921778157726,
          3.3844838640735198,
          null
         ],
         "yaxis": "y"
        },
        {
         "customdata": [
          [
           "Date Range: 2023-04-13 to 2023-04-15 <br>Cumulative Progress: 68.67% <br>Level: L4"
          ],
          [
           "Date Range: 2023-04-13 to 2023-04-15<br>Progress in period: 2.42% <br>Cumulative Progress: 71.08% <br>Level: L4"
          ],
          [
           null
          ]
         ],
         "hovertemplate": "%{customdata[0]}",
         "legendgroup": "2.416666666666657",
         "line": {
          "color": "#ff2200",
          "dash": "solid",
          "width": 5
         },
         "marker": {
          "symbol": "circle"
         },
         "mode": "lines",
         "name": "",
         "orientation": "v",
         "showlegend": true,
         "type": "scatter",
         "x": [
          "2023-04-13T00:00:00",
          "2023-04-15T23:00:00",
          null
         ],
         "xaxis": "x",
         "y": [
          3.38469758495405,
          3.399871767471682,
          null
         ],
         "yaxis": "y"
        },
        {
         "customdata": [
          [
           "Date Range: 2023-04-16 to 2023-04-18 <br>Cumulative Progress: 71.08% <br>Level: L4"
          ],
          [
           "Date Range: 2023-04-16 to 2023-04-18<br>Progress in period: 0.83% <br>Cumulative Progress: 71.92% <br>Level: L4"
          ],
          [
           null
          ]
         ],
         "hovertemplate": "%{customdata[0]}",
         "legendgroup": "0.8333333333333428",
         "line": {
          "color": "#ff0c00",
          "dash": "solid",
          "width": 5
         },
         "marker": {
          "symbol": "circle"
         },
         "mode": "lines",
         "name": "",
         "orientation": "v",
         "showlegend": true,
         "type": "scatter",
         "x": [
          "2023-04-16T00:00:00",
          "2023-04-18T23:00:00",
          null
         ],
         "xaxis": "x",
         "y": [
          3.400085488352212,
          3.415259670869844,
          null
         ],
         "yaxis": "y"
        },
        {
         "customdata": [
          [
           "Date Range: 2023-04-26 to 2023-04-27 <br>Cumulative Progress: 71.92% <br>Level: L4"
          ],
          [
           "Date Range: 2023-04-26 to 2023-04-27<br>Progress in period: 0.21% <br>Cumulative Progress: 72.12% <br>Level: L4"
          ],
          [
           null
          ]
         ],
         "hovertemplate": "%{customdata[0]}",
         "legendgroup": "0.2083333333333286",
         "line": {
          "color": "#ff0300",
          "dash": "solid",
          "width": 5
         },
         "marker": {
          "symbol": "circle"
         },
         "mode": "lines",
         "name": "",
         "orientation": "v",
         "showlegend": true,
         "type": "scatter",
         "x": [
          "2023-04-26T00:00:00",
          "2023-04-27T23:00:00",
          null
         ],
         "xaxis": "x",
         "y": [
          3.451378499679419,
          3.4614233810643302,
          null
         ],
         "yaxis": "y"
        },
        {
         "customdata": [
          [
           "Date Range: 2023-04-28 to 2023-05-02 <br>Cumulative Progress: 72.12% <br>Level: L4"
          ],
          [
           "Date Range: 2023-04-28 to 2023-05-02<br>Progress in period: 0.5% <br>Cumulative Progress: 72.62% <br>Level: L4"
          ],
          [
           null
          ]
         ],
         "hovertemplate": "%{customdata[0]}",
         "legendgroup": "0.5",
         "line": {
          "color": "#ff0700",
          "dash": "solid",
          "width": 5
         },
         "marker": {
          "symbol": "circle"
         },
         "mode": "lines",
         "name": "",
         "orientation": "v",
         "showlegend": true,
         "type": "scatter",
         "x": [
          "2023-04-28T00:00:00",
          "2023-05-02T23:00:00",
          null
         ],
         "xaxis": "x",
         "y": [
          3.46163710194486,
          3.4870698867279333,
          null
         ],
         "yaxis": "y"
        },
        {
         "customdata": [
          [
           "Date Range: 2023-05-14 to 2023-05-18 <br>Cumulative Progress: 72.62% <br>Level: L4"
          ],
          [
           "Date Range: 2023-05-14 to 2023-05-18<br>Progress in period: 0.12% <br>Cumulative Progress: 72.75% <br>Level: L4"
          ],
          [
           null
          ],
          [
           "Date Range: 2023-07-29 to 2023-08-03 <br>Cumulative Progress: 99.79% <br>Level: L4"
          ],
          [
           "Date Range: 2023-07-29 to 2023-08-03<br>Progress in period: 0.12% <br>Cumulative Progress: 99.92% <br>Level: L4"
          ],
          [
           null
          ]
         ],
         "hovertemplate": "%{customdata[0]}",
         "legendgroup": "0.125",
         "line": {
          "color": "#ff0200",
          "dash": "solid",
          "width": 5
         },
         "marker": {
          "symbol": "circle"
         },
         "mode": "lines",
         "name": "",
         "orientation": "v",
         "showlegend": true,
         "type": "scatter",
         "x": [
          "2023-05-14T00:00:00",
          "2023-05-18T23:00:00",
          null,
          "2023-07-29T00:00:00",
          "2023-08-03T23:00:00",
          null
         ],
         "xaxis": "x",
         "y": [
          3.5437059200683905,
          3.569138704851464,
          null,
          3.9335328061551613,
          3.964094892070955,
          null
         ],
         "yaxis": "y"
        },
        {
         "customdata": [
          [
           "Date Range: 2023-06-23 to 2023-06-30 <br>Cumulative Progress: 72.75% <br>Level: L4"
          ],
          [
           "Date Range: 2023-06-23 to 2023-06-30<br>Progress in period: 9.38% <br>Cumulative Progress: 82.12% <br>Level: L4"
          ],
          [
           null
          ]
         ],
         "hovertemplate": "%{customdata[0]}",
         "legendgroup": "9.375",
         "line": {
          "color": "#ff8400",
          "dash": "solid",
          "width": 5
         },
         "marker": {
          "symbol": "circle"
         },
         "mode": "lines",
         "name": "",
         "orientation": "v",
         "showlegend": true,
         "type": "scatter",
         "x": [
          "2023-06-23T00:00:00",
          "2023-06-30T23:00:00",
          null
         ],
         "xaxis": "x",
         "y": [
          3.7488779653772175,
          3.7896986535584527,
          null
         ],
         "yaxis": "y"
        },
        {
         "customdata": [
          [
           "Date Range: 2023-07-01 to 2023-07-06 <br>Cumulative Progress: 82.12% <br>Level: L4"
          ],
          [
           "Date Range: 2023-07-01 to 2023-07-06<br>Progress in period: 1.96% <br>Cumulative Progress: 84.08% <br>Level: L4"
          ],
          [
           null
          ]
         ],
         "hovertemplate": "%{customdata[0]}",
         "legendgroup": "1.9583333333333286",
         "line": {
          "color": "#ff1c00",
          "dash": "solid",
          "width": 5
         },
         "marker": {
          "symbol": "circle"
         },
         "mode": "lines",
         "name": "",
         "orientation": "v",
         "showlegend": true,
         "type": "scatter",
         "x": [
          "2023-07-01T00:00:00",
          "2023-07-06T23:00:00",
          null
         ],
         "xaxis": "x",
         "y": [
          3.7899123744389827,
          3.8204744603547764,
          null
         ],
         "yaxis": "y"
        },
        {
         "customdata": [
          [
           "Date Range: 2023-07-07 to 2023-07-13 <br>Cumulative Progress: 84.08% <br>Level: L4"
          ],
          [
           "Date Range: 2023-07-07 to 2023-07-13<br>Progress in period: 15.71% <br>Cumulative Progress: 99.79% <br>Level: L4"
          ],
          [
           null
          ]
         ],
         "hovertemplate": "%{customdata[0]}",
         "legendgroup": "15.708333333333343",
         "line": {
          "color": "#f5d500",
          "dash": "solid",
          "width": 5
         },
         "marker": {
          "symbol": "circle"
         },
         "mode": "lines",
         "name": "",
         "orientation": "v",
         "showlegend": true,
         "type": "scatter",
         "x": [
          "2023-07-07T00:00:00",
          "2023-07-13T23:00:00",
          null
         ],
         "xaxis": "x",
         "y": [
          3.820688181235307,
          3.8563795682838213,
          null
         ],
         "yaxis": "y"
        },
        {
         "customdata": [
          [
           "Date Range: 2023-08-04 to 2023-08-10 <br>Cumulative Progress: 99.92% <br>Level: L4"
          ],
          [
           "Date Range: 2023-08-04 to 2023-08-10<br>Progress in period: 0.08% <br>Cumulative Progress: 100.0% <br>Level: L4"
          ],
          [
           null
          ]
         ],
         "hovertemplate": "%{customdata[0]}",
         "legendgroup": "0.0833333333333286",
         "line": {
          "color": "#ff0100",
          "dash": "solid",
          "width": 5
         },
         "marker": {
          "symbol": "circle"
         },
         "mode": "lines",
         "name": "",
         "orientation": "v",
         "showlegend": true,
         "type": "scatter",
         "x": [
          "2023-08-04T00:00:00",
          "2023-08-10T23:00:00",
          null
         ],
         "xaxis": "x",
         "y": [
          3.9643086129514855,
          4,
          null
         ],
         "yaxis": "y"
        },
        {
         "customdata": [
          [
           "Date Range: 2023-01-31 to 2023-02-02 <br>Cumulative Progress: 0.0% <br>Level: L5"
          ],
          [
           "Date Range: 2023-01-31 to 2023-02-02<br>Progress in period: 3.21% <br>Cumulative Progress: 3.21% <br>Level: L5"
          ],
          [
           null
          ]
         ],
         "hovertemplate": "%{customdata[0]}",
         "legendgroup": "3.2083333333333335",
         "line": {
          "color": "#ff2d00",
          "dash": "solid",
          "width": 5
         },
         "marker": {
          "symbol": "circle"
         },
         "mode": "lines",
         "name": "",
         "orientation": "v",
         "showlegend": true,
         "type": "scatter",
         "x": [
          "2023-01-31T00:00:00",
          "2023-02-02T23:00:00",
          null
         ],
         "xaxis": "x",
         "y": [
          4,
          4.014869109947644,
          null
         ],
         "yaxis": "y"
        },
        {
         "customdata": [
          [
           "Date Range: 2023-02-03 to 2023-02-07 <br>Cumulative Progress: 3.21% <br>Level: L5"
          ],
          [
           "Date Range: 2023-02-03 to 2023-02-07<br>Progress in period: 1.62% <br>Cumulative Progress: 4.83% <br>Level: L5"
          ],
          [
           null
          ]
         ],
         "hovertemplate": "%{customdata[0]}",
         "legendgroup": "1.6249999999999996",
         "line": {
          "color": "#ff1700",
          "dash": "solid",
          "width": 5
         },
         "marker": {
          "symbol": "circle"
         },
         "mode": "lines",
         "name": "",
         "orientation": "v",
         "showlegend": true,
         "type": "scatter",
         "x": [
          "2023-02-03T00:00:00",
          "2023-02-07T23:00:00",
          null
         ],
         "xaxis": "x",
         "y": [
          4.015078534031414,
          4.04,
          null
         ],
         "yaxis": "y"
        },
        {
         "customdata": [
          [
           "Date Range: 2023-02-08 to 2023-02-13 <br>Cumulative Progress: 4.83% <br>Level: L5"
          ],
          [
           "Date Range: 2023-02-08 to 2023-02-13<br>Progress in period: 15.83% <br>Cumulative Progress: 20.67% <br>Level: L5"
          ],
          [
           null
          ]
         ],
         "hovertemplate": "%{customdata[0]}",
         "legendgroup": "15.833333333333336",
         "line": {
          "color": "#f4d500",
          "dash": "solid",
          "width": 5
         },
         "marker": {
          "symbol": "circle"
         },
         "mode": "lines",
         "name": "",
         "orientation": "v",
         "showlegend": true,
         "type": "scatter",
         "x": [
          "2023-02-08T00:00:00",
          "2023-02-13T23:00:00",
          null
         ],
         "xaxis": "x",
         "y": [
          4.04020942408377,
          4.070157068062827,
          null
         ],
         "yaxis": "y"
        },
        {
         "customdata": [
          [
           "Date Range: 2023-02-14 to 2023-02-21 <br>Cumulative Progress: 20.67% <br>Level: L5"
          ],
          [
           "Date Range: 2023-02-14 to 2023-02-21<br>Progress in period: 2.04% <br>Cumulative Progress: 22.71% <br>Level: L5"
          ],
          [
           null
          ]
         ],
         "hovertemplate": "%{customdata[0]}",
         "legendgroup": "2.0416666666666643",
         "line": {
          "color": "#ff1d00",
          "dash": "solid",
          "width": 5
         },
         "marker": {
          "symbol": "circle"
         },
         "mode": "lines",
         "name": "",
         "orientation": "v",
         "showlegend": true,
         "type": "scatter",
         "x": [
          "2023-02-14T00:00:00",
          "2023-02-21T23:00:00",
          null
         ],
         "xaxis": "x",
         "y": [
          4.070366492146597,
          4.110366492146597,
          null
         ],
         "yaxis": "y"
        },
        {
         "customdata": [
          [
           "Date Range: 2023-02-25 to 2023-02-27 <br>Cumulative Progress: 22.71% <br>Level: L5"
          ],
          [
           "Date Range: 2023-02-25 to 2023-02-27<br>Progress in period: 0.33% <br>Cumulative Progress: 23.04% <br>Level: L5"
          ],
          [
           null
          ]
         ],
         "hovertemplate": "%{customdata[0]}",
         "legendgroup": "0.3333333333333357",
         "line": {
          "color": "#ff0500",
          "dash": "solid",
          "width": 5
         },
         "marker": {
          "symbol": "circle"
         },
         "mode": "lines",
         "name": "",
         "orientation": "v",
         "showlegend": true,
         "type": "scatter",
         "x": [
          "2023-02-25T00:00:00",
          "2023-02-27T23:00:00",
          null
         ],
         "xaxis": "x",
         "y": [
          4.12565445026178,
          4.140523560209424,
          null
         ],
         "yaxis": "y"
        },
        {
         "customdata": [
          [
           "Date Range: 2023-03-08 to 2023-03-09 <br>Cumulative Progress: 23.04% <br>Level: L5"
          ],
          [
           "Date Range: 2023-03-08 to 2023-03-09<br>Progress in period: 0.46% <br>Cumulative Progress: 23.5% <br>Level: L5"
          ],
          [
           null
          ]
         ],
         "hovertemplate": "%{customdata[0]}",
         "legendgroup": "0.45833333333333215",
         "line": {
          "color": "#ff0600",
          "dash": "solid",
          "width": 5
         },
         "marker": {
          "symbol": "circle"
         },
         "mode": "lines",
         "name": "",
         "orientation": "v",
         "showlegend": true,
         "type": "scatter",
         "x": [
          "2023-03-08T00:00:00",
          "2023-03-09T23:00:00",
          null
         ],
         "xaxis": "x",
         "y": [
          4.180942408376963,
          4.190785340314136,
          null
         ],
         "yaxis": "y"
        },
        {
         "customdata": [
          [
           "Date Range: 2023-03-10 to 2023-03-14 <br>Cumulative Progress: 23.5% <br>Level: L5"
          ],
          [
           "Date Range: 2023-03-10 to 2023-03-14<br>Progress in period: 0.04% <br>Cumulative Progress: 23.54% <br>Level: L5"
          ],
          [
           null
          ]
         ],
         "hovertemplate": "%{customdata[0]}",
         "legendgroup": "0.04166666666666785",
         "line": {
          "color": "#ff0100",
          "dash": "solid",
          "width": 5
         },
         "marker": {
          "symbol": "circle"
         },
         "mode": "lines",
         "name": "",
         "orientation": "v",
         "showlegend": true,
         "type": "scatter",
         "x": [
          "2023-03-10T00:00:00",
          "2023-03-14T23:00:00",
          null
         ],
         "xaxis": "x",
         "y": [
          4.190994764397906,
          4.215916230366492,
          null
         ],
         "yaxis": "y"
        },
        {
         "customdata": [
          [
           "Date Range: 2023-03-31 to 2023-03-31 <br>Cumulative Progress: 23.54% <br>Level: L5"
          ],
          [
           "Date Range: 2023-03-31 to 2023-03-31<br>Progress in period: 5.5% <br>Cumulative Progress: 29.04% <br>Level: L5"
          ],
          [
           null
          ]
         ],
         "hovertemplate": "%{customdata[0]}",
         "legendgroup": "5.5",
         "line": {
          "color": "#ff4e00",
          "dash": "solid",
          "width": 5
         },
         "marker": {
          "symbol": "circle"
         },
         "mode": "lines",
         "name": "",
         "orientation": "v",
         "showlegend": true,
         "type": "scatter",
         "x": [
          "2023-03-31T00:00:00",
          "2023-03-31T23:00:00",
          null
         ],
         "xaxis": "x",
         "y": [
          4.296544502617801,
          4.301361256544503,
          null
         ],
         "yaxis": "y"
        },
        {
         "customdata": [
          [
           "Date Range: 2023-04-01 to 2023-04-04 <br>Cumulative Progress: 29.04% <br>Level: L5"
          ],
          [
           "Date Range: 2023-04-01 to 2023-04-04<br>Progress in period: 19.5% <br>Cumulative Progress: 48.54% <br>Level: L5"
          ],
          [
           null
          ]
         ],
         "hovertemplate": "%{customdata[0]}",
         "legendgroup": "19.499999999999996",
         "line": {
          "color": "#c2db00",
          "dash": "solid",
          "width": 5
         },
         "marker": {
          "symbol": "circle"
         },
         "mode": "lines",
         "name": "",
         "orientation": "v",
         "showlegend": true,
         "type": "scatter",
         "x": [
          "2023-04-01T00:00:00",
          "2023-04-04T23:00:00",
          null
         ],
         "xaxis": "x",
         "y": [
          4.301570680628272,
          4.321465968586388,
          null
         ],
         "yaxis": "y"
        },
        {
         "customdata": [
          [
           "Date Range: 2023-04-05 to 2023-04-06 <br>Cumulative Progress: 48.54% <br>Level: L5"
          ],
          [
           "Date Range: 2023-04-05 to 2023-04-06<br>Progress in period: 7.62% <br>Cumulative Progress: 56.17% <br>Level: L5"
          ],
          [
           null
          ]
         ],
         "hovertemplate": "%{customdata[0]}",
         "legendgroup": "7.625",
         "line": {
          "color": "#ff6c00",
          "dash": "solid",
          "width": 5
         },
         "marker": {
          "symbol": "circle"
         },
         "mode": "lines",
         "name": "",
         "orientation": "v",
         "showlegend": true,
         "type": "scatter",
         "x": [
          "2023-04-05T00:00:00",
          "2023-04-06T23:00:00",
          null
         ],
         "xaxis": "x",
         "y": [
          4.321675392670157,
          4.331518324607329,
          null
         ],
         "yaxis": "y"
        },
        {
         "customdata": [
          [
           "Date Range: 2023-04-07 to 2023-04-12 <br>Cumulative Progress: 56.17% <br>Level: L5"
          ],
          [
           "Date Range: 2023-04-07 to 2023-04-12<br>Progress in period: 6.38% <br>Cumulative Progress: 62.54% <br>Level: L5"
          ],
          [
           null
          ]
         ],
         "hovertemplate": "%{customdata[0]}",
         "legendgroup": "6.375",
         "line": {
          "color": "#ff5a00",
          "dash": "solid",
          "width": 5
         },
         "marker": {
          "symbol": "circle"
         },
         "mode": "lines",
         "name": "",
         "orientation": "v",
         "showlegend": true,
         "type": "scatter",
         "x": [
          "2023-04-07T00:00:00",
          "2023-04-12T23:00:00",
          null
         ],
         "xaxis": "x",
         "y": [
          4.331727748691099,
          4.361675392670157,
          null
         ],
         "yaxis": "y"
        },
        {
         "customdata": [
          [
           "Date Range: 2023-04-13 to 2023-04-15 <br>Cumulative Progress: 62.54% <br>Level: L5"
          ],
          [
           "Date Range: 2023-04-13 to 2023-04-15<br>Progress in period: 0.58% <br>Cumulative Progress: 63.12% <br>Level: L5"
          ],
          [
           null
          ]
         ],
         "hovertemplate": "%{customdata[0]}",
         "legendgroup": "0.5833333333333357",
         "line": {
          "color": "#ff0800",
          "dash": "solid",
          "width": 5
         },
         "marker": {
          "symbol": "circle"
         },
         "mode": "lines",
         "name": "",
         "orientation": "v",
         "showlegend": true,
         "type": "scatter",
         "x": [
          "2023-04-13T00:00:00",
          "2023-04-15T23:00:00",
          null
         ],
         "xaxis": "x",
         "y": [
          4.361884816753927,
          4.3767539267015705,
          null
         ],
         "yaxis": "y"
        },
        {
         "customdata": [
          [
           "Date Range: 2023-04-16 to 2023-04-18 <br>Cumulative Progress: 63.12% <br>Level: L5"
          ],
          [
           "Date Range: 2023-04-16 to 2023-04-18<br>Progress in period: 3.08% <br>Cumulative Progress: 66.21% <br>Level: L5"
          ],
          [
           null
          ]
         ],
         "hovertemplate": "%{customdata[0]}",
         "legendgroup": "3.0833333333333286",
         "line": {
          "color": "#ff2c00",
          "dash": "solid",
          "width": 5
         },
         "marker": {
          "symbol": "circle"
         },
         "mode": "lines",
         "name": "",
         "orientation": "v",
         "showlegend": true,
         "type": "scatter",
         "x": [
          "2023-04-16T00:00:00",
          "2023-04-18T23:00:00",
          null
         ],
         "xaxis": "x",
         "y": [
          4.37696335078534,
          4.391832460732984,
          null
         ],
         "yaxis": "y"
        },
        {
         "customdata": [
          [
           "Date Range: 2023-04-19 to 2023-04-21 <br>Cumulative Progress: 66.21% <br>Level: L5"
          ],
          [
           "Date Range: 2023-04-19 to 2023-04-21<br>Progress in period: 5.38% <br>Cumulative Progress: 71.58% <br>Level: L5"
          ],
          [
           null
          ]
         ],
         "hovertemplate": "%{customdata[0]}",
         "legendgroup": "5.375",
         "line": {
          "color": "#ff4c00",
          "dash": "solid",
          "width": 5
         },
         "marker": {
          "symbol": "circle"
         },
         "mode": "lines",
         "name": "",
         "orientation": "v",
         "showlegend": true,
         "type": "scatter",
         "x": [
          "2023-04-19T00:00:00",
          "2023-04-21T23:00:00",
          null
         ],
         "xaxis": "x",
         "y": [
          4.392041884816754,
          4.406910994764398,
          null
         ],
         "yaxis": "y"
        },
        {
         "customdata": [
          [
           "Date Range: 2023-04-22 to 2023-04-25 <br>Cumulative Progress: 71.58% <br>Level: L5"
          ],
          [
           "Date Range: 2023-04-22 to 2023-04-25<br>Progress in period: 0.67% <br>Cumulative Progress: 72.25% <br>Level: L5"
          ],
          [
           null
          ]
         ],
         "hovertemplate": "%{customdata[0]}",
         "legendgroup": "0.6666666666666714",
         "line": {
          "color": "#ff0900",
          "dash": "solid",
          "width": 5
         },
         "marker": {
          "symbol": "circle"
         },
         "mode": "lines",
         "name": "",
         "orientation": "v",
         "showlegend": true,
         "type": "scatter",
         "x": [
          "2023-04-22T00:00:00",
          "2023-04-25T23:00:00",
          null
         ],
         "xaxis": "x",
         "y": [
          4.407120418848168,
          4.427015706806283,
          null
         ],
         "yaxis": "y"
        },
        {
         "customdata": [
          [
           "Date Range: 2023-04-26 to 2023-04-27 <br>Cumulative Progress: 72.25% <br>Level: L5"
          ],
          [
           "Date Range: 2023-04-26 to 2023-04-27<br>Progress in period: 0.08% <br>Cumulative Progress: 72.33% <br>Level: L5"
          ],
          [
           null
          ]
         ],
         "hovertemplate": "%{customdata[0]}",
         "legendgroup": "0.0833333333333286",
         "line": {
          "color": "#ff0100",
          "dash": "solid",
          "width": 5
         },
         "marker": {
          "symbol": "circle"
         },
         "mode": "lines",
         "name": "",
         "orientation": "v",
         "showlegend": true,
         "type": "scatter",
         "x": [
          "2023-04-26T00:00:00",
          "2023-04-27T23:00:00",
          null
         ],
         "xaxis": "x",
         "y": [
          4.4272251308900525,
          4.437068062827225,
          null
         ],
         "yaxis": "y"
        },
        {
         "customdata": [
          [
           "Date Range: 2023-06-06 to 2023-06-07 <br>Cumulative Progress: 72.33% <br>Level: L5"
          ],
          [
           "Date Range: 2023-06-06 to 2023-06-07<br>Progress in period: 0.29% <br>Cumulative Progress: 72.62% <br>Level: L5"
          ],
          [
           null
          ]
         ],
         "hovertemplate": "%{customdata[0]}",
         "legendgroup": "0.2916666666666714",
         "line": {
          "color": "#ff0400",
          "dash": "solid",
          "width": 5
         },
         "marker": {
          "symbol": "circle"
         },
         "mode": "lines",
         "name": "",
         "orientation": "v",
         "showlegend": true,
         "type": "scatter",
         "x": [
          "2023-06-06T00:00:00",
          "2023-06-07T23:00:00",
          null
         ],
         "xaxis": "x",
         "y": [
          4.633298429319372,
          4.643141361256545,
          null
         ],
         "yaxis": "y"
        },
        {
         "customdata": [
          [
           "Date Range: 2023-06-23 to 2023-06-30 <br>Cumulative Progress: 72.62% <br>Level: L5"
          ],
          [
           "Date Range: 2023-06-23 to 2023-06-30<br>Progress in period: 1.12% <br>Cumulative Progress: 73.75% <br>Level: L5"
          ],
          [
           null
          ]
         ],
         "hovertemplate": "%{customdata[0]}",
         "legendgroup": "1.125",
         "line": {
          "color": "#ff1000",
          "dash": "solid",
          "width": 5
         },
         "marker": {
          "symbol": "circle"
         },
         "mode": "lines",
         "name": "",
         "orientation": "v",
         "showlegend": true,
         "type": "scatter",
         "x": [
          "2023-06-23T00:00:00",
          "2023-06-30T23:00:00",
          null
         ],
         "xaxis": "x",
         "y": [
          4.718743455497382,
          4.758743455497382,
          null
         ],
         "yaxis": "y"
        },
        {
         "customdata": [
          [
           "Date Range: 2023-07-01 to 2023-07-06 <br>Cumulative Progress: 73.75% <br>Level: L5"
          ],
          [
           "Date Range: 2023-07-01 to 2023-07-06<br>Progress in period: 0.21% <br>Cumulative Progress: 73.96% <br>Level: L5"
          ],
          [
           null
          ]
         ],
         "hovertemplate": "%{customdata[0]}",
         "legendgroup": "0.2083333333333286",
         "line": {
          "color": "#ff0300",
          "dash": "solid",
          "width": 5
         },
         "marker": {
          "symbol": "circle"
         },
         "mode": "lines",
         "name": "",
         "orientation": "v",
         "showlegend": true,
         "type": "scatter",
         "x": [
          "2023-07-01T00:00:00",
          "2023-07-06T23:00:00",
          null
         ],
         "xaxis": "x",
         "y": [
          4.758952879581152,
          4.788900523560209,
          null
         ],
         "yaxis": "y"
        },
        {
         "customdata": [
          [
           "Date Range: 2023-07-07 to 2023-07-13 <br>Cumulative Progress: 73.96% <br>Level: L5"
          ],
          [
           "Date Range: 2023-07-07 to 2023-07-13<br>Progress in period: 0.58% <br>Cumulative Progress: 74.54% <br>Level: L5"
          ],
          [
           null
          ]
         ],
         "hovertemplate": "%{customdata[0]}",
         "legendgroup": "0.5833333333333428",
         "line": {
          "color": "#ff0800",
          "dash": "solid",
          "width": 5
         },
         "marker": {
          "symbol": "circle"
         },
         "mode": "lines",
         "name": "",
         "orientation": "v",
         "showlegend": true,
         "type": "scatter",
         "x": [
          "2023-07-07T00:00:00",
          "2023-07-13T23:00:00",
          null
         ],
         "xaxis": "x",
         "y": [
          4.789109947643979,
          4.824083769633508,
          null
         ],
         "yaxis": "y"
        },
        {
         "customdata": [
          [
           "Date Range: 2023-07-23 to 2023-07-24 <br>Cumulative Progress: 74.54% <br>Level: L5"
          ],
          [
           "Date Range: 2023-07-23 to 2023-07-24<br>Progress in period: 25.25% <br>Cumulative Progress: 99.79% <br>Level: L5"
          ],
          [
           null
          ]
         ],
         "hovertemplate": "%{customdata[0]}",
         "legendgroup": "25.25",
         "line": {
          "color": "#74e400",
          "dash": "solid",
          "width": 5
         },
         "marker": {
          "symbol": "circle"
         },
         "mode": "lines",
         "name": "",
         "orientation": "v",
         "showlegend": true,
         "type": "scatter",
         "x": [
          "2023-07-23T00:00:00",
          "2023-07-24T23:00:00",
          null
         ],
         "xaxis": "x",
         "y": [
          4.869528795811519,
          4.879371727748691,
          null
         ],
         "yaxis": "y"
        },
        {
         "customdata": [
          [
           "Date Range: 2023-07-29 to 2023-08-03 <br>Cumulative Progress: 99.79% <br>Level: L5"
          ],
          [
           "Date Range: 2023-07-29 to 2023-08-03<br>Progress in period: 0.17% <br>Cumulative Progress: 99.96% <br>Level: L5"
          ],
          [
           null
          ]
         ],
         "hovertemplate": "%{customdata[0]}",
         "legendgroup": "0.1666666666666572",
         "line": {
          "color": "#ff0200",
          "dash": "solid",
          "width": 5
         },
         "marker": {
          "symbol": "circle"
         },
         "mode": "lines",
         "name": "",
         "orientation": "v",
         "showlegend": true,
         "type": "scatter",
         "x": [
          "2023-07-29T00:00:00",
          "2023-08-03T23:00:00",
          null
         ],
         "xaxis": "x",
         "y": [
          4.899685863874345,
          4.929633507853403,
          null
         ],
         "yaxis": "y"
        },
        {
         "customdata": [
          [
           "Date Range: 2023-08-11 to 2023-08-17 <br>Cumulative Progress: 99.96% <br>Level: L5"
          ],
          [
           "Date Range: 2023-08-11 to 2023-08-17<br>Progress in period: 0.04% <br>Cumulative Progress: 100.0% <br>Level: L5"
          ],
          [
           null
          ]
         ],
         "hovertemplate": "%{customdata[0]}",
         "legendgroup": "0.041666666666671404",
         "line": {
          "color": "#ff0100",
          "dash": "solid",
          "width": 5
         },
         "marker": {
          "symbol": "circle"
         },
         "mode": "lines",
         "name": "",
         "orientation": "v",
         "showlegend": true,
         "type": "scatter",
         "x": [
          "2023-08-11T00:00:00",
          "2023-08-17T23:00:00",
          null
         ],
         "xaxis": "x",
         "y": [
          4.965026178010471,
          5,
          null
         ],
         "yaxis": "y"
        },
        {
         "customdata": [
          [
           "Date Range: 2023-02-14 to 2023-02-21 <br>Cumulative Progress: 0.0% <br>Level: L6"
          ],
          [
           "Date Range: 2023-02-14 to 2023-02-21<br>Progress in period: 8.0% <br>Cumulative Progress: 8.0% <br>Level: L6"
          ],
          [
           null
          ]
         ],
         "hovertemplate": "%{customdata[0]}",
         "legendgroup": "8.0",
         "line": {
          "color": "#ff7100",
          "dash": "solid",
          "width": 5
         },
         "marker": {
          "symbol": "circle"
         },
         "mode": "lines",
         "name": "",
         "orientation": "v",
         "showlegend": true,
         "type": "scatter",
         "x": [
          "2023-02-14T00:00:00",
          "2023-02-21T23:00:00",
          null
         ],
         "xaxis": "x",
         "y": [
          5,
          5.049443437742687,
          null
         ],
         "yaxis": "y"
        },
        {
         "customdata": [
          [
           "Date Range: 2023-02-22 to 2023-02-24 <br>Cumulative Progress: 8.0% <br>Level: L6"
          ],
          [
           "Date Range: 2023-02-22 to 2023-02-24<br>Progress in period: 14.0% <br>Cumulative Progress: 22.0% <br>Level: L6"
          ],
          [
           null
          ]
         ],
         "hovertemplate": "%{customdata[0]}",
         "legendgroup": "14.0",
         "line": {
          "color": "#ffc600",
          "dash": "solid",
          "width": 5
         },
         "marker": {
          "symbol": "circle"
         },
         "mode": "lines",
         "name": "",
         "orientation": "v",
         "showlegend": true,
         "type": "scatter",
         "x": [
          "2023-02-22T00:00:00",
          "2023-02-24T23:00:00",
          null
         ],
         "xaxis": "x",
         "y": [
          5.049702303908879,
          5.068081801708517,
          null
         ],
         "yaxis": "y"
        },
        {
         "customdata": [
          [
           "Date Range: 2023-02-25 to 2023-02-27 <br>Cumulative Progress: 22.0% <br>Level: L6"
          ],
          [
           "Date Range: 2023-02-25 to 2023-02-27<br>Progress in period: 0.79% <br>Cumulative Progress: 22.79% <br>Level: L6"
          ],
          [
           null
          ]
         ],
         "hovertemplate": "%{customdata[0]}",
         "legendgroup": "0.7916666666666679",
         "line": {
          "color": "#ff0b00",
          "dash": "solid",
          "width": 5
         },
         "marker": {
          "symbol": "circle"
         },
         "mode": "lines",
         "name": "",
         "orientation": "v",
         "showlegend": true,
         "type": "scatter",
         "x": [
          "2023-02-25T00:00:00",
          "2023-02-27T23:00:00",
          null
         ],
         "xaxis": "x",
         "y": [
          5.0683406678747085,
          5.086720165674346,
          null
         ],
         "yaxis": "y"
        },
        {
         "customdata": [
          [
           "Date Range: 2023-02-28 to 2023-03-03 <br>Cumulative Progress: 22.79% <br>Level: L6"
          ],
          [
           "Date Range: 2023-02-28 to 2023-03-03<br>Progress in period: 0.42% <br>Cumulative Progress: 23.21% <br>Level: L6"
          ],
          [
           null
          ]
         ],
         "hovertemplate": "%{customdata[0]}",
         "legendgroup": "0.4166666666666643",
         "line": {
          "color": "#ff0600",
          "dash": "solid",
          "width": 5
         },
         "marker": {
          "symbol": "circle"
         },
         "mode": "lines",
         "name": "",
         "orientation": "v",
         "showlegend": true,
         "type": "scatter",
         "x": [
          "2023-02-28T00:00:00",
          "2023-03-03T23:00:00",
          null
         ],
         "xaxis": "x",
         "y": [
          5.086979031840539,
          5.111571317628786,
          null
         ],
         "yaxis": "y"
        },
        {
         "customdata": [
          [
           "Date Range: 2023-03-08 to 2023-03-09 <br>Cumulative Progress: 23.21% <br>Level: L6"
          ],
          [
           "Date Range: 2023-03-08 to 2023-03-09<br>Progress in period: 0.08% <br>Cumulative Progress: 23.29% <br>Level: L6"
          ],
          [
           null
          ]
         ],
         "hovertemplate": "%{customdata[0]}",
         "legendgroup": "0.0833333333333357",
         "line": {
          "color": "#ff0100",
          "dash": "solid",
          "width": 5
         },
         "marker": {
          "symbol": "circle"
         },
         "mode": "lines",
         "name": "",
         "orientation": "v",
         "showlegend": true,
         "type": "scatter",
         "x": [
          "2023-03-08T00:00:00",
          "2023-03-09T23:00:00",
          null
         ],
         "xaxis": "x",
         "y": [
          5.136681335749418,
          5.148848045560445,
          null
         ],
         "yaxis": "y"
        },
        {
         "customdata": [
          [
           "Date Range: 2023-04-01 to 2023-04-04 <br>Cumulative Progress: 23.29% <br>Level: L6"
          ],
          [
           "Date Range: 2023-04-01 to 2023-04-04<br>Progress in period: 1.0% <br>Cumulative Progress: 24.29% <br>Level: L6"
          ],
          [
           null
          ]
         ],
         "hovertemplate": "%{customdata[0]}",
         "legendgroup": "1.0",
         "line": {
          "color": "#ff0e00",
          "dash": "solid",
          "width": 5
         },
         "marker": {
          "symbol": "circle"
         },
         "mode": "lines",
         "name": "",
         "orientation": "v",
         "showlegend": true,
         "type": "scatter",
         "x": [
          "2023-04-01T00:00:00",
          "2023-04-04T23:00:00",
          null
         ],
         "xaxis": "x",
         "y": [
          5.285788247476055,
          5.310380533264302,
          null
         ],
         "yaxis": "y"
        },
        {
         "customdata": [
          [
           "Date Range: 2023-04-05 to 2023-04-06 <br>Cumulative Progress: 24.29% <br>Level: L6"
          ],
          [
           "Date Range: 2023-04-05 to 2023-04-06<br>Progress in period: 2.67% <br>Cumulative Progress: 26.96% <br>Level: L6"
          ],
          [
           null
          ]
         ],
         "hovertemplate": "%{customdata[0]}",
         "legendgroup": "2.6666666666666643",
         "line": {
          "color": "#ff2600",
          "dash": "solid",
          "width": 5
         },
         "marker": {
          "symbol": "circle"
         },
         "mode": "lines",
         "name": "",
         "orientation": "v",
         "showlegend": true,
         "type": "scatter",
         "x": [
          "2023-04-05T00:00:00",
          "2023-04-06T23:00:00",
          null
         ],
         "xaxis": "x",
         "y": [
          5.310639399430494,
          5.322806109241522,
          null
         ],
         "yaxis": "y"
        },
        {
         "customdata": [
          [
           "Date Range: 2023-04-07 to 2023-04-12 <br>Cumulative Progress: 26.96% <br>Level: L6"
          ],
          [
           "Date Range: 2023-04-07 to 2023-04-12<br>Progress in period: 12.25% <br>Cumulative Progress: 39.21% <br>Level: L6"
          ],
          [
           null
          ]
         ],
         "hovertemplate": "%{customdata[0]}",
         "legendgroup": "12.250000000000004",
         "line": {
          "color": "#ffad00",
          "dash": "solid",
          "width": 5
         },
         "marker": {
          "symbol": "circle"
         },
         "mode": "lines",
         "name": "",
         "orientation": "v",
         "showlegend": true,
         "type": "scatter",
         "x": [
          "2023-04-07T00:00:00",
          "2023-04-12T23:00:00",
          null
         ],
         "xaxis": "x",
         "y": [
          5.323064975407714,
          5.360082837173182,
          null
         ],
         "yaxis": "y"
        },
        {
         "customdata": [
          [
           "Date Range: 2023-04-13 to 2023-04-15 <br>Cumulative Progress: 39.21% <br>Level: L6"
          ],
          [
           "Date Range: 2023-04-13 to 2023-04-15<br>Progress in period: 18.42% <br>Cumulative Progress: 57.62% <br>Level: L6"
          ],
          [
           null
          ]
         ],
         "hovertemplate": "%{customdata[0]}",
         "legendgroup": "18.416666666666664",
         "line": {
          "color": "#d1d900",
          "dash": "solid",
          "width": 5
         },
         "marker": {
          "symbol": "circle"
         },
         "mode": "lines",
         "name": "",
         "orientation": "v",
         "showlegend": true,
         "type": "scatter",
         "x": [
          "2023-04-13T00:00:00",
          "2023-04-15T23:00:00",
          null
         ],
         "xaxis": "x",
         "y": [
          5.360341703339373,
          5.378721201139011,
          null
         ],
         "yaxis": "y"
        },
        {
         "customdata": [
          [
           "Date Range: 2023-04-16 to 2023-04-18 <br>Cumulative Progress: 57.62% <br>Level: L6"
          ],
          [
           "Date Range: 2023-04-16 to 2023-04-18<br>Progress in period: 7.25% <br>Cumulative Progress: 64.88% <br>Level: L6"
          ],
          [
           null
          ]
         ],
         "hovertemplate": "%{customdata[0]}",
         "legendgroup": "7.25",
         "line": {
          "color": "#ff6600",
          "dash": "solid",
          "width": 5
         },
         "marker": {
          "symbol": "circle"
         },
         "mode": "lines",
         "name": "",
         "orientation": "v",
         "showlegend": true,
         "type": "scatter",
         "x": [
          "2023-04-16T00:00:00",
          "2023-04-18T23:00:00",
          null
         ],
         "xaxis": "x",
         "y": [
          5.3789800673052035,
          5.397359565104841,
          null
         ],
         "yaxis": "y"
        },
        {
         "customdata": [
          [
           "Date Range: 2023-04-19 to 2023-04-21 <br>Cumulative Progress: 64.88% <br>Level: L6"
          ],
          [
           "Date Range: 2023-04-19 to 2023-04-21<br>Progress in period: 7.08% <br>Cumulative Progress: 71.96% <br>Level: L6"
          ],
          [
           null
          ]
         ],
         "hovertemplate": "%{customdata[0]}",
         "legendgroup": "7.083333333333329",
         "line": {
          "color": "#ff6400",
          "dash": "solid",
          "width": 5
         },
         "marker": {
          "symbol": "circle"
         },
         "mode": "lines",
         "name": "",
         "orientation": "v",
         "showlegend": true,
         "type": "scatter",
         "x": [
          "2023-04-19T00:00:00",
          "2023-04-21T23:00:00",
          null
         ],
         "xaxis": "x",
         "y": [
          5.397618431271033,
          5.41599792907067,
          null
         ],
         "yaxis": "y"
        },
        {
         "customdata": [
          [
           "Date Range: 2023-04-22 to 2023-04-25 <br>Cumulative Progress: 71.96% <br>Level: L6"
          ],
          [
           "Date Range: 2023-04-22 to 2023-04-25<br>Progress in period: 0.46% <br>Cumulative Progress: 72.42% <br>Level: L6"
          ],
          [
           null
          ]
         ],
         "hovertemplate": "%{customdata[0]}",
         "legendgroup": "0.4583333333333428",
         "line": {
          "color": "#ff0600",
          "dash": "solid",
          "width": 5
         },
         "marker": {
          "symbol": "circle"
         },
         "mode": "lines",
         "name": "",
         "orientation": "v",
         "showlegend": true,
         "type": "scatter",
         "x": [
          "2023-04-22T00:00:00",
          "2023-04-25T23:00:00",
          null
         ],
         "xaxis": "x",
         "y": [
          5.416256795236863,
          5.44084908102511,
          null
         ],
         "yaxis": "y"
        },
        {
         "customdata": [
          [
           "Date Range: 2023-04-26 to 2023-04-27 <br>Cumulative Progress: 72.42% <br>Level: L6"
          ],
          [
           "Date Range: 2023-04-26 to 2023-04-27<br>Progress in period: 0.21% <br>Cumulative Progress: 72.62% <br>Level: L6"
          ],
          [
           null
          ]
         ],
         "hovertemplate": "%{customdata[0]}",
         "legendgroup": "0.2083333333333286",
         "line": {
          "color": "#ff0300",
          "dash": "solid",
          "width": 5
         },
         "marker": {
          "symbol": "circle"
         },
         "mode": "lines",
         "name": "",
         "orientation": "v",
         "showlegend": true,
         "type": "scatter",
         "x": [
          "2023-04-26T00:00:00",
          "2023-04-27T23:00:00",
          null
         ],
         "xaxis": "x",
         "y": [
          5.441107947191302,
          5.453274657002329,
          null
         ],
         "yaxis": "y"
        },
        {
         "customdata": [
          [
           "Date Range: 2023-05-14 to 2023-05-18 <br>Cumulative Progress: 72.62% <br>Level: L6"
          ],
          [
           "Date Range: 2023-05-14 to 2023-05-18<br>Progress in period: 0.12% <br>Cumulative Progress: 72.75% <br>Level: L6"
          ],
          [
           null
          ],
          [
           "Date Range: 2023-06-10 to 2023-06-15 <br>Cumulative Progress: 72.75% <br>Level: L6"
          ],
          [
           "Date Range: 2023-06-10 to 2023-06-15<br>Progress in period: 0.12% <br>Cumulative Progress: 72.88% <br>Level: L6"
          ],
          [
           null
          ],
          [
           "Date Range: 2023-06-21 to 2023-06-22 <br>Cumulative Progress: 72.88% <br>Level: L6"
          ],
          [
           "Date Range: 2023-06-21 to 2023-06-22<br>Progress in period: 0.12% <br>Cumulative Progress: 73.0% <br>Level: L6"
          ],
          [
           null
          ]
         ],
         "hovertemplate": "%{customdata[0]}",
         "legendgroup": "0.125",
         "line": {
          "color": "#ff0200",
          "dash": "solid",
          "width": 5
         },
         "marker": {
          "symbol": "circle"
         },
         "mode": "lines",
         "name": "",
         "orientation": "v",
         "showlegend": true,
         "type": "scatter",
         "x": [
          "2023-05-14T00:00:00",
          "2023-05-18T23:00:00",
          null,
          "2023-06-10T00:00:00",
          "2023-06-15T23:00:00",
          null,
          "2023-06-21T00:00:00",
          "2023-06-22T23:00:00",
          null
         ],
         "xaxis": "x",
         "y": [
          5.55293813098628,
          5.583743204763137,
          null,
          5.720683406678747,
          5.757701268444214,
          null,
          5.789024074553456,
          5.801190784364484,
          null
         ],
         "yaxis": "y"
        },
        {
         "customdata": [
          [
           "Date Range: 2023-07-23 to 2023-07-24 <br>Cumulative Progress: 73.0% <br>Level: L6"
          ],
          [
           "Date Range: 2023-07-23 to 2023-07-24<br>Progress in period: 27.0% <br>Cumulative Progress: 100.0% <br>Level: L6"
          ],
          [
           null
          ]
         ],
         "hovertemplate": "%{customdata[0]}",
         "legendgroup": "27.0",
         "line": {
          "color": "#5de600",
          "dash": "solid",
          "width": 5
         },
         "marker": {
          "symbol": "circle"
         },
         "mode": "lines",
         "name": "",
         "orientation": "v",
         "showlegend": true,
         "type": "scatter",
         "x": [
          "2023-07-23T00:00:00",
          "2023-07-24T23:00:00",
          null
         ],
         "xaxis": "x",
         "y": [
          5.987833290188973,
          6,
          null
         ],
         "yaxis": "y"
        },
        {
         "customdata": [
          [
           "Date Range: 2023-02-22 to 2023-02-24 <br>Cumulative Progress: 0.0% <br>Level: L7"
          ],
          [
           "Date Range: 2023-02-22 to 2023-02-24<br>Progress in period: 0.5% <br>Cumulative Progress: 0.5% <br>Level: L7"
          ],
          [
           null
          ]
         ],
         "hovertemplate": "%{customdata[0]}",
         "legendgroup": "0.5",
         "line": {
          "color": "#ff0700",
          "dash": "solid",
          "width": 5
         },
         "marker": {
          "symbol": "circle"
         },
         "mode": "lines",
         "name": "",
         "orientation": "v",
         "showlegend": true,
         "type": "scatter",
         "x": [
          "2023-02-22T00:00:00",
          "2023-02-24T23:00:00",
          null
         ],
         "xaxis": "x",
         "y": [
          6,
          6.0174062270164255,
          null
         ],
         "yaxis": "y"
        },
        {
         "customdata": [
          [
           "Date Range: 2023-02-28 to 2023-03-03 <br>Cumulative Progress: 0.5% <br>Level: L7"
          ],
          [
           "Date Range: 2023-02-28 to 2023-03-03<br>Progress in period: 0.46% <br>Cumulative Progress: 0.96% <br>Level: L7"
          ],
          [
           null
          ]
         ],
         "hovertemplate": "%{customdata[0]}",
         "legendgroup": "0.45833333333333337",
         "line": {
          "color": "#ff0600",
          "dash": "solid",
          "width": 5
         },
         "marker": {
          "symbol": "circle"
         },
         "mode": "lines",
         "name": "",
         "orientation": "v",
         "showlegend": true,
         "type": "scatter",
         "x": [
          "2023-02-28T00:00:00",
          "2023-03-03T23:00:00",
          null
         ],
         "xaxis": "x",
         "y": [
          6.035302770286835,
          6.0585927923510665,
          null
         ],
         "yaxis": "y"
        },
        {
         "customdata": [
          [
           "Date Range: 2023-03-04 to 2023-03-07 <br>Cumulative Progress: 0.96% <br>Level: L7"
          ],
          [
           "Date Range: 2023-03-04 to 2023-03-07<br>Progress in period: 11.33% <br>Cumulative Progress: 12.29% <br>Level: L7"
          ],
          [
           null
          ]
         ],
         "hovertemplate": "%{customdata[0]}",
         "legendgroup": "11.333333333333332",
         "line": {
          "color": "#ffa000",
          "dash": "solid",
          "width": 5
         },
         "marker": {
          "symbol": "circle"
         },
         "mode": "lines",
         "name": "",
         "orientation": "v",
         "showlegend": true,
         "type": "scatter",
         "x": [
          "2023-03-04T00:00:00",
          "2023-03-07T23:00:00",
          null
         ],
         "xaxis": "x",
         "y": [
          6.0588379504780585,
          6.08212797254229,
          null
         ],
         "yaxis": "y"
        },
        {
         "customdata": [
          [
           "Date Range: 2023-03-08 to 2023-03-09 <br>Cumulative Progress: 12.29% <br>Level: L7"
          ],
          [
           "Date Range: 2023-03-08 to 2023-03-09<br>Progress in period: 8.83% <br>Cumulative Progress: 21.12% <br>Level: L7"
          ],
          [
           null
          ]
         ],
         "hovertemplate": "%{customdata[0]}",
         "legendgroup": "8.833333333333334",
         "line": {
          "color": "#ff7d00",
          "dash": "solid",
          "width": 5
         },
         "marker": {
          "symbol": "circle"
         },
         "mode": "lines",
         "name": "",
         "orientation": "v",
         "showlegend": true,
         "type": "scatter",
         "x": [
          "2023-03-08T00:00:00",
          "2023-03-09T23:00:00",
          null
         ],
         "xaxis": "x",
         "y": [
          6.082373130669282,
          6.093895562637901,
          null
         ],
         "yaxis": "y"
        },
        {
         "customdata": [
          [
           "Date Range: 2023-03-10 to 2023-03-14 <br>Cumulative Progress: 21.12% <br>Level: L7"
          ],
          [
           "Date Range: 2023-03-10 to 2023-03-14<br>Progress in period: 1.83% <br>Cumulative Progress: 22.96% <br>Level: L7"
          ],
          [
           null
          ]
         ],
         "hovertemplate": "%{customdata[0]}",
         "legendgroup": "1.8333333333333321",
         "line": {
          "color": "#ff1a00",
          "dash": "solid",
          "width": 5
         },
         "marker": {
          "symbol": "circle"
         },
         "mode": "lines",
         "name": "",
         "orientation": "v",
         "showlegend": true,
         "type": "scatter",
         "x": [
          "2023-03-10T00:00:00",
          "2023-03-14T23:00:00",
          null
         ],
         "xaxis": "x",
         "y": [
          6.094140720764893,
          6.12331453787693,
          null
         ],
         "yaxis": "y"
        },
        {
         "customdata": [
          [
           "Date Range: 2023-03-31 to 2023-03-31 <br>Cumulative Progress: 22.96% <br>Level: L7"
          ],
          [
           "Date Range: 2023-03-31 to 2023-03-31<br>Progress in period: 0.17% <br>Cumulative Progress: 23.12% <br>Level: L7"
          ],
          [
           null
          ]
         ],
         "hovertemplate": "%{customdata[0]}",
         "legendgroup": "0.16666666666666785",
         "line": {
          "color": "#ff0200",
          "dash": "solid",
          "width": 5
         },
         "marker": {
          "symbol": "circle"
         },
         "mode": "lines",
         "name": "",
         "orientation": "v",
         "showlegend": true,
         "type": "scatter",
         "x": [
          "2023-03-31T00:00:00",
          "2023-03-31T23:00:00",
          null
         ],
         "xaxis": "x",
         "y": [
          6.217700416768816,
          6.22333905368963,
          null
         ],
         "yaxis": "y"
        },
        {
         "customdata": [
          [
           "Date Range: 2023-04-07 to 2023-04-12 <br>Cumulative Progress: 23.12% <br>Level: L7"
          ],
          [
           "Date Range: 2023-04-07 to 2023-04-12<br>Progress in period: 1.75% <br>Cumulative Progress: 24.88% <br>Level: L7"
          ],
          [
           null
          ]
         ],
         "hovertemplate": "%{customdata[0]}",
         "legendgroup": "1.75",
         "line": {
          "color": "#ff1900",
          "dash": "solid",
          "width": 5
         },
         "marker": {
          "symbol": "circle"
         },
         "mode": "lines",
         "name": "",
         "orientation": "v",
         "showlegend": true,
         "type": "scatter",
         "x": [
          "2023-04-07T00:00:00",
          "2023-04-12T23:00:00",
          null
         ],
         "xaxis": "x",
         "y": [
          6.258886982103457,
          6.2939445942633,
          null
         ],
         "yaxis": "y"
        },
        {
         "customdata": [
          [
           "Date Range: 2023-04-13 to 2023-04-15 <br>Cumulative Progress: 24.88% <br>Level: L7"
          ],
          [
           "Date Range: 2023-04-13 to 2023-04-15<br>Progress in period: 2.12% <br>Cumulative Progress: 27.0% <br>Level: L7"
          ],
          [
           null
          ]
         ],
         "hovertemplate": "%{customdata[0]}",
         "legendgroup": "2.125",
         "line": {
          "color": "#ff1e00",
          "dash": "solid",
          "width": 5
         },
         "marker": {
          "symbol": "circle"
         },
         "mode": "lines",
         "name": "",
         "orientation": "v",
         "showlegend": true,
         "type": "scatter",
         "x": [
          "2023-04-13T00:00:00",
          "2023-04-15T23:00:00",
          null
         ],
         "xaxis": "x",
         "y": [
          6.294189752390292,
          6.311595979406717,
          null
         ],
         "yaxis": "y"
        },
        {
         "customdata": [
          [
           "Date Range: 2023-04-16 to 2023-04-18 <br>Cumulative Progress: 27.0% <br>Level: L7"
          ],
          [
           "Date Range: 2023-04-16 to 2023-04-18<br>Progress in period: 4.88% <br>Cumulative Progress: 31.88% <br>Level: L7"
          ],
          [
           null
          ]
         ],
         "hovertemplate": "%{customdata[0]}",
         "legendgroup": "4.875",
         "line": {
          "color": "#ff4500",
          "dash": "solid",
          "width": 5
         },
         "marker": {
          "symbol": "circle"
         },
         "mode": "lines",
         "name": "",
         "orientation": "v",
         "showlegend": true,
         "type": "scatter",
         "x": [
          "2023-04-16T00:00:00",
          "2023-04-18T23:00:00",
          null
         ],
         "xaxis": "x",
         "y": [
          6.311841137533709,
          6.329247364550135,
          null
         ],
         "yaxis": "y"
        },
        {
         "customdata": [
          [
           "Date Range: 2023-04-19 to 2023-04-21 <br>Cumulative Progress: 31.88% <br>Level: L7"
          ],
          [
           "Date Range: 2023-04-19 to 2023-04-21<br>Progress in period: 10.62% <br>Cumulative Progress: 42.5% <br>Level: L7"
          ],
          [
           null
          ]
         ],
         "hovertemplate": "%{customdata[0]}",
         "legendgroup": "10.625",
         "line": {
          "color": "#ff9600",
          "dash": "solid",
          "width": 5
         },
         "marker": {
          "symbol": "circle"
         },
         "mode": "lines",
         "name": "",
         "orientation": "v",
         "showlegend": true,
         "type": "scatter",
         "x": [
          "2023-04-19T00:00:00",
          "2023-04-21T23:00:00",
          null
         ],
         "xaxis": "x",
         "y": [
          6.329492522677127,
          6.346898749693552,
          null
         ],
         "yaxis": "y"
        },
        {
         "customdata": [
          [
           "Date Range: 2023-04-22 to 2023-04-25 <br>Cumulative Progress: 42.5% <br>Level: L7"
          ],
          [
           "Date Range: 2023-04-22 to 2023-04-25<br>Progress in period: 7.88% <br>Cumulative Progress: 50.38% <br>Level: L7"
          ],
          [
           null
          ]
         ],
         "hovertemplate": "%{customdata[0]}",
         "legendgroup": "7.875",
         "line": {
          "color": "#ff6f00",
          "dash": "solid",
          "width": 5
         },
         "marker": {
          "symbol": "circle"
         },
         "mode": "lines",
         "name": "",
         "orientation": "v",
         "showlegend": true,
         "type": "scatter",
         "x": [
          "2023-04-22T00:00:00",
          "2023-04-25T23:00:00",
          null
         ],
         "xaxis": "x",
         "y": [
          6.347143907820544,
          6.370433929884776,
          null
         ],
         "yaxis": "y"
        },
        {
         "customdata": [
          [
           "Date Range: 2023-04-26 to 2023-04-27 <br>Cumulative Progress: 50.38% <br>Level: L7"
          ],
          [
           "Date Range: 2023-04-26 to 2023-04-27<br>Progress in period: 14.38% <br>Cumulative Progress: 64.75% <br>Level: L7"
          ],
          [
           null
          ]
         ],
         "hovertemplate": "%{customdata[0]}",
         "legendgroup": "14.375",
         "line": {
          "color": "#ffcb00",
          "dash": "solid",
          "width": 5
         },
         "marker": {
          "symbol": "circle"
         },
         "mode": "lines",
         "name": "",
         "orientation": "v",
         "showlegend": true,
         "type": "scatter",
         "x": [
          "2023-04-26T00:00:00",
          "2023-04-27T23:00:00",
          null
         ],
         "xaxis": "x",
         "y": [
          6.370679088011768,
          6.382201519980387,
          null
         ],
         "yaxis": "y"
        },
        {
         "customdata": [
          [
           "Date Range: 2023-04-28 to 2023-05-02 <br>Cumulative Progress: 64.75% <br>Level: L7"
          ],
          [
           "Date Range: 2023-04-28 to 2023-05-02<br>Progress in period: 7.33% <br>Cumulative Progress: 72.08% <br>Level: L7"
          ],
          [
           null
          ]
         ],
         "hovertemplate": "%{customdata[0]}",
         "legendgroup": "7.333333333333329",
         "line": {
          "color": "#ff6800",
          "dash": "solid",
          "width": 5
         },
         "marker": {
          "symbol": "circle"
         },
         "mode": "lines",
         "name": "",
         "orientation": "v",
         "showlegend": true,
         "type": "scatter",
         "x": [
          "2023-04-28T00:00:00",
          "2023-05-02T23:00:00",
          null
         ],
         "xaxis": "x",
         "y": [
          6.382446678107379,
          6.411620495219417,
          null
         ],
         "yaxis": "y"
        },
        {
         "customdata": [
          [
           "Date Range: 2023-05-14 to 2023-05-18 <br>Cumulative Progress: 72.08% <br>Level: L7"
          ],
          [
           "Date Range: 2023-05-14 to 2023-05-18<br>Progress in period: 0.12% <br>Cumulative Progress: 72.21% <br>Level: L7"
          ],
          [
           null
          ]
         ],
         "hovertemplate": "%{customdata[0]}",
         "legendgroup": "0.125",
         "line": {
          "color": "#ff0200",
          "dash": "solid",
          "width": 5
         },
         "marker": {
          "symbol": "circle"
         },
         "mode": "lines",
         "name": "",
         "orientation": "v",
         "showlegend": true,
         "type": "scatter",
         "x": [
          "2023-05-14T00:00:00",
          "2023-05-18T23:00:00",
          null
         ],
         "xaxis": "x",
         "y": [
          6.476587398872272,
          6.50576121598431,
          null
         ],
         "yaxis": "y"
        },
        {
         "customdata": [
          [
           "Date Range: 2023-06-06 to 2023-06-07 <br>Cumulative Progress: 72.21% <br>Level: L7"
          ],
          [
           "Date Range: 2023-06-06 to 2023-06-07<br>Progress in period: 0.17% <br>Cumulative Progress: 72.38% <br>Level: L7"
          ],
          [
           null
          ]
         ],
         "hovertemplate": "%{customdata[0]}",
         "legendgroup": "0.1666666666666714",
         "line": {
          "color": "#ff0200",
          "dash": "solid",
          "width": 5
         },
         "marker": {
          "symbol": "circle"
         },
         "mode": "lines",
         "name": "",
         "orientation": "v",
         "showlegend": true,
         "type": "scatter",
         "x": [
          "2023-06-06T00:00:00",
          "2023-06-07T23:00:00",
          null
         ],
         "xaxis": "x",
         "y": [
          6.611914684971807,
          6.623437116940426,
          null
         ],
         "yaxis": "y"
        },
        {
         "customdata": [
          [
           "Date Range: 2023-06-21 to 2023-06-22 <br>Cumulative Progress: 72.38% <br>Level: L7"
          ],
          [
           "Date Range: 2023-06-21 to 2023-06-22<br>Progress in period: 0.08% <br>Cumulative Progress: 72.46% <br>Level: L7"
          ],
          [
           null
          ]
         ],
         "hovertemplate": "%{customdata[0]}",
         "legendgroup": "0.0833333333333286",
         "line": {
          "color": "#ff0100",
          "dash": "solid",
          "width": 5
         },
         "marker": {
          "symbol": "circle"
         },
         "mode": "lines",
         "name": "",
         "orientation": "v",
         "showlegend": true,
         "type": "scatter",
         "x": [
          "2023-06-21T00:00:00",
          "2023-06-22T23:00:00",
          null
         ],
         "xaxis": "x",
         "y": [
          6.700171610688894,
          6.7116940426575145,
          null
         ],
         "yaxis": "y"
        },
        {
         "customdata": [
          [
           "Date Range: 2023-07-23 to 2023-07-24 <br>Cumulative Progress: 72.46% <br>Level: L7"
          ],
          [
           "Date Range: 2023-07-23 to 2023-07-24<br>Progress in period: 1.08% <br>Cumulative Progress: 73.54% <br>Level: L7"
          ],
          [
           null
          ]
         ],
         "hovertemplate": "%{customdata[0]}",
         "legendgroup": "1.0833333333333428",
         "line": {
          "color": "#ff0f00",
          "dash": "solid",
          "width": 5
         },
         "marker": {
          "symbol": "circle"
         },
         "mode": "lines",
         "name": "",
         "orientation": "v",
         "showlegend": true,
         "type": "scatter",
         "x": [
          "2023-07-23T00:00:00",
          "2023-07-24T23:00:00",
          null
         ],
         "xaxis": "x",
         "y": [
          6.888453052218681,
          6.8999754841873004,
          null
         ],
         "yaxis": "y"
        },
        {
         "customdata": [
          [
           "Date Range: 2023-07-29 to 2023-08-03 <br>Cumulative Progress: 73.54% <br>Level: L7"
          ],
          [
           "Date Range: 2023-07-29 to 2023-08-03<br>Progress in period: 15.75% <br>Cumulative Progress: 89.29% <br>Level: L7"
          ],
          [
           null
          ]
         ],
         "hovertemplate": "%{customdata[0]}",
         "legendgroup": "15.75",
         "line": {
          "color": "#f5d500",
          "dash": "solid",
          "width": 5
         },
         "marker": {
          "symbol": "circle"
         },
         "mode": "lines",
         "name": "",
         "orientation": "v",
         "showlegend": true,
         "type": "scatter",
         "x": [
          "2023-07-29T00:00:00",
          "2023-08-03T23:00:00",
          null
         ],
         "xaxis": "x",
         "y": [
          6.923755822505516,
          6.958813434665359,
          null
         ],
         "yaxis": "y"
        },
        {
         "customdata": [
          [
           "Date Range: 2023-08-04 to 2023-08-10 <br>Cumulative Progress: 89.29% <br>Level: L7"
          ],
          [
           "Date Range: 2023-08-04 to 2023-08-10<br>Progress in period: 10.71% <br>Cumulative Progress: 100.0% <br>Level: L7"
          ],
          [
           null
          ]
         ],
         "hovertemplate": "%{customdata[0]}",
         "legendgroup": "10.708333333333329",
         "line": {
          "color": "#ff9700",
          "dash": "solid",
          "width": 5
         },
         "marker": {
          "symbol": "circle"
         },
         "mode": "lines",
         "name": "",
         "orientation": "v",
         "showlegend": true,
         "type": "scatter",
         "x": [
          "2023-08-04T00:00:00",
          "2023-08-10T23:00:00",
          null
         ],
         "xaxis": "x",
         "y": [
          6.959058592792351,
          7,
          null
         ],
         "yaxis": "y"
        },
        {
         "customdata": [
          [
           "Date Range: 2023-02-25 to 2023-02-27 <br>Cumulative Progress: 0.0% <br>Level: L8"
          ],
          [
           "Date Range: 2023-02-25 to 2023-02-27<br>Progress in period: 2.0% <br>Cumulative Progress: 2.0% <br>Level: L8"
          ],
          [
           null
          ]
         ],
         "hovertemplate": "%{customdata[0]}",
         "legendgroup": "2.0",
         "line": {
          "color": "#ff1c00",
          "dash": "solid",
          "width": 5
         },
         "marker": {
          "symbol": "circle"
         },
         "mode": "lines",
         "name": "",
         "orientation": "v",
         "showlegend": true,
         "type": "scatter",
         "x": [
          "2023-02-25T00:00:00",
          "2023-02-27T23:00:00",
          null
         ],
         "xaxis": "x",
         "y": [
          7,
          7.015174182517632,
          null
         ],
         "yaxis": "y"
        },
        {
         "customdata": [
          [
           "Date Range: 2023-02-28 to 2023-03-03 <br>Cumulative Progress: 2.0% <br>Level: L8"
          ],
          [
           "Date Range: 2023-02-28 to 2023-03-03<br>Progress in period: 4.04% <br>Cumulative Progress: 6.04% <br>Level: L8"
          ],
          [
           null
          ]
         ],
         "hovertemplate": "%{customdata[0]}",
         "legendgroup": "4.041666666666667",
         "line": {
          "color": "#ff3900",
          "dash": "solid",
          "width": 5
         },
         "marker": {
          "symbol": "circle"
         },
         "mode": "lines",
         "name": "",
         "orientation": "v",
         "showlegend": true,
         "type": "scatter",
         "x": [
          "2023-02-28T00:00:00",
          "2023-03-03T23:00:00",
          null
         ],
         "xaxis": "x",
         "y": [
          7.015387903398162,
          7.035691387048515,
          null
         ],
         "yaxis": "y"
        },
        {
         "customdata": [
          [
           "Date Range: 2023-03-04 to 2023-03-07 <br>Cumulative Progress: 6.04% <br>Level: L8"
          ],
          [
           "Date Range: 2023-03-04 to 2023-03-07<br>Progress in period: 5.87% <br>Cumulative Progress: 11.92% <br>Level: L8"
          ],
          [
           null
          ]
         ],
         "hovertemplate": "%{customdata[0]}",
         "legendgroup": "5.874999999999999",
         "line": {
          "color": "#ff5300",
          "dash": "solid",
          "width": 5
         },
         "marker": {
          "symbol": "circle"
         },
         "mode": "lines",
         "name": "",
         "orientation": "v",
         "showlegend": true,
         "type": "scatter",
         "x": [
          "2023-03-04T00:00:00",
          "2023-03-07T23:00:00",
          null
         ],
         "xaxis": "x",
         "y": [
          7.035905107929045,
          7.056208591579398,
          null
         ],
         "yaxis": "y"
        },
        {
         "customdata": [
          [
           "Date Range: 2023-03-08 to 2023-03-09 <br>Cumulative Progress: 11.92% <br>Level: L8"
          ],
          [
           "Date Range: 2023-03-08 to 2023-03-09<br>Progress in period: 7.75% <br>Cumulative Progress: 19.67% <br>Level: L8"
          ],
          [
           null
          ]
         ],
         "hovertemplate": "%{customdata[0]}",
         "legendgroup": "7.750000000000002",
         "line": {
          "color": "#ff6e00",
          "dash": "solid",
          "width": 5
         },
         "marker": {
          "symbol": "circle"
         },
         "mode": "lines",
         "name": "",
         "orientation": "v",
         "showlegend": true,
         "type": "scatter",
         "x": [
          "2023-03-08T00:00:00",
          "2023-03-09T23:00:00",
          null
         ],
         "xaxis": "x",
         "y": [
          7.056422312459928,
          7.066467193844838,
          null
         ],
         "yaxis": "y"
        },
        {
         "customdata": [
          [
           "Date Range: 2023-03-10 to 2023-03-14 <br>Cumulative Progress: 19.67% <br>Level: L8"
          ],
          [
           "Date Range: 2023-03-10 to 2023-03-14<br>Progress in period: 0.17% <br>Cumulative Progress: 19.83% <br>Level: L8"
          ],
          [
           null
          ]
         ],
         "hovertemplate": "%{customdata[0]}",
         "legendgroup": "0.1666666666666643",
         "line": {
          "color": "#ff0200",
          "dash": "solid",
          "width": 5
         },
         "marker": {
          "symbol": "circle"
         },
         "mode": "lines",
         "name": "",
         "orientation": "v",
         "showlegend": true,
         "type": "scatter",
         "x": [
          "2023-03-10T00:00:00",
          "2023-03-14T23:00:00",
          null
         ],
         "xaxis": "x",
         "y": [
          7.066680914725369,
          7.092113699508442,
          null
         ],
         "yaxis": "y"
        },
        {
         "customdata": [
          [
           "Date Range: 2023-03-21 to 2023-03-23 <br>Cumulative Progress: 19.83% <br>Level: L8"
          ],
          [
           "Date Range: 2023-03-21 to 2023-03-23<br>Progress in period: 0.75% <br>Cumulative Progress: 20.58% <br>Level: L8"
          ],
          [
           null
          ],
          [
           "Date Range: 2023-04-26 to 2023-04-27 <br>Cumulative Progress: 23.33% <br>Level: L8"
          ],
          [
           "Date Range: 2023-04-26 to 2023-04-27<br>Progress in period: 0.75% <br>Cumulative Progress: 24.08% <br>Level: L8"
          ],
          [
           null
          ]
         ],
         "hovertemplate": "%{customdata[0]}",
         "legendgroup": "0.75",
         "line": {
          "color": "#ff0b00",
          "dash": "solid",
          "width": 5
         },
         "marker": {
          "symbol": "circle"
         },
         "mode": "lines",
         "name": "",
         "orientation": "v",
         "showlegend": true,
         "type": "scatter",
         "x": [
          "2023-03-21T00:00:00",
          "2023-03-23T23:00:00",
          null,
          "2023-04-26T00:00:00",
          "2023-04-27T23:00:00",
          null
         ],
         "xaxis": "x",
         "y": [
          7.123103227185296,
          7.138277409702928,
          null,
          7.30775806796324,
          7.317802949348152,
          null
         ],
         "yaxis": "y"
        },
        {
         "customdata": [
          [
           "Date Range: 2023-03-31 to 2023-03-31 <br>Cumulative Progress: 20.58% <br>Level: L8"
          ],
          [
           "Date Range: 2023-03-31 to 2023-03-31<br>Progress in period: 0.17% <br>Cumulative Progress: 20.75% <br>Level: L8"
          ],
          [
           null
          ]
         ],
         "hovertemplate": "%{customdata[0]}",
         "legendgroup": "0.16666666666666785",
         "line": {
          "color": "#ff0200",
          "dash": "solid",
          "width": 5
         },
         "marker": {
          "symbol": "circle"
         },
         "mode": "lines",
         "name": "",
         "orientation": "v",
         "showlegend": true,
         "type": "scatter",
         "x": [
          "2023-03-31T00:00:00",
          "2023-03-31T23:00:00",
          null
         ],
         "xaxis": "x",
         "y": [
          7.174396238512503,
          7.179311818764694,
          null
         ],
         "yaxis": "y"
        },
        {
         "customdata": [
          [
           "Date Range: 2023-04-01 to 2023-04-04 <br>Cumulative Progress: 20.75% <br>Level: L8"
          ],
          [
           "Date Range: 2023-04-01 to 2023-04-04<br>Progress in period: 0.62% <br>Cumulative Progress: 21.38% <br>Level: L8"
          ],
          [
           null
          ]
         ],
         "hovertemplate": "%{customdata[0]}",
         "legendgroup": "0.625",
         "line": {
          "color": "#ff0900",
          "dash": "solid",
          "width": 5
         },
         "marker": {
          "symbol": "circle"
         },
         "mode": "lines",
         "name": "",
         "orientation": "v",
         "showlegend": true,
         "type": "scatter",
         "x": [
          "2023-04-01T00:00:00",
          "2023-04-04T23:00:00",
          null
         ],
         "xaxis": "x",
         "y": [
          7.1795255396452236,
          7.199829023295576,
          null
         ],
         "yaxis": "y"
        },
        {
         "customdata": [
          [
           "Date Range: 2023-04-07 to 2023-04-12 <br>Cumulative Progress: 21.38% <br>Level: L8"
          ],
          [
           "Date Range: 2023-04-07 to 2023-04-12<br>Progress in period: 0.46% <br>Cumulative Progress: 21.83% <br>Level: L8"
          ],
          [
           null
          ]
         ],
         "hovertemplate": "%{customdata[0]}",
         "legendgroup": "0.45833333333333215",
         "line": {
          "color": "#ff0600",
          "dash": "solid",
          "width": 5
         },
         "marker": {
          "symbol": "circle"
         },
         "mode": "lines",
         "name": "",
         "orientation": "v",
         "showlegend": true,
         "type": "scatter",
         "x": [
          "2023-04-07T00:00:00",
          "2023-04-12T23:00:00",
          null
         ],
         "xaxis": "x",
         "y": [
          7.210301346441548,
          7.240863432357341,
          null
         ],
         "yaxis": "y"
        },
        {
         "customdata": [
          [
           "Date Range: 2023-04-13 to 2023-04-15 <br>Cumulative Progress: 21.83% <br>Level: L8"
          ],
          [
           "Date Range: 2023-04-13 to 2023-04-15<br>Progress in period: 0.96% <br>Cumulative Progress: 22.79% <br>Level: L8"
          ],
          [
           null
          ]
         ],
         "hovertemplate": "%{customdata[0]}",
         "legendgroup": "0.9583333333333357",
         "line": {
          "color": "#ff0e00",
          "dash": "solid",
          "width": 5
         },
         "marker": {
          "symbol": "circle"
         },
         "mode": "lines",
         "name": "",
         "orientation": "v",
         "showlegend": true,
         "type": "scatter",
         "x": [
          "2023-04-13T00:00:00",
          "2023-04-15T23:00:00",
          null
         ],
         "xaxis": "x",
         "y": [
          7.241077153237871,
          7.256251335755503,
          null
         ],
         "yaxis": "y"
        },
        {
         "customdata": [
          [
           "Date Range: 2023-04-19 to 2023-04-21 <br>Cumulative Progress: 22.79% <br>Level: L8"
          ],
          [
           "Date Range: 2023-04-19 to 2023-04-21<br>Progress in period: 0.54% <br>Cumulative Progress: 23.33% <br>Level: L8"
          ],
          [
           null
          ]
         ],
         "hovertemplate": "%{customdata[0]}",
         "legendgroup": "0.5416666666666643",
         "line": {
          "color": "#ff0800",
          "dash": "solid",
          "width": 5
         },
         "marker": {
          "symbol": "circle"
         },
         "mode": "lines",
         "name": "",
         "orientation": "v",
         "showlegend": true,
         "type": "scatter",
         "x": [
          "2023-04-19T00:00:00",
          "2023-04-21T23:00:00",
          null
         ],
         "xaxis": "x",
         "y": [
          7.271852960034195,
          7.287027142551827,
          null
         ],
         "yaxis": "y"
        },
        {
         "customdata": [
          [
           "Date Range: 2023-04-28 to 2023-05-02 <br>Cumulative Progress: 24.08% <br>Level: L8"
          ],
          [
           "Date Range: 2023-04-28 to 2023-05-02<br>Progress in period: 3.79% <br>Cumulative Progress: 27.88% <br>Level: L8"
          ],
          [
           null
          ]
         ],
         "hovertemplate": "%{customdata[0]}",
         "legendgroup": "3.791666666666668",
         "line": {
          "color": "#ff3600",
          "dash": "solid",
          "width": 5
         },
         "marker": {
          "symbol": "circle"
         },
         "mode": "lines",
         "name": "",
         "orientation": "v",
         "showlegend": true,
         "type": "scatter",
         "x": [
          "2023-04-28T00:00:00",
          "2023-05-02T23:00:00",
          null
         ],
         "xaxis": "x",
         "y": [
          7.3180166702286815,
          7.343449455011755,
          null
         ],
         "yaxis": "y"
        },
        {
         "customdata": [
          [
           "Date Range: 2023-05-14 to 2023-05-18 <br>Cumulative Progress: 27.88% <br>Level: L8"
          ],
          [
           "Date Range: 2023-05-14 to 2023-05-18<br>Progress in period: 30.12% <br>Cumulative Progress: 58.0% <br>Level: L8"
          ],
          [
           null
          ]
         ],
         "hovertemplate": "%{customdata[0]}",
         "legendgroup": "30.125",
         "line": {
          "color": "#34eb00",
          "dash": "solid",
          "width": 5
         },
         "marker": {
          "symbol": "circle"
         },
         "mode": "lines",
         "name": "",
         "orientation": "v",
         "showlegend": true,
         "type": "scatter",
         "x": [
          "2023-05-14T00:00:00",
          "2023-05-18T23:00:00",
          null
         ],
         "xaxis": "x",
         "y": [
          7.400085488352212,
          7.425518273135285,
          null
         ],
         "yaxis": "y"
        },
        {
         "customdata": [
          [
           "Date Range: 2023-06-06 to 2023-06-07 <br>Cumulative Progress: 58.0% <br>Level: L8"
          ],
          [
           "Date Range: 2023-06-06 to 2023-06-07<br>Progress in period: 9.25% <br>Cumulative Progress: 67.25% <br>Level: L8"
          ],
          [
           null
          ]
         ],
         "hovertemplate": "%{customdata[0]}",
         "legendgroup": "9.25",
         "line": {
          "color": "#ff8300",
          "dash": "solid",
          "width": 5
         },
         "marker": {
          "symbol": "circle"
         },
         "mode": "lines",
         "name": "",
         "orientation": "v",
         "showlegend": true,
         "type": "scatter",
         "x": [
          "2023-06-06T00:00:00",
          "2023-06-07T23:00:00",
          null
         ],
         "xaxis": "x",
         "y": [
          7.518059414404787,
          7.528104295789698,
          null
         ],
         "yaxis": "y"
        },
        {
         "customdata": [
          [
           "Date Range: 2023-06-10 to 2023-06-15 <br>Cumulative Progress: 67.25% <br>Level: L8"
          ],
          [
           "Date Range: 2023-06-10 to 2023-06-15<br>Progress in period: 3.79% <br>Cumulative Progress: 71.04% <br>Level: L8"
          ],
          [
           null
          ]
         ],
         "hovertemplate": "%{customdata[0]}",
         "legendgroup": "3.7916666666666714",
         "line": {
          "color": "#ff3600",
          "dash": "solid",
          "width": 5
         },
         "marker": {
          "symbol": "circle"
         },
         "mode": "lines",
         "name": "",
         "orientation": "v",
         "showlegend": true,
         "type": "scatter",
         "x": [
          "2023-06-10T00:00:00",
          "2023-06-15T23:00:00",
          null
         ],
         "xaxis": "x",
         "y": [
          7.53857661893567,
          7.569138704851464,
          null
         ],
         "yaxis": "y"
        },
        {
         "customdata": [
          [
           "Date Range: 2023-06-21 to 2023-06-22 <br>Cumulative Progress: 71.04% <br>Level: L8"
          ],
          [
           "Date Range: 2023-06-21 to 2023-06-22<br>Progress in period: 0.46% <br>Cumulative Progress: 71.5% <br>Level: L8"
          ],
          [
           null
          ],
          [
           "Date Range: 2023-07-23 to 2023-07-24 <br>Cumulative Progress: 71.62% <br>Level: L8"
          ],
          [
           "Date Range: 2023-07-23 to 2023-07-24<br>Progress in period: 0.46% <br>Cumulative Progress: 72.08% <br>Level: L8"
          ],
          [
           null
          ]
         ],
         "hovertemplate": "%{customdata[0]}",
         "legendgroup": "0.4583333333333286",
         "line": {
          "color": "#ff0600",
          "dash": "solid",
          "width": 5
         },
         "marker": {
          "symbol": "circle"
         },
         "mode": "lines",
         "name": "",
         "orientation": "v",
         "showlegend": true,
         "type": "scatter",
         "x": [
          "2023-06-21T00:00:00",
          "2023-06-22T23:00:00",
          null,
          "2023-07-23T00:00:00",
          "2023-07-24T23:00:00",
          null
         ],
         "xaxis": "x",
         "y": [
          7.5949989313955975,
          7.605043812780509,
          null,
          7.759136567642659,
          7.76918144902757,
          null
         ],
         "yaxis": "y"
        },
        {
         "customdata": [
          [
           "Date Range: 2023-06-23 to 2023-06-30 <br>Cumulative Progress: 71.5% <br>Level: L8"
          ],
          [
           "Date Range: 2023-06-23 to 2023-06-30<br>Progress in period: 0.12% <br>Cumulative Progress: 71.62% <br>Level: L8"
          ],
          [
           null
          ]
         ],
         "hovertemplate": "%{customdata[0]}",
         "legendgroup": "0.125",
         "line": {
          "color": "#ff0200",
          "dash": "solid",
          "width": 5
         },
         "marker": {
          "symbol": "circle"
         },
         "mode": "lines",
         "name": "",
         "orientation": "v",
         "showlegend": true,
         "type": "scatter",
         "x": [
          "2023-06-23T00:00:00",
          "2023-06-30T23:00:00",
          null
         ],
         "xaxis": "x",
         "y": [
          7.605257533661039,
          7.646078221842274,
          null
         ],
         "yaxis": "y"
        },
        {
         "customdata": [
          [
           "Date Range: 2023-07-29 to 2023-08-03 <br>Cumulative Progress: 72.08% <br>Level: L8"
          ],
          [
           "Date Range: 2023-07-29 to 2023-08-03<br>Progress in period: 1.17% <br>Cumulative Progress: 73.25% <br>Level: L8"
          ],
          [
           null
          ]
         ],
         "hovertemplate": "%{customdata[0]}",
         "legendgroup": "1.1666666666666714",
         "line": {
          "color": "#ff1000",
          "dash": "solid",
          "width": 5
         },
         "marker": {
          "symbol": "circle"
         },
         "mode": "lines",
         "name": "",
         "orientation": "v",
         "showlegend": true,
         "type": "scatter",
         "x": [
          "2023-07-29T00:00:00",
          "2023-08-03T23:00:00",
          null
         ],
         "xaxis": "x",
         "y": [
          7.789912374438982,
          7.8204744603547764,
          null
         ],
         "yaxis": "y"
        },
        {
         "customdata": [
          [
           "Date Range: 2023-08-04 to 2023-08-10 <br>Cumulative Progress: 73.25% <br>Level: L8"
          ],
          [
           "Date Range: 2023-08-04 to 2023-08-10<br>Progress in period: 10.58% <br>Cumulative Progress: 83.83% <br>Level: L8"
          ],
          [
           null
          ]
         ],
         "hovertemplate": "%{customdata[0]}",
         "legendgroup": "10.583333333333329",
         "line": {
          "color": "#ff9600",
          "dash": "solid",
          "width": 5
         },
         "marker": {
          "symbol": "circle"
         },
         "mode": "lines",
         "name": "",
         "orientation": "v",
         "showlegend": true,
         "type": "scatter",
         "x": [
          "2023-08-04T00:00:00",
          "2023-08-10T23:00:00",
          null
         ],
         "xaxis": "x",
         "y": [
          7.820688181235306,
          7.856379568283821,
          null
         ],
         "yaxis": "y"
        },
        {
         "customdata": [
          [
           "Date Range: 2023-09-01 to 2023-09-07 <br>Cumulative Progress: 83.83% <br>Level: L8"
          ],
          [
           "Date Range: 2023-09-01 to 2023-09-07<br>Progress in period: 15.88% <br>Cumulative Progress: 99.71% <br>Level: L8"
          ],
          [
           null
          ]
         ],
         "hovertemplate": "%{customdata[0]}",
         "legendgroup": "15.875",
         "line": {
          "color": "#f3d500",
          "dash": "solid",
          "width": 5
         },
         "marker": {
          "symbol": "circle"
         },
         "mode": "lines",
         "name": "",
         "orientation": "v",
         "showlegend": true,
         "type": "scatter",
         "x": [
          "2023-09-01T00:00:00",
          "2023-09-07T23:00:00",
          null
         ],
         "xaxis": "x",
         "y": [
          7.964308612951485,
          8,
          null
         ],
         "yaxis": "y"
        },
        {
         "hoverinfo": "none",
         "legendgroup": "",
         "line": {
          "color": "black",
          "dash": "solid",
          "width": 5
         },
         "marker": {
          "symbol": "circle"
         },
         "mode": "lines",
         "name": "",
         "opacity": 0.05,
         "orientation": "v",
         "showlegend": false,
         "type": "scatter",
         "x": [
          null,
          null,
          null,
          null,
          null,
          null,
          null,
          null,
          null,
          null,
          null,
          null,
          null,
          null,
          null,
          null,
          null,
          null,
          null,
          null,
          null,
          null,
          null,
          null
         ],
         "xaxis": "x",
         "y": [
          0,
          0,
          null,
          1,
          1,
          null,
          2,
          2,
          null,
          3,
          3,
          null,
          4,
          4,
          null,
          5,
          5,
          null,
          6,
          6,
          null,
          7,
          7,
          null
         ],
         "yaxis": "y"
        },
        {
         "hoverinfo": "none",
         "legendgroup": "",
         "line": {
          "color": "black",
          "dash": "solid",
          "width": 5
         },
         "marker": {
          "symbol": "circle"
         },
         "mode": "lines",
         "name": "",
         "opacity": 0.05,
         "orientation": "v",
         "showlegend": false,
         "type": "scatter",
         "x": [
          "2023-03-17T00:00:00",
          "2023-08-17T23:00:00",
          null,
          "2023-06-06T00:00:00",
          "2023-08-03T23:00:00",
          null,
          "2023-06-10T00:00:00",
          "2023-08-17T23:00:00",
          null,
          "2023-06-23T00:00:00",
          "2023-08-17T23:00:00",
          null,
          "2023-07-07T00:00:00",
          "2023-08-17T23:00:00",
          null,
          "2023-07-23T00:00:00",
          "2023-08-10T23:00:00",
          null,
          "2023-07-29T00:00:00",
          "2023-08-17T23:00:00",
          null,
          "2023-08-04T00:00:00",
          "2023-09-07T23:00:00",
          null
         ],
         "xaxis": "x",
         "y": [
          0,
          1,
          null,
          1,
          2,
          null,
          2,
          3,
          null,
          3,
          4,
          null,
          4,
          5,
          null,
          5,
          6,
          null,
          6,
          7,
          null,
          7,
          8,
          null
         ],
         "yaxis": "y"
        },
        {
         "customdata": [
          [
           "Date Range: 2023-03-17 to 2023-03-20 <br>Cumulative Progress: 2.25% <br>Level: L1"
          ],
          [
           "Date Range: 2023-03-17 to 2023-03-20<br>Progress in period: 3.04% <br>Cumulative Progress: 5.29% <br>Level: L1"
          ],
          [
           null
          ],
          [
           "Date Range: 2023-03-21 to 2023-03-23 <br>Cumulative Progress: 5.29% <br>Level: L1"
          ],
          [
           "Date Range: 2023-03-21 to 2023-03-23<br>Progress in period: 3.04% <br>Cumulative Progress: 8.33% <br>Level: L1"
          ],
          [
           null
          ]
         ],
         "hovertemplate": "%{customdata[0]}",
         "legendgroup": "3.041666666666667",
         "line": {
          "color": "#ff2b00",
          "dash": "solid",
          "width": 5
         },
         "marker": {
          "symbol": "circle"
         },
         "mode": "lines",
         "name": "",
         "orientation": "v",
         "showlegend": true,
         "type": "scatter",
         "x": [
          "2023-03-17T00:00:00",
          "2023-03-20T23:00:00",
          null,
          "2023-03-21T00:00:00",
          "2023-03-23T23:00:00",
          null
         ],
         "xaxis": "x",
         "y": [
          0,
          0.02571041948579161,
          null,
          0.02598105548037889,
          0.04519621109607578,
          null
         ],
         "yaxis": "y"
        },
        {
         "customdata": [
          [
           "Date Range: 2023-03-31 to 2023-03-31 <br>Cumulative Progress: 8.33% <br>Level: L1"
          ],
          [
           "Date Range: 2023-03-31 to 2023-03-31<br>Progress in period: 4.67% <br>Cumulative Progress: 13.0% <br>Level: L1"
          ],
          [
           null
          ]
         ],
         "hovertemplate": "%{customdata[0]}",
         "legendgroup": "4.666666666666666",
         "line": {
          "color": "#ff4200",
          "dash": "solid",
          "width": 5
         },
         "marker": {
          "symbol": "circle"
         },
         "mode": "lines",
         "name": "",
         "orientation": "v",
         "showlegend": true,
         "type": "scatter",
         "x": [
          "2023-03-31T00:00:00",
          "2023-03-31T23:00:00",
          null
         ],
         "xaxis": "x",
         "y": [
          0.09093369418132612,
          0.09715832205683356,
          null
         ],
         "yaxis": "y"
        },
        {
         "customdata": [
          [
           "Date Range: 2023-04-01 to 2023-04-04 <br>Cumulative Progress: 13.0% <br>Level: L1"
          ],
          [
           "Date Range: 2023-04-01 to 2023-04-04<br>Progress in period: 2.5% <br>Cumulative Progress: 15.5% <br>Level: L1"
          ],
          [
           null
          ]
         ],
         "hovertemplate": "%{customdata[0]}",
         "legendgroup": "2.5",
         "line": {
          "color": "#ff2300",
          "dash": "solid",
          "width": 5
         },
         "marker": {
          "symbol": "circle"
         },
         "mode": "lines",
         "name": "",
         "orientation": "v",
         "showlegend": true,
         "type": "scatter",
         "x": [
          "2023-04-01T00:00:00",
          "2023-04-04T23:00:00",
          null
         ],
         "xaxis": "x",
         "y": [
          0.09742895805142084,
          0.12313937753721245,
          null
         ],
         "yaxis": "y"
        },
        {
         "customdata": [
          [
           "Date Range: 2023-04-05 to 2023-04-06 <br>Cumulative Progress: 15.5% <br>Level: L1"
          ],
          [
           "Date Range: 2023-04-05 to 2023-04-06<br>Progress in period: 1.08% <br>Cumulative Progress: 16.58% <br>Level: L1"
          ],
          [
           null
          ]
         ],
         "hovertemplate": "%{customdata[0]}",
         "legendgroup": "1.0833333333333321",
         "line": {
          "color": "#ff0f00",
          "dash": "solid",
          "width": 5
         },
         "marker": {
          "symbol": "circle"
         },
         "mode": "lines",
         "name": "",
         "orientation": "v",
         "showlegend": true,
         "type": "scatter",
         "x": [
          "2023-04-05T00:00:00",
          "2023-04-06T23:00:00",
          null
         ],
         "xaxis": "x",
         "y": [
          0.12341001353179973,
          0.1361299052774019,
          null
         ],
         "yaxis": "y"
        },
        {
         "customdata": [
          [
           "Date Range: 2023-04-13 to 2023-04-15 <br>Cumulative Progress: 16.58% <br>Level: L1"
          ],
          [
           "Date Range: 2023-04-13 to 2023-04-15<br>Progress in period: 0.08% <br>Cumulative Progress: 16.67% <br>Level: L1"
          ],
          [
           null
          ]
         ],
         "hovertemplate": "%{customdata[0]}",
         "legendgroup": "0.0833333333333357",
         "line": {
          "color": "#ff0100",
          "dash": "solid",
          "width": 5
         },
         "marker": {
          "symbol": "circle"
         },
         "mode": "lines",
         "name": "",
         "orientation": "v",
         "showlegend": true,
         "type": "scatter",
         "x": [
          "2023-04-13T00:00:00",
          "2023-04-15T23:00:00",
          null
         ],
         "xaxis": "x",
         "y": [
          0.1753721244925575,
          0.1945872801082544,
          null
         ],
         "yaxis": "y"
        },
        {
         "customdata": [
          [
           "Date Range: 2023-05-14 to 2023-05-18 <br>Cumulative Progress: 16.67% <br>Level: L1"
          ],
          [
           "Date Range: 2023-05-14 to 2023-05-18<br>Progress in period: 4.12% <br>Cumulative Progress: 20.79% <br>Level: L1"
          ],
          [
           null
          ]
         ],
         "hovertemplate": "%{customdata[0]}",
         "legendgroup": "4.125",
         "line": {
          "color": "#ff3a00",
          "dash": "solid",
          "width": 5
         },
         "marker": {
          "symbol": "circle"
         },
         "mode": "lines",
         "name": "",
         "orientation": "v",
         "showlegend": true,
         "type": "scatter",
         "x": [
          "2023-05-14T00:00:00",
          "2023-05-18T23:00:00",
          null
         ],
         "xaxis": "x",
         "y": [
          0.3767253044654939,
          0.40893098782138027,
          null
         ],
         "yaxis": "y"
        },
        {
         "customdata": [
          [
           "Date Range: 2023-06-06 to 2023-06-07 <br>Cumulative Progress: 20.79% <br>Level: L1"
          ],
          [
           "Date Range: 2023-06-06 to 2023-06-07<br>Progress in period: 40.79% <br>Cumulative Progress: 61.58% <br>Level: L1"
          ],
          [
           null
          ]
         ],
         "hovertemplate": "%{customdata[0]}",
         "legendgroup": "40.79166666666667",
         "line": {
          "color": "#34eb00",
          "dash": "solid",
          "width": 5
         },
         "marker": {
          "symbol": "circle"
         },
         "mode": "lines",
         "name": "",
         "orientation": "v",
         "showlegend": true,
         "type": "scatter",
         "x": [
          "2023-06-06T00:00:00",
          "2023-06-07T23:00:00",
          null
         ],
         "xaxis": "x",
         "y": [
          0.5261163734776725,
          0.5388362652232747,
          null
         ],
         "yaxis": "y"
        },
        {
         "customdata": [
          [
           "Date Range: 2023-06-21 to 2023-06-22 <br>Cumulative Progress: 61.58% <br>Level: L1"
          ],
          [
           "Date Range: 2023-06-21 to 2023-06-22<br>Progress in period: 0.54% <br>Cumulative Progress: 62.12% <br>Level: L1"
          ],
          [
           null
          ]
         ],
         "hovertemplate": "%{customdata[0]}",
         "legendgroup": "0.5416666666666643",
         "line": {
          "color": "#ff0800",
          "dash": "solid",
          "width": 5
         },
         "marker": {
          "symbol": "circle"
         },
         "mode": "lines",
         "name": "",
         "orientation": "v",
         "showlegend": true,
         "type": "scatter",
         "x": [
          "2023-06-21T00:00:00",
          "2023-06-22T23:00:00",
          null
         ],
         "xaxis": "x",
         "y": [
          0.6235453315290934,
          0.6362652232746955,
          null
         ],
         "yaxis": "y"
        },
        {
         "customdata": [
          [
           "Date Range: 2023-06-23 to 2023-06-30 <br>Cumulative Progress: 62.12% <br>Level: L1"
          ],
          [
           "Date Range: 2023-06-23 to 2023-06-30<br>Progress in period: 3.58% <br>Cumulative Progress: 65.71% <br>Level: L1"
          ],
          [
           null
          ]
         ],
         "hovertemplate": "%{customdata[0]}",
         "legendgroup": "3.5833333333333286",
         "line": {
          "color": "#ff3300",
          "dash": "solid",
          "width": 5
         },
         "marker": {
          "symbol": "circle"
         },
         "mode": "lines",
         "name": "",
         "orientation": "v",
         "showlegend": true,
         "type": "scatter",
         "x": [
          "2023-06-23T00:00:00",
          "2023-06-30T23:00:00",
          null
         ],
         "xaxis": "x",
         "y": [
          0.6365358592692828,
          0.6882273342354533,
          null
         ],
         "yaxis": "y"
        },
        {
         "customdata": [
          [
           "Date Range: 2023-07-01 to 2023-07-06 <br>Cumulative Progress: 65.71% <br>Level: L1"
          ],
          [
           "Date Range: 2023-07-01 to 2023-07-06<br>Progress in period: 0.12% <br>Cumulative Progress: 65.83% <br>Level: L1"
          ],
          [
           null
          ],
          [
           "Date Range: 2023-08-11 to 2023-08-17 <br>Cumulative Progress: 99.75% <br>Level: L1"
          ],
          [
           "Date Range: 2023-08-11 to 2023-08-17<br>Progress in period: 0.12% <br>Cumulative Progress: 99.88% <br>Level: L1"
          ],
          [
           null
          ]
         ],
         "hovertemplate": "%{customdata[0]}",
         "legendgroup": "0.125",
         "line": {
          "color": "#ff0200",
          "dash": "solid",
          "width": 5
         },
         "marker": {
          "symbol": "circle"
         },
         "mode": "lines",
         "name": "",
         "orientation": "v",
         "showlegend": true,
         "type": "scatter",
         "x": [
          "2023-07-01T00:00:00",
          "2023-07-06T23:00:00",
          null,
          "2023-08-11T00:00:00",
          "2023-08-17T23:00:00",
          null
         ],
         "xaxis": "x",
         "y": [
          0.6884979702300406,
          0.7271989174560216,
          null,
          0.9548037889039243,
          1,
          null
         ],
         "yaxis": "y"
        },
        {
         "customdata": [
          [
           "Date Range: 2023-07-07 to 2023-07-13 <br>Cumulative Progress: 65.83% <br>Level: L1"
          ],
          [
           "Date Range: 2023-07-07 to 2023-07-13<br>Progress in period: 0.46% <br>Cumulative Progress: 66.29% <br>Level: L1"
          ],
          [
           null
          ]
         ],
         "hovertemplate": "%{customdata[0]}",
         "legendgroup": "0.4583333333333428",
         "line": {
          "color": "#ff0600",
          "dash": "solid",
          "width": 5
         },
         "marker": {
          "symbol": "circle"
         },
         "mode": "lines",
         "name": "",
         "orientation": "v",
         "showlegend": true,
         "type": "scatter",
         "x": [
          "2023-07-07T00:00:00",
          "2023-07-13T23:00:00",
          null
         ],
         "xaxis": "x",
         "y": [
          0.7274695534506089,
          0.7726657645466847,
          null
         ],
         "yaxis": "y"
        },
        {
         "customdata": [
          [
           "Date Range: 2023-07-28 to 2023-07-28 <br>Cumulative Progress: 66.29% <br>Level: L1"
          ],
          [
           "Date Range: 2023-07-28 to 2023-07-28<br>Progress in period: 20.0% <br>Cumulative Progress: 86.29% <br>Level: L1"
          ],
          [
           null
          ]
         ],
         "hovertemplate": "%{customdata[0]}",
         "legendgroup": "20.0",
         "line": {
          "color": "#bbdc00",
          "dash": "solid",
          "width": 5
         },
         "marker": {
          "symbol": "circle"
         },
         "mode": "lines",
         "name": "",
         "orientation": "v",
         "showlegend": true,
         "type": "scatter",
         "x": [
          "2023-07-28T00:00:00",
          "2023-07-28T23:00:00",
          null
         ],
         "xaxis": "x",
         "y": [
          0.8638700947225981,
          0.8700947225981055,
          null
         ],
         "yaxis": "y"
        },
        {
         "customdata": [
          [
           "Date Range: 2023-07-29 to 2023-08-03 <br>Cumulative Progress: 86.29% <br>Level: L1"
          ],
          [
           "Date Range: 2023-07-29 to 2023-08-03<br>Progress in period: 13.29% <br>Cumulative Progress: 99.58% <br>Level: L1"
          ],
          [
           null
          ]
         ],
         "hovertemplate": "%{customdata[0]}",
         "legendgroup": "13.291666666666657",
         "line": {
          "color": "#ffbc00",
          "dash": "solid",
          "width": 5
         },
         "marker": {
          "symbol": "circle"
         },
         "mode": "lines",
         "name": "",
         "orientation": "v",
         "showlegend": true,
         "type": "scatter",
         "x": [
          "2023-07-29T00:00:00",
          "2023-08-03T23:00:00",
          null
         ],
         "xaxis": "x",
         "y": [
          0.8703653585926928,
          0.9090663058186739,
          null
         ],
         "yaxis": "y"
        },
        {
         "customdata": [
          [
           "Date Range: 2023-08-04 to 2023-08-10 <br>Cumulative Progress: 99.58% <br>Level: L1"
          ],
          [
           "Date Range: 2023-08-04 to 2023-08-10<br>Progress in period: 0.17% <br>Cumulative Progress: 99.75% <br>Level: L1"
          ],
          [
           null
          ]
         ],
         "hovertemplate": "%{customdata[0]}",
         "legendgroup": "0.1666666666666714",
         "line": {
          "color": "#ff0200",
          "dash": "solid",
          "width": 5
         },
         "marker": {
          "symbol": "circle"
         },
         "mode": "lines",
         "name": "",
         "orientation": "v",
         "showlegend": true,
         "type": "scatter",
         "x": [
          "2023-08-04T00:00:00",
          "2023-08-10T23:00:00",
          null
         ],
         "xaxis": "x",
         "y": [
          0.9093369418132612,
          0.9545331529093369,
          null
         ],
         "yaxis": "y"
        },
        {
         "customdata": [
          [
           "Date Range: 2023-06-06 to 2023-06-07 <br>Cumulative Progress: 0.0% <br>Level: L2"
          ],
          [
           "Date Range: 2023-06-06 to 2023-06-07<br>Progress in period: 50.96% <br>Cumulative Progress: 50.96% <br>Level: L2"
          ],
          [
           null
          ]
         ],
         "hovertemplate": "%{customdata[0]}",
         "legendgroup": "50.958333333333336",
         "line": {
          "color": "#34eb00",
          "dash": "solid",
          "width": 5
         },
         "marker": {
          "symbol": "circle"
         },
         "mode": "lines",
         "name": "",
         "orientation": "v",
         "showlegend": true,
         "type": "scatter",
         "x": [
          "2023-06-06T00:00:00",
          "2023-06-07T23:00:00",
          null
         ],
         "xaxis": "x",
         "y": [
          1,
          1.0332155477031801,
          null
         ],
         "yaxis": "y"
        },
        {
         "customdata": [
          [
           "Date Range: 2023-06-10 to 2023-06-15 <br>Cumulative Progress: 50.96% <br>Level: L2"
          ],
          [
           "Date Range: 2023-06-10 to 2023-06-15<br>Progress in period: 18.79% <br>Cumulative Progress: 69.75% <br>Level: L2"
          ],
          [
           null
          ]
         ],
         "hovertemplate": "%{customdata[0]}",
         "legendgroup": "18.791666666666664",
         "line": {
          "color": "#ccda00",
          "dash": "solid",
          "width": 5
         },
         "marker": {
          "symbol": "circle"
         },
         "mode": "lines",
         "name": "",
         "orientation": "v",
         "showlegend": true,
         "type": "scatter",
         "x": [
          "2023-06-10T00:00:00",
          "2023-06-15T23:00:00",
          null
         ],
         "xaxis": "x",
         "y": [
          1.0678445229681979,
          1.1689045936395759,
          null
         ],
         "yaxis": "y"
        },
        {
         "customdata": [
          [
           "Date Range: 2023-06-21 to 2023-06-22 <br>Cumulative Progress: 69.75% <br>Level: L2"
          ],
          [
           "Date Range: 2023-06-21 to 2023-06-22<br>Progress in period: 0.67% <br>Cumulative Progress: 70.42% <br>Level: L2"
          ],
          [
           null
          ]
         ],
         "hovertemplate": "%{customdata[0]}",
         "legendgroup": "0.6666666666666714",
         "line": {
          "color": "#ff0900",
          "dash": "solid",
          "width": 5
         },
         "marker": {
          "symbol": "circle"
         },
         "mode": "lines",
         "name": "",
         "orientation": "v",
         "showlegend": true,
         "type": "scatter",
         "x": [
          "2023-06-21T00:00:00",
          "2023-06-22T23:00:00",
          null
         ],
         "xaxis": "x",
         "y": [
          1.254416961130742,
          1.2876325088339222,
          null
         ],
         "yaxis": "y"
        },
        {
         "customdata": [
          [
           "Date Range: 2023-06-23 to 2023-06-30 <br>Cumulative Progress: 70.42% <br>Level: L2"
          ],
          [
           "Date Range: 2023-06-23 to 2023-06-30<br>Progress in period: 6.58% <br>Cumulative Progress: 77.0% <br>Level: L2"
          ],
          [
           null
          ]
         ],
         "hovertemplate": "%{customdata[0]}",
         "legendgroup": "6.583333333333329",
         "line": {
          "color": "#ff5d00",
          "dash": "solid",
          "width": 5
         },
         "marker": {
          "symbol": "circle"
         },
         "mode": "lines",
         "name": "",
         "orientation": "v",
         "showlegend": true,
         "type": "scatter",
         "x": [
          "2023-06-23T00:00:00",
          "2023-06-30T23:00:00",
          null
         ],
         "xaxis": "x",
         "y": [
          1.288339222614841,
          1.423321554770318,
          null
         ],
         "yaxis": "y"
        },
        {
         "customdata": [
          [
           "Date Range: 2023-07-01 to 2023-07-06 <br>Cumulative Progress: 77.0% <br>Level: L2"
          ],
          [
           "Date Range: 2023-07-01 to 2023-07-06<br>Progress in period: 2.96% <br>Cumulative Progress: 79.96% <br>Level: L2"
          ],
          [
           null
          ]
         ],
         "hovertemplate": "%{customdata[0]}",
         "legendgroup": "2.9583333333333286",
         "line": {
          "color": "#ff2a00",
          "dash": "solid",
          "width": 5
         },
         "marker": {
          "symbol": "circle"
         },
         "mode": "lines",
         "name": "",
         "orientation": "v",
         "showlegend": true,
         "type": "scatter",
         "x": [
          "2023-07-01T00:00:00",
          "2023-07-06T23:00:00",
          null
         ],
         "xaxis": "x",
         "y": [
          1.4240282685512367,
          1.5250883392226149,
          null
         ],
         "yaxis": "y"
        },
        {
         "customdata": [
          [
           "Date Range: 2023-07-07 to 2023-07-13 <br>Cumulative Progress: 79.96% <br>Level: L2"
          ],
          [
           "Date Range: 2023-07-07 to 2023-07-13<br>Progress in period: 1.42% <br>Cumulative Progress: 81.38% <br>Level: L2"
          ],
          [
           null
          ]
         ],
         "hovertemplate": "%{customdata[0]}",
         "legendgroup": "1.4166666666666714",
         "line": {
          "color": "#ff1400",
          "dash": "solid",
          "width": 5
         },
         "marker": {
          "symbol": "circle"
         },
         "mode": "lines",
         "name": "",
         "orientation": "v",
         "showlegend": true,
         "type": "scatter",
         "x": [
          "2023-07-07T00:00:00",
          "2023-07-13T23:00:00",
          null
         ],
         "xaxis": "x",
         "y": [
          1.5257950530035336,
          1.643816254416961,
          null
         ],
         "yaxis": "y"
        },
        {
         "customdata": [
          [
           "Date Range: 2023-07-28 to 2023-07-28 <br>Cumulative Progress: 81.38% <br>Level: L2"
          ],
          [
           "Date Range: 2023-07-28 to 2023-07-28<br>Progress in period: 8.54% <br>Cumulative Progress: 89.92% <br>Level: L2"
          ],
          [
           null
          ]
         ],
         "hovertemplate": "%{customdata[0]}",
         "legendgroup": "8.541666666666671",
         "line": {
          "color": "#ff7900",
          "dash": "solid",
          "width": 5
         },
         "marker": {
          "symbol": "circle"
         },
         "mode": "lines",
         "name": "",
         "orientation": "v",
         "showlegend": true,
         "type": "scatter",
         "x": [
          "2023-07-28T00:00:00",
          "2023-07-28T23:00:00",
          null
         ],
         "xaxis": "x",
         "y": [
          1.8819787985865726,
          1.898233215547703,
          null
         ],
         "yaxis": "y"
        },
        {
         "customdata": [
          [
           "Date Range: 2023-07-29 to 2023-08-03 <br>Cumulative Progress: 89.92% <br>Level: L2"
          ],
          [
           "Date Range: 2023-07-29 to 2023-08-03<br>Progress in period: 9.54% <br>Cumulative Progress: 99.46% <br>Level: L2"
          ],
          [
           null
          ]
         ],
         "hovertemplate": "%{customdata[0]}",
         "legendgroup": "9.541666666666657",
         "line": {
          "color": "#ff8700",
          "dash": "solid",
          "width": 5
         },
         "marker": {
          "symbol": "circle"
         },
         "mode": "lines",
         "name": "",
         "orientation": "v",
         "showlegend": true,
         "type": "scatter",
         "x": [
          "2023-07-29T00:00:00",
          "2023-08-03T23:00:00",
          null
         ],
         "xaxis": "x",
         "y": [
          1.898939929328622,
          2,
          null
         ],
         "yaxis": "y"
        },
        {
         "customdata": [
          [
           "Date Range: 2023-06-10 to 2023-06-15 <br>Cumulative Progress: 0.0% <br>Level: L3"
          ],
          [
           "Date Range: 2023-06-10 to 2023-06-15<br>Progress in period: 34.92% <br>Cumulative Progress: 34.92% <br>Level: L3"
          ],
          [
           null
          ]
         ],
         "hovertemplate": "%{customdata[0]}",
         "legendgroup": "34.916666666666664",
         "line": {
          "color": "#34eb00",
          "dash": "solid",
          "width": 5
         },
         "marker": {
          "symbol": "circle"
         },
         "mode": "lines",
         "name": "",
         "orientation": "v",
         "showlegend": true,
         "type": "scatter",
         "x": [
          "2023-06-10T00:00:00",
          "2023-06-15T23:00:00",
          null
         ],
         "xaxis": "x",
         "y": [
          2,
          2.086404833836858,
          null
         ],
         "yaxis": "y"
        },
        {
         "customdata": [
          [
           "Date Range: 2023-06-23 to 2023-06-30 <br>Cumulative Progress: 34.92% <br>Level: L3"
          ],
          [
           "Date Range: 2023-06-23 to 2023-06-30<br>Progress in period: 22.42% <br>Cumulative Progress: 57.33% <br>Level: L3"
          ],
          [
           null
          ]
         ],
         "hovertemplate": "%{customdata[0]}",
         "legendgroup": "22.41666666666667",
         "line": {
          "color": "#9bdf00",
          "dash": "solid",
          "width": 5
         },
         "marker": {
          "symbol": "circle"
         },
         "mode": "lines",
         "name": "",
         "orientation": "v",
         "showlegend": true,
         "type": "scatter",
         "x": [
          "2023-06-23T00:00:00",
          "2023-06-30T23:00:00",
          null
         ],
         "xaxis": "x",
         "y": [
          2.1885196374622358,
          2.30392749244713,
          null
         ],
         "yaxis": "y"
        },
        {
         "customdata": [
          [
           "Date Range: 2023-07-07 to 2023-07-13 <br>Cumulative Progress: 57.33% <br>Level: L3"
          ],
          [
           "Date Range: 2023-07-07 to 2023-07-13<br>Progress in period: 2.46% <br>Cumulative Progress: 59.79% <br>Level: L3"
          ],
          [
           null
          ]
         ],
         "hovertemplate": "%{customdata[0]}",
         "legendgroup": "2.4583333333333286",
         "line": {
          "color": "#ff2300",
          "dash": "solid",
          "width": 5
         },
         "marker": {
          "symbol": "circle"
         },
         "mode": "lines",
         "name": "",
         "orientation": "v",
         "showlegend": true,
         "type": "scatter",
         "x": [
          "2023-07-07T00:00:00",
          "2023-07-13T23:00:00",
          null
         ],
         "xaxis": "x",
         "y": [
          2.3915407854984894,
          2.4924471299093653,
          null
         ],
         "yaxis": "y"
        },
        {
         "customdata": [
          [
           "Date Range: 2023-07-23 to 2023-07-24 <br>Cumulative Progress: 59.79% <br>Level: L3"
          ],
          [
           "Date Range: 2023-07-23 to 2023-07-24<br>Progress in period: 0.17% <br>Cumulative Progress: 59.96% <br>Level: L3"
          ],
          [
           null
          ]
         ],
         "hovertemplate": "%{customdata[0]}",
         "legendgroup": "0.1666666666666714",
         "line": {
          "color": "#ff0200",
          "dash": "solid",
          "width": 5
         },
         "marker": {
          "symbol": "circle"
         },
         "mode": "lines",
         "name": "",
         "orientation": "v",
         "showlegend": true,
         "type": "scatter",
         "x": [
          "2023-07-23T00:00:00",
          "2023-07-24T23:00:00",
          null
         ],
         "xaxis": "x",
         "y": [
          2.6235649546827795,
          2.651963746223565,
          null
         ],
         "yaxis": "y"
        },
        {
         "customdata": [
          [
           "Date Range: 2023-07-28 to 2023-07-28 <br>Cumulative Progress: 59.96% <br>Level: L3"
          ],
          [
           "Date Range: 2023-07-28 to 2023-07-28<br>Progress in period: 23.42% <br>Cumulative Progress: 83.38% <br>Level: L3"
          ],
          [
           null
          ]
         ],
         "hovertemplate": "%{customdata[0]}",
         "legendgroup": "23.416666666666664",
         "line": {
          "color": "#8de100",
          "dash": "solid",
          "width": 5
         },
         "marker": {
          "symbol": "circle"
         },
         "mode": "lines",
         "name": "",
         "orientation": "v",
         "showlegend": true,
         "type": "scatter",
         "x": [
          "2023-07-28T00:00:00",
          "2023-07-28T23:00:00",
          null
         ],
         "xaxis": "x",
         "y": [
          2.69607250755287,
          2.709969788519637,
          null
         ],
         "yaxis": "y"
        },
        {
         "customdata": [
          [
           "Date Range: 2023-07-29 to 2023-08-03 <br>Cumulative Progress: 83.38% <br>Level: L3"
          ],
          [
           "Date Range: 2023-07-29 to 2023-08-03<br>Progress in period: 16.12% <br>Cumulative Progress: 99.5% <br>Level: L3"
          ],
          [
           null
          ]
         ],
         "hovertemplate": "%{customdata[0]}",
         "legendgroup": "16.125",
         "line": {
          "color": "#f0d600",
          "dash": "solid",
          "width": 5
         },
         "marker": {
          "symbol": "circle"
         },
         "mode": "lines",
         "name": "",
         "orientation": "v",
         "showlegend": true,
         "type": "scatter",
         "x": [
          "2023-07-29T00:00:00",
          "2023-08-03T23:00:00",
          null
         ],
         "xaxis": "x",
         "y": [
          2.7105740181268883,
          2.796978851963746,
          null
         ],
         "yaxis": "y"
        },
        {
         "customdata": [
          [
           "Date Range: 2023-08-04 to 2023-08-10 <br>Cumulative Progress: 99.5% <br>Level: L3"
          ],
          [
           "Date Range: 2023-08-04 to 2023-08-10<br>Progress in period: 0.21% <br>Cumulative Progress: 99.71% <br>Level: L3"
          ],
          [
           null
          ]
         ],
         "hovertemplate": "%{customdata[0]}",
         "legendgroup": "0.2083333333333286",
         "line": {
          "color": "#ff0300",
          "dash": "solid",
          "width": 5
         },
         "marker": {
          "symbol": "circle"
         },
         "mode": "lines",
         "name": "",
         "orientation": "v",
         "showlegend": true,
         "type": "scatter",
         "x": [
          "2023-08-04T00:00:00",
          "2023-08-10T23:00:00",
          null
         ],
         "xaxis": "x",
         "y": [
          2.797583081570997,
          2.898489425981873,
          null
         ],
         "yaxis": "y"
        },
        {
         "customdata": [
          [
           "Date Range: 2023-08-11 to 2023-08-17 <br>Cumulative Progress: 99.71% <br>Level: L3"
          ],
          [
           "Date Range: 2023-08-11 to 2023-08-17<br>Progress in period: 0.12% <br>Cumulative Progress: 99.83% <br>Level: L3"
          ],
          [
           null
          ]
         ],
         "hovertemplate": "%{customdata[0]}",
         "legendgroup": "0.125",
         "line": {
          "color": "#ff0200",
          "dash": "solid",
          "width": 5
         },
         "marker": {
          "symbol": "circle"
         },
         "mode": "lines",
         "name": "",
         "orientation": "v",
         "showlegend": true,
         "type": "scatter",
         "x": [
          "2023-08-11T00:00:00",
          "2023-08-17T23:00:00",
          null
         ],
         "xaxis": "x",
         "y": [
          2.899093655589124,
          3,
          null
         ],
         "yaxis": "y"
        },
        {
         "customdata": [
          [
           "Date Range: 2023-06-23 to 2023-06-30 <br>Cumulative Progress: 0.0% <br>Level: L4"
          ],
          [
           "Date Range: 2023-06-23 to 2023-06-30<br>Progress in period: 28.29% <br>Cumulative Progress: 28.29% <br>Level: L4"
          ],
          [
           null
          ]
         ],
         "hovertemplate": "%{customdata[0]}",
         "legendgroup": "28.291666666666668",
         "line": {
          "color": "#4be800",
          "dash": "solid",
          "width": 5
         },
         "marker": {
          "symbol": "circle"
         },
         "mode": "lines",
         "name": "",
         "orientation": "v",
         "showlegend": true,
         "type": "scatter",
         "x": [
          "2023-06-23T00:00:00",
          "2023-06-30T23:00:00",
          null
         ],
         "xaxis": "x",
         "y": [
          3,
          3.1422189128816083,
          null
         ],
         "yaxis": "y"
        },
        {
         "customdata": [
          [
           "Date Range: 2023-07-01 to 2023-07-06 <br>Cumulative Progress: 28.29% <br>Level: L4"
          ],
          [
           "Date Range: 2023-07-01 to 2023-07-06<br>Progress in period: 29.96% <br>Cumulative Progress: 58.25% <br>Level: L4"
          ],
          [
           null
          ]
         ],
         "hovertemplate": "%{customdata[0]}",
         "legendgroup": "29.958333333333332",
         "line": {
          "color": "#35eb00",
          "dash": "solid",
          "width": 5
         },
         "marker": {
          "symbol": "circle"
         },
         "mode": "lines",
         "name": "",
         "orientation": "v",
         "showlegend": true,
         "type": "scatter",
         "x": [
          "2023-07-01T00:00:00",
          "2023-07-06T23:00:00",
          null
         ],
         "xaxis": "x",
         "y": [
          3.142963514519732,
          3.2494415487714075,
          null
         ],
         "yaxis": "y"
        },
        {
         "customdata": [
          [
           "Date Range: 2023-07-07 to 2023-07-13 <br>Cumulative Progress: 58.25% <br>Level: L4"
          ],
          [
           "Date Range: 2023-07-07 to 2023-07-13<br>Progress in period: 15.58% <br>Cumulative Progress: 73.83% <br>Level: L4"
          ],
          [
           null
          ]
         ],
         "hovertemplate": "%{customdata[0]}",
         "legendgroup": "15.583333333333329",
         "line": {
          "color": "#f7d500",
          "dash": "solid",
          "width": 5
         },
         "marker": {
          "symbol": "circle"
         },
         "mode": "lines",
         "name": "",
         "orientation": "v",
         "showlegend": true,
         "type": "scatter",
         "x": [
          "2023-07-07T00:00:00",
          "2023-07-13T23:00:00",
          null
         ],
         "xaxis": "x",
         "y": [
          3.250186150409531,
          3.3745346239761727,
          null
         ],
         "yaxis": "y"
        },
        {
         "customdata": [
          [
           "Date Range: 2023-07-28 to 2023-07-28 <br>Cumulative Progress: 73.83% <br>Level: L4"
          ],
          [
           "Date Range: 2023-07-28 to 2023-07-28<br>Progress in period: 15.21% <br>Cumulative Progress: 89.04% <br>Level: L4"
          ],
          [
           null
          ]
         ],
         "hovertemplate": "%{customdata[0]}",
         "legendgroup": "15.208333333333343",
         "line": {
          "color": "#fcd400",
          "dash": "solid",
          "width": 5
         },
         "marker": {
          "symbol": "circle"
         },
         "mode": "lines",
         "name": "",
         "orientation": "v",
         "showlegend": true,
         "type": "scatter",
         "x": [
          "2023-07-28T00:00:00",
          "2023-07-28T23:00:00",
          null
         ],
         "xaxis": "x",
         "y": [
          3.6254653760238273,
          3.64259121370067,
          null
         ],
         "yaxis": "y"
        },
        {
         "customdata": [
          [
           "Date Range: 2023-07-29 to 2023-08-03 <br>Cumulative Progress: 89.04% <br>Level: L4"
          ],
          [
           "Date Range: 2023-07-29 to 2023-08-03<br>Progress in period: 10.54% <br>Cumulative Progress: 99.58% <br>Level: L4"
          ],
          [
           null
          ]
         ],
         "hovertemplate": "%{customdata[0]}",
         "legendgroup": "10.541666666666657",
         "line": {
          "color": "#ff9500",
          "dash": "solid",
          "width": 5
         },
         "marker": {
          "symbol": "circle"
         },
         "mode": "lines",
         "name": "",
         "orientation": "v",
         "showlegend": true,
         "type": "scatter",
         "x": [
          "2023-07-29T00:00:00",
          "2023-08-03T23:00:00",
          null
         ],
         "xaxis": "x",
         "y": [
          3.643335815338794,
          3.749813849590469,
          null
         ],
         "yaxis": "y"
        },
        {
         "customdata": [
          [
           "Date Range: 2023-08-04 to 2023-08-10 <br>Cumulative Progress: 99.58% <br>Level: L4"
          ],
          [
           "Date Range: 2023-08-04 to 2023-08-10<br>Progress in period: 0.17% <br>Cumulative Progress: 99.75% <br>Level: L4"
          ],
          [
           null
          ]
         ],
         "hovertemplate": "%{customdata[0]}",
         "legendgroup": "0.1666666666666714",
         "line": {
          "color": "#ff0200",
          "dash": "solid",
          "width": 5
         },
         "marker": {
          "symbol": "circle"
         },
         "mode": "lines",
         "name": "",
         "orientation": "v",
         "showlegend": true,
         "type": "scatter",
         "x": [
          "2023-08-04T00:00:00",
          "2023-08-10T23:00:00",
          null
         ],
         "xaxis": "x",
         "y": [
          3.7505584512285925,
          3.8749069247952344,
          null
         ],
         "yaxis": "y"
        },
        {
         "customdata": [
          [
           "Date Range: 2023-08-11 to 2023-08-17 <br>Cumulative Progress: 99.75% <br>Level: L4"
          ],
          [
           "Date Range: 2023-08-11 to 2023-08-17<br>Progress in period: 0.12% <br>Cumulative Progress: 99.88% <br>Level: L4"
          ],
          [
           null
          ]
         ],
         "hovertemplate": "%{customdata[0]}",
         "legendgroup": "0.125",
         "line": {
          "color": "#ff0200",
          "dash": "solid",
          "width": 5
         },
         "marker": {
          "symbol": "circle"
         },
         "mode": "lines",
         "name": "",
         "orientation": "v",
         "showlegend": true,
         "type": "scatter",
         "x": [
          "2023-08-11T00:00:00",
          "2023-08-17T23:00:00",
          null
         ],
         "xaxis": "x",
         "y": [
          3.875651526433358,
          4,
          null
         ],
         "yaxis": "y"
        },
        {
         "customdata": [
          [
           "Date Range: 2023-07-07 to 2023-07-13 <br>Cumulative Progress: 0.0% <br>Level: L5"
          ],
          [
           "Date Range: 2023-07-07 to 2023-07-13<br>Progress in period: 28.08% <br>Cumulative Progress: 28.08% <br>Level: L5"
          ],
          [
           null
          ]
         ],
         "hovertemplate": "%{customdata[0]}",
         "legendgroup": "28.083333333333332",
         "line": {
          "color": "#4ee800",
          "dash": "solid",
          "width": 5
         },
         "marker": {
          "symbol": "circle"
         },
         "mode": "lines",
         "name": "",
         "orientation": "v",
         "showlegend": true,
         "type": "scatter",
         "x": [
          "2023-07-07T00:00:00",
          "2023-07-13T23:00:00",
          null
         ],
         "xaxis": "x",
         "y": [
          4,
          4.16583912611718,
          null
         ],
         "yaxis": "y"
        },
        {
         "customdata": [
          [
           "Date Range: 2023-07-23 to 2023-07-24 <br>Cumulative Progress: 28.08% <br>Level: L5"
          ],
          [
           "Date Range: 2023-07-23 to 2023-07-24<br>Progress in period: 45.12% <br>Cumulative Progress: 73.21% <br>Level: L5"
          ],
          [
           null
          ]
         ],
         "hovertemplate": "%{customdata[0]}",
         "legendgroup": "45.125",
         "line": {
          "color": "#34eb00",
          "dash": "solid",
          "width": 5
         },
         "marker": {
          "symbol": "circle"
         },
         "mode": "lines",
         "name": "",
         "orientation": "v",
         "showlegend": true,
         "type": "scatter",
         "x": [
          "2023-07-23T00:00:00",
          "2023-07-24T23:00:00",
          null
         ],
         "xaxis": "x",
         "y": [
          4.381330685203575,
          4.428003972194637,
          null
         ],
         "yaxis": "y"
        },
        {
         "customdata": [
          [
           "Date Range: 2023-07-28 to 2023-07-28 <br>Cumulative Progress: 73.21% <br>Level: L5"
          ],
          [
           "Date Range: 2023-07-28 to 2023-07-28<br>Progress in period: 1.75% <br>Cumulative Progress: 74.96% <br>Level: L5"
          ],
          [
           null
          ]
         ],
         "hovertemplate": "%{customdata[0]}",
         "legendgroup": "1.75",
         "line": {
          "color": "#ff1900",
          "dash": "solid",
          "width": 5
         },
         "marker": {
          "symbol": "circle"
         },
         "mode": "lines",
         "name": "",
         "orientation": "v",
         "showlegend": true,
         "type": "scatter",
         "x": [
          "2023-07-28T00:00:00",
          "2023-07-28T23:00:00",
          null
         ],
         "xaxis": "x",
         "y": [
          4.500496524329693,
          4.523336643495531,
          null
         ],
         "yaxis": "y"
        },
        {
         "customdata": [
          [
           "Date Range: 2023-07-29 to 2023-08-03 <br>Cumulative Progress: 74.96% <br>Level: L5"
          ],
          [
           "Date Range: 2023-07-29 to 2023-08-03<br>Progress in period: 16.08% <br>Cumulative Progress: 91.04% <br>Level: L5"
          ],
          [
           null
          ]
         ],
         "hovertemplate": "%{customdata[0]}",
         "legendgroup": "16.083333333333343",
         "line": {
          "color": "#f0d600",
          "dash": "solid",
          "width": 5
         },
         "marker": {
          "symbol": "circle"
         },
         "mode": "lines",
         "name": "",
         "orientation": "v",
         "showlegend": true,
         "type": "scatter",
         "x": [
          "2023-07-29T00:00:00",
          "2023-08-03T23:00:00",
          null
         ],
         "xaxis": "x",
         "y": [
          4.524329692154915,
          4.666335650446872,
          null
         ],
         "yaxis": "y"
        },
        {
         "customdata": [
          [
           "Date Range: 2023-08-04 to 2023-08-10 <br>Cumulative Progress: 91.04% <br>Level: L5"
          ],
          [
           "Date Range: 2023-08-04 to 2023-08-10<br>Progress in period: 7.88% <br>Cumulative Progress: 98.92% <br>Level: L5"
          ],
          [
           null
          ]
         ],
         "hovertemplate": "%{customdata[0]}",
         "legendgroup": "7.875",
         "line": {
          "color": "#ff6f00",
          "dash": "solid",
          "width": 5
         },
         "marker": {
          "symbol": "circle"
         },
         "mode": "lines",
         "name": "",
         "orientation": "v",
         "showlegend": true,
         "type": "scatter",
         "x": [
          "2023-08-04T00:00:00",
          "2023-08-10T23:00:00",
          null
         ],
         "xaxis": "x",
         "y": [
          4.667328699106256,
          4.833167825223436,
          null
         ],
         "yaxis": "y"
        },
        {
         "customdata": [
          [
           "Date Range: 2023-08-11 to 2023-08-17 <br>Cumulative Progress: 98.92% <br>Level: L5"
          ],
          [
           "Date Range: 2023-08-11 to 2023-08-17<br>Progress in period: 0.33% <br>Cumulative Progress: 99.25% <br>Level: L5"
          ],
          [
           null
          ]
         ],
         "hovertemplate": "%{customdata[0]}",
         "legendgroup": "0.3333333333333286",
         "line": {
          "color": "#ff0500",
          "dash": "solid",
          "width": 5
         },
         "marker": {
          "symbol": "circle"
         },
         "mode": "lines",
         "name": "",
         "orientation": "v",
         "showlegend": true,
         "type": "scatter",
         "x": [
          "2023-08-11T00:00:00",
          "2023-08-17T23:00:00",
          null
         ],
         "xaxis": "x",
         "y": [
          4.83416087388282,
          5,
          null
         ],
         "yaxis": "y"
        },
        {
         "customdata": [
          [
           "Date Range: 2023-07-23 to 2023-07-24 <br>Cumulative Progress: 0.0% <br>Level: L6"
          ],
          [
           "Date Range: 2023-07-23 to 2023-07-24<br>Progress in period: 36.67% <br>Cumulative Progress: 36.67% <br>Level: L6"
          ],
          [
           null
          ]
         ],
         "hovertemplate": "%{customdata[0]}",
         "legendgroup": "36.666666666666664",
         "line": {
          "color": "#34eb00",
          "dash": "solid",
          "width": 5
         },
         "marker": {
          "symbol": "circle"
         },
         "mode": "lines",
         "name": "",
         "orientation": "v",
         "showlegend": true,
         "type": "scatter",
         "x": [
          "2023-07-23T00:00:00",
          "2023-07-24T23:00:00",
          null
         ],
         "xaxis": "x",
         "y": [
          5,
          5.103296703296703,
          null
         ],
         "yaxis": "y"
        },
        {
         "customdata": [
          [
           "Date Range: 2023-07-28 to 2023-07-28 <br>Cumulative Progress: 36.67% <br>Level: L6"
          ],
          [
           "Date Range: 2023-07-28 to 2023-07-28<br>Progress in period: 11.88% <br>Cumulative Progress: 48.54% <br>Level: L6"
          ],
          [
           null
          ]
         ],
         "hovertemplate": "%{customdata[0]}",
         "legendgroup": "11.875",
         "line": {
          "color": "#ffa800",
          "dash": "solid",
          "width": 5
         },
         "marker": {
          "symbol": "circle"
         },
         "mode": "lines",
         "name": "",
         "orientation": "v",
         "showlegend": true,
         "type": "scatter",
         "x": [
          "2023-07-28T00:00:00",
          "2023-07-28T23:00:00",
          null
         ],
         "xaxis": "x",
         "y": [
          5.263736263736264,
          5.314285714285714,
          null
         ],
         "yaxis": "y"
        },
        {
         "customdata": [
          [
           "Date Range: 2023-07-29 to 2023-08-03 <br>Cumulative Progress: 48.54% <br>Level: L6"
          ],
          [
           "Date Range: 2023-07-29 to 2023-08-03<br>Progress in period: 50.38% <br>Cumulative Progress: 98.92% <br>Level: L6"
          ],
          [
           null
          ]
         ],
         "hovertemplate": "%{customdata[0]}",
         "legendgroup": "50.37500000000001",
         "line": {
          "color": "#34eb00",
          "dash": "solid",
          "width": 5
         },
         "marker": {
          "symbol": "circle"
         },
         "mode": "lines",
         "name": "",
         "orientation": "v",
         "showlegend": true,
         "type": "scatter",
         "x": [
          "2023-07-29T00:00:00",
          "2023-08-03T23:00:00",
          null
         ],
         "xaxis": "x",
         "y": [
          5.316483516483516,
          5.63076923076923,
          null
         ],
         "yaxis": "y"
        },
        {
         "customdata": [
          [
           "Date Range: 2023-08-04 to 2023-08-10 <br>Cumulative Progress: 98.92% <br>Level: L6"
          ],
          [
           "Date Range: 2023-08-04 to 2023-08-10<br>Progress in period: 0.04% <br>Cumulative Progress: 98.96% <br>Level: L6"
          ],
          [
           null
          ]
         ],
         "hovertemplate": "%{customdata[0]}",
         "legendgroup": "0.04166666666665719",
         "line": {
          "color": "#ff0100",
          "dash": "solid",
          "width": 5
         },
         "marker": {
          "symbol": "circle"
         },
         "mode": "lines",
         "name": "",
         "orientation": "v",
         "showlegend": true,
         "type": "scatter",
         "x": [
          "2023-08-04T00:00:00",
          "2023-08-10T23:00:00",
          null
         ],
         "xaxis": "x",
         "y": [
          5.6329670329670325,
          6,
          null
         ],
         "yaxis": "y"
        },
        {
         "customdata": [
          [
           "Date Range: 2023-07-29 to 2023-08-03 <br>Cumulative Progress: 0.0% <br>Level: L7"
          ],
          [
           "Date Range: 2023-07-29 to 2023-08-03<br>Progress in period: 22.21% <br>Cumulative Progress: 22.21% <br>Level: L7"
          ],
          [
           null
          ]
         ],
         "hovertemplate": "%{customdata[0]}",
         "legendgroup": "22.208333333333332",
         "line": {
          "color": "#9ddf00",
          "dash": "solid",
          "width": 5
         },
         "marker": {
          "symbol": "circle"
         },
         "mode": "lines",
         "name": "",
         "orientation": "v",
         "showlegend": true,
         "type": "scatter",
         "x": [
          "2023-07-29T00:00:00",
          "2023-08-03T23:00:00",
          null
         ],
         "xaxis": "x",
         "y": [
          6,
          6.298538622129437,
          null
         ],
         "yaxis": "y"
        },
        {
         "customdata": [
          [
           "Date Range: 2023-08-04 to 2023-08-10 <br>Cumulative Progress: 22.21% <br>Level: L7"
          ],
          [
           "Date Range: 2023-08-04 to 2023-08-10<br>Progress in period: 23.04% <br>Cumulative Progress: 45.25% <br>Level: L7"
          ],
          [
           null
          ]
         ],
         "hovertemplate": "%{customdata[0]}",
         "legendgroup": "23.041666666666668",
         "line": {
          "color": "#92e000",
          "dash": "solid",
          "width": 5
         },
         "marker": {
          "symbol": "circle"
         },
         "mode": "lines",
         "name": "",
         "orientation": "v",
         "showlegend": true,
         "type": "scatter",
         "x": [
          "2023-08-04T00:00:00",
          "2023-08-10T23:00:00",
          null
         ],
         "xaxis": "x",
         "y": [
          6.30062630480167,
          6.649269311064718,
          null
         ],
         "yaxis": "y"
        },
        {
         "customdata": [
          [
           "Date Range: 2023-08-11 to 2023-08-17 <br>Cumulative Progress: 45.25% <br>Level: L7"
          ],
          [
           "Date Range: 2023-08-11 to 2023-08-17<br>Progress in period: 53.62% <br>Cumulative Progress: 98.88% <br>Level: L7"
          ],
          [
           null
          ]
         ],
         "hovertemplate": "%{customdata[0]}",
         "legendgroup": "53.625",
         "line": {
          "color": "#34eb00",
          "dash": "solid",
          "width": 5
         },
         "marker": {
          "symbol": "circle"
         },
         "mode": "lines",
         "name": "",
         "orientation": "v",
         "showlegend": true,
         "type": "scatter",
         "x": [
          "2023-08-11T00:00:00",
          "2023-08-17T23:00:00",
          null
         ],
         "xaxis": "x",
         "y": [
          6.651356993736952,
          7,
          null
         ],
         "yaxis": "y"
        },
        {
         "customdata": [
          [
           "Date Range: 2023-08-04 to 2023-08-10 <br>Cumulative Progress: 0.0% <br>Level: L8"
          ],
          [
           "Date Range: 2023-08-04 to 2023-08-10<br>Progress in period: 15.04% <br>Cumulative Progress: 15.04% <br>Level: L8"
          ],
          [
           null
          ]
         ],
         "hovertemplate": "%{customdata[0]}",
         "legendgroup": "15.041666666666666",
         "line": {
          "color": "#fed400",
          "dash": "solid",
          "width": 5
         },
         "marker": {
          "symbol": "circle"
         },
         "mode": "lines",
         "name": "",
         "orientation": "v",
         "showlegend": true,
         "type": "scatter",
         "x": [
          "2023-08-04T00:00:00",
          "2023-08-10T23:00:00",
          null
         ],
         "xaxis": "x",
         "y": [
          7,
          7.199046483909416,
          null
         ],
         "yaxis": "y"
        },
        {
         "customdata": [
          [
           "Date Range: 2023-09-01 to 2023-09-07 <br>Cumulative Progress: 15.04% <br>Level: L8"
          ],
          [
           "Date Range: 2023-09-01 to 2023-09-07<br>Progress in period: 83.08% <br>Cumulative Progress: 98.12% <br>Level: L8"
          ],
          [
           null
          ]
         ],
         "hovertemplate": "%{customdata[0]}",
         "legendgroup": "83.08333333333333",
         "line": {
          "color": "#34eb00",
          "dash": "solid",
          "width": 5
         },
         "marker": {
          "symbol": "circle"
         },
         "mode": "lines",
         "name": "",
         "orientation": "v",
         "showlegend": true,
         "type": "scatter",
         "x": [
          "2023-09-01T00:00:00",
          "2023-09-07T23:00:00",
          null
         ],
         "xaxis": "x",
         "y": [
          7.800953516090584,
          8,
          null
         ],
         "yaxis": "y"
        },
        {
         "hoverinfo": "none",
         "legendgroup": "",
         "line": {
          "color": "black",
          "dash": "solid",
          "width": 5
         },
         "marker": {
          "symbol": "circle"
         },
         "mode": "lines",
         "name": "",
         "opacity": 0.05,
         "orientation": "v",
         "showlegend": false,
         "type": "scatter",
         "x": [
          "2023-03-31T00:00:00",
          "2023-07-13T23:00:00",
          null,
          "2023-06-23T00:00:00",
          "2023-08-03T23:00:00",
          null,
          "2023-07-07T00:00:00",
          "2023-08-10T23:00:00",
          null,
          "2023-07-29T00:00:00",
          "2023-08-17T23:00:00",
          null,
          "2023-07-29T00:00:00",
          "2023-09-07T23:00:00",
          null,
          "2023-08-04T00:00:00",
          "2023-09-14T23:00:00",
          null,
          "2023-08-11T00:00:00",
          "2023-09-14T23:00:00",
          null,
          "2023-09-01T00:00:00",
          "2023-09-14T23:00:00",
          null
         ],
         "xaxis": "x",
         "y": [
          0,
          1,
          null,
          1,
          2,
          null,
          2,
          3,
          null,
          3,
          4,
          null,
          4,
          5,
          null,
          5,
          6,
          null,
          6,
          6.543069030732861,
          null,
          7,
          7.171688193409505,
          null
         ],
         "yaxis": "y"
        },
        {
         "customdata": [
          [
           "Date Range: 2023-03-31 to 2023-03-31 <br>Cumulative Progress: 1.61% <br>Level: L1"
          ],
          [
           "Date Range: 2023-03-31 to 2023-03-31<br>Progress in period: 9.5% <br>Cumulative Progress: 11.11% <br>Level: L1"
          ],
          [
           null
          ]
         ],
         "hovertemplate": "%{customdata[0]}",
         "legendgroup": "9.5",
         "line": {
          "color": "#ff8600",
          "dash": "solid",
          "width": 5
         },
         "marker": {
          "symbol": "circle"
         },
         "mode": "lines",
         "name": "",
         "orientation": "v",
         "showlegend": true,
         "type": "scatter",
         "x": [
          "2023-03-31T00:00:00",
          "2023-03-31T23:00:00",
          null
         ],
         "xaxis": "x",
         "y": [
          0,
          0.009130607383882492,
          null
         ],
         "yaxis": "y"
        },
        {
         "customdata": [
          [
           "Date Range: 2023-04-05 to 2023-04-06 <br>Cumulative Progress: 11.11% <br>Level: L1"
          ],
          [
           "Date Range: 2023-04-05 to 2023-04-06<br>Progress in period: 5.56% <br>Cumulative Progress: 16.67% <br>Level: L1"
          ],
          [
           null
          ]
         ],
         "hovertemplate": "%{customdata[0]}",
         "legendgroup": "5.555555555555557",
         "line": {
          "color": "#ff4f00",
          "dash": "solid",
          "width": 5
         },
         "marker": {
          "symbol": "circle"
         },
         "mode": "lines",
         "name": "",
         "orientation": "v",
         "showlegend": true,
         "type": "scatter",
         "x": [
          "2023-04-05T00:00:00",
          "2023-04-06T23:00:00",
          null
         ],
         "xaxis": "x",
         "y": [
          0.04763795156808257,
          0.06629614926558158,
          null
         ],
         "yaxis": "y"
        },
        {
         "customdata": [
          [
           "Date Range: 2023-06-23 to 2023-06-30 <br>Cumulative Progress: 16.67% <br>Level: L1"
          ],
          [
           "Date Range: 2023-06-23 to 2023-06-30<br>Progress in period: 41.94% <br>Cumulative Progress: 58.61% <br>Level: L1"
          ],
          [
           null
          ]
         ],
         "hovertemplate": "%{customdata[0]}",
         "legendgroup": "41.94444444444444",
         "line": {
          "color": "#34eb00",
          "dash": "solid",
          "width": 5
         },
         "marker": {
          "symbol": "circle"
         },
         "mode": "lines",
         "name": "",
         "orientation": "v",
         "showlegend": true,
         "type": "scatter",
         "x": [
          "2023-06-23T00:00:00",
          "2023-06-30T23:00:00",
          null
         ],
         "xaxis": "x",
         "y": [
          0.8003175863437872,
          0.8761413259229853,
          null
         ],
         "yaxis": "y"
        },
        {
         "customdata": [
          [
           "Date Range: 2023-07-01 to 2023-07-06 <br>Cumulative Progress: 58.61% <br>Level: L1"
          ],
          [
           "Date Range: 2023-07-01 to 2023-07-06<br>Progress in period: 13.11% <br>Cumulative Progress: 71.72% <br>Level: L1"
          ],
          [
           null
          ]
         ],
         "hovertemplate": "%{customdata[0]}",
         "legendgroup": "13.111111111111114",
         "line": {
          "color": "#ffb900",
          "dash": "solid",
          "width": 5
         },
         "marker": {
          "symbol": "circle"
         },
         "mode": "lines",
         "name": "",
         "orientation": "v",
         "showlegend": true,
         "type": "scatter",
         "x": [
          "2023-07-01T00:00:00",
          "2023-07-06T23:00:00",
          null
         ],
         "xaxis": "x",
         "y": [
          0.8765383088527193,
          0.9333068678046844,
          null
         ],
         "yaxis": "y"
        },
        {
         "customdata": [
          [
           "Date Range: 2023-07-07 to 2023-07-13 <br>Cumulative Progress: 71.72% <br>Level: L1"
          ],
          [
           "Date Range: 2023-07-07 to 2023-07-13<br>Progress in period: 27.94% <br>Cumulative Progress: 99.67% <br>Level: L1"
          ],
          [
           null
          ]
         ],
         "hovertemplate": "%{customdata[0]}",
         "legendgroup": "27.944444444444443",
         "line": {
          "color": "#50e800",
          "dash": "solid",
          "width": 5
         },
         "marker": {
          "symbol": "circle"
         },
         "mode": "lines",
         "name": "",
         "orientation": "v",
         "showlegend": true,
         "type": "scatter",
         "x": [
          "2023-07-07T00:00:00",
          "2023-07-13T23:00:00",
          null
         ],
         "xaxis": "x",
         "y": [
          0.9337038507344184,
          1,
          null
         ],
         "yaxis": "y"
        },
        {
         "customdata": [
          [
           "Date Range: 2023-06-23 to 2023-06-30 <br>Cumulative Progress: 0.0% <br>Level: L2"
          ],
          [
           "Date Range: 2023-06-23 to 2023-06-30<br>Progress in period: 29.89% <br>Cumulative Progress: 29.89% <br>Level: L2"
          ],
          [
           null
          ]
         ],
         "hovertemplate": "%{customdata[0]}",
         "legendgroup": "29.88888888888889",
         "line": {
          "color": "#36eb00",
          "dash": "solid",
          "width": 5
         },
         "marker": {
          "symbol": "circle"
         },
         "mode": "lines",
         "name": "",
         "orientation": "v",
         "showlegend": true,
         "type": "scatter",
         "x": [
          "2023-06-23T00:00:00",
          "2023-06-30T23:00:00",
          null
         ],
         "xaxis": "x",
         "y": [
          1,
          1.1896722939424031,
          null
         ],
         "yaxis": "y"
        },
        {
         "customdata": [
          [
           "Date Range: 2023-07-01 to 2023-07-06 <br>Cumulative Progress: 29.89% <br>Level: L2"
          ],
          [
           "Date Range: 2023-07-01 to 2023-07-06<br>Progress in period: 20.5% <br>Cumulative Progress: 50.39% <br>Level: L2"
          ],
          [
           null
          ]
         ],
         "hovertemplate": "%{customdata[0]}",
         "legendgroup": "20.499999999999996",
         "line": {
          "color": "#b5dc00",
          "dash": "solid",
          "width": 5
         },
         "marker": {
          "symbol": "circle"
         },
         "mode": "lines",
         "name": "",
         "orientation": "v",
         "showlegend": true,
         "type": "scatter",
         "x": [
          "2023-07-01T00:00:00",
          "2023-07-06T23:00:00",
          null
         ],
         "xaxis": "x",
         "y": [
          1.1906653426017875,
          1.3326713008937439,
          null
         ],
         "yaxis": "y"
        },
        {
         "customdata": [
          [
           "Date Range: 2023-07-07 to 2023-07-13 <br>Cumulative Progress: 50.39% <br>Level: L2"
          ],
          [
           "Date Range: 2023-07-07 to 2023-07-13<br>Progress in period: 27.33% <br>Cumulative Progress: 77.72% <br>Level: L2"
          ],
          [
           null
          ]
         ],
         "hovertemplate": "%{customdata[0]}",
         "legendgroup": "27.333333333333343",
         "line": {
          "color": "#58e700",
          "dash": "solid",
          "width": 5
         },
         "marker": {
          "symbol": "circle"
         },
         "mode": "lines",
         "name": "",
         "orientation": "v",
         "showlegend": true,
         "type": "scatter",
         "x": [
          "2023-07-07T00:00:00",
          "2023-07-13T23:00:00",
          null
         ],
         "xaxis": "x",
         "y": [
          1.3336643495531282,
          1.4995034756703078,
          null
         ],
         "yaxis": "y"
        },
        {
         "customdata": [
          [
           "Date Range: 2023-07-28 to 2023-07-28 <br>Cumulative Progress: 77.72% <br>Level: L2"
          ],
          [
           "Date Range: 2023-07-28 to 2023-07-28<br>Progress in period: 0.06% <br>Cumulative Progress: 77.78% <br>Level: L2"
          ],
          [
           null
          ]
         ],
         "hovertemplate": "%{customdata[0]}",
         "legendgroup": "0.055555555555542924",
         "line": {
          "color": "#ff0100",
          "dash": "solid",
          "width": 5
         },
         "marker": {
          "symbol": "circle"
         },
         "mode": "lines",
         "name": "",
         "orientation": "v",
         "showlegend": true,
         "type": "scatter",
         "x": [
          "2023-07-28T00:00:00",
          "2023-07-28T23:00:00",
          null
         ],
         "xaxis": "x",
         "y": [
          1.8341608738828201,
          1.8570009930486595,
          null
         ],
         "yaxis": "y"
        },
        {
         "customdata": [
          [
           "Date Range: 2023-07-29 to 2023-08-03 <br>Cumulative Progress: 77.78% <br>Level: L2"
          ],
          [
           "Date Range: 2023-07-29 to 2023-08-03<br>Progress in period: 19.94% <br>Cumulative Progress: 97.72% <br>Level: L2"
          ],
          [
           null
          ]
         ],
         "hovertemplate": "%{customdata[0]}",
         "legendgroup": "19.944444444444457",
         "line": {
          "color": "#bcdc00",
          "dash": "solid",
          "width": 5
         },
         "marker": {
          "symbol": "circle"
         },
         "mode": "lines",
         "name": "",
         "orientation": "v",
         "showlegend": true,
         "type": "scatter",
         "x": [
          "2023-07-29T00:00:00",
          "2023-08-03T23:00:00",
          null
         ],
         "xaxis": "x",
         "y": [
          1.8579940417080438,
          2,
          null
         ],
         "yaxis": "y"
        },
        {
         "customdata": [
          [
           "Date Range: 2023-07-07 to 2023-07-13 <br>Cumulative Progress: 4.11% <br>Level: L3"
          ],
          [
           "Date Range: 2023-07-07 to 2023-07-13<br>Progress in period: 46.06% <br>Cumulative Progress: 50.17% <br>Level: L3"
          ],
          [
           null
          ]
         ],
         "hovertemplate": "%{customdata[0]}",
         "legendgroup": "46.05555555555556",
         "line": {
          "color": "#34eb00",
          "dash": "solid",
          "width": 5
         },
         "marker": {
          "symbol": "circle"
         },
         "mode": "lines",
         "name": "",
         "orientation": "v",
         "showlegend": true,
         "type": "scatter",
         "x": [
          "2023-07-07T00:00:00",
          "2023-07-13T23:00:00",
          null
         ],
         "xaxis": "x",
         "y": [
          2,
          2.199046483909416,
          null
         ],
         "yaxis": "y"
        },
        {
         "customdata": [
          [
           "Date Range: 2023-07-23 to 2023-07-24 <br>Cumulative Progress: 50.17% <br>Level: L3"
          ],
          [
           "Date Range: 2023-07-23 to 2023-07-24<br>Progress in period: 16.28% <br>Cumulative Progress: 66.44% <br>Level: L3"
          ],
          [
           null
          ]
         ],
         "hovertemplate": "%{customdata[0]}",
         "legendgroup": "16.27777777777778",
         "line": {
          "color": "#eed600",
          "dash": "solid",
          "width": 5
         },
         "marker": {
          "symbol": "circle"
         },
         "mode": "lines",
         "name": "",
         "orientation": "v",
         "showlegend": true,
         "type": "scatter",
         "x": [
          "2023-07-23T00:00:00",
          "2023-07-24T23:00:00",
          null
         ],
         "xaxis": "x",
         "y": [
          2.457687723480334,
          2.5137067938021453,
          null
         ],
         "yaxis": "y"
        },
        {
         "customdata": [
          [
           "Date Range: 2023-07-28 to 2023-07-28 <br>Cumulative Progress: 66.44% <br>Level: L3"
          ],
          [
           "Date Range: 2023-07-28 to 2023-07-28<br>Progress in period: 0.22% <br>Cumulative Progress: 66.67% <br>Level: L3"
          ],
          [
           null
          ]
         ],
         "hovertemplate": "%{customdata[0]}",
         "legendgroup": "0.22222222222222854",
         "line": {
          "color": "#ff0300",
          "dash": "solid",
          "width": 5
         },
         "marker": {
          "symbol": "circle"
         },
         "mode": "lines",
         "name": "",
         "orientation": "v",
         "showlegend": true,
         "type": "scatter",
         "x": [
          "2023-07-28T00:00:00",
          "2023-07-28T23:00:00",
          null
         ],
         "xaxis": "x",
         "y": [
          2.600715137067938,
          2.6281287246722287,
          null
         ],
         "yaxis": "y"
        },
        {
         "customdata": [
          [
           "Date Range: 2023-07-29 to 2023-08-03 <br>Cumulative Progress: 66.67% <br>Level: L3"
          ],
          [
           "Date Range: 2023-07-29 to 2023-08-03<br>Progress in period: 21.33% <br>Cumulative Progress: 88.0% <br>Level: L3"
          ],
          [
           null
          ]
         ],
         "hovertemplate": "%{customdata[0]}",
         "legendgroup": "21.33333333333333",
         "line": {
          "color": "#a9de00",
          "dash": "solid",
          "width": 5
         },
         "marker": {
          "symbol": "circle"
         },
         "mode": "lines",
         "name": "",
         "orientation": "v",
         "showlegend": true,
         "type": "scatter",
         "x": [
          "2023-07-29T00:00:00",
          "2023-08-03T23:00:00",
          null
         ],
         "xaxis": "x",
         "y": [
          2.629320619785459,
          2.799761620977354,
          null
         ],
         "yaxis": "y"
        },
        {
         "customdata": [
          [
           "Date Range: 2023-08-04 to 2023-08-10 <br>Cumulative Progress: 88.0% <br>Level: L3"
          ],
          [
           "Date Range: 2023-08-04 to 2023-08-10<br>Progress in period: 12.0% <br>Cumulative Progress: 100.0% <br>Level: L3"
          ],
          [
           null
          ]
         ],
         "hovertemplate": "%{customdata[0]}",
         "legendgroup": "12.0",
         "line": {
          "color": "#ffaa00",
          "dash": "solid",
          "width": 5
         },
         "marker": {
          "symbol": "circle"
         },
         "mode": "lines",
         "name": "",
         "orientation": "v",
         "showlegend": true,
         "type": "scatter",
         "x": [
          "2023-08-04T00:00:00",
          "2023-08-10T23:00:00",
          null
         ],
         "xaxis": "x",
         "y": [
          2.8009535160905843,
          3,
          null
         ],
         "yaxis": "y"
        },
        {
         "customdata": [
          [
           "Date Range: 2023-07-29 to 2023-08-03 <br>Cumulative Progress: 0.0% <br>Level: L4"
          ],
          [
           "Date Range: 2023-07-29 to 2023-08-03<br>Progress in period: 57.94% <br>Cumulative Progress: 57.94% <br>Level: L4"
          ],
          [
           null
          ]
         ],
         "hovertemplate": "%{customdata[0]}",
         "legendgroup": "57.94444444444444",
         "line": {
          "color": "#34eb00",
          "dash": "solid",
          "width": 5
         },
         "marker": {
          "symbol": "circle"
         },
         "mode": "lines",
         "name": "",
         "orientation": "v",
         "showlegend": true,
         "type": "scatter",
         "x": [
          "2023-07-29T00:00:00",
          "2023-08-03T23:00:00",
          null
         ],
         "xaxis": "x",
         "y": [
          3,
          3.298538622129436,
          null
         ],
         "yaxis": "y"
        },
        {
         "customdata": [
          [
           "Date Range: 2023-08-04 to 2023-08-10 <br>Cumulative Progress: 57.94% <br>Level: L4"
          ],
          [
           "Date Range: 2023-08-04 to 2023-08-10<br>Progress in period: 22.39% <br>Cumulative Progress: 80.33% <br>Level: L4"
          ],
          [
           null
          ]
         ],
         "hovertemplate": "%{customdata[0]}",
         "legendgroup": "22.388888888888886",
         "line": {
          "color": "#9bdf00",
          "dash": "solid",
          "width": 5
         },
         "marker": {
          "symbol": "circle"
         },
         "mode": "lines",
         "name": "",
         "orientation": "v",
         "showlegend": true,
         "type": "scatter",
         "x": [
          "2023-08-04T00:00:00",
          "2023-08-10T23:00:00",
          null
         ],
         "xaxis": "x",
         "y": [
          3.30062630480167,
          3.6492693110647183,
          null
         ],
         "yaxis": "y"
        },
        {
         "customdata": [
          [
           "Date Range: 2023-08-11 to 2023-08-17 <br>Cumulative Progress: 80.33% <br>Level: L4"
          ],
          [
           "Date Range: 2023-08-11 to 2023-08-17<br>Progress in period: 19.56% <br>Cumulative Progress: 99.89% <br>Level: L4"
          ],
          [
           null
          ]
         ],
         "hovertemplate": "%{customdata[0]}",
         "legendgroup": "19.555555555555557",
         "line": {
          "color": "#c1db00",
          "dash": "solid",
          "width": 5
         },
         "marker": {
          "symbol": "circle"
         },
         "mode": "lines",
         "name": "",
         "orientation": "v",
         "showlegend": true,
         "type": "scatter",
         "x": [
          "2023-08-11T00:00:00",
          "2023-08-17T23:00:00",
          null
         ],
         "xaxis": "x",
         "y": [
          3.651356993736952,
          4,
          null
         ],
         "yaxis": "y"
        },
        {
         "customdata": [
          [
           "Date Range: 2023-07-29 to 2023-08-03 <br>Cumulative Progress: 0.0% <br>Level: L5"
          ],
          [
           "Date Range: 2023-07-29 to 2023-08-03<br>Progress in period: 32.39% <br>Cumulative Progress: 32.39% <br>Level: L5"
          ],
          [
           null
          ]
         ],
         "hovertemplate": "%{customdata[0]}",
         "legendgroup": "32.388888888888886",
         "line": {
          "color": "#34eb00",
          "dash": "solid",
          "width": 5
         },
         "marker": {
          "symbol": "circle"
         },
         "mode": "lines",
         "name": "",
         "orientation": "v",
         "showlegend": true,
         "type": "scatter",
         "x": [
          "2023-07-29T00:00:00",
          "2023-08-03T23:00:00",
          null
         ],
         "xaxis": "x",
         "y": [
          4,
          4.145473041709054,
          null
         ],
         "yaxis": "y"
        },
        {
         "customdata": [
          [
           "Date Range: 2023-08-04 to 2023-08-10 <br>Cumulative Progress: 32.39% <br>Level: L5"
          ],
          [
           "Date Range: 2023-08-04 to 2023-08-10<br>Progress in period: 30.33% <br>Cumulative Progress: 62.72% <br>Level: L5"
          ],
          [
           null
          ]
         ],
         "hovertemplate": "%{customdata[0]}",
         "legendgroup": "30.333333333333336",
         "line": {
          "color": "#34eb00",
          "dash": "solid",
          "width": 5
         },
         "marker": {
          "symbol": "circle"
         },
         "mode": "lines",
         "name": "",
         "orientation": "v",
         "showlegend": true,
         "type": "scatter",
         "x": [
          "2023-08-04T00:00:00",
          "2023-08-10T23:00:00",
          null
         ],
         "xaxis": "x",
         "y": [
          4.1464903357070195,
          4.316378433367243,
          null
         ],
         "yaxis": "y"
        },
        {
         "customdata": [
          [
           "Date Range: 2023-08-11 to 2023-08-17 <br>Cumulative Progress: 62.72% <br>Level: L5"
          ],
          [
           "Date Range: 2023-08-11 to 2023-08-17<br>Progress in period: 3.78% <br>Cumulative Progress: 66.5% <br>Level: L5"
          ],
          [
           null
          ]
         ],
         "hovertemplate": "%{customdata[0]}",
         "legendgroup": "3.7777777777777786",
         "line": {
          "color": "#ff3500",
          "dash": "solid",
          "width": 5
         },
         "marker": {
          "symbol": "circle"
         },
         "mode": "lines",
         "name": "",
         "orientation": "v",
         "showlegend": true,
         "type": "scatter",
         "x": [
          "2023-08-11T00:00:00",
          "2023-08-17T23:00:00",
          null
         ],
         "xaxis": "x",
         "y": [
          4.317395727365208,
          4.4872838250254325,
          null
         ],
         "yaxis": "y"
        },
        {
         "customdata": [
          [
           "Date Range: 2023-09-01 to 2023-09-07 <br>Cumulative Progress: 66.5% <br>Level: L5"
          ],
          [
           "Date Range: 2023-09-01 to 2023-09-07<br>Progress in period: 33.33% <br>Cumulative Progress: 99.83% <br>Level: L5"
          ],
          [
           null
          ]
         ],
         "hovertemplate": "%{customdata[0]}",
         "legendgroup": "33.33333333333333",
         "line": {
          "color": "#34eb00",
          "dash": "solid",
          "width": 5
         },
         "marker": {
          "symbol": "circle"
         },
         "mode": "lines",
         "name": "",
         "orientation": "v",
         "showlegend": true,
         "type": "scatter",
         "x": [
          "2023-09-01T00:00:00",
          "2023-09-07T23:00:00",
          null
         ],
         "xaxis": "x",
         "y": [
          4.830111902339776,
          5,
          null
         ],
         "yaxis": "y"
        },
        {
         "customdata": [
          [
           "Date Range: 2023-08-04 to 2023-08-10 <br>Cumulative Progress: 0.0% <br>Level: L6"
          ],
          [
           "Date Range: 2023-08-04 to 2023-08-10<br>Progress in period: 19.17% <br>Cumulative Progress: 19.17% <br>Level: L6"
          ],
          [
           null
          ]
         ],
         "hovertemplate": "%{customdata[0]}",
         "legendgroup": "19.166666666666668",
         "line": {
          "color": "#c7da00",
          "dash": "solid",
          "width": 5
         },
         "marker": {
          "symbol": "circle"
         },
         "mode": "lines",
         "name": "",
         "orientation": "v",
         "showlegend": true,
         "type": "scatter",
         "x": [
          "2023-08-04T00:00:00",
          "2023-08-10T23:00:00",
          null
         ],
         "xaxis": "x",
         "y": [
          5,
          5.16583912611718,
          null
         ],
         "yaxis": "y"
        },
        {
         "customdata": [
          [
           "Date Range: 2023-08-11 to 2023-08-17 <br>Cumulative Progress: 19.17% <br>Level: L6"
          ],
          [
           "Date Range: 2023-08-11 to 2023-08-17<br>Progress in period: 22.44% <br>Cumulative Progress: 41.61% <br>Level: L6"
          ],
          [
           null
          ]
         ],
         "hovertemplate": "%{customdata[0]}",
         "legendgroup": "22.444444444444446",
         "line": {
          "color": "#9adf00",
          "dash": "solid",
          "width": 5
         },
         "marker": {
          "symbol": "circle"
         },
         "mode": "lines",
         "name": "",
         "orientation": "v",
         "showlegend": true,
         "type": "scatter",
         "x": [
          "2023-08-11T00:00:00",
          "2023-08-17T23:00:00",
          null
         ],
         "xaxis": "x",
         "y": [
          5.166832174776564,
          5.332671300893744,
          null
         ],
         "yaxis": "y"
        },
        {
         "customdata": [
          [
           "Date Range: 2023-09-01 to 2023-09-07 <br>Cumulative Progress: 41.61% <br>Level: L6"
          ],
          [
           "Date Range: 2023-09-01 to 2023-09-07<br>Progress in period: 24.06% <br>Cumulative Progress: 65.67% <br>Level: L6"
          ],
          [
           null
          ]
         ],
         "hovertemplate": "%{customdata[0]}",
         "legendgroup": "24.055555555555557",
         "line": {
          "color": "#84e200",
          "dash": "solid",
          "width": 5
         },
         "marker": {
          "symbol": "circle"
         },
         "mode": "lines",
         "name": "",
         "orientation": "v",
         "showlegend": true,
         "type": "scatter",
         "x": [
          "2023-09-01T00:00:00",
          "2023-09-07T23:00:00",
          null
         ],
         "xaxis": "x",
         "y": [
          5.667328699106256,
          5.833167825223436,
          null
         ],
         "yaxis": "y"
        },
        {
         "customdata": [
          [
           "Date Range: 2023-09-08 to 2023-09-14 <br>Cumulative Progress: 65.67% <br>Level: L6"
          ],
          [
           "Date Range: 2023-09-08 to 2023-09-14<br>Progress in period: 33.17% <br>Cumulative Progress: 98.83% <br>Level: L6"
          ],
          [
           null
          ]
         ],
         "hovertemplate": "%{customdata[0]}",
         "legendgroup": "33.16666666666666",
         "line": {
          "color": "#34eb00",
          "dash": "solid",
          "width": 5
         },
         "marker": {
          "symbol": "circle"
         },
         "mode": "lines",
         "name": "",
         "orientation": "v",
         "showlegend": true,
         "type": "scatter",
         "x": [
          "2023-09-08T00:00:00",
          "2023-09-14T23:00:00",
          null
         ],
         "xaxis": "x",
         "y": [
          5.83416087388282,
          6,
          null
         ],
         "yaxis": "y"
        },
        {
         "customdata": [
          [
           "Date Range: 2023-08-11 to 2023-08-17 <br>Cumulative Progress: 0.0% <br>Level: L7"
          ],
          [
           "Date Range: 2023-08-11 to 2023-08-17<br>Progress in period: 14.06% <br>Cumulative Progress: 14.06% <br>Level: L7"
          ],
          [
           null
          ]
         ],
         "hovertemplate": "%{customdata[0]}",
         "legendgroup": "14.055555555555555",
         "line": {
          "color": "#ffc700",
          "dash": "solid",
          "width": 5
         },
         "marker": {
          "symbol": "circle"
         },
         "mode": "lines",
         "name": "",
         "orientation": "v",
         "showlegend": true,
         "type": "scatter",
         "x": [
          "2023-08-11T00:00:00",
          "2023-08-17T23:00:00",
          null
         ],
         "xaxis": "x",
         "y": [
          6,
          6.1080959810876045,
          null
         ],
         "yaxis": "y"
        },
        {
         "customdata": [
          [
           "Date Range: 2023-09-01 to 2023-09-07 <br>Cumulative Progress: 14.06% <br>Level: L7"
          ],
          [
           "Date Range: 2023-09-01 to 2023-09-07<br>Progress in period: 30.39% <br>Cumulative Progress: 44.44% <br>Level: L7"
          ],
          [
           null
          ]
         ],
         "hovertemplate": "%{customdata[0]}",
         "legendgroup": "30.388888888888886",
         "line": {
          "color": "#34eb00",
          "dash": "solid",
          "width": 5
         },
         "marker": {
          "symbol": "circle"
         },
         "mode": "lines",
         "name": "",
         "orientation": "v",
         "showlegend": true,
         "type": "scatter",
         "x": [
          "2023-09-01T00:00:00",
          "2023-09-07T23:00:00",
          null
         ],
         "xaxis": "x",
         "y": [
          6.3262297872341415,
          6.434325768321415,
          null
         ],
         "yaxis": "y"
        },
        {
         "customdata": [
          [
           "Date Range: 2023-09-08 to 2023-09-14 <br>Cumulative Progress: 44.44% <br>Level: L7"
          ],
          [
           "Date Range: 2023-09-08 to 2023-09-14<br>Progress in period: 31.61% <br>Cumulative Progress: 76.06% <br>Level: L7"
          ],
          [
           null
          ]
         ],
         "hovertemplate": "%{customdata[0]}",
         "legendgroup": "31.611111111111114",
         "line": {
          "color": "#34eb00",
          "dash": "solid",
          "width": 5
         },
         "marker": {
          "symbol": "circle"
         },
         "mode": "lines",
         "name": "",
         "orientation": "v",
         "showlegend": true,
         "type": "scatter",
         "x": [
          "2023-09-08T00:00:00",
          "2023-09-14T23:00:00",
          null
         ],
         "xaxis": "x",
         "y": [
          6.434973049645412,
          6.543069030733015,
          null
         ],
         "yaxis": "y"
        },
        {
         "customdata": [
          [
           "Date Range: 2023-09-01 to 2023-09-07 <br>Cumulative Progress: 0.0% <br>Level: L8"
          ],
          [
           "Date Range: 2023-09-01 to 2023-09-07<br>Progress in period: 23.78% <br>Cumulative Progress: 23.78% <br>Level: L8"
          ],
          [
           null
          ]
         ],
         "hovertemplate": "%{customdata[0]}",
         "legendgroup": "23.77777777777778",
         "line": {
          "color": "#88e100",
          "dash": "solid",
          "width": 5
         },
         "marker": {
          "symbol": "circle"
         },
         "mode": "lines",
         "name": "",
         "orientation": "v",
         "showlegend": true,
         "type": "scatter",
         "x": [
          "2023-09-01T00:00:00",
          "2023-09-07T23:00:00",
          null
         ],
         "xaxis": "x",
         "y": [
          7,
          7.085587845669983,
          null
         ],
         "yaxis": "y"
        },
        {
         "customdata": [
          [
           "Date Range: 2023-09-08 to 2023-09-14 <br>Cumulative Progress: 23.78% <br>Level: L8"
          ],
          [
           "Date Range: 2023-09-08 to 2023-09-14<br>Progress in period: 10.61% <br>Cumulative Progress: 34.39% <br>Level: L8"
          ],
          [
           null
          ]
         ],
         "hovertemplate": "%{customdata[0]}",
         "legendgroup": "10.611111111111107",
         "line": {
          "color": "#ff9600",
          "dash": "solid",
          "width": 5
         },
         "marker": {
          "symbol": "circle"
         },
         "mode": "lines",
         "name": "",
         "orientation": "v",
         "showlegend": true,
         "type": "scatter",
         "x": [
          "2023-09-08T00:00:00",
          "2023-09-14T23:00:00",
          null
         ],
         "xaxis": "x",
         "y": [
          7.086100347739635,
          7.171688193409619,
          null
         ],
         "yaxis": "y"
        },
        {
         "hovertemplate": "x=%{x}<br>y=%{y}<br>color=%{marker.color}<extra></extra>",
         "legendgroup": "",
         "line": {
          "width": 5
         },
         "marker": {
          "color": [
           0,
           15,
           30
          ],
          "coloraxis": "coloraxis",
          "symbol": "circle"
         },
         "mode": "markers",
         "name": "",
         "orientation": "v",
         "showlegend": false,
         "type": "scatter",
         "x": [
          null,
          null,
          null
         ],
         "xaxis": "x",
         "y": [
          null,
          null,
          null
         ],
         "yaxis": "y"
        }
       ],
       "layout": {
        "coloraxis": {
         "colorbar": {
          "title": {
           "side": "top",
           "text": "Percentage progress (%)<br> <br>"
          }
         },
         "colorscale": [
          [
           0,
           "rgb(255,0,0)"
          ],
          [
           0.5,
           "rgb(255,212,0)"
          ],
          [
           1,
           "rgb(52,235,0)"
          ]
         ]
        },
        "height": 560,
        "legend": {
         "tracegroupgap": 0
        },
        "showlegend": false,
        "template": {
         "data": {
          "bar": [
           {
            "error_x": {
             "color": "rgb(36,36,36)"
            },
            "error_y": {
             "color": "rgb(36,36,36)"
            },
            "marker": {
             "line": {
              "color": "rgb(234,234,242)",
              "width": 0.5
             },
             "pattern": {
              "fillmode": "overlay",
              "size": 10,
              "solidity": 0.2
             }
            },
            "type": "bar"
           }
          ],
          "barpolar": [
           {
            "marker": {
             "line": {
              "color": "rgb(234,234,242)",
              "width": 0.5
             },
             "pattern": {
              "fillmode": "overlay",
              "size": 10,
              "solidity": 0.2
             }
            },
            "type": "barpolar"
           }
          ],
          "carpet": [
           {
            "aaxis": {
             "endlinecolor": "rgb(36,36,36)",
             "gridcolor": "white",
             "linecolor": "white",
             "minorgridcolor": "white",
             "startlinecolor": "rgb(36,36,36)"
            },
            "baxis": {
             "endlinecolor": "rgb(36,36,36)",
             "gridcolor": "white",
             "linecolor": "white",
             "minorgridcolor": "white",
             "startlinecolor": "rgb(36,36,36)"
            },
            "type": "carpet"
           }
          ],
          "choropleth": [
           {
            "colorbar": {
             "outlinewidth": 0,
             "tickcolor": "rgb(36,36,36)",
             "ticklen": 8,
             "ticks": "outside",
             "tickwidth": 2
            },
            "type": "choropleth"
           }
          ],
          "contour": [
           {
            "colorbar": {
             "outlinewidth": 0,
             "tickcolor": "rgb(36,36,36)",
             "ticklen": 8,
             "ticks": "outside",
             "tickwidth": 2
            },
            "colorscale": [
             [
              0,
              "rgb(2,4,25)"
             ],
             [
              0.06274509803921569,
              "rgb(24,15,41)"
             ],
             [
              0.12549019607843137,
              "rgb(47,23,57)"
             ],
             [
              0.18823529411764706,
              "rgb(71,28,72)"
             ],
             [
              0.25098039215686274,
              "rgb(97,30,82)"
             ],
             [
              0.3137254901960784,
              "rgb(123,30,89)"
             ],
             [
              0.3764705882352941,
              "rgb(150,27,91)"
             ],
             [
              0.4392156862745098,
              "rgb(177,22,88)"
             ],
             [
              0.5019607843137255,
              "rgb(203,26,79)"
             ],
             [
              0.5647058823529412,
              "rgb(223,47,67)"
             ],
             [
              0.6274509803921569,
              "rgb(236,76,61)"
             ],
             [
              0.6901960784313725,
              "rgb(242,107,73)"
             ],
             [
              0.7529411764705882,
              "rgb(244,135,95)"
             ],
             [
              0.8156862745098039,
              "rgb(245,162,122)"
             ],
             [
              0.8784313725490196,
              "rgb(246,188,153)"
             ],
             [
              0.9411764705882353,
              "rgb(247,212,187)"
             ],
             [
              1,
              "rgb(250,234,220)"
             ]
            ],
            "type": "contour"
           }
          ],
          "contourcarpet": [
           {
            "colorbar": {
             "outlinewidth": 0,
             "tickcolor": "rgb(36,36,36)",
             "ticklen": 8,
             "ticks": "outside",
             "tickwidth": 2
            },
            "type": "contourcarpet"
           }
          ],
          "heatmap": [
           {
            "colorbar": {
             "outlinewidth": 0,
             "tickcolor": "rgb(36,36,36)",
             "ticklen": 8,
             "ticks": "outside",
             "tickwidth": 2
            },
            "colorscale": [
             [
              0,
              "rgb(2,4,25)"
             ],
             [
              0.06274509803921569,
              "rgb(24,15,41)"
             ],
             [
              0.12549019607843137,
              "rgb(47,23,57)"
             ],
             [
              0.18823529411764706,
              "rgb(71,28,72)"
             ],
             [
              0.25098039215686274,
              "rgb(97,30,82)"
             ],
             [
              0.3137254901960784,
              "rgb(123,30,89)"
             ],
             [
              0.3764705882352941,
              "rgb(150,27,91)"
             ],
             [
              0.4392156862745098,
              "rgb(177,22,88)"
             ],
             [
              0.5019607843137255,
              "rgb(203,26,79)"
             ],
             [
              0.5647058823529412,
              "rgb(223,47,67)"
             ],
             [
              0.6274509803921569,
              "rgb(236,76,61)"
             ],
             [
              0.6901960784313725,
              "rgb(242,107,73)"
             ],
             [
              0.7529411764705882,
              "rgb(244,135,95)"
             ],
             [
              0.8156862745098039,
              "rgb(245,162,122)"
             ],
             [
              0.8784313725490196,
              "rgb(246,188,153)"
             ],
             [
              0.9411764705882353,
              "rgb(247,212,187)"
             ],
             [
              1,
              "rgb(250,234,220)"
             ]
            ],
            "type": "heatmap"
           }
          ],
          "heatmapgl": [
           {
            "colorbar": {
             "outlinewidth": 0,
             "tickcolor": "rgb(36,36,36)",
             "ticklen": 8,
             "ticks": "outside",
             "tickwidth": 2
            },
            "colorscale": [
             [
              0,
              "rgb(2,4,25)"
             ],
             [
              0.06274509803921569,
              "rgb(24,15,41)"
             ],
             [
              0.12549019607843137,
              "rgb(47,23,57)"
             ],
             [
              0.18823529411764706,
              "rgb(71,28,72)"
             ],
             [
              0.25098039215686274,
              "rgb(97,30,82)"
             ],
             [
              0.3137254901960784,
              "rgb(123,30,89)"
             ],
             [
              0.3764705882352941,
              "rgb(150,27,91)"
             ],
             [
              0.4392156862745098,
              "rgb(177,22,88)"
             ],
             [
              0.5019607843137255,
              "rgb(203,26,79)"
             ],
             [
              0.5647058823529412,
              "rgb(223,47,67)"
             ],
             [
              0.6274509803921569,
              "rgb(236,76,61)"
             ],
             [
              0.6901960784313725,
              "rgb(242,107,73)"
             ],
             [
              0.7529411764705882,
              "rgb(244,135,95)"
             ],
             [
              0.8156862745098039,
              "rgb(245,162,122)"
             ],
             [
              0.8784313725490196,
              "rgb(246,188,153)"
             ],
             [
              0.9411764705882353,
              "rgb(247,212,187)"
             ],
             [
              1,
              "rgb(250,234,220)"
             ]
            ],
            "type": "heatmapgl"
           }
          ],
          "histogram": [
           {
            "marker": {
             "pattern": {
              "fillmode": "overlay",
              "size": 10,
              "solidity": 0.2
             }
            },
            "type": "histogram"
           }
          ],
          "histogram2d": [
           {
            "colorbar": {
             "outlinewidth": 0,
             "tickcolor": "rgb(36,36,36)",
             "ticklen": 8,
             "ticks": "outside",
             "tickwidth": 2
            },
            "colorscale": [
             [
              0,
              "rgb(2,4,25)"
             ],
             [
              0.06274509803921569,
              "rgb(24,15,41)"
             ],
             [
              0.12549019607843137,
              "rgb(47,23,57)"
             ],
             [
              0.18823529411764706,
              "rgb(71,28,72)"
             ],
             [
              0.25098039215686274,
              "rgb(97,30,82)"
             ],
             [
              0.3137254901960784,
              "rgb(123,30,89)"
             ],
             [
              0.3764705882352941,
              "rgb(150,27,91)"
             ],
             [
              0.4392156862745098,
              "rgb(177,22,88)"
             ],
             [
              0.5019607843137255,
              "rgb(203,26,79)"
             ],
             [
              0.5647058823529412,
              "rgb(223,47,67)"
             ],
             [
              0.6274509803921569,
              "rgb(236,76,61)"
             ],
             [
              0.6901960784313725,
              "rgb(242,107,73)"
             ],
             [
              0.7529411764705882,
              "rgb(244,135,95)"
             ],
             [
              0.8156862745098039,
              "rgb(245,162,122)"
             ],
             [
              0.8784313725490196,
              "rgb(246,188,153)"
             ],
             [
              0.9411764705882353,
              "rgb(247,212,187)"
             ],
             [
              1,
              "rgb(250,234,220)"
             ]
            ],
            "type": "histogram2d"
           }
          ],
          "histogram2dcontour": [
           {
            "colorbar": {
             "outlinewidth": 0,
             "tickcolor": "rgb(36,36,36)",
             "ticklen": 8,
             "ticks": "outside",
             "tickwidth": 2
            },
            "colorscale": [
             [
              0,
              "rgb(2,4,25)"
             ],
             [
              0.06274509803921569,
              "rgb(24,15,41)"
             ],
             [
              0.12549019607843137,
              "rgb(47,23,57)"
             ],
             [
              0.18823529411764706,
              "rgb(71,28,72)"
             ],
             [
              0.25098039215686274,
              "rgb(97,30,82)"
             ],
             [
              0.3137254901960784,
              "rgb(123,30,89)"
             ],
             [
              0.3764705882352941,
              "rgb(150,27,91)"
             ],
             [
              0.4392156862745098,
              "rgb(177,22,88)"
             ],
             [
              0.5019607843137255,
              "rgb(203,26,79)"
             ],
             [
              0.5647058823529412,
              "rgb(223,47,67)"
             ],
             [
              0.6274509803921569,
              "rgb(236,76,61)"
             ],
             [
              0.6901960784313725,
              "rgb(242,107,73)"
             ],
             [
              0.7529411764705882,
              "rgb(244,135,95)"
             ],
             [
              0.8156862745098039,
              "rgb(245,162,122)"
             ],
             [
              0.8784313725490196,
              "rgb(246,188,153)"
             ],
             [
              0.9411764705882353,
              "rgb(247,212,187)"
             ],
             [
              1,
              "rgb(250,234,220)"
             ]
            ],
            "type": "histogram2dcontour"
           }
          ],
          "mesh3d": [
           {
            "colorbar": {
             "outlinewidth": 0,
             "tickcolor": "rgb(36,36,36)",
             "ticklen": 8,
             "ticks": "outside",
             "tickwidth": 2
            },
            "type": "mesh3d"
           }
          ],
          "parcoords": [
           {
            "line": {
             "colorbar": {
              "outlinewidth": 0,
              "tickcolor": "rgb(36,36,36)",
              "ticklen": 8,
              "ticks": "outside",
              "tickwidth": 2
             }
            },
            "type": "parcoords"
           }
          ],
          "pie": [
           {
            "automargin": true,
            "type": "pie"
           }
          ],
          "scatter": [
           {
            "marker": {
             "colorbar": {
              "outlinewidth": 0,
              "tickcolor": "rgb(36,36,36)",
              "ticklen": 8,
              "ticks": "outside",
              "tickwidth": 2
             }
            },
            "type": "scatter"
           }
          ],
          "scatter3d": [
           {
            "line": {
             "colorbar": {
              "outlinewidth": 0,
              "tickcolor": "rgb(36,36,36)",
              "ticklen": 8,
              "ticks": "outside",
              "tickwidth": 2
             }
            },
            "marker": {
             "colorbar": {
              "outlinewidth": 0,
              "tickcolor": "rgb(36,36,36)",
              "ticklen": 8,
              "ticks": "outside",
              "tickwidth": 2
             }
            },
            "type": "scatter3d"
           }
          ],
          "scattercarpet": [
           {
            "marker": {
             "colorbar": {
              "outlinewidth": 0,
              "tickcolor": "rgb(36,36,36)",
              "ticklen": 8,
              "ticks": "outside",
              "tickwidth": 2
             }
            },
            "type": "scattercarpet"
           }
          ],
          "scattergeo": [
           {
            "marker": {
             "colorbar": {
              "outlinewidth": 0,
              "tickcolor": "rgb(36,36,36)",
              "ticklen": 8,
              "ticks": "outside",
              "tickwidth": 2
             }
            },
            "type": "scattergeo"
           }
          ],
          "scattergl": [
           {
            "marker": {
             "colorbar": {
              "outlinewidth": 0,
              "tickcolor": "rgb(36,36,36)",
              "ticklen": 8,
              "ticks": "outside",
              "tickwidth": 2
             }
            },
            "type": "scattergl"
           }
          ],
          "scattermapbox": [
           {
            "marker": {
             "colorbar": {
              "outlinewidth": 0,
              "tickcolor": "rgb(36,36,36)",
              "ticklen": 8,
              "ticks": "outside",
              "tickwidth": 2
             }
            },
            "type": "scattermapbox"
           }
          ],
          "scatterpolar": [
           {
            "marker": {
             "colorbar": {
              "outlinewidth": 0,
              "tickcolor": "rgb(36,36,36)",
              "ticklen": 8,
              "ticks": "outside",
              "tickwidth": 2
             }
            },
            "type": "scatterpolar"
           }
          ],
          "scatterpolargl": [
           {
            "marker": {
             "colorbar": {
              "outlinewidth": 0,
              "tickcolor": "rgb(36,36,36)",
              "ticklen": 8,
              "ticks": "outside",
              "tickwidth": 2
             }
            },
            "type": "scatterpolargl"
           }
          ],
          "scatterternary": [
           {
            "marker": {
             "colorbar": {
              "outlinewidth": 0,
              "tickcolor": "rgb(36,36,36)",
              "ticklen": 8,
              "ticks": "outside",
              "tickwidth": 2
             }
            },
            "type": "scatterternary"
           }
          ],
          "surface": [
           {
            "colorbar": {
             "outlinewidth": 0,
             "tickcolor": "rgb(36,36,36)",
             "ticklen": 8,
             "ticks": "outside",
             "tickwidth": 2
            },
            "colorscale": [
             [
              0,
              "rgb(2,4,25)"
             ],
             [
              0.06274509803921569,
              "rgb(24,15,41)"
             ],
             [
              0.12549019607843137,
              "rgb(47,23,57)"
             ],
             [
              0.18823529411764706,
              "rgb(71,28,72)"
             ],
             [
              0.25098039215686274,
              "rgb(97,30,82)"
             ],
             [
              0.3137254901960784,
              "rgb(123,30,89)"
             ],
             [
              0.3764705882352941,
              "rgb(150,27,91)"
             ],
             [
              0.4392156862745098,
              "rgb(177,22,88)"
             ],
             [
              0.5019607843137255,
              "rgb(203,26,79)"
             ],
             [
              0.5647058823529412,
              "rgb(223,47,67)"
             ],
             [
              0.6274509803921569,
              "rgb(236,76,61)"
             ],
             [
              0.6901960784313725,
              "rgb(242,107,73)"
             ],
             [
              0.7529411764705882,
              "rgb(244,135,95)"
             ],
             [
              0.8156862745098039,
              "rgb(245,162,122)"
             ],
             [
              0.8784313725490196,
              "rgb(246,188,153)"
             ],
             [
              0.9411764705882353,
              "rgb(247,212,187)"
             ],
             [
              1,
              "rgb(250,234,220)"
             ]
            ],
            "type": "surface"
           }
          ],
          "table": [
           {
            "cells": {
             "fill": {
              "color": "rgb(231,231,240)"
             },
             "line": {
              "color": "white"
             }
            },
            "header": {
             "fill": {
              "color": "rgb(183,183,191)"
             },
             "line": {
              "color": "white"
             }
            },
            "type": "table"
           }
          ]
         },
         "layout": {
          "annotationdefaults": {
           "arrowcolor": "rgb(67,103,167)"
          },
          "autotypenumbers": "strict",
          "coloraxis": {
           "colorbar": {
            "outlinewidth": 0,
            "tickcolor": "rgb(36,36,36)",
            "ticklen": 8,
            "ticks": "outside",
            "tickwidth": 2
           }
          },
          "colorscale": {
           "sequential": [
            [
             0,
             "rgb(2,4,25)"
            ],
            [
             0.06274509803921569,
             "rgb(24,15,41)"
            ],
            [
             0.12549019607843137,
             "rgb(47,23,57)"
            ],
            [
             0.18823529411764706,
             "rgb(71,28,72)"
            ],
            [
             0.25098039215686274,
             "rgb(97,30,82)"
            ],
            [
             0.3137254901960784,
             "rgb(123,30,89)"
            ],
            [
             0.3764705882352941,
             "rgb(150,27,91)"
            ],
            [
             0.4392156862745098,
             "rgb(177,22,88)"
            ],
            [
             0.5019607843137255,
             "rgb(203,26,79)"
            ],
            [
             0.5647058823529412,
             "rgb(223,47,67)"
            ],
            [
             0.6274509803921569,
             "rgb(236,76,61)"
            ],
            [
             0.6901960784313725,
             "rgb(242,107,73)"
            ],
            [
             0.7529411764705882,
             "rgb(244,135,95)"
            ],
            [
             0.8156862745098039,
             "rgb(245,162,122)"
            ],
            [
             0.8784313725490196,
             "rgb(246,188,153)"
            ],
            [
             0.9411764705882353,
             "rgb(247,212,187)"
            ],
            [
             1,
             "rgb(250,234,220)"
            ]
           ],
           "sequentialminus": [
            [
             0,
             "rgb(2,4,25)"
            ],
            [
             0.06274509803921569,
             "rgb(24,15,41)"
            ],
            [
             0.12549019607843137,
             "rgb(47,23,57)"
            ],
            [
             0.18823529411764706,
             "rgb(71,28,72)"
            ],
            [
             0.25098039215686274,
             "rgb(97,30,82)"
            ],
            [
             0.3137254901960784,
             "rgb(123,30,89)"
            ],
            [
             0.3764705882352941,
             "rgb(150,27,91)"
            ],
            [
             0.4392156862745098,
             "rgb(177,22,88)"
            ],
            [
             0.5019607843137255,
             "rgb(203,26,79)"
            ],
            [
             0.5647058823529412,
             "rgb(223,47,67)"
            ],
            [
             0.6274509803921569,
             "rgb(236,76,61)"
            ],
            [
             0.6901960784313725,
             "rgb(242,107,73)"
            ],
            [
             0.7529411764705882,
             "rgb(244,135,95)"
            ],
            [
             0.8156862745098039,
             "rgb(245,162,122)"
            ],
            [
             0.8784313725490196,
             "rgb(246,188,153)"
            ],
            [
             0.9411764705882353,
             "rgb(247,212,187)"
            ],
            [
             1,
             "rgb(250,234,220)"
            ]
           ]
          },
          "colorway": [
           "rgb(76,114,176)",
           "rgb(221,132,82)",
           "rgb(85,168,104)",
           "rgb(196,78,82)",
           "rgb(129,114,179)",
           "rgb(147,120,96)",
           "rgb(218,139,195)",
           "rgb(140,140,140)",
           "rgb(204,185,116)",
           "rgb(100,181,205)"
          ],
          "font": {
           "color": "rgb(36,36,36)"
          },
          "geo": {
           "bgcolor": "white",
           "lakecolor": "white",
           "landcolor": "rgb(234,234,242)",
           "showlakes": true,
           "showland": true,
           "subunitcolor": "white"
          },
          "hoverlabel": {
           "align": "left"
          },
          "hovermode": "closest",
          "paper_bgcolor": "white",
          "plot_bgcolor": "rgb(234,234,242)",
          "polar": {
           "angularaxis": {
            "gridcolor": "white",
            "linecolor": "white",
            "showgrid": true,
            "ticks": ""
           },
           "bgcolor": "rgb(234,234,242)",
           "radialaxis": {
            "gridcolor": "white",
            "linecolor": "white",
            "showgrid": true,
            "ticks": ""
           }
          },
          "scene": {
           "xaxis": {
            "backgroundcolor": "rgb(234,234,242)",
            "gridcolor": "white",
            "gridwidth": 2,
            "linecolor": "white",
            "showbackground": true,
            "showgrid": true,
            "ticks": "",
            "zerolinecolor": "white"
           },
           "yaxis": {
            "backgroundcolor": "rgb(234,234,242)",
            "gridcolor": "white",
            "gridwidth": 2,
            "linecolor": "white",
            "showbackground": true,
            "showgrid": true,
            "ticks": "",
            "zerolinecolor": "white"
           },
           "zaxis": {
            "backgroundcolor": "rgb(234,234,242)",
            "gridcolor": "white",
            "gridwidth": 2,
            "linecolor": "white",
            "showbackground": true,
            "showgrid": true,
            "ticks": "",
            "zerolinecolor": "white"
           }
          },
          "shapedefaults": {
           "fillcolor": "rgb(67,103,167)",
           "line": {
            "width": 0
           },
           "opacity": 0.5
          },
          "ternary": {
           "aaxis": {
            "gridcolor": "white",
            "linecolor": "white",
            "showgrid": true,
            "ticks": ""
           },
           "baxis": {
            "gridcolor": "white",
            "linecolor": "white",
            "showgrid": true,
            "ticks": ""
           },
           "bgcolor": "rgb(234,234,242)",
           "caxis": {
            "gridcolor": "white",
            "linecolor": "white",
            "showgrid": true,
            "ticks": ""
           }
          },
          "xaxis": {
           "automargin": true,
           "gridcolor": "white",
           "linecolor": "white",
           "showgrid": true,
           "ticks": "",
           "title": {
            "standoff": 15
           },
           "zerolinecolor": "white"
          },
          "yaxis": {
           "automargin": true,
           "gridcolor": "white",
           "linecolor": "white",
           "showgrid": true,
           "ticks": "",
           "title": {
            "standoff": 15
           },
           "zerolinecolor": "white"
          }
         }
        },
        "title": {
         "text": "<b>Flowlines Demising Walls North<b>"
        },
        "width": 950,
        "xaxis": {
         "anchor": "y",
         "domain": [
          0,
          1
         ],
         "title": {
          "text": "<b>Date<b>"
         }
        },
        "yaxis": {
         "anchor": "x",
         "domain": [
          0,
          1
         ],
         "tickmode": "array",
         "ticktext": [
          "L0",
          "L1",
          "L2",
          "L3",
          "L4",
          "L5",
          "L6",
          "L7",
          "L8"
         ],
         "tickvals": [
          0,
          1,
          2,
          3,
          4,
          5,
          6,
          7,
          8
         ],
         "title": {
          "text": "<b>Floor<b>"
         }
        }
       }
      }
     },
     "metadata": {},
     "output_type": "display_data"
    },
    {
     "data": {
      "application/vnd.plotly.v1+json": {
       "config": {
        "plotlyServerURL": "https://plot.ly"
       },
       "data": [
        {
         "customdata": [
          [
           "2022-11-07",
           "2022-11-25",
           "L1"
          ],
          [
           "2022-11-07",
           "2022-11-25",
           "L1"
          ],
          [
           null,
           null,
           null
          ],
          [
           "2022-10-31",
           "2022-11-25",
           "L1"
          ],
          [
           "2022-10-31",
           "2022-11-25",
           "L1"
          ],
          [
           null,
           null,
           null
          ],
          [
           "2022-11-21",
           "2022-12-16",
           "L2"
          ],
          [
           "2022-11-21",
           "2022-12-16",
           "L2"
          ],
          [
           null,
           null,
           null
          ],
          [
           "2022-11-18",
           "2022-12-16",
           "L2"
          ],
          [
           "2022-11-18",
           "2022-12-16",
           "L2"
          ],
          [
           null,
           null,
           null
          ],
          [
           "2022-11-21",
           "2022-12-16",
           "L3"
          ],
          [
           "2022-11-21",
           "2022-12-16",
           "L3"
          ],
          [
           null,
           null,
           null
          ],
          [
           "2022-11-21",
           "2022-12-16",
           "L3"
          ],
          [
           "2022-11-21",
           "2022-12-16",
           "L3"
          ],
          [
           null,
           null,
           null
          ],
          [
           "2023-01-02",
           "2023-01-27",
           "L4"
          ],
          [
           "2023-01-02",
           "2023-01-27",
           "L4"
          ],
          [
           null,
           null,
           null
          ],
          [
           "2023-01-02",
           "2023-01-27",
           "L4"
          ],
          [
           "2023-01-02",
           "2023-01-27",
           "L4"
          ],
          [
           null,
           null,
           null
          ],
          [
           "2023-01-16",
           "2023-02-10",
           "L5"
          ],
          [
           "2023-01-16",
           "2023-02-10",
           "L5"
          ],
          [
           null,
           null,
           null
          ],
          [
           "2023-01-16",
           "2023-02-10",
           "L5"
          ],
          [
           "2023-01-16",
           "2023-02-10",
           "L5"
          ],
          [
           null,
           null,
           null
          ],
          [
           "2023-01-26",
           "2023-03-01",
           "L6"
          ],
          [
           "2023-01-26",
           "2023-03-01",
           "L6"
          ],
          [
           null,
           null,
           null
          ],
          [
           "2023-01-26",
           "2023-02-24",
           "L6"
          ],
          [
           "2023-01-26",
           "2023-02-24",
           "L6"
          ],
          [
           null,
           null,
           null
          ],
          [
           "2023-02-03",
           "2023-03-02",
           "L7"
          ],
          [
           "2023-02-03",
           "2023-03-02",
           "L7"
          ],
          [
           null,
           null,
           null
          ],
          [
           "2023-02-03",
           "2023-03-02",
           "L7"
          ],
          [
           "2023-02-03",
           "2023-03-02",
           "L7"
          ],
          [
           null,
           null,
           null
          ],
          [
           "2023-02-17",
           "2023-03-16",
           "L8"
          ],
          [
           "2023-02-17",
           "2023-03-16",
           "L8"
          ],
          [
           null,
           null,
           null
          ],
          [
           "2023-02-17",
           "2023-03-16",
           "L8"
          ],
          [
           "2023-02-17",
           "2023-03-16",
           "L8"
          ],
          [
           null,
           null,
           null
          ],
          [
           "2023-02-20",
           "2023-03-17",
           "L9"
          ],
          [
           "2023-02-20",
           "2023-03-17",
           "L9"
          ],
          [
           null,
           null,
           null
          ],
          [
           "2023-02-20",
           "2023-03-17",
           "L9"
          ],
          [
           "2023-02-20",
           "2023-03-17",
           "L9"
          ],
          [
           null,
           null,
           null
          ],
          [
           "2023-03-03",
           "2023-03-30",
           "L10"
          ],
          [
           "2023-03-03",
           "2023-03-30",
           "L10"
          ],
          [
           null,
           null,
           null
          ],
          [
           "2023-03-03",
           "2023-03-30",
           "L10"
          ],
          [
           "2023-03-03",
           "2023-03-30",
           "L10"
          ],
          [
           null,
           null,
           null
          ],
          [
           "2023-03-03",
           "2023-03-30",
           "L11"
          ],
          [
           "2023-03-03",
           "2023-03-30",
           "L11"
          ],
          [
           null,
           null,
           null
          ],
          [
           "2023-03-03",
           "2023-03-30",
           "L11"
          ],
          [
           "2023-03-03",
           "2023-03-30",
           "L11"
          ],
          [
           null,
           null,
           null
          ]
         ],
         "hovertemplate": "Initial Date: %{customdata[0]}<br>Final Date: %{customdata[1]}<br>Level: %{customdata[2]}",
         "legendgroup": "0, 0",
         "line": {
          "color": "#3366CC",
          "dash": "dash"
         },
         "marker": {
          "symbol": "circle"
         },
         "mode": "lines",
         "name": "Demising Walls Planned",
         "orientation": "v",
         "showlegend": true,
         "type": "scatter",
         "x": [
          "2022-11-07",
          "2022-11-25",
          null,
          "2022-10-31",
          "2022-11-25",
          null,
          "2022-11-21",
          "2022-12-16",
          null,
          "2022-11-18",
          "2022-12-16",
          null,
          "2022-11-21",
          "2022-12-16",
          null,
          "2022-11-21",
          "2022-12-16",
          null,
          "2023-01-02",
          "2023-01-27",
          null,
          "2023-01-02",
          "2023-01-27",
          null,
          "2023-01-16",
          "2023-02-10",
          null,
          "2023-01-16",
          "2023-02-10",
          null,
          "2023-01-26",
          "2023-03-01",
          null,
          "2023-01-26",
          "2023-02-24",
          null,
          "2023-02-03",
          "2023-03-02",
          null,
          "2023-02-03",
          "2023-03-02",
          null,
          "2023-02-17",
          "2023-03-16",
          null,
          "2023-02-17",
          "2023-03-16",
          null,
          "2023-02-20",
          "2023-03-17",
          null,
          "2023-02-20",
          "2023-03-17",
          null,
          "2023-03-03",
          "2023-03-30",
          null,
          "2023-03-03",
          "2023-03-30",
          null,
          "2023-03-03",
          "2023-03-30",
          null,
          "2023-03-03",
          "2023-03-30",
          null
         ],
         "xaxis": "x",
         "y": [
          0,
          0.5,
          null,
          0.5,
          1,
          null,
          1,
          1.5,
          null,
          1.5,
          2,
          null,
          2,
          2.5,
          null,
          2.5,
          3,
          null,
          3,
          3.5,
          null,
          3.5,
          4,
          null,
          4,
          4.5,
          null,
          4.5,
          5,
          null,
          5,
          5.5,
          null,
          5.5,
          6,
          null,
          6,
          6.5,
          null,
          6.5,
          7,
          null,
          7,
          7.5,
          null,
          7.5,
          8,
          null,
          8,
          8.5,
          null,
          8.5,
          9,
          null,
          9,
          9.5,
          null,
          9.5,
          10,
          null,
          10,
          10.5,
          null,
          10.5,
          11,
          null
         ],
         "yaxis": "y"
        },
        {
         "customdata": [
          [
           "2022-11-28",
           "2023-01-17",
           "L1"
          ],
          [
           "2022-11-28",
           "2023-01-17",
           "L1"
          ],
          [
           null,
           null,
           null
          ],
          [
           "2022-12-02",
           "2023-01-20",
           "L1"
          ],
          [
           "2022-12-02",
           "2023-01-20",
           "L1"
          ],
          [
           null,
           null,
           null
          ],
          [
           "2022-12-12",
           "2023-01-27",
           "L2"
          ],
          [
           "2022-12-12",
           "2023-01-27",
           "L2"
          ],
          [
           null,
           null,
           null
          ],
          [
           "2022-12-12",
           "2023-02-13",
           "L2"
          ],
          [
           "2022-12-12",
           "2023-02-13",
           "L2"
          ],
          [
           null,
           null,
           null
          ],
          [
           "2023-01-17",
           "2023-02-17",
           "L3"
          ],
          [
           "2023-01-17",
           "2023-02-17",
           "L3"
          ],
          [
           null,
           null,
           null
          ],
          [
           "2023-01-20",
           "2023-02-20",
           "L3"
          ],
          [
           "2023-01-20",
           "2023-02-20",
           "L3"
          ],
          [
           null,
           null,
           null
          ],
          [
           "2023-01-27",
           "2023-02-20",
           "L4"
          ],
          [
           "2023-01-27",
           "2023-02-20",
           "L4"
          ],
          [
           null,
           null,
           null
          ],
          [
           "2023-01-27",
           "2023-02-24",
           "L4"
          ],
          [
           "2023-01-27",
           "2023-02-24",
           "L4"
          ],
          [
           null,
           null,
           null
          ],
          [
           "2023-02-06",
           "2023-02-20",
           "L5"
          ],
          [
           "2023-02-06",
           "2023-02-20",
           "L5"
          ],
          [
           null,
           null,
           null
          ],
          [
           "2023-02-06",
           "2023-02-27",
           "L5"
          ],
          [
           "2023-02-06",
           "2023-02-27",
           "L5"
          ],
          [
           null,
           null,
           null
          ],
          [
           "2023-02-09",
           "2023-03-09",
           "L6"
          ],
          [
           "2023-02-09",
           "2023-03-09",
           "L6"
          ],
          [
           null,
           null,
           null
          ],
          [
           "2023-02-09",
           "2023-03-06",
           "L6"
          ],
          [
           "2023-02-09",
           "2023-03-06",
           "L6"
          ],
          [
           null,
           null,
           null
          ],
          [
           "2023-02-09",
           "2023-03-10",
           "L7"
          ],
          [
           "2023-02-09",
           "2023-03-10",
           "L7"
          ],
          [
           null,
           null,
           null
          ],
          [
           "2023-02-09",
           "2023-03-10",
           "L7"
          ],
          [
           "2023-02-09",
           "2023-03-10",
           "L7"
          ],
          [
           null,
           null,
           null
          ],
          [
           "2023-02-10",
           "2023-03-24",
           "L8"
          ],
          [
           "2023-02-10",
           "2023-03-24",
           "L8"
          ],
          [
           null,
           null,
           null
          ],
          [
           "2023-02-10",
           "2023-04-03",
           "L8"
          ],
          [
           "2023-02-10",
           "2023-04-03",
           "L8"
          ],
          [
           null,
           null,
           null
          ],
          [
           "2023-02-09",
           "2023-03-27",
           "L9"
          ],
          [
           "2023-02-09",
           "2023-03-27",
           "L9"
          ],
          [
           null,
           null,
           null
          ],
          [
           "2023-02-09",
           "2023-04-03",
           "L9"
          ],
          [
           "2023-02-09",
           "2023-04-03",
           "L9"
          ],
          [
           null,
           null,
           null
          ],
          [
           "2023-03-31",
           "2023-04-14",
           "L10"
          ],
          [
           "2023-03-31",
           "2023-04-14",
           "L10"
          ],
          [
           null,
           null,
           null
          ],
          [
           "2023-04-11",
           "2023-04-21",
           "L10"
          ],
          [
           "2023-04-11",
           "2023-04-21",
           "L10"
          ],
          [
           null,
           null,
           null
          ],
          [
           "2023-03-31",
           "2023-04-14",
           "L11"
          ],
          [
           "2023-03-31",
           "2023-04-14",
           "L11"
          ],
          [
           null,
           null,
           null
          ],
          [
           "2023-04-11",
           "2023-04-21",
           "L11"
          ],
          [
           "2023-04-11",
           "2023-04-21",
           "L11"
          ],
          [
           null,
           null,
           null
          ]
         ],
         "hovertemplate": "Initial Date: %{customdata[0]}<br>Final Date: %{customdata[1]}<br>Level: %{customdata[2]}",
         "legendgroup": "1, 1",
         "line": {
          "color": "#DC3912",
          "dash": "dash"
         },
         "marker": {
          "symbol": "circle"
         },
         "mode": "lines",
         "name": "HL MEP Services (1st Fix) Planned",
         "orientation": "v",
         "showlegend": true,
         "type": "scatter",
         "x": [
          "2022-11-28",
          "2023-01-17",
          null,
          "2022-12-02",
          "2023-01-20",
          null,
          "2022-12-12",
          "2023-01-27",
          null,
          "2022-12-12",
          "2023-02-13",
          null,
          "2023-01-17",
          "2023-02-17",
          null,
          "2023-01-20",
          "2023-02-20",
          null,
          "2023-01-27",
          "2023-02-20",
          null,
          "2023-01-27",
          "2023-02-24",
          null,
          "2023-02-06",
          "2023-02-20",
          null,
          "2023-02-06",
          "2023-02-27",
          null,
          "2023-02-09",
          "2023-03-09",
          null,
          "2023-02-09",
          "2023-03-06",
          null,
          "2023-02-09",
          "2023-03-10",
          null,
          "2023-02-09",
          "2023-03-10",
          null,
          "2023-02-10",
          "2023-03-24",
          null,
          "2023-02-10",
          "2023-04-03",
          null,
          "2023-02-09",
          "2023-03-27",
          null,
          "2023-02-09",
          "2023-04-03",
          null,
          "2023-03-31",
          "2023-04-14",
          null,
          "2023-04-11",
          "2023-04-21",
          null,
          "2023-03-31",
          "2023-04-14",
          null,
          "2023-04-11",
          "2023-04-21",
          null
         ],
         "xaxis": "x",
         "y": [
          0,
          0.5,
          null,
          0.5,
          1,
          null,
          1,
          1.5,
          null,
          1.5,
          2,
          null,
          2,
          2.5,
          null,
          2.5,
          3,
          null,
          3,
          3.5,
          null,
          3.5,
          4,
          null,
          4,
          4.5,
          null,
          4.5,
          5,
          null,
          5,
          5.5,
          null,
          5.5,
          6,
          null,
          6,
          6.5,
          null,
          6.5,
          7,
          null,
          7,
          7.5,
          null,
          7.5,
          8,
          null,
          8,
          8.5,
          null,
          8.5,
          9,
          null,
          9,
          9.5,
          null,
          9.5,
          10,
          null,
          10,
          10.5,
          null,
          10.5,
          11,
          null
         ],
         "yaxis": "y"
        },
        {
         "customdata": [
          [
           "2023-01-24",
           "2023-02-23",
           "L1"
          ],
          [
           "2023-01-24",
           "2023-02-23",
           "L1"
          ],
          [
           null,
           null,
           null
          ],
          [
           "2023-01-20",
           "2023-02-16",
           "L1"
          ],
          [
           "2023-01-20",
           "2023-02-16",
           "L1"
          ],
          [
           null,
           null,
           null
          ],
          [
           "2023-02-13",
           "2023-02-24",
           "L2"
          ],
          [
           "2023-02-13",
           "2023-02-24",
           "L2"
          ],
          [
           null,
           null,
           null
          ],
          [
           "2023-02-14",
           "2023-02-28",
           "L2"
          ],
          [
           "2023-02-14",
           "2023-02-28",
           "L2"
          ],
          [
           null,
           null,
           null
          ],
          [
           "2023-02-20",
           "2023-03-03",
           "L3"
          ],
          [
           "2023-02-20",
           "2023-03-03",
           "L3"
          ],
          [
           null,
           null,
           null
          ],
          [
           "2023-02-22",
           "2023-03-07",
           "L3"
          ],
          [
           "2023-02-22",
           "2023-03-07",
           "L3"
          ],
          [
           null,
           null,
           null
          ],
          [
           "2023-02-22",
           "2023-03-07",
           "L4"
          ],
          [
           "2023-02-22",
           "2023-03-07",
           "L4"
          ],
          [
           null,
           null,
           null
          ],
          [
           "2023-02-28",
           "2023-03-13",
           "L4"
          ],
          [
           "2023-02-28",
           "2023-03-13",
           "L4"
          ],
          [
           null,
           null,
           null
          ],
          [
           "2023-02-22",
           "2023-03-07",
           "L5"
          ],
          [
           "2023-02-22",
           "2023-03-07",
           "L5"
          ],
          [
           null,
           null,
           null
          ],
          [
           "2023-03-01",
           "2023-03-14",
           "L5"
          ],
          [
           "2023-03-01",
           "2023-03-14",
           "L5"
          ],
          [
           null,
           null,
           null
          ],
          [
           "2023-03-10",
           "2023-03-24",
           "L6"
          ],
          [
           "2023-03-10",
           "2023-03-24",
           "L6"
          ],
          [
           null,
           null,
           null
          ],
          [
           "2023-03-08",
           "2023-03-21",
           "L6"
          ],
          [
           "2023-03-08",
           "2023-03-21",
           "L6"
          ],
          [
           null,
           null,
           null
          ],
          [
           "2023-03-14",
           "2023-03-27",
           "L7"
          ],
          [
           "2023-03-14",
           "2023-03-27",
           "L7"
          ],
          [
           null,
           null,
           null
          ],
          [
           "2023-03-14",
           "2023-03-27",
           "L7"
          ],
          [
           "2023-03-14",
           "2023-03-27",
           "L7"
          ],
          [
           null,
           null,
           null
          ],
          [
           "2023-03-28",
           "2023-04-12",
           "L8"
          ],
          [
           "2023-03-28",
           "2023-04-12",
           "L8"
          ],
          [
           null,
           null,
           null
          ],
          [
           "2023-04-05",
           "2023-04-27",
           "L8"
          ],
          [
           "2023-04-05",
           "2023-04-27",
           "L8"
          ],
          [
           null,
           null,
           null
          ],
          [
           "2023-03-29",
           "2023-04-13",
           "L9"
          ],
          [
           "2023-03-29",
           "2023-04-13",
           "L9"
          ],
          [
           null,
           null,
           null
          ],
          [
           "2023-04-05",
           "2023-04-20",
           "L9"
          ],
          [
           "2023-04-05",
           "2023-04-20",
           "L9"
          ],
          [
           null,
           null,
           null
          ],
          [
           "2023-04-18",
           "2023-05-02",
           "L10"
          ],
          [
           "2023-04-18",
           "2023-05-02",
           "L10"
          ],
          [
           null,
           null,
           null
          ],
          [
           "2023-04-25",
           "2023-05-09",
           "L10"
          ],
          [
           "2023-04-25",
           "2023-05-09",
           "L10"
          ],
          [
           null,
           null,
           null
          ],
          [
           "2023-04-18",
           "2023-05-02",
           "L11"
          ],
          [
           "2023-04-18",
           "2023-05-02",
           "L11"
          ],
          [
           null,
           null,
           null
          ],
          [
           "2023-04-25",
           "2023-05-09",
           "L11"
          ],
          [
           "2023-04-25",
           "2023-05-09",
           "L11"
          ],
          [
           null,
           null,
           null
          ]
         ],
         "hovertemplate": "Initial Date: %{customdata[0]}<br>Final Date: %{customdata[1]}<br>Level: %{customdata[2]}",
         "legendgroup": "2, 2",
         "line": {
          "color": "#FF9900",
          "dash": "dash"
         },
         "marker": {
          "symbol": "circle"
         },
         "mode": "lines",
         "name": "Internal walls 2nd Drylining Visit Planned",
         "orientation": "v",
         "showlegend": true,
         "type": "scatter",
         "x": [
          "2023-01-24",
          "2023-02-23",
          null,
          "2023-01-20",
          "2023-02-16",
          null,
          "2023-02-13",
          "2023-02-24",
          null,
          "2023-02-14",
          "2023-02-28",
          null,
          "2023-02-20",
          "2023-03-03",
          null,
          "2023-02-22",
          "2023-03-07",
          null,
          "2023-02-22",
          "2023-03-07",
          null,
          "2023-02-28",
          "2023-03-13",
          null,
          "2023-02-22",
          "2023-03-07",
          null,
          "2023-03-01",
          "2023-03-14",
          null,
          "2023-03-10",
          "2023-03-24",
          null,
          "2023-03-08",
          "2023-03-21",
          null,
          "2023-03-14",
          "2023-03-27",
          null,
          "2023-03-14",
          "2023-03-27",
          null,
          "2023-03-28",
          "2023-04-12",
          null,
          "2023-04-05",
          "2023-04-27",
          null,
          "2023-03-29",
          "2023-04-13",
          null,
          "2023-04-05",
          "2023-04-20",
          null,
          "2023-04-18",
          "2023-05-02",
          null,
          "2023-04-25",
          "2023-05-09",
          null,
          "2023-04-18",
          "2023-05-02",
          null,
          "2023-04-25",
          "2023-05-09",
          null
         ],
         "xaxis": "x",
         "y": [
          0,
          0.5,
          null,
          0.5,
          1,
          null,
          1,
          1.5,
          null,
          1.5,
          2,
          null,
          2,
          2.5,
          null,
          2.5,
          3,
          null,
          3,
          3.5,
          null,
          3.5,
          4,
          null,
          4,
          4.5,
          null,
          4.5,
          5,
          null,
          5,
          5.5,
          null,
          5.5,
          6,
          null,
          6,
          6.5,
          null,
          6.5,
          7,
          null,
          7,
          7.5,
          null,
          7.5,
          8,
          null,
          8,
          8.5,
          null,
          8.5,
          9,
          null,
          9,
          9.5,
          null,
          9.5,
          10,
          null,
          10,
          10.5,
          null,
          10.5,
          11,
          null
         ],
         "yaxis": "y"
        },
        {
         "customdata": [
          [
           "2023-02-24",
           "2023-03-13",
           "L1"
          ],
          [
           "2023-02-24",
           "2023-03-13",
           "L1"
          ],
          [
           null,
           null,
           null
          ],
          [
           "2023-02-17",
           "2023-03-07",
           "L1"
          ],
          [
           "2023-02-17",
           "2023-03-07",
           "L1"
          ],
          [
           null,
           null,
           null
          ],
          [
           "2023-02-27",
           "2023-03-14",
           "L2"
          ],
          [
           "2023-02-27",
           "2023-03-14",
           "L2"
          ],
          [
           null,
           null,
           null
          ],
          [
           "2023-02-28",
           "2023-03-16",
           "L2"
          ],
          [
           "2023-02-28",
           "2023-03-16",
           "L2"
          ],
          [
           null,
           null,
           null
          ],
          [
           "2023-03-06",
           "2023-03-21",
           "L3"
          ],
          [
           "2023-03-06",
           "2023-03-21",
           "L3"
          ],
          [
           null,
           null,
           null
          ],
          [
           "2023-03-08",
           "2023-03-23",
           "L3"
          ],
          [
           "2023-03-08",
           "2023-03-23",
           "L3"
          ],
          [
           null,
           null,
           null
          ],
          [
           "2023-03-08",
           "2023-03-23",
           "L4"
          ],
          [
           "2023-03-08",
           "2023-03-23",
           "L4"
          ],
          [
           null,
           null,
           null
          ],
          [
           "2023-03-14",
           "2023-03-29",
           "L4"
          ],
          [
           "2023-03-14",
           "2023-03-29",
           "L4"
          ],
          [
           null,
           null,
           null
          ],
          [
           "2023-03-08",
           "2023-03-23",
           "L5"
          ],
          [
           "2023-03-08",
           "2023-03-23",
           "L5"
          ],
          [
           null,
           null,
           null
          ],
          [
           "2023-03-15",
           "2023-03-30",
           "L5"
          ],
          [
           "2023-03-15",
           "2023-03-30",
           "L5"
          ],
          [
           null,
           null,
           null
          ],
          [
           "2023-03-24",
           "2023-04-13",
           "L6"
          ],
          [
           "2023-03-24",
           "2023-04-13",
           "L6"
          ],
          [
           null,
           null,
           null
          ],
          [
           "2023-03-22",
           "2023-04-06",
           "L6"
          ],
          [
           "2023-03-22",
           "2023-04-06",
           "L6"
          ],
          [
           null,
           null,
           null
          ],
          [
           "2023-03-28",
           "2023-04-14",
           "L7"
          ],
          [
           "2023-03-28",
           "2023-04-14",
           "L7"
          ],
          [
           null,
           null,
           null
          ],
          [
           "2023-03-28",
           "2023-04-14",
           "L7"
          ],
          [
           "2023-03-28",
           "2023-04-14",
           "L7"
          ],
          [
           null,
           null,
           null
          ],
          [
           "2023-04-13",
           "2023-04-28",
           "L8"
          ],
          [
           "2023-04-13",
           "2023-04-28",
           "L8"
          ],
          [
           null,
           null,
           null
          ],
          [
           "2023-04-28",
           "2023-05-16",
           "L8"
          ],
          [
           "2023-04-28",
           "2023-05-16",
           "L8"
          ],
          [
           null,
           null,
           null
          ],
          [
           "2023-04-14",
           "2023-05-02",
           "L9"
          ],
          [
           "2023-04-14",
           "2023-05-02",
           "L9"
          ],
          [
           null,
           null,
           null
          ],
          [
           "2023-04-21",
           "2023-05-09",
           "L9"
          ],
          [
           "2023-04-21",
           "2023-05-09",
           "L9"
          ],
          [
           null,
           null,
           null
          ],
          [
           "2023-05-03",
           "2023-05-18",
           "L10"
          ],
          [
           "2023-05-03",
           "2023-05-18",
           "L10"
          ],
          [
           null,
           null,
           null
          ],
          [
           "2023-05-10",
           "2023-05-25",
           "L10"
          ],
          [
           "2023-05-10",
           "2023-05-25",
           "L10"
          ],
          [
           null,
           null,
           null
          ],
          [
           "2023-05-03",
           "2023-05-18",
           "L11"
          ],
          [
           "2023-05-03",
           "2023-05-18",
           "L11"
          ],
          [
           null,
           null,
           null
          ],
          [
           "2023-05-10",
           "2023-05-25",
           "L11"
          ],
          [
           "2023-05-10",
           "2023-05-25",
           "L11"
          ],
          [
           null,
           null,
           null
          ]
         ],
         "hovertemplate": "Initial Date: %{customdata[0]}<br>Final Date: %{customdata[1]}<br>Level: %{customdata[2]}",
         "legendgroup": "3, 3",
         "line": {
          "color": "#109618",
          "dash": "dash"
         },
         "marker": {
          "symbol": "circle"
         },
         "mode": "lines",
         "name": "HL MEP Services (2nd Fix) Planned",
         "orientation": "v",
         "showlegend": true,
         "type": "scatter",
         "x": [
          "2023-02-24",
          "2023-03-13",
          null,
          "2023-02-17",
          "2023-03-07",
          null,
          "2023-02-27",
          "2023-03-14",
          null,
          "2023-02-28",
          "2023-03-16",
          null,
          "2023-03-06",
          "2023-03-21",
          null,
          "2023-03-08",
          "2023-03-23",
          null,
          "2023-03-08",
          "2023-03-23",
          null,
          "2023-03-14",
          "2023-03-29",
          null,
          "2023-03-08",
          "2023-03-23",
          null,
          "2023-03-15",
          "2023-03-30",
          null,
          "2023-03-24",
          "2023-04-13",
          null,
          "2023-03-22",
          "2023-04-06",
          null,
          "2023-03-28",
          "2023-04-14",
          null,
          "2023-03-28",
          "2023-04-14",
          null,
          "2023-04-13",
          "2023-04-28",
          null,
          "2023-04-28",
          "2023-05-16",
          null,
          "2023-04-14",
          "2023-05-02",
          null,
          "2023-04-21",
          "2023-05-09",
          null,
          "2023-05-03",
          "2023-05-18",
          null,
          "2023-05-10",
          "2023-05-25",
          null,
          "2023-05-03",
          "2023-05-18",
          null,
          "2023-05-10",
          "2023-05-25",
          null
         ],
         "xaxis": "x",
         "y": [
          0,
          0.5,
          null,
          0.5,
          1,
          null,
          1,
          1.5,
          null,
          1.5,
          2,
          null,
          2,
          2.5,
          null,
          2.5,
          3,
          null,
          3,
          3.5,
          null,
          3.5,
          4,
          null,
          4,
          4.5,
          null,
          4.5,
          5,
          null,
          5,
          5.5,
          null,
          5.5,
          6,
          null,
          6,
          6.5,
          null,
          6.5,
          7,
          null,
          7,
          7.5,
          null,
          7.5,
          8,
          null,
          8,
          8.5,
          null,
          8.5,
          9,
          null,
          9,
          9.5,
          null,
          9.5,
          10,
          null,
          10,
          10.5,
          null,
          10.5,
          11,
          null
         ],
         "yaxis": "y"
        },
        {
         "customdata": [
          [
           "2023-03-16",
           "2023-04-18",
           "L1"
          ],
          [
           "2023-03-16",
           "2023-04-18",
           "L1"
          ],
          [
           null,
           null,
           null
          ],
          [
           "2023-03-10",
           "2023-04-12",
           "L1"
          ],
          [
           "2023-03-10",
           "2023-04-12",
           "L1"
          ],
          [
           null,
           null,
           null
          ],
          [
           "2023-03-17",
           "2023-04-19",
           "L2"
          ],
          [
           "2023-03-17",
           "2023-04-19",
           "L2"
          ],
          [
           null,
           null,
           null
          ],
          [
           "2023-03-20",
           "2023-04-20",
           "L2"
          ],
          [
           "2023-03-20",
           "2023-04-20",
           "L2"
          ],
          [
           null,
           null,
           null
          ],
          [
           "2023-03-24",
           "2023-04-26",
           "L3"
          ],
          [
           "2023-03-24",
           "2023-04-26",
           "L3"
          ],
          [
           null,
           null,
           null
          ],
          [
           "2023-03-28",
           "2023-04-28",
           "L3"
          ],
          [
           "2023-03-28",
           "2023-04-28",
           "L3"
          ],
          [
           null,
           null,
           null
          ],
          [
           "2023-03-28",
           "2023-04-28",
           "L4"
          ],
          [
           "2023-03-28",
           "2023-04-28",
           "L4"
          ],
          [
           null,
           null,
           null
          ],
          [
           "2023-04-03",
           "2023-05-05",
           "L4"
          ],
          [
           "2023-04-03",
           "2023-05-05",
           "L4"
          ],
          [
           null,
           null,
           null
          ],
          [
           "2023-03-28",
           "2023-04-28",
           "L5"
          ],
          [
           "2023-03-28",
           "2023-04-28",
           "L5"
          ],
          [
           null,
           null,
           null
          ],
          [
           "2023-04-04",
           "2023-05-08",
           "L5"
          ],
          [
           "2023-04-04",
           "2023-05-08",
           "L5"
          ],
          [
           null,
           null,
           null
          ],
          [
           "2023-04-17",
           "2023-05-17",
           "L6"
          ],
          [
           "2023-04-17",
           "2023-05-17",
           "L6"
          ],
          [
           null,
           null,
           null
          ],
          [
           "2023-04-13",
           "2023-05-15",
           "L6"
          ],
          [
           "2023-04-13",
           "2023-05-15",
           "L6"
          ],
          [
           null,
           null,
           null
          ],
          [
           "2023-04-19",
           "2023-05-19",
           "L7"
          ],
          [
           "2023-04-19",
           "2023-05-19",
           "L7"
          ],
          [
           null,
           null,
           null
          ],
          [
           "2023-04-19",
           "2023-05-19",
           "L7"
          ],
          [
           "2023-04-19",
           "2023-05-19",
           "L7"
          ],
          [
           null,
           null,
           null
          ],
          [
           "2023-05-04",
           "2023-05-26",
           "L8"
          ],
          [
           "2023-05-04",
           "2023-05-26",
           "L8"
          ],
          [
           null,
           null,
           null
          ],
          [
           "2023-05-19",
           "2023-06-13",
           "L8"
          ],
          [
           "2023-05-19",
           "2023-06-13",
           "L8"
          ],
          [
           null,
           null,
           null
          ],
          [
           "2023-05-05",
           "2023-06-06",
           "L9"
          ],
          [
           "2023-05-05",
           "2023-06-06",
           "L9"
          ],
          [
           null,
           null,
           null
          ],
          [
           "2023-05-12",
           "2023-06-13",
           "L9"
          ],
          [
           "2023-05-12",
           "2023-06-13",
           "L9"
          ],
          [
           null,
           null,
           null
          ],
          [
           "2023-05-23",
           "2023-06-22",
           "L10"
          ],
          [
           "2023-05-23",
           "2023-06-22",
           "L10"
          ],
          [
           null,
           null,
           null
          ],
          [
           "2023-05-31",
           "2023-07-05",
           "L10"
          ],
          [
           "2023-05-31",
           "2023-07-05",
           "L10"
          ],
          [
           null,
           null,
           null
          ],
          [
           "2023-05-23",
           "2023-06-22",
           "L11"
          ],
          [
           "2023-05-23",
           "2023-06-22",
           "L11"
          ],
          [
           null,
           null,
           null
          ],
          [
           "2023-05-31",
           "2023-06-29",
           "L11"
          ],
          [
           "2023-05-31",
           "2023-06-29",
           "L11"
          ],
          [
           null,
           null,
           null
          ]
         ],
         "hovertemplate": "Initial Date: %{customdata[0]}<br>Final Date: %{customdata[1]}<br>Level: %{customdata[2]}",
         "legendgroup": "4, 4",
         "line": {
          "color": "#990099",
          "dash": "dash"
         },
         "marker": {
          "symbol": "circle"
         },
         "mode": "lines",
         "name": "Final Drylining / Install Ceilings Planned",
         "orientation": "v",
         "showlegend": true,
         "type": "scatter",
         "x": [
          "2023-03-16",
          "2023-04-18",
          null,
          "2023-03-10",
          "2023-04-12",
          null,
          "2023-03-17",
          "2023-04-19",
          null,
          "2023-03-20",
          "2023-04-20",
          null,
          "2023-03-24",
          "2023-04-26",
          null,
          "2023-03-28",
          "2023-04-28",
          null,
          "2023-03-28",
          "2023-04-28",
          null,
          "2023-04-03",
          "2023-05-05",
          null,
          "2023-03-28",
          "2023-04-28",
          null,
          "2023-04-04",
          "2023-05-08",
          null,
          "2023-04-17",
          "2023-05-17",
          null,
          "2023-04-13",
          "2023-05-15",
          null,
          "2023-04-19",
          "2023-05-19",
          null,
          "2023-04-19",
          "2023-05-19",
          null,
          "2023-05-04",
          "2023-05-26",
          null,
          "2023-05-19",
          "2023-06-13",
          null,
          "2023-05-05",
          "2023-06-06",
          null,
          "2023-05-12",
          "2023-06-13",
          null,
          "2023-05-23",
          "2023-06-22",
          null,
          "2023-05-31",
          "2023-07-05",
          null,
          "2023-05-23",
          "2023-06-22",
          null,
          "2023-05-31",
          "2023-06-29",
          null
         ],
         "xaxis": "x",
         "y": [
          0,
          0.5,
          null,
          0.5,
          1,
          null,
          1,
          1.5,
          null,
          1.5,
          2,
          null,
          2,
          2.5,
          null,
          2.5,
          3,
          null,
          3,
          3.5,
          null,
          3.5,
          4,
          null,
          4,
          4.5,
          null,
          4.5,
          5,
          null,
          5,
          5.5,
          null,
          5.5,
          6,
          null,
          6,
          6.5,
          null,
          6.5,
          7,
          null,
          7,
          7.5,
          null,
          7.5,
          8,
          null,
          8,
          8.5,
          null,
          8.5,
          9,
          null,
          9,
          9.5,
          null,
          9.5,
          10,
          null,
          10,
          10.5,
          null,
          10.5,
          11,
          null
         ],
         "yaxis": "y"
        },
        {
         "customdata": [
          [
           "2023-04-18",
           "2023-05-23",
           "L1"
          ],
          [
           "2023-04-18",
           "2023-05-23",
           "L1"
          ],
          [
           null,
           null,
           null
          ],
          [
           "2023-04-12",
           "2023-05-17",
           "L1"
          ],
          [
           "2023-04-12",
           "2023-05-17",
           "L1"
          ],
          [
           null,
           null,
           null
          ],
          [
           "2023-04-19",
           "2023-05-24",
           "L2"
          ],
          [
           "2023-04-19",
           "2023-05-24",
           "L2"
          ],
          [
           null,
           null,
           null
          ],
          [
           "2023-04-20",
           "2023-05-26",
           "L2"
          ],
          [
           "2023-04-20",
           "2023-05-26",
           "L2"
          ],
          [
           null,
           null,
           null
          ],
          [
           "2023-04-26",
           "2023-06-01",
           "L3"
          ],
          [
           "2023-04-26",
           "2023-06-01",
           "L3"
          ],
          [
           null,
           null,
           null
          ],
          [
           "2023-04-28",
           "2023-06-05",
           "L3"
          ],
          [
           "2023-04-28",
           "2023-06-05",
           "L3"
          ],
          [
           null,
           null,
           null
          ],
          [
           "2023-05-08",
           "2023-06-12",
           "L4"
          ],
          [
           "2023-05-08",
           "2023-06-12",
           "L4"
          ],
          [
           null,
           null,
           null
          ],
          [
           "2023-05-05",
           "2023-06-09",
           "L4"
          ],
          [
           "2023-05-05",
           "2023-06-09",
           "L4"
          ],
          [
           null,
           null,
           null
          ],
          [
           "2023-04-28",
           "2023-06-05",
           "L5"
          ],
          [
           "2023-04-28",
           "2023-06-05",
           "L5"
          ],
          [
           null,
           null,
           null
          ],
          [
           "2023-05-08",
           "2023-06-12",
           "L5"
          ],
          [
           "2023-05-08",
           "2023-06-12",
           "L5"
          ],
          [
           null,
           null,
           null
          ],
          [
           "2023-05-17",
           "2023-06-22",
           "L6"
          ],
          [
           "2023-05-17",
           "2023-06-22",
           "L6"
          ],
          [
           null,
           null,
           null
          ],
          [
           "2023-05-15",
           "2023-06-19",
           "L6"
          ],
          [
           "2023-05-15",
           "2023-06-19",
           "L6"
          ],
          [
           null,
           null,
           null
          ],
          [
           "2023-05-19",
           "2023-06-23",
           "L7"
          ],
          [
           "2023-05-19",
           "2023-06-23",
           "L7"
          ],
          [
           null,
           null,
           null
          ],
          [
           "2023-05-19",
           "2023-06-23",
           "L7"
          ],
          [
           "2023-05-19",
           "2023-06-23",
           "L7"
          ],
          [
           null,
           null,
           null
          ],
          [
           "2023-05-26",
           "2023-06-30",
           "L8"
          ],
          [
           "2023-05-26",
           "2023-06-30",
           "L8"
          ],
          [
           null,
           null,
           null
          ],
          [
           "2023-06-13",
           "2023-07-17",
           "L8"
          ],
          [
           "2023-06-13",
           "2023-07-17",
           "L8"
          ],
          [
           null,
           null,
           null
          ],
          [
           "2023-06-06",
           "2023-07-10",
           "L9"
          ],
          [
           "2023-06-06",
           "2023-07-10",
           "L9"
          ],
          [
           null,
           null,
           null
          ],
          [
           "2023-06-13",
           "2023-07-17",
           "L9"
          ],
          [
           "2023-06-13",
           "2023-07-17",
           "L9"
          ],
          [
           null,
           null,
           null
          ],
          [
           "2023-06-22",
           "2023-07-26",
           "L10"
          ],
          [
           "2023-06-22",
           "2023-07-26",
           "L10"
          ],
          [
           null,
           null,
           null
          ],
          [
           "2023-07-06",
           "2023-08-02",
           "L10"
          ],
          [
           "2023-07-06",
           "2023-08-02",
           "L10"
          ],
          [
           null,
           null,
           null
          ],
          [
           "2023-06-22",
           "2023-07-26",
           "L11"
          ],
          [
           "2023-06-22",
           "2023-07-26",
           "L11"
          ],
          [
           null,
           null,
           null
          ],
          [
           "2023-06-29",
           "2023-08-02",
           "L11"
          ],
          [
           "2023-06-29",
           "2023-08-02",
           "L11"
          ],
          [
           null,
           null,
           null
          ]
         ],
         "hovertemplate": "Initial Date: %{customdata[0]}<br>Final Date: %{customdata[1]}<br>Level: %{customdata[2]}",
         "legendgroup": "5, 5",
         "line": {
          "color": "#0099C6",
          "dash": "dash"
         },
         "marker": {
          "symbol": "circle"
         },
         "mode": "lines",
         "name": "Screed / Joinery / Kitchens Planned",
         "orientation": "v",
         "showlegend": true,
         "type": "scatter",
         "x": [
          "2023-04-18",
          "2023-05-23",
          null,
          "2023-04-12",
          "2023-05-17",
          null,
          "2023-04-19",
          "2023-05-24",
          null,
          "2023-04-20",
          "2023-05-26",
          null,
          "2023-04-26",
          "2023-06-01",
          null,
          "2023-04-28",
          "2023-06-05",
          null,
          "2023-05-08",
          "2023-06-12",
          null,
          "2023-05-05",
          "2023-06-09",
          null,
          "2023-04-28",
          "2023-06-05",
          null,
          "2023-05-08",
          "2023-06-12",
          null,
          "2023-05-17",
          "2023-06-22",
          null,
          "2023-05-15",
          "2023-06-19",
          null,
          "2023-05-19",
          "2023-06-23",
          null,
          "2023-05-19",
          "2023-06-23",
          null,
          "2023-05-26",
          "2023-06-30",
          null,
          "2023-06-13",
          "2023-07-17",
          null,
          "2023-06-06",
          "2023-07-10",
          null,
          "2023-06-13",
          "2023-07-17",
          null,
          "2023-06-22",
          "2023-07-26",
          null,
          "2023-07-06",
          "2023-08-02",
          null,
          "2023-06-22",
          "2023-07-26",
          null,
          "2023-06-29",
          "2023-08-02",
          null
         ],
         "xaxis": "x",
         "y": [
          0,
          0.5,
          null,
          0.5,
          1,
          null,
          1,
          1.5,
          null,
          1.5,
          2,
          null,
          2,
          2.5,
          null,
          2.5,
          3,
          null,
          3,
          3.5,
          null,
          3.5,
          4,
          null,
          4,
          4.5,
          null,
          4.5,
          5,
          null,
          5,
          5.5,
          null,
          5.5,
          6,
          null,
          6,
          6.5,
          null,
          6.5,
          7,
          null,
          7,
          7.5,
          null,
          7.5,
          8,
          null,
          8,
          8.5,
          null,
          8.5,
          9,
          null,
          9,
          9.5,
          null,
          9.5,
          10,
          null,
          10,
          10.5,
          null,
          10.5,
          11,
          null
         ],
         "yaxis": "y"
        },
        {
         "customdata": [
          [
           "2022-11-01",
           "2022-12-06T23:00:00",
           "L1"
          ],
          [
           "2022-11-01",
           "2022-12-06T23:00:00",
           "L1"
          ],
          [
           null,
           null,
           null
          ],
          [
           "2022-11-01",
           "2023-12-20T16:45:00",
           "L1"
          ],
          [
           "2022-11-01",
           "2023-12-20T16:45:00",
           "L1"
          ],
          [
           null,
           null,
           null
          ],
          [
           "2022-12-05",
           "2023-02-02T23:00:00",
           "L2"
          ],
          [
           "2022-12-05",
           "2023-02-02T23:00:00",
           "L2"
          ],
          [
           null,
           null,
           null
          ],
          [
           "2022-11-22",
           "2023-12-15T10:45:00",
           "L2"
          ],
          [
           "2022-11-22",
           "2023-12-15T10:45:00",
           "L2"
          ],
          [
           null,
           null,
           null
          ],
          [
           "2022-12-12",
           "2023-08-10T23:00:00",
           "L3"
          ],
          [
           "2022-12-12",
           "2023-08-10T23:00:00",
           "L3"
          ],
          [
           null,
           null,
           null
          ],
          [
           "2022-12-12",
           "2023-12-10T10:45:00",
           "L3"
          ],
          [
           "2022-12-12",
           "2023-12-10T10:45:00",
           "L3"
          ],
          [
           null,
           null,
           null
          ],
          [
           "2023-01-09",
           "2023-03-03T23:00:00",
           "L4"
          ],
          [
           "2023-01-09",
           "2023-03-03T23:00:00",
           "L4"
          ],
          [
           null,
           null,
           null
          ],
          [
           "2023-01-16",
           "2023-12-01T16:45:00",
           "L4"
          ],
          [
           "2023-01-16",
           "2023-12-01T16:45:00",
           "L4"
          ],
          [
           null,
           null,
           null
          ],
          [
           "2023-02-27",
           "2023-11-10T13:12:00",
           "L5"
          ],
          [
           "2023-02-27",
           "2023-11-10T13:12:00",
           "L5"
          ],
          [
           null,
           null,
           null
          ],
          [
           "2023-01-23",
           "2024-02-02T17:57:16.775819",
           "L5"
          ],
          [
           "2023-01-23",
           "2024-02-02T17:57:16.775819",
           "L5"
          ],
          [
           null,
           null,
           null
          ],
          [
           "2023-02-27",
           "2023-04-15T23:00:00",
           "L6"
          ],
          [
           "2023-02-27",
           "2023-04-15T23:00:00",
           "L6"
          ],
          [
           null,
           null,
           null
          ],
          [
           "2023-02-13",
           "2023-11-24T16:45:00",
           "L6"
          ],
          [
           "2023-02-13",
           "2023-11-24T16:45:00",
           "L6"
          ],
          [
           null,
           null,
           null
          ],
          [
           "2023-02-27",
           "2023-03-03T23:00:00",
           "L7"
          ],
          [
           "2023-02-27",
           "2023-03-03T23:00:00",
           "L7"
          ],
          [
           null,
           null,
           null
          ],
          [
           "2023-02-13",
           "2023-11-24T16:45:00",
           "L7"
          ],
          [
           "2023-02-13",
           "2023-11-24T16:45:00",
           "L7"
          ],
          [
           null,
           null,
           null
          ],
          [
           "2023-03-20",
           "2023-11-06T08:24:00",
           "L8"
          ],
          [
           "2023-03-20",
           "2023-11-06T08:24:00",
           "L8"
          ],
          [
           null,
           null,
           null
          ],
          [
           "2023-03-20",
           "2024-01-02T22:30:00",
           "L8"
          ],
          [
           "2023-03-20",
           "2024-01-02T22:30:00",
           "L8"
          ],
          [
           null,
           null,
           null
          ],
          [
           "2023-03-20",
           "2023-05-05T23:00:00",
           "L9"
          ],
          [
           "2023-03-20",
           "2023-05-05T23:00:00",
           "L9"
          ],
          [
           null,
           null,
           null
          ],
          [
           "2023-03-20",
           "2023-08-10T23:00:00",
           "L9"
          ],
          [
           "2023-03-20",
           "2023-08-10T23:00:00",
           "L9"
          ],
          [
           null,
           null,
           null
          ],
          [
           "2023-03-20",
           "2023-03-30T23:00:00",
           "L10"
          ],
          [
           "2023-03-20",
           "2023-03-30T23:00:00",
           "L10"
          ],
          [
           null,
           null,
           null
          ],
          [
           "2023-03-20",
           "2023-05-05T23:00:00",
           "L10"
          ],
          [
           "2023-03-20",
           "2023-05-05T23:00:00",
           "L10"
          ],
          [
           null,
           null,
           null
          ],
          [
           "2023-05-02",
           "2023-10-28T18:00:00",
           "L11"
          ],
          [
           "2023-05-02",
           "2023-10-28T18:00:00",
           "L11"
          ],
          [
           null,
           null,
           null
          ],
          [
           "2023-04-12",
           "2023-10-25T13:17:13.333333",
           "L11"
          ],
          [
           "2023-04-12",
           "2023-10-25T13:17:13.333333",
           "L11"
          ],
          [
           null,
           null,
           null
          ],
          [
           "2023-06-22",
           "2024-03-09T12:39:34.468085",
           "L12"
          ],
          [
           "2023-06-22",
           "2024-03-09T12:39:34.468085",
           "L12"
          ],
          [
           null,
           null,
           null
          ],
          [
           null,
           null,
           "L12"
          ],
          [
           null,
           null,
           "L12"
          ],
          [
           null,
           null,
           null
          ],
          [
           null,
           null,
           "L13"
          ],
          [
           null,
           null,
           "L13"
          ],
          [
           null,
           null,
           null
          ],
          [
           null,
           null,
           "L13"
          ],
          [
           null,
           null,
           "L13"
          ],
          [
           null,
           null,
           null
          ],
          [
           null,
           null,
           "L14"
          ],
          [
           null,
           null,
           "L14"
          ],
          [
           null,
           null,
           null
          ],
          [
           null,
           null,
           "L14"
          ],
          [
           null,
           null,
           "L14"
          ],
          [
           null,
           null,
           null
          ],
          [
           null,
           null,
           "L15"
          ],
          [
           null,
           null,
           "L15"
          ],
          [
           null,
           null,
           null
          ],
          [
           null,
           null,
           "L15"
          ],
          [
           null,
           null,
           "L15"
          ],
          [
           null,
           null,
           null
          ]
         ],
         "hovertemplate": "Initial Date: %{customdata[0]}<br>Final Date: %{customdata[1]}<br>Level: %{customdata[2]}",
         "legendgroup": "0",
         "line": {
          "color": "#3366CC",
          "dash": "solid"
         },
         "marker": {
          "symbol": "circle"
         },
         "mode": "lines",
         "name": "Demising Walls Actuals",
         "orientation": "v",
         "showlegend": true,
         "type": "scatter",
         "x": [
          "2022-11-01T00:00:00",
          "2022-12-06T23:00:00",
          null,
          "2022-11-01T00:00:00",
          "2023-12-20T16:45:00",
          null,
          "2022-12-05T00:00:00",
          "2023-02-02T23:00:00",
          null,
          "2022-11-22T00:00:00",
          "2023-12-15T10:45:00",
          null,
          "2022-12-12T00:00:00",
          "2023-08-10T23:00:00",
          null,
          "2022-12-12T00:00:00",
          "2023-12-10T10:45:00",
          null,
          "2023-01-09T00:00:00",
          "2023-03-03T23:00:00",
          null,
          "2023-01-16T00:00:00",
          "2023-12-01T16:45:00",
          null,
          "2023-02-27T00:00:00",
          "2023-11-10T13:12:00",
          null,
          "2023-01-23T00:00:00",
          "2024-02-02T17:57:16.775819",
          null,
          "2023-02-27T00:00:00",
          "2023-04-15T23:00:00",
          null,
          "2023-02-13T00:00:00",
          "2023-11-24T16:45:00",
          null,
          "2023-02-27T00:00:00",
          "2023-03-03T23:00:00",
          null,
          "2023-02-13T00:00:00",
          "2023-11-24T16:45:00",
          null,
          "2023-03-20T00:00:00",
          "2023-11-06T08:24:00",
          null,
          "2023-03-20T00:00:00",
          "2024-01-02T22:30:00",
          null,
          "2023-03-20T00:00:00",
          "2023-05-05T23:00:00",
          null,
          "2023-03-20T00:00:00",
          "2023-08-10T23:00:00",
          null,
          "2023-03-20T00:00:00",
          "2023-03-30T23:00:00",
          null,
          "2023-03-20T00:00:00",
          "2023-05-05T23:00:00",
          null,
          "2023-05-02T00:00:00",
          "2023-10-28T18:00:00",
          null,
          "2023-04-12T00:00:00",
          "2023-10-25T13:17:13.333333",
          null,
          "2023-06-22T00:00:00",
          "2024-03-09T12:39:34.468085",
          null,
          null,
          null,
          null,
          null,
          null,
          null,
          null,
          null,
          null,
          null,
          null,
          null,
          null,
          null,
          null,
          null,
          null,
          null,
          null,
          null,
          null
         ],
         "xaxis": "x",
         "y": [
          0,
          0.5,
          null,
          0.5,
          1,
          null,
          1,
          1.5,
          null,
          1.5,
          2,
          null,
          2,
          2.5,
          null,
          2.5,
          3,
          null,
          3,
          3.5,
          null,
          3.5,
          4,
          null,
          4,
          4.5,
          null,
          4.5,
          5,
          null,
          5,
          5.5,
          null,
          5.5,
          6,
          null,
          6,
          6.5,
          null,
          6.5,
          7,
          null,
          7,
          7.5,
          null,
          7.5,
          8,
          null,
          8,
          8.5,
          null,
          8.5,
          9,
          null,
          9,
          9.5,
          null,
          9.5,
          10,
          null,
          10,
          10.5,
          null,
          10.5,
          11,
          null,
          11,
          11.5,
          null,
          11.5,
          12,
          null,
          12,
          12.5,
          null,
          12.5,
          13,
          null,
          13,
          13.5,
          null,
          13.5,
          14,
          null,
          14,
          14.5,
          null,
          14.5,
          15,
          null
         ],
         "yaxis": "y"
        },
        {
         "customdata": [
          [
           "2023-01-09",
           "2023-05-13T23:00:00",
           "L1"
          ],
          [
           "2023-01-09",
           "2023-05-13T23:00:00",
           "L1"
          ],
          [
           null,
           null,
           null
          ],
          [
           "2022-12-12",
           "2023-05-13T23:00:00",
           "L1"
          ],
          [
           "2022-12-12",
           "2023-05-13T23:00:00",
           "L1"
          ],
          [
           null,
           null,
           null
          ],
          [
           "2023-01-30",
           "2023-06-09T23:00:00",
           "L2"
          ],
          [
           "2023-01-30",
           "2023-06-09T23:00:00",
           "L2"
          ],
          [
           null,
           null,
           null
          ],
          [
           "2023-01-26",
           "2023-06-19T23:00:00",
           "L2"
          ],
          [
           "2023-01-26",
           "2023-06-19T23:00:00",
           "L2"
          ],
          [
           null,
           null,
           null
          ],
          [
           "2023-02-07",
           "2023-07-22T23:00:00",
           "L3"
          ],
          [
           "2023-02-07",
           "2023-07-22T23:00:00",
           "L3"
          ],
          [
           null,
           null,
           null
          ],
          [
           "2023-02-02",
           "2023-07-22T23:00:00",
           "L3"
          ],
          [
           "2023-02-02",
           "2023-07-22T23:00:00",
           "L3"
          ],
          [
           null,
           null,
           null
          ],
          [
           "2023-02-27",
           "2023-07-22T23:00:00",
           "L4"
          ],
          [
           "2023-02-27",
           "2023-07-22T23:00:00",
           "L4"
          ],
          [
           null,
           null,
           null
          ],
          [
           "2023-02-07",
           "2023-07-22T23:00:00",
           "L4"
          ],
          [
           "2023-02-07",
           "2023-07-22T23:00:00",
           "L4"
          ],
          [
           null,
           null,
           null
          ],
          [
           "2023-02-27",
           "2023-07-22T23:00:00",
           "L5"
          ],
          [
           "2023-02-27",
           "2023-07-22T23:00:00",
           "L5"
          ],
          [
           null,
           null,
           null
          ],
          [
           "2023-02-27",
           "2023-11-21T18:05:15.657620",
           "L5"
          ],
          [
           "2023-02-27",
           "2023-11-21T18:05:15.657620",
           "L5"
          ],
          [
           null,
           null,
           null
          ],
          [
           "2023-03-14",
           "2023-08-17T23:00:00",
           "L6"
          ],
          [
           "2023-03-14",
           "2023-08-17T23:00:00",
           "L6"
          ],
          [
           null,
           null,
           null
          ],
          [
           "2023-02-27",
           "2023-08-17T23:00:00",
           "L6"
          ],
          [
           "2023-02-27",
           "2023-08-17T23:00:00",
           "L6"
          ],
          [
           null,
           null,
           null
          ],
          [
           "2023-03-14",
           "2023-08-17T23:00:00",
           "L7"
          ],
          [
           "2023-03-14",
           "2023-08-17T23:00:00",
           "L7"
          ],
          [
           null,
           null,
           null
          ],
          [
           "2023-03-14",
           "2023-08-17T23:00:00",
           "L7"
          ],
          [
           "2023-03-14",
           "2023-08-17T23:00:00",
           "L7"
          ],
          [
           null,
           null,
           null
          ],
          [
           "2023-03-20",
           "2023-08-17T23:00:00",
           "L8"
          ],
          [
           "2023-03-20",
           "2023-08-17T23:00:00",
           "L8"
          ],
          [
           null,
           null,
           null
          ],
          [
           "2023-03-20",
           "2023-08-17T23:00:00",
           "L8"
          ],
          [
           "2023-03-20",
           "2023-08-17T23:00:00",
           "L8"
          ],
          [
           null,
           null,
           null
          ],
          [
           "2023-06-15",
           "2023-10-26T04:32:38.690176",
           "L9"
          ],
          [
           "2023-06-15",
           "2023-10-26T04:32:38.690176",
           "L9"
          ],
          [
           null,
           null,
           null
          ],
          [
           "2023-05-23",
           "2023-10-19T18:55:48.837209",
           "L9"
          ],
          [
           "2023-05-23",
           "2023-10-19T18:55:48.837209",
           "L9"
          ],
          [
           null,
           null,
           null
          ],
          [
           "2023-07-13",
           "2023-10-09T15:38:40.728929",
           "L10"
          ],
          [
           "2023-07-13",
           "2023-10-09T15:38:40.728929",
           "L10"
          ],
          [
           null,
           null,
           null
          ],
          [
           "2023-06-22",
           "2023-10-15T04:05:35.664336",
           "L10"
          ],
          [
           "2023-06-22",
           "2023-10-15T04:05:35.664336",
           "L10"
          ],
          [
           null,
           null,
           null
          ],
          [
           "2023-07-13",
           "2023-11-19T23:31:50.614525",
           "L11"
          ],
          [
           "2023-07-13",
           "2023-11-19T23:31:50.614525",
           "L11"
          ],
          [
           null,
           null,
           null
          ],
          [
           "2023-06-22",
           "2023-10-30T05:34:59.208443",
           "L11"
          ],
          [
           "2023-06-22",
           "2023-10-30T05:34:59.208443",
           "L11"
          ],
          [
           null,
           null,
           null
          ],
          [
           "2023-08-03",
           "2023-11-16T18:58:52.584270",
           "L12"
          ],
          [
           "2023-08-03",
           "2023-11-16T18:58:52.584270",
           "L12"
          ],
          [
           null,
           null,
           null
          ],
          [
           null,
           null,
           "L12"
          ],
          [
           null,
           null,
           "L12"
          ],
          [
           null,
           null,
           null
          ],
          [
           "2023-09-14",
           "2023-11-04T22:37:39.854015",
           "L13"
          ],
          [
           "2023-09-14",
           "2023-11-04T22:37:39.854015",
           "L13"
          ],
          [
           null,
           null,
           null
          ],
          [
           null,
           null,
           "L13"
          ],
          [
           null,
           null,
           "L13"
          ],
          [
           null,
           null,
           null
          ],
          [
           null,
           null,
           "L14"
          ],
          [
           null,
           null,
           "L14"
          ],
          [
           null,
           null,
           null
          ],
          [
           null,
           null,
           "L14"
          ],
          [
           null,
           null,
           "L14"
          ],
          [
           null,
           null,
           null
          ],
          [
           null,
           null,
           "L15"
          ],
          [
           null,
           null,
           "L15"
          ],
          [
           null,
           null,
           null
          ],
          [
           null,
           null,
           "L15"
          ],
          [
           null,
           null,
           "L15"
          ],
          [
           null,
           null,
           null
          ]
         ],
         "hovertemplate": "Initial Date: %{customdata[0]}<br>Final Date: %{customdata[1]}<br>Level: %{customdata[2]}",
         "legendgroup": "1",
         "line": {
          "color": "#DC3912",
          "dash": "solid"
         },
         "marker": {
          "symbol": "circle"
         },
         "mode": "lines",
         "name": "HL MEP Services (1st Fix) Actuals",
         "orientation": "v",
         "showlegend": true,
         "type": "scatter",
         "x": [
          "2023-01-09T00:00:00",
          "2023-05-13T23:00:00",
          null,
          "2022-12-12T00:00:00",
          "2023-05-13T23:00:00",
          null,
          "2023-01-30T00:00:00",
          "2023-06-09T23:00:00",
          null,
          "2023-01-26T00:00:00",
          "2023-06-19T23:00:00",
          null,
          "2023-02-07T00:00:00",
          "2023-07-22T23:00:00",
          null,
          "2023-02-02T00:00:00",
          "2023-07-22T23:00:00",
          null,
          "2023-02-27T00:00:00",
          "2023-07-22T23:00:00",
          null,
          "2023-02-07T00:00:00",
          "2023-07-22T23:00:00",
          null,
          "2023-02-27T00:00:00",
          "2023-07-22T23:00:00",
          null,
          "2023-02-27T00:00:00",
          "2023-11-21T18:05:15.657620",
          null,
          "2023-03-14T00:00:00",
          "2023-08-17T23:00:00",
          null,
          "2023-02-27T00:00:00",
          "2023-08-17T23:00:00",
          null,
          "2023-03-14T00:00:00",
          "2023-08-17T23:00:00",
          null,
          "2023-03-14T00:00:00",
          "2023-08-17T23:00:00",
          null,
          "2023-03-20T00:00:00",
          "2023-08-17T23:00:00",
          null,
          "2023-03-20T00:00:00",
          "2023-08-17T23:00:00",
          null,
          "2023-06-15T00:00:00",
          "2023-10-26T04:32:38.690176",
          null,
          "2023-05-23T00:00:00",
          "2023-10-19T18:55:48.837209",
          null,
          "2023-07-13T00:00:00",
          "2023-10-09T15:38:40.728929",
          null,
          "2023-06-22T00:00:00",
          "2023-10-15T04:05:35.664336",
          null,
          "2023-07-13T00:00:00",
          "2023-11-19T23:31:50.614525",
          null,
          "2023-06-22T00:00:00",
          "2023-10-30T05:34:59.208443",
          null,
          "2023-08-03T00:00:00",
          "2023-11-16T18:58:52.584270",
          null,
          null,
          null,
          null,
          "2023-09-14T00:00:00",
          "2023-11-04T22:37:39.854015",
          null,
          null,
          null,
          null,
          null,
          null,
          null,
          null,
          null,
          null,
          null,
          null,
          null,
          null,
          null,
          null
         ],
         "xaxis": "x",
         "y": [
          0,
          0.5,
          null,
          0.5,
          1,
          null,
          1,
          1.5,
          null,
          1.5,
          2,
          null,
          2,
          2.5,
          null,
          2.5,
          3,
          null,
          3,
          3.5,
          null,
          3.5,
          4,
          null,
          4,
          4.5,
          null,
          4.5,
          5,
          null,
          5,
          5.5,
          null,
          5.5,
          6,
          null,
          6,
          6.5,
          null,
          6.5,
          7,
          null,
          7,
          7.5,
          null,
          7.5,
          8,
          null,
          8,
          8.5,
          null,
          8.5,
          9,
          null,
          9,
          9.5,
          null,
          9.5,
          10,
          null,
          10,
          10.5,
          null,
          10.5,
          11,
          null,
          11,
          11.5,
          null,
          11.5,
          12,
          null,
          12,
          12.5,
          null,
          12.5,
          13,
          null,
          13,
          13.5,
          null,
          13.5,
          14,
          null,
          14,
          14.5,
          null,
          14.5,
          15,
          null
         ],
         "yaxis": "y"
        },
        {
         "customdata": [
          [
           "2022-11-22",
           "2023-08-17T23:00:00",
           "L1"
          ],
          [
           "2022-11-22",
           "2023-08-17T23:00:00",
           "L1"
          ],
          [
           null,
           null,
           null
          ],
          [
           "2022-11-28",
           "2023-06-19T23:00:00",
           "L1"
          ],
          [
           "2022-11-28",
           "2023-06-19T23:00:00",
           "L1"
          ],
          [
           null,
           null,
           null
          ],
          [
           "2023-01-26",
           "2023-08-10T23:00:00",
           "L2"
          ],
          [
           "2023-01-26",
           "2023-08-10T23:00:00",
           "L2"
          ],
          [
           null,
           null,
           null
          ],
          [
           "2023-01-26",
           "2023-07-28T23:00:00",
           "L2"
          ],
          [
           "2023-01-26",
           "2023-07-28T23:00:00",
           "L2"
          ],
          [
           null,
           null,
           null
          ],
          [
           "2023-02-07",
           "2023-08-17T23:00:00",
           "L3"
          ],
          [
           "2023-02-07",
           "2023-08-17T23:00:00",
           "L3"
          ],
          [
           null,
           null,
           null
          ],
          [
           "2023-01-26",
           "2023-08-10T23:00:00",
           "L3"
          ],
          [
           "2023-01-26",
           "2023-08-10T23:00:00",
           "L3"
          ],
          [
           null,
           null,
           null
          ],
          [
           "2023-01-26",
           "2023-08-10T23:00:00",
           "L4"
          ],
          [
           "2023-01-26",
           "2023-08-10T23:00:00",
           "L4"
          ],
          [
           null,
           null,
           null
          ],
          [
           "2023-01-16",
           "2023-08-10T23:00:00",
           "L4"
          ],
          [
           "2023-01-16",
           "2023-08-10T23:00:00",
           "L4"
          ],
          [
           null,
           null,
           null
          ],
          [
           "2023-02-27",
           "2023-12-13T02:32:36.257046",
           "L5"
          ],
          [
           "2023-02-27",
           "2023-12-13T02:32:36.257046",
           "L5"
          ],
          [
           null,
           null,
           null
          ],
          [
           "2023-02-27",
           "2023-11-13T00:01:27.228672",
           "L5"
          ],
          [
           "2023-02-27",
           "2023-11-13T00:01:27.228672",
           "L5"
          ],
          [
           null,
           null,
           null
          ],
          [
           "2023-02-13",
           "2023-09-28T23:00:00",
           "L6"
          ],
          [
           "2023-02-13",
           "2023-09-28T23:00:00",
           "L6"
          ],
          [
           null,
           null,
           null
          ],
          [
           "2023-02-27",
           "2023-09-22T23:00:00",
           "L6"
          ],
          [
           "2023-02-27",
           "2023-09-22T23:00:00",
           "L6"
          ],
          [
           null,
           null,
           null
          ],
          [
           "2023-02-13",
           "2023-09-28T23:00:00",
           "L7"
          ],
          [
           "2023-02-13",
           "2023-09-28T23:00:00",
           "L7"
          ],
          [
           null,
           null,
           null
          ],
          [
           "2023-03-14",
           "2023-10-18T18:37:21.584158",
           "L7"
          ],
          [
           "2023-03-14",
           "2023-10-18T18:37:21.584158",
           "L7"
          ],
          [
           null,
           null,
           null
          ],
          [
           "2023-03-20",
           "2023-11-21T16:57:36",
           "L8"
          ],
          [
           "2023-03-20",
           "2023-11-21T16:57:36",
           "L8"
          ],
          [
           null,
           null,
           null
          ],
          [
           "2023-03-20",
           "2023-11-14T10:58:52.919255",
           "L8"
          ],
          [
           "2023-03-20",
           "2023-11-14T10:58:52.919255",
           "L8"
          ],
          [
           null,
           null,
           null
          ],
          [
           "2023-03-20",
           "2023-11-05T14:45:55.980861",
           "L9"
          ],
          [
           "2023-03-20",
           "2023-11-05T14:45:55.980861",
           "L9"
          ],
          [
           null,
           null,
           null
          ],
          [
           "2023-03-20",
           "2023-09-28T23:00:00",
           "L9"
          ],
          [
           "2023-03-20",
           "2023-09-28T23:00:00",
           "L9"
          ],
          [
           null,
           null,
           null
          ],
          [
           "2023-03-20",
           "2023-12-01T02:15:32.890365",
           "L10"
          ],
          [
           "2023-03-20",
           "2023-12-01T02:15:32.890365",
           "L10"
          ],
          [
           null,
           null,
           null
          ],
          [
           "2023-03-20",
           "2023-09-28T23:00:00",
           "L10"
          ],
          [
           "2023-03-20",
           "2023-09-28T23:00:00",
           "L10"
          ],
          [
           null,
           null,
           null
          ],
          [
           "2023-06-15",
           "2023-12-09T03:41:32.307692",
           "L11"
          ],
          [
           "2023-06-15",
           "2023-12-09T03:41:32.307692",
           "L11"
          ],
          [
           null,
           null,
           null
          ],
          [
           "2023-06-15",
           "2023-10-11T23:55:40.978078",
           "L11"
          ],
          [
           "2023-06-15",
           "2023-10-11T23:55:40.978078",
           "L11"
          ],
          [
           null,
           null,
           null
          ],
          [
           "2023-07-24",
           "2023-12-11T21:22:12.343584",
           "L12"
          ],
          [
           "2023-07-24",
           "2023-12-11T21:22:12.343584",
           "L12"
          ],
          [
           null,
           null,
           null
          ],
          [
           null,
           null,
           "L12"
          ],
          [
           null,
           null,
           "L12"
          ],
          [
           null,
           null,
           null
          ],
          [
           "2023-07-24",
           "2023-11-22T06:03:10.337284",
           "L13"
          ],
          [
           "2023-07-24",
           "2023-11-22T06:03:10.337284",
           "L13"
          ],
          [
           null,
           null,
           null
          ],
          [
           null,
           null,
           "L13"
          ],
          [
           null,
           null,
           "L13"
          ],
          [
           null,
           null,
           null
          ],
          [
           null,
           null,
           "L14"
          ],
          [
           null,
           null,
           "L14"
          ],
          [
           null,
           null,
           null
          ],
          [
           null,
           null,
           "L14"
          ],
          [
           null,
           null,
           "L14"
          ],
          [
           null,
           null,
           null
          ],
          [
           null,
           null,
           "L15"
          ],
          [
           null,
           null,
           "L15"
          ],
          [
           null,
           null,
           null
          ],
          [
           null,
           null,
           "L15"
          ],
          [
           null,
           null,
           "L15"
          ],
          [
           null,
           null,
           null
          ]
         ],
         "hovertemplate": "Initial Date: %{customdata[0]}<br>Final Date: %{customdata[1]}<br>Level: %{customdata[2]}",
         "legendgroup": "2",
         "line": {
          "color": "#FF9900",
          "dash": "solid"
         },
         "marker": {
          "symbol": "circle"
         },
         "mode": "lines",
         "name": "Internal walls 2nd Drylining Visit Actuals",
         "orientation": "v",
         "showlegend": true,
         "type": "scatter",
         "x": [
          "2022-11-22T00:00:00",
          "2023-08-17T23:00:00",
          null,
          "2022-11-28T00:00:00",
          "2023-06-19T23:00:00",
          null,
          "2023-01-26T00:00:00",
          "2023-08-10T23:00:00",
          null,
          "2023-01-26T00:00:00",
          "2023-07-28T23:00:00",
          null,
          "2023-02-07T00:00:00",
          "2023-08-17T23:00:00",
          null,
          "2023-01-26T00:00:00",
          "2023-08-10T23:00:00",
          null,
          "2023-01-26T00:00:00",
          "2023-08-10T23:00:00",
          null,
          "2023-01-16T00:00:00",
          "2023-08-10T23:00:00",
          null,
          "2023-02-27T00:00:00",
          "2023-12-13T02:32:36.257046",
          null,
          "2023-02-27T00:00:00",
          "2023-11-13T00:01:27.228672",
          null,
          "2023-02-13T00:00:00",
          "2023-09-28T23:00:00",
          null,
          "2023-02-27T00:00:00",
          "2023-09-22T23:00:00",
          null,
          "2023-02-13T00:00:00",
          "2023-09-28T23:00:00",
          null,
          "2023-03-14T00:00:00",
          "2023-10-18T18:37:21.584158",
          null,
          "2023-03-20T00:00:00",
          "2023-11-21T16:57:36",
          null,
          "2023-03-20T00:00:00",
          "2023-11-14T10:58:52.919255",
          null,
          "2023-03-20T00:00:00",
          "2023-11-05T14:45:55.980861",
          null,
          "2023-03-20T00:00:00",
          "2023-09-28T23:00:00",
          null,
          "2023-03-20T00:00:00",
          "2023-12-01T02:15:32.890365",
          null,
          "2023-03-20T00:00:00",
          "2023-09-28T23:00:00",
          null,
          "2023-06-15T00:00:00",
          "2023-12-09T03:41:32.307692",
          null,
          "2023-06-15T00:00:00",
          "2023-10-11T23:55:40.978078",
          null,
          "2023-07-24T00:00:00",
          "2023-12-11T21:22:12.343584",
          null,
          null,
          null,
          null,
          "2023-07-24T00:00:00",
          "2023-11-22T06:03:10.337284",
          null,
          null,
          null,
          null,
          null,
          null,
          null,
          null,
          null,
          null,
          null,
          null,
          null,
          null,
          null,
          null
         ],
         "xaxis": "x",
         "y": [
          0,
          0.5,
          null,
          0.5,
          1,
          null,
          1,
          1.5,
          null,
          1.5,
          2,
          null,
          2,
          2.5,
          null,
          2.5,
          3,
          null,
          3,
          3.5,
          null,
          3.5,
          4,
          null,
          4,
          4.5,
          null,
          4.5,
          5,
          null,
          5,
          5.5,
          null,
          5.5,
          6,
          null,
          6,
          6.5,
          null,
          6.5,
          7,
          null,
          7,
          7.5,
          null,
          7.5,
          8,
          null,
          8,
          8.5,
          null,
          8.5,
          9,
          null,
          9,
          9.5,
          null,
          9.5,
          10,
          null,
          10,
          10.5,
          null,
          10.5,
          11,
          null,
          11,
          11.5,
          null,
          11.5,
          12,
          null,
          12,
          12.5,
          null,
          12.5,
          13,
          null,
          13,
          13.5,
          null,
          13.5,
          14,
          null,
          14,
          14.5,
          null,
          14.5,
          15,
          null
         ],
         "yaxis": "y"
        },
        {
         "customdata": [
          [
           "2023-04-12",
           "2023-05-23T23:00:00",
           "L1"
          ],
          [
           "2023-04-12",
           "2023-05-23T23:00:00",
           "L1"
          ],
          [
           null,
           null,
           null
          ],
          [
           "2023-02-07",
           "2023-08-17T23:00:00",
           "L1"
          ],
          [
           "2023-02-07",
           "2023-08-17T23:00:00",
           "L1"
          ],
          [
           null,
           null,
           null
          ],
          [
           "2023-04-12",
           "2023-08-17T23:00:00",
           "L2"
          ],
          [
           "2023-04-12",
           "2023-08-17T23:00:00",
           "L2"
          ],
          [
           null,
           null,
           null
          ],
          [
           "2023-04-12",
           "2023-06-19T23:00:00",
           "L2"
          ],
          [
           "2023-04-12",
           "2023-06-19T23:00:00",
           "L2"
          ],
          [
           null,
           null,
           null
          ],
          [
           "2023-04-27",
           "2023-08-17T23:00:00",
           "L3"
          ],
          [
           "2023-04-27",
           "2023-08-17T23:00:00",
           "L3"
          ],
          [
           null,
           null,
           null
          ],
          [
           "2023-05-05",
           "2023-08-17T23:00:00",
           "L3"
          ],
          [
           "2023-05-05",
           "2023-08-17T23:00:00",
           "L3"
          ],
          [
           null,
           null,
           null
          ],
          [
           "2023-05-05",
           "2023-08-17T23:00:00",
           "L4"
          ],
          [
           "2023-05-05",
           "2023-08-17T23:00:00",
           "L4"
          ],
          [
           null,
           null,
           null
          ],
          [
           "2023-05-18",
           "2023-08-17T23:00:00",
           "L4"
          ],
          [
           "2023-05-18",
           "2023-08-17T23:00:00",
           "L4"
          ],
          [
           null,
           null,
           null
          ],
          [
           "2023-05-18",
           "2023-10-25T13:12:00",
           "L5"
          ],
          [
           "2023-05-18",
           "2023-10-25T13:12:00",
           "L5"
          ],
          [
           null,
           null,
           null
          ],
          [
           "2023-06-15",
           "2023-10-19T22:48:00",
           "L5"
          ],
          [
           "2023-06-15",
           "2023-10-19T22:48:00",
           "L5"
          ],
          [
           null,
           null,
           null
          ],
          [
           "2023-05-18",
           "2023-08-17T23:00:00",
           "L6"
          ],
          [
           "2023-05-18",
           "2023-08-17T23:00:00",
           "L6"
          ],
          [
           null,
           null,
           null
          ],
          [
           "2023-06-19",
           "2023-08-17T23:00:00",
           "L6"
          ],
          [
           "2023-06-19",
           "2023-08-17T23:00:00",
           "L6"
          ],
          [
           null,
           null,
           null
          ],
          [
           "2023-05-23",
           "2023-08-10T23:00:00",
           "L7"
          ],
          [
           "2023-05-23",
           "2023-08-10T23:00:00",
           "L7"
          ],
          [
           null,
           null,
           null
          ],
          [
           "2023-05-23",
           "2023-08-17T23:00:00",
           "L7"
          ],
          [
           "2023-05-23",
           "2023-08-17T23:00:00",
           "L7"
          ],
          [
           null,
           null,
           null
          ],
          [
           "2023-06-22",
           "2023-12-23T16:07:30",
           "L8"
          ],
          [
           "2023-06-22",
           "2023-12-23T16:07:30",
           "L8"
          ],
          [
           null,
           null,
           null
          ],
          [
           "2023-07-13",
           "2023-10-30T03:18:58.173302",
           "L8"
          ],
          [
           "2023-07-13",
           "2023-10-30T03:18:58.173302",
           "L8"
          ],
          [
           null,
           null,
           null
          ],
          [
           "2023-07-24",
           "2023-11-13T19:03:03.050847",
           "L9"
          ],
          [
           "2023-07-24",
           "2023-11-13T19:03:03.050847",
           "L9"
          ],
          [
           null,
           null,
           null
          ],
          [
           "2023-07-13",
           "2023-11-03T04:25:11.370262",
           "L9"
          ],
          [
           "2023-07-13",
           "2023-11-03T04:25:11.370262",
           "L9"
          ],
          [
           null,
           null,
           null
          ],
          [
           "2023-08-03",
           "2024-01-09T23:20:27.272727",
           "L10"
          ],
          [
           "2023-08-03",
           "2024-01-09T23:20:27.272727",
           "L10"
          ],
          [
           null,
           null,
           null
          ],
          [
           "2023-08-03",
           "2023-11-09T11:43:16.515679",
           "L10"
          ],
          [
           "2023-08-03",
           "2023-11-09T11:43:16.515679",
           "L10"
          ],
          [
           null,
           null,
           null
          ],
          [
           null,
           null,
           "L11"
          ],
          [
           null,
           null,
           "L11"
          ],
          [
           null,
           null,
           null
          ],
          [
           "2023-08-17",
           "2024-03-12T17:08:54.653465",
           "L11"
          ],
          [
           "2023-08-17",
           "2024-03-12T17:08:54.653465",
           "L11"
          ],
          [
           null,
           null,
           null
          ],
          [
           null,
           null,
           "L12"
          ],
          [
           null,
           null,
           "L12"
          ],
          [
           null,
           null,
           null
          ],
          [
           null,
           null,
           "L12"
          ],
          [
           null,
           null,
           "L12"
          ],
          [
           null,
           null,
           null
          ],
          [
           null,
           null,
           "L13"
          ],
          [
           null,
           null,
           "L13"
          ],
          [
           null,
           null,
           null
          ],
          [
           null,
           null,
           "L13"
          ],
          [
           null,
           null,
           "L13"
          ],
          [
           null,
           null,
           null
          ],
          [
           null,
           null,
           "L14"
          ],
          [
           null,
           null,
           "L14"
          ],
          [
           null,
           null,
           null
          ],
          [
           null,
           null,
           "L14"
          ],
          [
           null,
           null,
           "L14"
          ],
          [
           null,
           null,
           null
          ],
          [
           null,
           null,
           "L15"
          ],
          [
           null,
           null,
           "L15"
          ],
          [
           null,
           null,
           null
          ],
          [
           null,
           null,
           "L15"
          ],
          [
           null,
           null,
           "L15"
          ],
          [
           null,
           null,
           null
          ]
         ],
         "hovertemplate": "Initial Date: %{customdata[0]}<br>Final Date: %{customdata[1]}<br>Level: %{customdata[2]}",
         "legendgroup": "3",
         "line": {
          "color": "#109618",
          "dash": "solid"
         },
         "marker": {
          "symbol": "circle"
         },
         "mode": "lines",
         "name": "HL MEP Services (2nd Fix) Actuals",
         "orientation": "v",
         "showlegend": true,
         "type": "scatter",
         "x": [
          "2023-04-12T00:00:00",
          "2023-05-23T23:00:00",
          null,
          "2023-02-07T00:00:00",
          "2023-08-17T23:00:00",
          null,
          "2023-04-12T00:00:00",
          "2023-08-17T23:00:00",
          null,
          "2023-04-12T00:00:00",
          "2023-06-19T23:00:00",
          null,
          "2023-04-27T00:00:00",
          "2023-08-17T23:00:00",
          null,
          "2023-05-05T00:00:00",
          "2023-08-17T23:00:00",
          null,
          "2023-05-05T00:00:00",
          "2023-08-17T23:00:00",
          null,
          "2023-05-18T00:00:00",
          "2023-08-17T23:00:00",
          null,
          "2023-05-18T00:00:00",
          "2023-10-25T13:12:00",
          null,
          "2023-06-15T00:00:00",
          "2023-10-19T22:48:00",
          null,
          "2023-05-18T00:00:00",
          "2023-08-17T23:00:00",
          null,
          "2023-06-19T00:00:00",
          "2023-08-17T23:00:00",
          null,
          "2023-05-23T00:00:00",
          "2023-08-10T23:00:00",
          null,
          "2023-05-23T00:00:00",
          "2023-08-17T23:00:00",
          null,
          "2023-06-22T00:00:00",
          "2023-12-23T16:07:30",
          null,
          "2023-07-13T00:00:00",
          "2023-10-30T03:18:58.173302",
          null,
          "2023-07-24T00:00:00",
          "2023-11-13T19:03:03.050847",
          null,
          "2023-07-13T00:00:00",
          "2023-11-03T04:25:11.370262",
          null,
          "2023-08-03T00:00:00",
          "2024-01-09T23:20:27.272727",
          null,
          "2023-08-03T00:00:00",
          "2023-11-09T11:43:16.515679",
          null,
          null,
          null,
          null,
          "2023-08-17T00:00:00",
          "2024-03-12T17:08:54.653465",
          null,
          null,
          null,
          null,
          null,
          null,
          null,
          null,
          null,
          null,
          null,
          null,
          null,
          null,
          null,
          null,
          null,
          null,
          null,
          null,
          null,
          null,
          null,
          null,
          null
         ],
         "xaxis": "x",
         "y": [
          0,
          0.5,
          null,
          0.5,
          1,
          null,
          1,
          1.5,
          null,
          1.5,
          2,
          null,
          2,
          2.5,
          null,
          2.5,
          3,
          null,
          3,
          3.5,
          null,
          3.5,
          4,
          null,
          4,
          4.5,
          null,
          4.5,
          5,
          null,
          5,
          5.5,
          null,
          5.5,
          6,
          null,
          6,
          6.5,
          null,
          6.5,
          7,
          null,
          7,
          7.5,
          null,
          7.5,
          8,
          null,
          8,
          8.5,
          null,
          8.5,
          9,
          null,
          9,
          9.5,
          null,
          9.5,
          10,
          null,
          10,
          10.5,
          null,
          10.5,
          11,
          null,
          11,
          11.5,
          null,
          11.5,
          12,
          null,
          12,
          12.5,
          null,
          12.5,
          13,
          null,
          13,
          13.5,
          null,
          13.5,
          14,
          null,
          14,
          14.5,
          null,
          14.5,
          15,
          null
         ],
         "yaxis": "y"
        },
        {
         "customdata": [
          [
           "2023-06-07",
           "2023-10-22T12:07:58.549849",
           "L1"
          ],
          [
           "2023-06-07",
           "2023-10-22T12:07:58.549849",
           "L1"
          ],
          [
           null,
           null,
           null
          ],
          [
           "2023-03-14",
           "2023-06-30T23:00:00",
           "L1"
          ],
          [
           "2023-03-14",
           "2023-06-30T23:00:00",
           "L1"
          ],
          [
           null,
           null,
           null
          ],
          [
           "2023-06-22",
           "2023-10-24T23:56:57.721519",
           "L2"
          ],
          [
           "2023-06-22",
           "2023-10-24T23:56:57.721519",
           "L2"
          ],
          [
           null,
           null,
           null
          ],
          [
           "2023-06-22",
           "2023-08-17T23:00:00",
           "L2"
          ],
          [
           "2023-06-22",
           "2023-08-17T23:00:00",
           "L2"
          ],
          [
           null,
           null,
           null
          ],
          [
           "2023-07-13",
           "2023-10-09T07:17:31.616563",
           "L3"
          ],
          [
           "2023-07-13",
           "2023-10-09T07:17:31.616563",
           "L3"
          ],
          [
           null,
           null,
           null
          ],
          [
           "2023-07-13",
           "2023-10-09T20:26:50.958904",
           "L3"
          ],
          [
           "2023-07-13",
           "2023-10-09T20:26:50.958904",
           "L3"
          ],
          [
           null,
           null,
           null
          ],
          [
           "2023-07-13",
           "2023-08-10T23:00:00",
           "L4"
          ],
          [
           "2023-07-13",
           "2023-08-10T23:00:00",
           "L4"
          ],
          [
           null,
           null,
           null
          ],
          [
           "2023-07-13",
           "2023-08-10T23:00:00",
           "L4"
          ],
          [
           "2023-07-13",
           "2023-08-10T23:00:00",
           "L4"
          ],
          [
           null,
           null,
           null
          ],
          [
           "2023-07-13",
           "2023-11-15T15:05:35.222672",
           "L5"
          ],
          [
           "2023-07-13",
           "2023-11-15T15:05:35.222672",
           "L5"
          ],
          [
           null,
           null,
           null
          ],
          [
           "2023-08-03",
           "2023-10-17T20:39:19.866221",
           "L5"
          ],
          [
           "2023-08-03",
           "2023-10-17T20:39:19.866221",
           "L5"
          ],
          [
           null,
           null,
           null
          ],
          [
           "2023-08-03",
           "2023-10-12T03:02:55.663990",
           "L6"
          ],
          [
           "2023-08-03",
           "2023-10-12T03:02:55.663990",
           "L6"
          ],
          [
           null,
           null,
           null
          ],
          [
           "2023-08-03",
           "2023-10-11T11:49:07.858017",
           "L6"
          ],
          [
           "2023-08-03",
           "2023-10-11T11:49:07.858017",
           "L6"
          ],
          [
           null,
           null,
           null
          ],
          [
           "2023-08-03",
           "2023-09-22T23:00:00",
           "L7"
          ],
          [
           "2023-08-03",
           "2023-09-22T23:00:00",
           "L7"
          ],
          [
           null,
           null,
           null
          ],
          [
           "2023-08-03",
           "2023-10-03T03:18:36.174100",
           "L7"
          ],
          [
           "2023-08-03",
           "2023-10-03T03:18:36.174100",
           "L7"
          ],
          [
           null,
           null,
           null
          ],
          [
           "2023-08-10",
           "2023-10-26T13:08:00.781759",
           "L8"
          ],
          [
           "2023-08-10",
           "2023-10-26T13:08:00.781759",
           "L8"
          ],
          [
           null,
           null,
           null
          ],
          [
           "2023-08-10",
           "2023-10-23T21:35:05.660377",
           "L8"
          ],
          [
           "2023-08-10",
           "2023-10-23T21:35:05.660377",
           "L8"
          ],
          [
           null,
           null,
           null
          ],
          [
           "2023-09-14",
           "2023-10-06T08:37:27.589901",
           "L9"
          ],
          [
           "2023-09-14",
           "2023-10-06T08:37:27.589901",
           "L9"
          ],
          [
           null,
           null,
           null
          ],
          [
           "2023-08-17",
           "2023-10-10T23:10:36.655949",
           "L9"
          ],
          [
           "2023-08-17",
           "2023-10-10T23:10:36.655949",
           "L9"
          ],
          [
           null,
           null,
           null
          ],
          [
           "2023-09-14",
           "2023-10-02T21:45:45.606158",
           "L10"
          ],
          [
           "2023-09-14",
           "2023-10-02T21:45:45.606158",
           "L10"
          ],
          [
           null,
           null,
           null
          ],
          [
           "2023-09-14",
           "2023-10-02T13:38:55.808685",
           "L10"
          ],
          [
           "2023-09-14",
           "2023-10-02T13:38:55.808685",
           "L10"
          ],
          [
           null,
           null,
           null
          ],
          [
           "2023-09-14",
           "2023-10-11T18:41:09.064748",
           "L11"
          ],
          [
           "2023-09-14",
           "2023-10-11T18:41:09.064748",
           "L11"
          ],
          [
           null,
           null,
           null
          ],
          [
           "2023-09-14",
           "2023-10-12T14:03:19.209486",
           "L11"
          ],
          [
           "2023-09-14",
           "2023-10-12T14:03:19.209486",
           "L11"
          ],
          [
           null,
           null,
           null
          ],
          [
           null,
           null,
           "L12"
          ],
          [
           null,
           null,
           "L12"
          ],
          [
           null,
           null,
           null
          ],
          [
           null,
           null,
           "L12"
          ],
          [
           null,
           null,
           "L12"
          ],
          [
           null,
           null,
           null
          ],
          [
           null,
           null,
           "L13"
          ],
          [
           null,
           null,
           "L13"
          ],
          [
           null,
           null,
           null
          ],
          [
           null,
           null,
           "L13"
          ],
          [
           null,
           null,
           "L13"
          ],
          [
           null,
           null,
           null
          ],
          [
           null,
           null,
           "L14"
          ],
          [
           null,
           null,
           "L14"
          ],
          [
           null,
           null,
           null
          ],
          [
           null,
           null,
           "L14"
          ],
          [
           null,
           null,
           "L14"
          ],
          [
           null,
           null,
           null
          ],
          [
           null,
           null,
           "L15"
          ],
          [
           null,
           null,
           "L15"
          ],
          [
           null,
           null,
           null
          ],
          [
           null,
           null,
           "L15"
          ],
          [
           null,
           null,
           "L15"
          ],
          [
           null,
           null,
           null
          ]
         ],
         "hovertemplate": "Initial Date: %{customdata[0]}<br>Final Date: %{customdata[1]}<br>Level: %{customdata[2]}",
         "legendgroup": "4",
         "line": {
          "color": "#990099",
          "dash": "solid"
         },
         "marker": {
          "symbol": "circle"
         },
         "mode": "lines",
         "name": "Final Drylining / Install Ceilings Actuals",
         "orientation": "v",
         "showlegend": true,
         "type": "scatter",
         "x": [
          "2023-06-07T00:00:00",
          "2023-10-22T12:07:58.549849",
          null,
          "2023-03-14T00:00:00",
          "2023-06-30T23:00:00",
          null,
          "2023-06-22T00:00:00",
          "2023-10-24T23:56:57.721519",
          null,
          "2023-06-22T00:00:00",
          "2023-08-17T23:00:00",
          null,
          "2023-07-13T00:00:00",
          "2023-10-09T07:17:31.616563",
          null,
          "2023-07-13T00:00:00",
          "2023-10-09T20:26:50.958904",
          null,
          "2023-07-13T00:00:00",
          "2023-08-10T23:00:00",
          null,
          "2023-07-13T00:00:00",
          "2023-08-10T23:00:00",
          null,
          "2023-07-13T00:00:00",
          "2023-11-15T15:05:35.222672",
          null,
          "2023-08-03T00:00:00",
          "2023-10-17T20:39:19.866221",
          null,
          "2023-08-03T00:00:00",
          "2023-10-12T03:02:55.663990",
          null,
          "2023-08-03T00:00:00",
          "2023-10-11T11:49:07.858017",
          null,
          "2023-08-03T00:00:00",
          "2023-09-22T23:00:00",
          null,
          "2023-08-03T00:00:00",
          "2023-10-03T03:18:36.174100",
          null,
          "2023-08-10T00:00:00",
          "2023-10-26T13:08:00.781759",
          null,
          "2023-08-10T00:00:00",
          "2023-10-23T21:35:05.660377",
          null,
          "2023-09-14T00:00:00",
          "2023-10-06T08:37:27.589901",
          null,
          "2023-08-17T00:00:00",
          "2023-10-10T23:10:36.655949",
          null,
          "2023-09-14T00:00:00",
          "2023-10-02T21:45:45.606158",
          null,
          "2023-09-14T00:00:00",
          "2023-10-02T13:38:55.808685",
          null,
          "2023-09-14T00:00:00",
          "2023-10-11T18:41:09.064748",
          null,
          "2023-09-14T00:00:00",
          "2023-10-12T14:03:19.209486",
          null,
          null,
          null,
          null,
          null,
          null,
          null,
          null,
          null,
          null,
          null,
          null,
          null,
          null,
          null,
          null,
          null,
          null,
          null,
          null,
          null,
          null,
          null,
          null,
          null
         ],
         "xaxis": "x",
         "y": [
          0,
          0.5,
          null,
          0.5,
          1,
          null,
          1,
          1.5,
          null,
          1.5,
          2,
          null,
          2,
          2.5,
          null,
          2.5,
          3,
          null,
          3,
          3.5,
          null,
          3.5,
          4,
          null,
          4,
          4.5,
          null,
          4.5,
          5,
          null,
          5,
          5.5,
          null,
          5.5,
          6,
          null,
          6,
          6.5,
          null,
          6.5,
          7,
          null,
          7,
          7.5,
          null,
          7.5,
          8,
          null,
          8,
          8.5,
          null,
          8.5,
          9,
          null,
          9,
          9.5,
          null,
          9.5,
          10,
          null,
          10,
          10.5,
          null,
          10.5,
          11,
          null,
          11,
          11.5,
          null,
          11.5,
          12,
          null,
          12,
          12.5,
          null,
          12.5,
          13,
          null,
          13,
          13.5,
          null,
          13.5,
          14,
          null,
          14,
          14.5,
          null,
          14.5,
          15,
          null
         ],
         "yaxis": "y"
        },
        {
         "customdata": [
          [
           "2023-06-22",
           "2023-11-10T17:52:24.827586",
           "L1"
          ],
          [
           "2023-06-22",
           "2023-11-10T17:52:24.827586",
           "L1"
          ],
          [
           null,
           null,
           null
          ],
          [
           "2023-03-20",
           "2023-10-20T14:29:01.246291",
           "L1"
          ],
          [
           "2023-03-20",
           "2023-10-20T14:29:01.246291",
           "L1"
          ],
          [
           null,
           null,
           null
          ],
          [
           "2023-07-13",
           "2023-10-30T09:24:30.422535",
           "L2"
          ],
          [
           "2023-07-13",
           "2023-10-30T09:24:30.422535",
           "L2"
          ],
          [
           null,
           null,
           null
          ],
          [
           "2023-07-27",
           "2023-10-04T17:33:47.947598",
           "L2"
          ],
          [
           "2023-07-27",
           "2023-10-04T17:33:47.947598",
           "L2"
          ],
          [
           null,
           null,
           null
          ],
          [
           "2023-07-27",
           "2023-11-14T16:24:15.052265",
           "L3"
          ],
          [
           "2023-07-27",
           "2023-11-14T16:24:15.052265",
           "L3"
          ],
          [
           null,
           null,
           null
          ],
          [
           "2023-07-13",
           "2023-10-27T14:46:00.109790",
           "L3"
          ],
          [
           "2023-07-13",
           "2023-10-27T14:46:00.109790",
           "L3"
          ],
          [
           null,
           null,
           null
          ],
          [
           "2023-08-03",
           "2023-10-06T16:27:07.921093",
           "L4"
          ],
          [
           "2023-08-03",
           "2023-10-06T16:27:07.921093",
           "L4"
          ],
          [
           null,
           null,
           null
          ],
          [
           "2023-07-27",
           "2023-10-04T00:55:30.259366",
           "L4"
          ],
          [
           "2023-07-27",
           "2023-10-04T00:55:30.259366",
           "L4"
          ],
          [
           null,
           null,
           null
          ],
          [
           "2023-08-03",
           "2023-12-28T14:46:38.253275",
           "L5"
          ],
          [
           "2023-08-03",
           "2023-12-28T14:46:38.253275",
           "L5"
          ],
          [
           null,
           null,
           null
          ],
          [
           "2023-08-03",
           "2023-10-25T08:36:53.573181",
           "L5"
          ],
          [
           "2023-08-03",
           "2023-10-25T08:36:53.573181",
           "L5"
          ],
          [
           null,
           null,
           null
          ],
          [
           "2023-08-10",
           "2023-10-10T10:37:02.222222",
           "L6"
          ],
          [
           "2023-08-10",
           "2023-10-10T10:37:02.222222",
           "L6"
          ],
          [
           null,
           null,
           null
          ],
          [
           "2023-08-03",
           "2023-10-14T04:39:05.038168",
           "L6"
          ],
          [
           "2023-08-03",
           "2023-10-14T04:39:05.038168",
           "L6"
          ],
          [
           null,
           null,
           null
          ],
          [
           "2023-09-14",
           "2023-09-30T21:32:56.309795",
           "L7"
          ],
          [
           "2023-09-14",
           "2023-09-30T21:32:56.309795",
           "L7"
          ],
          [
           null,
           null,
           null
          ],
          [
           "2023-09-14",
           "2023-10-04T18:30:15.297450",
           "L7"
          ],
          [
           "2023-09-14",
           "2023-10-04T18:30:15.297450",
           "L7"
          ],
          [
           null,
           null,
           null
          ],
          [
           "2023-09-14",
           "2023-10-08T20:38:58.461538",
           "L8"
          ],
          [
           "2023-09-14",
           "2023-10-08T20:38:58.461538",
           "L8"
          ],
          [
           null,
           null,
           null
          ],
          [
           "2023-09-14",
           "2023-10-07T17:12:28.643761",
           "L8"
          ],
          [
           "2023-09-14",
           "2023-10-07T17:12:28.643761",
           "L8"
          ],
          [
           null,
           null,
           null
          ],
          [
           "2023-09-14",
           "2023-10-19T10:28:48.947368",
           "L9"
          ],
          [
           "2023-09-14",
           "2023-10-19T10:28:48.947368",
           "L9"
          ],
          [
           null,
           null,
           null
          ],
          [
           "2023-09-14",
           "2023-10-05T08:48:47.626459",
           "L9"
          ],
          [
           "2023-09-14",
           "2023-10-05T08:48:47.626459",
           "L9"
          ],
          [
           null,
           null,
           null
          ],
          [
           "2023-09-14",
           "2023-10-17T12:16:46.211180",
           "L10"
          ],
          [
           "2023-09-14",
           "2023-10-17T12:16:46.211180",
           "L10"
          ],
          [
           null,
           null,
           null
          ],
          [
           "2023-09-14",
           "2023-10-16T10:30:16.216216",
           "L10"
          ],
          [
           "2023-09-14",
           "2023-10-16T10:30:16.216216",
           "L10"
          ],
          [
           null,
           null,
           null
          ],
          [
           "2023-09-14",
           "2023-10-31T02:25:19.266055",
           "L11"
          ],
          [
           "2023-09-14",
           "2023-10-31T02:25:19.266055",
           "L11"
          ],
          [
           null,
           null,
           null
          ],
          [
           "2023-09-14",
           "2023-11-05T07:37:03.529412",
           "L11"
          ],
          [
           "2023-09-14",
           "2023-11-05T07:37:03.529412",
           "L11"
          ],
          [
           null,
           null,
           null
          ],
          [
           null,
           null,
           "L12"
          ],
          [
           null,
           null,
           "L12"
          ],
          [
           null,
           null,
           null
          ],
          [
           null,
           null,
           "L12"
          ],
          [
           null,
           null,
           "L12"
          ],
          [
           null,
           null,
           null
          ],
          [
           null,
           null,
           "L13"
          ],
          [
           null,
           null,
           "L13"
          ],
          [
           null,
           null,
           null
          ],
          [
           null,
           null,
           "L13"
          ],
          [
           null,
           null,
           "L13"
          ],
          [
           null,
           null,
           null
          ],
          [
           null,
           null,
           "L14"
          ],
          [
           null,
           null,
           "L14"
          ],
          [
           null,
           null,
           null
          ],
          [
           null,
           null,
           "L14"
          ],
          [
           null,
           null,
           "L14"
          ],
          [
           null,
           null,
           null
          ],
          [
           null,
           null,
           "L15"
          ],
          [
           null,
           null,
           "L15"
          ],
          [
           null,
           null,
           null
          ],
          [
           null,
           null,
           "L15"
          ],
          [
           null,
           null,
           "L15"
          ],
          [
           null,
           null,
           null
          ]
         ],
         "hovertemplate": "Initial Date: %{customdata[0]}<br>Final Date: %{customdata[1]}<br>Level: %{customdata[2]}",
         "legendgroup": "5",
         "line": {
          "color": "#0099C6",
          "dash": "solid"
         },
         "marker": {
          "symbol": "circle"
         },
         "mode": "lines",
         "name": "Screed / Joinery / Kitchens Actuals",
         "orientation": "v",
         "showlegend": true,
         "type": "scatter",
         "x": [
          "2023-06-22T00:00:00",
          "2023-11-10T17:52:24.827586",
          null,
          "2023-03-20T00:00:00",
          "2023-10-20T14:29:01.246291",
          null,
          "2023-07-13T00:00:00",
          "2023-10-30T09:24:30.422535",
          null,
          "2023-07-27T00:00:00",
          "2023-10-04T17:33:47.947598",
          null,
          "2023-07-27T00:00:00",
          "2023-11-14T16:24:15.052265",
          null,
          "2023-07-13T00:00:00",
          "2023-10-27T14:46:00.109790",
          null,
          "2023-08-03T00:00:00",
          "2023-10-06T16:27:07.921093",
          null,
          "2023-07-27T00:00:00",
          "2023-10-04T00:55:30.259366",
          null,
          "2023-08-03T00:00:00",
          "2023-12-28T14:46:38.253275",
          null,
          "2023-08-03T00:00:00",
          "2023-10-25T08:36:53.573181",
          null,
          "2023-08-10T00:00:00",
          "2023-10-10T10:37:02.222222",
          null,
          "2023-08-03T00:00:00",
          "2023-10-14T04:39:05.038168",
          null,
          "2023-09-14T00:00:00",
          "2023-09-30T21:32:56.309795",
          null,
          "2023-09-14T00:00:00",
          "2023-10-04T18:30:15.297450",
          null,
          "2023-09-14T00:00:00",
          "2023-10-08T20:38:58.461538",
          null,
          "2023-09-14T00:00:00",
          "2023-10-07T17:12:28.643761",
          null,
          "2023-09-14T00:00:00",
          "2023-10-19T10:28:48.947368",
          null,
          "2023-09-14T00:00:00",
          "2023-10-05T08:48:47.626459",
          null,
          "2023-09-14T00:00:00",
          "2023-10-17T12:16:46.211180",
          null,
          "2023-09-14T00:00:00",
          "2023-10-16T10:30:16.216216",
          null,
          "2023-09-14T00:00:00",
          "2023-10-31T02:25:19.266055",
          null,
          "2023-09-14T00:00:00",
          "2023-11-05T07:37:03.529412",
          null,
          null,
          null,
          null,
          null,
          null,
          null,
          null,
          null,
          null,
          null,
          null,
          null,
          null,
          null,
          null,
          null,
          null,
          null,
          null,
          null,
          null,
          null,
          null,
          null
         ],
         "xaxis": "x",
         "y": [
          0,
          0.5,
          null,
          0.5,
          1,
          null,
          1,
          1.5,
          null,
          1.5,
          2,
          null,
          2,
          2.5,
          null,
          2.5,
          3,
          null,
          3,
          3.5,
          null,
          3.5,
          4,
          null,
          4,
          4.5,
          null,
          4.5,
          5,
          null,
          5,
          5.5,
          null,
          5.5,
          6,
          null,
          6,
          6.5,
          null,
          6.5,
          7,
          null,
          7,
          7.5,
          null,
          7.5,
          8,
          null,
          8,
          8.5,
          null,
          8.5,
          9,
          null,
          9,
          9.5,
          null,
          9.5,
          10,
          null,
          10,
          10.5,
          null,
          10.5,
          11,
          null,
          11,
          11.5,
          null,
          11.5,
          12,
          null,
          12,
          12.5,
          null,
          12.5,
          13,
          null,
          13,
          13.5,
          null,
          13.5,
          14,
          null,
          14,
          14.5,
          null,
          14.5,
          15,
          null
         ],
         "yaxis": "y"
        }
       ],
       "layout": {
        "annotations": [
         {
          "font": {
           "size": 8
          },
          "showarrow": false,
          "text": "<b>1-5<b>",
          "x": -0.02608695652173913,
          "xref": "paper",
          "y": 0.25,
          "yref": "y"
         },
         {
          "font": {
           "size": 8
          },
          "showarrow": false,
          "text": "<b>6-10<b>",
          "x": -0.02608695652173913,
          "xref": "paper",
          "y": 0.75,
          "yref": "y"
         },
         {
          "font": {
           "size": 8
          },
          "showarrow": false,
          "text": "<b>1-5<b>",
          "x": -0.02608695652173913,
          "xref": "paper",
          "y": 1.25,
          "yref": "y"
         },
         {
          "font": {
           "size": 8
          },
          "showarrow": false,
          "text": "<b>6-10<b>",
          "x": -0.02608695652173913,
          "xref": "paper",
          "y": 1.75,
          "yref": "y"
         },
         {
          "font": {
           "size": 8
          },
          "showarrow": false,
          "text": "<b>1-5<b>",
          "x": -0.02608695652173913,
          "xref": "paper",
          "y": 2.25,
          "yref": "y"
         },
         {
          "font": {
           "size": 8
          },
          "showarrow": false,
          "text": "<b>6-10<b>",
          "x": -0.02608695652173913,
          "xref": "paper",
          "y": 2.75,
          "yref": "y"
         },
         {
          "font": {
           "size": 8
          },
          "showarrow": false,
          "text": "<b>1-5<b>",
          "x": -0.02608695652173913,
          "xref": "paper",
          "y": 3.25,
          "yref": "y"
         },
         {
          "font": {
           "size": 8
          },
          "showarrow": false,
          "text": "<b>6-10<b>",
          "x": -0.02608695652173913,
          "xref": "paper",
          "y": 3.75,
          "yref": "y"
         },
         {
          "font": {
           "size": 8
          },
          "showarrow": false,
          "text": "<b>1-5<b>",
          "x": -0.02608695652173913,
          "xref": "paper",
          "y": 4.25,
          "yref": "y"
         },
         {
          "font": {
           "size": 8
          },
          "showarrow": false,
          "text": "<b>6-10<b>",
          "x": -0.02608695652173913,
          "xref": "paper",
          "y": 4.75,
          "yref": "y"
         },
         {
          "font": {
           "size": 8
          },
          "showarrow": false,
          "text": "<b>1-5<b>",
          "x": -0.02608695652173913,
          "xref": "paper",
          "y": 5.25,
          "yref": "y"
         },
         {
          "font": {
           "size": 8
          },
          "showarrow": false,
          "text": "<b>6-10<b>",
          "x": -0.02608695652173913,
          "xref": "paper",
          "y": 5.75,
          "yref": "y"
         },
         {
          "font": {
           "size": 8
          },
          "showarrow": false,
          "text": "<b>1-5<b>",
          "x": -0.02608695652173913,
          "xref": "paper",
          "y": 6.25,
          "yref": "y"
         },
         {
          "font": {
           "size": 8
          },
          "showarrow": false,
          "text": "<b>6-10<b>",
          "x": -0.02608695652173913,
          "xref": "paper",
          "y": 6.75,
          "yref": "y"
         },
         {
          "font": {
           "size": 8
          },
          "showarrow": false,
          "text": "<b>1-5<b>",
          "x": -0.02608695652173913,
          "xref": "paper",
          "y": 7.25,
          "yref": "y"
         },
         {
          "font": {
           "size": 8
          },
          "showarrow": false,
          "text": "<b>6-10<b>",
          "x": -0.02608695652173913,
          "xref": "paper",
          "y": 7.75,
          "yref": "y"
         },
         {
          "font": {
           "size": 8
          },
          "showarrow": false,
          "text": "<b>1-5<b>",
          "x": -0.02608695652173913,
          "xref": "paper",
          "y": 8.25,
          "yref": "y"
         },
         {
          "font": {
           "size": 8
          },
          "showarrow": false,
          "text": "<b>6-10<b>",
          "x": -0.02608695652173913,
          "xref": "paper",
          "y": 8.75,
          "yref": "y"
         },
         {
          "font": {
           "size": 8
          },
          "showarrow": false,
          "text": "<b>1-5<b>",
          "x": -0.02608695652173913,
          "xref": "paper",
          "y": 9.25,
          "yref": "y"
         },
         {
          "font": {
           "size": 8
          },
          "showarrow": false,
          "text": "<b>6-10<b>",
          "x": -0.02608695652173913,
          "xref": "paper",
          "y": 9.75,
          "yref": "y"
         },
         {
          "font": {
           "size": 8
          },
          "showarrow": false,
          "text": "<b>1-5<b>",
          "x": -0.02608695652173913,
          "xref": "paper",
          "y": 10.25,
          "yref": "y"
         },
         {
          "font": {
           "size": 8
          },
          "showarrow": false,
          "text": "<b>6-10<b>",
          "x": -0.02608695652173913,
          "xref": "paper",
          "y": 10.75,
          "yref": "y"
         },
         {
          "font": {
           "size": 8
          },
          "showarrow": false,
          "text": "<b>1-5<b>",
          "x": -0.02608695652173913,
          "xref": "paper",
          "y": 11.25,
          "yref": "y"
         },
         {
          "font": {
           "size": 8
          },
          "showarrow": false,
          "text": "<b>6-10<b>",
          "x": -0.02608695652173913,
          "xref": "paper",
          "y": 11.75,
          "yref": "y"
         },
         {
          "font": {
           "size": 8
          },
          "showarrow": false,
          "text": "<b>1-5<b>",
          "x": -0.02608695652173913,
          "xref": "paper",
          "y": 12.25,
          "yref": "y"
         },
         {
          "font": {
           "size": 8
          },
          "showarrow": false,
          "text": "<b>6-10<b>",
          "x": -0.02608695652173913,
          "xref": "paper",
          "y": 12.75,
          "yref": "y"
         },
         {
          "font": {
           "size": 9
          },
          "showarrow": false,
          "text": "<b>L1<b>",
          "x": -0.05217391304347826,
          "xref": "paper",
          "y": 0.5,
          "yref": "y"
         },
         {
          "font": {
           "size": 9
          },
          "showarrow": false,
          "text": "<b>L2<b>",
          "x": -0.05217391304347826,
          "xref": "paper",
          "y": 1.5,
          "yref": "y"
         },
         {
          "font": {
           "size": 9
          },
          "showarrow": false,
          "text": "<b>L3<b>",
          "x": -0.05217391304347826,
          "xref": "paper",
          "y": 2.5,
          "yref": "y"
         },
         {
          "font": {
           "size": 9
          },
          "showarrow": false,
          "text": "<b>L4<b>",
          "x": -0.05217391304347826,
          "xref": "paper",
          "y": 3.5,
          "yref": "y"
         },
         {
          "font": {
           "size": 9
          },
          "showarrow": false,
          "text": "<b>L5<b>",
          "x": -0.05217391304347826,
          "xref": "paper",
          "y": 4.5,
          "yref": "y"
         },
         {
          "font": {
           "size": 9
          },
          "showarrow": false,
          "text": "<b>L6<b>",
          "x": -0.05217391304347826,
          "xref": "paper",
          "y": 5.5,
          "yref": "y"
         },
         {
          "font": {
           "size": 9
          },
          "showarrow": false,
          "text": "<b>L7<b>",
          "x": -0.05217391304347826,
          "xref": "paper",
          "y": 6.5,
          "yref": "y"
         },
         {
          "font": {
           "size": 9
          },
          "showarrow": false,
          "text": "<b>L8<b>",
          "x": -0.05217391304347826,
          "xref": "paper",
          "y": 7.5,
          "yref": "y"
         },
         {
          "font": {
           "size": 9
          },
          "showarrow": false,
          "text": "<b>L9<b>",
          "x": -0.05217391304347826,
          "xref": "paper",
          "y": 8.5,
          "yref": "y"
         },
         {
          "font": {
           "size": 9
          },
          "showarrow": false,
          "text": "<b>L10<b>",
          "x": -0.05217391304347826,
          "xref": "paper",
          "y": 9.5,
          "yref": "y"
         },
         {
          "font": {
           "size": 9
          },
          "showarrow": false,
          "text": "<b>L11<b>",
          "x": -0.05217391304347826,
          "xref": "paper",
          "y": 10.5,
          "yref": "y"
         },
         {
          "font": {
           "size": 9
          },
          "showarrow": false,
          "text": "<b>L12<b>",
          "x": -0.05217391304347826,
          "xref": "paper",
          "y": 11.5,
          "yref": "y"
         },
         {
          "font": {
           "size": 9
          },
          "showarrow": false,
          "text": "<b>L13<b>",
          "x": -0.05217391304347826,
          "xref": "paper",
          "y": 12.5,
          "yref": "y"
         }
        ],
        "height": 860,
        "legend": {
         "tracegroupgap": 0
        },
        "plot_bgcolor": "#eaeaf2",
        "shapes": [
         {
          "fillcolor": "#eaeaf2",
          "line": {
           "color": "#ffffff",
           "width": 1.5
          },
          "opacity": 1,
          "type": "rect",
          "x0": -0.05217391304347826,
          "x1": 0,
          "xref": "paper",
          "y0": 0,
          "y1": 1,
          "yref": "paper"
         },
         {
          "line": {
           "color": "#ffffff",
           "width": 1.5
          },
          "opacity": 1,
          "type": "line",
          "x0": -0.05217391304347826,
          "x1": 0,
          "xref": "paper",
          "y0": 0,
          "y1": 0,
          "yref": "y"
         },
         {
          "line": {
           "color": "#ffffff",
           "width": 1.5
          },
          "opacity": 1,
          "type": "line",
          "x0": -0.02608695652173913,
          "x1": 0,
          "xref": "paper",
          "y0": 0.5,
          "y1": 0.5,
          "yref": "y"
         },
         {
          "line": {
           "color": "#ffffff",
           "width": 1.5
          },
          "opacity": 1,
          "type": "line",
          "x0": -0.05217391304347826,
          "x1": 0,
          "xref": "paper",
          "y0": 1,
          "y1": 1,
          "yref": "y"
         },
         {
          "line": {
           "color": "#ffffff",
           "width": 1.5
          },
          "opacity": 1,
          "type": "line",
          "x0": -0.02608695652173913,
          "x1": 0,
          "xref": "paper",
          "y0": 1.5,
          "y1": 1.5,
          "yref": "y"
         },
         {
          "line": {
           "color": "#ffffff",
           "width": 1.5
          },
          "opacity": 1,
          "type": "line",
          "x0": -0.05217391304347826,
          "x1": 0,
          "xref": "paper",
          "y0": 2,
          "y1": 2,
          "yref": "y"
         },
         {
          "line": {
           "color": "#ffffff",
           "width": 1.5
          },
          "opacity": 1,
          "type": "line",
          "x0": -0.02608695652173913,
          "x1": 0,
          "xref": "paper",
          "y0": 2.5,
          "y1": 2.5,
          "yref": "y"
         },
         {
          "line": {
           "color": "#ffffff",
           "width": 1.5
          },
          "opacity": 1,
          "type": "line",
          "x0": -0.05217391304347826,
          "x1": 0,
          "xref": "paper",
          "y0": 3,
          "y1": 3,
          "yref": "y"
         },
         {
          "line": {
           "color": "#ffffff",
           "width": 1.5
          },
          "opacity": 1,
          "type": "line",
          "x0": -0.02608695652173913,
          "x1": 0,
          "xref": "paper",
          "y0": 3.5,
          "y1": 3.5,
          "yref": "y"
         },
         {
          "line": {
           "color": "#ffffff",
           "width": 1.5
          },
          "opacity": 1,
          "type": "line",
          "x0": -0.05217391304347826,
          "x1": 0,
          "xref": "paper",
          "y0": 4,
          "y1": 4,
          "yref": "y"
         },
         {
          "line": {
           "color": "#ffffff",
           "width": 1.5
          },
          "opacity": 1,
          "type": "line",
          "x0": -0.02608695652173913,
          "x1": 0,
          "xref": "paper",
          "y0": 4.5,
          "y1": 4.5,
          "yref": "y"
         },
         {
          "line": {
           "color": "#ffffff",
           "width": 1.5
          },
          "opacity": 1,
          "type": "line",
          "x0": -0.05217391304347826,
          "x1": 0,
          "xref": "paper",
          "y0": 5,
          "y1": 5,
          "yref": "y"
         },
         {
          "line": {
           "color": "#ffffff",
           "width": 1.5
          },
          "opacity": 1,
          "type": "line",
          "x0": -0.02608695652173913,
          "x1": 0,
          "xref": "paper",
          "y0": 5.5,
          "y1": 5.5,
          "yref": "y"
         },
         {
          "line": {
           "color": "#ffffff",
           "width": 1.5
          },
          "opacity": 1,
          "type": "line",
          "x0": -0.05217391304347826,
          "x1": 0,
          "xref": "paper",
          "y0": 6,
          "y1": 6,
          "yref": "y"
         },
         {
          "line": {
           "color": "#ffffff",
           "width": 1.5
          },
          "opacity": 1,
          "type": "line",
          "x0": -0.02608695652173913,
          "x1": 0,
          "xref": "paper",
          "y0": 6.5,
          "y1": 6.5,
          "yref": "y"
         },
         {
          "line": {
           "color": "#ffffff",
           "width": 1.5
          },
          "opacity": 1,
          "type": "line",
          "x0": -0.05217391304347826,
          "x1": 0,
          "xref": "paper",
          "y0": 7,
          "y1": 7,
          "yref": "y"
         },
         {
          "line": {
           "color": "#ffffff",
           "width": 1.5
          },
          "opacity": 1,
          "type": "line",
          "x0": -0.02608695652173913,
          "x1": 0,
          "xref": "paper",
          "y0": 7.5,
          "y1": 7.5,
          "yref": "y"
         },
         {
          "line": {
           "color": "#ffffff",
           "width": 1.5
          },
          "opacity": 1,
          "type": "line",
          "x0": -0.05217391304347826,
          "x1": 0,
          "xref": "paper",
          "y0": 8,
          "y1": 8,
          "yref": "y"
         },
         {
          "line": {
           "color": "#ffffff",
           "width": 1.5
          },
          "opacity": 1,
          "type": "line",
          "x0": -0.02608695652173913,
          "x1": 0,
          "xref": "paper",
          "y0": 8.5,
          "y1": 8.5,
          "yref": "y"
         },
         {
          "line": {
           "color": "#ffffff",
           "width": 1.5
          },
          "opacity": 1,
          "type": "line",
          "x0": -0.05217391304347826,
          "x1": 0,
          "xref": "paper",
          "y0": 9,
          "y1": 9,
          "yref": "y"
         },
         {
          "line": {
           "color": "#ffffff",
           "width": 1.5
          },
          "opacity": 1,
          "type": "line",
          "x0": -0.02608695652173913,
          "x1": 0,
          "xref": "paper",
          "y0": 9.5,
          "y1": 9.5,
          "yref": "y"
         },
         {
          "line": {
           "color": "#ffffff",
           "width": 1.5
          },
          "opacity": 1,
          "type": "line",
          "x0": -0.05217391304347826,
          "x1": 0,
          "xref": "paper",
          "y0": 10,
          "y1": 10,
          "yref": "y"
         },
         {
          "line": {
           "color": "#ffffff",
           "width": 1.5
          },
          "opacity": 1,
          "type": "line",
          "x0": -0.02608695652173913,
          "x1": 0,
          "xref": "paper",
          "y0": 10.5,
          "y1": 10.5,
          "yref": "y"
         },
         {
          "line": {
           "color": "#ffffff",
           "width": 1.5
          },
          "opacity": 1,
          "type": "line",
          "x0": -0.05217391304347826,
          "x1": 0,
          "xref": "paper",
          "y0": 11,
          "y1": 11,
          "yref": "y"
         },
         {
          "line": {
           "color": "#ffffff",
           "width": 1.5
          },
          "opacity": 1,
          "type": "line",
          "x0": -0.02608695652173913,
          "x1": 0,
          "xref": "paper",
          "y0": 11.5,
          "y1": 11.5,
          "yref": "y"
         },
         {
          "line": {
           "color": "#ffffff",
           "width": 1.5
          },
          "opacity": 1,
          "type": "line",
          "x0": -0.05217391304347826,
          "x1": 0,
          "xref": "paper",
          "y0": 12,
          "y1": 12,
          "yref": "y"
         },
         {
          "line": {
           "color": "#ffffff",
           "width": 1.5
          },
          "opacity": 1,
          "type": "line",
          "x0": -0.02608695652173913,
          "x1": 0,
          "xref": "paper",
          "y0": 12.5,
          "y1": 12.5,
          "yref": "y"
         },
         {
          "line": {
           "color": "#ffffff",
           "width": 1.5
          },
          "opacity": 1,
          "type": "line",
          "x0": -0.05217391304347826,
          "x1": 0,
          "xref": "paper",
          "y0": 13,
          "y1": 13,
          "yref": "y"
         },
         {
          "line": {
           "color": "#ffffff",
           "width": 1.5
          },
          "opacity": 1,
          "type": "line",
          "x0": -0.02608695652173913,
          "x1": 0,
          "xref": "paper",
          "y0": 13.5,
          "y1": 13.5,
          "yref": "y"
         },
         {
          "line": {
           "color": "#dadae2",
           "width": 0
          },
          "opacity": 0.1,
          "type": "rect",
          "x0": -0.05217391304347826,
          "x1": 1,
          "xref": "paper",
          "y0": 0,
          "y1": 0.5,
          "yref": "y"
         },
         {
          "line": {
           "color": "#dadae2",
           "width": 0
          },
          "opacity": 0.1,
          "type": "rect",
          "x0": -0.05217391304347826,
          "x1": 1,
          "xref": "paper",
          "y0": 1,
          "y1": 1.5,
          "yref": "y"
         },
         {
          "line": {
           "color": "#dadae2",
           "width": 0
          },
          "opacity": 0.1,
          "type": "rect",
          "x0": -0.05217391304347826,
          "x1": 1,
          "xref": "paper",
          "y0": 2,
          "y1": 2.5,
          "yref": "y"
         },
         {
          "line": {
           "color": "#dadae2",
           "width": 0
          },
          "opacity": 0.1,
          "type": "rect",
          "x0": -0.05217391304347826,
          "x1": 1,
          "xref": "paper",
          "y0": 3,
          "y1": 3.5,
          "yref": "y"
         },
         {
          "line": {
           "color": "#dadae2",
           "width": 0
          },
          "opacity": 0.1,
          "type": "rect",
          "x0": -0.05217391304347826,
          "x1": 1,
          "xref": "paper",
          "y0": 4,
          "y1": 4.5,
          "yref": "y"
         },
         {
          "line": {
           "color": "#dadae2",
           "width": 0
          },
          "opacity": 0.1,
          "type": "rect",
          "x0": -0.05217391304347826,
          "x1": 1,
          "xref": "paper",
          "y0": 5,
          "y1": 5.5,
          "yref": "y"
         },
         {
          "line": {
           "color": "#dadae2",
           "width": 0
          },
          "opacity": 0.1,
          "type": "rect",
          "x0": -0.05217391304347826,
          "x1": 1,
          "xref": "paper",
          "y0": 6,
          "y1": 6.5,
          "yref": "y"
         },
         {
          "line": {
           "color": "#dadae2",
           "width": 0
          },
          "opacity": 0.1,
          "type": "rect",
          "x0": -0.05217391304347826,
          "x1": 1,
          "xref": "paper",
          "y0": 7,
          "y1": 7.5,
          "yref": "y"
         },
         {
          "line": {
           "color": "#dadae2",
           "width": 0
          },
          "opacity": 0.1,
          "type": "rect",
          "x0": -0.05217391304347826,
          "x1": 1,
          "xref": "paper",
          "y0": 8,
          "y1": 8.5,
          "yref": "y"
         },
         {
          "line": {
           "color": "#dadae2",
           "width": 0
          },
          "opacity": 0.1,
          "type": "rect",
          "x0": -0.05217391304347826,
          "x1": 1,
          "xref": "paper",
          "y0": 9,
          "y1": 9.5,
          "yref": "y"
         },
         {
          "line": {
           "color": "#dadae2",
           "width": 0
          },
          "opacity": 0.1,
          "type": "rect",
          "x0": -0.05217391304347826,
          "x1": 1,
          "xref": "paper",
          "y0": 10,
          "y1": 10.5,
          "yref": "y"
         },
         {
          "line": {
           "color": "#dadae2",
           "width": 0
          },
          "opacity": 0.1,
          "type": "rect",
          "x0": -0.05217391304347826,
          "x1": 1,
          "xref": "paper",
          "y0": 11,
          "y1": 11.5,
          "yref": "y"
         },
         {
          "line": {
           "color": "#dadae2",
           "width": 0
          },
          "opacity": 0.1,
          "type": "rect",
          "x0": -0.05217391304347826,
          "x1": 1,
          "xref": "paper",
          "y0": 12,
          "y1": 12.5,
          "yref": "y"
         },
         {
          "line": {
           "color": "#dadae2",
           "width": 0
          },
          "opacity": 0.1,
          "type": "rect",
          "x0": -0.05217391304347826,
          "x1": 1,
          "xref": "paper",
          "y0": 13,
          "y1": 13.5,
          "yref": "y"
         },
         {
          "line": {
           "color": "#ffffff",
           "width": 1.5
          },
          "opacity": 1,
          "type": "line",
          "x0": -0.02608695652173913,
          "x1": -0.02608695652173913,
          "xref": "paper",
          "y0": 0,
          "y1": 1,
          "yref": "paper"
         },
         {
          "line": {
           "color": "#ffffff",
           "width": 1.5
          },
          "opacity": 1,
          "type": "line",
          "x0": -0.05217391304347826,
          "x1": -0.05217391304347826,
          "xref": "paper",
          "y0": 0,
          "y1": 1,
          "yref": "paper"
         }
        ],
        "template": {
         "data": {
          "bar": [
           {
            "error_x": {
             "color": "rgb(36,36,36)"
            },
            "error_y": {
             "color": "rgb(36,36,36)"
            },
            "marker": {
             "line": {
              "color": "rgb(234,234,242)",
              "width": 0.5
             },
             "pattern": {
              "fillmode": "overlay",
              "size": 10,
              "solidity": 0.2
             }
            },
            "type": "bar"
           }
          ],
          "barpolar": [
           {
            "marker": {
             "line": {
              "color": "rgb(234,234,242)",
              "width": 0.5
             },
             "pattern": {
              "fillmode": "overlay",
              "size": 10,
              "solidity": 0.2
             }
            },
            "type": "barpolar"
           }
          ],
          "carpet": [
           {
            "aaxis": {
             "endlinecolor": "rgb(36,36,36)",
             "gridcolor": "white",
             "linecolor": "white",
             "minorgridcolor": "white",
             "startlinecolor": "rgb(36,36,36)"
            },
            "baxis": {
             "endlinecolor": "rgb(36,36,36)",
             "gridcolor": "white",
             "linecolor": "white",
             "minorgridcolor": "white",
             "startlinecolor": "rgb(36,36,36)"
            },
            "type": "carpet"
           }
          ],
          "choropleth": [
           {
            "colorbar": {
             "outlinewidth": 0,
             "tickcolor": "rgb(36,36,36)",
             "ticklen": 8,
             "ticks": "outside",
             "tickwidth": 2
            },
            "type": "choropleth"
           }
          ],
          "contour": [
           {
            "colorbar": {
             "outlinewidth": 0,
             "tickcolor": "rgb(36,36,36)",
             "ticklen": 8,
             "ticks": "outside",
             "tickwidth": 2
            },
            "colorscale": [
             [
              0,
              "rgb(2,4,25)"
             ],
             [
              0.06274509803921569,
              "rgb(24,15,41)"
             ],
             [
              0.12549019607843137,
              "rgb(47,23,57)"
             ],
             [
              0.18823529411764706,
              "rgb(71,28,72)"
             ],
             [
              0.25098039215686274,
              "rgb(97,30,82)"
             ],
             [
              0.3137254901960784,
              "rgb(123,30,89)"
             ],
             [
              0.3764705882352941,
              "rgb(150,27,91)"
             ],
             [
              0.4392156862745098,
              "rgb(177,22,88)"
             ],
             [
              0.5019607843137255,
              "rgb(203,26,79)"
             ],
             [
              0.5647058823529412,
              "rgb(223,47,67)"
             ],
             [
              0.6274509803921569,
              "rgb(236,76,61)"
             ],
             [
              0.6901960784313725,
              "rgb(242,107,73)"
             ],
             [
              0.7529411764705882,
              "rgb(244,135,95)"
             ],
             [
              0.8156862745098039,
              "rgb(245,162,122)"
             ],
             [
              0.8784313725490196,
              "rgb(246,188,153)"
             ],
             [
              0.9411764705882353,
              "rgb(247,212,187)"
             ],
             [
              1,
              "rgb(250,234,220)"
             ]
            ],
            "type": "contour"
           }
          ],
          "contourcarpet": [
           {
            "colorbar": {
             "outlinewidth": 0,
             "tickcolor": "rgb(36,36,36)",
             "ticklen": 8,
             "ticks": "outside",
             "tickwidth": 2
            },
            "type": "contourcarpet"
           }
          ],
          "heatmap": [
           {
            "colorbar": {
             "outlinewidth": 0,
             "tickcolor": "rgb(36,36,36)",
             "ticklen": 8,
             "ticks": "outside",
             "tickwidth": 2
            },
            "colorscale": [
             [
              0,
              "rgb(2,4,25)"
             ],
             [
              0.06274509803921569,
              "rgb(24,15,41)"
             ],
             [
              0.12549019607843137,
              "rgb(47,23,57)"
             ],
             [
              0.18823529411764706,
              "rgb(71,28,72)"
             ],
             [
              0.25098039215686274,
              "rgb(97,30,82)"
             ],
             [
              0.3137254901960784,
              "rgb(123,30,89)"
             ],
             [
              0.3764705882352941,
              "rgb(150,27,91)"
             ],
             [
              0.4392156862745098,
              "rgb(177,22,88)"
             ],
             [
              0.5019607843137255,
              "rgb(203,26,79)"
             ],
             [
              0.5647058823529412,
              "rgb(223,47,67)"
             ],
             [
              0.6274509803921569,
              "rgb(236,76,61)"
             ],
             [
              0.6901960784313725,
              "rgb(242,107,73)"
             ],
             [
              0.7529411764705882,
              "rgb(244,135,95)"
             ],
             [
              0.8156862745098039,
              "rgb(245,162,122)"
             ],
             [
              0.8784313725490196,
              "rgb(246,188,153)"
             ],
             [
              0.9411764705882353,
              "rgb(247,212,187)"
             ],
             [
              1,
              "rgb(250,234,220)"
             ]
            ],
            "type": "heatmap"
           }
          ],
          "heatmapgl": [
           {
            "colorbar": {
             "outlinewidth": 0,
             "tickcolor": "rgb(36,36,36)",
             "ticklen": 8,
             "ticks": "outside",
             "tickwidth": 2
            },
            "colorscale": [
             [
              0,
              "rgb(2,4,25)"
             ],
             [
              0.06274509803921569,
              "rgb(24,15,41)"
             ],
             [
              0.12549019607843137,
              "rgb(47,23,57)"
             ],
             [
              0.18823529411764706,
              "rgb(71,28,72)"
             ],
             [
              0.25098039215686274,
              "rgb(97,30,82)"
             ],
             [
              0.3137254901960784,
              "rgb(123,30,89)"
             ],
             [
              0.3764705882352941,
              "rgb(150,27,91)"
             ],
             [
              0.4392156862745098,
              "rgb(177,22,88)"
             ],
             [
              0.5019607843137255,
              "rgb(203,26,79)"
             ],
             [
              0.5647058823529412,
              "rgb(223,47,67)"
             ],
             [
              0.6274509803921569,
              "rgb(236,76,61)"
             ],
             [
              0.6901960784313725,
              "rgb(242,107,73)"
             ],
             [
              0.7529411764705882,
              "rgb(244,135,95)"
             ],
             [
              0.8156862745098039,
              "rgb(245,162,122)"
             ],
             [
              0.8784313725490196,
              "rgb(246,188,153)"
             ],
             [
              0.9411764705882353,
              "rgb(247,212,187)"
             ],
             [
              1,
              "rgb(250,234,220)"
             ]
            ],
            "type": "heatmapgl"
           }
          ],
          "histogram": [
           {
            "marker": {
             "pattern": {
              "fillmode": "overlay",
              "size": 10,
              "solidity": 0.2
             }
            },
            "type": "histogram"
           }
          ],
          "histogram2d": [
           {
            "colorbar": {
             "outlinewidth": 0,
             "tickcolor": "rgb(36,36,36)",
             "ticklen": 8,
             "ticks": "outside",
             "tickwidth": 2
            },
            "colorscale": [
             [
              0,
              "rgb(2,4,25)"
             ],
             [
              0.06274509803921569,
              "rgb(24,15,41)"
             ],
             [
              0.12549019607843137,
              "rgb(47,23,57)"
             ],
             [
              0.18823529411764706,
              "rgb(71,28,72)"
             ],
             [
              0.25098039215686274,
              "rgb(97,30,82)"
             ],
             [
              0.3137254901960784,
              "rgb(123,30,89)"
             ],
             [
              0.3764705882352941,
              "rgb(150,27,91)"
             ],
             [
              0.4392156862745098,
              "rgb(177,22,88)"
             ],
             [
              0.5019607843137255,
              "rgb(203,26,79)"
             ],
             [
              0.5647058823529412,
              "rgb(223,47,67)"
             ],
             [
              0.6274509803921569,
              "rgb(236,76,61)"
             ],
             [
              0.6901960784313725,
              "rgb(242,107,73)"
             ],
             [
              0.7529411764705882,
              "rgb(244,135,95)"
             ],
             [
              0.8156862745098039,
              "rgb(245,162,122)"
             ],
             [
              0.8784313725490196,
              "rgb(246,188,153)"
             ],
             [
              0.9411764705882353,
              "rgb(247,212,187)"
             ],
             [
              1,
              "rgb(250,234,220)"
             ]
            ],
            "type": "histogram2d"
           }
          ],
          "histogram2dcontour": [
           {
            "colorbar": {
             "outlinewidth": 0,
             "tickcolor": "rgb(36,36,36)",
             "ticklen": 8,
             "ticks": "outside",
             "tickwidth": 2
            },
            "colorscale": [
             [
              0,
              "rgb(2,4,25)"
             ],
             [
              0.06274509803921569,
              "rgb(24,15,41)"
             ],
             [
              0.12549019607843137,
              "rgb(47,23,57)"
             ],
             [
              0.18823529411764706,
              "rgb(71,28,72)"
             ],
             [
              0.25098039215686274,
              "rgb(97,30,82)"
             ],
             [
              0.3137254901960784,
              "rgb(123,30,89)"
             ],
             [
              0.3764705882352941,
              "rgb(150,27,91)"
             ],
             [
              0.4392156862745098,
              "rgb(177,22,88)"
             ],
             [
              0.5019607843137255,
              "rgb(203,26,79)"
             ],
             [
              0.5647058823529412,
              "rgb(223,47,67)"
             ],
             [
              0.6274509803921569,
              "rgb(236,76,61)"
             ],
             [
              0.6901960784313725,
              "rgb(242,107,73)"
             ],
             [
              0.7529411764705882,
              "rgb(244,135,95)"
             ],
             [
              0.8156862745098039,
              "rgb(245,162,122)"
             ],
             [
              0.8784313725490196,
              "rgb(246,188,153)"
             ],
             [
              0.9411764705882353,
              "rgb(247,212,187)"
             ],
             [
              1,
              "rgb(250,234,220)"
             ]
            ],
            "type": "histogram2dcontour"
           }
          ],
          "mesh3d": [
           {
            "colorbar": {
             "outlinewidth": 0,
             "tickcolor": "rgb(36,36,36)",
             "ticklen": 8,
             "ticks": "outside",
             "tickwidth": 2
            },
            "type": "mesh3d"
           }
          ],
          "parcoords": [
           {
            "line": {
             "colorbar": {
              "outlinewidth": 0,
              "tickcolor": "rgb(36,36,36)",
              "ticklen": 8,
              "ticks": "outside",
              "tickwidth": 2
             }
            },
            "type": "parcoords"
           }
          ],
          "pie": [
           {
            "automargin": true,
            "type": "pie"
           }
          ],
          "scatter": [
           {
            "marker": {
             "colorbar": {
              "outlinewidth": 0,
              "tickcolor": "rgb(36,36,36)",
              "ticklen": 8,
              "ticks": "outside",
              "tickwidth": 2
             }
            },
            "type": "scatter"
           }
          ],
          "scatter3d": [
           {
            "line": {
             "colorbar": {
              "outlinewidth": 0,
              "tickcolor": "rgb(36,36,36)",
              "ticklen": 8,
              "ticks": "outside",
              "tickwidth": 2
             }
            },
            "marker": {
             "colorbar": {
              "outlinewidth": 0,
              "tickcolor": "rgb(36,36,36)",
              "ticklen": 8,
              "ticks": "outside",
              "tickwidth": 2
             }
            },
            "type": "scatter3d"
           }
          ],
          "scattercarpet": [
           {
            "marker": {
             "colorbar": {
              "outlinewidth": 0,
              "tickcolor": "rgb(36,36,36)",
              "ticklen": 8,
              "ticks": "outside",
              "tickwidth": 2
             }
            },
            "type": "scattercarpet"
           }
          ],
          "scattergeo": [
           {
            "marker": {
             "colorbar": {
              "outlinewidth": 0,
              "tickcolor": "rgb(36,36,36)",
              "ticklen": 8,
              "ticks": "outside",
              "tickwidth": 2
             }
            },
            "type": "scattergeo"
           }
          ],
          "scattergl": [
           {
            "marker": {
             "colorbar": {
              "outlinewidth": 0,
              "tickcolor": "rgb(36,36,36)",
              "ticklen": 8,
              "ticks": "outside",
              "tickwidth": 2
             }
            },
            "type": "scattergl"
           }
          ],
          "scattermapbox": [
           {
            "marker": {
             "colorbar": {
              "outlinewidth": 0,
              "tickcolor": "rgb(36,36,36)",
              "ticklen": 8,
              "ticks": "outside",
              "tickwidth": 2
             }
            },
            "type": "scattermapbox"
           }
          ],
          "scatterpolar": [
           {
            "marker": {
             "colorbar": {
              "outlinewidth": 0,
              "tickcolor": "rgb(36,36,36)",
              "ticklen": 8,
              "ticks": "outside",
              "tickwidth": 2
             }
            },
            "type": "scatterpolar"
           }
          ],
          "scatterpolargl": [
           {
            "marker": {
             "colorbar": {
              "outlinewidth": 0,
              "tickcolor": "rgb(36,36,36)",
              "ticklen": 8,
              "ticks": "outside",
              "tickwidth": 2
             }
            },
            "type": "scatterpolargl"
           }
          ],
          "scatterternary": [
           {
            "marker": {
             "colorbar": {
              "outlinewidth": 0,
              "tickcolor": "rgb(36,36,36)",
              "ticklen": 8,
              "ticks": "outside",
              "tickwidth": 2
             }
            },
            "type": "scatterternary"
           }
          ],
          "surface": [
           {
            "colorbar": {
             "outlinewidth": 0,
             "tickcolor": "rgb(36,36,36)",
             "ticklen": 8,
             "ticks": "outside",
             "tickwidth": 2
            },
            "colorscale": [
             [
              0,
              "rgb(2,4,25)"
             ],
             [
              0.06274509803921569,
              "rgb(24,15,41)"
             ],
             [
              0.12549019607843137,
              "rgb(47,23,57)"
             ],
             [
              0.18823529411764706,
              "rgb(71,28,72)"
             ],
             [
              0.25098039215686274,
              "rgb(97,30,82)"
             ],
             [
              0.3137254901960784,
              "rgb(123,30,89)"
             ],
             [
              0.3764705882352941,
              "rgb(150,27,91)"
             ],
             [
              0.4392156862745098,
              "rgb(177,22,88)"
             ],
             [
              0.5019607843137255,
              "rgb(203,26,79)"
             ],
             [
              0.5647058823529412,
              "rgb(223,47,67)"
             ],
             [
              0.6274509803921569,
              "rgb(236,76,61)"
             ],
             [
              0.6901960784313725,
              "rgb(242,107,73)"
             ],
             [
              0.7529411764705882,
              "rgb(244,135,95)"
             ],
             [
              0.8156862745098039,
              "rgb(245,162,122)"
             ],
             [
              0.8784313725490196,
              "rgb(246,188,153)"
             ],
             [
              0.9411764705882353,
              "rgb(247,212,187)"
             ],
             [
              1,
              "rgb(250,234,220)"
             ]
            ],
            "type": "surface"
           }
          ],
          "table": [
           {
            "cells": {
             "fill": {
              "color": "rgb(231,231,240)"
             },
             "line": {
              "color": "white"
             }
            },
            "header": {
             "fill": {
              "color": "rgb(183,183,191)"
             },
             "line": {
              "color": "white"
             }
            },
            "type": "table"
           }
          ]
         },
         "layout": {
          "annotationdefaults": {
           "arrowcolor": "rgb(67,103,167)"
          },
          "autotypenumbers": "strict",
          "coloraxis": {
           "colorbar": {
            "outlinewidth": 0,
            "tickcolor": "rgb(36,36,36)",
            "ticklen": 8,
            "ticks": "outside",
            "tickwidth": 2
           }
          },
          "colorscale": {
           "sequential": [
            [
             0,
             "rgb(2,4,25)"
            ],
            [
             0.06274509803921569,
             "rgb(24,15,41)"
            ],
            [
             0.12549019607843137,
             "rgb(47,23,57)"
            ],
            [
             0.18823529411764706,
             "rgb(71,28,72)"
            ],
            [
             0.25098039215686274,
             "rgb(97,30,82)"
            ],
            [
             0.3137254901960784,
             "rgb(123,30,89)"
            ],
            [
             0.3764705882352941,
             "rgb(150,27,91)"
            ],
            [
             0.4392156862745098,
             "rgb(177,22,88)"
            ],
            [
             0.5019607843137255,
             "rgb(203,26,79)"
            ],
            [
             0.5647058823529412,
             "rgb(223,47,67)"
            ],
            [
             0.6274509803921569,
             "rgb(236,76,61)"
            ],
            [
             0.6901960784313725,
             "rgb(242,107,73)"
            ],
            [
             0.7529411764705882,
             "rgb(244,135,95)"
            ],
            [
             0.8156862745098039,
             "rgb(245,162,122)"
            ],
            [
             0.8784313725490196,
             "rgb(246,188,153)"
            ],
            [
             0.9411764705882353,
             "rgb(247,212,187)"
            ],
            [
             1,
             "rgb(250,234,220)"
            ]
           ],
           "sequentialminus": [
            [
             0,
             "rgb(2,4,25)"
            ],
            [
             0.06274509803921569,
             "rgb(24,15,41)"
            ],
            [
             0.12549019607843137,
             "rgb(47,23,57)"
            ],
            [
             0.18823529411764706,
             "rgb(71,28,72)"
            ],
            [
             0.25098039215686274,
             "rgb(97,30,82)"
            ],
            [
             0.3137254901960784,
             "rgb(123,30,89)"
            ],
            [
             0.3764705882352941,
             "rgb(150,27,91)"
            ],
            [
             0.4392156862745098,
             "rgb(177,22,88)"
            ],
            [
             0.5019607843137255,
             "rgb(203,26,79)"
            ],
            [
             0.5647058823529412,
             "rgb(223,47,67)"
            ],
            [
             0.6274509803921569,
             "rgb(236,76,61)"
            ],
            [
             0.6901960784313725,
             "rgb(242,107,73)"
            ],
            [
             0.7529411764705882,
             "rgb(244,135,95)"
            ],
            [
             0.8156862745098039,
             "rgb(245,162,122)"
            ],
            [
             0.8784313725490196,
             "rgb(246,188,153)"
            ],
            [
             0.9411764705882353,
             "rgb(247,212,187)"
            ],
            [
             1,
             "rgb(250,234,220)"
            ]
           ]
          },
          "colorway": [
           "rgb(76,114,176)",
           "rgb(221,132,82)",
           "rgb(85,168,104)",
           "rgb(196,78,82)",
           "rgb(129,114,179)",
           "rgb(147,120,96)",
           "rgb(218,139,195)",
           "rgb(140,140,140)",
           "rgb(204,185,116)",
           "rgb(100,181,205)"
          ],
          "font": {
           "color": "rgb(36,36,36)"
          },
          "geo": {
           "bgcolor": "white",
           "lakecolor": "white",
           "landcolor": "rgb(234,234,242)",
           "showlakes": true,
           "showland": true,
           "subunitcolor": "white"
          },
          "hoverlabel": {
           "align": "left"
          },
          "hovermode": "closest",
          "paper_bgcolor": "white",
          "plot_bgcolor": "rgb(234,234,242)",
          "polar": {
           "angularaxis": {
            "gridcolor": "white",
            "linecolor": "white",
            "showgrid": true,
            "ticks": ""
           },
           "bgcolor": "rgb(234,234,242)",
           "radialaxis": {
            "gridcolor": "white",
            "linecolor": "white",
            "showgrid": true,
            "ticks": ""
           }
          },
          "scene": {
           "xaxis": {
            "backgroundcolor": "rgb(234,234,242)",
            "gridcolor": "white",
            "gridwidth": 2,
            "linecolor": "white",
            "showbackground": true,
            "showgrid": true,
            "ticks": "",
            "zerolinecolor": "white"
           },
           "yaxis": {
            "backgroundcolor": "rgb(234,234,242)",
            "gridcolor": "white",
            "gridwidth": 2,
            "linecolor": "white",
            "showbackground": true,
            "showgrid": true,
            "ticks": "",
            "zerolinecolor": "white"
           },
           "zaxis": {
            "backgroundcolor": "rgb(234,234,242)",
            "gridcolor": "white",
            "gridwidth": 2,
            "linecolor": "white",
            "showbackground": true,
            "showgrid": true,
            "ticks": "",
            "zerolinecolor": "white"
           }
          },
          "shapedefaults": {
           "fillcolor": "rgb(67,103,167)",
           "line": {
            "width": 0
           },
           "opacity": 0.5
          },
          "ternary": {
           "aaxis": {
            "gridcolor": "white",
            "linecolor": "white",
            "showgrid": true,
            "ticks": ""
           },
           "baxis": {
            "gridcolor": "white",
            "linecolor": "white",
            "showgrid": true,
            "ticks": ""
           },
           "bgcolor": "rgb(234,234,242)",
           "caxis": {
            "gridcolor": "white",
            "linecolor": "white",
            "showgrid": true,
            "ticks": ""
           }
          },
          "xaxis": {
           "automargin": true,
           "gridcolor": "white",
           "linecolor": "white",
           "showgrid": true,
           "ticks": "",
           "title": {
            "standoff": 15
           },
           "zerolinecolor": "white"
          },
          "yaxis": {
           "automargin": true,
           "gridcolor": "white",
           "linecolor": "white",
           "showgrid": true,
           "ticks": "",
           "title": {
            "standoff": 15
           },
           "zerolinecolor": "white"
          }
         }
        },
        "title": {
         "text": "<b>Flowlines 6WP Plan v Actual North by Location<b>",
         "x": 0.3
        },
        "width": 1403,
        "xaxis": {
         "anchor": "y",
         "domain": [
          0,
          1
         ],
         "title": {
          "text": "<b>Date<b>"
         }
        },
        "yaxis": {
         "anchor": "x",
         "domain": [
          0,
          1
         ],
         "range": [
          -0.25,
          13.25
         ],
         "ticktext": [
          "",
          "",
          "",
          "",
          "",
          "",
          "",
          "",
          "",
          "",
          "",
          "",
          "",
          "",
          "",
          "",
          "",
          "",
          "",
          "",
          "",
          "",
          "",
          "",
          "",
          "",
          "",
          ""
         ],
         "tickvals": [
          0,
          0.5,
          1,
          1.5,
          2,
          2.5,
          3,
          3.5,
          4,
          4.5,
          5,
          5.5,
          6,
          6.5,
          7,
          7.5,
          8,
          8.5,
          9,
          9.5,
          10,
          10.5,
          11,
          11.5,
          12,
          12.5,
          13,
          13.5
         ],
         "title": {
          "standoff": 30,
          "text": "<b>Floor<b>"
         }
        }
       }
      }
     },
     "metadata": {},
     "output_type": "display_data"
    }
   ],
   "source": [
    "import Productivity_dates\n",
    "from Productivity_dates import figadditives, custom_colorscale, cladding_dates, flowlineactivitiesfig_layouts_datapoints, flowlineactivitiesfig_layouts, figadditivesprojection, name_legend, Flowlines1fig, southfloornamelen, timegap\n",
    "from Productivity_dates import figadditivessth, figadditivessthprojection, Flowlines1figsth\n",
    "import numpy as np\n",
    "import math\n",
    "import pandas as pd"
   ]
  },
  {
   "cell_type": "code",
   "execution_count": 3,
   "metadata": {},
   "outputs": [
    {
     "data": {
      "text/html": [
       "\n",
       "        <iframe\n",
       "            width=\"100%\"\n",
       "            height=\"650\"\n",
       "            src=\"http://127.0.0.1:8051/\"\n",
       "            frameborder=\"0\"\n",
       "            allowfullscreen\n",
       "            \n",
       "        ></iframe>\n",
       "        "
      ],
      "text/plain": [
       "<IPython.lib.display.IFrame at 0x7fd2aae10e20>"
      ]
     },
     "metadata": {},
     "output_type": "display_data"
    }
   ],
   "source": [
    "import dash\n",
    "from dash import dcc, html\n",
    "from dash.dependencies import Input, Output, State\n",
    "import plotly.graph_objs as go\n",
    "import plotly.express as px\n",
    "import datetime\n",
    "from datetime import date, timedelta, time\n",
    "from dash.exceptions import PreventUpdate\n",
    "\n",
    "lastdate = date(2023, 9, 29)\n",
    "def dateconversion(x):\n",
    "    if type(x) == datetime.date:\n",
    "        return x\n",
    "    else:\n",
    "        return x.date()\n",
    "\n",
    "def datetimeconversion(x):\n",
    "    if type(x) == date:\n",
    "        return datetime.combine(x, time(0, 0, 0))\n",
    "    else:\n",
    "        return x\n",
    "\n",
    "app1 = dash.Dash(__name__)\n",
    "\n",
    "htmlbuttons = [html.Div(html.Span('Fit-out Activities', style = {'font-family': 'Arial, sans-serif', 'font-size': '20px', 'font-weight': 'bold', 'text-decoration': 'underline'}), style={'margin-bottom': '30px', 'margin-left': '20px'})]\n",
    "htmlbuttons2 = []\n",
    "input = []\n",
    "output = []\n",
    "outputchildren = []\n",
    "colorset = [px.colors.qualitative.G10[i] for i in range(len(name_legend))]\n",
    "\n",
    "for i in range(len(name_legend)+4):\n",
    "    if i == 0:\n",
    "        n_0 = 0\n",
    "    else:\n",
    "        n_0 = 1\n",
    "    if i < len(name_legend):\n",
    "        htmlbuttons.append(html.Button(name_legend[i], id='toggle-'+str(i+1)+'WP', n_clicks=n_0, style={'width': '100%', 'backgroundColor': 'white', \n",
    "                                                                                                     'color': 'black', 'margin-top': '3px', 'margin-bottom': '3px', 'border-width': '0'}))\n",
    "        input.append(Input('toggle-'+str(i+1)+'WP', 'n_clicks'))\n",
    "        output.append(Output('toggle-'+str(i+1)+'WP', 'style'))\n",
    "        outputchildren.append(Output('toggle-'+str(i+1)+'WP', 'children'))\n",
    "    elif i == len(name_legend):\n",
    "        input.append(Input('toggle-planactuals', 'n_clicks'))\n",
    "        output.append(Output('toggle-planactuals', 'style'))\n",
    "        outputchildren.append(Output('toggle-planactuals', 'children'))\n",
    "        htmlbuttons2.append(html.Button('Plan', id='toggle-planactuals', n_clicks=0, style={'width': '250px', 'backgroundColor': 'green', 'color': 'white'}))\n",
    "    elif i == len(name_legend)+1:\n",
    "        input.append(Input('toggle-plans', 'n_clicks'))\n",
    "        output.append(Output('toggle-plans', 'style'))\n",
    "        outputchildren.append(Output('toggle-plans', 'children'))\n",
    "        htmlbuttons2.append(html.Button('Toggle planned dates', id='toggle-plans', n_clicks=0, style={'width': '250px', 'backgroundColor': 'green', 'color': 'white'}))\n",
    "    elif i == len(name_legend)+2:\n",
    "        input.append(Input('toggle-absent-days', 'n_clicks'))\n",
    "        output.append(Output('toggle-absent-days', 'style'))\n",
    "        outputchildren.append(Output('toggle-absent-days', 'children'))\n",
    "        htmlbuttons2.append(html.Button('Toggle days with no progress', id='toggle-absent-days', n_clicks=0, style={'width': '250px', 'backgroundColor': 'green', 'color': 'white'}))\n",
    "    else: \n",
    "        input.append(Input('toggle-projection-days', 'n_clicks'))\n",
    "        output.append(Output('toggle-projection-days', 'style'))\n",
    "        outputchildren.append(Output('toggle-projection-days', 'children'))\n",
    "        htmlbuttons2.append(html.Button('Toggle projection days', id='toggle-projection-days', n_clicks=0, style={'width': '250px', 'backgroundColor': 'green', 'color': 'white'}))\n",
    "    \n",
    "app1.layout = html.Div([\n",
    "    dcc.Graph(id='plot-output', style = {'width': '100%', 'height': '860px', 'backgroundColor': 'white', 'position': 'absolute'}),\n",
    "    html.Div(htmlbuttons, \n",
    "             style={'width': '250px', 'display':'inline-block', 'align-items': 'center', 'vertical-align': 'top',\n",
    "                    'verticalAlign': 'middle', 'left':'1435px', 'top':'60px', 'position': 'relative'}),\n",
    "    html.Div(htmlbuttons2, \n",
    "             style={'display':'flex', 'flex-direction': 'row', \n",
    "                    'position': 'relative', 'top': '570px', 'left': '22px'})], \n",
    "    style={'width': '1720px', 'background-color': 'white', 'height': '960px'})\n",
    "\n",
    "@app1.callback(\n",
    "        Output('toggle-plans', 'n_clicks'),\n",
    "        [Input('toggle-planactuals', 'n_clicks')]\n",
    ")\n",
    "\n",
    "def update_button_click(n_A):\n",
    "    \n",
    "    return (\n",
    "            0 if n_A % 3 == 0 else 0\n",
    "        )\n",
    "\n",
    "@app1.callback(\n",
    "        [Output('toggle-absent-days', 'n_clicks'),\n",
    "         Output('toggle-projection-days', 'n_clicks')],\n",
    "        [Input('toggle-plans', 'n_clicks')]\n",
    ")\n",
    "\n",
    "def update_button_click(n_R):\n",
    "    \n",
    "    return (\n",
    "            1 if n_R % 2 == 0 else 1,\n",
    "            1 if n_R % 2 == 0 else 1 \n",
    "        )\n",
    "\n",
    "@app1.callback(\n",
    "    Output('plot-output', 'figure'),\n",
    "    input)\n",
    "\n",
    "def update_plot(n_1WP, n_2WP, n_3WP, n_4WP, n_5WP, n_6WP, n_A, n_R, n_C, n_P):\n",
    "\n",
    "    figs = px.line(template='seaborn', title='<b>Activities Progress WPs<b>')\n",
    "    planfigs = px.line(template='seaborn')\n",
    "    actualfigs = px.line(template='seaborn')\n",
    "    planactualfigs = px.line(template='seaborn')\n",
    "    workingdays = []\n",
    "    nonworkingdays = []\n",
    "\n",
    "    if n_1WP % 2 == 0:\n",
    "\n",
    "        #Add shapes for projected days\n",
    "        if n_P % 2 == 0:\n",
    "            for i in range(len(figadditivesprojection[0].data)):\n",
    "                figs.add_trace(figadditivesprojection[0].data[i])\n",
    "                #Add hover data for projection\n",
    "                dataprojection = pd.DataFrame({'x': [figadditivesprojection[0].data[i].x[1], figadditivesprojection[0].data[i].x[1]], \n",
    "                                               'y': [figadditivesprojection[0].data[i].y[1], figadditivesprojection[0].data[i].y[1]], \n",
    "                                               'customdata0': [figadditivesprojection[0].data[i].x[1].date(), figadditivesprojection[0].data[i].x[1].date()],\n",
    "                                               'customdata1': ['L'+str(int(round(figadditivesprojection[0].data[i].y[1]))), 'L'+str(int(round(figadditivesprojection[0].data[i].y[1])))]})\n",
    "                Fadd = px.line(dataprojection, x = 'x', y = 'y', color_discrete_sequence = 2*['black'], hover_data = ['customdata0', 'customdata1'])\n",
    "                Fadd.update_traces(hovertemplate = 'Projected finish: %{customdata[0]}<br>Level: %{customdata[1]}')\n",
    "                figs.add_traces(Fadd.data[0])\n",
    "        \n",
    "        #Add planned flowlines\n",
    "        planfigs.add_trace(Flowlines1fig.data[0])\n",
    "        actualfigs.add_trace(Flowlines1fig.data[6])\n",
    "        \n",
    "        #Add progress flowlines\n",
    "        for i in range(len(figadditives[0].data)):\n",
    "            figadditives[0].data[i].name = ''\n",
    "            figadditives[0].data[i].visible = True\n",
    "            figs.add_trace(figadditives[0].data[i])\n",
    "            if i <= 0:\n",
    "                    pass\n",
    "            else:\n",
    "                for j in range(len(figadditives[0].data[i].x)//3):\n",
    "                    for k in range(timegap(figadditives[0].data[i].x[3*j].date(), figadditives[0].data[i].x[3*j+1].date())+1):\n",
    "                        workingdays.append(figadditives[0].data[i].x[3*j].date()+timedelta(days = k))\n",
    "\n",
    "        for i in figadditives[0].layout.shapes:\n",
    "            figs.add_shape(i)\n",
    "\n",
    "    if n_2WP % 2 == 0:\n",
    "\n",
    "        #Add shapes for projected days\n",
    "        if n_P % 2 == 0:\n",
    "            for i in range(len(figadditivesprojection[1].data)):\n",
    "                figs.add_trace(figadditivesprojection[1].data[i])\n",
    "                #Add hover data for projection\n",
    "                dataprojection = pd.DataFrame({'x': [figadditivesprojection[1].data[i].x[1], figadditivesprojection[1].data[i].x[1]], \n",
    "                                               'y': [figadditivesprojection[1].data[i].y[1], figadditivesprojection[1].data[i].y[1]], \n",
    "                                               'customdata0': [figadditivesprojection[1].data[i].x[1].date(), figadditivesprojection[1].data[i].x[1].date()],\n",
    "                                               'customdata1': ['L'+str(int(round(figadditivesprojection[1].data[i].y[1]))), 'L'+str(int(round(figadditivesprojection[1].data[i].y[1])))]})\n",
    "                Fadd = px.line(dataprojection, x = 'x', y = 'y', color_discrete_sequence = 2*['black'], hover_data = ['customdata0', 'customdata1'])\n",
    "                Fadd.update_traces(hovertemplate = 'Projected finish: %{customdata[0]}<br>Level: %{customdata[1]}')\n",
    "                figs.add_traces(Fadd.data[0])\n",
    "\n",
    "        #Add planned and actual flowlines\n",
    "        planfigs.add_trace(Flowlines1fig.data[1])\n",
    "        actualfigs.add_trace(Flowlines1fig.data[7])\n",
    "        \n",
    "        #Add progress flowlines\n",
    "        for i in range(len(figadditives[1].data)):\n",
    "            figadditives[1].data[i].name = ''\n",
    "            figadditives[1].data[i].visible = True\n",
    "            figs.add_trace(figadditives[1].data[i])\n",
    "            if i <= 0:\n",
    "                    pass\n",
    "            else:\n",
    "                for j in range(len(figadditives[1].data[i].x)//3):\n",
    "                    for k in range(timegap(figadditives[1].data[i].x[3*j].date(), figadditives[1].data[i].x[3*j+1].date())+1):\n",
    "                        workingdays.append(figadditives[1].data[i].x[3*j].date()+timedelta(days = k))\n",
    "        \n",
    "        for i in figadditives[1].layout.shapes:\n",
    "            figs.add_shape(i)\n",
    "\n",
    "    if n_3WP % 2 == 0:\n",
    "\n",
    "        #Add shapes for projected days\n",
    "        if n_P % 2 == 0:\n",
    "            for i in range(len(figadditivesprojection[2].data)):\n",
    "                figs.add_trace(figadditivesprojection[2].data[i])\n",
    "                #Add hover data for projection\n",
    "                dataprojection = pd.DataFrame({'x': [figadditivesprojection[2].data[i].x[1], figadditivesprojection[2].data[i].x[1]], \n",
    "                                               'y': [figadditivesprojection[2].data[i].y[1], figadditivesprojection[2].data[i].y[1]], \n",
    "                                               'customdata0': [figadditivesprojection[2].data[i].x[1].date(), figadditivesprojection[2].data[i].x[1].date()],\n",
    "                                               'customdata1': ['L'+str(int(round(figadditivesprojection[2].data[i].y[1]))), 'L'+str(int(round(figadditivesprojection[2].data[i].y[1])))]})\n",
    "                Fadd = px.line(dataprojection, x = 'x', y = 'y', color_discrete_sequence = 2*['black'], hover_data = ['customdata0', 'customdata1'])\n",
    "                Fadd.update_traces(hovertemplate = 'Projected finish: %{customdata[0]}<br>Level: %{customdata[1]}')\n",
    "                figs.add_traces(Fadd.data[0])\n",
    "\n",
    "        #Add planned flowlines\n",
    "        planfigs.add_trace(Flowlines1fig.data[2])\n",
    "        actualfigs.add_trace(Flowlines1fig.data[8])\n",
    "        \n",
    "        #Add progress flowlines\n",
    "        for i in range(len(figadditives[2].data)):\n",
    "            figadditives[2].data[i].name = ''\n",
    "            figadditives[2].data[i].visible = True\n",
    "            figs.add_trace(figadditives[2].data[i])\n",
    "            if i <= 0:\n",
    "                    pass\n",
    "            else:\n",
    "                for j in range(len(figadditives[2].data[i].x)//3):\n",
    "                    for k in range(timegap(figadditives[2].data[i].x[3*j].date(), figadditives[2].data[i].x[3*j+1].date())+1):\n",
    "                        workingdays.append(figadditives[2].data[i].x[3*j].date()+timedelta(days = k))\n",
    "\n",
    "        for i in figadditives[2].layout.shapes:\n",
    "            figs.add_shape(i)\n",
    "\n",
    "    if n_4WP % 2 == 0:\n",
    "\n",
    "        #Add shapes for projected days\n",
    "        if n_P % 2 == 0:\n",
    "            for i in range(len(figadditivesprojection[3].data)):\n",
    "                figs.add_trace(figadditivesprojection[3].data[i])\n",
    "                #Add hover data for projection\n",
    "                dataprojection = pd.DataFrame({'x': [figadditivesprojection[3].data[i].x[1], figadditivesprojection[3].data[i].x[1]], \n",
    "                                               'y': [figadditivesprojection[3].data[i].y[1], figadditivesprojection[3].data[i].y[1]], \n",
    "                                               'customdata0': [figadditivesprojection[3].data[i].x[1].date(), figadditivesprojection[3].data[i].x[1].date()],\n",
    "                                               'customdata1': ['L'+str(int(round(figadditivesprojection[3].data[i].y[1]))), 'L'+str(int(round(figadditivesprojection[3].data[i].y[1])))]})\n",
    "                Fadd = px.line(dataprojection, x = 'x', y = 'y', color_discrete_sequence = 2*['black'], hover_data = ['customdata0', 'customdata1'])\n",
    "                Fadd.update_traces(hovertemplate = 'Projected finish: %{customdata[0]}<br>Level: %{customdata[1]}')\n",
    "                figs.add_traces(Fadd.data[0])\n",
    "\n",
    "        #Add planned flowlines\n",
    "        planfigs.add_trace(Flowlines1fig.data[3])\n",
    "        actualfigs.add_trace(Flowlines1fig.data[9])\n",
    "        \n",
    "        #Add progress flowlines\n",
    "        for i in range(len(figadditives[3].data)):\n",
    "            figadditives[3].data[i].name = ''\n",
    "            figadditives[3].data[i].visible = True\n",
    "            figs.add_trace(figadditives[3].data[i])\n",
    "            if i <= 0:\n",
    "                    pass\n",
    "            else:\n",
    "                for j in range(len(figadditives[3].data[i].x)//3):\n",
    "                    for k in range(timegap(figadditives[3].data[i].x[3*j].date(), figadditives[3].data[i].x[3*j+1].date())+1):\n",
    "                        workingdays.append(figadditives[3].data[i].x[3*j].date()+timedelta(days = k))\n",
    "        \n",
    "        for i in figadditives[3].layout.shapes:\n",
    "            figs.add_shape(i)\n",
    "\n",
    "    if n_5WP % 2 == 0:\n",
    "\n",
    "        #Add shapes for projected days\n",
    "        if n_P % 2 == 0:\n",
    "            for i in range(len(figadditivesprojection[4].data)):\n",
    "                figs.add_trace(figadditivesprojection[4].data[i])\n",
    "                #Add hover data for projection\n",
    "                dataprojection = pd.DataFrame({'x': [figadditivesprojection[4].data[i].x[1], figadditivesprojection[4].data[i].x[1]], \n",
    "                                               'y': [figadditivesprojection[4].data[i].y[1], figadditivesprojection[4].data[i].y[1]], \n",
    "                                               'customdata0': [figadditivesprojection[4].data[i].x[1].date(), figadditivesprojection[4].data[i].x[1].date()],\n",
    "                                               'customdata1': ['L'+str(int(round(figadditivesprojection[4].data[i].y[1]))), 'L'+str(int(round(figadditivesprojection[4].data[i].y[1])))]})\n",
    "                Fadd = px.line(dataprojection, x = 'x', y = 'y', color_discrete_sequence = 2*['black'], hover_data = ['customdata0', 'customdata1'])\n",
    "                Fadd.update_traces(hovertemplate = 'Projected finish: %{customdata[0]}<br>Level: %{customdata[1]}')\n",
    "                figs.add_traces(Fadd.data[0])\n",
    "\n",
    "        #Add planned flowlines\n",
    "        planfigs.add_trace(Flowlines1fig.data[4])\n",
    "        actualfigs.add_trace(Flowlines1fig.data[10])\n",
    "        \n",
    "        #Add progress flowlines\n",
    "        for i in range(len(figadditives[4].data)):\n",
    "            figadditives[4].data[i].name = ''\n",
    "            figadditives[4].data[i].visible = True\n",
    "            figs.add_trace(figadditives[4].data[i])\n",
    "            if i <= 0:\n",
    "                    pass\n",
    "            else:\n",
    "                for j in range(len(figadditives[4].data[i].x)//3):\n",
    "                    for k in range(timegap(figadditives[4].data[i].x[3*j].date(), figadditives[4].data[i].x[3*j+1].date())+1):\n",
    "                        workingdays.append(figadditives[4].data[i].x[3*j].date()+timedelta(days = k))\n",
    "        \n",
    "        for i in figadditives[4].layout.shapes:\n",
    "            figs.add_shape(i)\n",
    "\n",
    "    if n_6WP % 2 == 0:\n",
    "\n",
    "        #Add shapes for projected days\n",
    "        if n_P % 2 == 0:\n",
    "            for i in range(len(figadditivesprojection[5].data)):\n",
    "                figs.add_trace(figadditivesprojection[5].data[i])\n",
    "                #Add hover data for projection\n",
    "                dataprojection = pd.DataFrame({'x': [figadditivesprojection[5].data[i].x[1], figadditivesprojection[5].data[i].x[1]], \n",
    "                                               'y': [figadditivesprojection[5].data[i].y[1], figadditivesprojection[5].data[i].y[1]], \n",
    "                                               'customdata0': [figadditivesprojection[5].data[i].x[1].date(), figadditivesprojection[5].data[i].x[1].date()],\n",
    "                                               'customdata1': ['L'+str(int(round(figadditivesprojection[5].data[i].y[1]))), 'L'+str(int(round(figadditivesprojection[5].data[i].y[1])))]})\n",
    "                Fadd = px.line(dataprojection, x = 'x', y = 'y', color_discrete_sequence = 2*['black'], hover_data = ['customdata0', 'customdata1'])\n",
    "                Fadd.update_traces(hovertemplate = 'Projected finish: %{customdata[0]}<br>Level: %{customdata[1]}')\n",
    "                figs.add_traces(Fadd.data[0])\n",
    "\n",
    "        #Add planned flowlines\n",
    "        planfigs.add_trace(Flowlines1fig.data[5])\n",
    "        actualfigs.add_trace(Flowlines1fig.data[11])\n",
    "        \n",
    "        #Add progress flowlines\n",
    "        for i in range(len(figadditives[5].data)):\n",
    "            figadditives[5].data[i].name = ''\n",
    "            figadditives[5].data[i].visible = True\n",
    "            figs.add_trace(figadditives[5].data[i])\n",
    "            if i <= 0:\n",
    "                    pass\n",
    "            else:\n",
    "                for j in range(len(figadditives[5].data[i].x)//3):\n",
    "                    for k in range(timegap(figadditives[5].data[i].x[3*j].date(), figadditives[5].data[i].x[3*j+1].date())+1):\n",
    "                        workingdays.append(figadditives[5].data[i].x[3*j].date()+timedelta(days = k))\n",
    "        \n",
    "        for i in figadditives[5].layout.shapes:\n",
    "            figs.add_shape(i)\n",
    "    \n",
    "    if n_1WP % 2 != 0 and n_2WP % 2 != 0 and n_3WP % 2 != 0 and n_4WP % 2 != 0 and n_5WP % 2 != 0 and n_6WP % 2 != 0:\n",
    "\n",
    "        raise PreventUpdate\n",
    "\n",
    "    for i in range(timegap(min(workingdays), max(workingdays))):\n",
    "        if min(workingdays)+timedelta(days=i) not in workingdays:\n",
    "            nonworkingdays.append(min(workingdays)+timedelta(days=i))\n",
    "\n",
    "    nonworkingdaysranges = [nonworkingdays[0]]\n",
    "    \n",
    "    for i in range(len(nonworkingdays)-1):\n",
    "        if nonworkingdays[i]+timedelta(days=1) != nonworkingdays[i+1]:\n",
    "            nonworkingdaysranges.append(nonworkingdays[i]+timedelta(days=1))\n",
    "            nonworkingdaysranges.append(nonworkingdays[i+1])\n",
    "    nonworkingdaysranges.append(nonworkingdays[-1]+timedelta(days=1))\n",
    "    \n",
    "    figs.update_layout(showlegend = False)\n",
    "\n",
    "    #Creating the colorscale\n",
    "    figs.add_trace(px.scatter(x=[None, None, None], y=[None, None, None], \n",
    "                         color=[0, custom_colorscale[1][0], custom_colorscale[2][0]], \n",
    "                         range_color = [0, custom_colorscale[2][0]]).data[0])\n",
    "    #Update size of plot\n",
    "    figs.update_layout(height=560, width=950)\n",
    "    #Thicken the lines to seem as 'bars'\n",
    "    figs.update_traces(line=dict(width=5))\n",
    "    figs.update_layout(xaxis_title=\"<b>Date<b>\", yaxis_title=\"<b>Floor<b>\")\n",
    "    #Ticks for yaxis\n",
    "    figs.update_layout(yaxis = dict(tickmode='array', tickvals = [i for i in range(cladding_dates[1][1][-2]+1)], \n",
    "                               ticktext = ['L' + str(i) for i in range(cladding_dates[1][1][-2]+1)]))\n",
    "    height = 860\n",
    "    pixsize = 35\n",
    "    width  = 1403\n",
    "    \n",
    "    #Add tablelike shapes for the yaxis\n",
    "    figs.add_shape(type=\"rect\",\n",
    "              x0=-2*(pixsize/2300), x1=0,\n",
    "              y0=0, y1=1,\n",
    "              xref='paper', yref='paper',\n",
    "              line=dict(color=\"#ffffff\", width=1.5),\n",
    "              fillcolor = '#eaeaf2',\n",
    "              opacity = 1)\n",
    "    \n",
    "    for i in range(1, cladding_dates[1][1][-2]+1):\n",
    "    # Add horizontal line to the margin\n",
    "        figs.add_shape(type=\"line\",\n",
    "              x0=-2*(pixsize/2300), x1=0,\n",
    "              y0=i-1, y1=i-1,\n",
    "              xref='paper', yref='y',\n",
    "              line=dict(color=\"#ffffff\", width=1.5),\n",
    "              opacity = 1)\n",
    "    # Add annotation to the margin\n",
    "        if i < cladding_dates[1][1][-2]:\n",
    "            figs.add_annotation(\n",
    "            text='<b>L'+str(i)+'<b>',\n",
    "            x=-2*(pixsize/2300),\n",
    "            y=i-1/2,\n",
    "            xref='paper', yref='y',\n",
    "            font=dict(size=12),\n",
    "            showarrow = False )\n",
    "    \n",
    "    #Copy layout from original plot\n",
    "    planfigs.layout = figs.layout\n",
    "    actualfigs.layout = figs.layout\n",
    "    planactualfigs.layout = figs.layout\n",
    "\n",
    "    #State condition whether activities were finished in the lapse\n",
    "    if False in [int(i) == round(i, 5) for i in np.concatenate([i.y for i in figs.data if i.line.color == 'black']) if math.isnan(i) == False]:\n",
    "        finished = False\n",
    "    else:\n",
    "        finished = True\n",
    "\n",
    "    #Add dashed line for last measurement and annotation\n",
    "    if n_P % 2 == 0 and finished == False:\n",
    "        figs.add_shape(type=\"line\",\n",
    "                                x0=lastdate, x1=lastdate,\n",
    "                                y0=0, y1=1,\n",
    "                                xref='x', yref='paper',\n",
    "                                line=dict(color=\"black\", width=1.5, dash = 'dash'),\n",
    "                                opacity = 1)\n",
    "        figs.add_annotation(text='Last measurement:<br>2023-9-28',\n",
    "                                x=date(2023, 9, 29),\n",
    "                                ax = -55,\n",
    "                                align = 'left',\n",
    "                                ay = 0,\n",
    "                                y=13.4,\n",
    "                                axref = 'pixel',\n",
    "                                ayref = 'pixel',\n",
    "                                xref='x', yref='y',\n",
    "                                font=dict(size=10),\n",
    "                                showarrow = True,\n",
    "                                arrowcolor = 'rgba(0,0,0,0)')\n",
    "\n",
    "    #Add shapes for absent days\n",
    "    if n_C % 2 == 0:\n",
    "        if finished == False and sorted(list(set(workingdays)))[-1]+timedelta(days=1) < lastdate:\n",
    "            figs.add_shape(type=\"rect\",\n",
    "              x0=sorted(list(set(workingdays)))[-1]+timedelta(days=1), x1=lastdate,\n",
    "              y0=0, y1=1,\n",
    "              xref='x', yref='paper',\n",
    "              line=dict(color=\"black\", width=1.5),\n",
    "              fillcolor = 'black',\n",
    "              opacity = 0.1)\n",
    "        for i in range(len(nonworkingdaysranges)//2):\n",
    "            figs.add_shape(type=\"rect\",\n",
    "              x0=nonworkingdaysranges[2*i], x1=nonworkingdaysranges[2*i+1],\n",
    "              y0=0, y1=1,\n",
    "              xref='x', yref='paper',\n",
    "              line=dict(color=\"black\", width=1.5),\n",
    "              fillcolor = 'black',\n",
    "              opacity = 0.1)\n",
    "\n",
    "    figs.update_layout(showlegend = False)\n",
    "\n",
    "    #Update size of plot\n",
    "    figs.update_layout(height=height, width=width)\n",
    "    #Thicken the lines to seem as 'bars'\n",
    "    figs.update_traces(line=dict(width=15))\n",
    "    # Update colorbar title and scale\n",
    "    figs.update_coloraxes(colorbar_title='<b>Percentage of<br>Progress (%)<br> <br><b>', colorscale = [[0, 'rgb(255,0,0)'], [custom_colorscale[1][0]/custom_colorscale[2][0], 'rgb(255,212,0)'], [1, 'rgb(52,235,0)']],\n",
    "                              colorbar_tickmode = 'array', colorbar_ticktext = ['0', '5', '10', '15', '20', '25', '30+'], colorbar_tickvals = [0, 5, 10, 15, 20, 25, 30],\n",
    "                              colorbar_ticks = 'outside', colorbar_tickwidth = 2, colorbar_ticklen = 8)\n",
    "\n",
    "    figs.update_layout(yaxis = dict(tickmode='array', tickvals = [i for i in range(cladding_dates[1][1][-2])], ticktext = ['']*cladding_dates[1][1][-2], range = [-0.7, 13.7], title_standoff = 50))\n",
    "    \n",
    "    if n_A % 3 == 0:\n",
    "\n",
    "        planfigs.update_layout(showlegend = False)\n",
    "        #Update size of plot\n",
    "        planfigs.update_layout(height=height, width=width)\n",
    "        #Use extra data to ensure that xaxis range is fixed\n",
    "        planfigs.update_layout(yaxis = dict(tickmode='array', tickvals = [i for i in range(cladding_dates[1][1][-2])], ticktext = ['']*cladding_dates[1][1][-2], range = [-0.7, 13.7], title_standoff = 50),\n",
    "                           xaxis = dict(range = [date(2022, 10, 31)-timedelta(days=5), lastdate+timedelta(days=5)]))\n",
    "        planfigs.update_layout(title = dict(text = '<b>Flowlines Fit-out - North Building (Plan)<b>', font = dict(size = 25)))\n",
    "        toprightfigs = px.line(x = [lastdate+timedelta(days=5), lastdate+timedelta(days=5)], y = [13, 13])\n",
    "        toprightfigs.update_traces(hoverinfo = 'none', hovertemplate = None)\n",
    "        bottomleftfigs = px.line(x = [date(2022, 10, 31)-timedelta(days=5), date(2022, 10, 31)-timedelta(days=5)], y = [0, 0])\n",
    "        bottomleftfigs.update_traces(hoverinfo = 'none', hovertemplate = None)\n",
    "        planfigs.add_traces(toprightfigs.data[0])\n",
    "        planfigs.add_traces(bottomleftfigs.data[0])\n",
    "        return planfigs\n",
    "    \n",
    "    elif n_A % 3 == 1 and n_R % 2 == 0:\n",
    "        for i in range(len(planfigs.data)):\n",
    "            planactualfigs.add_trace(planfigs.data[i])\n",
    "        for i in range(len(actualfigs.data)):\n",
    "            planactualfigs.add_trace(actualfigs.data[i])\n",
    "        planactualfigs.update_layout(showlegend = False)\n",
    "        #Update size of plot\n",
    "        planactualfigs.update_layout(height=height, width=width)\n",
    "        #Use extra data to ensure that xaxis range is fixed\n",
    "        maxrange = max([datetimeconversion(i) for i in np.concatenate([i.x for i in planactualfigs.data]) if type(i) == datetime.date or type(i) == datetime.datetime])\n",
    "        planactualfigs.update_layout(yaxis = dict(tickmode='array', tickvals = [i for i in range(cladding_dates[1][1][-2])], ticktext = ['']*cladding_dates[1][1][-2], range = [-0.7, 13.7], title_standoff = 50),\n",
    "                           xaxis = dict(range = [date(2022, 10, 31)-timedelta(days=5), maxrange+timedelta(days=5)]))\n",
    "        planactualfigs.update_layout(title = dict(text = '<b>Flowlines Fit-out - North Building (Plan v Actual)<b>', font = dict(size = 25)))\n",
    "        toprightfigs = px.line(x = [maxrange+timedelta(days=5), maxrange+timedelta(days=5)], y = [13, 13])\n",
    "        toprightfigs.update_traces(hoverinfo = 'none', hovertemplate = None)\n",
    "        bottomleftfigs = px.line(x = [date(2022, 10, 31)-timedelta(days=5), date(2022, 10, 31)-timedelta(days=5)], y = [0, 0])\n",
    "        bottomleftfigs.update_traces(hoverinfo = 'none', hovertemplate = None)\n",
    "        planactualfigs.add_traces(toprightfigs.data[0])\n",
    "        planactualfigs.add_traces(bottomleftfigs.data[0])\n",
    "        return planactualfigs\n",
    "        \n",
    "    elif n_A % 3 == 1 and n_R % 2 == 1:\n",
    "\n",
    "        for i in range(len(planfigs.data)):\n",
    "            figs.add_trace(planfigs.data[i])\n",
    "        figs.update_layout(title = dict(text = '<b>Flowlines Fit-out - North Building (Plan v Actual)<b>', font = dict(size = 25)))\n",
    "        #Use extra data to ensure that xaxis range is fixed\n",
    "        maxrange = max([datetimeconversion(i) for i in np.concatenate([i.x for i in figs.data]) if type(i) == datetime.date or type(i) == datetime.datetime])\n",
    "        toprightfigs = px.line(x = [maxrange+timedelta(days=5), maxrange+timedelta(days=5)], y = [13, 13])\n",
    "        toprightfigs.update_traces(hoverinfo = 'none', hovertemplate = None)\n",
    "        bottomleftfigs = px.line(x = [date(2022, 10, 31)-timedelta(days=5), date(2022, 10, 31)-timedelta(days=5)], y = [0, 0])\n",
    "        bottomleftfigs.update_traces(hoverinfo = 'none', hovertemplate = None)\n",
    "        figs.add_traces(toprightfigs.data[0])\n",
    "        figs.add_traces(bottomleftfigs.data[0])\n",
    "        return figs\n",
    "    \n",
    "    elif n_A % 3 == 2 and n_R % 2 == 0:\n",
    "\n",
    "        actualfigs.update_layout(showlegend = False)\n",
    "        #Update size of plot\n",
    "        actualfigs.update_layout(height=height, width=width)\n",
    "        #Use extra data to ensure that xaxis range is fixed\n",
    "        maxrange = max([datetimeconversion(i) for i in np.concatenate([i.x for i in actualfigs.data]) if type(i) == datetime.date or type(i) == datetime.datetime])\n",
    "        actualfigs.update_layout(yaxis = dict(tickmode='array', tickvals = [i for i in range(cladding_dates[1][1][-2])], ticktext = ['']*cladding_dates[1][1][-2], range = [-0.7, 13.7], title_standoff = 50),\n",
    "                           xaxis = dict(range = [date(2022, 10, 31)-timedelta(days=5), maxrange+timedelta(days=5)]))\n",
    "        actualfigs.update_layout(title = dict(text = '<b>Flowlines Fit-out - North Building (Actual)<b>', font = dict(size = 25)))\n",
    "        toprightfigs = px.line(x = [maxrange+timedelta(days=5), maxrange+timedelta(days=5)], y = [13, 13])\n",
    "        toprightfigs.update_traces(hoverinfo = 'none', hovertemplate = None)\n",
    "        bottomleftfigs = px.line(x = [date(2022, 10, 31)-timedelta(days=5), date(2022, 10, 31)-timedelta(days=5)], y = [0, 0])\n",
    "        bottomleftfigs.update_traces(hoverinfo = 'none', hovertemplate = None)\n",
    "        actualfigs.add_traces(toprightfigs.data[0])\n",
    "        actualfigs.add_traces(bottomleftfigs.data[0])\n",
    "        return actualfigs\n",
    "\n",
    "    else:\n",
    "        figs.update_layout(title = dict(text = '<b>Flowlines Fit-out - North Building (Actual)<b>', font = dict(size = 25)))\n",
    "        #Use extra data to ensure that xaxis range is fixed\n",
    "        maxrange = max([datetimeconversion(i) for i in np.concatenate([i.x for i in figs.data]) if type(i) == datetime.date or type(i) == datetime.datetime])\n",
    "        toprightfigs = px.line(x = [maxrange+timedelta(days=5), maxrange+timedelta(days=5)], y = [13, 13])\n",
    "        toprightfigs.update_traces(hoverinfo = 'none', hovertemplate = None)\n",
    "        bottomleftfigs = px.line(x = [date(2022, 10, 31)-timedelta(days=5), date(2022, 10, 31)-timedelta(days=5)], y = [0, 0])\n",
    "        bottomleftfigs.update_traces(hoverinfo = 'none', hovertemplate = None)\n",
    "        figs.add_traces(toprightfigs.data[0])\n",
    "        figs.add_traces(bottomleftfigs.data[0])\n",
    "        return figs\n",
    "    \n",
    "@app1.callback(\n",
    "    output,\n",
    "    input\n",
    ")\n",
    "def update_button_style(n_1WP, n_2WP, n_3WP, n_4WP, n_5WP, n_6WP, n_A, n_R, n_C, n_P):\n",
    "    # Default style for buttons\n",
    "    default_style = {'width': '100%', 'backgroundColor': 'white', 'color': 'black', 'margin-bottom':'5px', 'margin-bottom':'5px', 'height': '30px', 'border-radius': '10px', 'text-align': 'left',\n",
    "                     'border-width': '0'}\n",
    "    active_style = default_style.copy()\n",
    "    default_style['color'] = 'black'\n",
    "    active_style['color'] = '#aaa'\n",
    "    default_style0 = {'backgroundColor': 'green', 'color': 'white', 'height': '30px', 'border-radius': '15px', 'position': 'relative', 'left': '20px', 'width': '210px', 'border-width': '0'}\n",
    "    active_styleA = default_style0.copy()\n",
    "    active_styleB = default_style0.copy()\n",
    "    default_style0['background-color'] = 'green'\n",
    "    active_styleA['background-color'] = 'red'\n",
    "    active_styleB['background-color'] = 'blue'\n",
    "    default_style1 = {'backgroundColor': 'green', 'color': 'white', 'height': '30px', 'border-radius': '15px', 'position': 'relative', 'left': '148px', 'width': '210px', 'border-width': '0'}\n",
    "    active_style1 = default_style1.copy()\n",
    "    default_style1['background-color'] = 'green'\n",
    "    active_style1['background-color'] = 'red'\n",
    "    if n_A % 3 == 0:\n",
    "        default_style1['display'] = 'None'\n",
    "        active_style1['display'] = 'None'\n",
    "    default_style2 = {'backgroundColor': 'green', 'color': 'white', 'height': '30px', 'border-radius': '15px', 'position': 'relative', 'left': '276px', 'width': '210px', 'border-width': '0'}\n",
    "    active_style2 = default_style2.copy()\n",
    "    default_style2['background-color'] = 'green'\n",
    "    active_style2['background-color'] = 'red'\n",
    "    if n_A % 3 == 0 or n_R % 2 == 0:\n",
    "        default_style2['display'] = 'None'\n",
    "        active_style2['display'] = 'None'\n",
    "    default_style3 = {'backgroundColor': 'green', 'color': 'white', 'height': '30px', 'border-radius': '15px', 'position': 'relative', 'left': '404px', 'width': '210px', 'border-width': '0'}\n",
    "    active_style3 = default_style3.copy()\n",
    "    default_style3['background-color'] = 'green'\n",
    "    active_style3['background-color'] = 'red'\n",
    "    if n_A % 3 == 0 or n_R % 2 == 0:\n",
    "        default_style3['display'] = 'None'\n",
    "        active_style3['display'] = 'None'\n",
    "\n",
    "    return (\n",
    "        default_style if n_1WP % 2 == 0 else active_style,\n",
    "        default_style if n_2WP % 2 == 0 else active_style,\n",
    "        default_style if n_3WP % 2 == 0 else active_style,\n",
    "        default_style if n_4WP % 2 == 0 else active_style,\n",
    "        default_style if n_5WP % 2 == 0 else active_style,\n",
    "        default_style if n_6WP % 2 == 0 else active_style,\n",
    "        default_style0 if n_A % 3 == 0 else active_styleA if n_A % 3 == 1 else active_styleB,\n",
    "        default_style1 if n_R % 2 == 0 else active_style1,\n",
    "        default_style2 if n_C % 2 == 0 else active_style2,\n",
    "        default_style3 if n_P % 2 == 0 else active_style3,\n",
    "    )\n",
    "\n",
    "@app1.callback(\n",
    "    outputchildren,\n",
    "    input\n",
    ")\n",
    "def update_button_style(n_1WP, n_2WP, n_3WP, n_4WP, n_5WP, n_6WP, n_A, n_R, n_C, n_P):\n",
    "    on = []\n",
    "    off = []\n",
    "    # Change button style\n",
    "    for i in range(len(name_legend)):\n",
    "        on.append(html.Div([html.Hr(style={'height': '15px', 'width': '15px', 'border-color': colorset[i], 'background-color': colorset[i], 'border-width': 'medium', 'margin-right': '12px'}), name_legend[i]], \n",
    "                           style={'display': 'flex', 'display-direction': 'row', 'float': 'left', 'align-items': 'center'}))\n",
    "        off.append(html.Div([html.Hr(style={'height': '15px', 'width': '15px', 'border-color': colorset[i], 'background-color': 'white', 'border-width': 'medium', 'margin-right': '12px'}), name_legend[i]], \n",
    "                            style={'display': 'flex', 'display-direction': 'row', 'float': 'left', 'align-items': 'center'}))\n",
    "\n",
    "    return (\n",
    "        on[0] if n_1WP % 2 == 0 else off[0],\n",
    "        on[1] if n_2WP % 2 == 0 else off[1],\n",
    "        on[2] if n_3WP % 2 == 0 else off[2],\n",
    "        on[3] if n_4WP % 2 == 0 else off[3],\n",
    "        on[4] if n_5WP % 2 == 0 else off[4],\n",
    "        on[5] if n_6WP % 2 == 0 else off[5],\n",
    "        'Show Plan and Actual' if n_A % 3 == 0 else 'Show Actual' if n_A % 3 == 1 else 'Show Plan',\n",
    "        'Thin Flowlines' if n_R % 2 == 0 else 'Line of balance',\n",
    "        'Hide days with no progress' if n_C % 2 == 0 else 'Show days with no progress',\n",
    "        'Hide forecast' if n_P % 2 == 0 else 'Show forecast'\n",
    "    )\n",
    "\n",
    "if __name__ == '__main__':\n",
    "    app1.run_server(debug=True, port=8051)"
   ]
  },
  {
   "cell_type": "code",
   "execution_count": 4,
   "metadata": {},
   "outputs": [
    {
     "data": {
      "text/plain": [
       "datetime.datetime"
      ]
     },
     "execution_count": 4,
     "metadata": {},
     "output_type": "execute_result"
    }
   ],
   "source": [
    "type(datetime.datetime(2023, 6, 5, 0, 0))"
   ]
  },
  {
   "cell_type": "code",
   "execution_count": 5,
   "metadata": {},
   "outputs": [
    {
     "data": {
      "text/html": [
       "\n",
       "        <iframe\n",
       "            width=\"100%\"\n",
       "            height=\"650\"\n",
       "            src=\"http://127.0.0.1:8052/\"\n",
       "            frameborder=\"0\"\n",
       "            allowfullscreen\n",
       "            \n",
       "        ></iframe>\n",
       "        "
      ],
      "text/plain": [
       "<IPython.lib.display.IFrame at 0x7fd2898d0c40>"
      ]
     },
     "metadata": {},
     "output_type": "display_data"
    }
   ],
   "source": [
    "app2 = dash.Dash(__name__)\n",
    "\n",
    "htmlbuttons = [html.Div(html.Span('Fit-out Activities', style = {'font-family': 'Arial, sans-serif', 'font-size': '20px', 'font-weight': 'bold', 'text-decoration': 'underline'}), style={'margin-bottom': '30px', 'margin-left': '20px'})]\n",
    "htmlbuttons2 = []\n",
    "input = []\n",
    "output = []\n",
    "outputchildren = []\n",
    "colorset = [px.colors.qualitative.G10[i] for i in range(len(name_legend))]\n",
    "\n",
    "for i in range(len(name_legend)+4):\n",
    "    if i == 0:\n",
    "        n_0 = 0\n",
    "    else:\n",
    "        n_0 = 1\n",
    "    if i < len(name_legend):\n",
    "        htmlbuttons.append(html.Button(name_legend[i], id='toggle-'+str(i+1)+'WPsth', n_clicks=n_0, style={'width': '100%', 'backgroundColor': 'white', \n",
    "                                                                                                     'color': 'black', 'margin-top': '3px', 'margin-bottom': '3px', 'border-width': '0'}))\n",
    "        input.append(Input('toggle-'+str(i+1)+'WPsth', 'n_clicks'))\n",
    "        output.append(Output('toggle-'+str(i+1)+'WPsth', 'style'))\n",
    "        outputchildren.append(Output('toggle-'+str(i+1)+'WPsth', 'children'))\n",
    "    elif i == len(name_legend):\n",
    "        input.append(Input('toggle-planactualssth', 'n_clicks'))\n",
    "        output.append(Output('toggle-planactualssth', 'style'))\n",
    "        outputchildren.append(Output('toggle-planactualssth', 'children'))\n",
    "        htmlbuttons2.append(html.Button('Plan', id='toggle-planactualssth', n_clicks=0, style={'width': '250px', 'backgroundColor': 'green', 'color': 'white'}))\n",
    "    elif i == len(name_legend)+1:\n",
    "        input.append(Input('toggle-planssth', 'n_clicks'))\n",
    "        output.append(Output('toggle-planssth', 'style'))\n",
    "        outputchildren.append(Output('toggle-planssth', 'children'))\n",
    "        htmlbuttons2.append(html.Button('Toggle planned dates', id='toggle-planssth', n_clicks=0, style={'width': '250px', 'backgroundColor': 'green', 'color': 'white'}))\n",
    "    elif i == len(name_legend)+2:\n",
    "        input.append(Input('toggle-absent-dayssth', 'n_clicks'))\n",
    "        output.append(Output('toggle-absent-dayssth', 'style'))\n",
    "        outputchildren.append(Output('toggle-absent-dayssth', 'children'))\n",
    "        htmlbuttons2.append(html.Button('Toggle days with no progress', id='toggle-absent-dayssth', n_clicks=1, style={'width': '250px', 'backgroundColor': 'green', 'color': 'white'}))\n",
    "    else: \n",
    "        input.append(Input('toggle-projection-dayssth', 'n_clicks'))\n",
    "        output.append(Output('toggle-projection-dayssth', 'style'))\n",
    "        outputchildren.append(Output('toggle-projection-dayssth', 'children'))\n",
    "        htmlbuttons2.append(html.Button('Toggle projection days', id='toggle-projection-dayssth', n_clicks=1, style={'width': '250px', 'backgroundColor': 'green', 'color': 'white'}))\n",
    "    \n",
    "app2.layout = html.Div([\n",
    "    dcc.Graph(id='plot-outputsth', style = {'width': '100%', 'height': '860px', 'backgroundColor': 'white', 'position': 'absolute'}),\n",
    "    html.Div(htmlbuttons, \n",
    "             style={'width': '250px', 'display':'inline-block', 'align-items': 'center', 'vertical-align': 'top',\n",
    "                    'verticalAlign': 'middle', 'left':'1435px', 'top':'60px', 'position': 'relative'}),\n",
    "    html.Div(htmlbuttons2, \n",
    "             style={'display':'flex', 'flex-direction': 'row', \n",
    "                    'position': 'relative', 'top': '570px', 'left': '22px'})], \n",
    "    style={'width': '1720px', 'background-color': 'white', 'height': '960px'})\n",
    "\n",
    "@app2.callback(\n",
    "        Output('toggle-planssth', 'n_clicks'),\n",
    "        [Input('toggle-planactualssth', 'n_clicks')]\n",
    ")\n",
    "\n",
    "def update_button_click(n_A):\n",
    "    \n",
    "    return (\n",
    "            0 if n_A % 3 == 0 else 0\n",
    "        )\n",
    "\n",
    "@app2.callback(\n",
    "        [Output('toggle-absent-dayssth', 'n_clicks'),\n",
    "         Output('toggle-projection-dayssth', 'n_clicks')],\n",
    "        [Input('toggle-planssth', 'n_clicks')]\n",
    ")\n",
    "\n",
    "def update_button_click(n_R):\n",
    "    \n",
    "    return (\n",
    "            1 if n_R % 2 == 0 else 1,\n",
    "            1 if n_R % 2 == 0 else 1 \n",
    "        )\n",
    "\n",
    "@app2.callback(\n",
    "    Output('plot-outputsth', 'figure'),\n",
    "    input)\n",
    "\n",
    "def update_plot(n_1WP, n_2WP, n_3WP, n_4WP, n_5WP, n_6WP, n_A, n_R, n_C, n_P):\n",
    "\n",
    "    figs = px.line(template='seaborn', title='<b>Activities Progress WPs<b>')\n",
    "    planfigs = px.line(template='seaborn')\n",
    "    actualfigs = px.line(template='seaborn')\n",
    "    planactualfigs = px.line(template='seaborn')\n",
    "    workingdays = []\n",
    "    nonworkingdays = []\n",
    "\n",
    "    if n_1WP % 2 == 0:\n",
    "\n",
    "        #Add shapes for projected days\n",
    "        if n_P % 2 == 0:\n",
    "            for i in range(len(figadditivessthprojection[0].data)):\n",
    "                figs.add_trace(figadditivessthprojection[0].data[i])\n",
    "                #Add hover data for projection\n",
    "                dataprojection = pd.DataFrame({'x': [figadditivessthprojection[0].data[i].x[1], figadditivessthprojection[0].data[i].x[1]], \n",
    "                                               'y': [figadditivessthprojection[0].data[i].y[1], figadditivessthprojection[0].data[i].y[1]], \n",
    "                                               'customdata0': [figadditivessthprojection[0].data[i].x[1].date(), figadditivessthprojection[0].data[i].x[1].date()],\n",
    "                                               'customdata1': ['L'+str(int(round(figadditivessthprojection[0].data[i].y[1]))), 'L'+str(int(round(figadditivessthprojection[0].data[i].y[1])))]})\n",
    "                Fadd = px.line(dataprojection, x = 'x', y = 'y', color_discrete_sequence = 2*['black'], hover_data = ['customdata0', 'customdata1'])\n",
    "                Fadd.update_traces(hovertemplate = 'Projected finish: %{customdata[0]}<br>Level: %{customdata[1]}')\n",
    "                figs.add_traces(Fadd.data[0])\n",
    "        \n",
    "        #Add planned flowlines\n",
    "        planfigs.add_trace(Flowlines1figsth.data[0])\n",
    "        actualfigs.add_trace(Flowlines1figsth.data[6])\n",
    "        \n",
    "        #Add progress flowlines\n",
    "        for i in range(len(figadditivessth[0].data)):\n",
    "            figadditivessth[0].data[i].name = ''\n",
    "            figadditivessth[0].data[i].visible = True\n",
    "            figs.add_trace(figadditivessth[0].data[i])\n",
    "            if i <= 0:\n",
    "                    pass\n",
    "            else:\n",
    "                for j in range(len(figadditivessth[0].data[i].x)//3):\n",
    "                    for k in range(timegap(figadditivessth[0].data[i].x[3*j].date(), figadditivessth[0].data[i].x[3*j+1].date())+1):\n",
    "                        workingdays.append(figadditivessth[0].data[i].x[3*j].date()+timedelta(days = k))\n",
    "\n",
    "        for i in figadditivessth[0].layout.shapes:\n",
    "            figs.add_shape(i)\n",
    "\n",
    "    if n_2WP % 2 == 0:\n",
    "\n",
    "        #Add shapes for projected days\n",
    "        if n_P % 2 == 0:\n",
    "            for i in range(len(figadditivessthprojection[1].data)):\n",
    "                figs.add_trace(figadditivessthprojection[1].data[i])\n",
    "                #Add hover data for projection\n",
    "                dataprojection = pd.DataFrame({'x': [figadditivessthprojection[1].data[i].x[1], figadditivessthprojection[1].data[i].x[1]], \n",
    "                                               'y': [figadditivessthprojection[1].data[i].y[1], figadditivessthprojection[1].data[i].y[1]], \n",
    "                                               'customdata0': [figadditivessthprojection[1].data[i].x[1].date(), figadditivessthprojection[1].data[i].x[1].date()],\n",
    "                                               'customdata1': ['L'+str(int(round(figadditivessthprojection[1].data[i].y[1]))), 'L'+str(int(round(figadditivessthprojection[1].data[i].y[1])))]})\n",
    "                Fadd = px.line(dataprojection, x = 'x', y = 'y', color_discrete_sequence = 2*['black'], hover_data = ['customdata0', 'customdata1'])\n",
    "                Fadd.update_traces(hovertemplate = 'Projected finish: %{customdata[0]}<br>Level: %{customdata[1]}')\n",
    "                figs.add_traces(Fadd.data[0])\n",
    "\n",
    "        #Add planned flowlines\n",
    "        planfigs.add_trace(Flowlines1figsth.data[1])\n",
    "        actualfigs.add_trace(Flowlines1figsth.data[7])\n",
    "        \n",
    "        #Add progress flowlines\n",
    "        for i in range(len(figadditivessth[1].data)):\n",
    "            figadditivessth[1].data[i].name = ''\n",
    "            figadditivessth[1].data[i].visible = True\n",
    "            figs.add_trace(figadditivessth[1].data[i])\n",
    "            if i <= 0:\n",
    "                    pass\n",
    "            else:\n",
    "                for j in range(len(figadditivessth[1].data[i].x)//3):\n",
    "                    for k in range(timegap(figadditivessth[1].data[i].x[3*j].date(), figadditivessth[1].data[i].x[3*j+1].date())+1):\n",
    "                        workingdays.append(figadditivessth[1].data[i].x[3*j].date()+timedelta(days = k))\n",
    "        \n",
    "        for i in figadditivessth[1].layout.shapes:\n",
    "            figs.add_shape(i)\n",
    "\n",
    "    if n_3WP % 2 == 0:\n",
    "\n",
    "        #Add shapes for projected days\n",
    "        if n_P % 2 == 0:\n",
    "            for i in range(len(figadditivessthprojection[2].data)):\n",
    "                figs.add_trace(figadditivessthprojection[2].data[i])\n",
    "                #Add hover data for projection\n",
    "                dataprojection = pd.DataFrame({'x': [figadditivessthprojection[2].data[i].x[1], figadditivessthprojection[2].data[i].x[1]], \n",
    "                                               'y': [figadditivessthprojection[2].data[i].y[1], figadditivessthprojection[2].data[i].y[1]], \n",
    "                                               'customdata0': [figadditivessthprojection[2].data[i].x[1].date(), figadditivessthprojection[2].data[i].x[1].date()],\n",
    "                                               'customdata1': ['L'+str(int(round(figadditivessthprojection[2].data[i].y[1]))), 'L'+str(int(round(figadditivessthprojection[2].data[i].y[1])))]})\n",
    "                Fadd = px.line(dataprojection, x = 'x', y = 'y', color_discrete_sequence = 2*['black'], hover_data = ['customdata0', 'customdata1'])\n",
    "                Fadd.update_traces(hovertemplate = 'Projected finish: %{customdata[0]}<br>Level: %{customdata[1]}')\n",
    "                figs.add_traces(Fadd.data[0])\n",
    "\n",
    "        #Add planned flowlines\n",
    "        planfigs.add_trace(Flowlines1figsth.data[2])\n",
    "        actualfigs.add_trace(Flowlines1figsth.data[8])\n",
    "        \n",
    "        #Add progress flowlines\n",
    "        for i in range(len(figadditivessth[2].data)):\n",
    "            figadditivessth[2].data[i].name = ''\n",
    "            figadditivessth[2].data[i].visible = True\n",
    "            figs.add_trace(figadditivessth[2].data[i])\n",
    "            if i <= 0:\n",
    "                    pass\n",
    "            else:\n",
    "                for j in range(len(figadditivessth[2].data[i].x)//3):\n",
    "                    for k in range(timegap(figadditivessth[2].data[i].x[3*j].date(), figadditivessth[2].data[i].x[3*j+1].date())+1):\n",
    "                        workingdays.append(figadditivessth[2].data[i].x[3*j].date()+timedelta(days = k))\n",
    "\n",
    "        for i in figadditivessth[2].layout.shapes:\n",
    "            figs.add_shape(i)\n",
    "\n",
    "    if n_4WP % 2 == 0:\n",
    "\n",
    "        #Add planned flowlines \n",
    "        planfigs.add_trace(Flowlines1figsth.data[3])\n",
    "\n",
    "    if n_5WP % 2 == 0:\n",
    "\n",
    "        #Add shapes for projected days\n",
    "        if n_P % 2 == 0:\n",
    "            for i in range(len(figadditivessthprojection[4].data)):\n",
    "                figs.add_trace(figadditivessthprojection[4].data[i])\n",
    "                #Add hover data for projection\n",
    "                dataprojection = pd.DataFrame({'x': [figadditivessthprojection[4].data[i].x[1], figadditivessthprojection[4].data[i].x[1]], \n",
    "                                               'y': [figadditivessthprojection[4].data[i].y[1], figadditivessthprojection[4].data[i].y[1]], \n",
    "                                               'customdata0': [figadditivessthprojection[4].data[i].x[1].date(), figadditivessthprojection[4].data[i].x[1].date()],\n",
    "                                               'customdata1': ['L'+str(int(round(figadditivessthprojection[4].data[i].y[1]))), 'L'+str(int(round(figadditivessthprojection[4].data[i].y[1])))]})\n",
    "                Fadd = px.line(dataprojection, x = 'x', y = 'y', color_discrete_sequence = 2*['black'], hover_data = ['customdata0', 'customdata1'])\n",
    "                Fadd.update_traces(hovertemplate = 'Projected finish: %{customdata[0]}<br>Level: %{customdata[1]}')\n",
    "                figs.add_traces(Fadd.data[0])\n",
    "\n",
    "        #Add planned flowlines\n",
    "        planfigs.add_trace(Flowlines1figsth.data[4])\n",
    "        actualfigs.add_trace(Flowlines1figsth.data[10])\n",
    "        \n",
    "        #Add progress flowlines\n",
    "        for i in range(len(figadditivessth[4].data)):\n",
    "            figadditivessth[4].data[i].name = ''\n",
    "            figadditivessth[4].data[i].visible = True\n",
    "            figs.add_trace(figadditivessth[4].data[i])\n",
    "            if i <= 0:\n",
    "                    pass\n",
    "            else:\n",
    "                for j in range(len(figadditivessth[4].data[i].x)//3):\n",
    "                    for k in range(timegap(figadditivessth[4].data[i].x[3*j].date(), figadditivessth[4].data[i].x[3*j+1].date())+1):\n",
    "                        workingdays.append(figadditivessth[4].data[i].x[3*j].date()+timedelta(days = k))\n",
    "        \n",
    "        for i in figadditivessth[4].layout.shapes:\n",
    "            figs.add_shape(i)\n",
    "\n",
    "    if n_6WP % 2 == 0:\n",
    "\n",
    "        #Add shapes for projected days\n",
    "        if n_P % 2 == 0:\n",
    "            for i in range(len(figadditivessthprojection[5].data)):\n",
    "                figs.add_trace(figadditivessthprojection[5].data[i])\n",
    "                #Add hover data for projection\n",
    "                dataprojection = pd.DataFrame({'x': [figadditivessthprojection[5].data[i].x[1], figadditivessthprojection[5].data[i].x[1]], \n",
    "                                               'y': [figadditivessthprojection[5].data[i].y[1], figadditivessthprojection[5].data[i].y[1]], \n",
    "                                               'customdata0': [figadditivessthprojection[5].data[i].x[1].date(), figadditivessthprojection[5].data[i].x[1].date()],\n",
    "                                               'customdata1': ['L'+str(int(round(figadditivessthprojection[5].data[i].y[1]))), 'L'+str(int(round(figadditivessthprojection[5].data[i].y[1])))]})\n",
    "                Fadd = px.line(dataprojection, x = 'x', y = 'y', color_discrete_sequence = 2*['black'], hover_data = ['customdata0', 'customdata1'])\n",
    "                Fadd.update_traces(hovertemplate = 'Projected finish: %{customdata[0]}<br>Level: %{customdata[1]}')\n",
    "                figs.add_traces(Fadd.data[0])\n",
    "\n",
    "        #Add planned flowlines\n",
    "        planfigs.add_trace(Flowlines1figsth.data[5])\n",
    "        actualfigs.add_trace(Flowlines1figsth.data[11])\n",
    "        \n",
    "        #Add progress flowlines\n",
    "        for i in range(len(figadditivessth[5].data)):\n",
    "            figadditivessth[5].data[i].name = ''\n",
    "            figadditivessth[5].data[i].visible = True\n",
    "            figs.add_trace(figadditivessth[5].data[i])\n",
    "            if i <= 0:\n",
    "                    pass\n",
    "            else:\n",
    "                for j in range(len(figadditivessth[5].data[i].x)//3):\n",
    "                    for k in range(timegap(figadditivessth[5].data[i].x[3*j].date(), figadditivessth[5].data[i].x[3*j+1].date())+1):\n",
    "                        workingdays.append(figadditivessth[5].data[i].x[3*j].date()+timedelta(days = k))\n",
    "        \n",
    "        for i in figadditivessth[5].layout.shapes:\n",
    "            figs.add_shape(i)\n",
    "    \n",
    "    if n_1WP % 2 != 0 and n_2WP % 2 != 0 and n_3WP % 2 != 0 and n_4WP % 2 != 0 and n_5WP % 2 != 0 and n_6WP % 2 != 0:\n",
    "\n",
    "        raise PreventUpdate\n",
    "\n",
    "    if n_1WP % 2 != 0 and n_2WP % 2 != 0 and n_3WP % 2 != 0 and n_4WP % 2 == 0 and n_5WP % 2 != 0 and n_6WP % 2 != 0:\n",
    "        pass\n",
    "    else:\n",
    "        for i in range(timegap(min(workingdays), max(workingdays))):\n",
    "            if min(workingdays)+timedelta(days=i) not in workingdays:\n",
    "                nonworkingdays.append(min(workingdays)+timedelta(days=i))\n",
    "\n",
    "        nonworkingdaysranges = [nonworkingdays[0]]\n",
    "        \n",
    "        for i in range(len(nonworkingdays)-1):\n",
    "            if nonworkingdays[i]+timedelta(days=1) != nonworkingdays[i+1]:\n",
    "                nonworkingdaysranges.append(nonworkingdays[i]+timedelta(days=1))\n",
    "                nonworkingdaysranges.append(nonworkingdays[i+1])\n",
    "        nonworkingdaysranges.append(nonworkingdays[-1]+timedelta(days=1))\n",
    "\n",
    "    figs.update_layout(showlegend = False)\n",
    "\n",
    "    #Creating the colorscale\n",
    "    figs.add_trace(px.scatter(x=[None, None, None], y=[None, None, None], \n",
    "                         color=[0, custom_colorscale[1][0], custom_colorscale[2][0]], \n",
    "                         range_color = [0, custom_colorscale[2][0]]).data[0])\n",
    "    #Update size of plot\n",
    "    figs.update_layout(height=560, width=950)\n",
    "    #Thicken the lines to seem as 'bars'\n",
    "    figs.update_traces(line=dict(width=5))\n",
    "    figs.update_layout(xaxis_title=\"<b>Date<b>\", yaxis_title=\"<b>Floor<b>\")\n",
    "\n",
    "    height = 860\n",
    "    pixsize = 35\n",
    "    width  = 1403\n",
    "    \n",
    "    #Add tablelike shapes for the yaxis\n",
    "    figs.add_shape(type=\"rect\",\n",
    "              x0=-2*(pixsize/2300), x1=0,\n",
    "              y0=0, y1=1,\n",
    "              xref='paper', yref='paper',\n",
    "              line=dict(color=\"#ffffff\", width=1.5),\n",
    "              fillcolor = '#eaeaf2',\n",
    "              opacity = 1)\n",
    "\n",
    "    for i in range(1, southfloornamelen+2):\n",
    "    # Add horizontal line to the margin\n",
    "        figs.add_shape(type=\"line\",\n",
    "              x0=-2*(pixsize/2300), x1=0,\n",
    "              y0=i-1, y1=i-1,\n",
    "              xref='paper', yref='y',\n",
    "              line=dict(color=\"#ffffff\", width=1.5),\n",
    "              opacity = 1)\n",
    "    # Add annotation to the margin\n",
    "        if i < southfloornamelen+1:\n",
    "            figs.add_annotation(\n",
    "            text='<b>L'+str(i)+'<b>',\n",
    "            x=-2*(pixsize/2300),\n",
    "            y=i-1/2,\n",
    "            xref='paper', yref='y',\n",
    "            font=dict(size=12),\n",
    "            showarrow = False )\n",
    "\n",
    "    #Copy layout from original plot\n",
    "    planfigs.layout = figs.layout\n",
    "    actualfigs.layout = figs.layout\n",
    "    planactualfigs.layout = figs.layout\n",
    "\n",
    "    #State condition whether activities were finished in the lapse\n",
    "    if False in [int(i) == round(i, 5) for i in np.concatenate([i.y for i in figs.data if i.line.color == 'black']) if math.isnan(i) == False]:\n",
    "        finished = False\n",
    "    else:\n",
    "        finished = True\n",
    "\n",
    "    #Add shapes for absent days\n",
    "    if n_C % 2 == 0 and n_1WP % 2 != 0 and n_2WP % 2 != 0 and n_3WP % 2 != 0 and n_4WP % 2 == 0 and n_5WP % 2 != 0 and n_6WP % 2 != 0:\n",
    "        pass\n",
    "    elif n_C % 2 == 0:\n",
    "        if finished == False and sorted(list(set(workingdays)))[-1]+timedelta(days=1) < lastdate:\n",
    "            figs.add_shape(type=\"rect\",\n",
    "              x0=sorted(list(set(workingdays)))[-1]+timedelta(days=1), x1=lastdate,\n",
    "              y0=0, y1=1,\n",
    "              xref='x', yref='paper',\n",
    "              line=dict(color=\"black\", width=1.5),\n",
    "              fillcolor = 'black',\n",
    "              opacity = 0.1)\n",
    "        for i in range(len(nonworkingdaysranges)//2):\n",
    "            figs.add_shape(type=\"rect\",\n",
    "              x0=nonworkingdaysranges[2*i], x1=nonworkingdaysranges[2*i+1],\n",
    "              y0=0, y1=1,\n",
    "              xref='x', yref='paper',\n",
    "              line=dict(color=\"black\", width=1.5),\n",
    "              fillcolor = 'black',\n",
    "              opacity = 0.1)\n",
    "  \n",
    "    figs.update_layout(showlegend = False)\n",
    "\n",
    "    #Add dashed line for last measurement and annotation in the conditional forecast\n",
    "    if n_P % 2 == 0 and finished == False:\n",
    "        \n",
    "        figs.add_shape(type=\"line\",\n",
    "                                x0=lastdate, x1=lastdate,\n",
    "                                y0=0, y1=1,\n",
    "                                xref='x', yref='paper',\n",
    "                                line=dict(color=\"black\", width=1.5, dash = 'dash'),\n",
    "                                opacity = 1)\n",
    "        figs.add_annotation(text='Last measurement:<br>2023-9-28',\n",
    "                                x=date(2023, 9, 29),\n",
    "                                ax = -55,\n",
    "                                align = 'left',\n",
    "                                ay = 0,\n",
    "                                y=8.25,\n",
    "                                axref = 'pixel',\n",
    "                                ayref = 'pixel',\n",
    "                                xref='x', yref='y',\n",
    "                                font=dict(size=10),\n",
    "                                showarrow = True,\n",
    "                                arrowcolor = 'rgba(0,0,0,0)')\n",
    "\n",
    "    #Update size of plot\n",
    "    figs.update_layout(height=height, width=width)\n",
    "    #Thicken the lines to seem as 'bars'\n",
    "    figs.update_traces(line=dict(width=15))\n",
    "    #Make fix of the yaxis of planfigs.data and actualfigs.data\n",
    "    for i in range(len(planfigs.data)):\n",
    "        planfigs.data[i].y = [j-1 if j!=None else None for j in planfigs.data[i].y]\n",
    "    for i in range(len(actualfigs.data)):\n",
    "        actualfigs.data[i].y = [j-1 if j!=None else None for j in actualfigs.data[i].y]\n",
    "    #Add planned data for the case of the toggle button\n",
    "    if n_R % 2 == 0:\n",
    "        for i in range(len(planfigs.data)):\n",
    "            figs.add_trace(planfigs.data[i])\n",
    "        figs.update_layout(title = dict(text = '<b>Flowlines Fit-out - South Building (Plan v Actual)<b>', font = dict(size = 20)))\n",
    "    else:\n",
    "        figs.update_layout(title = dict(text = '<b>Flowlines Fit-out - South Building (Actual)<b>', font = dict(size = 20)))\n",
    "\n",
    "    #Provide scenario for the particular case\n",
    "    if n_1WP % 2 != 0 and n_2WP % 2 != 0 and n_3WP % 2 != 0 and n_4WP % 2 == 0 and n_5WP % 2 != 0 and n_6WP % 2 != 0:\n",
    "\n",
    "        #Prevent plan error in this case\n",
    "        if n_R % 2 != 0:\n",
    "            raise PreventUpdate\n",
    "        else:\n",
    "            maxdate = max([j for j in [i.x for i in planfigs.data][0] if j!=  None])\n",
    "            #Add tablelike shapes for the yaxis\n",
    "            planfigs.add_shape(type=\"rect\",\n",
    "                x0=-2*(pixsize/2300), x1=0,\n",
    "                y0=0, y1=1,\n",
    "                xref='paper', yref='paper',\n",
    "                line=dict(color=\"#ffffff\", width=1.5),\n",
    "                fillcolor = '#eaeaf2',\n",
    "                opacity = 1)\n",
    "            for i in range(1, southfloornamelen+2):\n",
    "            # Add horizontal line to the margin\n",
    "                planfigs.add_shape(type=\"line\",\n",
    "                x0=-2*(pixsize/2300), x1=0,\n",
    "                y0=i-1, y1=i-1,\n",
    "                xref='paper', yref='y',\n",
    "                line=dict(color=\"#ffffff\", width=1.5),\n",
    "                opacity = 1)\n",
    "            # Add annotation to the margin\n",
    "                if i < southfloornamelen+1:\n",
    "                    planfigs.add_annotation(\n",
    "                text='<b>L'+str(i)+'<b>',\n",
    "                x=-2*(pixsize/2300),\n",
    "                y=i-1/2,\n",
    "                xref='paper', yref='y',\n",
    "                font=dict(size=12),\n",
    "                showarrow = False )\n",
    "            maxdate = max([j for j in [i.x for i in planfigs.data][0] if j!=  None])\n",
    "            planfigs.update_layout(showlegend = False)\n",
    "            # Update colorbar title and scale\n",
    "            planfigs.update_coloraxes(colorbar_title='<b>Percentage of<br>Progress (%)<br> <br><b>', colorscale = [[0, 'rgb(255,0,0)'], [custom_colorscale[1][0]/custom_colorscale[2][0], 'rgb(255,212,0)'], [1, 'rgb(52,235,0)']],\n",
    "                                colorbar_tickmode = 'array', colorbar_ticktext = ['0', '5', '10', '15', '20', '25', '30+'], colorbar_tickvals = [0, 5, 10, 15, 20, 25, 30],\n",
    "                                colorbar_ticks = 'outside', colorbar_tickwidth = 2, colorbar_ticklen = 8)\n",
    "\n",
    "            planfigs.update_layout(yaxis = dict(tickmode='array', tickvals = [i for i in range(southfloornamelen+1)], ticktext = ['']*(southfloornamelen+1), range = [-0.43, southfloornamelen+0.43], title_standoff = 35),\n",
    "                            xaxis = dict(range = [date(2022, 10, 31)-timedelta(days=5), maxdate+timedelta(days=5)]), title = '<b>Flowlines, '+name_legend[3]+' - South Building (Plan)<b>')\n",
    "\n",
    "    else:\n",
    "        maxdate = max([dateconversion(j) for j in list(np.concatenate([i.x for i in figs.data])) if type(j) == datetime.date or type(j) == datetime.datetime])\n",
    "        # Update colorbar title and scale\n",
    "        figs.update_coloraxes(colorbar_title='<b>Percentage of<br>Progress (%)<br> <br><b>', colorscale = [[0, 'rgb(255,0,0)'], [custom_colorscale[1][0]/custom_colorscale[2][0], 'rgb(255,212,0)'], [1, 'rgb(52,235,0)']],\n",
    "                              colorbar_tickmode = 'array', colorbar_ticktext = ['0', '5', '10', '15', '20', '25', '30+'], colorbar_tickvals = [0, 5, 10, 15, 20, 25, 30],\n",
    "                              colorbar_ticks = 'outside', colorbar_tickwidth = 2, colorbar_ticklen = 8)\n",
    "\n",
    "        figs.update_layout(yaxis = dict(tickmode='array', tickvals = [i for i in range(southfloornamelen+1)], ticktext = ['']*(southfloornamelen+1), range = [-0.43, southfloornamelen+0.43], title_standoff = 50),\n",
    "                           xaxis = dict(range = [date(2022, 10, 31)-timedelta(days=5), maxdate+timedelta(days=5)]))\n",
    "\n",
    "    if n_A % 3 == 0:\n",
    "\n",
    "        planfigs.update_layout(showlegend = False)\n",
    "        #Update size of plot\n",
    "        planfigs.update_layout(height=height, width=width)\n",
    "        planfigs.update_layout(yaxis = dict(tickmode='array', tickvals = [i for i in range(southfloornamelen+1)], ticktext = ['']*(southfloornamelen+1), range = [-0.43, southfloornamelen+0.43], title_standoff = 50),\n",
    "                           xaxis = dict(range = [date(2022, 10, 31)-timedelta(days=5), lastdate+timedelta(days=5)]))\n",
    "        planfigs.update_layout(title = dict(text = '<b>Flowlines Fit-out - South Building (Plan)<b>', font = dict(size = 25)))\n",
    "        #Use extra data to ensure that xaxis range is fixed\n",
    "        maxrange = lastdate\n",
    "        toprightfigs = px.line(x = [maxrange+timedelta(days=5), maxrange+timedelta(days=5)], y = [8, 8])\n",
    "        toprightfigs.update_traces(hoverinfo = 'none', hovertemplate = None)\n",
    "        bottomleftfigs = px.line(x = [date(2022, 10, 31)-timedelta(days=5), date(2022, 10, 31)-timedelta(days=5)], y = [0, 0])\n",
    "        bottomleftfigs.update_traces(hoverinfo = 'none', hovertemplate = None)\n",
    "        planfigs.add_traces(toprightfigs.data[0])\n",
    "        planfigs.add_traces(bottomleftfigs.data[0])\n",
    "        return planfigs\n",
    "    \n",
    "    elif n_A % 3 == 1 and n_R % 2 == 0:\n",
    "        for i in range(len(planfigs.data)):\n",
    "            planactualfigs.add_trace(planfigs.data[i])\n",
    "        for i in range(len(actualfigs.data)):\n",
    "            planactualfigs.add_trace(actualfigs.data[i])\n",
    "        planactualfigs.update_layout(showlegend = False)\n",
    "        #Update size of plot\n",
    "        planactualfigs.update_layout(height=height, width=width)\n",
    "        #Use extra data to ensure that xaxis range is fixed\n",
    "        maxrange = max([datetimeconversion(i) for i in np.concatenate([i.x for i in planactualfigs.data]) if type(i) == datetime.date or type(i) == datetime.datetime])\n",
    "        planactualfigs.update_layout(yaxis = dict(tickmode='array', tickvals = [i for i in range(southfloornamelen+1)], ticktext = ['']*(southfloornamelen+1), range = [-0.43, southfloornamelen+0.43], title_standoff = 50),\n",
    "                           xaxis = dict(range = [date(2022, 10, 31)-timedelta(days=5), max([dateconversion(i) for i in np.concatenate([i.x for i in planactualfigs.data]) if type(i) == datetime.date or type(i) == datetime.datetime])+timedelta(days=5)]))\n",
    "        planactualfigs.update_layout(title = dict(text = '<b>Flowlines Fit-out - South Building (Plan v Actual)<b>', font = dict(size = 25)))\n",
    "        toprightfigs = px.line(x = [maxrange+timedelta(days=4), maxrange+timedelta(days=4)], y = [8, 8])\n",
    "        toprightfigs.update_traces(hoverinfo = 'none', hovertemplate = None)\n",
    "        bottomleftfigs = px.line(x = [date(2022, 10, 31)-timedelta(days=5), date(2022, 10, 31)-timedelta(days=5)], y = [0, 0])\n",
    "        bottomleftfigs.update_traces(hoverinfo = 'none', hovertemplate = None)\n",
    "        planactualfigs.add_traces(toprightfigs.data[0])\n",
    "        planactualfigs.add_traces(bottomleftfigs.data[0])\n",
    "        return planactualfigs\n",
    "    \n",
    "    elif n_A % 3 == 1 and n_R % 2 == 1:\n",
    "\n",
    "        for i in range(len(planfigs.data)):\n",
    "            figs.add_trace(planfigs.data[i])\n",
    "        #Use extra data to ensure that xaxis range is fixed\n",
    "        maxrange = max([datetimeconversion(i) for i in np.concatenate([i.x for i in figs.data]) if type(i) == datetime.date or type(i) == datetime.datetime])\n",
    "        if finished == False and n_P % 2 == 1:\n",
    "            maxrange = lastdate\n",
    "        figs.update_layout(title = dict(text = '<b>Flowlines Fit-out - South Building (Plan v Actual)<b>', font = dict(size = 25)), xaxis = dict(range = [date(2022, 10, 31)-timedelta(days=5), maxrange+timedelta(days=5)]))\n",
    "        toprightfigs = px.line(x = [maxrange+timedelta(days=5), maxrange+timedelta(days=5)], y = [8, 8])\n",
    "        toprightfigs.update_traces(hoverinfo = 'none', hovertemplate = None)\n",
    "        bottomleftfigs = px.line(x = [date(2022, 10, 31)-timedelta(days=5), date(2022, 10, 31)-timedelta(days=5)], y = [0, 0])\n",
    "        bottomleftfigs.update_traces(hoverinfo = 'none', hovertemplate = None)\n",
    "        figs.add_traces(toprightfigs.data[0])\n",
    "        figs.add_traces(bottomleftfigs.data[0])\n",
    "        return figs\n",
    "    \n",
    "    elif n_A % 3 == 2 and n_R % 2 == 0:\n",
    "\n",
    "        actualfigs.update_layout(showlegend = False)\n",
    "        #Update size of plot\n",
    "        actualfigs.update_layout(height=height, width=width)\n",
    "        #Use extra data to ensure that xaxis range is fixed\n",
    "        maxrange = max([datetimeconversion(i) for i in np.concatenate([i.x for i in actualfigs.data]) if type(i) == datetime.date or type(i) == datetime.datetime])\n",
    "        actualfigs.update_layout(yaxis = dict(tickmode='array', tickvals = [i for i in range(southfloornamelen+1)], ticktext = ['']*(southfloornamelen+1), range = [-0.43, southfloornamelen+0.43], title_standoff = 50),\n",
    "                           xaxis = dict(range = [date(2022, 10, 31)-timedelta(days=5), maxrange+timedelta(days=5)]))\n",
    "        actualfigs.update_layout(title = dict(text = '<b>Flowlines Fit-out - South Building (Actual)<b>', font = dict(size = 25)))\n",
    "        toprightfigs = px.line(x = [maxrange+timedelta(days=5), maxrange+timedelta(days=5)], y = [8, 8])\n",
    "        toprightfigs.update_traces(hoverinfo = 'none', hovertemplate = None)\n",
    "        bottomleftfigs = px.line(x = [date(2022, 10, 31)-timedelta(days=5), date(2022, 10, 31)-timedelta(days=5)], y = [0, 0])\n",
    "        bottomleftfigs.update_traces(hoverinfo = 'none', hovertemplate = None)\n",
    "        actualfigs.add_traces(toprightfigs.data[0])\n",
    "        actualfigs.add_traces(bottomleftfigs.data[0])\n",
    "        return actualfigs\n",
    "\n",
    "    else:\n",
    "        #Use extra data to ensure that xaxis range is fixed\n",
    "        maxrange = max([datetimeconversion(i) for i in np.concatenate([i.x for i in figs.data]) if type(i) == datetime.date or type(i) == datetime.datetime])\n",
    "        if finished == False and n_P % 2 == 1:\n",
    "            maxrange = lastdate\n",
    "        figs.update_layout(title = dict(text = '<b>Flowlines Fit-out - South Building (Actual)<b>', font = dict(size = 25)), xaxis = dict(range = [date(2022, 10, 31)-timedelta(days=5), maxrange+timedelta(days=5)]))\n",
    "        toprightfigs = px.line(x = [maxrange+timedelta(days=5), maxrange+timedelta(days=5)], y = [8, 8])\n",
    "        toprightfigs.update_traces(hoverinfo = 'none', hovertemplate = None)\n",
    "        bottomleftfigs = px.line(x = [date(2022, 10, 31)-timedelta(days=5), date(2022, 10, 31)-timedelta(days=5)], y = [0, 0])\n",
    "        bottomleftfigs.update_traces(hoverinfo = 'none', hovertemplate = None)\n",
    "        figs.add_traces(toprightfigs.data[0])\n",
    "        figs.add_traces(bottomleftfigs.data[0])\n",
    "        return figs\n",
    "\n",
    "    \n",
    "    \n",
    "\n",
    "@app2.callback(\n",
    "    output,\n",
    "    input\n",
    ")\n",
    "def update_button_style(n_1WP, n_2WP, n_3WP, n_4WP, n_5WP, n_6WP, n_A, n_R, n_C, n_P):\n",
    "    # Default style for buttons\n",
    "    default_style = {'width': '100%', 'backgroundColor': 'white', 'color': 'black', 'margin-bottom':'5px', 'margin-bottom':'5px', 'height': '30px', 'border-radius': '10px', 'text-align': 'left',\n",
    "                     'border-width': '0'}\n",
    "    active_style = default_style.copy()\n",
    "    default_style['color'] = 'black'\n",
    "    active_style['color'] = '#aaa'\n",
    "    default_style0 = {'backgroundColor': 'green', 'color': 'white', 'height': '30px', 'border-radius': '15px', 'position': 'relative', 'left': '20px', 'width': '210px', 'border-width': '0'}\n",
    "    active_styleA = default_style0.copy()\n",
    "    active_styleB = default_style0.copy()\n",
    "    default_style0['background-color'] = 'green'\n",
    "    active_styleA['background-color'] = 'red'\n",
    "    active_styleB['background-color'] = 'blue'\n",
    "    default_style1 = {'backgroundColor': 'green', 'color': 'white', 'height': '30px', 'border-radius': '15px', 'position': 'relative', 'left': '148px', 'width': '210px', 'border-width': '0'}\n",
    "    active_style1 = default_style1.copy()\n",
    "    default_style1['background-color'] = 'green'\n",
    "    active_style1['background-color'] = 'red'\n",
    "    if n_A % 3 == 0:\n",
    "        default_style1['display'] = 'None'\n",
    "        active_style1['display'] = 'None'\n",
    "    default_style2 = {'backgroundColor': 'green', 'color': 'white', 'height': '30px', 'border-radius': '15px', 'position': 'relative', 'left': '276px', 'width': '210px', 'border-width': '0'}\n",
    "    active_style2 = default_style2.copy()\n",
    "    default_style2['background-color'] = 'green'\n",
    "    active_style2['background-color'] = 'red'\n",
    "    if n_A % 3 == 0 or n_R % 2 == 0:\n",
    "        default_style2['display'] = 'None'\n",
    "        active_style2['display'] = 'None'\n",
    "    default_style3 = {'backgroundColor': 'green', 'color': 'white', 'height': '30px', 'border-radius': '15px', 'position': 'relative', 'left': '404px', 'width': '210px', 'border-width': '0'}\n",
    "    active_style3 = default_style3.copy()\n",
    "    default_style3['background-color'] = 'green'\n",
    "    active_style3['background-color'] = 'red'\n",
    "    if n_A % 3 == 0 or n_R % 2 == 0:\n",
    "        default_style3['display'] = 'None'\n",
    "        active_style3['display'] = 'None'\n",
    "\n",
    "    return (\n",
    "        default_style if n_1WP % 2 == 0 else active_style,\n",
    "        default_style if n_2WP % 2 == 0 else active_style,\n",
    "        default_style if n_3WP % 2 == 0 else active_style,\n",
    "        default_style if n_4WP % 2 == 0 else active_style,\n",
    "        default_style if n_5WP % 2 == 0 else active_style,\n",
    "        default_style if n_6WP % 2 == 0 else active_style,\n",
    "        default_style0 if n_A % 3 == 0 else active_styleA if n_A % 3 == 1 else active_styleB,\n",
    "        default_style1 if n_R % 2 == 0 else active_style1,\n",
    "        default_style2 if n_C % 2 == 0 else active_style2,\n",
    "        default_style3 if n_P % 2 == 0 else active_style3,\n",
    "    )\n",
    "\n",
    "@app2.callback(\n",
    "    outputchildren,\n",
    "    input\n",
    ")\n",
    "def update_button_style(n_1WP, n_2WP, n_3WP, n_4WP, n_5WP, n_6WP, n_A, n_R, n_C, n_P):\n",
    "    on = []\n",
    "    off = []\n",
    "    # Change button style\n",
    "    for i in range(len(name_legend)):\n",
    "        on.append(html.Div([html.Hr(style={'height': '15px', 'width': '15px', 'border-color': colorset[i], 'background-color': colorset[i], 'border-width': 'medium', 'margin-right': '12px'}), name_legend[i]], \n",
    "                           style={'display': 'flex', 'display-direction': 'row', 'float': 'left', 'align-items': 'center'}))\n",
    "        off.append(html.Div([html.Hr(style={'height': '15px', 'width': '15px', 'border-color': colorset[i], 'background-color': 'white', 'border-width': 'medium', 'margin-right': '12px'}), name_legend[i]], \n",
    "                            style={'display': 'flex', 'display-direction': 'row', 'float': 'left', 'align-items': 'center'}))\n",
    "\n",
    "    return (\n",
    "        on[0] if n_1WP % 2 == 0 else off[0],\n",
    "        on[1] if n_2WP % 2 == 0 else off[1],\n",
    "        on[2] if n_3WP % 2 == 0 else off[2],\n",
    "        on[3] if n_4WP % 2 == 0 else off[3],\n",
    "        on[4] if n_5WP % 2 == 0 else off[4],\n",
    "        on[5] if n_6WP % 2 == 0 else off[5],\n",
    "        'Show Plan and Actual' if n_A % 3 == 0 else 'Show Actual' if n_A % 3 == 1 else 'Show Plan',\n",
    "        'Thin Flowlines' if n_R % 2 == 0 else 'Line of balance',\n",
    "        'Hide days with no progress' if n_C % 2 == 0 else 'Show days with no progress',\n",
    "        'Hide forecast' if n_P % 2 == 0 else 'Show forecast'\n",
    "    )\n",
    "#app2.write_html('testapp2')\n",
    "if __name__ == '__main__':\n",
    "    app2.run_server(debug=True, port=8052)"
   ]
  },
  {
   "cell_type": "code",
   "execution_count": null,
   "metadata": {},
   "outputs": [],
   "source": []
  },
  {
   "cell_type": "code",
   "execution_count": 6,
   "metadata": {},
   "outputs": [],
   "source": [
    "Flowlines1fig.layout.title.text ='<b>Plan v Actual activity lines North<b>'\n",
    "app4 = dash.Dash(__name__)\n",
    "\n",
    "app4.layout = html.Div([\n",
    "    html.Div([dcc.Graph(id='plot-output', figure = Flowlines1fig, style = {'width': '100%', 'height': '860px'})], style={'width': '1600px', 'position': 'absolute'})\n",
    "])\n",
    "\n",
    "#if __name__ == '__main__':\n",
    " #   app3.run(debug=True, port=8051)"
   ]
  },
  {
   "cell_type": "code",
   "execution_count": 7,
   "metadata": {},
   "outputs": [
    {
     "name": "stdout",
     "output_type": "stream",
     "text": [
      "layout.Coloraxis()\n"
     ]
    }
   ],
   "source": [
    "print(figadditivessth[4].layout.coloraxis)"
   ]
  },
  {
   "cell_type": "code",
   "execution_count": 8,
   "metadata": {},
   "outputs": [],
   "source": [
    "Flowlines1figsth.layout.title.text ='<b>Plan v Actual activity lines South<b>'\n",
    "app5 = dash.Dash(__name__)\n",
    "\n",
    "app5.layout = html.Div([dcc.Graph(id='plot-output', figure = Flowlines1figsth, style = {'width': '100%', 'height': '860px'})], style={'width': '1600px', 'position': 'absolute'})\n",
    "\n",
    "\n",
    "#if __name__ == '__main__':\n",
    " #   app4.run(debug=True, port=8051)"
   ]
  },
  {
   "cell_type": "code",
   "execution_count": 9,
   "metadata": {},
   "outputs": [],
   "source": [
    "app6 = dash.Dash(__name__)\n",
    "\n",
    "locationlist = ['North', 'South']\n",
    "graphlist = ['Progress flow', 'Activity lines']\n",
    "\n",
    "app6.layout = html.Div([\n",
    "    html.Div(id='dd-output-container', style={'position': 'absolute', 'width': '1600px', 'height':'860'}),\n",
    "    html.Div([html.Div([dcc.Dropdown(locationlist, 'North', id='location-dropdown', style={'width':'100px', 'backgroundColor': '#f6f6f6'})], style = {'position': 'relative', 'left': '50px'}),\n",
    "              html.Div([dcc.Dropdown(graphlist, 'Progress flow', id='graph-dropdown', style={'width':'150px', 'backgroundColor': '#f6f6f6'})], style = {'position': 'relative', 'left': '1160px'})], \n",
    "             style={'display': 'flex', 'display-direction': 'row', 'position': 'relative', 'top': '20px'})\n",
    "])\n",
    "\n",
    "@app6.callback(\n",
    "    Output('dd-output-container', 'children'),\n",
    "    [Input('location-dropdown', 'value'),\n",
    "     Input('graph-dropdown', 'value')]\n",
    ")\n",
    "\n",
    "def update_plot_output(locationvalue, graphvalue):\n",
    "\n",
    "    if locationvalue == 'North' and graphvalue == 'Progress flow':\n",
    "        return app1.layout\n",
    "    elif locationvalue == 'South' and graphvalue == 'Progress flow':\n",
    "        return app2.layout\n",
    "    elif locationvalue == 'North' and graphvalue == 'Activity lines':\n",
    "        return app3.layout\n",
    "    elif locationvalue == 'South' and graphvalue == 'Activity lines':\n",
    "        return app4.layout\n",
    "    else:\n",
    "        raise PreventUpdate\n",
    "\n",
    "\n",
    "#if __name__ == '__main__':\n",
    " #   app5.run(debug=True, port=8051)"
   ]
  }
 ],
 "metadata": {
  "kernelspec": {
   "display_name": "Python 3",
   "language": "python",
   "name": "python3"
  },
  "language_info": {
   "codemirror_mode": {
    "name": "ipython",
    "version": 3
   },
   "file_extension": ".py",
   "mimetype": "text/x-python",
   "name": "python",
   "nbconvert_exporter": "python",
   "pygments_lexer": "ipython3",
   "version": "3.9.12"
  }
 },
 "nbformat": 4,
 "nbformat_minor": 2
}
