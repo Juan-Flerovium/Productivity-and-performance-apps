{
 "cells": [
  {
   "cell_type": "code",
   "execution_count": 1,
   "metadata": {},
   "outputs": [
    {
     "data": {
      "application/vnd.plotly.v1+json": {
       "config": {
        "plotlyServerURL": "https://plot.ly"
       },
       "data": [
        {
         "customdata": [
          [
           "2022-11-21",
           "2023-01-10",
           "L1"
          ],
          [
           "2022-11-21",
           "2023-01-10",
           "L1"
          ],
          [
           null,
           null,
           null
          ],
          [
           "2022-11-23",
           "2023-01-18",
           "L2"
          ],
          [
           "2022-11-23",
           "2023-01-18",
           "L2"
          ],
          [
           null,
           null,
           null
          ],
          [
           "2023-01-04",
           "2023-02-14",
           "L3"
          ],
          [
           "2023-01-04",
           "2023-02-14",
           "L3"
          ],
          [
           null,
           null,
           null
          ],
          [
           "2023-01-04",
           "2023-02-17",
           "L4"
          ],
          [
           "2023-01-04",
           "2023-02-17",
           "L4"
          ],
          [
           null,
           null,
           null
          ],
          [
           "2023-01-18",
           "2023-03-01",
           "L5"
          ],
          [
           "2023-01-18",
           "2023-03-01",
           "L5"
          ],
          [
           null,
           null,
           null
          ],
          [
           "2023-02-14",
           "2023-03-13",
           "L6"
          ],
          [
           "2023-02-14",
           "2023-03-13",
           "L6"
          ],
          [
           null,
           null,
           null
          ],
          [
           "2023-02-28",
           "2023-03-27",
           "L7"
          ],
          [
           "2023-02-28",
           "2023-03-27",
           "L7"
          ],
          [
           null,
           null,
           null
          ],
          [
           "2023-03-14",
           "2023-04-12",
           "L8"
          ],
          [
           "2023-03-14",
           "2023-04-12",
           "L8"
          ],
          [
           null,
           null,
           null
          ]
         ],
         "hovertemplate": "Initial Date: %{customdata[0]}<br>Final Date: %{customdata[1]}<br>Level: %{customdata[2]}",
         "legendgroup": "0, 0",
         "line": {
          "color": "#3366CC",
          "dash": "dash"
         },
         "marker": {
          "symbol": "circle"
         },
         "mode": "lines",
         "name": "Demising Walls Planned",
         "orientation": "v",
         "showlegend": true,
         "type": "scatter",
         "x": [
          "2022-11-21",
          "2023-01-10",
          null,
          "2022-11-23",
          "2023-01-18",
          null,
          "2023-01-04",
          "2023-02-14",
          null,
          "2023-01-04",
          "2023-02-17",
          null,
          "2023-01-18",
          "2023-03-01",
          null,
          "2023-02-14",
          "2023-03-13",
          null,
          "2023-02-28",
          "2023-03-27",
          null,
          "2023-03-14",
          "2023-04-12",
          null
         ],
         "xaxis": "x",
         "y": [
          1,
          2,
          null,
          2,
          3,
          null,
          3,
          4,
          null,
          4,
          5,
          null,
          5,
          6,
          null,
          6,
          7,
          null,
          7,
          8,
          null,
          8,
          9,
          null
         ],
         "yaxis": "y"
        },
        {
         "customdata": [
          [
           "2022-12-15",
           "2023-02-14",
           "L1"
          ],
          [
           "2022-12-15",
           "2023-02-14",
           "L1"
          ],
          [
           null,
           null,
           null
          ],
          [
           "2023-01-16",
           "2023-02-17",
           "L2"
          ],
          [
           "2023-01-16",
           "2023-02-17",
           "L2"
          ],
          [
           null,
           null,
           null
          ],
          [
           "2023-02-09",
           "2023-02-22",
           "L3"
          ],
          [
           "2023-02-09",
           "2023-02-22",
           "L3"
          ],
          [
           null,
           null,
           null
          ],
          [
           "2023-02-09",
           "2023-03-01",
           "L4"
          ],
          [
           "2023-02-09",
           "2023-03-01",
           "L4"
          ],
          [
           null,
           null,
           null
          ],
          [
           "2023-02-09",
           "2023-03-13",
           "L5"
          ],
          [
           "2023-02-09",
           "2023-03-13",
           "L5"
          ],
          [
           null,
           null,
           null
          ],
          [
           "2023-02-09",
           "2023-03-23",
           "L6"
          ],
          [
           "2023-02-09",
           "2023-03-23",
           "L6"
          ],
          [
           null,
           null,
           null
          ],
          [
           "2023-03-28",
           "2023-04-11",
           "L7"
          ],
          [
           "2023-03-28",
           "2023-04-11",
           "L7"
          ],
          [
           null,
           null,
           null
          ],
          [
           "2023-04-13",
           "2023-04-25",
           "L8"
          ],
          [
           "2023-04-13",
           "2023-04-25",
           "L8"
          ],
          [
           null,
           null,
           null
          ]
         ],
         "hovertemplate": "Initial Date: %{customdata[0]}<br>Final Date: %{customdata[1]}<br>Level: %{customdata[2]}",
         "legendgroup": "1, 1",
         "line": {
          "color": "#DC3912",
          "dash": "dash"
         },
         "marker": {
          "symbol": "circle"
         },
         "mode": "lines",
         "name": "HL MEP Services (1st Fix) Planned",
         "orientation": "v",
         "showlegend": true,
         "type": "scatter",
         "x": [
          "2022-12-15",
          "2023-02-14",
          null,
          "2023-01-16",
          "2023-02-17",
          null,
          "2023-02-09",
          "2023-02-22",
          null,
          "2023-02-09",
          "2023-03-01",
          null,
          "2023-02-09",
          "2023-03-13",
          null,
          "2023-02-09",
          "2023-03-23",
          null,
          "2023-03-28",
          "2023-04-11",
          null,
          "2023-04-13",
          "2023-04-25",
          null
         ],
         "xaxis": "x",
         "y": [
          1,
          2,
          null,
          2,
          3,
          null,
          3,
          4,
          null,
          4,
          5,
          null,
          5,
          6,
          null,
          6,
          7,
          null,
          7,
          8,
          null,
          8,
          9,
          null
         ],
         "yaxis": "y"
        },
        {
         "customdata": [
          [
           "2023-02-13",
           "2023-02-24",
           "L1"
          ],
          [
           "2023-02-13",
           "2023-02-24",
           "L1"
          ],
          [
           null,
           null,
           null
          ],
          [
           "2023-02-13",
           "2023-02-24",
           "L2"
          ],
          [
           "2023-02-13",
           "2023-02-24",
           "L2"
          ],
          [
           null,
           null,
           null
          ],
          [
           "2023-02-24",
           "2023-03-09",
           "L3"
          ],
          [
           "2023-02-24",
           "2023-03-09",
           "L3"
          ],
          [
           null,
           null,
           null
          ],
          [
           "2023-03-03",
           "2023-03-16",
           "L4"
          ],
          [
           "2023-03-03",
           "2023-03-16",
           "L4"
          ],
          [
           null,
           null,
           null
          ],
          [
           "2023-03-15",
           "2023-03-28",
           "L5"
          ],
          [
           "2023-03-15",
           "2023-03-28",
           "L5"
          ],
          [
           null,
           null,
           null
          ],
          [
           "2023-03-27",
           "2023-04-11",
           "L6"
          ],
          [
           "2023-03-27",
           "2023-04-11",
           "L6"
          ],
          [
           null,
           null,
           null
          ],
          [
           "2023-04-13",
           "2023-04-26",
           "L7"
          ],
          [
           "2023-04-13",
           "2023-04-26",
           "L7"
          ],
          [
           null,
           null,
           null
          ],
          [
           "2023-04-27",
           "2023-05-11",
           "L8"
          ],
          [
           "2023-04-27",
           "2023-05-11",
           "L8"
          ],
          [
           null,
           null,
           null
          ]
         ],
         "hovertemplate": "Initial Date: %{customdata[0]}<br>Final Date: %{customdata[1]}<br>Level: %{customdata[2]}",
         "legendgroup": "2, 2",
         "line": {
          "color": "#FF9900",
          "dash": "dash"
         },
         "marker": {
          "symbol": "circle"
         },
         "mode": "lines",
         "name": "Internal walls 2nd Drylining Visit Planned",
         "orientation": "v",
         "showlegend": true,
         "type": "scatter",
         "x": [
          "2023-02-13",
          "2023-02-24",
          null,
          "2023-02-13",
          "2023-02-24",
          null,
          "2023-02-24",
          "2023-03-09",
          null,
          "2023-03-03",
          "2023-03-16",
          null,
          "2023-03-15",
          "2023-03-28",
          null,
          "2023-03-27",
          "2023-04-11",
          null,
          "2023-04-13",
          "2023-04-26",
          null,
          "2023-04-27",
          "2023-05-11",
          null
         ],
         "xaxis": "x",
         "y": [
          1,
          2,
          null,
          2,
          3,
          null,
          3,
          4,
          null,
          4,
          5,
          null,
          5,
          6,
          null,
          6,
          7,
          null,
          7,
          8,
          null,
          8,
          9,
          null
         ],
         "yaxis": "y"
        },
        {
         "customdata": [
          [
           "2023-02-27",
           "2023-03-14",
           "L1"
          ],
          [
           "2023-02-27",
           "2023-03-14",
           "L1"
          ],
          [
           null,
           null,
           null
          ],
          [
           "2023-02-27",
           "2023-03-14",
           "L2"
          ],
          [
           "2023-02-27",
           "2023-03-14",
           "L2"
          ],
          [
           null,
           null,
           null
          ],
          [
           "2023-03-10",
           "2023-03-27",
           "L3"
          ],
          [
           "2023-03-10",
           "2023-03-27",
           "L3"
          ],
          [
           null,
           null,
           null
          ],
          [
           "2023-03-17",
           "2023-04-03",
           "L4"
          ],
          [
           "2023-03-17",
           "2023-04-03",
           "L4"
          ],
          [
           null,
           null,
           null
          ],
          [
           "2023-03-29",
           "2023-04-17",
           "L5"
          ],
          [
           "2023-03-29",
           "2023-04-17",
           "L5"
          ],
          [
           null,
           null,
           null
          ],
          [
           "2023-04-12",
           "2023-04-27",
           "L6"
          ],
          [
           "2023-04-12",
           "2023-04-27",
           "L6"
          ],
          [
           null,
           null,
           null
          ],
          [
           "2023-04-27",
           "2023-05-15",
           "L7"
          ],
          [
           "2023-04-27",
           "2023-05-15",
           "L7"
          ],
          [
           null,
           null,
           null
          ],
          [
           "2023-05-12",
           "2023-05-30",
           "L8"
          ],
          [
           "2023-05-12",
           "2023-05-30",
           "L8"
          ],
          [
           null,
           null,
           null
          ]
         ],
         "hovertemplate": "Initial Date: %{customdata[0]}<br>Final Date: %{customdata[1]}<br>Level: %{customdata[2]}",
         "legendgroup": "3, 3",
         "line": {
          "color": "#109618",
          "dash": "dash"
         },
         "marker": {
          "symbol": "circle"
         },
         "mode": "lines",
         "name": "HL MEP Services (2nd Fix) Planned",
         "orientation": "v",
         "showlegend": true,
         "type": "scatter",
         "x": [
          "2023-02-27",
          "2023-03-14",
          null,
          "2023-02-27",
          "2023-03-14",
          null,
          "2023-03-10",
          "2023-03-27",
          null,
          "2023-03-17",
          "2023-04-03",
          null,
          "2023-03-29",
          "2023-04-17",
          null,
          "2023-04-12",
          "2023-04-27",
          null,
          "2023-04-27",
          "2023-05-15",
          null,
          "2023-05-12",
          "2023-05-30",
          null
         ],
         "xaxis": "x",
         "y": [
          1,
          2,
          null,
          2,
          3,
          null,
          3,
          4,
          null,
          4,
          5,
          null,
          5,
          6,
          null,
          6,
          7,
          null,
          7,
          8,
          null,
          8,
          9,
          null
         ],
         "yaxis": "y"
        },
        {
         "customdata": [
          [
           "2023-03-17",
           "2023-04-19",
           "L1"
          ],
          [
           "2023-03-17",
           "2023-04-19",
           "L1"
          ],
          [
           null,
           null,
           null
          ],
          [
           "2023-03-17",
           "2023-04-19",
           "L2"
          ],
          [
           "2023-03-17",
           "2023-04-19",
           "L2"
          ],
          [
           null,
           null,
           null
          ],
          [
           "2023-03-30",
           "2023-05-03",
           "L3"
          ],
          [
           "2023-03-30",
           "2023-05-03",
           "L3"
          ],
          [
           null,
           null,
           null
          ],
          [
           "2023-04-06",
           "2023-05-10",
           "L4"
          ],
          [
           "2023-04-06",
           "2023-05-10",
           "L4"
          ],
          [
           null,
           null,
           null
          ],
          [
           "2023-04-20",
           "2023-05-22",
           "L5"
          ],
          [
           "2023-04-20",
           "2023-05-22",
           "L5"
          ],
          [
           null,
           null,
           null
          ],
          [
           "2023-05-03",
           "2023-06-02",
           "L6"
          ],
          [
           "2023-05-03",
           "2023-06-02",
           "L6"
          ],
          [
           null,
           null,
           null
          ],
          [
           "2023-05-18",
           "2023-06-19",
           "L7"
          ],
          [
           "2023-05-18",
           "2023-06-19",
           "L7"
          ],
          [
           null,
           null,
           null
          ],
          [
           "2023-06-02",
           "2023-07-03",
           "L8"
          ],
          [
           "2023-06-02",
           "2023-07-03",
           "L8"
          ],
          [
           null,
           null,
           null
          ]
         ],
         "hovertemplate": "Initial Date: %{customdata[0]}<br>Final Date: %{customdata[1]}<br>Level: %{customdata[2]}",
         "legendgroup": "4, 4",
         "line": {
          "color": "#990099",
          "dash": "dash"
         },
         "marker": {
          "symbol": "circle"
         },
         "mode": "lines",
         "name": "Final Drylining / Install Ceilings Planned",
         "orientation": "v",
         "showlegend": true,
         "type": "scatter",
         "x": [
          "2023-03-17",
          "2023-04-19",
          null,
          "2023-03-17",
          "2023-04-19",
          null,
          "2023-03-30",
          "2023-05-03",
          null,
          "2023-04-06",
          "2023-05-10",
          null,
          "2023-04-20",
          "2023-05-22",
          null,
          "2023-05-03",
          "2023-06-02",
          null,
          "2023-05-18",
          "2023-06-19",
          null,
          "2023-06-02",
          "2023-07-03",
          null
         ],
         "xaxis": "x",
         "y": [
          1,
          2,
          null,
          2,
          3,
          null,
          3,
          4,
          null,
          4,
          5,
          null,
          5,
          6,
          null,
          6,
          7,
          null,
          7,
          8,
          null,
          8,
          9,
          null
         ],
         "yaxis": "y"
        },
        {
         "customdata": [
          [
           "2023-04-19",
           "2023-06-01",
           "L1"
          ],
          [
           "2023-04-19",
           "2023-06-01",
           "L1"
          ],
          [
           null,
           null,
           null
          ],
          [
           "2023-04-19",
           "2023-06-01",
           "L2"
          ],
          [
           "2023-04-19",
           "2023-06-01",
           "L2"
          ],
          [
           null,
           null,
           null
          ],
          [
           "2023-05-03",
           "2023-06-14",
           "L3"
          ],
          [
           "2023-05-03",
           "2023-06-14",
           "L3"
          ],
          [
           null,
           null,
           null
          ],
          [
           "2023-05-10",
           "2023-06-21",
           "L4"
          ],
          [
           "2023-05-10",
           "2023-06-21",
           "L4"
          ],
          [
           null,
           null,
           null
          ],
          [
           "2023-05-22",
           "2023-07-03",
           "L5"
          ],
          [
           "2023-05-22",
           "2023-07-03",
           "L5"
          ],
          [
           null,
           null,
           null
          ],
          [
           "2023-06-02",
           "2023-07-13",
           "L6"
          ],
          [
           "2023-06-02",
           "2023-07-13",
           "L6"
          ],
          [
           null,
           null,
           null
          ],
          [
           "2023-06-19",
           "2023-07-28",
           "L7"
          ],
          [
           "2023-06-19",
           "2023-07-28",
           "L7"
          ],
          [
           null,
           null,
           null
          ],
          [
           "2023-07-03",
           "2023-08-11",
           "L8"
          ],
          [
           "2023-07-03",
           "2023-08-11",
           "L8"
          ],
          [
           null,
           null,
           null
          ]
         ],
         "hovertemplate": "Initial Date: %{customdata[0]}<br>Final Date: %{customdata[1]}<br>Level: %{customdata[2]}",
         "legendgroup": "5, 5",
         "line": {
          "color": "#0099C6",
          "dash": "dash"
         },
         "marker": {
          "symbol": "circle"
         },
         "mode": "lines",
         "name": "Screed / Joinery / Kitchens Planned",
         "orientation": "v",
         "showlegend": true,
         "type": "scatter",
         "x": [
          "2023-04-19",
          "2023-06-01",
          null,
          "2023-04-19",
          "2023-06-01",
          null,
          "2023-05-03",
          "2023-06-14",
          null,
          "2023-05-10",
          "2023-06-21",
          null,
          "2023-05-22",
          "2023-07-03",
          null,
          "2023-06-02",
          "2023-07-13",
          null,
          "2023-06-19",
          "2023-07-28",
          null,
          "2023-07-03",
          "2023-08-11",
          null
         ],
         "xaxis": "x",
         "y": [
          1,
          2,
          null,
          2,
          3,
          null,
          3,
          4,
          null,
          4,
          5,
          null,
          5,
          6,
          null,
          6,
          7,
          null,
          7,
          8,
          null,
          8,
          9,
          null
         ],
         "yaxis": "y"
        },
        {
         "customdata": [
          [
           "2022-11-22",
           "2023-03-03",
           "L1"
          ],
          [
           "2022-11-22",
           "2023-03-03",
           "L1"
          ],
          [
           null,
           null,
           null
          ],
          [
           "2022-12-06",
           "2023-01-30",
           "L2"
          ],
          [
           "2022-12-06",
           "2023-01-30",
           "L2"
          ],
          [
           null,
           null,
           null
          ],
          [
           "2023-01-12",
           "2023-02-24",
           "L3"
          ],
          [
           "2023-01-12",
           "2023-02-24",
           "L3"
          ],
          [
           null,
           null,
           null
          ],
          [
           "2023-01-21",
           "2023-02-21",
           "L4"
          ],
          [
           "2023-01-21",
           "2023-02-21",
           "L4"
          ],
          [
           null,
           null,
           null
          ],
          [
           "2023-01-27",
           "2023-02-21",
           "L5"
          ],
          [
           "2023-01-27",
           "2023-02-21",
           "L5"
          ],
          [
           null,
           null,
           null
          ],
          [
           "2023-02-07",
           "2023-03-14",
           "L6"
          ],
          [
           "2023-02-07",
           "2023-03-14",
           "L6"
          ],
          [
           null,
           null,
           null
          ],
          [
           "2023-02-21",
           "2023-03-07",
           "L7"
          ],
          [
           "2023-02-21",
           "2023-03-07",
           "L7"
          ],
          [
           null,
           null,
           null
          ],
          [
           "2023-02-21",
           "2023-03-12",
           "L8"
          ],
          [
           "2023-02-21",
           "2023-03-12",
           "L8"
          ],
          [
           null,
           null,
           null
          ]
         ],
         "hovertemplate": "Initial Date: %{customdata[0]}<br>Final Date: %{customdata[1]}<br>Level: %{customdata[2]}",
         "legendgroup": "0",
         "line": {
          "color": "#3366CC",
          "dash": "solid"
         },
         "marker": {
          "symbol": "circle"
         },
         "mode": "lines",
         "name": "Demising Walls Actuals",
         "orientation": "v",
         "showlegend": true,
         "type": "scatter",
         "x": [
          "2022-11-22",
          "2023-03-03",
          null,
          "2022-12-06",
          "2023-01-30",
          null,
          "2023-01-12",
          "2023-02-24",
          null,
          "2023-01-21",
          "2023-02-21",
          null,
          "2023-01-27",
          "2023-02-21",
          null,
          "2023-02-07",
          "2023-03-14",
          null,
          "2023-02-21",
          "2023-03-07",
          null,
          "2023-02-21",
          "2023-03-12",
          null
         ],
         "xaxis": "x",
         "y": [
          1,
          2,
          null,
          2,
          3,
          null,
          3,
          4,
          null,
          4,
          5,
          null,
          5,
          6,
          null,
          6,
          7,
          null,
          7,
          8,
          null,
          8,
          9,
          null
         ],
         "yaxis": "y"
        },
        {
         "customdata": [
          [
           "2023-01-17",
           "2023-07-24",
           "L1"
          ],
          [
           "2023-01-17",
           "2023-07-24",
           "L1"
          ],
          [
           null,
           null,
           null
          ],
          [
           "2023-02-02",
           "2023-07-24",
           "L2"
          ],
          [
           "2023-02-02",
           "2023-07-24",
           "L2"
          ],
          [
           null,
           null,
           null
          ],
          [
           "2023-02-21",
           "2023-07-24",
           "L3"
          ],
          [
           "2023-02-21",
           "2023-07-24",
           "L3"
          ],
          [
           null,
           null,
           null
          ],
          [
           "2023-02-21",
           "2023-07-24",
           "L4"
          ],
          [
           "2023-02-21",
           "2023-07-24",
           "L4"
          ],
          [
           null,
           null,
           null
          ],
          [
           "2023-02-27",
           "2023-07-24",
           "L5"
          ],
          [
           "2023-02-27",
           "2023-07-24",
           "L5"
          ],
          [
           null,
           null,
           null
          ],
          [
           "2023-02-27",
           "2023-07-24",
           "L6"
          ],
          [
           "2023-02-27",
           "2023-07-24",
           "L6"
          ],
          [
           null,
           null,
           null
          ],
          [
           "2023-03-07",
           "2023-07-28",
           "L7"
          ],
          [
           "2023-03-07",
           "2023-07-28",
           "L7"
          ],
          [
           null,
           null,
           null
          ],
          [
           "2023-03-16",
           "2023-08-10",
           "L8"
          ],
          [
           "2023-03-16",
           "2023-08-10",
           "L8"
          ],
          [
           null,
           null,
           null
          ]
         ],
         "hovertemplate": "Initial Date: %{customdata[0]}<br>Final Date: %{customdata[1]}<br>Level: %{customdata[2]}",
         "legendgroup": "1",
         "line": {
          "color": "#DC3912",
          "dash": "solid"
         },
         "marker": {
          "symbol": "circle"
         },
         "mode": "lines",
         "name": "HL MEP Services (1st Fix) Actuals",
         "orientation": "v",
         "showlegend": true,
         "type": "scatter",
         "x": [
          "2023-01-17",
          "2023-07-24",
          null,
          "2023-02-02",
          "2023-07-24",
          null,
          "2023-02-21",
          "2023-07-24",
          null,
          "2023-02-21",
          "2023-07-24",
          null,
          "2023-02-27",
          "2023-07-24",
          null,
          "2023-02-27",
          "2023-07-24",
          null,
          "2023-03-07",
          "2023-07-28",
          null,
          "2023-03-16",
          "2023-08-10",
          null
         ],
         "xaxis": "x",
         "y": [
          1,
          2,
          null,
          2,
          3,
          null,
          3,
          4,
          null,
          4,
          5,
          null,
          5,
          6,
          null,
          6,
          7,
          null,
          7,
          8,
          null,
          8,
          9,
          null
         ],
         "yaxis": "y"
        },
        {
         "customdata": [
          [
           "2023-01-12",
           "2023-06-30",
           "L1"
          ],
          [
           "2023-01-12",
           "2023-06-30",
           "L1"
          ],
          [
           null,
           null,
           null
          ],
          [
           "2023-01-17",
           "2023-07-06",
           "L2"
          ],
          [
           "2023-01-17",
           "2023-07-06",
           "L2"
          ],
          [
           null,
           null,
           null
          ],
          [
           "2023-01-23",
           "2023-07-24",
           "L3"
          ],
          [
           "2023-01-23",
           "2023-07-24",
           "L3"
          ],
          [
           null,
           null,
           null
          ],
          [
           "2023-01-27",
           "2023-08-10",
           "L4"
          ],
          [
           "2023-01-27",
           "2023-08-10",
           "L4"
          ],
          [
           null,
           null,
           null
          ],
          [
           "2023-01-30",
           "2023-08-17",
           "L5"
          ],
          [
           "2023-01-30",
           "2023-08-17",
           "L5"
          ],
          [
           null,
           null,
           null
          ],
          [
           "2023-02-13",
           "2023-07-24",
           "L6"
          ],
          [
           "2023-02-13",
           "2023-07-24",
           "L6"
          ],
          [
           null,
           null,
           null
          ],
          [
           "2023-02-21",
           "2023-08-10",
           "L7"
          ],
          [
           "2023-02-21",
           "2023-08-10",
           "L7"
          ],
          [
           null,
           null,
           null
          ],
          [
           "2023-02-24",
           "2023-09-07",
           "L8"
          ],
          [
           "2023-02-24",
           "2023-09-07",
           "L8"
          ],
          [
           null,
           null,
           null
          ]
         ],
         "hovertemplate": "Initial Date: %{customdata[0]}<br>Final Date: %{customdata[1]}<br>Level: %{customdata[2]}",
         "legendgroup": "2",
         "line": {
          "color": "#FF9900",
          "dash": "solid"
         },
         "marker": {
          "symbol": "circle"
         },
         "mode": "lines",
         "name": "Internal walls 2nd Drylining Visit Actuals",
         "orientation": "v",
         "showlegend": true,
         "type": "scatter",
         "x": [
          "2023-01-12",
          "2023-06-30",
          null,
          "2023-01-17",
          "2023-07-06",
          null,
          "2023-01-23",
          "2023-07-24",
          null,
          "2023-01-27",
          "2023-08-10",
          null,
          "2023-01-30",
          "2023-08-17",
          null,
          "2023-02-13",
          "2023-07-24",
          null,
          "2023-02-21",
          "2023-08-10",
          null,
          "2023-02-24",
          "2023-09-07",
          null
         ],
         "xaxis": "x",
         "y": [
          1,
          2,
          null,
          2,
          3,
          null,
          3,
          4,
          null,
          4,
          5,
          null,
          5,
          6,
          null,
          6,
          7,
          null,
          7,
          8,
          null,
          8,
          9,
          null
         ],
         "yaxis": "y"
        },
        {
         "customdata": [
          [
           null,
           null,
           "L1"
          ],
          [
           null,
           null,
           "L1"
          ],
          [
           null,
           null,
           null
          ],
          [
           null,
           null,
           "L2"
          ],
          [
           null,
           null,
           "L2"
          ],
          [
           null,
           null,
           null
          ],
          [
           null,
           null,
           "L3"
          ],
          [
           null,
           null,
           "L3"
          ],
          [
           null,
           null,
           null
          ],
          [
           null,
           null,
           "L4"
          ],
          [
           null,
           null,
           "L4"
          ],
          [
           null,
           null,
           null
          ],
          [
           null,
           null,
           "L5"
          ],
          [
           null,
           null,
           "L5"
          ],
          [
           null,
           null,
           null
          ],
          [
           null,
           null,
           "L6"
          ],
          [
           null,
           null,
           "L6"
          ],
          [
           null,
           null,
           null
          ],
          [
           null,
           null,
           "L7"
          ],
          [
           null,
           null,
           "L7"
          ],
          [
           null,
           null,
           null
          ],
          [
           null,
           null,
           "L8"
          ],
          [
           null,
           null,
           "L8"
          ],
          [
           null,
           null,
           null
          ]
         ],
         "hovertemplate": "Initial Date: %{customdata[0]}<br>Final Date: %{customdata[1]}<br>Level: %{customdata[2]}",
         "legendgroup": "3",
         "line": {
          "color": "#109618",
          "dash": "solid"
         },
         "marker": {
          "symbol": "circle"
         },
         "mode": "lines",
         "name": "HL MEP Services (2nd Fix) Actuals",
         "orientation": "v",
         "showlegend": true,
         "type": "scatter",
         "x": [
          null,
          null,
          null,
          null,
          null,
          null,
          null,
          null,
          null,
          null,
          null,
          null,
          null,
          null,
          null,
          null,
          null,
          null,
          null,
          null,
          null,
          null,
          null,
          null
         ],
         "xaxis": "x",
         "y": [
          1,
          2,
          null,
          2,
          3,
          null,
          3,
          4,
          null,
          4,
          5,
          null,
          5,
          6,
          null,
          6,
          7,
          null,
          7,
          8,
          null,
          8,
          9,
          null
         ],
         "yaxis": "y"
        },
        {
         "customdata": [
          [
           "2023-03-09",
           "2023-08-17",
           "L1"
          ],
          [
           "2023-03-09",
           "2023-08-17",
           "L1"
          ],
          [
           null,
           null,
           null
          ],
          [
           "2023-06-05",
           "2023-08-10",
           "L2"
          ],
          [
           "2023-06-05",
           "2023-08-10",
           "L2"
          ],
          [
           null,
           null,
           null
          ],
          [
           "2023-06-09",
           "2023-08-17",
           "L3"
          ],
          [
           "2023-06-09",
           "2023-08-17",
           "L3"
          ],
          [
           null,
           null,
           null
          ],
          [
           "2023-06-22",
           "2023-09-14",
           "L4"
          ],
          [
           "2023-06-22",
           "2023-09-14",
           "L4"
          ],
          [
           null,
           null,
           null
          ],
          [
           "2023-07-06",
           "2023-09-14",
           "L5"
          ],
          [
           "2023-07-06",
           "2023-09-14",
           "L5"
          ],
          [
           null,
           null,
           null
          ],
          [
           "2023-07-22",
           "2023-09-07",
           "L6"
          ],
          [
           "2023-07-22",
           "2023-09-07",
           "L6"
          ],
          [
           null,
           null,
           null
          ],
          [
           "2023-07-28",
           "2023-09-14",
           "L7"
          ],
          [
           "2023-07-28",
           "2023-09-14",
           "L7"
          ],
          [
           null,
           null,
           null
          ],
          [
           "2023-08-03",
           "2023-09-14",
           "L8"
          ],
          [
           "2023-08-03",
           "2023-09-14",
           "L8"
          ],
          [
           null,
           null,
           null
          ]
         ],
         "hovertemplate": "Initial Date: %{customdata[0]}<br>Final Date: %{customdata[1]}<br>Level: %{customdata[2]}",
         "legendgroup": "4",
         "line": {
          "color": "#990099",
          "dash": "solid"
         },
         "marker": {
          "symbol": "circle"
         },
         "mode": "lines",
         "name": "Final Drylining / Install Ceilings Actuals",
         "orientation": "v",
         "showlegend": true,
         "type": "scatter",
         "x": [
          "2023-03-09",
          "2023-08-17",
          null,
          "2023-06-05",
          "2023-08-10",
          null,
          "2023-06-09",
          "2023-08-17",
          null,
          "2023-06-22",
          "2023-09-14",
          null,
          "2023-07-06",
          "2023-09-14",
          null,
          "2023-07-22",
          "2023-09-07",
          null,
          "2023-07-28",
          "2023-09-14",
          null,
          "2023-08-03",
          "2023-09-14",
          null
         ],
         "xaxis": "x",
         "y": [
          1,
          2,
          null,
          2,
          3,
          null,
          3,
          4,
          null,
          4,
          5,
          null,
          5,
          6,
          null,
          6,
          7,
          null,
          7,
          8,
          null,
          8,
          9,
          null
         ],
         "yaxis": "y"
        },
        {
         "customdata": [
          [
           "2023-02-02",
           "2023-09-07",
           "L1"
          ],
          [
           "2023-02-02",
           "2023-09-07",
           "L1"
          ],
          [
           null,
           null,
           null
          ],
          [
           "2023-06-22",
           "2023-08-10",
           "L2"
          ],
          [
           "2023-06-22",
           "2023-08-10",
           "L2"
          ],
          [
           null,
           null,
           null
          ],
          [
           "2023-03-31",
           "2023-08-10",
           "L3"
          ],
          [
           "2023-03-31",
           "2023-08-10",
           "L3"
          ],
          [
           null,
           null,
           null
          ],
          [
           "2023-07-28",
           "2023-08-17",
           "L4"
          ],
          [
           "2023-07-28",
           "2023-08-17",
           "L4"
          ],
          [
           null,
           null,
           null
          ],
          [
           "2023-07-28",
           "2023-09-07",
           "L5"
          ],
          [
           "2023-07-28",
           "2023-09-07",
           "L5"
          ],
          [
           null,
           null,
           null
          ],
          [
           "2023-08-03",
           "2023-09-14",
           "L6"
          ],
          [
           "2023-08-03",
           "2023-09-14",
           "L6"
          ],
          [
           null,
           null,
           null
          ],
          [
           "2023-08-10",
           "2023-09-25",
           "L7"
          ],
          [
           "2023-08-10",
           "2023-09-25",
           "L7"
          ],
          [
           null,
           null,
           null
          ],
          [
           "2023-08-31",
           "2023-10-10",
           "L8"
          ],
          [
           "2023-08-31",
           "2023-10-10",
           "L8"
          ],
          [
           null,
           null,
           null
          ]
         ],
         "hovertemplate": "Initial Date: %{customdata[0]}<br>Final Date: %{customdata[1]}<br>Level: %{customdata[2]}",
         "legendgroup": "5",
         "line": {
          "color": "#0099C6",
          "dash": "solid"
         },
         "marker": {
          "symbol": "circle"
         },
         "mode": "lines",
         "name": "Screed / Joinery / Kitchens Actuals",
         "orientation": "v",
         "showlegend": true,
         "type": "scatter",
         "x": [
          "2023-02-02",
          "2023-09-07",
          null,
          "2023-06-22",
          "2023-08-10",
          null,
          "2023-03-31",
          "2023-08-10",
          null,
          "2023-07-28",
          "2023-08-17",
          null,
          "2023-07-28",
          "2023-09-07",
          null,
          "2023-08-03",
          "2023-09-14",
          null,
          "2023-08-10",
          "2023-09-25",
          null,
          "2023-08-31",
          "2023-10-10",
          null
         ],
         "xaxis": "x",
         "y": [
          1,
          2,
          null,
          2,
          3,
          null,
          3,
          4,
          null,
          4,
          5,
          null,
          5,
          6,
          null,
          6,
          7,
          null,
          7,
          8,
          null,
          8,
          9,
          null
         ],
         "yaxis": "y"
        }
       ],
       "layout": {
        "annotations": [
         {
          "font": {
           "size": 12
          },
          "showarrow": false,
          "text": "<b>L1<b>",
          "x": -0.030434782608695653,
          "xref": "paper",
          "y": 1.5,
          "yref": "y"
         },
         {
          "font": {
           "size": 12
          },
          "showarrow": false,
          "text": "<b>L2<b>",
          "x": -0.030434782608695653,
          "xref": "paper",
          "y": 2.5,
          "yref": "y"
         },
         {
          "font": {
           "size": 12
          },
          "showarrow": false,
          "text": "<b>L3<b>",
          "x": -0.030434782608695653,
          "xref": "paper",
          "y": 3.5,
          "yref": "y"
         },
         {
          "font": {
           "size": 12
          },
          "showarrow": false,
          "text": "<b>L4<b>",
          "x": -0.030434782608695653,
          "xref": "paper",
          "y": 4.5,
          "yref": "y"
         },
         {
          "font": {
           "size": 12
          },
          "showarrow": false,
          "text": "<b>L5<b>",
          "x": -0.030434782608695653,
          "xref": "paper",
          "y": 5.5,
          "yref": "y"
         },
         {
          "font": {
           "size": 12
          },
          "showarrow": false,
          "text": "<b>L6<b>",
          "x": -0.030434782608695653,
          "xref": "paper",
          "y": 6.5,
          "yref": "y"
         },
         {
          "font": {
           "size": 12
          },
          "showarrow": false,
          "text": "<b>L7<b>",
          "x": -0.030434782608695653,
          "xref": "paper",
          "y": 7.5,
          "yref": "y"
         },
         {
          "font": {
           "size": 12
          },
          "showarrow": false,
          "text": "<b>L8<b>",
          "x": -0.030434782608695653,
          "xref": "paper",
          "y": 8.5,
          "yref": "y"
         }
        ],
        "height": 860,
        "legend": {
         "tracegroupgap": 0
        },
        "shapes": [
         {
          "fillcolor": "#eaeaf2",
          "line": {
           "color": "#ffffff",
           "width": 1.5
          },
          "opacity": 1,
          "type": "rect",
          "x0": -0.030434782608695653,
          "x1": 0,
          "xref": "paper",
          "y0": 0,
          "y1": 1,
          "yref": "paper"
         },
         {
          "line": {
           "color": "#ffffff",
           "width": 1.5
          },
          "opacity": 1,
          "type": "line",
          "x0": -0.030434782608695653,
          "x1": 0,
          "xref": "paper",
          "y0": 1,
          "y1": 1,
          "yref": "y"
         },
         {
          "line": {
           "color": "#ffffff",
           "width": 1.5
          },
          "opacity": 1,
          "type": "line",
          "x0": -0.030434782608695653,
          "x1": 0,
          "xref": "paper",
          "y0": 2,
          "y1": 2,
          "yref": "y"
         },
         {
          "line": {
           "color": "#ffffff",
           "width": 1.5
          },
          "opacity": 1,
          "type": "line",
          "x0": -0.030434782608695653,
          "x1": 0,
          "xref": "paper",
          "y0": 3,
          "y1": 3,
          "yref": "y"
         },
         {
          "line": {
           "color": "#ffffff",
           "width": 1.5
          },
          "opacity": 1,
          "type": "line",
          "x0": -0.030434782608695653,
          "x1": 0,
          "xref": "paper",
          "y0": 4,
          "y1": 4,
          "yref": "y"
         },
         {
          "line": {
           "color": "#ffffff",
           "width": 1.5
          },
          "opacity": 1,
          "type": "line",
          "x0": -0.030434782608695653,
          "x1": 0,
          "xref": "paper",
          "y0": 5,
          "y1": 5,
          "yref": "y"
         },
         {
          "line": {
           "color": "#ffffff",
           "width": 1.5
          },
          "opacity": 1,
          "type": "line",
          "x0": -0.030434782608695653,
          "x1": 0,
          "xref": "paper",
          "y0": 6,
          "y1": 6,
          "yref": "y"
         },
         {
          "line": {
           "color": "#ffffff",
           "width": 1.5
          },
          "opacity": 1,
          "type": "line",
          "x0": -0.030434782608695653,
          "x1": 0,
          "xref": "paper",
          "y0": 7,
          "y1": 7,
          "yref": "y"
         },
         {
          "line": {
           "color": "#ffffff",
           "width": 1.5
          },
          "opacity": 1,
          "type": "line",
          "x0": -0.030434782608695653,
          "x1": 0,
          "xref": "paper",
          "y0": 8,
          "y1": 8,
          "yref": "y"
         },
         {
          "line": {
           "color": "#ffffff",
           "width": 1.5
          },
          "opacity": 1,
          "type": "line",
          "x0": -0.030434782608695653,
          "x1": 0,
          "xref": "paper",
          "y0": 9,
          "y1": 9,
          "yref": "y"
         }
        ],
        "template": {
         "data": {
          "bar": [
           {
            "error_x": {
             "color": "rgb(36,36,36)"
            },
            "error_y": {
             "color": "rgb(36,36,36)"
            },
            "marker": {
             "line": {
              "color": "rgb(234,234,242)",
              "width": 0.5
             },
             "pattern": {
              "fillmode": "overlay",
              "size": 10,
              "solidity": 0.2
             }
            },
            "type": "bar"
           }
          ],
          "barpolar": [
           {
            "marker": {
             "line": {
              "color": "rgb(234,234,242)",
              "width": 0.5
             },
             "pattern": {
              "fillmode": "overlay",
              "size": 10,
              "solidity": 0.2
             }
            },
            "type": "barpolar"
           }
          ],
          "carpet": [
           {
            "aaxis": {
             "endlinecolor": "rgb(36,36,36)",
             "gridcolor": "white",
             "linecolor": "white",
             "minorgridcolor": "white",
             "startlinecolor": "rgb(36,36,36)"
            },
            "baxis": {
             "endlinecolor": "rgb(36,36,36)",
             "gridcolor": "white",
             "linecolor": "white",
             "minorgridcolor": "white",
             "startlinecolor": "rgb(36,36,36)"
            },
            "type": "carpet"
           }
          ],
          "choropleth": [
           {
            "colorbar": {
             "outlinewidth": 0,
             "tickcolor": "rgb(36,36,36)",
             "ticklen": 8,
             "ticks": "outside",
             "tickwidth": 2
            },
            "type": "choropleth"
           }
          ],
          "contour": [
           {
            "colorbar": {
             "outlinewidth": 0,
             "tickcolor": "rgb(36,36,36)",
             "ticklen": 8,
             "ticks": "outside",
             "tickwidth": 2
            },
            "colorscale": [
             [
              0,
              "rgb(2,4,25)"
             ],
             [
              0.06274509803921569,
              "rgb(24,15,41)"
             ],
             [
              0.12549019607843137,
              "rgb(47,23,57)"
             ],
             [
              0.18823529411764706,
              "rgb(71,28,72)"
             ],
             [
              0.25098039215686274,
              "rgb(97,30,82)"
             ],
             [
              0.3137254901960784,
              "rgb(123,30,89)"
             ],
             [
              0.3764705882352941,
              "rgb(150,27,91)"
             ],
             [
              0.4392156862745098,
              "rgb(177,22,88)"
             ],
             [
              0.5019607843137255,
              "rgb(203,26,79)"
             ],
             [
              0.5647058823529412,
              "rgb(223,47,67)"
             ],
             [
              0.6274509803921569,
              "rgb(236,76,61)"
             ],
             [
              0.6901960784313725,
              "rgb(242,107,73)"
             ],
             [
              0.7529411764705882,
              "rgb(244,135,95)"
             ],
             [
              0.8156862745098039,
              "rgb(245,162,122)"
             ],
             [
              0.8784313725490196,
              "rgb(246,188,153)"
             ],
             [
              0.9411764705882353,
              "rgb(247,212,187)"
             ],
             [
              1,
              "rgb(250,234,220)"
             ]
            ],
            "type": "contour"
           }
          ],
          "contourcarpet": [
           {
            "colorbar": {
             "outlinewidth": 0,
             "tickcolor": "rgb(36,36,36)",
             "ticklen": 8,
             "ticks": "outside",
             "tickwidth": 2
            },
            "type": "contourcarpet"
           }
          ],
          "heatmap": [
           {
            "colorbar": {
             "outlinewidth": 0,
             "tickcolor": "rgb(36,36,36)",
             "ticklen": 8,
             "ticks": "outside",
             "tickwidth": 2
            },
            "colorscale": [
             [
              0,
              "rgb(2,4,25)"
             ],
             [
              0.06274509803921569,
              "rgb(24,15,41)"
             ],
             [
              0.12549019607843137,
              "rgb(47,23,57)"
             ],
             [
              0.18823529411764706,
              "rgb(71,28,72)"
             ],
             [
              0.25098039215686274,
              "rgb(97,30,82)"
             ],
             [
              0.3137254901960784,
              "rgb(123,30,89)"
             ],
             [
              0.3764705882352941,
              "rgb(150,27,91)"
             ],
             [
              0.4392156862745098,
              "rgb(177,22,88)"
             ],
             [
              0.5019607843137255,
              "rgb(203,26,79)"
             ],
             [
              0.5647058823529412,
              "rgb(223,47,67)"
             ],
             [
              0.6274509803921569,
              "rgb(236,76,61)"
             ],
             [
              0.6901960784313725,
              "rgb(242,107,73)"
             ],
             [
              0.7529411764705882,
              "rgb(244,135,95)"
             ],
             [
              0.8156862745098039,
              "rgb(245,162,122)"
             ],
             [
              0.8784313725490196,
              "rgb(246,188,153)"
             ],
             [
              0.9411764705882353,
              "rgb(247,212,187)"
             ],
             [
              1,
              "rgb(250,234,220)"
             ]
            ],
            "type": "heatmap"
           }
          ],
          "heatmapgl": [
           {
            "colorbar": {
             "outlinewidth": 0,
             "tickcolor": "rgb(36,36,36)",
             "ticklen": 8,
             "ticks": "outside",
             "tickwidth": 2
            },
            "colorscale": [
             [
              0,
              "rgb(2,4,25)"
             ],
             [
              0.06274509803921569,
              "rgb(24,15,41)"
             ],
             [
              0.12549019607843137,
              "rgb(47,23,57)"
             ],
             [
              0.18823529411764706,
              "rgb(71,28,72)"
             ],
             [
              0.25098039215686274,
              "rgb(97,30,82)"
             ],
             [
              0.3137254901960784,
              "rgb(123,30,89)"
             ],
             [
              0.3764705882352941,
              "rgb(150,27,91)"
             ],
             [
              0.4392156862745098,
              "rgb(177,22,88)"
             ],
             [
              0.5019607843137255,
              "rgb(203,26,79)"
             ],
             [
              0.5647058823529412,
              "rgb(223,47,67)"
             ],
             [
              0.6274509803921569,
              "rgb(236,76,61)"
             ],
             [
              0.6901960784313725,
              "rgb(242,107,73)"
             ],
             [
              0.7529411764705882,
              "rgb(244,135,95)"
             ],
             [
              0.8156862745098039,
              "rgb(245,162,122)"
             ],
             [
              0.8784313725490196,
              "rgb(246,188,153)"
             ],
             [
              0.9411764705882353,
              "rgb(247,212,187)"
             ],
             [
              1,
              "rgb(250,234,220)"
             ]
            ],
            "type": "heatmapgl"
           }
          ],
          "histogram": [
           {
            "marker": {
             "pattern": {
              "fillmode": "overlay",
              "size": 10,
              "solidity": 0.2
             }
            },
            "type": "histogram"
           }
          ],
          "histogram2d": [
           {
            "colorbar": {
             "outlinewidth": 0,
             "tickcolor": "rgb(36,36,36)",
             "ticklen": 8,
             "ticks": "outside",
             "tickwidth": 2
            },
            "colorscale": [
             [
              0,
              "rgb(2,4,25)"
             ],
             [
              0.06274509803921569,
              "rgb(24,15,41)"
             ],
             [
              0.12549019607843137,
              "rgb(47,23,57)"
             ],
             [
              0.18823529411764706,
              "rgb(71,28,72)"
             ],
             [
              0.25098039215686274,
              "rgb(97,30,82)"
             ],
             [
              0.3137254901960784,
              "rgb(123,30,89)"
             ],
             [
              0.3764705882352941,
              "rgb(150,27,91)"
             ],
             [
              0.4392156862745098,
              "rgb(177,22,88)"
             ],
             [
              0.5019607843137255,
              "rgb(203,26,79)"
             ],
             [
              0.5647058823529412,
              "rgb(223,47,67)"
             ],
             [
              0.6274509803921569,
              "rgb(236,76,61)"
             ],
             [
              0.6901960784313725,
              "rgb(242,107,73)"
             ],
             [
              0.7529411764705882,
              "rgb(244,135,95)"
             ],
             [
              0.8156862745098039,
              "rgb(245,162,122)"
             ],
             [
              0.8784313725490196,
              "rgb(246,188,153)"
             ],
             [
              0.9411764705882353,
              "rgb(247,212,187)"
             ],
             [
              1,
              "rgb(250,234,220)"
             ]
            ],
            "type": "histogram2d"
           }
          ],
          "histogram2dcontour": [
           {
            "colorbar": {
             "outlinewidth": 0,
             "tickcolor": "rgb(36,36,36)",
             "ticklen": 8,
             "ticks": "outside",
             "tickwidth": 2
            },
            "colorscale": [
             [
              0,
              "rgb(2,4,25)"
             ],
             [
              0.06274509803921569,
              "rgb(24,15,41)"
             ],
             [
              0.12549019607843137,
              "rgb(47,23,57)"
             ],
             [
              0.18823529411764706,
              "rgb(71,28,72)"
             ],
             [
              0.25098039215686274,
              "rgb(97,30,82)"
             ],
             [
              0.3137254901960784,
              "rgb(123,30,89)"
             ],
             [
              0.3764705882352941,
              "rgb(150,27,91)"
             ],
             [
              0.4392156862745098,
              "rgb(177,22,88)"
             ],
             [
              0.5019607843137255,
              "rgb(203,26,79)"
             ],
             [
              0.5647058823529412,
              "rgb(223,47,67)"
             ],
             [
              0.6274509803921569,
              "rgb(236,76,61)"
             ],
             [
              0.6901960784313725,
              "rgb(242,107,73)"
             ],
             [
              0.7529411764705882,
              "rgb(244,135,95)"
             ],
             [
              0.8156862745098039,
              "rgb(245,162,122)"
             ],
             [
              0.8784313725490196,
              "rgb(246,188,153)"
             ],
             [
              0.9411764705882353,
              "rgb(247,212,187)"
             ],
             [
              1,
              "rgb(250,234,220)"
             ]
            ],
            "type": "histogram2dcontour"
           }
          ],
          "mesh3d": [
           {
            "colorbar": {
             "outlinewidth": 0,
             "tickcolor": "rgb(36,36,36)",
             "ticklen": 8,
             "ticks": "outside",
             "tickwidth": 2
            },
            "type": "mesh3d"
           }
          ],
          "parcoords": [
           {
            "line": {
             "colorbar": {
              "outlinewidth": 0,
              "tickcolor": "rgb(36,36,36)",
              "ticklen": 8,
              "ticks": "outside",
              "tickwidth": 2
             }
            },
            "type": "parcoords"
           }
          ],
          "pie": [
           {
            "automargin": true,
            "type": "pie"
           }
          ],
          "scatter": [
           {
            "marker": {
             "colorbar": {
              "outlinewidth": 0,
              "tickcolor": "rgb(36,36,36)",
              "ticklen": 8,
              "ticks": "outside",
              "tickwidth": 2
             }
            },
            "type": "scatter"
           }
          ],
          "scatter3d": [
           {
            "line": {
             "colorbar": {
              "outlinewidth": 0,
              "tickcolor": "rgb(36,36,36)",
              "ticklen": 8,
              "ticks": "outside",
              "tickwidth": 2
             }
            },
            "marker": {
             "colorbar": {
              "outlinewidth": 0,
              "tickcolor": "rgb(36,36,36)",
              "ticklen": 8,
              "ticks": "outside",
              "tickwidth": 2
             }
            },
            "type": "scatter3d"
           }
          ],
          "scattercarpet": [
           {
            "marker": {
             "colorbar": {
              "outlinewidth": 0,
              "tickcolor": "rgb(36,36,36)",
              "ticklen": 8,
              "ticks": "outside",
              "tickwidth": 2
             }
            },
            "type": "scattercarpet"
           }
          ],
          "scattergeo": [
           {
            "marker": {
             "colorbar": {
              "outlinewidth": 0,
              "tickcolor": "rgb(36,36,36)",
              "ticklen": 8,
              "ticks": "outside",
              "tickwidth": 2
             }
            },
            "type": "scattergeo"
           }
          ],
          "scattergl": [
           {
            "marker": {
             "colorbar": {
              "outlinewidth": 0,
              "tickcolor": "rgb(36,36,36)",
              "ticklen": 8,
              "ticks": "outside",
              "tickwidth": 2
             }
            },
            "type": "scattergl"
           }
          ],
          "scattermapbox": [
           {
            "marker": {
             "colorbar": {
              "outlinewidth": 0,
              "tickcolor": "rgb(36,36,36)",
              "ticklen": 8,
              "ticks": "outside",
              "tickwidth": 2
             }
            },
            "type": "scattermapbox"
           }
          ],
          "scatterpolar": [
           {
            "marker": {
             "colorbar": {
              "outlinewidth": 0,
              "tickcolor": "rgb(36,36,36)",
              "ticklen": 8,
              "ticks": "outside",
              "tickwidth": 2
             }
            },
            "type": "scatterpolar"
           }
          ],
          "scatterpolargl": [
           {
            "marker": {
             "colorbar": {
              "outlinewidth": 0,
              "tickcolor": "rgb(36,36,36)",
              "ticklen": 8,
              "ticks": "outside",
              "tickwidth": 2
             }
            },
            "type": "scatterpolargl"
           }
          ],
          "scatterternary": [
           {
            "marker": {
             "colorbar": {
              "outlinewidth": 0,
              "tickcolor": "rgb(36,36,36)",
              "ticklen": 8,
              "ticks": "outside",
              "tickwidth": 2
             }
            },
            "type": "scatterternary"
           }
          ],
          "surface": [
           {
            "colorbar": {
             "outlinewidth": 0,
             "tickcolor": "rgb(36,36,36)",
             "ticklen": 8,
             "ticks": "outside",
             "tickwidth": 2
            },
            "colorscale": [
             [
              0,
              "rgb(2,4,25)"
             ],
             [
              0.06274509803921569,
              "rgb(24,15,41)"
             ],
             [
              0.12549019607843137,
              "rgb(47,23,57)"
             ],
             [
              0.18823529411764706,
              "rgb(71,28,72)"
             ],
             [
              0.25098039215686274,
              "rgb(97,30,82)"
             ],
             [
              0.3137254901960784,
              "rgb(123,30,89)"
             ],
             [
              0.3764705882352941,
              "rgb(150,27,91)"
             ],
             [
              0.4392156862745098,
              "rgb(177,22,88)"
             ],
             [
              0.5019607843137255,
              "rgb(203,26,79)"
             ],
             [
              0.5647058823529412,
              "rgb(223,47,67)"
             ],
             [
              0.6274509803921569,
              "rgb(236,76,61)"
             ],
             [
              0.6901960784313725,
              "rgb(242,107,73)"
             ],
             [
              0.7529411764705882,
              "rgb(244,135,95)"
             ],
             [
              0.8156862745098039,
              "rgb(245,162,122)"
             ],
             [
              0.8784313725490196,
              "rgb(246,188,153)"
             ],
             [
              0.9411764705882353,
              "rgb(247,212,187)"
             ],
             [
              1,
              "rgb(250,234,220)"
             ]
            ],
            "type": "surface"
           }
          ],
          "table": [
           {
            "cells": {
             "fill": {
              "color": "rgb(231,231,240)"
             },
             "line": {
              "color": "white"
             }
            },
            "header": {
             "fill": {
              "color": "rgb(183,183,191)"
             },
             "line": {
              "color": "white"
             }
            },
            "type": "table"
           }
          ]
         },
         "layout": {
          "annotationdefaults": {
           "arrowcolor": "rgb(67,103,167)"
          },
          "autotypenumbers": "strict",
          "coloraxis": {
           "colorbar": {
            "outlinewidth": 0,
            "tickcolor": "rgb(36,36,36)",
            "ticklen": 8,
            "ticks": "outside",
            "tickwidth": 2
           }
          },
          "colorscale": {
           "sequential": [
            [
             0,
             "rgb(2,4,25)"
            ],
            [
             0.06274509803921569,
             "rgb(24,15,41)"
            ],
            [
             0.12549019607843137,
             "rgb(47,23,57)"
            ],
            [
             0.18823529411764706,
             "rgb(71,28,72)"
            ],
            [
             0.25098039215686274,
             "rgb(97,30,82)"
            ],
            [
             0.3137254901960784,
             "rgb(123,30,89)"
            ],
            [
             0.3764705882352941,
             "rgb(150,27,91)"
            ],
            [
             0.4392156862745098,
             "rgb(177,22,88)"
            ],
            [
             0.5019607843137255,
             "rgb(203,26,79)"
            ],
            [
             0.5647058823529412,
             "rgb(223,47,67)"
            ],
            [
             0.6274509803921569,
             "rgb(236,76,61)"
            ],
            [
             0.6901960784313725,
             "rgb(242,107,73)"
            ],
            [
             0.7529411764705882,
             "rgb(244,135,95)"
            ],
            [
             0.8156862745098039,
             "rgb(245,162,122)"
            ],
            [
             0.8784313725490196,
             "rgb(246,188,153)"
            ],
            [
             0.9411764705882353,
             "rgb(247,212,187)"
            ],
            [
             1,
             "rgb(250,234,220)"
            ]
           ],
           "sequentialminus": [
            [
             0,
             "rgb(2,4,25)"
            ],
            [
             0.06274509803921569,
             "rgb(24,15,41)"
            ],
            [
             0.12549019607843137,
             "rgb(47,23,57)"
            ],
            [
             0.18823529411764706,
             "rgb(71,28,72)"
            ],
            [
             0.25098039215686274,
             "rgb(97,30,82)"
            ],
            [
             0.3137254901960784,
             "rgb(123,30,89)"
            ],
            [
             0.3764705882352941,
             "rgb(150,27,91)"
            ],
            [
             0.4392156862745098,
             "rgb(177,22,88)"
            ],
            [
             0.5019607843137255,
             "rgb(203,26,79)"
            ],
            [
             0.5647058823529412,
             "rgb(223,47,67)"
            ],
            [
             0.6274509803921569,
             "rgb(236,76,61)"
            ],
            [
             0.6901960784313725,
             "rgb(242,107,73)"
            ],
            [
             0.7529411764705882,
             "rgb(244,135,95)"
            ],
            [
             0.8156862745098039,
             "rgb(245,162,122)"
            ],
            [
             0.8784313725490196,
             "rgb(246,188,153)"
            ],
            [
             0.9411764705882353,
             "rgb(247,212,187)"
            ],
            [
             1,
             "rgb(250,234,220)"
            ]
           ]
          },
          "colorway": [
           "rgb(76,114,176)",
           "rgb(221,132,82)",
           "rgb(85,168,104)",
           "rgb(196,78,82)",
           "rgb(129,114,179)",
           "rgb(147,120,96)",
           "rgb(218,139,195)",
           "rgb(140,140,140)",
           "rgb(204,185,116)",
           "rgb(100,181,205)"
          ],
          "font": {
           "color": "rgb(36,36,36)"
          },
          "geo": {
           "bgcolor": "white",
           "lakecolor": "white",
           "landcolor": "rgb(234,234,242)",
           "showlakes": true,
           "showland": true,
           "subunitcolor": "white"
          },
          "hoverlabel": {
           "align": "left"
          },
          "hovermode": "closest",
          "paper_bgcolor": "white",
          "plot_bgcolor": "rgb(234,234,242)",
          "polar": {
           "angularaxis": {
            "gridcolor": "white",
            "linecolor": "white",
            "showgrid": true,
            "ticks": ""
           },
           "bgcolor": "rgb(234,234,242)",
           "radialaxis": {
            "gridcolor": "white",
            "linecolor": "white",
            "showgrid": true,
            "ticks": ""
           }
          },
          "scene": {
           "xaxis": {
            "backgroundcolor": "rgb(234,234,242)",
            "gridcolor": "white",
            "gridwidth": 2,
            "linecolor": "white",
            "showbackground": true,
            "showgrid": true,
            "ticks": "",
            "zerolinecolor": "white"
           },
           "yaxis": {
            "backgroundcolor": "rgb(234,234,242)",
            "gridcolor": "white",
            "gridwidth": 2,
            "linecolor": "white",
            "showbackground": true,
            "showgrid": true,
            "ticks": "",
            "zerolinecolor": "white"
           },
           "zaxis": {
            "backgroundcolor": "rgb(234,234,242)",
            "gridcolor": "white",
            "gridwidth": 2,
            "linecolor": "white",
            "showbackground": true,
            "showgrid": true,
            "ticks": "",
            "zerolinecolor": "white"
           }
          },
          "shapedefaults": {
           "fillcolor": "rgb(67,103,167)",
           "line": {
            "width": 0
           },
           "opacity": 0.5
          },
          "ternary": {
           "aaxis": {
            "gridcolor": "white",
            "linecolor": "white",
            "showgrid": true,
            "ticks": ""
           },
           "baxis": {
            "gridcolor": "white",
            "linecolor": "white",
            "showgrid": true,
            "ticks": ""
           },
           "bgcolor": "rgb(234,234,242)",
           "caxis": {
            "gridcolor": "white",
            "linecolor": "white",
            "showgrid": true,
            "ticks": ""
           }
          },
          "xaxis": {
           "automargin": true,
           "gridcolor": "white",
           "linecolor": "white",
           "showgrid": true,
           "ticks": "",
           "title": {
            "standoff": 15
           },
           "zerolinecolor": "white"
          },
          "yaxis": {
           "automargin": true,
           "gridcolor": "white",
           "linecolor": "white",
           "showgrid": true,
           "ticks": "",
           "title": {
            "standoff": 15
           },
           "zerolinecolor": "white"
          }
         }
        },
        "title": {
         "text": "<b>Flowlines 6WP Plan v Actual South<b>"
        },
        "width": 1403,
        "xaxis": {
         "anchor": "y",
         "domain": [
          0,
          1
         ],
         "range": [
          "2022-10-26T00:00:00",
          "2023-10-15"
         ],
         "title": {
          "text": "<b>Date<b>"
         }
        },
        "yaxis": {
         "anchor": "x",
         "domain": [
          0,
          1
         ],
         "range": [
          0.75,
          9.25
         ],
         "tickvals": [
          0,
          1,
          2,
          3,
          4,
          5,
          6,
          7,
          8,
          9
         ],
         "title": {
          "standoff": 30,
          "text": "<b>Floor<b>"
         }
        }
       }
      }
     },
     "metadata": {},
     "output_type": "display_data"
    },
    {
     "data": {
      "application/vnd.plotly.v1+json": {
       "config": {
        "plotlyServerURL": "https://plot.ly"
       },
       "data": [
        {
         "customdata": [
          [
           "2022-10-31",
           "2022-11-25",
           "L1"
          ],
          [
           "2022-10-31",
           "2022-11-25",
           "L1"
          ],
          [
           null,
           null,
           null
          ],
          [
           "2022-11-18",
           "2022-12-16",
           "L2"
          ],
          [
           "2022-11-18",
           "2022-12-16",
           "L2"
          ],
          [
           null,
           null,
           null
          ],
          [
           "2022-11-21",
           "2022-12-16",
           "L3"
          ],
          [
           "2022-11-21",
           "2022-12-16",
           "L3"
          ],
          [
           null,
           null,
           null
          ],
          [
           "2023-01-02",
           "2023-01-27",
           "L4"
          ],
          [
           "2023-01-02",
           "2023-01-27",
           "L4"
          ],
          [
           null,
           null,
           null
          ],
          [
           "2023-01-16",
           "2023-02-10",
           "L5"
          ],
          [
           "2023-01-16",
           "2023-02-10",
           "L5"
          ],
          [
           null,
           null,
           null
          ],
          [
           "2023-01-26",
           "2023-03-01",
           "L6"
          ],
          [
           "2023-01-26",
           "2023-03-01",
           "L6"
          ],
          [
           null,
           null,
           null
          ],
          [
           "2023-02-03",
           "2023-03-02",
           "L7"
          ],
          [
           "2023-02-03",
           "2023-03-02",
           "L7"
          ],
          [
           null,
           null,
           null
          ],
          [
           "2023-02-17",
           "2023-03-16",
           "L8"
          ],
          [
           "2023-02-17",
           "2023-03-16",
           "L8"
          ],
          [
           null,
           null,
           null
          ],
          [
           "2023-02-20",
           "2023-03-17",
           "L9"
          ],
          [
           "2023-02-20",
           "2023-03-17",
           "L9"
          ],
          [
           null,
           null,
           null
          ],
          [
           "2023-03-03",
           "2023-03-30",
           "L10"
          ],
          [
           "2023-03-03",
           "2023-03-30",
           "L10"
          ],
          [
           null,
           null,
           null
          ],
          [
           "2023-03-03",
           "2023-03-30",
           "L11"
          ],
          [
           "2023-03-03",
           "2023-03-30",
           "L11"
          ],
          [
           null,
           null,
           null
          ]
         ],
         "hovertemplate": "Initial Date: %{customdata[0]}<br>Final Date: %{customdata[1]}<br>Level: %{customdata[2]}",
         "legendgroup": "0, 0",
         "line": {
          "color": "#3366CC",
          "dash": "dash"
         },
         "marker": {
          "symbol": "circle"
         },
         "mode": "lines",
         "name": "Demising Walls Planned",
         "orientation": "v",
         "showlegend": true,
         "type": "scatter",
         "x": [
          "2022-10-31",
          "2022-11-25",
          null,
          "2022-11-18",
          "2022-12-16",
          null,
          "2022-11-21",
          "2022-12-16",
          null,
          "2023-01-02",
          "2023-01-27",
          null,
          "2023-01-16",
          "2023-02-10",
          null,
          "2023-01-26",
          "2023-03-01",
          null,
          "2023-02-03",
          "2023-03-02",
          null,
          "2023-02-17",
          "2023-03-16",
          null,
          "2023-02-20",
          "2023-03-17",
          null,
          "2023-03-03",
          "2023-03-30",
          null,
          "2023-03-03",
          "2023-03-30",
          null
         ],
         "xaxis": "x",
         "y": [
          0,
          1,
          null,
          1,
          2,
          null,
          2,
          3,
          null,
          3,
          4,
          null,
          4,
          5,
          null,
          5,
          6,
          null,
          6,
          7,
          null,
          7,
          8,
          null,
          8,
          9,
          null,
          9,
          10,
          null,
          10,
          11,
          null
         ],
         "yaxis": "y"
        },
        {
         "customdata": [
          [
           "2022-11-28",
           "2023-01-20",
           "L1"
          ],
          [
           "2022-11-28",
           "2023-01-20",
           "L1"
          ],
          [
           null,
           null,
           null
          ],
          [
           "2022-12-12",
           "2023-02-13",
           "L2"
          ],
          [
           "2022-12-12",
           "2023-02-13",
           "L2"
          ],
          [
           null,
           null,
           null
          ],
          [
           "2023-01-17",
           "2023-02-20",
           "L3"
          ],
          [
           "2023-01-17",
           "2023-02-20",
           "L3"
          ],
          [
           null,
           null,
           null
          ],
          [
           "2023-01-27",
           "2023-02-24",
           "L4"
          ],
          [
           "2023-01-27",
           "2023-02-24",
           "L4"
          ],
          [
           null,
           null,
           null
          ],
          [
           "2023-02-06",
           "2023-02-27",
           "L5"
          ],
          [
           "2023-02-06",
           "2023-02-27",
           "L5"
          ],
          [
           null,
           null,
           null
          ],
          [
           "2023-02-09",
           "2023-03-09",
           "L6"
          ],
          [
           "2023-02-09",
           "2023-03-09",
           "L6"
          ],
          [
           null,
           null,
           null
          ],
          [
           "2023-02-09",
           "2023-03-10",
           "L7"
          ],
          [
           "2023-02-09",
           "2023-03-10",
           "L7"
          ],
          [
           null,
           null,
           null
          ],
          [
           "2023-02-10",
           "2023-04-03",
           "L8"
          ],
          [
           "2023-02-10",
           "2023-04-03",
           "L8"
          ],
          [
           null,
           null,
           null
          ],
          [
           "2023-02-09",
           "2023-04-03",
           "L9"
          ],
          [
           "2023-02-09",
           "2023-04-03",
           "L9"
          ],
          [
           null,
           null,
           null
          ],
          [
           "2023-03-31",
           "2023-04-21",
           "L10"
          ],
          [
           "2023-03-31",
           "2023-04-21",
           "L10"
          ],
          [
           null,
           null,
           null
          ],
          [
           "2023-03-31",
           "2023-04-21",
           "L11"
          ],
          [
           "2023-03-31",
           "2023-04-21",
           "L11"
          ],
          [
           null,
           null,
           null
          ]
         ],
         "hovertemplate": "Initial Date: %{customdata[0]}<br>Final Date: %{customdata[1]}<br>Level: %{customdata[2]}",
         "legendgroup": "1, 1",
         "line": {
          "color": "#DC3912",
          "dash": "dash"
         },
         "marker": {
          "symbol": "circle"
         },
         "mode": "lines",
         "name": "HL MEP Services (1st Fix) Planned",
         "orientation": "v",
         "showlegend": true,
         "type": "scatter",
         "x": [
          "2022-11-28",
          "2023-01-20",
          null,
          "2022-12-12",
          "2023-02-13",
          null,
          "2023-01-17",
          "2023-02-20",
          null,
          "2023-01-27",
          "2023-02-24",
          null,
          "2023-02-06",
          "2023-02-27",
          null,
          "2023-02-09",
          "2023-03-09",
          null,
          "2023-02-09",
          "2023-03-10",
          null,
          "2023-02-10",
          "2023-04-03",
          null,
          "2023-02-09",
          "2023-04-03",
          null,
          "2023-03-31",
          "2023-04-21",
          null,
          "2023-03-31",
          "2023-04-21",
          null
         ],
         "xaxis": "x",
         "y": [
          0,
          1,
          null,
          1,
          2,
          null,
          2,
          3,
          null,
          3,
          4,
          null,
          4,
          5,
          null,
          5,
          6,
          null,
          6,
          7,
          null,
          7,
          8,
          null,
          8,
          9,
          null,
          9,
          10,
          null,
          10,
          11,
          null
         ],
         "yaxis": "y"
        },
        {
         "customdata": [
          [
           "2023-01-20",
           "2023-02-23",
           "L1"
          ],
          [
           "2023-01-20",
           "2023-02-23",
           "L1"
          ],
          [
           null,
           null,
           null
          ],
          [
           "2023-02-13",
           "2023-02-28",
           "L2"
          ],
          [
           "2023-02-13",
           "2023-02-28",
           "L2"
          ],
          [
           null,
           null,
           null
          ],
          [
           "2023-02-20",
           "2023-03-07",
           "L3"
          ],
          [
           "2023-02-20",
           "2023-03-07",
           "L3"
          ],
          [
           null,
           null,
           null
          ],
          [
           "2023-02-22",
           "2023-03-13",
           "L4"
          ],
          [
           "2023-02-22",
           "2023-03-13",
           "L4"
          ],
          [
           null,
           null,
           null
          ],
          [
           "2023-02-22",
           "2023-03-14",
           "L5"
          ],
          [
           "2023-02-22",
           "2023-03-14",
           "L5"
          ],
          [
           null,
           null,
           null
          ],
          [
           "2023-03-08",
           "2023-03-24",
           "L6"
          ],
          [
           "2023-03-08",
           "2023-03-24",
           "L6"
          ],
          [
           null,
           null,
           null
          ],
          [
           "2023-03-14",
           "2023-03-27",
           "L7"
          ],
          [
           "2023-03-14",
           "2023-03-27",
           "L7"
          ],
          [
           null,
           null,
           null
          ],
          [
           "2023-03-28",
           "2023-04-27",
           "L8"
          ],
          [
           "2023-03-28",
           "2023-04-27",
           "L8"
          ],
          [
           null,
           null,
           null
          ],
          [
           "2023-03-29",
           "2023-04-20",
           "L9"
          ],
          [
           "2023-03-29",
           "2023-04-20",
           "L9"
          ],
          [
           null,
           null,
           null
          ],
          [
           "2023-04-18",
           "2023-05-09",
           "L10"
          ],
          [
           "2023-04-18",
           "2023-05-09",
           "L10"
          ],
          [
           null,
           null,
           null
          ],
          [
           "2023-04-18",
           "2023-05-09",
           "L11"
          ],
          [
           "2023-04-18",
           "2023-05-09",
           "L11"
          ],
          [
           null,
           null,
           null
          ]
         ],
         "hovertemplate": "Initial Date: %{customdata[0]}<br>Final Date: %{customdata[1]}<br>Level: %{customdata[2]}",
         "legendgroup": "2, 2",
         "line": {
          "color": "#FF9900",
          "dash": "dash"
         },
         "marker": {
          "symbol": "circle"
         },
         "mode": "lines",
         "name": "Internal walls 2nd Drylining Visit Planned",
         "orientation": "v",
         "showlegend": true,
         "type": "scatter",
         "x": [
          "2023-01-20",
          "2023-02-23",
          null,
          "2023-02-13",
          "2023-02-28",
          null,
          "2023-02-20",
          "2023-03-07",
          null,
          "2023-02-22",
          "2023-03-13",
          null,
          "2023-02-22",
          "2023-03-14",
          null,
          "2023-03-08",
          "2023-03-24",
          null,
          "2023-03-14",
          "2023-03-27",
          null,
          "2023-03-28",
          "2023-04-27",
          null,
          "2023-03-29",
          "2023-04-20",
          null,
          "2023-04-18",
          "2023-05-09",
          null,
          "2023-04-18",
          "2023-05-09",
          null
         ],
         "xaxis": "x",
         "y": [
          0,
          1,
          null,
          1,
          2,
          null,
          2,
          3,
          null,
          3,
          4,
          null,
          4,
          5,
          null,
          5,
          6,
          null,
          6,
          7,
          null,
          7,
          8,
          null,
          8,
          9,
          null,
          9,
          10,
          null,
          10,
          11,
          null
         ],
         "yaxis": "y"
        },
        {
         "customdata": [
          [
           "2023-02-17",
           "2023-03-13",
           "L1"
          ],
          [
           "2023-02-17",
           "2023-03-13",
           "L1"
          ],
          [
           null,
           null,
           null
          ],
          [
           "2023-02-27",
           "2023-03-16",
           "L2"
          ],
          [
           "2023-02-27",
           "2023-03-16",
           "L2"
          ],
          [
           null,
           null,
           null
          ],
          [
           "2023-03-06",
           "2023-03-23",
           "L3"
          ],
          [
           "2023-03-06",
           "2023-03-23",
           "L3"
          ],
          [
           null,
           null,
           null
          ],
          [
           "2023-03-08",
           "2023-03-29",
           "L4"
          ],
          [
           "2023-03-08",
           "2023-03-29",
           "L4"
          ],
          [
           null,
           null,
           null
          ],
          [
           "2023-03-08",
           "2023-03-30",
           "L5"
          ],
          [
           "2023-03-08",
           "2023-03-30",
           "L5"
          ],
          [
           null,
           null,
           null
          ],
          [
           "2023-03-22",
           "2023-04-13",
           "L6"
          ],
          [
           "2023-03-22",
           "2023-04-13",
           "L6"
          ],
          [
           null,
           null,
           null
          ],
          [
           "2023-03-28",
           "2023-04-14",
           "L7"
          ],
          [
           "2023-03-28",
           "2023-04-14",
           "L7"
          ],
          [
           null,
           null,
           null
          ],
          [
           "2023-04-13",
           "2023-05-16",
           "L8"
          ],
          [
           "2023-04-13",
           "2023-05-16",
           "L8"
          ],
          [
           null,
           null,
           null
          ],
          [
           "2023-04-14",
           "2023-05-09",
           "L9"
          ],
          [
           "2023-04-14",
           "2023-05-09",
           "L9"
          ],
          [
           null,
           null,
           null
          ],
          [
           "2023-05-03",
           "2023-05-25",
           "L10"
          ],
          [
           "2023-05-03",
           "2023-05-25",
           "L10"
          ],
          [
           null,
           null,
           null
          ],
          [
           "2023-05-03",
           "2023-05-25",
           "L11"
          ],
          [
           "2023-05-03",
           "2023-05-25",
           "L11"
          ],
          [
           null,
           null,
           null
          ]
         ],
         "hovertemplate": "Initial Date: %{customdata[0]}<br>Final Date: %{customdata[1]}<br>Level: %{customdata[2]}",
         "legendgroup": "3, 3",
         "line": {
          "color": "#109618",
          "dash": "dash"
         },
         "marker": {
          "symbol": "circle"
         },
         "mode": "lines",
         "name": "HL MEP Services (2nd Fix) Planned",
         "orientation": "v",
         "showlegend": true,
         "type": "scatter",
         "x": [
          "2023-02-17",
          "2023-03-13",
          null,
          "2023-02-27",
          "2023-03-16",
          null,
          "2023-03-06",
          "2023-03-23",
          null,
          "2023-03-08",
          "2023-03-29",
          null,
          "2023-03-08",
          "2023-03-30",
          null,
          "2023-03-22",
          "2023-04-13",
          null,
          "2023-03-28",
          "2023-04-14",
          null,
          "2023-04-13",
          "2023-05-16",
          null,
          "2023-04-14",
          "2023-05-09",
          null,
          "2023-05-03",
          "2023-05-25",
          null,
          "2023-05-03",
          "2023-05-25",
          null
         ],
         "xaxis": "x",
         "y": [
          0,
          1,
          null,
          1,
          2,
          null,
          2,
          3,
          null,
          3,
          4,
          null,
          4,
          5,
          null,
          5,
          6,
          null,
          6,
          7,
          null,
          7,
          8,
          null,
          8,
          9,
          null,
          9,
          10,
          null,
          10,
          11,
          null
         ],
         "yaxis": "y"
        },
        {
         "customdata": [
          [
           "2023-03-10",
           "2023-04-18",
           "L1"
          ],
          [
           "2023-03-10",
           "2023-04-18",
           "L1"
          ],
          [
           null,
           null,
           null
          ],
          [
           "2023-03-17",
           "2023-04-20",
           "L2"
          ],
          [
           "2023-03-17",
           "2023-04-20",
           "L2"
          ],
          [
           null,
           null,
           null
          ],
          [
           "2023-03-24",
           "2023-04-28",
           "L3"
          ],
          [
           "2023-03-24",
           "2023-04-28",
           "L3"
          ],
          [
           null,
           null,
           null
          ],
          [
           "2023-03-28",
           "2023-05-05",
           "L4"
          ],
          [
           "2023-03-28",
           "2023-05-05",
           "L4"
          ],
          [
           null,
           null,
           null
          ],
          [
           "2023-03-28",
           "2023-05-08",
           "L5"
          ],
          [
           "2023-03-28",
           "2023-05-08",
           "L5"
          ],
          [
           null,
           null,
           null
          ],
          [
           "2023-04-13",
           "2023-05-17",
           "L6"
          ],
          [
           "2023-04-13",
           "2023-05-17",
           "L6"
          ],
          [
           null,
           null,
           null
          ],
          [
           "2023-04-19",
           "2023-05-19",
           "L7"
          ],
          [
           "2023-04-19",
           "2023-05-19",
           "L7"
          ],
          [
           null,
           null,
           null
          ],
          [
           "2023-05-04",
           "2023-06-13",
           "L8"
          ],
          [
           "2023-05-04",
           "2023-06-13",
           "L8"
          ],
          [
           null,
           null,
           null
          ],
          [
           "2023-05-05",
           "2023-06-13",
           "L9"
          ],
          [
           "2023-05-05",
           "2023-06-13",
           "L9"
          ],
          [
           null,
           null,
           null
          ],
          [
           "2023-05-23",
           "2023-07-05",
           "L10"
          ],
          [
           "2023-05-23",
           "2023-07-05",
           "L10"
          ],
          [
           null,
           null,
           null
          ],
          [
           "2023-05-23",
           "2023-06-29",
           "L11"
          ],
          [
           "2023-05-23",
           "2023-06-29",
           "L11"
          ],
          [
           null,
           null,
           null
          ]
         ],
         "hovertemplate": "Initial Date: %{customdata[0]}<br>Final Date: %{customdata[1]}<br>Level: %{customdata[2]}",
         "legendgroup": "4, 4",
         "line": {
          "color": "#990099",
          "dash": "dash"
         },
         "marker": {
          "symbol": "circle"
         },
         "mode": "lines",
         "name": "Final Drylining / Install Ceilings Planned",
         "orientation": "v",
         "showlegend": true,
         "type": "scatter",
         "x": [
          "2023-03-10",
          "2023-04-18",
          null,
          "2023-03-17",
          "2023-04-20",
          null,
          "2023-03-24",
          "2023-04-28",
          null,
          "2023-03-28",
          "2023-05-05",
          null,
          "2023-03-28",
          "2023-05-08",
          null,
          "2023-04-13",
          "2023-05-17",
          null,
          "2023-04-19",
          "2023-05-19",
          null,
          "2023-05-04",
          "2023-06-13",
          null,
          "2023-05-05",
          "2023-06-13",
          null,
          "2023-05-23",
          "2023-07-05",
          null,
          "2023-05-23",
          "2023-06-29",
          null
         ],
         "xaxis": "x",
         "y": [
          0,
          1,
          null,
          1,
          2,
          null,
          2,
          3,
          null,
          3,
          4,
          null,
          4,
          5,
          null,
          5,
          6,
          null,
          6,
          7,
          null,
          7,
          8,
          null,
          8,
          9,
          null,
          9,
          10,
          null,
          10,
          11,
          null
         ],
         "yaxis": "y"
        },
        {
         "customdata": [
          [
           "2023-04-12",
           "2023-05-23",
           "L1"
          ],
          [
           "2023-04-12",
           "2023-05-23",
           "L1"
          ],
          [
           null,
           null,
           null
          ],
          [
           "2023-04-19",
           "2023-05-26",
           "L2"
          ],
          [
           "2023-04-19",
           "2023-05-26",
           "L2"
          ],
          [
           null,
           null,
           null
          ],
          [
           "2023-04-26",
           "2023-06-05",
           "L3"
          ],
          [
           "2023-04-26",
           "2023-06-05",
           "L3"
          ],
          [
           null,
           null,
           null
          ],
          [
           "2023-05-05",
           "2023-06-12",
           "L4"
          ],
          [
           "2023-05-05",
           "2023-06-12",
           "L4"
          ],
          [
           null,
           null,
           null
          ],
          [
           "2023-04-28",
           "2023-06-12",
           "L5"
          ],
          [
           "2023-04-28",
           "2023-06-12",
           "L5"
          ],
          [
           null,
           null,
           null
          ],
          [
           "2023-05-15",
           "2023-06-22",
           "L6"
          ],
          [
           "2023-05-15",
           "2023-06-22",
           "L6"
          ],
          [
           null,
           null,
           null
          ],
          [
           "2023-05-19",
           "2023-06-23",
           "L7"
          ],
          [
           "2023-05-19",
           "2023-06-23",
           "L7"
          ],
          [
           null,
           null,
           null
          ],
          [
           "2023-05-26",
           "2023-07-17",
           "L8"
          ],
          [
           "2023-05-26",
           "2023-07-17",
           "L8"
          ],
          [
           null,
           null,
           null
          ],
          [
           "2023-06-06",
           "2023-07-17",
           "L9"
          ],
          [
           "2023-06-06",
           "2023-07-17",
           "L9"
          ],
          [
           null,
           null,
           null
          ],
          [
           "2023-06-22",
           "2023-08-02",
           "L10"
          ],
          [
           "2023-06-22",
           "2023-08-02",
           "L10"
          ],
          [
           null,
           null,
           null
          ],
          [
           "2023-06-22",
           "2023-08-02",
           "L11"
          ],
          [
           "2023-06-22",
           "2023-08-02",
           "L11"
          ],
          [
           null,
           null,
           null
          ]
         ],
         "hovertemplate": "Initial Date: %{customdata[0]}<br>Final Date: %{customdata[1]}<br>Level: %{customdata[2]}",
         "legendgroup": "5, 5",
         "line": {
          "color": "#0099C6",
          "dash": "dash"
         },
         "marker": {
          "symbol": "circle"
         },
         "mode": "lines",
         "name": "Screed / Joinery / Kitchens Planned",
         "orientation": "v",
         "showlegend": true,
         "type": "scatter",
         "x": [
          "2023-04-12",
          "2023-05-23",
          null,
          "2023-04-19",
          "2023-05-26",
          null,
          "2023-04-26",
          "2023-06-05",
          null,
          "2023-05-05",
          "2023-06-12",
          null,
          "2023-04-28",
          "2023-06-12",
          null,
          "2023-05-15",
          "2023-06-22",
          null,
          "2023-05-19",
          "2023-06-23",
          null,
          "2023-05-26",
          "2023-07-17",
          null,
          "2023-06-06",
          "2023-07-17",
          null,
          "2023-06-22",
          "2023-08-02",
          null,
          "2023-06-22",
          "2023-08-02",
          null
         ],
         "xaxis": "x",
         "y": [
          0,
          1,
          null,
          1,
          2,
          null,
          2,
          3,
          null,
          3,
          4,
          null,
          4,
          5,
          null,
          5,
          6,
          null,
          6,
          7,
          null,
          7,
          8,
          null,
          8,
          9,
          null,
          9,
          10,
          null,
          10,
          11,
          null
         ],
         "yaxis": "y"
        },
        {
         "customdata": [
          [
           "2022-11-01",
           "2023-01-15",
           "L1"
          ],
          [
           "2022-11-01",
           "2023-01-15",
           "L1"
          ],
          [
           null,
           null,
           null
          ],
          [
           "2022-11-22",
           "2023-03-13",
           "L2"
          ],
          [
           "2022-11-22",
           "2023-03-13",
           "L2"
          ],
          [
           null,
           null,
           null
          ],
          [
           "2022-12-12",
           "2023-09-05",
           "L3"
          ],
          [
           "2022-12-12",
           "2023-09-05",
           "L3"
          ],
          [
           null,
           null,
           null
          ],
          [
           "2023-01-09",
           "2023-07-19",
           "L4"
          ],
          [
           "2023-01-09",
           "2023-07-19",
           "L4"
          ],
          [
           null,
           null,
           null
          ],
          [
           "2023-01-23",
           "2023-04-06",
           "L5"
          ],
          [
           "2023-01-23",
           "2023-04-06",
           "L5"
          ],
          [
           null,
           null,
           null
          ],
          [
           "2023-02-13",
           "2023-05-22",
           "L6"
          ],
          [
           "2023-02-13",
           "2023-05-22",
           "L6"
          ],
          [
           null,
           null,
           null
          ],
          [
           "2023-02-13",
           "2023-03-19",
           "L7"
          ],
          [
           "2023-02-13",
           "2023-03-19",
           "L7"
          ],
          [
           null,
           null,
           null
          ],
          [
           "2023-03-20",
           "2023-03-31",
           "L8"
          ],
          [
           "2023-03-20",
           "2023-03-31",
           "L8"
          ],
          [
           null,
           null,
           null
          ],
          [
           "2023-03-20",
           "2023-08-10",
           "L9"
          ],
          [
           "2023-03-20",
           "2023-08-10",
           "L9"
          ],
          [
           null,
           null,
           null
          ],
          [
           "2023-03-20",
           "2023-05-05",
           "L10"
          ],
          [
           "2023-03-20",
           "2023-05-05",
           "L10"
          ],
          [
           null,
           null,
           null
          ],
          [
           "2023-04-12",
           "2023-08-03",
           "L11"
          ],
          [
           "2023-04-12",
           "2023-08-03",
           "L11"
          ],
          [
           null,
           null,
           null
          ],
          [
           "2023-06-22",
           "2024-03-08",
           "L12"
          ],
          [
           "2023-06-22",
           "2024-03-08",
           "L12"
          ],
          [
           null,
           null,
           null
          ],
          [
           null,
           null,
           "L13"
          ],
          [
           null,
           null,
           "L13"
          ],
          [
           null,
           null,
           null
          ]
         ],
         "hovertemplate": "Initial Date: %{customdata[0]}<br>Final Date: %{customdata[1]}<br>Level: %{customdata[2]}",
         "legendgroup": "0",
         "line": {
          "color": "#3366CC",
          "dash": "solid"
         },
         "marker": {
          "symbol": "circle"
         },
         "mode": "lines",
         "name": "Demising Walls Actuals",
         "orientation": "v",
         "showlegend": true,
         "type": "scatter",
         "x": [
          "2022-11-01",
          "2023-01-15",
          null,
          "2022-11-22",
          "2023-03-13",
          null,
          "2022-12-12",
          "2023-09-05",
          null,
          "2023-01-09",
          "2023-07-19",
          null,
          "2023-01-23",
          "2023-04-06",
          null,
          "2023-02-13",
          "2023-05-22",
          null,
          "2023-02-13",
          "2023-03-19",
          null,
          "2023-03-20",
          "2023-03-31",
          null,
          "2023-03-20",
          "2023-08-10",
          null,
          "2023-03-20",
          "2023-05-05",
          null,
          "2023-04-12",
          "2023-08-03",
          null,
          "2023-06-22",
          "2024-03-08",
          null,
          null,
          null,
          null
         ],
         "xaxis": "x",
         "y": [
          0,
          1,
          null,
          1,
          2,
          null,
          2,
          3,
          null,
          3,
          4,
          null,
          4,
          5,
          null,
          5,
          6,
          null,
          6,
          7,
          null,
          7,
          8,
          null,
          8,
          9,
          null,
          9,
          10,
          null,
          10,
          11,
          null,
          11,
          12,
          null,
          12,
          13,
          null
         ],
         "yaxis": "y"
        },
        {
         "customdata": [
          [
           "2022-12-12",
           "2023-06-19",
           "L1"
          ],
          [
           "2022-12-12",
           "2023-06-19",
           "L1"
          ],
          [
           null,
           null,
           null
          ],
          [
           "2023-01-26",
           "2023-06-19",
           "L2"
          ],
          [
           "2023-01-26",
           "2023-06-19",
           "L2"
          ],
          [
           null,
           null,
           null
          ],
          [
           "2023-02-02",
           "2023-07-22",
           "L3"
          ],
          [
           "2023-02-02",
           "2023-07-22",
           "L3"
          ],
          [
           null,
           null,
           null
          ],
          [
           "2023-02-07",
           "2023-07-22",
           "L4"
          ],
          [
           "2023-02-07",
           "2023-07-22",
           "L4"
          ],
          [
           null,
           null,
           null
          ],
          [
           "2023-02-27",
           "2023-07-22",
           "L5"
          ],
          [
           "2023-02-27",
           "2023-07-22",
           "L5"
          ],
          [
           null,
           null,
           null
          ],
          [
           "2023-02-27",
           "2023-08-17",
           "L6"
          ],
          [
           "2023-02-27",
           "2023-08-17",
           "L6"
          ],
          [
           null,
           null,
           null
          ],
          [
           "2023-03-14",
           "2023-08-17",
           "L7"
          ],
          [
           "2023-03-14",
           "2023-08-17",
           "L7"
          ],
          [
           null,
           null,
           null
          ],
          [
           "2023-03-20",
           "2023-08-17",
           "L8"
          ],
          [
           "2023-03-20",
           "2023-08-17",
           "L8"
          ],
          [
           null,
           null,
           null
          ],
          [
           "2023-05-23",
           "2023-10-19",
           "L9"
          ],
          [
           "2023-05-23",
           "2023-10-19",
           "L9"
          ],
          [
           null,
           null,
           null
          ],
          [
           "2023-05-23",
           "2023-10-13",
           "L10"
          ],
          [
           "2023-05-23",
           "2023-10-13",
           "L10"
          ],
          [
           null,
           null,
           null
          ],
          [
           "2023-06-22",
           "2023-10-25",
           "L11"
          ],
          [
           "2023-06-22",
           "2023-10-25",
           "L11"
          ],
          [
           null,
           null,
           null
          ],
          [
           "2023-08-03",
           "2023-11-15",
           "L12"
          ],
          [
           "2023-08-03",
           "2023-11-15",
           "L12"
          ],
          [
           null,
           null,
           null
          ],
          [
           "2023-09-14",
           "2023-11-04",
           "L13"
          ],
          [
           "2023-09-14",
           "2023-11-04",
           "L13"
          ],
          [
           null,
           null,
           null
          ]
         ],
         "hovertemplate": "Initial Date: %{customdata[0]}<br>Final Date: %{customdata[1]}<br>Level: %{customdata[2]}",
         "legendgroup": "1",
         "line": {
          "color": "#DC3912",
          "dash": "solid"
         },
         "marker": {
          "symbol": "circle"
         },
         "mode": "lines",
         "name": "HL MEP Services (1st Fix) Actuals",
         "orientation": "v",
         "showlegend": true,
         "type": "scatter",
         "x": [
          "2022-12-12",
          "2023-06-19",
          null,
          "2023-01-26",
          "2023-06-19",
          null,
          "2023-02-02",
          "2023-07-22",
          null,
          "2023-02-07",
          "2023-07-22",
          null,
          "2023-02-27",
          "2023-07-22",
          null,
          "2023-02-27",
          "2023-08-17",
          null,
          "2023-03-14",
          "2023-08-17",
          null,
          "2023-03-20",
          "2023-08-17",
          null,
          "2023-05-23",
          "2023-10-19",
          null,
          "2023-05-23",
          "2023-10-13",
          null,
          "2023-06-22",
          "2023-10-25",
          null,
          "2023-08-03",
          "2023-11-15",
          null,
          "2023-09-14",
          "2023-11-04",
          null
         ],
         "xaxis": "x",
         "y": [
          0,
          1,
          null,
          1,
          2,
          null,
          2,
          3,
          null,
          3,
          4,
          null,
          4,
          5,
          null,
          5,
          6,
          null,
          6,
          7,
          null,
          7,
          8,
          null,
          8,
          9,
          null,
          9,
          10,
          null,
          10,
          11,
          null,
          11,
          12,
          null,
          12,
          13,
          null
         ],
         "yaxis": "y"
        },
        {
         "customdata": [
          [
           "2022-11-22",
           "2023-08-17",
           "L1"
          ],
          [
           "2022-11-22",
           "2023-08-17",
           "L1"
          ],
          [
           null,
           null,
           null
          ],
          [
           "2023-01-26",
           "2023-08-10",
           "L2"
          ],
          [
           "2023-01-26",
           "2023-08-10",
           "L2"
          ],
          [
           null,
           null,
           null
          ],
          [
           "2023-01-26",
           "2023-08-17",
           "L3"
          ],
          [
           "2023-01-26",
           "2023-08-17",
           "L3"
          ],
          [
           null,
           null,
           null
          ],
          [
           "2023-01-16",
           "2023-08-10",
           "L4"
          ],
          [
           "2023-01-16",
           "2023-08-10",
           "L4"
          ],
          [
           null,
           null,
           null
          ],
          [
           "2023-02-27",
           "2023-10-05",
           "L5"
          ],
          [
           "2023-02-27",
           "2023-10-05",
           "L5"
          ],
          [
           null,
           null,
           null
          ],
          [
           "2023-02-13",
           "2023-09-28",
           "L6"
          ],
          [
           "2023-02-13",
           "2023-09-28",
           "L6"
          ],
          [
           null,
           null,
           null
          ],
          [
           "2023-02-13",
           "2023-10-12",
           "L7"
          ],
          [
           "2023-02-13",
           "2023-10-12",
           "L7"
          ],
          [
           null,
           null,
           null
          ],
          [
           "2023-03-20",
           "2023-09-28",
           "L8"
          ],
          [
           "2023-03-20",
           "2023-09-28",
           "L8"
          ],
          [
           null,
           null,
           null
          ],
          [
           "2023-03-20",
           "2023-10-08",
           "L9"
          ],
          [
           "2023-03-20",
           "2023-10-08",
           "L9"
          ],
          [
           null,
           null,
           null
          ],
          [
           "2023-03-20",
           "2023-09-28",
           "L10"
          ],
          [
           "2023-03-20",
           "2023-09-28",
           "L10"
          ],
          [
           null,
           null,
           null
          ],
          [
           "2023-05-23",
           "2023-10-13",
           "L11"
          ],
          [
           "2023-05-23",
           "2023-10-13",
           "L11"
          ],
          [
           null,
           null,
           null
          ],
          [
           "2023-07-24",
           "2023-12-10",
           "L12"
          ],
          [
           "2023-07-24",
           "2023-12-10",
           "L12"
          ],
          [
           null,
           null,
           null
          ],
          [
           "2023-07-24",
           "2023-11-21",
           "L13"
          ],
          [
           "2023-07-24",
           "2023-11-21",
           "L13"
          ],
          [
           null,
           null,
           null
          ]
         ],
         "hovertemplate": "Initial Date: %{customdata[0]}<br>Final Date: %{customdata[1]}<br>Level: %{customdata[2]}",
         "legendgroup": "2",
         "line": {
          "color": "#FF9900",
          "dash": "solid"
         },
         "marker": {
          "symbol": "circle"
         },
         "mode": "lines",
         "name": "Internal walls 2nd Drylining Visit Actuals",
         "orientation": "v",
         "showlegend": true,
         "type": "scatter",
         "x": [
          "2022-11-22",
          "2023-08-17",
          null,
          "2023-01-26",
          "2023-08-10",
          null,
          "2023-01-26",
          "2023-08-17",
          null,
          "2023-01-16",
          "2023-08-10",
          null,
          "2023-02-27",
          "2023-10-05",
          null,
          "2023-02-13",
          "2023-09-28",
          null,
          "2023-02-13",
          "2023-10-12",
          null,
          "2023-03-20",
          "2023-09-28",
          null,
          "2023-03-20",
          "2023-10-08",
          null,
          "2023-03-20",
          "2023-09-28",
          null,
          "2023-05-23",
          "2023-10-13",
          null,
          "2023-07-24",
          "2023-12-10",
          null,
          "2023-07-24",
          "2023-11-21",
          null
         ],
         "xaxis": "x",
         "y": [
          0,
          1,
          null,
          1,
          2,
          null,
          2,
          3,
          null,
          3,
          4,
          null,
          4,
          5,
          null,
          5,
          6,
          null,
          6,
          7,
          null,
          7,
          8,
          null,
          8,
          9,
          null,
          9,
          10,
          null,
          10,
          11,
          null,
          11,
          12,
          null,
          12,
          13,
          null
         ],
         "yaxis": "y"
        },
        {
         "customdata": [
          [
           "2023-02-07",
           "2023-08-17",
           "L1"
          ],
          [
           "2023-02-07",
           "2023-08-17",
           "L1"
          ],
          [
           null,
           null,
           null
          ],
          [
           "2023-04-12",
           "2023-08-17",
           "L2"
          ],
          [
           "2023-04-12",
           "2023-08-17",
           "L2"
          ],
          [
           null,
           null,
           null
          ],
          [
           "2023-04-27",
           "2023-08-17",
           "L3"
          ],
          [
           "2023-04-27",
           "2023-08-17",
           "L3"
          ],
          [
           null,
           null,
           null
          ],
          [
           "2023-05-05",
           "2023-08-17",
           "L4"
          ],
          [
           "2023-05-05",
           "2023-08-17",
           "L4"
          ],
          [
           null,
           null,
           null
          ],
          [
           "2023-05-18",
           "2023-08-17",
           "L5"
          ],
          [
           "2023-05-18",
           "2023-08-17",
           "L5"
          ],
          [
           null,
           null,
           null
          ],
          [
           "2023-05-18",
           "2023-08-17",
           "L6"
          ],
          [
           "2023-05-18",
           "2023-08-17",
           "L6"
          ],
          [
           null,
           null,
           null
          ],
          [
           "2023-05-23",
           "2023-08-17",
           "L7"
          ],
          [
           "2023-05-23",
           "2023-08-17",
           "L7"
          ],
          [
           null,
           null,
           null
          ],
          [
           "2023-06-22",
           "2023-09-04",
           "L8"
          ],
          [
           "2023-06-22",
           "2023-09-04",
           "L8"
          ],
          [
           null,
           null,
           null
          ],
          [
           "2023-07-13",
           "2023-08-31",
           "L9"
          ],
          [
           "2023-07-13",
           "2023-08-31",
           "L9"
          ],
          [
           null,
           null,
           null
          ],
          [
           "2023-08-03",
           "2023-09-23",
           "L10"
          ],
          [
           "2023-08-03",
           "2023-09-23",
           "L10"
          ],
          [
           null,
           null,
           null
          ],
          [
           "2023-08-17",
           "2024-05-31",
           "L11"
          ],
          [
           "2023-08-17",
           "2024-05-31",
           "L11"
          ],
          [
           null,
           null,
           null
          ],
          [
           null,
           null,
           "L12"
          ],
          [
           null,
           null,
           "L12"
          ],
          [
           null,
           null,
           null
          ],
          [
           null,
           null,
           "L13"
          ],
          [
           null,
           null,
           "L13"
          ],
          [
           null,
           null,
           null
          ]
         ],
         "hovertemplate": "Initial Date: %{customdata[0]}<br>Final Date: %{customdata[1]}<br>Level: %{customdata[2]}",
         "legendgroup": "3",
         "line": {
          "color": "#109618",
          "dash": "solid"
         },
         "marker": {
          "symbol": "circle"
         },
         "mode": "lines",
         "name": "HL MEP Services (2nd Fix) Actuals",
         "orientation": "v",
         "showlegend": true,
         "type": "scatter",
         "x": [
          "2023-02-07",
          "2023-08-17",
          null,
          "2023-04-12",
          "2023-08-17",
          null,
          "2023-04-27",
          "2023-08-17",
          null,
          "2023-05-05",
          "2023-08-17",
          null,
          "2023-05-18",
          "2023-08-17",
          null,
          "2023-05-18",
          "2023-08-17",
          null,
          "2023-05-23",
          "2023-08-17",
          null,
          "2023-06-22",
          "2023-09-04",
          null,
          "2023-07-13",
          "2023-08-31",
          null,
          "2023-08-03",
          "2023-09-23",
          null,
          "2023-08-17",
          "2024-05-31",
          null,
          null,
          null,
          null,
          null,
          null,
          null
         ],
         "xaxis": "x",
         "y": [
          0,
          1,
          null,
          1,
          2,
          null,
          2,
          3,
          null,
          3,
          4,
          null,
          4,
          5,
          null,
          5,
          6,
          null,
          6,
          7,
          null,
          7,
          8,
          null,
          8,
          9,
          null,
          9,
          10,
          null,
          10,
          11,
          null,
          11,
          12,
          null,
          12,
          13,
          null
         ],
         "yaxis": "y"
        },
        {
         "customdata": [
          [
           "2023-02-27",
           "2023-09-03",
           "L1"
          ],
          [
           "2023-02-27",
           "2023-09-03",
           "L1"
          ],
          [
           null,
           null,
           null
          ],
          [
           "2023-06-22",
           "2023-08-24",
           "L2"
          ],
          [
           "2023-06-22",
           "2023-08-24",
           "L2"
          ],
          [
           null,
           null,
           null
          ],
          [
           "2023-06-07",
           "2023-09-11",
           "L3"
          ],
          [
           "2023-06-07",
           "2023-09-11",
           "L3"
          ],
          [
           null,
           null,
           null
          ],
          [
           "2023-07-13",
           "2023-08-17",
           "L4"
          ],
          [
           "2023-07-13",
           "2023-08-17",
           "L4"
          ],
          [
           null,
           null,
           null
          ],
          [
           "2023-07-13",
           "2023-10-07",
           "L5"
          ],
          [
           "2023-07-13",
           "2023-10-07",
           "L5"
          ],
          [
           null,
           null,
           null
          ],
          [
           "2023-08-03",
           "2023-10-10",
           "L6"
          ],
          [
           "2023-08-03",
           "2023-10-10",
           "L6"
          ],
          [
           null,
           null,
           null
          ],
          [
           "2023-08-03",
           "2023-10-01",
           "L7"
          ],
          [
           "2023-08-03",
           "2023-10-01",
           "L7"
          ],
          [
           null,
           null,
           null
          ],
          [
           "2023-08-10",
           "2023-10-11",
           "L8"
          ],
          [
           "2023-08-10",
           "2023-10-11",
           "L8"
          ],
          [
           null,
           null,
           null
          ],
          [
           "2023-08-17",
           "2023-10-12",
           "L9"
          ],
          [
           "2023-08-17",
           "2023-10-12",
           "L9"
          ],
          [
           null,
           null,
           null
          ],
          [
           "2023-09-14",
           "2023-09-29",
           "L10"
          ],
          [
           "2023-09-14",
           "2023-09-29",
           "L10"
          ],
          [
           null,
           null,
           null
          ],
          [
           "2023-09-14",
           "2023-10-08",
           "L11"
          ],
          [
           "2023-09-14",
           "2023-10-08",
           "L11"
          ],
          [
           null,
           null,
           null
          ],
          [
           null,
           null,
           "L12"
          ],
          [
           null,
           null,
           "L12"
          ],
          [
           null,
           null,
           null
          ],
          [
           null,
           null,
           "L13"
          ],
          [
           null,
           null,
           "L13"
          ],
          [
           null,
           null,
           null
          ]
         ],
         "hovertemplate": "Initial Date: %{customdata[0]}<br>Final Date: %{customdata[1]}<br>Level: %{customdata[2]}",
         "legendgroup": "4",
         "line": {
          "color": "#990099",
          "dash": "solid"
         },
         "marker": {
          "symbol": "circle"
         },
         "mode": "lines",
         "name": "Final Drylining / Install Ceilings Actuals",
         "orientation": "v",
         "showlegend": true,
         "type": "scatter",
         "x": [
          "2023-02-27",
          "2023-09-03",
          null,
          "2023-06-22",
          "2023-08-24",
          null,
          "2023-06-07",
          "2023-09-11",
          null,
          "2023-07-13",
          "2023-08-17",
          null,
          "2023-07-13",
          "2023-10-07",
          null,
          "2023-08-03",
          "2023-10-10",
          null,
          "2023-08-03",
          "2023-10-01",
          null,
          "2023-08-10",
          "2023-10-11",
          null,
          "2023-08-17",
          "2023-10-12",
          null,
          "2023-09-14",
          "2023-09-29",
          null,
          "2023-09-14",
          "2023-10-08",
          null,
          null,
          null,
          null,
          null,
          null,
          null
         ],
         "xaxis": "x",
         "y": [
          0,
          1,
          null,
          1,
          2,
          null,
          2,
          3,
          null,
          3,
          4,
          null,
          4,
          5,
          null,
          5,
          6,
          null,
          6,
          7,
          null,
          7,
          8,
          null,
          8,
          9,
          null,
          9,
          10,
          null,
          10,
          11,
          null,
          11,
          12,
          null,
          12,
          13,
          null
         ],
         "yaxis": "y"
        },
        {
         "customdata": [
          [
           "2023-03-20",
           "2023-10-12",
           "L1"
          ],
          [
           "2023-03-20",
           "2023-10-12",
           "L1"
          ],
          [
           null,
           null,
           null
          ],
          [
           "2023-07-13",
           "2023-08-29",
           "L2"
          ],
          [
           "2023-07-13",
           "2023-08-29",
           "L2"
          ],
          [
           null,
           null,
           null
          ],
          [
           "2023-07-13",
           "2023-09-26",
           "L3"
          ],
          [
           "2023-07-13",
           "2023-09-26",
           "L3"
          ],
          [
           null,
           null,
           null
          ],
          [
           "2023-07-27",
           "2023-09-28",
           "L4"
          ],
          [
           "2023-07-27",
           "2023-09-28",
           "L4"
          ],
          [
           null,
           null,
           null
          ],
          [
           "2023-08-03",
           "2023-10-20",
           "L5"
          ],
          [
           "2023-08-03",
           "2023-10-20",
           "L5"
          ],
          [
           null,
           null,
           null
          ],
          [
           "2023-08-03",
           "2023-10-12",
           "L6"
          ],
          [
           "2023-08-03",
           "2023-10-12",
           "L6"
          ],
          [
           null,
           null,
           null
          ],
          [
           "2023-08-17",
           "2023-10-09",
           "L7"
          ],
          [
           "2023-08-17",
           "2023-10-09",
           "L7"
          ],
          [
           null,
           null,
           null
          ],
          [
           "2023-09-14",
           "2023-09-25",
           "L8"
          ],
          [
           "2023-09-14",
           "2023-09-25",
           "L8"
          ],
          [
           null,
           null,
           null
          ],
          [
           "2023-09-14",
           "2023-10-09",
           "L9"
          ],
          [
           "2023-09-14",
           "2023-10-09",
           "L9"
          ],
          [
           null,
           null,
           null
          ],
          [
           "2023-09-14",
           "2023-10-12",
           "L10"
          ],
          [
           "2023-09-14",
           "2023-10-12",
           "L10"
          ],
          [
           null,
           null,
           null
          ],
          [
           "2023-09-14",
           "2023-10-28",
           "L11"
          ],
          [
           "2023-09-14",
           "2023-10-28",
           "L11"
          ],
          [
           null,
           null,
           null
          ],
          [
           null,
           null,
           "L12"
          ],
          [
           null,
           null,
           "L12"
          ],
          [
           null,
           null,
           null
          ],
          [
           null,
           null,
           "L13"
          ],
          [
           null,
           null,
           "L13"
          ],
          [
           null,
           null,
           null
          ]
         ],
         "hovertemplate": "Initial Date: %{customdata[0]}<br>Final Date: %{customdata[1]}<br>Level: %{customdata[2]}",
         "legendgroup": "5",
         "line": {
          "color": "#0099C6",
          "dash": "solid"
         },
         "marker": {
          "symbol": "circle"
         },
         "mode": "lines",
         "name": "Screed / Joinery / Kitchens Actuals",
         "orientation": "v",
         "showlegend": true,
         "type": "scatter",
         "x": [
          "2023-03-20",
          "2023-10-12",
          null,
          "2023-07-13",
          "2023-08-29",
          null,
          "2023-07-13",
          "2023-09-26",
          null,
          "2023-07-27",
          "2023-09-28",
          null,
          "2023-08-03",
          "2023-10-20",
          null,
          "2023-08-03",
          "2023-10-12",
          null,
          "2023-08-17",
          "2023-10-09",
          null,
          "2023-09-14",
          "2023-09-25",
          null,
          "2023-09-14",
          "2023-10-09",
          null,
          "2023-09-14",
          "2023-10-12",
          null,
          "2023-09-14",
          "2023-10-28",
          null,
          null,
          null,
          null,
          null,
          null,
          null
         ],
         "xaxis": "x",
         "y": [
          0,
          1,
          null,
          1,
          2,
          null,
          2,
          3,
          null,
          3,
          4,
          null,
          4,
          5,
          null,
          5,
          6,
          null,
          6,
          7,
          null,
          7,
          8,
          null,
          8,
          9,
          null,
          9,
          10,
          null,
          10,
          11,
          null,
          11,
          12,
          null,
          12,
          13,
          null
         ],
         "yaxis": "y"
        }
       ],
       "layout": {
        "annotations": [
         {
          "font": {
           "size": 12
          },
          "showarrow": false,
          "text": "<b>L1<b>",
          "x": -0.030434782608695653,
          "xref": "paper",
          "y": 0.5,
          "yref": "y"
         },
         {
          "font": {
           "size": 12
          },
          "showarrow": false,
          "text": "<b>L2<b>",
          "x": -0.030434782608695653,
          "xref": "paper",
          "y": 1.5,
          "yref": "y"
         },
         {
          "font": {
           "size": 12
          },
          "showarrow": false,
          "text": "<b>L3<b>",
          "x": -0.030434782608695653,
          "xref": "paper",
          "y": 2.5,
          "yref": "y"
         },
         {
          "font": {
           "size": 12
          },
          "showarrow": false,
          "text": "<b>L4<b>",
          "x": -0.030434782608695653,
          "xref": "paper",
          "y": 3.5,
          "yref": "y"
         },
         {
          "font": {
           "size": 12
          },
          "showarrow": false,
          "text": "<b>L5<b>",
          "x": -0.030434782608695653,
          "xref": "paper",
          "y": 4.5,
          "yref": "y"
         },
         {
          "font": {
           "size": 12
          },
          "showarrow": false,
          "text": "<b>L6<b>",
          "x": -0.030434782608695653,
          "xref": "paper",
          "y": 5.5,
          "yref": "y"
         },
         {
          "font": {
           "size": 12
          },
          "showarrow": false,
          "text": "<b>L7<b>",
          "x": -0.030434782608695653,
          "xref": "paper",
          "y": 6.5,
          "yref": "y"
         },
         {
          "font": {
           "size": 12
          },
          "showarrow": false,
          "text": "<b>L8<b>",
          "x": -0.030434782608695653,
          "xref": "paper",
          "y": 7.5,
          "yref": "y"
         },
         {
          "font": {
           "size": 12
          },
          "showarrow": false,
          "text": "<b>L9<b>",
          "x": -0.030434782608695653,
          "xref": "paper",
          "y": 8.5,
          "yref": "y"
         },
         {
          "font": {
           "size": 12
          },
          "showarrow": false,
          "text": "<b>L10<b>",
          "x": -0.030434782608695653,
          "xref": "paper",
          "y": 9.5,
          "yref": "y"
         },
         {
          "font": {
           "size": 12
          },
          "showarrow": false,
          "text": "<b>L11<b>",
          "x": -0.030434782608695653,
          "xref": "paper",
          "y": 10.5,
          "yref": "y"
         },
         {
          "font": {
           "size": 12
          },
          "showarrow": false,
          "text": "<b>L12<b>",
          "x": -0.030434782608695653,
          "xref": "paper",
          "y": 11.5,
          "yref": "y"
         },
         {
          "font": {
           "size": 12
          },
          "showarrow": false,
          "text": "<b>L13<b>",
          "x": -0.030434782608695653,
          "xref": "paper",
          "y": 12.5,
          "yref": "y"
         }
        ],
        "height": 860,
        "legend": {
         "tracegroupgap": 0
        },
        "shapes": [
         {
          "fillcolor": "#eaeaf2",
          "line": {
           "color": "#ffffff",
           "width": 1.5
          },
          "opacity": 1,
          "type": "rect",
          "x0": -0.030434782608695653,
          "x1": 0,
          "xref": "paper",
          "y0": 0,
          "y1": 1,
          "yref": "paper"
         },
         {
          "line": {
           "color": "#ffffff",
           "width": 1.5
          },
          "opacity": 1,
          "type": "line",
          "x0": -0.030434782608695653,
          "x1": 0,
          "xref": "paper",
          "y0": 0,
          "y1": 0,
          "yref": "y"
         },
         {
          "line": {
           "color": "#ffffff",
           "width": 1.5
          },
          "opacity": 1,
          "type": "line",
          "x0": -0.030434782608695653,
          "x1": 0,
          "xref": "paper",
          "y0": 1,
          "y1": 1,
          "yref": "y"
         },
         {
          "line": {
           "color": "#ffffff",
           "width": 1.5
          },
          "opacity": 1,
          "type": "line",
          "x0": -0.030434782608695653,
          "x1": 0,
          "xref": "paper",
          "y0": 2,
          "y1": 2,
          "yref": "y"
         },
         {
          "line": {
           "color": "#ffffff",
           "width": 1.5
          },
          "opacity": 1,
          "type": "line",
          "x0": -0.030434782608695653,
          "x1": 0,
          "xref": "paper",
          "y0": 3,
          "y1": 3,
          "yref": "y"
         },
         {
          "line": {
           "color": "#ffffff",
           "width": 1.5
          },
          "opacity": 1,
          "type": "line",
          "x0": -0.030434782608695653,
          "x1": 0,
          "xref": "paper",
          "y0": 4,
          "y1": 4,
          "yref": "y"
         },
         {
          "line": {
           "color": "#ffffff",
           "width": 1.5
          },
          "opacity": 1,
          "type": "line",
          "x0": -0.030434782608695653,
          "x1": 0,
          "xref": "paper",
          "y0": 5,
          "y1": 5,
          "yref": "y"
         },
         {
          "line": {
           "color": "#ffffff",
           "width": 1.5
          },
          "opacity": 1,
          "type": "line",
          "x0": -0.030434782608695653,
          "x1": 0,
          "xref": "paper",
          "y0": 6,
          "y1": 6,
          "yref": "y"
         },
         {
          "line": {
           "color": "#ffffff",
           "width": 1.5
          },
          "opacity": 1,
          "type": "line",
          "x0": -0.030434782608695653,
          "x1": 0,
          "xref": "paper",
          "y0": 7,
          "y1": 7,
          "yref": "y"
         },
         {
          "line": {
           "color": "#ffffff",
           "width": 1.5
          },
          "opacity": 1,
          "type": "line",
          "x0": -0.030434782608695653,
          "x1": 0,
          "xref": "paper",
          "y0": 8,
          "y1": 8,
          "yref": "y"
         },
         {
          "line": {
           "color": "#ffffff",
           "width": 1.5
          },
          "opacity": 1,
          "type": "line",
          "x0": -0.030434782608695653,
          "x1": 0,
          "xref": "paper",
          "y0": 9,
          "y1": 9,
          "yref": "y"
         },
         {
          "line": {
           "color": "#ffffff",
           "width": 1.5
          },
          "opacity": 1,
          "type": "line",
          "x0": -0.030434782608695653,
          "x1": 0,
          "xref": "paper",
          "y0": 10,
          "y1": 10,
          "yref": "y"
         },
         {
          "line": {
           "color": "#ffffff",
           "width": 1.5
          },
          "opacity": 1,
          "type": "line",
          "x0": -0.030434782608695653,
          "x1": 0,
          "xref": "paper",
          "y0": 11,
          "y1": 11,
          "yref": "y"
         },
         {
          "line": {
           "color": "#ffffff",
           "width": 1.5
          },
          "opacity": 1,
          "type": "line",
          "x0": -0.030434782608695653,
          "x1": 0,
          "xref": "paper",
          "y0": 12,
          "y1": 12,
          "yref": "y"
         },
         {
          "line": {
           "color": "#ffffff",
           "width": 1.5
          },
          "opacity": 1,
          "type": "line",
          "x0": -0.030434782608695653,
          "x1": 0,
          "xref": "paper",
          "y0": 13,
          "y1": 13,
          "yref": "y"
         }
        ],
        "template": {
         "data": {
          "bar": [
           {
            "error_x": {
             "color": "rgb(36,36,36)"
            },
            "error_y": {
             "color": "rgb(36,36,36)"
            },
            "marker": {
             "line": {
              "color": "rgb(234,234,242)",
              "width": 0.5
             },
             "pattern": {
              "fillmode": "overlay",
              "size": 10,
              "solidity": 0.2
             }
            },
            "type": "bar"
           }
          ],
          "barpolar": [
           {
            "marker": {
             "line": {
              "color": "rgb(234,234,242)",
              "width": 0.5
             },
             "pattern": {
              "fillmode": "overlay",
              "size": 10,
              "solidity": 0.2
             }
            },
            "type": "barpolar"
           }
          ],
          "carpet": [
           {
            "aaxis": {
             "endlinecolor": "rgb(36,36,36)",
             "gridcolor": "white",
             "linecolor": "white",
             "minorgridcolor": "white",
             "startlinecolor": "rgb(36,36,36)"
            },
            "baxis": {
             "endlinecolor": "rgb(36,36,36)",
             "gridcolor": "white",
             "linecolor": "white",
             "minorgridcolor": "white",
             "startlinecolor": "rgb(36,36,36)"
            },
            "type": "carpet"
           }
          ],
          "choropleth": [
           {
            "colorbar": {
             "outlinewidth": 0,
             "tickcolor": "rgb(36,36,36)",
             "ticklen": 8,
             "ticks": "outside",
             "tickwidth": 2
            },
            "type": "choropleth"
           }
          ],
          "contour": [
           {
            "colorbar": {
             "outlinewidth": 0,
             "tickcolor": "rgb(36,36,36)",
             "ticklen": 8,
             "ticks": "outside",
             "tickwidth": 2
            },
            "colorscale": [
             [
              0,
              "rgb(2,4,25)"
             ],
             [
              0.06274509803921569,
              "rgb(24,15,41)"
             ],
             [
              0.12549019607843137,
              "rgb(47,23,57)"
             ],
             [
              0.18823529411764706,
              "rgb(71,28,72)"
             ],
             [
              0.25098039215686274,
              "rgb(97,30,82)"
             ],
             [
              0.3137254901960784,
              "rgb(123,30,89)"
             ],
             [
              0.3764705882352941,
              "rgb(150,27,91)"
             ],
             [
              0.4392156862745098,
              "rgb(177,22,88)"
             ],
             [
              0.5019607843137255,
              "rgb(203,26,79)"
             ],
             [
              0.5647058823529412,
              "rgb(223,47,67)"
             ],
             [
              0.6274509803921569,
              "rgb(236,76,61)"
             ],
             [
              0.6901960784313725,
              "rgb(242,107,73)"
             ],
             [
              0.7529411764705882,
              "rgb(244,135,95)"
             ],
             [
              0.8156862745098039,
              "rgb(245,162,122)"
             ],
             [
              0.8784313725490196,
              "rgb(246,188,153)"
             ],
             [
              0.9411764705882353,
              "rgb(247,212,187)"
             ],
             [
              1,
              "rgb(250,234,220)"
             ]
            ],
            "type": "contour"
           }
          ],
          "contourcarpet": [
           {
            "colorbar": {
             "outlinewidth": 0,
             "tickcolor": "rgb(36,36,36)",
             "ticklen": 8,
             "ticks": "outside",
             "tickwidth": 2
            },
            "type": "contourcarpet"
           }
          ],
          "heatmap": [
           {
            "colorbar": {
             "outlinewidth": 0,
             "tickcolor": "rgb(36,36,36)",
             "ticklen": 8,
             "ticks": "outside",
             "tickwidth": 2
            },
            "colorscale": [
             [
              0,
              "rgb(2,4,25)"
             ],
             [
              0.06274509803921569,
              "rgb(24,15,41)"
             ],
             [
              0.12549019607843137,
              "rgb(47,23,57)"
             ],
             [
              0.18823529411764706,
              "rgb(71,28,72)"
             ],
             [
              0.25098039215686274,
              "rgb(97,30,82)"
             ],
             [
              0.3137254901960784,
              "rgb(123,30,89)"
             ],
             [
              0.3764705882352941,
              "rgb(150,27,91)"
             ],
             [
              0.4392156862745098,
              "rgb(177,22,88)"
             ],
             [
              0.5019607843137255,
              "rgb(203,26,79)"
             ],
             [
              0.5647058823529412,
              "rgb(223,47,67)"
             ],
             [
              0.6274509803921569,
              "rgb(236,76,61)"
             ],
             [
              0.6901960784313725,
              "rgb(242,107,73)"
             ],
             [
              0.7529411764705882,
              "rgb(244,135,95)"
             ],
             [
              0.8156862745098039,
              "rgb(245,162,122)"
             ],
             [
              0.8784313725490196,
              "rgb(246,188,153)"
             ],
             [
              0.9411764705882353,
              "rgb(247,212,187)"
             ],
             [
              1,
              "rgb(250,234,220)"
             ]
            ],
            "type": "heatmap"
           }
          ],
          "heatmapgl": [
           {
            "colorbar": {
             "outlinewidth": 0,
             "tickcolor": "rgb(36,36,36)",
             "ticklen": 8,
             "ticks": "outside",
             "tickwidth": 2
            },
            "colorscale": [
             [
              0,
              "rgb(2,4,25)"
             ],
             [
              0.06274509803921569,
              "rgb(24,15,41)"
             ],
             [
              0.12549019607843137,
              "rgb(47,23,57)"
             ],
             [
              0.18823529411764706,
              "rgb(71,28,72)"
             ],
             [
              0.25098039215686274,
              "rgb(97,30,82)"
             ],
             [
              0.3137254901960784,
              "rgb(123,30,89)"
             ],
             [
              0.3764705882352941,
              "rgb(150,27,91)"
             ],
             [
              0.4392156862745098,
              "rgb(177,22,88)"
             ],
             [
              0.5019607843137255,
              "rgb(203,26,79)"
             ],
             [
              0.5647058823529412,
              "rgb(223,47,67)"
             ],
             [
              0.6274509803921569,
              "rgb(236,76,61)"
             ],
             [
              0.6901960784313725,
              "rgb(242,107,73)"
             ],
             [
              0.7529411764705882,
              "rgb(244,135,95)"
             ],
             [
              0.8156862745098039,
              "rgb(245,162,122)"
             ],
             [
              0.8784313725490196,
              "rgb(246,188,153)"
             ],
             [
              0.9411764705882353,
              "rgb(247,212,187)"
             ],
             [
              1,
              "rgb(250,234,220)"
             ]
            ],
            "type": "heatmapgl"
           }
          ],
          "histogram": [
           {
            "marker": {
             "pattern": {
              "fillmode": "overlay",
              "size": 10,
              "solidity": 0.2
             }
            },
            "type": "histogram"
           }
          ],
          "histogram2d": [
           {
            "colorbar": {
             "outlinewidth": 0,
             "tickcolor": "rgb(36,36,36)",
             "ticklen": 8,
             "ticks": "outside",
             "tickwidth": 2
            },
            "colorscale": [
             [
              0,
              "rgb(2,4,25)"
             ],
             [
              0.06274509803921569,
              "rgb(24,15,41)"
             ],
             [
              0.12549019607843137,
              "rgb(47,23,57)"
             ],
             [
              0.18823529411764706,
              "rgb(71,28,72)"
             ],
             [
              0.25098039215686274,
              "rgb(97,30,82)"
             ],
             [
              0.3137254901960784,
              "rgb(123,30,89)"
             ],
             [
              0.3764705882352941,
              "rgb(150,27,91)"
             ],
             [
              0.4392156862745098,
              "rgb(177,22,88)"
             ],
             [
              0.5019607843137255,
              "rgb(203,26,79)"
             ],
             [
              0.5647058823529412,
              "rgb(223,47,67)"
             ],
             [
              0.6274509803921569,
              "rgb(236,76,61)"
             ],
             [
              0.6901960784313725,
              "rgb(242,107,73)"
             ],
             [
              0.7529411764705882,
              "rgb(244,135,95)"
             ],
             [
              0.8156862745098039,
              "rgb(245,162,122)"
             ],
             [
              0.8784313725490196,
              "rgb(246,188,153)"
             ],
             [
              0.9411764705882353,
              "rgb(247,212,187)"
             ],
             [
              1,
              "rgb(250,234,220)"
             ]
            ],
            "type": "histogram2d"
           }
          ],
          "histogram2dcontour": [
           {
            "colorbar": {
             "outlinewidth": 0,
             "tickcolor": "rgb(36,36,36)",
             "ticklen": 8,
             "ticks": "outside",
             "tickwidth": 2
            },
            "colorscale": [
             [
              0,
              "rgb(2,4,25)"
             ],
             [
              0.06274509803921569,
              "rgb(24,15,41)"
             ],
             [
              0.12549019607843137,
              "rgb(47,23,57)"
             ],
             [
              0.18823529411764706,
              "rgb(71,28,72)"
             ],
             [
              0.25098039215686274,
              "rgb(97,30,82)"
             ],
             [
              0.3137254901960784,
              "rgb(123,30,89)"
             ],
             [
              0.3764705882352941,
              "rgb(150,27,91)"
             ],
             [
              0.4392156862745098,
              "rgb(177,22,88)"
             ],
             [
              0.5019607843137255,
              "rgb(203,26,79)"
             ],
             [
              0.5647058823529412,
              "rgb(223,47,67)"
             ],
             [
              0.6274509803921569,
              "rgb(236,76,61)"
             ],
             [
              0.6901960784313725,
              "rgb(242,107,73)"
             ],
             [
              0.7529411764705882,
              "rgb(244,135,95)"
             ],
             [
              0.8156862745098039,
              "rgb(245,162,122)"
             ],
             [
              0.8784313725490196,
              "rgb(246,188,153)"
             ],
             [
              0.9411764705882353,
              "rgb(247,212,187)"
             ],
             [
              1,
              "rgb(250,234,220)"
             ]
            ],
            "type": "histogram2dcontour"
           }
          ],
          "mesh3d": [
           {
            "colorbar": {
             "outlinewidth": 0,
             "tickcolor": "rgb(36,36,36)",
             "ticklen": 8,
             "ticks": "outside",
             "tickwidth": 2
            },
            "type": "mesh3d"
           }
          ],
          "parcoords": [
           {
            "line": {
             "colorbar": {
              "outlinewidth": 0,
              "tickcolor": "rgb(36,36,36)",
              "ticklen": 8,
              "ticks": "outside",
              "tickwidth": 2
             }
            },
            "type": "parcoords"
           }
          ],
          "pie": [
           {
            "automargin": true,
            "type": "pie"
           }
          ],
          "scatter": [
           {
            "marker": {
             "colorbar": {
              "outlinewidth": 0,
              "tickcolor": "rgb(36,36,36)",
              "ticklen": 8,
              "ticks": "outside",
              "tickwidth": 2
             }
            },
            "type": "scatter"
           }
          ],
          "scatter3d": [
           {
            "line": {
             "colorbar": {
              "outlinewidth": 0,
              "tickcolor": "rgb(36,36,36)",
              "ticklen": 8,
              "ticks": "outside",
              "tickwidth": 2
             }
            },
            "marker": {
             "colorbar": {
              "outlinewidth": 0,
              "tickcolor": "rgb(36,36,36)",
              "ticklen": 8,
              "ticks": "outside",
              "tickwidth": 2
             }
            },
            "type": "scatter3d"
           }
          ],
          "scattercarpet": [
           {
            "marker": {
             "colorbar": {
              "outlinewidth": 0,
              "tickcolor": "rgb(36,36,36)",
              "ticklen": 8,
              "ticks": "outside",
              "tickwidth": 2
             }
            },
            "type": "scattercarpet"
           }
          ],
          "scattergeo": [
           {
            "marker": {
             "colorbar": {
              "outlinewidth": 0,
              "tickcolor": "rgb(36,36,36)",
              "ticklen": 8,
              "ticks": "outside",
              "tickwidth": 2
             }
            },
            "type": "scattergeo"
           }
          ],
          "scattergl": [
           {
            "marker": {
             "colorbar": {
              "outlinewidth": 0,
              "tickcolor": "rgb(36,36,36)",
              "ticklen": 8,
              "ticks": "outside",
              "tickwidth": 2
             }
            },
            "type": "scattergl"
           }
          ],
          "scattermapbox": [
           {
            "marker": {
             "colorbar": {
              "outlinewidth": 0,
              "tickcolor": "rgb(36,36,36)",
              "ticklen": 8,
              "ticks": "outside",
              "tickwidth": 2
             }
            },
            "type": "scattermapbox"
           }
          ],
          "scatterpolar": [
           {
            "marker": {
             "colorbar": {
              "outlinewidth": 0,
              "tickcolor": "rgb(36,36,36)",
              "ticklen": 8,
              "ticks": "outside",
              "tickwidth": 2
             }
            },
            "type": "scatterpolar"
           }
          ],
          "scatterpolargl": [
           {
            "marker": {
             "colorbar": {
              "outlinewidth": 0,
              "tickcolor": "rgb(36,36,36)",
              "ticklen": 8,
              "ticks": "outside",
              "tickwidth": 2
             }
            },
            "type": "scatterpolargl"
           }
          ],
          "scatterternary": [
           {
            "marker": {
             "colorbar": {
              "outlinewidth": 0,
              "tickcolor": "rgb(36,36,36)",
              "ticklen": 8,
              "ticks": "outside",
              "tickwidth": 2
             }
            },
            "type": "scatterternary"
           }
          ],
          "surface": [
           {
            "colorbar": {
             "outlinewidth": 0,
             "tickcolor": "rgb(36,36,36)",
             "ticklen": 8,
             "ticks": "outside",
             "tickwidth": 2
            },
            "colorscale": [
             [
              0,
              "rgb(2,4,25)"
             ],
             [
              0.06274509803921569,
              "rgb(24,15,41)"
             ],
             [
              0.12549019607843137,
              "rgb(47,23,57)"
             ],
             [
              0.18823529411764706,
              "rgb(71,28,72)"
             ],
             [
              0.25098039215686274,
              "rgb(97,30,82)"
             ],
             [
              0.3137254901960784,
              "rgb(123,30,89)"
             ],
             [
              0.3764705882352941,
              "rgb(150,27,91)"
             ],
             [
              0.4392156862745098,
              "rgb(177,22,88)"
             ],
             [
              0.5019607843137255,
              "rgb(203,26,79)"
             ],
             [
              0.5647058823529412,
              "rgb(223,47,67)"
             ],
             [
              0.6274509803921569,
              "rgb(236,76,61)"
             ],
             [
              0.6901960784313725,
              "rgb(242,107,73)"
             ],
             [
              0.7529411764705882,
              "rgb(244,135,95)"
             ],
             [
              0.8156862745098039,
              "rgb(245,162,122)"
             ],
             [
              0.8784313725490196,
              "rgb(246,188,153)"
             ],
             [
              0.9411764705882353,
              "rgb(247,212,187)"
             ],
             [
              1,
              "rgb(250,234,220)"
             ]
            ],
            "type": "surface"
           }
          ],
          "table": [
           {
            "cells": {
             "fill": {
              "color": "rgb(231,231,240)"
             },
             "line": {
              "color": "white"
             }
            },
            "header": {
             "fill": {
              "color": "rgb(183,183,191)"
             },
             "line": {
              "color": "white"
             }
            },
            "type": "table"
           }
          ]
         },
         "layout": {
          "annotationdefaults": {
           "arrowcolor": "rgb(67,103,167)"
          },
          "autotypenumbers": "strict",
          "coloraxis": {
           "colorbar": {
            "outlinewidth": 0,
            "tickcolor": "rgb(36,36,36)",
            "ticklen": 8,
            "ticks": "outside",
            "tickwidth": 2
           }
          },
          "colorscale": {
           "sequential": [
            [
             0,
             "rgb(2,4,25)"
            ],
            [
             0.06274509803921569,
             "rgb(24,15,41)"
            ],
            [
             0.12549019607843137,
             "rgb(47,23,57)"
            ],
            [
             0.18823529411764706,
             "rgb(71,28,72)"
            ],
            [
             0.25098039215686274,
             "rgb(97,30,82)"
            ],
            [
             0.3137254901960784,
             "rgb(123,30,89)"
            ],
            [
             0.3764705882352941,
             "rgb(150,27,91)"
            ],
            [
             0.4392156862745098,
             "rgb(177,22,88)"
            ],
            [
             0.5019607843137255,
             "rgb(203,26,79)"
            ],
            [
             0.5647058823529412,
             "rgb(223,47,67)"
            ],
            [
             0.6274509803921569,
             "rgb(236,76,61)"
            ],
            [
             0.6901960784313725,
             "rgb(242,107,73)"
            ],
            [
             0.7529411764705882,
             "rgb(244,135,95)"
            ],
            [
             0.8156862745098039,
             "rgb(245,162,122)"
            ],
            [
             0.8784313725490196,
             "rgb(246,188,153)"
            ],
            [
             0.9411764705882353,
             "rgb(247,212,187)"
            ],
            [
             1,
             "rgb(250,234,220)"
            ]
           ],
           "sequentialminus": [
            [
             0,
             "rgb(2,4,25)"
            ],
            [
             0.06274509803921569,
             "rgb(24,15,41)"
            ],
            [
             0.12549019607843137,
             "rgb(47,23,57)"
            ],
            [
             0.18823529411764706,
             "rgb(71,28,72)"
            ],
            [
             0.25098039215686274,
             "rgb(97,30,82)"
            ],
            [
             0.3137254901960784,
             "rgb(123,30,89)"
            ],
            [
             0.3764705882352941,
             "rgb(150,27,91)"
            ],
            [
             0.4392156862745098,
             "rgb(177,22,88)"
            ],
            [
             0.5019607843137255,
             "rgb(203,26,79)"
            ],
            [
             0.5647058823529412,
             "rgb(223,47,67)"
            ],
            [
             0.6274509803921569,
             "rgb(236,76,61)"
            ],
            [
             0.6901960784313725,
             "rgb(242,107,73)"
            ],
            [
             0.7529411764705882,
             "rgb(244,135,95)"
            ],
            [
             0.8156862745098039,
             "rgb(245,162,122)"
            ],
            [
             0.8784313725490196,
             "rgb(246,188,153)"
            ],
            [
             0.9411764705882353,
             "rgb(247,212,187)"
            ],
            [
             1,
             "rgb(250,234,220)"
            ]
           ]
          },
          "colorway": [
           "rgb(76,114,176)",
           "rgb(221,132,82)",
           "rgb(85,168,104)",
           "rgb(196,78,82)",
           "rgb(129,114,179)",
           "rgb(147,120,96)",
           "rgb(218,139,195)",
           "rgb(140,140,140)",
           "rgb(204,185,116)",
           "rgb(100,181,205)"
          ],
          "font": {
           "color": "rgb(36,36,36)"
          },
          "geo": {
           "bgcolor": "white",
           "lakecolor": "white",
           "landcolor": "rgb(234,234,242)",
           "showlakes": true,
           "showland": true,
           "subunitcolor": "white"
          },
          "hoverlabel": {
           "align": "left"
          },
          "hovermode": "closest",
          "paper_bgcolor": "white",
          "plot_bgcolor": "rgb(234,234,242)",
          "polar": {
           "angularaxis": {
            "gridcolor": "white",
            "linecolor": "white",
            "showgrid": true,
            "ticks": ""
           },
           "bgcolor": "rgb(234,234,242)",
           "radialaxis": {
            "gridcolor": "white",
            "linecolor": "white",
            "showgrid": true,
            "ticks": ""
           }
          },
          "scene": {
           "xaxis": {
            "backgroundcolor": "rgb(234,234,242)",
            "gridcolor": "white",
            "gridwidth": 2,
            "linecolor": "white",
            "showbackground": true,
            "showgrid": true,
            "ticks": "",
            "zerolinecolor": "white"
           },
           "yaxis": {
            "backgroundcolor": "rgb(234,234,242)",
            "gridcolor": "white",
            "gridwidth": 2,
            "linecolor": "white",
            "showbackground": true,
            "showgrid": true,
            "ticks": "",
            "zerolinecolor": "white"
           },
           "zaxis": {
            "backgroundcolor": "rgb(234,234,242)",
            "gridcolor": "white",
            "gridwidth": 2,
            "linecolor": "white",
            "showbackground": true,
            "showgrid": true,
            "ticks": "",
            "zerolinecolor": "white"
           }
          },
          "shapedefaults": {
           "fillcolor": "rgb(67,103,167)",
           "line": {
            "width": 0
           },
           "opacity": 0.5
          },
          "ternary": {
           "aaxis": {
            "gridcolor": "white",
            "linecolor": "white",
            "showgrid": true,
            "ticks": ""
           },
           "baxis": {
            "gridcolor": "white",
            "linecolor": "white",
            "showgrid": true,
            "ticks": ""
           },
           "bgcolor": "rgb(234,234,242)",
           "caxis": {
            "gridcolor": "white",
            "linecolor": "white",
            "showgrid": true,
            "ticks": ""
           }
          },
          "xaxis": {
           "automargin": true,
           "gridcolor": "white",
           "linecolor": "white",
           "showgrid": true,
           "ticks": "",
           "title": {
            "standoff": 15
           },
           "zerolinecolor": "white"
          },
          "yaxis": {
           "automargin": true,
           "gridcolor": "white",
           "linecolor": "white",
           "showgrid": true,
           "ticks": "",
           "title": {
            "standoff": 15
           },
           "zerolinecolor": "white"
          }
         }
        },
        "title": {
         "text": "<b>Flowlines 6WP Plan v Actual North<b>",
         "x": 0.3
        },
        "width": 1403,
        "xaxis": {
         "anchor": "y",
         "domain": [
          0,
          1
         ],
         "range": [
          "2022-10-26T00:00:00",
          "2024-06-05"
         ],
         "title": {
          "text": "<b>Date<b>"
         }
        },
        "yaxis": {
         "anchor": "x",
         "domain": [
          0,
          1
         ],
         "range": [
          -0.25,
          13.25
         ],
         "tickvals": [
          0,
          1,
          2,
          3,
          4,
          5,
          6,
          7,
          8,
          9,
          10,
          11,
          12,
          13,
          14
         ],
         "title": {
          "standoff": 30,
          "text": "<b>Floor<b>"
         }
        }
       }
      }
     },
     "metadata": {},
     "output_type": "display_data"
    },
    {
     "data": {
      "application/vnd.plotly.v1+json": {
       "config": {
        "plotlyServerURL": "https://plot.ly"
       },
       "data": [
        {
         "hoverinfo": "skip",
         "hovertemplate": "x=%{x}<br>y=%{y}<extra></extra>",
         "legendgroup": "",
         "line": {
          "color": "black",
          "dash": "solid",
          "width": 5
         },
         "marker": {
          "symbol": "circle"
         },
         "mode": "lines",
         "name": "",
         "opacity": 0.05,
         "orientation": "v",
         "showlegend": false,
         "type": "scatter",
         "x": [
          "2022-11-22",
          "2023-03-03",
          null,
          "2022-12-06",
          "2023-01-30",
          null,
          "2023-01-12",
          "2023-02-24",
          null,
          "2023-01-21",
          "2023-02-21",
          null,
          "2023-01-27",
          "2023-02-21",
          null,
          "2023-02-07",
          "2023-03-14",
          null,
          "2023-02-21",
          "2023-03-07",
          null,
          "2023-02-21",
          "2023-03-09",
          null
         ],
         "xaxis": "x",
         "y": [
          0,
          1,
          null,
          1,
          2,
          null,
          2,
          3,
          null,
          3,
          4,
          null,
          4,
          5,
          null,
          5,
          6,
          null,
          6,
          7,
          null,
          7,
          7.833333333333333,
          null
         ],
         "yaxis": "y"
        },
        {
         "customdata": [
          [
           17.333333333333332,
           "L1",
           "2022-11-22",
           "2022-11-28",
           0
          ],
          [
           17.333333333333332,
           "L1",
           "2022-11-22",
           "2022-11-28",
           17.333333333333332
          ],
          [
           17.333333333333332,
           null,
           null,
           null,
           null
          ]
         ],
         "hovertemplate": "Date Range: %{customdata[2]} to %{customdata[3]}<br>Progress in period: %{customdata[0]:.2f} %<br>Cumulative Progress: %{customdata[4]:.2f} %<br>Level: %{customdata[1]}",
         "legendgroup": "17.333333333333332",
         "line": {
          "color": "#dfd800",
          "dash": "solid",
          "width": 5
         },
         "marker": {
          "symbol": "circle"
         },
         "mode": "lines",
         "name": "",
         "orientation": "v",
         "showlegend": true,
         "type": "scatter",
         "x": [
          "2022-11-22",
          "2022-11-28",
          null
         ],
         "xaxis": "x",
         "y": [
          0,
          0.0594059405940594,
          null
         ],
         "yaxis": "y"
        },
        {
         "customdata": [
          [
           1.1666666666666679,
           "L1",
           "2022-11-28",
           "2022-12-01",
           17.333333333333332
          ],
          [
           1.1666666666666679,
           "L1",
           "2022-11-28",
           "2022-12-01",
           18.5
          ],
          [
           1.1666666666666679,
           null,
           null,
           null,
           null
          ]
         ],
         "hovertemplate": "Date Range: %{customdata[2]} to %{customdata[3]}<br>Progress in period: %{customdata[0]:.2f} %<br>Cumulative Progress: %{customdata[4]:.2f} %<br>Level: %{customdata[1]}",
         "legendgroup": "1.1666666666666679",
         "line": {
          "color": "#ff1000",
          "dash": "solid",
          "width": 5
         },
         "marker": {
          "symbol": "circle"
         },
         "mode": "lines",
         "name": "",
         "orientation": "v",
         "showlegend": true,
         "type": "scatter",
         "x": [
          "2022-11-28",
          "2022-12-01",
          null
         ],
         "xaxis": "x",
         "y": [
          0.0594059405940594,
          0.0891089108910891,
          null
         ],
         "yaxis": "y"
        },
        {
         "customdata": [
          [
           7.833333333333332,
           "L1",
           "2022-12-01",
           "2022-12-05",
           18.5
          ],
          [
           7.833333333333332,
           "L1",
           "2022-12-01",
           "2022-12-05",
           26.333333333333332
          ],
          [
           7.833333333333332,
           null,
           null,
           null,
           null
          ]
         ],
         "hovertemplate": "Date Range: %{customdata[2]} to %{customdata[3]}<br>Progress in period: %{customdata[0]:.2f} %<br>Cumulative Progress: %{customdata[4]:.2f} %<br>Level: %{customdata[1]}",
         "legendgroup": "7.833333333333332",
         "line": {
          "color": "#ff6f00",
          "dash": "solid",
          "width": 5
         },
         "marker": {
          "symbol": "circle"
         },
         "mode": "lines",
         "name": "",
         "orientation": "v",
         "showlegend": true,
         "type": "scatter",
         "x": [
          "2022-12-01",
          "2022-12-05",
          null
         ],
         "xaxis": "x",
         "y": [
          0.0891089108910891,
          0.12871287128712872,
          null
         ],
         "yaxis": "y"
        },
        {
         "customdata": [
          [
           44.66666666666667,
           "L1",
           "2023-01-12",
           "2023-01-16",
           26.333333333333332
          ],
          [
           44.66666666666667,
           "L1",
           "2023-01-12",
           "2023-01-16",
           71
          ],
          [
           44.66666666666667,
           null,
           null,
           null,
           null
          ]
         ],
         "hovertemplate": "Date Range: %{customdata[2]} to %{customdata[3]}<br>Progress in period: %{customdata[0]:.2f} %<br>Cumulative Progress: %{customdata[4]:.2f} %<br>Level: %{customdata[1]}",
         "legendgroup": "44.66666666666667",
         "line": {
          "color": "#34eb00",
          "dash": "solid",
          "width": 5
         },
         "marker": {
          "symbol": "circle"
         },
         "mode": "lines",
         "name": "",
         "orientation": "v",
         "showlegend": true,
         "type": "scatter",
         "x": [
          "2023-01-12",
          "2023-01-16",
          null
         ],
         "xaxis": "x",
         "y": [
          0.504950495049505,
          0.5445544554455446,
          null
         ],
         "yaxis": "y"
        },
        {
         "customdata": [
          [
           9.333333333333329,
           "L1",
           "2023-01-17",
           "2023-01-19",
           71
          ],
          [
           9.333333333333329,
           "L1",
           "2023-01-17",
           "2023-01-19",
           80.33333333333333
          ],
          [
           9.333333333333329,
           null,
           null,
           null,
           null
          ]
         ],
         "hovertemplate": "Date Range: %{customdata[2]} to %{customdata[3]}<br>Progress in period: %{customdata[0]:.2f} %<br>Cumulative Progress: %{customdata[4]:.2f} %<br>Level: %{customdata[1]}",
         "legendgroup": "9.333333333333329",
         "line": {
          "color": "#ff8400",
          "dash": "solid",
          "width": 5
         },
         "marker": {
          "symbol": "circle"
         },
         "mode": "lines",
         "name": "",
         "orientation": "v",
         "showlegend": true,
         "type": "scatter",
         "x": [
          "2023-01-17",
          "2023-01-19",
          null
         ],
         "xaxis": "x",
         "y": [
          0.5544554455445545,
          0.5742574257425742,
          null
         ],
         "yaxis": "y"
        },
        {
         "customdata": [
          [
           12.333333333333343,
           "L1",
           "2023-01-21",
           "2023-01-23",
           80.33333333333333
          ],
          [
           12.333333333333343,
           "L1",
           "2023-01-21",
           "2023-01-23",
           92.66666666666667
          ],
          [
           12.333333333333343,
           null,
           null,
           null,
           null
          ]
         ],
         "hovertemplate": "Date Range: %{customdata[2]} to %{customdata[3]}<br>Progress in period: %{customdata[0]:.2f} %<br>Cumulative Progress: %{customdata[4]:.2f} %<br>Level: %{customdata[1]}",
         "legendgroup": "12.333333333333343",
         "line": {
          "color": "#ffae00",
          "dash": "solid",
          "width": 5
         },
         "marker": {
          "symbol": "circle"
         },
         "mode": "lines",
         "name": "",
         "orientation": "v",
         "showlegend": true,
         "type": "scatter",
         "x": [
          "2023-01-21",
          "2023-01-23",
          null
         ],
         "xaxis": "x",
         "y": [
          0.594059405940594,
          0.6138613861386139,
          null
         ],
         "yaxis": "y"
        },
        {
         "customdata": [
          [
           0.6666666666666572,
           "L1",
           "2023-01-27",
           "2023-01-30",
           92.66666666666667
          ],
          [
           0.6666666666666572,
           "L1",
           "2023-01-27",
           "2023-01-30",
           93.33333333333333
          ],
          [
           0.6666666666666572,
           null,
           null,
           null,
           null
          ]
         ],
         "hovertemplate": "Date Range: %{customdata[2]} to %{customdata[3]}<br>Progress in period: %{customdata[0]:.2f} %<br>Cumulative Progress: %{customdata[4]:.2f} %<br>Level: %{customdata[1]}",
         "legendgroup": "0.6666666666666572",
         "line": {
          "color": "#ff0900",
          "dash": "solid",
          "width": 5
         },
         "marker": {
          "symbol": "circle"
         },
         "mode": "lines",
         "name": "",
         "orientation": "v",
         "showlegend": true,
         "type": "scatter",
         "x": [
          "2023-01-27",
          "2023-01-30",
          null
         ],
         "xaxis": "x",
         "y": [
          0.6534653465346535,
          0.6831683168316832,
          null
         ],
         "yaxis": "y"
        },
        {
         "customdata": [
          [
           5.833333333333343,
           "L1",
           "2023-02-13",
           "2023-02-21",
           93.33333333333333
          ],
          [
           5.833333333333343,
           "L1",
           "2023-02-13",
           "2023-02-21",
           99.16666666666667
          ],
          [
           5.833333333333343,
           null,
           null,
           null,
           null
          ]
         ],
         "hovertemplate": "Date Range: %{customdata[2]} to %{customdata[3]}<br>Progress in period: %{customdata[0]:.2f} %<br>Cumulative Progress: %{customdata[4]:.2f} %<br>Level: %{customdata[1]}",
         "legendgroup": "5.833333333333343",
         "line": {
          "color": "#ff5200",
          "dash": "solid",
          "width": 5
         },
         "marker": {
          "symbol": "circle"
         },
         "mode": "lines",
         "name": "",
         "orientation": "v",
         "showlegend": true,
         "type": "scatter",
         "x": [
          "2023-02-13",
          "2023-02-21",
          null
         ],
         "xaxis": "x",
         "y": [
          0.8217821782178217,
          0.900990099009901,
          null
         ],
         "yaxis": "y"
        },
        {
         "customdata": [
          [
           0.8333333333333286,
           "L1",
           "2023-02-27",
           "2023-03-03",
           99.16666666666667
          ],
          [
           0.8333333333333286,
           "L1",
           "2023-02-27",
           "2023-03-03",
           100
          ],
          [
           0.8333333333333286,
           null,
           null,
           null,
           null
          ]
         ],
         "hovertemplate": "Date Range: %{customdata[2]} to %{customdata[3]}<br>Progress in period: %{customdata[0]:.2f} %<br>Cumulative Progress: %{customdata[4]:.2f} %<br>Level: %{customdata[1]}",
         "legendgroup": "0.8333333333333286",
         "line": {
          "color": "#ff0c00",
          "dash": "solid",
          "width": 5
         },
         "marker": {
          "symbol": "circle"
         },
         "mode": "lines",
         "name": "",
         "orientation": "v",
         "showlegend": true,
         "type": "scatter",
         "x": [
          "2023-02-27",
          "2023-03-03",
          null
         ],
         "xaxis": "x",
         "y": [
          0.9603960396039604,
          1,
          null
         ],
         "yaxis": "y"
        },
        {
         "customdata": [
          [
           17.166666666666668,
           "L2",
           "2022-12-06",
           "2022-12-12",
           0
          ],
          [
           17.166666666666668,
           "L2",
           "2022-12-06",
           "2022-12-12",
           17.166666666666668
          ],
          [
           17.166666666666668,
           null,
           null,
           null,
           null
          ]
         ],
         "hovertemplate": "Date Range: %{customdata[2]} to %{customdata[3]}<br>Progress in period: %{customdata[0]:.2f} %<br>Cumulative Progress: %{customdata[4]:.2f} %<br>Level: %{customdata[1]}",
         "legendgroup": "17.166666666666668",
         "line": {
          "color": "#e2d700",
          "dash": "solid",
          "width": 5
         },
         "marker": {
          "symbol": "circle"
         },
         "mode": "lines",
         "name": "",
         "orientation": "v",
         "showlegend": true,
         "type": "scatter",
         "x": [
          "2022-12-06",
          "2022-12-12",
          null
         ],
         "xaxis": "x",
         "y": [
          1,
          1.1090909090909091,
          null
         ],
         "yaxis": "y"
        },
        {
         "customdata": [
          [
           65,
           "L2",
           "2023-01-12",
           "2023-01-16",
           17.166666666666668
          ],
          [
           65,
           "L2",
           "2023-01-12",
           "2023-01-16",
           82.16666666666667
          ],
          [
           65,
           null,
           null,
           null,
           null
          ]
         ],
         "hovertemplate": "Date Range: %{customdata[2]} to %{customdata[3]}<br>Progress in period: %{customdata[0]:.2f} %<br>Cumulative Progress: %{customdata[4]:.2f} %<br>Level: %{customdata[1]}",
         "legendgroup": "65.0",
         "line": {
          "color": "#34eb00",
          "dash": "solid",
          "width": 5
         },
         "marker": {
          "symbol": "circle"
         },
         "mode": "lines",
         "name": "",
         "orientation": "v",
         "showlegend": true,
         "type": "scatter",
         "x": [
          "2023-01-12",
          "2023-01-16",
          null
         ],
         "xaxis": "x",
         "y": [
          1.6727272727272728,
          1.7454545454545456,
          null
         ],
         "yaxis": "y"
        },
        {
         "customdata": [
          [
           1.5,
           "L2",
           "2023-01-17",
           "2023-01-19",
           82.16666666666667
          ],
          [
           1.5,
           "L2",
           "2023-01-17",
           "2023-01-19",
           83.66666666666667
          ],
          [
           1.5,
           null,
           null,
           null,
           null
          ]
         ],
         "hovertemplate": "Date Range: %{customdata[2]} to %{customdata[3]}<br>Progress in period: %{customdata[0]:.2f} %<br>Cumulative Progress: %{customdata[4]:.2f} %<br>Level: %{customdata[1]}",
         "legendgroup": "1.5",
         "line": {
          "color": "#ff1500",
          "dash": "solid",
          "width": 5
         },
         "marker": {
          "symbol": "circle"
         },
         "mode": "lines",
         "name": "",
         "orientation": "v",
         "showlegend": true,
         "type": "scatter",
         "x": [
          "2023-01-17",
          "2023-01-19",
          null
         ],
         "xaxis": "x",
         "y": [
          1.7636363636363637,
          1.8,
          null
         ],
         "yaxis": "y"
        },
        {
         "customdata": [
          [
           4.666666666666657,
           "L2",
           "2023-01-21",
           "2023-01-23",
           83.66666666666667
          ],
          [
           4.666666666666657,
           "L2",
           "2023-01-21",
           "2023-01-23",
           88.33333333333333
          ],
          [
           4.666666666666657,
           null,
           null,
           null,
           null
          ]
         ],
         "hovertemplate": "Date Range: %{customdata[2]} to %{customdata[3]}<br>Progress in period: %{customdata[0]:.2f} %<br>Cumulative Progress: %{customdata[4]:.2f} %<br>Level: %{customdata[1]}",
         "legendgroup": "4.666666666666657",
         "line": {
          "color": "#ff4200",
          "dash": "solid",
          "width": 5
         },
         "marker": {
          "symbol": "circle"
         },
         "mode": "lines",
         "name": "",
         "orientation": "v",
         "showlegend": true,
         "type": "scatter",
         "x": [
          "2023-01-21",
          "2023-01-23",
          null
         ],
         "xaxis": "x",
         "y": [
          1.8363636363636364,
          1.8727272727272726,
          null
         ],
         "yaxis": "y"
        },
        {
         "customdata": [
          [
           11.666666666666671,
           "L2",
           "2023-01-27",
           "2023-01-30",
           88.33333333333333
          ],
          [
           11.666666666666671,
           "L2",
           "2023-01-27",
           "2023-01-30",
           100
          ],
          [
           11.666666666666671,
           null,
           null,
           null,
           null
          ]
         ],
         "hovertemplate": "Date Range: %{customdata[2]} to %{customdata[3]}<br>Progress in period: %{customdata[0]:.2f} %<br>Cumulative Progress: %{customdata[4]:.2f} %<br>Level: %{customdata[1]}",
         "legendgroup": "11.666666666666671",
         "line": {
          "color": "#ffa500",
          "dash": "solid",
          "width": 5
         },
         "marker": {
          "symbol": "circle"
         },
         "mode": "lines",
         "name": "",
         "orientation": "v",
         "showlegend": true,
         "type": "scatter",
         "x": [
          "2023-01-27",
          "2023-01-30",
          null
         ],
         "xaxis": "x",
         "y": [
          1.9454545454545453,
          2,
          null
         ],
         "yaxis": "y"
        },
        {
         "customdata": [
          [
           19.166666666666668,
           "L3",
           "2023-01-12",
           "2023-01-16",
           0
          ],
          [
           19.166666666666668,
           "L3",
           "2023-01-12",
           "2023-01-16",
           19.166666666666668
          ],
          [
           19.166666666666668,
           null,
           null,
           null,
           null
          ]
         ],
         "hovertemplate": "Date Range: %{customdata[2]} to %{customdata[3]}<br>Progress in period: %{customdata[0]:.2f} %<br>Cumulative Progress: %{customdata[4]:.2f} %<br>Level: %{customdata[1]}",
         "legendgroup": "19.166666666666668",
         "line": {
          "color": "#c7da00",
          "dash": "solid",
          "width": 5
         },
         "marker": {
          "symbol": "circle"
         },
         "mode": "lines",
         "name": "",
         "orientation": "v",
         "showlegend": true,
         "type": "scatter",
         "x": [
          "2023-01-12",
          "2023-01-16",
          null
         ],
         "xaxis": "x",
         "y": [
          2,
          2.0930232558139537,
          null
         ],
         "yaxis": "y"
        },
        {
         "customdata": [
          [
           2,
           "L3",
           "2023-01-17",
           "2023-01-19",
           19.166666666666668
          ],
          [
           2,
           "L3",
           "2023-01-17",
           "2023-01-19",
           21.166666666666668
          ],
          [
           2,
           null,
           null,
           null,
           null
          ]
         ],
         "hovertemplate": "Date Range: %{customdata[2]} to %{customdata[3]}<br>Progress in period: %{customdata[0]:.2f} %<br>Cumulative Progress: %{customdata[4]:.2f} %<br>Level: %{customdata[1]}",
         "legendgroup": "2.0",
         "line": {
          "color": "#ff1c00",
          "dash": "solid",
          "width": 5
         },
         "marker": {
          "symbol": "circle"
         },
         "mode": "lines",
         "name": "",
         "orientation": "v",
         "showlegend": true,
         "type": "scatter",
         "x": [
          "2023-01-17",
          "2023-01-19",
          null
         ],
         "xaxis": "x",
         "y": [
          2.116279069767442,
          2.1627906976744184,
          null
         ],
         "yaxis": "y"
        },
        {
         "customdata": [
          [
           13.166666666666668,
           "L3",
           "2023-01-21",
           "2023-01-23",
           21.166666666666668
          ],
          [
           13.166666666666668,
           "L3",
           "2023-01-21",
           "2023-01-23",
           34.333333333333336
          ],
          [
           13.166666666666668,
           null,
           null,
           null,
           null
          ]
         ],
         "hovertemplate": "Date Range: %{customdata[2]} to %{customdata[3]}<br>Progress in period: %{customdata[0]:.2f} %<br>Cumulative Progress: %{customdata[4]:.2f} %<br>Level: %{customdata[1]}",
         "legendgroup": "13.166666666666668",
         "line": {
          "color": "#ffba00",
          "dash": "solid",
          "width": 5
         },
         "marker": {
          "symbol": "circle"
         },
         "mode": "lines",
         "name": "",
         "orientation": "v",
         "showlegend": true,
         "type": "scatter",
         "x": [
          "2023-01-21",
          "2023-01-23",
          null
         ],
         "xaxis": "x",
         "y": [
          2.2093023255813953,
          2.255813953488372,
          null
         ],
         "yaxis": "y"
        },
        {
         "customdata": [
          [
           24.33333333333333,
           "L3",
           "2023-01-23",
           "2023-01-26",
           34.333333333333336
          ],
          [
           24.33333333333333,
           "L3",
           "2023-01-23",
           "2023-01-26",
           58.666666666666664
          ],
          [
           24.33333333333333,
           null,
           null,
           null,
           null
          ]
         ],
         "hovertemplate": "Date Range: %{customdata[2]} to %{customdata[3]}<br>Progress in period: %{customdata[0]:.2f} %<br>Cumulative Progress: %{customdata[4]:.2f} %<br>Level: %{customdata[1]}",
         "legendgroup": "24.33333333333333",
         "line": {
          "color": "#81e200",
          "dash": "solid",
          "width": 5
         },
         "marker": {
          "symbol": "circle"
         },
         "mode": "lines",
         "name": "",
         "orientation": "v",
         "showlegend": true,
         "type": "scatter",
         "x": [
          "2023-01-23",
          "2023-01-26",
          null
         ],
         "xaxis": "x",
         "y": [
          2.255813953488372,
          2.3255813953488373,
          null
         ],
         "yaxis": "y"
        },
        {
         "customdata": [
          [
           30.000000000000007,
           "L3",
           "2023-01-27",
           "2023-01-30",
           58.666666666666664
          ],
          [
           30.000000000000007,
           "L3",
           "2023-01-27",
           "2023-01-30",
           88.66666666666667
          ],
          [
           30.000000000000007,
           null,
           null,
           null,
           null
          ]
         ],
         "hovertemplate": "Date Range: %{customdata[2]} to %{customdata[3]}<br>Progress in period: %{customdata[0]:.2f} %<br>Cumulative Progress: %{customdata[4]:.2f} %<br>Level: %{customdata[1]}",
         "legendgroup": "30.000000000000007",
         "line": {
          "color": "#34eb00",
          "dash": "solid",
          "width": 5
         },
         "marker": {
          "symbol": "circle"
         },
         "mode": "lines",
         "name": "",
         "orientation": "v",
         "showlegend": true,
         "type": "scatter",
         "x": [
          "2023-01-27",
          "2023-01-30",
          null
         ],
         "xaxis": "x",
         "y": [
          2.3488372093023258,
          2.4186046511627906,
          null
         ],
         "yaxis": "y"
        },
        {
         "customdata": [
          [
           1,
           "L3",
           "2023-02-02",
           "2023-02-07",
           88.66666666666667
          ],
          [
           1,
           "L3",
           "2023-02-02",
           "2023-02-07",
           89.66666666666667
          ],
          [
           1,
           null,
           null,
           null,
           null
          ],
          [
           1,
           "L3",
           "2023-02-21",
           "2023-02-24",
           99
          ],
          [
           1,
           "L3",
           "2023-02-21",
           "2023-02-24",
           100
          ],
          [
           1,
           null,
           null,
           null,
           null
          ]
         ],
         "hovertemplate": "Date Range: %{customdata[2]} to %{customdata[3]}<br>Progress in period: %{customdata[0]:.2f} %<br>Cumulative Progress: %{customdata[4]:.2f} %<br>Level: %{customdata[1]}",
         "legendgroup": "1.0",
         "line": {
          "color": "#ff0e00",
          "dash": "solid",
          "width": 5
         },
         "marker": {
          "symbol": "circle"
         },
         "mode": "lines",
         "name": "",
         "orientation": "v",
         "showlegend": true,
         "type": "scatter",
         "x": [
          "2023-02-02",
          "2023-02-07",
          null,
          "2023-02-21",
          "2023-02-24",
          null
         ],
         "xaxis": "x",
         "y": [
          2.488372093023256,
          2.604651162790698,
          null,
          2.9302325581395348,
          3,
          null
         ],
         "yaxis": "y"
        },
        {
         "customdata": [
          [
           8.666666666666657,
           "L3",
           "2023-02-07",
           "2023-02-13",
           89.66666666666667
          ],
          [
           8.666666666666657,
           "L3",
           "2023-02-07",
           "2023-02-13",
           98.33333333333333
          ],
          [
           8.666666666666657,
           null,
           null,
           null,
           null
          ]
         ],
         "hovertemplate": "Date Range: %{customdata[2]} to %{customdata[3]}<br>Progress in period: %{customdata[0]:.2f} %<br>Cumulative Progress: %{customdata[4]:.2f} %<br>Level: %{customdata[1]}",
         "legendgroup": "8.666666666666657",
         "line": {
          "color": "#ff7a00",
          "dash": "solid",
          "width": 5
         },
         "marker": {
          "symbol": "circle"
         },
         "mode": "lines",
         "name": "",
         "orientation": "v",
         "showlegend": true,
         "type": "scatter",
         "x": [
          "2023-02-07",
          "2023-02-13",
          null
         ],
         "xaxis": "x",
         "y": [
          2.604651162790698,
          2.744186046511628,
          null
         ],
         "yaxis": "y"
        },
        {
         "customdata": [
          [
           0.6666666666666714,
           "L3",
           "2023-02-13",
           "2023-02-21",
           98.33333333333333
          ],
          [
           0.6666666666666714,
           "L3",
           "2023-02-13",
           "2023-02-21",
           99
          ],
          [
           0.6666666666666714,
           null,
           null,
           null,
           null
          ]
         ],
         "hovertemplate": "Date Range: %{customdata[2]} to %{customdata[3]}<br>Progress in period: %{customdata[0]:.2f} %<br>Cumulative Progress: %{customdata[4]:.2f} %<br>Level: %{customdata[1]}",
         "legendgroup": "0.6666666666666714",
         "line": {
          "color": "#ff0900",
          "dash": "solid",
          "width": 5
         },
         "marker": {
          "symbol": "circle"
         },
         "mode": "lines",
         "name": "",
         "orientation": "v",
         "showlegend": true,
         "type": "scatter",
         "x": [
          "2023-02-13",
          "2023-02-21",
          null
         ],
         "xaxis": "x",
         "y": [
          2.744186046511628,
          2.9302325581395348,
          null
         ],
         "yaxis": "y"
        },
        {
         "customdata": [
          [
           10.166666666666666,
           "L4",
           "2023-01-21",
           "2023-01-23",
           0
          ],
          [
           10.166666666666666,
           "L4",
           "2023-01-21",
           "2023-01-23",
           10.166666666666666
          ],
          [
           10.166666666666666,
           null,
           null,
           null,
           null
          ]
         ],
         "hovertemplate": "Date Range: %{customdata[2]} to %{customdata[3]}<br>Progress in period: %{customdata[0]:.2f} %<br>Cumulative Progress: %{customdata[4]:.2f} %<br>Level: %{customdata[1]}",
         "legendgroup": "10.166666666666666",
         "line": {
          "color": "#ff9000",
          "dash": "solid",
          "width": 5
         },
         "marker": {
          "symbol": "circle"
         },
         "mode": "lines",
         "name": "",
         "orientation": "v",
         "showlegend": true,
         "type": "scatter",
         "x": [
          "2023-01-21",
          "2023-01-23",
          null
         ],
         "xaxis": "x",
         "y": [
          3,
          3.064516129032258,
          null
         ],
         "yaxis": "y"
        },
        {
         "customdata": [
          [
           18,
           "L4",
           "2023-01-23",
           "2023-01-26",
           10.166666666666666
          ],
          [
           18,
           "L4",
           "2023-01-23",
           "2023-01-26",
           28.166666666666668
          ],
          [
           18,
           null,
           null,
           null,
           null
          ]
         ],
         "hovertemplate": "Date Range: %{customdata[2]} to %{customdata[3]}<br>Progress in period: %{customdata[0]:.2f} %<br>Cumulative Progress: %{customdata[4]:.2f} %<br>Level: %{customdata[1]}",
         "legendgroup": "18.0",
         "line": {
          "color": "#d6d900",
          "dash": "solid",
          "width": 5
         },
         "marker": {
          "symbol": "circle"
         },
         "mode": "lines",
         "name": "",
         "orientation": "v",
         "showlegend": true,
         "type": "scatter",
         "x": [
          "2023-01-23",
          "2023-01-26",
          null
         ],
         "xaxis": "x",
         "y": [
          3.064516129032258,
          3.161290322580645,
          null
         ],
         "yaxis": "y"
        },
        {
         "customdata": [
          [
           36.33333333333333,
           "L4",
           "2023-01-27",
           "2023-01-30",
           28.166666666666668
          ],
          [
           36.33333333333333,
           "L4",
           "2023-01-27",
           "2023-01-30",
           64.5
          ],
          [
           36.33333333333333,
           null,
           null,
           null,
           null
          ]
         ],
         "hovertemplate": "Date Range: %{customdata[2]} to %{customdata[3]}<br>Progress in period: %{customdata[0]:.2f} %<br>Cumulative Progress: %{customdata[4]:.2f} %<br>Level: %{customdata[1]}",
         "legendgroup": "36.33333333333333",
         "line": {
          "color": "#34eb00",
          "dash": "solid",
          "width": 5
         },
         "marker": {
          "symbol": "circle"
         },
         "mode": "lines",
         "name": "",
         "orientation": "v",
         "showlegend": true,
         "type": "scatter",
         "x": [
          "2023-01-27",
          "2023-01-30",
          null
         ],
         "xaxis": "x",
         "y": [
          3.193548387096774,
          3.2903225806451615,
          null
         ],
         "yaxis": "y"
        },
        {
         "customdata": [
          [
           24.66666666666667,
           "L4",
           "2023-01-30",
           "2023-02-02",
           64.5
          ],
          [
           24.66666666666667,
           "L4",
           "2023-01-30",
           "2023-02-02",
           89.16666666666667
          ],
          [
           24.66666666666667,
           null,
           null,
           null,
           null
          ]
         ],
         "hovertemplate": "Date Range: %{customdata[2]} to %{customdata[3]}<br>Progress in period: %{customdata[0]:.2f} %<br>Cumulative Progress: %{customdata[4]:.2f} %<br>Level: %{customdata[1]}",
         "legendgroup": "24.66666666666667",
         "line": {
          "color": "#7ce300",
          "dash": "solid",
          "width": 5
         },
         "marker": {
          "symbol": "circle"
         },
         "mode": "lines",
         "name": "",
         "orientation": "v",
         "showlegend": true,
         "type": "scatter",
         "x": [
          "2023-01-30",
          "2023-02-02",
          null
         ],
         "xaxis": "x",
         "y": [
          3.2903225806451615,
          3.3870967741935485,
          null
         ],
         "yaxis": "y"
        },
        {
         "customdata": [
          [
           0.5,
           "L4",
           "2023-02-02",
           "2023-02-07",
           89.16666666666667
          ],
          [
           0.5,
           "L4",
           "2023-02-02",
           "2023-02-07",
           89.66666666666667
          ],
          [
           0.5,
           null,
           null,
           null,
           null
          ]
         ],
         "hovertemplate": "Date Range: %{customdata[2]} to %{customdata[3]}<br>Progress in period: %{customdata[0]:.2f} %<br>Cumulative Progress: %{customdata[4]:.2f} %<br>Level: %{customdata[1]}",
         "legendgroup": "0.5",
         "line": {
          "color": "#ff0700",
          "dash": "solid",
          "width": 5
         },
         "marker": {
          "symbol": "circle"
         },
         "mode": "lines",
         "name": "",
         "orientation": "v",
         "showlegend": true,
         "type": "scatter",
         "x": [
          "2023-02-02",
          "2023-02-07",
          null
         ],
         "xaxis": "x",
         "y": [
          3.3870967741935485,
          3.5483870967741935,
          null
         ],
         "yaxis": "y"
        },
        {
         "customdata": [
          [
           9.333333333333329,
           "L4",
           "2023-02-07",
           "2023-02-13",
           89.66666666666667
          ],
          [
           9.333333333333329,
           "L4",
           "2023-02-07",
           "2023-02-13",
           99
          ],
          [
           9.333333333333329,
           null,
           null,
           null,
           null
          ]
         ],
         "hovertemplate": "Date Range: %{customdata[2]} to %{customdata[3]}<br>Progress in period: %{customdata[0]:.2f} %<br>Cumulative Progress: %{customdata[4]:.2f} %<br>Level: %{customdata[1]}",
         "legendgroup": "9.333333333333329",
         "line": {
          "color": "#ff8400",
          "dash": "solid",
          "width": 5
         },
         "marker": {
          "symbol": "circle"
         },
         "mode": "lines",
         "name": "",
         "orientation": "v",
         "showlegend": true,
         "type": "scatter",
         "x": [
          "2023-02-07",
          "2023-02-13",
          null
         ],
         "xaxis": "x",
         "y": [
          3.5483870967741935,
          3.741935483870968,
          null
         ],
         "yaxis": "y"
        },
        {
         "customdata": [
          [
           1,
           "L4",
           "2023-02-13",
           "2023-02-21",
           99
          ],
          [
           1,
           "L4",
           "2023-02-13",
           "2023-02-21",
           100
          ],
          [
           1,
           null,
           null,
           null,
           null
          ]
         ],
         "hovertemplate": "Date Range: %{customdata[2]} to %{customdata[3]}<br>Progress in period: %{customdata[0]:.2f} %<br>Cumulative Progress: %{customdata[4]:.2f} %<br>Level: %{customdata[1]}",
         "legendgroup": "1.0",
         "line": {
          "color": "#ff0e00",
          "dash": "solid",
          "width": 5
         },
         "marker": {
          "symbol": "circle"
         },
         "mode": "lines",
         "name": "",
         "orientation": "v",
         "showlegend": true,
         "type": "scatter",
         "x": [
          "2023-02-13",
          "2023-02-21",
          null
         ],
         "xaxis": "x",
         "y": [
          3.741935483870968,
          4,
          null
         ],
         "yaxis": "y"
        },
        {
         "customdata": [
          [
           10.333333333333334,
           "L5",
           "2023-01-27",
           "2023-01-30",
           0
          ],
          [
           10.333333333333334,
           "L5",
           "2023-01-27",
           "2023-01-30",
           10.333333333333334
          ],
          [
           10.333333333333334,
           null,
           null,
           null,
           null
          ]
         ],
         "hovertemplate": "Date Range: %{customdata[2]} to %{customdata[3]}<br>Progress in period: %{customdata[0]:.2f} %<br>Cumulative Progress: %{customdata[4]:.2f} %<br>Level: %{customdata[1]}",
         "legendgroup": "10.333333333333334",
         "line": {
          "color": "#ff9200",
          "dash": "solid",
          "width": 5
         },
         "marker": {
          "symbol": "circle"
         },
         "mode": "lines",
         "name": "",
         "orientation": "v",
         "showlegend": true,
         "type": "scatter",
         "x": [
          "2023-01-27",
          "2023-01-30",
          null
         ],
         "xaxis": "x",
         "y": [
          4,
          4.12,
          null
         ],
         "yaxis": "y"
        },
        {
         "customdata": [
          [
           20.833333333333336,
           "L5",
           "2023-01-30",
           "2023-02-02",
           10.333333333333334
          ],
          [
           20.833333333333336,
           "L5",
           "2023-01-30",
           "2023-02-02",
           31.166666666666668
          ],
          [
           20.833333333333336,
           null,
           null,
           null,
           null
          ]
         ],
         "hovertemplate": "Date Range: %{customdata[2]} to %{customdata[3]}<br>Progress in period: %{customdata[0]:.2f} %<br>Cumulative Progress: %{customdata[4]:.2f} %<br>Level: %{customdata[1]}",
         "legendgroup": "20.833333333333336",
         "line": {
          "color": "#b0dd00",
          "dash": "solid",
          "width": 5
         },
         "marker": {
          "symbol": "circle"
         },
         "mode": "lines",
         "name": "",
         "orientation": "v",
         "showlegend": true,
         "type": "scatter",
         "x": [
          "2023-01-30",
          "2023-02-02",
          null
         ],
         "xaxis": "x",
         "y": [
          4.12,
          4.24,
          null
         ],
         "yaxis": "y"
        },
        {
         "customdata": [
          [
           45.33333333333333,
           "L5",
           "2023-02-02",
           "2023-02-07",
           31.166666666666668
          ],
          [
           45.33333333333333,
           "L5",
           "2023-02-02",
           "2023-02-07",
           76.5
          ],
          [
           45.33333333333333,
           null,
           null,
           null,
           null
          ]
         ],
         "hovertemplate": "Date Range: %{customdata[2]} to %{customdata[3]}<br>Progress in period: %{customdata[0]:.2f} %<br>Cumulative Progress: %{customdata[4]:.2f} %<br>Level: %{customdata[1]}",
         "legendgroup": "45.33333333333333",
         "line": {
          "color": "#34eb00",
          "dash": "solid",
          "width": 5
         },
         "marker": {
          "symbol": "circle"
         },
         "mode": "lines",
         "name": "",
         "orientation": "v",
         "showlegend": true,
         "type": "scatter",
         "x": [
          "2023-02-02",
          "2023-02-07",
          null
         ],
         "xaxis": "x",
         "y": [
          4.24,
          4.44,
          null
         ],
         "yaxis": "y"
        },
        {
         "customdata": [
          [
           15.333333333333329,
           "L5",
           "2023-02-07",
           "2023-02-13",
           76.5
          ],
          [
           15.333333333333329,
           "L5",
           "2023-02-07",
           "2023-02-13",
           91.83333333333333
          ],
          [
           15.333333333333329,
           null,
           null,
           null,
           null
          ]
         ],
         "hovertemplate": "Date Range: %{customdata[2]} to %{customdata[3]}<br>Progress in period: %{customdata[0]:.2f} %<br>Cumulative Progress: %{customdata[4]:.2f} %<br>Level: %{customdata[1]}",
         "legendgroup": "15.333333333333329",
         "line": {
          "color": "#fad500",
          "dash": "solid",
          "width": 5
         },
         "marker": {
          "symbol": "circle"
         },
         "mode": "lines",
         "name": "",
         "orientation": "v",
         "showlegend": true,
         "type": "scatter",
         "x": [
          "2023-02-07",
          "2023-02-13",
          null
         ],
         "xaxis": "x",
         "y": [
          4.44,
          4.68,
          null
         ],
         "yaxis": "y"
        },
        {
         "customdata": [
          [
           8.166666666666671,
           "L5",
           "2023-02-13",
           "2023-02-21",
           91.83333333333333
          ],
          [
           8.166666666666671,
           "L5",
           "2023-02-13",
           "2023-02-21",
           100
          ],
          [
           8.166666666666671,
           null,
           null,
           null,
           null
          ]
         ],
         "hovertemplate": "Date Range: %{customdata[2]} to %{customdata[3]}<br>Progress in period: %{customdata[0]:.2f} %<br>Cumulative Progress: %{customdata[4]:.2f} %<br>Level: %{customdata[1]}",
         "legendgroup": "8.166666666666671",
         "line": {
          "color": "#ff7300",
          "dash": "solid",
          "width": 5
         },
         "marker": {
          "symbol": "circle"
         },
         "mode": "lines",
         "name": "",
         "orientation": "v",
         "showlegend": true,
         "type": "scatter",
         "x": [
          "2023-02-13",
          "2023-02-21",
          null
         ],
         "xaxis": "x",
         "y": [
          4.68,
          5,
          null
         ],
         "yaxis": "y"
        },
        {
         "customdata": [
          [
           17.166666666666668,
           "L6",
           "2023-02-07",
           "2023-02-13",
           0
          ],
          [
           17.166666666666668,
           "L6",
           "2023-02-07",
           "2023-02-13",
           17.166666666666668
          ],
          [
           17.166666666666668,
           null,
           null,
           null,
           null
          ]
         ],
         "hovertemplate": "Date Range: %{customdata[2]} to %{customdata[3]}<br>Progress in period: %{customdata[0]:.2f} %<br>Cumulative Progress: %{customdata[4]:.2f} %<br>Level: %{customdata[1]}",
         "legendgroup": "17.166666666666668",
         "line": {
          "color": "#e2d700",
          "dash": "solid",
          "width": 5
         },
         "marker": {
          "symbol": "circle"
         },
         "mode": "lines",
         "name": "",
         "orientation": "v",
         "showlegend": true,
         "type": "scatter",
         "x": [
          "2023-02-07",
          "2023-02-13",
          null
         ],
         "xaxis": "x",
         "y": [
          5,
          5.171428571428572,
          null
         ],
         "yaxis": "y"
        },
        {
         "customdata": [
          [
           50.5,
           "L6",
           "2023-02-13",
           "2023-02-21",
           17.166666666666668
          ],
          [
           50.5,
           "L6",
           "2023-02-13",
           "2023-02-21",
           67.66666666666667
          ],
          [
           50.5,
           null,
           null,
           null,
           null
          ]
         ],
         "hovertemplate": "Date Range: %{customdata[2]} to %{customdata[3]}<br>Progress in period: %{customdata[0]:.2f} %<br>Cumulative Progress: %{customdata[4]:.2f} %<br>Level: %{customdata[1]}",
         "legendgroup": "50.5",
         "line": {
          "color": "#34eb00",
          "dash": "solid",
          "width": 5
         },
         "marker": {
          "symbol": "circle"
         },
         "mode": "lines",
         "name": "",
         "orientation": "v",
         "showlegend": true,
         "type": "scatter",
         "x": [
          "2023-02-13",
          "2023-02-21",
          null
         ],
         "xaxis": "x",
         "y": [
          5.171428571428572,
          5.4,
          null
         ],
         "yaxis": "y"
        },
        {
         "customdata": [
          [
           31.5,
           "L6",
           "2023-02-21",
           "2023-02-24",
           67.66666666666667
          ],
          [
           31.5,
           "L6",
           "2023-02-21",
           "2023-02-24",
           99.16666666666667
          ],
          [
           31.5,
           null,
           null,
           null,
           null
          ]
         ],
         "hovertemplate": "Date Range: %{customdata[2]} to %{customdata[3]}<br>Progress in period: %{customdata[0]:.2f} %<br>Cumulative Progress: %{customdata[4]:.2f} %<br>Level: %{customdata[1]}",
         "legendgroup": "31.5",
         "line": {
          "color": "#34eb00",
          "dash": "solid",
          "width": 5
         },
         "marker": {
          "symbol": "circle"
         },
         "mode": "lines",
         "name": "",
         "orientation": "v",
         "showlegend": true,
         "type": "scatter",
         "x": [
          "2023-02-21",
          "2023-02-24",
          null
         ],
         "xaxis": "x",
         "y": [
          5.4,
          5.485714285714286,
          null
         ],
         "yaxis": "y"
        },
        {
         "customdata": [
          [
           0.3333333333333286,
           "L6",
           "2023-03-03",
           "2023-03-07",
           99.16666666666667
          ],
          [
           0.3333333333333286,
           "L6",
           "2023-03-03",
           "2023-03-07",
           99.5
          ],
          [
           0.3333333333333286,
           null,
           null,
           null,
           null
          ]
         ],
         "hovertemplate": "Date Range: %{customdata[2]} to %{customdata[3]}<br>Progress in period: %{customdata[0]:.2f} %<br>Cumulative Progress: %{customdata[4]:.2f} %<br>Level: %{customdata[1]}",
         "legendgroup": "0.3333333333333286",
         "line": {
          "color": "#ff0500",
          "dash": "solid",
          "width": 5
         },
         "marker": {
          "symbol": "circle"
         },
         "mode": "lines",
         "name": "",
         "orientation": "v",
         "showlegend": true,
         "type": "scatter",
         "x": [
          "2023-03-03",
          "2023-03-07",
          null
         ],
         "xaxis": "x",
         "y": [
          5.685714285714286,
          5.8,
          null
         ],
         "yaxis": "y"
        },
        {
         "customdata": [
          [
           0.5,
           "L6",
           "2023-03-09",
           "2023-03-14",
           99.5
          ],
          [
           0.5,
           "L6",
           "2023-03-09",
           "2023-03-14",
           100
          ],
          [
           0.5,
           null,
           null,
           null,
           null
          ]
         ],
         "hovertemplate": "Date Range: %{customdata[2]} to %{customdata[3]}<br>Progress in period: %{customdata[0]:.2f} %<br>Cumulative Progress: %{customdata[4]:.2f} %<br>Level: %{customdata[1]}",
         "legendgroup": "0.5",
         "line": {
          "color": "#ff0700",
          "dash": "solid",
          "width": 5
         },
         "marker": {
          "symbol": "circle"
         },
         "mode": "lines",
         "name": "",
         "orientation": "v",
         "showlegend": true,
         "type": "scatter",
         "x": [
          "2023-03-09",
          "2023-03-14",
          null
         ],
         "xaxis": "x",
         "y": [
          5.857142857142857,
          6,
          null
         ],
         "yaxis": "y"
        },
        {
         "customdata": [
          [
           27,
           "L7",
           "2023-02-21",
           "2023-02-24",
           0
          ],
          [
           27,
           "L7",
           "2023-02-21",
           "2023-02-24",
           27
          ],
          [
           27,
           null,
           null,
           null,
           null
          ]
         ],
         "hovertemplate": "Date Range: %{customdata[2]} to %{customdata[3]}<br>Progress in period: %{customdata[0]:.2f} %<br>Cumulative Progress: %{customdata[4]:.2f} %<br>Level: %{customdata[1]}",
         "legendgroup": "27.0",
         "line": {
          "color": "#5de600",
          "dash": "solid",
          "width": 5
         },
         "marker": {
          "symbol": "circle"
         },
         "mode": "lines",
         "name": "",
         "orientation": "v",
         "showlegend": true,
         "type": "scatter",
         "x": [
          "2023-02-21",
          "2023-02-24",
          null
         ],
         "xaxis": "x",
         "y": [
          6,
          6.214285714285714,
          null
         ],
         "yaxis": "y"
        },
        {
         "customdata": [
          [
           14.833333333333336,
           "L7",
           "2023-02-24",
           "2023-02-27",
           27
          ],
          [
           14.833333333333336,
           "L7",
           "2023-02-24",
           "2023-02-27",
           41.833333333333336
          ],
          [
           14.833333333333336,
           null,
           null,
           null,
           null
          ]
         ],
         "hovertemplate": "Date Range: %{customdata[2]} to %{customdata[3]}<br>Progress in period: %{customdata[0]:.2f} %<br>Cumulative Progress: %{customdata[4]:.2f} %<br>Level: %{customdata[1]}",
         "legendgroup": "14.833333333333336",
         "line": {
          "color": "#ffd200",
          "dash": "solid",
          "width": 5
         },
         "marker": {
          "symbol": "circle"
         },
         "mode": "lines",
         "name": "",
         "orientation": "v",
         "showlegend": true,
         "type": "scatter",
         "x": [
          "2023-02-24",
          "2023-02-27",
          null
         ],
         "xaxis": "x",
         "y": [
          6.214285714285714,
          6.428571428571429,
          null
         ],
         "yaxis": "y"
        },
        {
         "customdata": [
          [
           46.833333333333336,
           "L7",
           "2023-02-27",
           "2023-03-03",
           41.833333333333336
          ],
          [
           46.833333333333336,
           "L7",
           "2023-02-27",
           "2023-03-03",
           88.66666666666667
          ],
          [
           46.833333333333336,
           null,
           null,
           null,
           null
          ]
         ],
         "hovertemplate": "Date Range: %{customdata[2]} to %{customdata[3]}<br>Progress in period: %{customdata[0]:.2f} %<br>Cumulative Progress: %{customdata[4]:.2f} %<br>Level: %{customdata[1]}",
         "legendgroup": "46.833333333333336",
         "line": {
          "color": "#34eb00",
          "dash": "solid",
          "width": 5
         },
         "marker": {
          "symbol": "circle"
         },
         "mode": "lines",
         "name": "",
         "orientation": "v",
         "showlegend": true,
         "type": "scatter",
         "x": [
          "2023-02-27",
          "2023-03-03",
          null
         ],
         "xaxis": "x",
         "y": [
          6.428571428571429,
          6.714285714285714,
          null
         ],
         "yaxis": "y"
        },
        {
         "customdata": [
          [
           11.333333333333329,
           "L7",
           "2023-03-03",
           "2023-03-07",
           88.66666666666667
          ],
          [
           11.333333333333329,
           "L7",
           "2023-03-03",
           "2023-03-07",
           100
          ],
          [
           11.333333333333329,
           null,
           null,
           null,
           null
          ]
         ],
         "hovertemplate": "Date Range: %{customdata[2]} to %{customdata[3]}<br>Progress in period: %{customdata[0]:.2f} %<br>Cumulative Progress: %{customdata[4]:.2f} %<br>Level: %{customdata[1]}",
         "legendgroup": "11.333333333333329",
         "line": {
          "color": "#ffa000",
          "dash": "solid",
          "width": 5
         },
         "marker": {
          "symbol": "circle"
         },
         "mode": "lines",
         "name": "",
         "orientation": "v",
         "showlegend": true,
         "type": "scatter",
         "x": [
          "2023-03-03",
          "2023-03-07",
          null
         ],
         "xaxis": "x",
         "y": [
          6.714285714285714,
          7,
          null
         ],
         "yaxis": "y"
        },
        {
         "customdata": [
          [
           20.166666666666668,
           "L8",
           "2023-02-21",
           "2023-02-24",
           0
          ],
          [
           20.166666666666668,
           "L8",
           "2023-02-21",
           "2023-02-24",
           20.166666666666668
          ],
          [
           20.166666666666668,
           null,
           null,
           null,
           null
          ]
         ],
         "hovertemplate": "Date Range: %{customdata[2]} to %{customdata[3]}<br>Progress in period: %{customdata[0]:.2f} %<br>Cumulative Progress: %{customdata[4]:.2f} %<br>Level: %{customdata[1]}",
         "legendgroup": "20.166666666666668",
         "line": {
          "color": "#b9dc00",
          "dash": "solid",
          "width": 5
         },
         "marker": {
          "symbol": "circle"
         },
         "mode": "lines",
         "name": "",
         "orientation": "v",
         "showlegend": true,
         "type": "scatter",
         "x": [
          "2023-02-21",
          "2023-02-24",
          null
         ],
         "xaxis": "x",
         "y": [
          7,
          7.15625,
          null
         ],
         "yaxis": "y"
        },
        {
         "customdata": [
          [
           11.333333333333332,
           "L8",
           "2023-02-24",
           "2023-02-27",
           20.166666666666668
          ],
          [
           11.333333333333332,
           "L8",
           "2023-02-24",
           "2023-02-27",
           31.5
          ],
          [
           11.333333333333332,
           null,
           null,
           null,
           null
          ]
         ],
         "hovertemplate": "Date Range: %{customdata[2]} to %{customdata[3]}<br>Progress in period: %{customdata[0]:.2f} %<br>Cumulative Progress: %{customdata[4]:.2f} %<br>Level: %{customdata[1]}",
         "legendgroup": "11.333333333333332",
         "line": {
          "color": "#ffa000",
          "dash": "solid",
          "width": 5
         },
         "marker": {
          "symbol": "circle"
         },
         "mode": "lines",
         "name": "",
         "orientation": "v",
         "showlegend": true,
         "type": "scatter",
         "x": [
          "2023-02-24",
          "2023-02-27",
          null
         ],
         "xaxis": "x",
         "y": [
          7.15625,
          7.3125,
          null
         ],
         "yaxis": "y"
        },
        {
         "customdata": [
          [
           49,
           "L8",
           "2023-02-27",
           "2023-03-03",
           31.5
          ],
          [
           49,
           "L8",
           "2023-02-27",
           "2023-03-03",
           80.5
          ],
          [
           49,
           null,
           null,
           null,
           null
          ]
         ],
         "hovertemplate": "Date Range: %{customdata[2]} to %{customdata[3]}<br>Progress in period: %{customdata[0]:.2f} %<br>Cumulative Progress: %{customdata[4]:.2f} %<br>Level: %{customdata[1]}",
         "legendgroup": "49.0",
         "line": {
          "color": "#34eb00",
          "dash": "solid",
          "width": 5
         },
         "marker": {
          "symbol": "circle"
         },
         "mode": "lines",
         "name": "",
         "orientation": "v",
         "showlegend": true,
         "type": "scatter",
         "x": [
          "2023-02-27",
          "2023-03-03",
          null
         ],
         "xaxis": "x",
         "y": [
          7.3125,
          7.520833333333333,
          null
         ],
         "yaxis": "y"
        },
        {
         "customdata": [
          [
           1.6666666666666714,
           "L8",
           "2023-03-03",
           "2023-03-07",
           80.5
          ],
          [
           1.6666666666666714,
           "L8",
           "2023-03-03",
           "2023-03-07",
           82.16666666666667
          ],
          [
           1.6666666666666714,
           null,
           null,
           null,
           null
          ]
         ],
         "hovertemplate": "Date Range: %{customdata[2]} to %{customdata[3]}<br>Progress in period: %{customdata[0]:.2f} %<br>Cumulative Progress: %{customdata[4]:.2f} %<br>Level: %{customdata[1]}",
         "legendgroup": "1.6666666666666714",
         "line": {
          "color": "#ff1800",
          "dash": "solid",
          "width": 5
         },
         "marker": {
          "symbol": "circle"
         },
         "mode": "lines",
         "name": "",
         "orientation": "v",
         "showlegend": true,
         "type": "scatter",
         "x": [
          "2023-03-03",
          "2023-03-07",
          null
         ],
         "xaxis": "x",
         "y": [
          7.520833333333333,
          7.729166666666667,
          null
         ],
         "yaxis": "y"
        },
        {
         "customdata": [
          [
           1.1666666666666572,
           "L8",
           "2023-03-07",
           "2023-03-09",
           82.16666666666667
          ],
          [
           1.1666666666666572,
           "L8",
           "2023-03-07",
           "2023-03-09",
           83.33333333333333
          ],
          [
           1.1666666666666572,
           null,
           null,
           null,
           null
          ]
         ],
         "hovertemplate": "Date Range: %{customdata[2]} to %{customdata[3]}<br>Progress in period: %{customdata[0]:.2f} %<br>Cumulative Progress: %{customdata[4]:.2f} %<br>Level: %{customdata[1]}",
         "legendgroup": "1.1666666666666572",
         "line": {
          "color": "#ff1000",
          "dash": "solid",
          "width": 5
         },
         "marker": {
          "symbol": "circle"
         },
         "mode": "lines",
         "name": "",
         "orientation": "v",
         "showlegend": true,
         "type": "scatter",
         "x": [
          "2023-03-07",
          "2023-03-09",
          null
         ],
         "xaxis": "x",
         "y": [
          7.729166666666667,
          7.833333333333333,
          null
         ],
         "yaxis": "y"
        },
        {
         "hoverinfo": "skip",
         "hovertemplate": "x=%{x}<br>y=%{y}<extra></extra>",
         "legendgroup": "",
         "line": {
          "color": "black",
          "dash": "solid",
          "width": 5
         },
         "marker": {
          "symbol": "circle"
         },
         "mode": "lines",
         "name": "",
         "opacity": 0.05,
         "orientation": "v",
         "showlegend": false,
         "type": "scatter",
         "x": [
          "2023-01-17",
          "2023-07-24",
          null,
          "2023-02-02",
          "2023-07-24",
          null,
          "2023-02-21",
          "2023-07-24",
          null,
          "2023-02-21",
          "2023-07-24",
          null,
          "2023-02-27",
          "2023-07-24",
          null,
          "2023-02-27",
          "2023-07-24",
          null,
          "2023-03-07",
          "2023-07-28",
          null,
          "2023-03-16",
          "2023-08-10",
          null
         ],
         "xaxis": "x",
         "y": [
          0,
          1,
          null,
          1,
          2,
          null,
          2,
          3,
          null,
          3,
          4,
          null,
          4,
          5,
          null,
          5,
          6,
          null,
          6,
          7,
          null,
          7,
          8,
          null
         ],
         "yaxis": "y"
        },
        {
         "customdata": [
          [
           10.333333333333334,
           "L1",
           "2023-01-17",
           "2023-01-19",
           0
          ],
          [
           10.333333333333334,
           "L1",
           "2023-01-17",
           "2023-01-19",
           10.333333333333334
          ],
          [
           10.333333333333334,
           null,
           null,
           null,
           null
          ]
         ],
         "hovertemplate": "Date Range: %{customdata[2]} to %{customdata[3]}<br>Progress in period: %{customdata[0]:.2f} %<br>Cumulative Progress: %{customdata[4]:.2f} %<br>Level: %{customdata[1]}",
         "legendgroup": "10.333333333333334",
         "line": {
          "color": "#ff9200",
          "dash": "solid",
          "width": 5
         },
         "marker": {
          "symbol": "circle"
         },
         "mode": "lines",
         "name": "",
         "orientation": "v",
         "showlegend": true,
         "type": "scatter",
         "x": [
          "2023-01-17",
          "2023-01-19",
          null
         ],
         "xaxis": "x",
         "y": [
          0,
          0.010638297872340425,
          null
         ],
         "yaxis": "y"
        },
        {
         "customdata": [
          [
           4.833333333333332,
           "L1",
           "2023-01-21",
           "2023-01-23",
           10.333333333333334
          ],
          [
           4.833333333333332,
           "L1",
           "2023-01-21",
           "2023-01-23",
           15.166666666666666
          ],
          [
           4.833333333333332,
           null,
           null,
           null,
           null
          ]
         ],
         "hovertemplate": "Date Range: %{customdata[2]} to %{customdata[3]}<br>Progress in period: %{customdata[0]:.2f} %<br>Cumulative Progress: %{customdata[4]:.2f} %<br>Level: %{customdata[1]}",
         "legendgroup": "4.833333333333332",
         "line": {
          "color": "#ff4400",
          "dash": "solid",
          "width": 5
         },
         "marker": {
          "symbol": "circle"
         },
         "mode": "lines",
         "name": "",
         "orientation": "v",
         "showlegend": true,
         "type": "scatter",
         "x": [
          "2023-01-21",
          "2023-01-23",
          null
         ],
         "xaxis": "x",
         "y": [
          0.02127659574468085,
          0.031914893617021274,
          null
         ],
         "yaxis": "y"
        },
        {
         "customdata": [
          [
           12.833333333333334,
           "L1",
           "2023-01-23",
           "2023-01-26",
           15.166666666666666
          ],
          [
           12.833333333333334,
           "L1",
           "2023-01-23",
           "2023-01-26",
           28
          ],
          [
           12.833333333333334,
           null,
           null,
           null,
           null
          ]
         ],
         "hovertemplate": "Date Range: %{customdata[2]} to %{customdata[3]}<br>Progress in period: %{customdata[0]:.2f} %<br>Cumulative Progress: %{customdata[4]:.2f} %<br>Level: %{customdata[1]}",
         "legendgroup": "12.833333333333334",
         "line": {
          "color": "#ffb500",
          "dash": "solid",
          "width": 5
         },
         "marker": {
          "symbol": "circle"
         },
         "mode": "lines",
         "name": "",
         "orientation": "v",
         "showlegend": true,
         "type": "scatter",
         "x": [
          "2023-01-23",
          "2023-01-26",
          null
         ],
         "xaxis": "x",
         "y": [
          0.031914893617021274,
          0.047872340425531915,
          null
         ],
         "yaxis": "y"
        },
        {
         "customdata": [
          [
           6.666666666666664,
           "L1",
           "2023-01-27",
           "2023-01-30",
           28
          ],
          [
           6.666666666666664,
           "L1",
           "2023-01-27",
           "2023-01-30",
           34.666666666666664
          ],
          [
           6.666666666666664,
           null,
           null,
           null,
           null
          ]
         ],
         "hovertemplate": "Date Range: %{customdata[2]} to %{customdata[3]}<br>Progress in period: %{customdata[0]:.2f} %<br>Cumulative Progress: %{customdata[4]:.2f} %<br>Level: %{customdata[1]}",
         "legendgroup": "6.666666666666664",
         "line": {
          "color": "#ff5e00",
          "dash": "solid",
          "width": 5
         },
         "marker": {
          "symbol": "circle"
         },
         "mode": "lines",
         "name": "",
         "orientation": "v",
         "showlegend": true,
         "type": "scatter",
         "x": [
          "2023-01-27",
          "2023-01-30",
          null
         ],
         "xaxis": "x",
         "y": [
          0.05319148936170213,
          0.06914893617021277,
          null
         ],
         "yaxis": "y"
        },
        {
         "customdata": [
          [
           3.1666666666666714,
           "L1",
           "2023-01-30",
           "2023-02-02",
           34.666666666666664
          ],
          [
           3.1666666666666714,
           "L1",
           "2023-01-30",
           "2023-02-02",
           37.833333333333336
          ],
          [
           3.1666666666666714,
           null,
           null,
           null,
           null
          ],
          [
           3.1666666666666714,
           "L1",
           "2023-06-09",
           "2023-06-15",
           95.33333333333333
          ],
          [
           3.1666666666666714,
           "L1",
           "2023-06-09",
           "2023-06-15",
           98.5
          ],
          [
           3.1666666666666714,
           null,
           null,
           null,
           null
          ]
         ],
         "hovertemplate": "Date Range: %{customdata[2]} to %{customdata[3]}<br>Progress in period: %{customdata[0]:.2f} %<br>Cumulative Progress: %{customdata[4]:.2f} %<br>Level: %{customdata[1]}",
         "legendgroup": "3.1666666666666714",
         "line": {
          "color": "#ff2d00",
          "dash": "solid",
          "width": 5
         },
         "marker": {
          "symbol": "circle"
         },
         "mode": "lines",
         "name": "",
         "orientation": "v",
         "showlegend": true,
         "type": "scatter",
         "x": [
          "2023-01-30",
          "2023-02-02",
          null,
          "2023-06-09",
          "2023-06-15",
          null
         ],
         "xaxis": "x",
         "y": [
          0.06914893617021277,
          0.0851063829787234,
          null,
          0.7606382978723404,
          0.7925531914893617,
          null
         ],
         "yaxis": "y"
        },
        {
         "customdata": [
          [
           0.5,
           "L1",
           "2023-02-02",
           "2023-02-07",
           37.833333333333336
          ],
          [
           0.5,
           "L1",
           "2023-02-02",
           "2023-02-07",
           38.333333333333336
          ],
          [
           0.5,
           null,
           null,
           null,
           null
          ]
         ],
         "hovertemplate": "Date Range: %{customdata[2]} to %{customdata[3]}<br>Progress in period: %{customdata[0]:.2f} %<br>Cumulative Progress: %{customdata[4]:.2f} %<br>Level: %{customdata[1]}",
         "legendgroup": "0.5",
         "line": {
          "color": "#ff0700",
          "dash": "solid",
          "width": 5
         },
         "marker": {
          "symbol": "circle"
         },
         "mode": "lines",
         "name": "",
         "orientation": "v",
         "showlegend": true,
         "type": "scatter",
         "x": [
          "2023-02-02",
          "2023-02-07",
          null
         ],
         "xaxis": "x",
         "y": [
          0.0851063829787234,
          0.11170212765957446,
          null
         ],
         "yaxis": "y"
        },
        {
         "customdata": [
          [
           29.166666666666664,
           "L1",
           "2023-02-07",
           "2023-02-13",
           38.333333333333336
          ],
          [
           29.166666666666664,
           "L1",
           "2023-02-07",
           "2023-02-13",
           67.5
          ],
          [
           29.166666666666664,
           null,
           null,
           null,
           null
          ]
         ],
         "hovertemplate": "Date Range: %{customdata[2]} to %{customdata[3]}<br>Progress in period: %{customdata[0]:.2f} %<br>Cumulative Progress: %{customdata[4]:.2f} %<br>Level: %{customdata[1]}",
         "legendgroup": "29.166666666666664",
         "line": {
          "color": "#3fea00",
          "dash": "solid",
          "width": 5
         },
         "marker": {
          "symbol": "circle"
         },
         "mode": "lines",
         "name": "",
         "orientation": "v",
         "showlegend": true,
         "type": "scatter",
         "x": [
          "2023-02-07",
          "2023-02-13",
          null
         ],
         "xaxis": "x",
         "y": [
          0.11170212765957446,
          0.14361702127659576,
          null
         ],
         "yaxis": "y"
        },
        {
         "customdata": [
          [
           19.5,
           "L1",
           "2023-02-13",
           "2023-02-21",
           67.5
          ],
          [
           19.5,
           "L1",
           "2023-02-13",
           "2023-02-21",
           87
          ],
          [
           19.5,
           null,
           null,
           null,
           null
          ]
         ],
         "hovertemplate": "Date Range: %{customdata[2]} to %{customdata[3]}<br>Progress in period: %{customdata[0]:.2f} %<br>Cumulative Progress: %{customdata[4]:.2f} %<br>Level: %{customdata[1]}",
         "legendgroup": "19.5",
         "line": {
          "color": "#c2db00",
          "dash": "solid",
          "width": 5
         },
         "marker": {
          "symbol": "circle"
         },
         "mode": "lines",
         "name": "",
         "orientation": "v",
         "showlegend": true,
         "type": "scatter",
         "x": [
          "2023-02-13",
          "2023-02-21",
          null
         ],
         "xaxis": "x",
         "y": [
          0.14361702127659576,
          0.18617021276595744,
          null
         ],
         "yaxis": "y"
        },
        {
         "customdata": [
          [
           1.5,
           "L1",
           "2023-02-21",
           "2023-02-24",
           87
          ],
          [
           1.5,
           "L1",
           "2023-02-21",
           "2023-02-24",
           88.5
          ],
          [
           1.5,
           null,
           null,
           null,
           null
          ],
          [
           1.5,
           "L1",
           "2023-07-22",
           "2023-07-24",
           98.5
          ],
          [
           1.5,
           "L1",
           "2023-07-22",
           "2023-07-24",
           100
          ],
          [
           1.5,
           null,
           null,
           null,
           null
          ]
         ],
         "hovertemplate": "Date Range: %{customdata[2]} to %{customdata[3]}<br>Progress in period: %{customdata[0]:.2f} %<br>Cumulative Progress: %{customdata[4]:.2f} %<br>Level: %{customdata[1]}",
         "legendgroup": "1.5",
         "line": {
          "color": "#ff1500",
          "dash": "solid",
          "width": 5
         },
         "marker": {
          "symbol": "circle"
         },
         "mode": "lines",
         "name": "",
         "orientation": "v",
         "showlegend": true,
         "type": "scatter",
         "x": [
          "2023-02-21",
          "2023-02-24",
          null,
          "2023-07-22",
          "2023-07-24",
          null
         ],
         "xaxis": "x",
         "y": [
          0.18617021276595744,
          0.20212765957446807,
          null,
          0.9893617021276596,
          1,
          null
         ],
         "yaxis": "y"
        },
        {
         "customdata": [
          [
           0.6666666666666714,
           "L1",
           "2023-02-24",
           "2023-02-27",
           88.5
          ],
          [
           0.6666666666666714,
           "L1",
           "2023-02-24",
           "2023-02-27",
           89.16666666666667
          ],
          [
           0.6666666666666714,
           null,
           null,
           null,
           null
          ],
          [
           0.6666666666666714,
           "L1",
           "2023-04-25",
           "2023-04-27",
           94.5
          ],
          [
           0.6666666666666714,
           "L1",
           "2023-04-25",
           "2023-04-27",
           95.16666666666667
          ],
          [
           0.6666666666666714,
           null,
           null,
           null,
           null
          ]
         ],
         "hovertemplate": "Date Range: %{customdata[2]} to %{customdata[3]}<br>Progress in period: %{customdata[0]:.2f} %<br>Cumulative Progress: %{customdata[4]:.2f} %<br>Level: %{customdata[1]}",
         "legendgroup": "0.6666666666666714",
         "line": {
          "color": "#ff0900",
          "dash": "solid",
          "width": 5
         },
         "marker": {
          "symbol": "circle"
         },
         "mode": "lines",
         "name": "",
         "orientation": "v",
         "showlegend": true,
         "type": "scatter",
         "x": [
          "2023-02-24",
          "2023-02-27",
          null,
          "2023-04-25",
          "2023-04-27",
          null
         ],
         "xaxis": "x",
         "y": [
          0.20212765957446807,
          0.21808510638297873,
          null,
          0.5212765957446809,
          0.5319148936170213,
          null
         ],
         "yaxis": "y"
        },
        {
         "customdata": [
          [
           1,
           "L1",
           "2023-02-27",
           "2023-03-03",
           89.16666666666667
          ],
          [
           1,
           "L1",
           "2023-02-27",
           "2023-03-03",
           90.16666666666667
          ],
          [
           1,
           null,
           null,
           null,
           null
          ]
         ],
         "hovertemplate": "Date Range: %{customdata[2]} to %{customdata[3]}<br>Progress in period: %{customdata[0]:.2f} %<br>Cumulative Progress: %{customdata[4]:.2f} %<br>Level: %{customdata[1]}",
         "legendgroup": "1.0",
         "line": {
          "color": "#ff0e00",
          "dash": "solid",
          "width": 5
         },
         "marker": {
          "symbol": "circle"
         },
         "mode": "lines",
         "name": "",
         "orientation": "v",
         "showlegend": true,
         "type": "scatter",
         "x": [
          "2023-02-27",
          "2023-03-03",
          null
         ],
         "xaxis": "x",
         "y": [
          0.21808510638297873,
          0.2393617021276596,
          null
         ],
         "yaxis": "y"
        },
        {
         "customdata": [
          [
           0.8333333333333286,
           "L1",
           "2023-03-03",
           "2023-03-07",
           90.16666666666667
          ],
          [
           0.8333333333333286,
           "L1",
           "2023-03-03",
           "2023-03-07",
           91
          ],
          [
           0.8333333333333286,
           null,
           null,
           null,
           null
          ]
         ],
         "hovertemplate": "Date Range: %{customdata[2]} to %{customdata[3]}<br>Progress in period: %{customdata[0]:.2f} %<br>Cumulative Progress: %{customdata[4]:.2f} %<br>Level: %{customdata[1]}",
         "legendgroup": "0.8333333333333286",
         "line": {
          "color": "#ff0c00",
          "dash": "solid",
          "width": 5
         },
         "marker": {
          "symbol": "circle"
         },
         "mode": "lines",
         "name": "",
         "orientation": "v",
         "showlegend": true,
         "type": "scatter",
         "x": [
          "2023-03-03",
          "2023-03-07",
          null
         ],
         "xaxis": "x",
         "y": [
          0.2393617021276596,
          0.26063829787234044,
          null
         ],
         "yaxis": "y"
        },
        {
         "customdata": [
          [
           0.1666666666666714,
           "L1",
           "2023-03-07",
           "2023-03-09",
           91
          ],
          [
           0.1666666666666714,
           "L1",
           "2023-03-07",
           "2023-03-09",
           91.16666666666667
          ],
          [
           0.1666666666666714,
           null,
           null,
           null,
           null
          ],
          [
           0.1666666666666714,
           "L1",
           "2023-04-15",
           "2023-04-18",
           94
          ],
          [
           0.1666666666666714,
           "L1",
           "2023-04-15",
           "2023-04-18",
           94.16666666666667
          ],
          [
           0.1666666666666714,
           null,
           null,
           null,
           null
          ]
         ],
         "hovertemplate": "Date Range: %{customdata[2]} to %{customdata[3]}<br>Progress in period: %{customdata[0]:.2f} %<br>Cumulative Progress: %{customdata[4]:.2f} %<br>Level: %{customdata[1]}",
         "legendgroup": "0.1666666666666714",
         "line": {
          "color": "#ff0200",
          "dash": "solid",
          "width": 5
         },
         "marker": {
          "symbol": "circle"
         },
         "mode": "lines",
         "name": "",
         "orientation": "v",
         "showlegend": true,
         "type": "scatter",
         "x": [
          "2023-03-07",
          "2023-03-09",
          null,
          "2023-04-15",
          "2023-04-18",
          null
         ],
         "xaxis": "x",
         "y": [
          0.26063829787234044,
          0.2712765957446808,
          null,
          0.46808510638297873,
          0.48404255319148937,
          null
         ],
         "yaxis": "y"
        },
        {
         "customdata": [
          [
           1.6666666666666572,
           "L1",
           "2023-03-09",
           "2023-03-14",
           91.16666666666667
          ],
          [
           1.6666666666666572,
           "L1",
           "2023-03-09",
           "2023-03-14",
           92.83333333333333
          ],
          [
           1.6666666666666572,
           null,
           null,
           null,
           null
          ]
         ],
         "hovertemplate": "Date Range: %{customdata[2]} to %{customdata[3]}<br>Progress in period: %{customdata[0]:.2f} %<br>Cumulative Progress: %{customdata[4]:.2f} %<br>Level: %{customdata[1]}",
         "legendgroup": "1.6666666666666572",
         "line": {
          "color": "#ff1800",
          "dash": "solid",
          "width": 5
         },
         "marker": {
          "symbol": "circle"
         },
         "mode": "lines",
         "name": "",
         "orientation": "v",
         "showlegend": true,
         "type": "scatter",
         "x": [
          "2023-03-09",
          "2023-03-14",
          null
         ],
         "xaxis": "x",
         "y": [
          0.2712765957446808,
          0.2978723404255319,
          null
         ],
         "yaxis": "y"
        },
        {
         "customdata": [
          [
           0.8333333333333428,
           "L1",
           "2023-03-16",
           "2023-03-20",
           92.83333333333333
          ],
          [
           0.8333333333333428,
           "L1",
           "2023-03-16",
           "2023-03-20",
           93.66666666666667
          ],
          [
           0.8333333333333428,
           null,
           null,
           null,
           null
          ]
         ],
         "hovertemplate": "Date Range: %{customdata[2]} to %{customdata[3]}<br>Progress in period: %{customdata[0]:.2f} %<br>Cumulative Progress: %{customdata[4]:.2f} %<br>Level: %{customdata[1]}",
         "legendgroup": "0.8333333333333428",
         "line": {
          "color": "#ff0c00",
          "dash": "solid",
          "width": 5
         },
         "marker": {
          "symbol": "circle"
         },
         "mode": "lines",
         "name": "",
         "orientation": "v",
         "showlegend": true,
         "type": "scatter",
         "x": [
          "2023-03-16",
          "2023-03-20",
          null
         ],
         "xaxis": "x",
         "y": [
          0.30851063829787234,
          0.32978723404255317,
          null
         ],
         "yaxis": "y"
        },
        {
         "customdata": [
          [
           0.3333333333333286,
           "L1",
           "2023-03-30",
           "2023-03-31",
           93.66666666666667
          ],
          [
           0.3333333333333286,
           "L1",
           "2023-03-30",
           "2023-03-31",
           94
          ],
          [
           0.3333333333333286,
           null,
           null,
           null,
           null
          ],
          [
           0.3333333333333286,
           "L1",
           "2023-04-21",
           "2023-04-25",
           94.16666666666667
          ],
          [
           0.3333333333333286,
           "L1",
           "2023-04-21",
           "2023-04-25",
           94.5
          ],
          [
           0.3333333333333286,
           null,
           null,
           null,
           null
          ]
         ],
         "hovertemplate": "Date Range: %{customdata[2]} to %{customdata[3]}<br>Progress in period: %{customdata[0]:.2f} %<br>Cumulative Progress: %{customdata[4]:.2f} %<br>Level: %{customdata[1]}",
         "legendgroup": "0.3333333333333286",
         "line": {
          "color": "#ff0500",
          "dash": "solid",
          "width": 5
         },
         "marker": {
          "symbol": "circle"
         },
         "mode": "lines",
         "name": "",
         "orientation": "v",
         "showlegend": true,
         "type": "scatter",
         "x": [
          "2023-03-30",
          "2023-03-31",
          null,
          "2023-04-21",
          "2023-04-25",
          null
         ],
         "xaxis": "x",
         "y": [
          0.3829787234042553,
          0.3882978723404255,
          null,
          0.5,
          0.5212765957446809,
          null
         ],
         "yaxis": "y"
        },
        {
         "customdata": [
          [
           0.1666666666666572,
           "L1",
           "2023-04-27",
           "2023-05-02",
           95.16666666666667
          ],
          [
           0.1666666666666572,
           "L1",
           "2023-04-27",
           "2023-05-02",
           95.33333333333333
          ],
          [
           0.1666666666666572,
           null,
           null,
           null,
           null
          ]
         ],
         "hovertemplate": "Date Range: %{customdata[2]} to %{customdata[3]}<br>Progress in period: %{customdata[0]:.2f} %<br>Cumulative Progress: %{customdata[4]:.2f} %<br>Level: %{customdata[1]}",
         "legendgroup": "0.1666666666666572",
         "line": {
          "color": "#ff0200",
          "dash": "solid",
          "width": 5
         },
         "marker": {
          "symbol": "circle"
         },
         "mode": "lines",
         "name": "",
         "orientation": "v",
         "showlegend": true,
         "type": "scatter",
         "x": [
          "2023-04-27",
          "2023-05-02",
          null
         ],
         "xaxis": "x",
         "y": [
          0.5319148936170213,
          0.5585106382978723,
          null
         ],
         "yaxis": "y"
        },
        {
         "customdata": [
          [
           5.666666666666667,
           "L2",
           "2023-02-02",
           "2023-02-07",
           0
          ],
          [
           5.666666666666667,
           "L2",
           "2023-02-02",
           "2023-02-07",
           5.666666666666667
          ],
          [
           5.666666666666667,
           null,
           null,
           null,
           null
          ]
         ],
         "hovertemplate": "Date Range: %{customdata[2]} to %{customdata[3]}<br>Progress in period: %{customdata[0]:.2f} %<br>Cumulative Progress: %{customdata[4]:.2f} %<br>Level: %{customdata[1]}",
         "legendgroup": "5.666666666666667",
         "line": {
          "color": "#ff5000",
          "dash": "solid",
          "width": 5
         },
         "marker": {
          "symbol": "circle"
         },
         "mode": "lines",
         "name": "",
         "orientation": "v",
         "showlegend": true,
         "type": "scatter",
         "x": [
          "2023-02-02",
          "2023-02-07",
          null
         ],
         "xaxis": "x",
         "y": [
          1,
          1.0290697674418605,
          null
         ],
         "yaxis": "y"
        },
        {
         "customdata": [
          [
           19.166666666666664,
           "L2",
           "2023-02-07",
           "2023-02-13",
           5.666666666666667
          ],
          [
           19.166666666666664,
           "L2",
           "2023-02-07",
           "2023-02-13",
           24.833333333333332
          ],
          [
           19.166666666666664,
           null,
           null,
           null,
           null
          ]
         ],
         "hovertemplate": "Date Range: %{customdata[2]} to %{customdata[3]}<br>Progress in period: %{customdata[0]:.2f} %<br>Cumulative Progress: %{customdata[4]:.2f} %<br>Level: %{customdata[1]}",
         "legendgroup": "19.166666666666664",
         "line": {
          "color": "#c7da00",
          "dash": "solid",
          "width": 5
         },
         "marker": {
          "symbol": "circle"
         },
         "mode": "lines",
         "name": "",
         "orientation": "v",
         "showlegend": true,
         "type": "scatter",
         "x": [
          "2023-02-07",
          "2023-02-13",
          null
         ],
         "xaxis": "x",
         "y": [
          1.0290697674418605,
          1.0639534883720931,
          null
         ],
         "yaxis": "y"
        },
        {
         "customdata": [
          [
           15.000000000000004,
           "L2",
           "2023-02-13",
           "2023-02-21",
           24.833333333333332
          ],
          [
           15.000000000000004,
           "L2",
           "2023-02-13",
           "2023-02-21",
           39.833333333333336
          ],
          [
           15.000000000000004,
           null,
           null,
           null,
           null
          ]
         ],
         "hovertemplate": "Date Range: %{customdata[2]} to %{customdata[3]}<br>Progress in period: %{customdata[0]:.2f} %<br>Cumulative Progress: %{customdata[4]:.2f} %<br>Level: %{customdata[1]}",
         "legendgroup": "15.000000000000004",
         "line": {
          "color": "#ffd400",
          "dash": "solid",
          "width": 5
         },
         "marker": {
          "symbol": "circle"
         },
         "mode": "lines",
         "name": "",
         "orientation": "v",
         "showlegend": true,
         "type": "scatter",
         "x": [
          "2023-02-13",
          "2023-02-21",
          null
         ],
         "xaxis": "x",
         "y": [
          1.0639534883720931,
          1.1104651162790697,
          null
         ],
         "yaxis": "y"
        },
        {
         "customdata": [
          [
           36.49999999999999,
           "L2",
           "2023-02-21",
           "2023-02-24",
           39.833333333333336
          ],
          [
           36.49999999999999,
           "L2",
           "2023-02-21",
           "2023-02-24",
           76.33333333333333
          ],
          [
           36.49999999999999,
           null,
           null,
           null,
           null
          ]
         ],
         "hovertemplate": "Date Range: %{customdata[2]} to %{customdata[3]}<br>Progress in period: %{customdata[0]:.2f} %<br>Cumulative Progress: %{customdata[4]:.2f} %<br>Level: %{customdata[1]}",
         "legendgroup": "36.49999999999999",
         "line": {
          "color": "#34eb00",
          "dash": "solid",
          "width": 5
         },
         "marker": {
          "symbol": "circle"
         },
         "mode": "lines",
         "name": "",
         "orientation": "v",
         "showlegend": true,
         "type": "scatter",
         "x": [
          "2023-02-21",
          "2023-02-24",
          null
         ],
         "xaxis": "x",
         "y": [
          1.1104651162790697,
          1.127906976744186,
          null
         ],
         "yaxis": "y"
        },
        {
         "customdata": [
          [
           1.5,
           "L2",
           "2023-02-24",
           "2023-02-27",
           76.33333333333333
          ],
          [
           1.5,
           "L2",
           "2023-02-24",
           "2023-02-27",
           77.83333333333333
          ],
          [
           1.5,
           null,
           null,
           null,
           null
          ]
         ],
         "hovertemplate": "Date Range: %{customdata[2]} to %{customdata[3]}<br>Progress in period: %{customdata[0]:.2f} %<br>Cumulative Progress: %{customdata[4]:.2f} %<br>Level: %{customdata[1]}",
         "legendgroup": "1.5",
         "line": {
          "color": "#ff1500",
          "dash": "solid",
          "width": 5
         },
         "marker": {
          "symbol": "circle"
         },
         "mode": "lines",
         "name": "",
         "orientation": "v",
         "showlegend": true,
         "type": "scatter",
         "x": [
          "2023-02-24",
          "2023-02-27",
          null
         ],
         "xaxis": "x",
         "y": [
          1.127906976744186,
          1.1453488372093024,
          null
         ],
         "yaxis": "y"
        },
        {
         "customdata": [
          [
           1,
           "L2",
           "2023-02-27",
           "2023-03-03",
           77.83333333333333
          ],
          [
           1,
           "L2",
           "2023-02-27",
           "2023-03-03",
           78.83333333333333
          ],
          [
           1,
           null,
           null,
           null,
           null
          ]
         ],
         "hovertemplate": "Date Range: %{customdata[2]} to %{customdata[3]}<br>Progress in period: %{customdata[0]:.2f} %<br>Cumulative Progress: %{customdata[4]:.2f} %<br>Level: %{customdata[1]}",
         "legendgroup": "1.0",
         "line": {
          "color": "#ff0e00",
          "dash": "solid",
          "width": 5
         },
         "marker": {
          "symbol": "circle"
         },
         "mode": "lines",
         "name": "",
         "orientation": "v",
         "showlegend": true,
         "type": "scatter",
         "x": [
          "2023-02-27",
          "2023-03-03",
          null
         ],
         "xaxis": "x",
         "y": [
          1.1453488372093024,
          1.1686046511627908,
          null
         ],
         "yaxis": "y"
        },
        {
         "customdata": [
          [
           0.3333333333333428,
           "L2",
           "2023-03-03",
           "2023-03-07",
           78.83333333333333
          ],
          [
           0.3333333333333428,
           "L2",
           "2023-03-03",
           "2023-03-07",
           79.16666666666667
          ],
          [
           0.3333333333333428,
           null,
           null,
           null,
           null
          ],
          [
           0.3333333333333428,
           "L2",
           "2023-04-06",
           "2023-04-12",
           79.83333333333333
          ],
          [
           0.3333333333333428,
           "L2",
           "2023-04-06",
           "2023-04-12",
           80.16666666666667
          ],
          [
           0.3333333333333428,
           null,
           null,
           null,
           null
          ]
         ],
         "hovertemplate": "Date Range: %{customdata[2]} to %{customdata[3]}<br>Progress in period: %{customdata[0]:.2f} %<br>Cumulative Progress: %{customdata[4]:.2f} %<br>Level: %{customdata[1]}",
         "legendgroup": "0.3333333333333428",
         "line": {
          "color": "#ff0500",
          "dash": "solid",
          "width": 5
         },
         "marker": {
          "symbol": "circle"
         },
         "mode": "lines",
         "name": "",
         "orientation": "v",
         "showlegend": true,
         "type": "scatter",
         "x": [
          "2023-03-03",
          "2023-03-07",
          null,
          "2023-04-06",
          "2023-04-12",
          null
         ],
         "xaxis": "x",
         "y": [
          1.1686046511627908,
          1.191860465116279,
          null,
          1.3662790697674418,
          1.4011627906976745,
          null
         ],
         "yaxis": "y"
        },
        {
         "customdata": [
          [
           0.1666666666666572,
           "L2",
           "2023-03-20",
           "2023-03-23",
           79.16666666666667
          ],
          [
           0.1666666666666572,
           "L2",
           "2023-03-20",
           "2023-03-23",
           79.33333333333333
          ],
          [
           0.1666666666666572,
           null,
           null,
           null,
           null
          ],
          [
           0.1666666666666572,
           "L2",
           "2023-04-15",
           "2023-04-18",
           80.16666666666667
          ],
          [
           0.1666666666666572,
           "L2",
           "2023-04-15",
           "2023-04-18",
           80.33333333333333
          ],
          [
           0.1666666666666572,
           null,
           null,
           null,
           null
          ]
         ],
         "hovertemplate": "Date Range: %{customdata[2]} to %{customdata[3]}<br>Progress in period: %{customdata[0]:.2f} %<br>Cumulative Progress: %{customdata[4]:.2f} %<br>Level: %{customdata[1]}",
         "legendgroup": "0.1666666666666572",
         "line": {
          "color": "#ff0200",
          "dash": "solid",
          "width": 5
         },
         "marker": {
          "symbol": "circle"
         },
         "mode": "lines",
         "name": "",
         "orientation": "v",
         "showlegend": true,
         "type": "scatter",
         "x": [
          "2023-03-20",
          "2023-03-23",
          null,
          "2023-04-15",
          "2023-04-18",
          null
         ],
         "xaxis": "x",
         "y": [
          1.2674418604651163,
          1.2848837209302326,
          null,
          1.4186046511627908,
          1.4360465116279069,
          null
         ],
         "yaxis": "y"
        },
        {
         "customdata": [
          [
           0.5,
           "L2",
           "2023-04-04",
           "2023-04-06",
           79.33333333333333
          ],
          [
           0.5,
           "L2",
           "2023-04-04",
           "2023-04-06",
           79.83333333333333
          ],
          [
           0.5,
           null,
           null,
           null,
           null
          ]
         ],
         "hovertemplate": "Date Range: %{customdata[2]} to %{customdata[3]}<br>Progress in period: %{customdata[0]:.2f} %<br>Cumulative Progress: %{customdata[4]:.2f} %<br>Level: %{customdata[1]}",
         "legendgroup": "0.5",
         "line": {
          "color": "#ff0700",
          "dash": "solid",
          "width": 5
         },
         "marker": {
          "symbol": "circle"
         },
         "mode": "lines",
         "name": "",
         "orientation": "v",
         "showlegend": true,
         "type": "scatter",
         "x": [
          "2023-04-04",
          "2023-04-06",
          null
         ],
         "xaxis": "x",
         "y": [
          1.3546511627906976,
          1.3662790697674418,
          null
         ],
         "yaxis": "y"
        },
        {
         "customdata": [
          [
           0.1666666666666714,
           "L2",
           "2023-04-21",
           "2023-04-25",
           80.33333333333333
          ],
          [
           0.1666666666666714,
           "L2",
           "2023-04-21",
           "2023-04-25",
           80.5
          ],
          [
           0.1666666666666714,
           null,
           null,
           null,
           null
          ]
         ],
         "hovertemplate": "Date Range: %{customdata[2]} to %{customdata[3]}<br>Progress in period: %{customdata[0]:.2f} %<br>Cumulative Progress: %{customdata[4]:.2f} %<br>Level: %{customdata[1]}",
         "legendgroup": "0.1666666666666714",
         "line": {
          "color": "#ff0200",
          "dash": "solid",
          "width": 5
         },
         "marker": {
          "symbol": "circle"
         },
         "mode": "lines",
         "name": "",
         "orientation": "v",
         "showlegend": true,
         "type": "scatter",
         "x": [
          "2023-04-21",
          "2023-04-25",
          null
         ],
         "xaxis": "x",
         "y": [
          1.4534883720930232,
          1.4767441860465116,
          null
         ],
         "yaxis": "y"
        },
        {
         "customdata": [
          [
           1.8333333333333286,
           "L2",
           "2023-05-13",
           "2023-05-18",
           80.5
          ],
          [
           1.8333333333333286,
           "L2",
           "2023-05-13",
           "2023-05-18",
           82.33333333333333
          ],
          [
           1.8333333333333286,
           null,
           null,
           null,
           null
          ]
         ],
         "hovertemplate": "Date Range: %{customdata[2]} to %{customdata[3]}<br>Progress in period: %{customdata[0]:.2f} %<br>Cumulative Progress: %{customdata[4]:.2f} %<br>Level: %{customdata[1]}",
         "legendgroup": "1.8333333333333286",
         "line": {
          "color": "#ff1a00",
          "dash": "solid",
          "width": 5
         },
         "marker": {
          "symbol": "circle"
         },
         "mode": "lines",
         "name": "",
         "orientation": "v",
         "showlegend": true,
         "type": "scatter",
         "x": [
          "2023-05-13",
          "2023-05-18",
          null
         ],
         "xaxis": "x",
         "y": [
          1.5813953488372094,
          1.6104651162790697,
          null
         ],
         "yaxis": "y"
        },
        {
         "customdata": [
          [
           2.5,
           "L2",
           "2023-06-05",
           "2023-06-07",
           82.33333333333333
          ],
          [
           2.5,
           "L2",
           "2023-06-05",
           "2023-06-07",
           84.83333333333333
          ],
          [
           2.5,
           null,
           null,
           null,
           null
          ]
         ],
         "hovertemplate": "Date Range: %{customdata[2]} to %{customdata[3]}<br>Progress in period: %{customdata[0]:.2f} %<br>Cumulative Progress: %{customdata[4]:.2f} %<br>Level: %{customdata[1]}",
         "legendgroup": "2.5",
         "line": {
          "color": "#ff2300",
          "dash": "solid",
          "width": 5
         },
         "marker": {
          "symbol": "circle"
         },
         "mode": "lines",
         "name": "",
         "orientation": "v",
         "showlegend": true,
         "type": "scatter",
         "x": [
          "2023-06-05",
          "2023-06-07",
          null
         ],
         "xaxis": "x",
         "y": [
          1.7151162790697674,
          1.7267441860465116,
          null
         ],
         "yaxis": "y"
        },
        {
         "customdata": [
          [
           6.833333333333343,
           "L2",
           "2023-06-09",
           "2023-06-15",
           84.83333333333333
          ],
          [
           6.833333333333343,
           "L2",
           "2023-06-09",
           "2023-06-15",
           91.66666666666667
          ],
          [
           6.833333333333343,
           null,
           null,
           null,
           null
          ]
         ],
         "hovertemplate": "Date Range: %{customdata[2]} to %{customdata[3]}<br>Progress in period: %{customdata[0]:.2f} %<br>Cumulative Progress: %{customdata[4]:.2f} %<br>Level: %{customdata[1]}",
         "legendgroup": "6.833333333333343",
         "line": {
          "color": "#ff6100",
          "dash": "solid",
          "width": 5
         },
         "marker": {
          "symbol": "circle"
         },
         "mode": "lines",
         "name": "",
         "orientation": "v",
         "showlegend": true,
         "type": "scatter",
         "x": [
          "2023-06-09",
          "2023-06-15",
          null
         ],
         "xaxis": "x",
         "y": [
          1.7383720930232558,
          1.7732558139534884,
          null
         ],
         "yaxis": "y"
        },
        {
         "customdata": [
          [
           8.333333333333329,
           "L2",
           "2023-07-22",
           "2023-07-24",
           91.66666666666667
          ],
          [
           8.333333333333329,
           "L2",
           "2023-07-22",
           "2023-07-24",
           100
          ],
          [
           8.333333333333329,
           null,
           null,
           null,
           null
          ]
         ],
         "hovertemplate": "Date Range: %{customdata[2]} to %{customdata[3]}<br>Progress in period: %{customdata[0]:.2f} %<br>Cumulative Progress: %{customdata[4]:.2f} %<br>Level: %{customdata[1]}",
         "legendgroup": "8.333333333333329",
         "line": {
          "color": "#ff7600",
          "dash": "solid",
          "width": 5
         },
         "marker": {
          "symbol": "circle"
         },
         "mode": "lines",
         "name": "",
         "orientation": "v",
         "showlegend": true,
         "type": "scatter",
         "x": [
          "2023-07-22",
          "2023-07-24",
          null
         ],
         "xaxis": "x",
         "y": [
          1.9883720930232558,
          2,
          null
         ],
         "yaxis": "y"
        },
        {
         "customdata": [
          [
           14.166666666666666,
           "L3",
           "2023-02-21",
           "2023-02-24",
           0
          ],
          [
           14.166666666666666,
           "L3",
           "2023-02-21",
           "2023-02-24",
           14.166666666666666
          ],
          [
           14.166666666666666,
           null,
           null,
           null,
           null
          ]
         ],
         "hovertemplate": "Date Range: %{customdata[2]} to %{customdata[3]}<br>Progress in period: %{customdata[0]:.2f} %<br>Cumulative Progress: %{customdata[4]:.2f} %<br>Level: %{customdata[1]}",
         "legendgroup": "14.166666666666666",
         "line": {
          "color": "#ffc800",
          "dash": "solid",
          "width": 5
         },
         "marker": {
          "symbol": "circle"
         },
         "mode": "lines",
         "name": "",
         "orientation": "v",
         "showlegend": true,
         "type": "scatter",
         "x": [
          "2023-02-21",
          "2023-02-24",
          null
         ],
         "xaxis": "x",
         "y": [
          2,
          2.019607843137255,
          null
         ],
         "yaxis": "y"
        },
        {
         "customdata": [
          [
           0.3333333333333339,
           "L3",
           "2023-02-24",
           "2023-02-27",
           14.166666666666666
          ],
          [
           0.3333333333333339,
           "L3",
           "2023-02-24",
           "2023-02-27",
           14.5
          ],
          [
           0.3333333333333339,
           null,
           null,
           null,
           null
          ]
         ],
         "hovertemplate": "Date Range: %{customdata[2]} to %{customdata[3]}<br>Progress in period: %{customdata[0]:.2f} %<br>Cumulative Progress: %{customdata[4]:.2f} %<br>Level: %{customdata[1]}",
         "legendgroup": "0.3333333333333339",
         "line": {
          "color": "#ff0500",
          "dash": "solid",
          "width": 5
         },
         "marker": {
          "symbol": "circle"
         },
         "mode": "lines",
         "name": "",
         "orientation": "v",
         "showlegend": true,
         "type": "scatter",
         "x": [
          "2023-02-24",
          "2023-02-27",
          null
         ],
         "xaxis": "x",
         "y": [
          2.019607843137255,
          2.0392156862745097,
          null
         ],
         "yaxis": "y"
        },
        {
         "customdata": [
          [
           0.16666666666666607,
           "L3",
           "2023-02-27",
           "2023-03-03",
           14.5
          ],
          [
           0.16666666666666607,
           "L3",
           "2023-02-27",
           "2023-03-03",
           14.666666666666666
          ],
          [
           0.16666666666666607,
           null,
           null,
           null,
           null
          ]
         ],
         "hovertemplate": "Date Range: %{customdata[2]} to %{customdata[3]}<br>Progress in period: %{customdata[0]:.2f} %<br>Cumulative Progress: %{customdata[4]:.2f} %<br>Level: %{customdata[1]}",
         "legendgroup": "0.16666666666666607",
         "line": {
          "color": "#ff0200",
          "dash": "solid",
          "width": 5
         },
         "marker": {
          "symbol": "circle"
         },
         "mode": "lines",
         "name": "",
         "orientation": "v",
         "showlegend": true,
         "type": "scatter",
         "x": [
          "2023-02-27",
          "2023-03-03",
          null
         ],
         "xaxis": "x",
         "y": [
          2.0392156862745097,
          2.065359477124183,
          null
         ],
         "yaxis": "y"
        },
        {
         "customdata": [
          [
           0.16666666666666785,
           "L3",
           "2023-03-07",
           "2023-03-09",
           14.666666666666666
          ],
          [
           0.16666666666666785,
           "L3",
           "2023-03-07",
           "2023-03-09",
           14.833333333333334
          ],
          [
           0.16666666666666785,
           null,
           null,
           null,
           null
          ],
          [
           0.16666666666666785,
           "L3",
           "2023-03-30",
           "2023-03-31",
           15.166666666666666
          ],
          [
           0.16666666666666785,
           "L3",
           "2023-03-30",
           "2023-03-31",
           15.333333333333334
          ],
          [
           0.16666666666666785,
           null,
           null,
           null,
           null
          ]
         ],
         "hovertemplate": "Date Range: %{customdata[2]} to %{customdata[3]}<br>Progress in period: %{customdata[0]:.2f} %<br>Cumulative Progress: %{customdata[4]:.2f} %<br>Level: %{customdata[1]}",
         "legendgroup": "0.16666666666666785",
         "line": {
          "color": "#ff0200",
          "dash": "solid",
          "width": 5
         },
         "marker": {
          "symbol": "circle"
         },
         "mode": "lines",
         "name": "",
         "orientation": "v",
         "showlegend": true,
         "type": "scatter",
         "x": [
          "2023-03-07",
          "2023-03-09",
          null,
          "2023-03-30",
          "2023-03-31",
          null
         ],
         "xaxis": "x",
         "y": [
          2.0915032679738563,
          2.104575163398693,
          null,
          2.241830065359477,
          2.2483660130718954,
          null
         ],
         "yaxis": "y"
        },
        {
         "customdata": [
          [
           0.33333333333333215,
           "L3",
           "2023-03-16",
           "2023-03-20",
           14.833333333333334
          ],
          [
           0.33333333333333215,
           "L3",
           "2023-03-16",
           "2023-03-20",
           15.166666666666666
          ],
          [
           0.33333333333333215,
           null,
           null,
           null,
           null
          ]
         ],
         "hovertemplate": "Date Range: %{customdata[2]} to %{customdata[3]}<br>Progress in period: %{customdata[0]:.2f} %<br>Cumulative Progress: %{customdata[4]:.2f} %<br>Level: %{customdata[1]}",
         "legendgroup": "0.33333333333333215",
         "line": {
          "color": "#ff0500",
          "dash": "solid",
          "width": 5
         },
         "marker": {
          "symbol": "circle"
         },
         "mode": "lines",
         "name": "",
         "orientation": "v",
         "showlegend": true,
         "type": "scatter",
         "x": [
          "2023-03-16",
          "2023-03-20",
          null
         ],
         "xaxis": "x",
         "y": [
          2.150326797385621,
          2.176470588235294,
          null
         ],
         "yaxis": "y"
        },
        {
         "customdata": [
          [
           6.999999999999998,
           "L3",
           "2023-04-12",
           "2023-04-15",
           15.333333333333334
          ],
          [
           6.999999999999998,
           "L3",
           "2023-04-12",
           "2023-04-15",
           22.333333333333332
          ],
          [
           6.999999999999998,
           null,
           null,
           null,
           null
          ]
         ],
         "hovertemplate": "Date Range: %{customdata[2]} to %{customdata[3]}<br>Progress in period: %{customdata[0]:.2f} %<br>Cumulative Progress: %{customdata[4]:.2f} %<br>Level: %{customdata[1]}",
         "legendgroup": "6.999999999999998",
         "line": {
          "color": "#ff6300",
          "dash": "solid",
          "width": 5
         },
         "marker": {
          "symbol": "circle"
         },
         "mode": "lines",
         "name": "",
         "orientation": "v",
         "showlegend": true,
         "type": "scatter",
         "x": [
          "2023-04-12",
          "2023-04-15",
          null
         ],
         "xaxis": "x",
         "y": [
          2.326797385620915,
          2.34640522875817,
          null
         ],
         "yaxis": "y"
        },
        {
         "customdata": [
          [
           1.1666666666666679,
           "L3",
           "2023-04-15",
           "2023-04-18",
           22.333333333333332
          ],
          [
           1.1666666666666679,
           "L3",
           "2023-04-15",
           "2023-04-18",
           23.5
          ],
          [
           1.1666666666666679,
           null,
           null,
           null,
           null
          ]
         ],
         "hovertemplate": "Date Range: %{customdata[2]} to %{customdata[3]}<br>Progress in period: %{customdata[0]:.2f} %<br>Cumulative Progress: %{customdata[4]:.2f} %<br>Level: %{customdata[1]}",
         "legendgroup": "1.1666666666666679",
         "line": {
          "color": "#ff1000",
          "dash": "solid",
          "width": 5
         },
         "marker": {
          "symbol": "circle"
         },
         "mode": "lines",
         "name": "",
         "orientation": "v",
         "showlegend": true,
         "type": "scatter",
         "x": [
          "2023-04-15",
          "2023-04-18",
          null
         ],
         "xaxis": "x",
         "y": [
          2.34640522875817,
          2.366013071895425,
          null
         ],
         "yaxis": "y"
        },
        {
         "customdata": [
          [
           1.6666666666666679,
           "L3",
           "2023-04-18",
           "2023-04-21",
           23.5
          ],
          [
           1.6666666666666679,
           "L3",
           "2023-04-18",
           "2023-04-21",
           25.166666666666668
          ],
          [
           1.6666666666666679,
           null,
           null,
           null,
           null
          ]
         ],
         "hovertemplate": "Date Range: %{customdata[2]} to %{customdata[3]}<br>Progress in period: %{customdata[0]:.2f} %<br>Cumulative Progress: %{customdata[4]:.2f} %<br>Level: %{customdata[1]}",
         "legendgroup": "1.6666666666666679",
         "line": {
          "color": "#ff1800",
          "dash": "solid",
          "width": 5
         },
         "marker": {
          "symbol": "circle"
         },
         "mode": "lines",
         "name": "",
         "orientation": "v",
         "showlegend": true,
         "type": "scatter",
         "x": [
          "2023-04-18",
          "2023-04-21",
          null
         ],
         "xaxis": "x",
         "y": [
          2.366013071895425,
          2.3856209150326797,
          null
         ],
         "yaxis": "y"
        },
        {
         "customdata": [
          [
           25.833333333333332,
           "L3",
           "2023-04-21",
           "2023-04-25",
           25.166666666666668
          ],
          [
           25.833333333333332,
           "L3",
           "2023-04-21",
           "2023-04-25",
           51
          ],
          [
           25.833333333333332,
           null,
           null,
           null,
           null
          ]
         ],
         "hovertemplate": "Date Range: %{customdata[2]} to %{customdata[3]}<br>Progress in period: %{customdata[0]:.2f} %<br>Cumulative Progress: %{customdata[4]:.2f} %<br>Level: %{customdata[1]}",
         "legendgroup": "25.833333333333332",
         "line": {
          "color": "#6ce500",
          "dash": "solid",
          "width": 5
         },
         "marker": {
          "symbol": "circle"
         },
         "mode": "lines",
         "name": "",
         "orientation": "v",
         "showlegend": true,
         "type": "scatter",
         "x": [
          "2023-04-21",
          "2023-04-25",
          null
         ],
         "xaxis": "x",
         "y": [
          2.3856209150326797,
          2.411764705882353,
          null
         ],
         "yaxis": "y"
        },
        {
         "customdata": [
          [
           27.5,
           "L3",
           "2023-04-25",
           "2023-04-27",
           51
          ],
          [
           27.5,
           "L3",
           "2023-04-25",
           "2023-04-27",
           78.5
          ],
          [
           27.5,
           null,
           null,
           null,
           null
          ]
         ],
         "hovertemplate": "Date Range: %{customdata[2]} to %{customdata[3]}<br>Progress in period: %{customdata[0]:.2f} %<br>Cumulative Progress: %{customdata[4]:.2f} %<br>Level: %{customdata[1]}",
         "legendgroup": "27.5",
         "line": {
          "color": "#56e700",
          "dash": "solid",
          "width": 5
         },
         "marker": {
          "symbol": "circle"
         },
         "mode": "lines",
         "name": "",
         "orientation": "v",
         "showlegend": true,
         "type": "scatter",
         "x": [
          "2023-04-25",
          "2023-04-27",
          null
         ],
         "xaxis": "x",
         "y": [
          2.411764705882353,
          2.4248366013071894,
          null
         ],
         "yaxis": "y"
        },
        {
         "customdata": [
          [
           0.8333333333333286,
           "L3",
           "2023-04-27",
           "2023-05-02",
           78.5
          ],
          [
           0.8333333333333286,
           "L3",
           "2023-04-27",
           "2023-05-02",
           79.33333333333333
          ],
          [
           0.8333333333333286,
           null,
           null,
           null,
           null
          ]
         ],
         "hovertemplate": "Date Range: %{customdata[2]} to %{customdata[3]}<br>Progress in period: %{customdata[0]:.2f} %<br>Cumulative Progress: %{customdata[4]:.2f} %<br>Level: %{customdata[1]}",
         "legendgroup": "0.8333333333333286",
         "line": {
          "color": "#ff0c00",
          "dash": "solid",
          "width": 5
         },
         "marker": {
          "symbol": "circle"
         },
         "mode": "lines",
         "name": "",
         "orientation": "v",
         "showlegend": true,
         "type": "scatter",
         "x": [
          "2023-04-27",
          "2023-05-02",
          null
         ],
         "xaxis": "x",
         "y": [
          2.4248366013071894,
          2.457516339869281,
          null
         ],
         "yaxis": "y"
        },
        {
         "customdata": [
          [
           0.1666666666666714,
           "L3",
           "2023-05-13",
           "2023-05-18",
           79.33333333333333
          ],
          [
           0.1666666666666714,
           "L3",
           "2023-05-13",
           "2023-05-18",
           79.5
          ],
          [
           0.1666666666666714,
           null,
           null,
           null,
           null
          ]
         ],
         "hovertemplate": "Date Range: %{customdata[2]} to %{customdata[3]}<br>Progress in period: %{customdata[0]:.2f} %<br>Cumulative Progress: %{customdata[4]:.2f} %<br>Level: %{customdata[1]}",
         "legendgroup": "0.1666666666666714",
         "line": {
          "color": "#ff0200",
          "dash": "solid",
          "width": 5
         },
         "marker": {
          "symbol": "circle"
         },
         "mode": "lines",
         "name": "",
         "orientation": "v",
         "showlegend": true,
         "type": "scatter",
         "x": [
          "2023-05-13",
          "2023-05-18",
          null
         ],
         "xaxis": "x",
         "y": [
          2.5294117647058822,
          2.5620915032679736,
          null
         ],
         "yaxis": "y"
        },
        {
         "customdata": [
          [
           1,
           "L3",
           "2023-06-05",
           "2023-06-07",
           79.5
          ],
          [
           1,
           "L3",
           "2023-06-05",
           "2023-06-07",
           80.5
          ],
          [
           1,
           null,
           null,
           null,
           null
          ]
         ],
         "hovertemplate": "Date Range: %{customdata[2]} to %{customdata[3]}<br>Progress in period: %{customdata[0]:.2f} %<br>Cumulative Progress: %{customdata[4]:.2f} %<br>Level: %{customdata[1]}",
         "legendgroup": "1.0",
         "line": {
          "color": "#ff0e00",
          "dash": "solid",
          "width": 5
         },
         "marker": {
          "symbol": "circle"
         },
         "mode": "lines",
         "name": "",
         "orientation": "v",
         "showlegend": true,
         "type": "scatter",
         "x": [
          "2023-06-05",
          "2023-06-07",
          null
         ],
         "xaxis": "x",
         "y": [
          2.6797385620915035,
          2.69281045751634,
          null
         ],
         "yaxis": "y"
        },
        {
         "customdata": [
          [
           0.3333333333333286,
           "L3",
           "2023-06-22",
           "2023-06-30",
           80.5
          ],
          [
           0.3333333333333286,
           "L3",
           "2023-06-22",
           "2023-06-30",
           80.83333333333333
          ],
          [
           0.3333333333333286,
           null,
           null,
           null,
           null
          ]
         ],
         "hovertemplate": "Date Range: %{customdata[2]} to %{customdata[3]}<br>Progress in period: %{customdata[0]:.2f} %<br>Cumulative Progress: %{customdata[4]:.2f} %<br>Level: %{customdata[1]}",
         "legendgroup": "0.3333333333333286",
         "line": {
          "color": "#ff0500",
          "dash": "solid",
          "width": 5
         },
         "marker": {
          "symbol": "circle"
         },
         "mode": "lines",
         "name": "",
         "orientation": "v",
         "showlegend": true,
         "type": "scatter",
         "x": [
          "2023-06-22",
          "2023-06-30",
          null
         ],
         "xaxis": "x",
         "y": [
          2.7908496732026142,
          2.843137254901961,
          null
         ],
         "yaxis": "y"
        },
        {
         "customdata": [
          [
           19.16666666666667,
           "L3",
           "2023-07-22",
           "2023-07-24",
           80.83333333333333
          ],
          [
           19.16666666666667,
           "L3",
           "2023-07-22",
           "2023-07-24",
           100
          ],
          [
           19.16666666666667,
           null,
           null,
           null,
           null
          ]
         ],
         "hovertemplate": "Date Range: %{customdata[2]} to %{customdata[3]}<br>Progress in period: %{customdata[0]:.2f} %<br>Cumulative Progress: %{customdata[4]:.2f} %<br>Level: %{customdata[1]}",
         "legendgroup": "19.16666666666667",
         "line": {
          "color": "#c7da00",
          "dash": "solid",
          "width": 5
         },
         "marker": {
          "symbol": "circle"
         },
         "mode": "lines",
         "name": "",
         "orientation": "v",
         "showlegend": true,
         "type": "scatter",
         "x": [
          "2023-07-22",
          "2023-07-24",
          null
         ],
         "xaxis": "x",
         "y": [
          2.9869281045751634,
          3,
          null
         ],
         "yaxis": "y"
        },
        {
         "customdata": [
          [
           9,
           "L4",
           "2023-02-21",
           "2023-02-24",
           0
          ],
          [
           9,
           "L4",
           "2023-02-21",
           "2023-02-24",
           9
          ],
          [
           9,
           null,
           null,
           null,
           null
          ]
         ],
         "hovertemplate": "Date Range: %{customdata[2]} to %{customdata[3]}<br>Progress in period: %{customdata[0]:.2f} %<br>Cumulative Progress: %{customdata[4]:.2f} %<br>Level: %{customdata[1]}",
         "legendgroup": "9.0",
         "line": {
          "color": "#ff7f00",
          "dash": "solid",
          "width": 5
         },
         "marker": {
          "symbol": "circle"
         },
         "mode": "lines",
         "name": "",
         "orientation": "v",
         "showlegend": true,
         "type": "scatter",
         "x": [
          "2023-02-21",
          "2023-02-24",
          null
         ],
         "xaxis": "x",
         "y": [
          3,
          3.019607843137255,
          null
         ],
         "yaxis": "y"
        },
        {
         "customdata": [
          [
           2.5,
           "L4",
           "2023-02-24",
           "2023-02-27",
           9
          ],
          [
           2.5,
           "L4",
           "2023-02-24",
           "2023-02-27",
           11.5
          ],
          [
           2.5,
           null,
           null,
           null,
           null
          ]
         ],
         "hovertemplate": "Date Range: %{customdata[2]} to %{customdata[3]}<br>Progress in period: %{customdata[0]:.2f} %<br>Cumulative Progress: %{customdata[4]:.2f} %<br>Level: %{customdata[1]}",
         "legendgroup": "2.5",
         "line": {
          "color": "#ff2300",
          "dash": "solid",
          "width": 5
         },
         "marker": {
          "symbol": "circle"
         },
         "mode": "lines",
         "name": "",
         "orientation": "v",
         "showlegend": true,
         "type": "scatter",
         "x": [
          "2023-02-24",
          "2023-02-27",
          null
         ],
         "xaxis": "x",
         "y": [
          3.019607843137255,
          3.0392156862745097,
          null
         ],
         "yaxis": "y"
        },
        {
         "customdata": [
          [
           0.8333333333333339,
           "L4",
           "2023-02-27",
           "2023-03-03",
           11.5
          ],
          [
           0.8333333333333339,
           "L4",
           "2023-02-27",
           "2023-03-03",
           12.333333333333334
          ],
          [
           0.8333333333333339,
           null,
           null,
           null,
           null
          ]
         ],
         "hovertemplate": "Date Range: %{customdata[2]} to %{customdata[3]}<br>Progress in period: %{customdata[0]:.2f} %<br>Cumulative Progress: %{customdata[4]:.2f} %<br>Level: %{customdata[1]}",
         "legendgroup": "0.8333333333333339",
         "line": {
          "color": "#ff0c00",
          "dash": "solid",
          "width": 5
         },
         "marker": {
          "symbol": "circle"
         },
         "mode": "lines",
         "name": "",
         "orientation": "v",
         "showlegend": true,
         "type": "scatter",
         "x": [
          "2023-02-27",
          "2023-03-03",
          null
         ],
         "xaxis": "x",
         "y": [
          3.0392156862745097,
          3.065359477124183,
          null
         ],
         "yaxis": "y"
        },
        {
         "customdata": [
          [
           0.16666666666666607,
           "L4",
           "2023-03-03",
           "2023-03-07",
           12.333333333333334
          ],
          [
           0.16666666666666607,
           "L4",
           "2023-03-03",
           "2023-03-07",
           12.5
          ],
          [
           0.16666666666666607,
           null,
           null,
           null,
           null
          ],
          [
           0.16666666666666607,
           "L4",
           "2023-03-30",
           "2023-03-31",
           14.333333333333334
          ],
          [
           0.16666666666666607,
           "L4",
           "2023-03-30",
           "2023-03-31",
           14.5
          ],
          [
           0.16666666666666607,
           null,
           null,
           null,
           null
          ]
         ],
         "hovertemplate": "Date Range: %{customdata[2]} to %{customdata[3]}<br>Progress in period: %{customdata[0]:.2f} %<br>Cumulative Progress: %{customdata[4]:.2f} %<br>Level: %{customdata[1]}",
         "legendgroup": "0.16666666666666607",
         "line": {
          "color": "#ff0200",
          "dash": "solid",
          "width": 5
         },
         "marker": {
          "symbol": "circle"
         },
         "mode": "lines",
         "name": "",
         "orientation": "v",
         "showlegend": true,
         "type": "scatter",
         "x": [
          "2023-03-03",
          "2023-03-07",
          null,
          "2023-03-30",
          "2023-03-31",
          null
         ],
         "xaxis": "x",
         "y": [
          3.065359477124183,
          3.0915032679738563,
          null,
          3.241830065359477,
          3.2483660130718954,
          null
         ],
         "yaxis": "y"
        },
        {
         "customdata": [
          [
           1.666666666666666,
           "L4",
           "2023-03-16",
           "2023-03-20",
           12.5
          ],
          [
           1.666666666666666,
           "L4",
           "2023-03-16",
           "2023-03-20",
           14.166666666666666
          ],
          [
           1.666666666666666,
           null,
           null,
           null,
           null
          ]
         ],
         "hovertemplate": "Date Range: %{customdata[2]} to %{customdata[3]}<br>Progress in period: %{customdata[0]:.2f} %<br>Cumulative Progress: %{customdata[4]:.2f} %<br>Level: %{customdata[1]}",
         "legendgroup": "1.666666666666666",
         "line": {
          "color": "#ff1800",
          "dash": "solid",
          "width": 5
         },
         "marker": {
          "symbol": "circle"
         },
         "mode": "lines",
         "name": "",
         "orientation": "v",
         "showlegend": true,
         "type": "scatter",
         "x": [
          "2023-03-16",
          "2023-03-20",
          null
         ],
         "xaxis": "x",
         "y": [
          3.150326797385621,
          3.176470588235294,
          null
         ],
         "yaxis": "y"
        },
        {
         "customdata": [
          [
           0.16666666666666785,
           "L4",
           "2023-03-20",
           "2023-03-23",
           14.166666666666666
          ],
          [
           0.16666666666666785,
           "L4",
           "2023-03-20",
           "2023-03-23",
           14.333333333333334
          ],
          [
           0.16666666666666785,
           null,
           null,
           null,
           null
          ]
         ],
         "hovertemplate": "Date Range: %{customdata[2]} to %{customdata[3]}<br>Progress in period: %{customdata[0]:.2f} %<br>Cumulative Progress: %{customdata[4]:.2f} %<br>Level: %{customdata[1]}",
         "legendgroup": "0.16666666666666785",
         "line": {
          "color": "#ff0200",
          "dash": "solid",
          "width": 5
         },
         "marker": {
          "symbol": "circle"
         },
         "mode": "lines",
         "name": "",
         "orientation": "v",
         "showlegend": true,
         "type": "scatter",
         "x": [
          "2023-03-20",
          "2023-03-23",
          null
         ],
         "xaxis": "x",
         "y": [
          3.176470588235294,
          3.196078431372549,
          null
         ],
         "yaxis": "y"
        },
        {
         "customdata": [
          [
           0.3333333333333339,
           "L4",
           "2023-04-15",
           "2023-04-18",
           14.5
          ],
          [
           0.3333333333333339,
           "L4",
           "2023-04-15",
           "2023-04-18",
           14.833333333333334
          ],
          [
           0.3333333333333339,
           null,
           null,
           null,
           null
          ]
         ],
         "hovertemplate": "Date Range: %{customdata[2]} to %{customdata[3]}<br>Progress in period: %{customdata[0]:.2f} %<br>Cumulative Progress: %{customdata[4]:.2f} %<br>Level: %{customdata[1]}",
         "legendgroup": "0.3333333333333339",
         "line": {
          "color": "#ff0500",
          "dash": "solid",
          "width": 5
         },
         "marker": {
          "symbol": "circle"
         },
         "mode": "lines",
         "name": "",
         "orientation": "v",
         "showlegend": true,
         "type": "scatter",
         "x": [
          "2023-04-15",
          "2023-04-18",
          null
         ],
         "xaxis": "x",
         "y": [
          3.34640522875817,
          3.366013071895425,
          null
         ],
         "yaxis": "y"
        },
        {
         "customdata": [
          [
           11.999999999999998,
           "L4",
           "2023-04-18",
           "2023-04-21",
           14.833333333333334
          ],
          [
           11.999999999999998,
           "L4",
           "2023-04-18",
           "2023-04-21",
           26.833333333333332
          ],
          [
           11.999999999999998,
           null,
           null,
           null,
           null
          ]
         ],
         "hovertemplate": "Date Range: %{customdata[2]} to %{customdata[3]}<br>Progress in period: %{customdata[0]:.2f} %<br>Cumulative Progress: %{customdata[4]:.2f} %<br>Level: %{customdata[1]}",
         "legendgroup": "11.999999999999998",
         "line": {
          "color": "#ffaa00",
          "dash": "solid",
          "width": 5
         },
         "marker": {
          "symbol": "circle"
         },
         "mode": "lines",
         "name": "",
         "orientation": "v",
         "showlegend": true,
         "type": "scatter",
         "x": [
          "2023-04-18",
          "2023-04-21",
          null
         ],
         "xaxis": "x",
         "y": [
          3.366013071895425,
          3.3856209150326797,
          null
         ],
         "yaxis": "y"
        },
        {
         "customdata": [
          [
           8.666666666666668,
           "L4",
           "2023-04-25",
           "2023-04-27",
           26.833333333333332
          ],
          [
           8.666666666666668,
           "L4",
           "2023-04-25",
           "2023-04-27",
           35.5
          ],
          [
           8.666666666666668,
           null,
           null,
           null,
           null
          ]
         ],
         "hovertemplate": "Date Range: %{customdata[2]} to %{customdata[3]}<br>Progress in period: %{customdata[0]:.2f} %<br>Cumulative Progress: %{customdata[4]:.2f} %<br>Level: %{customdata[1]}",
         "legendgroup": "8.666666666666668",
         "line": {
          "color": "#ff7a00",
          "dash": "solid",
          "width": 5
         },
         "marker": {
          "symbol": "circle"
         },
         "mode": "lines",
         "name": "",
         "orientation": "v",
         "showlegend": true,
         "type": "scatter",
         "x": [
          "2023-04-25",
          "2023-04-27",
          null
         ],
         "xaxis": "x",
         "y": [
          3.411764705882353,
          3.4248366013071894,
          null
         ],
         "yaxis": "y"
        },
        {
         "customdata": [
          [
           3.8333333333333357,
           "L4",
           "2023-04-27",
           "2023-05-02",
           35.5
          ],
          [
           3.8333333333333357,
           "L4",
           "2023-04-27",
           "2023-05-02",
           39.333333333333336
          ],
          [
           3.8333333333333357,
           null,
           null,
           null,
           null
          ]
         ],
         "hovertemplate": "Date Range: %{customdata[2]} to %{customdata[3]}<br>Progress in period: %{customdata[0]:.2f} %<br>Cumulative Progress: %{customdata[4]:.2f} %<br>Level: %{customdata[1]}",
         "legendgroup": "3.8333333333333357",
         "line": {
          "color": "#ff3600",
          "dash": "solid",
          "width": 5
         },
         "marker": {
          "symbol": "circle"
         },
         "mode": "lines",
         "name": "",
         "orientation": "v",
         "showlegend": true,
         "type": "scatter",
         "x": [
          "2023-04-27",
          "2023-05-02",
          null
         ],
         "xaxis": "x",
         "y": [
          3.4248366013071894,
          3.457516339869281,
          null
         ],
         "yaxis": "y"
        },
        {
         "customdata": [
          [
           33.833333333333336,
           "L4",
           "2023-05-13",
           "2023-05-18",
           39.333333333333336
          ],
          [
           33.833333333333336,
           "L4",
           "2023-05-13",
           "2023-05-18",
           73.16666666666667
          ],
          [
           33.833333333333336,
           null,
           null,
           null,
           null
          ]
         ],
         "hovertemplate": "Date Range: %{customdata[2]} to %{customdata[3]}<br>Progress in period: %{customdata[0]:.2f} %<br>Cumulative Progress: %{customdata[4]:.2f} %<br>Level: %{customdata[1]}",
         "legendgroup": "33.833333333333336",
         "line": {
          "color": "#34eb00",
          "dash": "solid",
          "width": 5
         },
         "marker": {
          "symbol": "circle"
         },
         "mode": "lines",
         "name": "",
         "orientation": "v",
         "showlegend": true,
         "type": "scatter",
         "x": [
          "2023-05-13",
          "2023-05-18",
          null
         ],
         "xaxis": "x",
         "y": [
          3.5294117647058822,
          3.5620915032679736,
          null
         ],
         "yaxis": "y"
        },
        {
         "customdata": [
          [
           2.3333333333333286,
           "L4",
           "2023-06-05",
           "2023-06-07",
           73.16666666666667
          ],
          [
           2.3333333333333286,
           "L4",
           "2023-06-05",
           "2023-06-07",
           75.5
          ],
          [
           2.3333333333333286,
           null,
           null,
           null,
           null
          ]
         ],
         "hovertemplate": "Date Range: %{customdata[2]} to %{customdata[3]}<br>Progress in period: %{customdata[0]:.2f} %<br>Cumulative Progress: %{customdata[4]:.2f} %<br>Level: %{customdata[1]}",
         "legendgroup": "2.3333333333333286",
         "line": {
          "color": "#ff2100",
          "dash": "solid",
          "width": 5
         },
         "marker": {
          "symbol": "circle"
         },
         "mode": "lines",
         "name": "",
         "orientation": "v",
         "showlegend": true,
         "type": "scatter",
         "x": [
          "2023-06-05",
          "2023-06-07",
          null
         ],
         "xaxis": "x",
         "y": [
          3.6797385620915035,
          3.69281045751634,
          null
         ],
         "yaxis": "y"
        },
        {
         "customdata": [
          [
           1.5,
           "L4",
           "2023-06-09",
           "2023-06-15",
           75.5
          ],
          [
           1.5,
           "L4",
           "2023-06-09",
           "2023-06-15",
           77
          ],
          [
           1.5,
           null,
           null,
           null,
           null
          ]
         ],
         "hovertemplate": "Date Range: %{customdata[2]} to %{customdata[3]}<br>Progress in period: %{customdata[0]:.2f} %<br>Cumulative Progress: %{customdata[4]:.2f} %<br>Level: %{customdata[1]}",
         "legendgroup": "1.5",
         "line": {
          "color": "#ff1500",
          "dash": "solid",
          "width": 5
         },
         "marker": {
          "symbol": "circle"
         },
         "mode": "lines",
         "name": "",
         "orientation": "v",
         "showlegend": true,
         "type": "scatter",
         "x": [
          "2023-06-09",
          "2023-06-15",
          null
         ],
         "xaxis": "x",
         "y": [
          3.7058823529411766,
          3.7450980392156863,
          null
         ],
         "yaxis": "y"
        },
        {
         "customdata": [
          [
           1.8333333333333286,
           "L4",
           "2023-06-20",
           "2023-06-22",
           77
          ],
          [
           1.8333333333333286,
           "L4",
           "2023-06-20",
           "2023-06-22",
           78.83333333333333
          ],
          [
           1.8333333333333286,
           null,
           null,
           null,
           null
          ]
         ],
         "hovertemplate": "Date Range: %{customdata[2]} to %{customdata[3]}<br>Progress in period: %{customdata[0]:.2f} %<br>Cumulative Progress: %{customdata[4]:.2f} %<br>Level: %{customdata[1]}",
         "legendgroup": "1.8333333333333286",
         "line": {
          "color": "#ff1a00",
          "dash": "solid",
          "width": 5
         },
         "marker": {
          "symbol": "circle"
         },
         "mode": "lines",
         "name": "",
         "orientation": "v",
         "showlegend": true,
         "type": "scatter",
         "x": [
          "2023-06-20",
          "2023-06-22",
          null
         ],
         "xaxis": "x",
         "y": [
          3.7777777777777777,
          3.7908496732026142,
          null
         ],
         "yaxis": "y"
        },
        {
         "customdata": [
          [
           1.1666666666666714,
           "L4",
           "2023-06-22",
           "2023-06-30",
           78.83333333333333
          ],
          [
           1.1666666666666714,
           "L4",
           "2023-06-22",
           "2023-06-30",
           80
          ],
          [
           1.1666666666666714,
           null,
           null,
           null,
           null
          ]
         ],
         "hovertemplate": "Date Range: %{customdata[2]} to %{customdata[3]}<br>Progress in period: %{customdata[0]:.2f} %<br>Cumulative Progress: %{customdata[4]:.2f} %<br>Level: %{customdata[1]}",
         "legendgroup": "1.1666666666666714",
         "line": {
          "color": "#ff1000",
          "dash": "solid",
          "width": 5
         },
         "marker": {
          "symbol": "circle"
         },
         "mode": "lines",
         "name": "",
         "orientation": "v",
         "showlegend": true,
         "type": "scatter",
         "x": [
          "2023-06-22",
          "2023-06-30",
          null
         ],
         "xaxis": "x",
         "y": [
          3.7908496732026142,
          3.843137254901961,
          null
         ],
         "yaxis": "y"
        },
        {
         "customdata": [
          [
           20,
           "L4",
           "2023-07-22",
           "2023-07-24",
           80
          ],
          [
           20,
           "L4",
           "2023-07-22",
           "2023-07-24",
           100
          ],
          [
           20,
           null,
           null,
           null,
           null
          ]
         ],
         "hovertemplate": "Date Range: %{customdata[2]} to %{customdata[3]}<br>Progress in period: %{customdata[0]:.2f} %<br>Cumulative Progress: %{customdata[4]:.2f} %<br>Level: %{customdata[1]}",
         "legendgroup": "20.0",
         "line": {
          "color": "#bbdc00",
          "dash": "solid",
          "width": 5
         },
         "marker": {
          "symbol": "circle"
         },
         "mode": "lines",
         "name": "",
         "orientation": "v",
         "showlegend": true,
         "type": "scatter",
         "x": [
          "2023-07-22",
          "2023-07-24",
          null
         ],
         "xaxis": "x",
         "y": [
          3.9869281045751634,
          4,
          null
         ],
         "yaxis": "y"
        },
        {
         "customdata": [
          [
           15,
           "L5",
           "2023-02-27",
           "2023-03-03",
           0
          ],
          [
           15,
           "L5",
           "2023-02-27",
           "2023-03-03",
           15
          ],
          [
           15,
           null,
           null,
           null,
           null
          ]
         ],
         "hovertemplate": "Date Range: %{customdata[2]} to %{customdata[3]}<br>Progress in period: %{customdata[0]:.2f} %<br>Cumulative Progress: %{customdata[4]:.2f} %<br>Level: %{customdata[1]}",
         "legendgroup": "15.0",
         "line": {
          "color": "#ffd400",
          "dash": "solid",
          "width": 5
         },
         "marker": {
          "symbol": "circle"
         },
         "mode": "lines",
         "name": "",
         "orientation": "v",
         "showlegend": true,
         "type": "scatter",
         "x": [
          "2023-02-27",
          "2023-03-03",
          null
         ],
         "xaxis": "x",
         "y": [
          4,
          4.0272108843537415,
          null
         ],
         "yaxis": "y"
        },
        {
         "customdata": [
          [
           0.16666666666666607,
           "L5",
           "2023-03-03",
           "2023-03-07",
           15
          ],
          [
           0.16666666666666607,
           "L5",
           "2023-03-03",
           "2023-03-07",
           15.166666666666666
          ],
          [
           0.16666666666666607,
           null,
           null,
           null,
           null
          ]
         ],
         "hovertemplate": "Date Range: %{customdata[2]} to %{customdata[3]}<br>Progress in period: %{customdata[0]:.2f} %<br>Cumulative Progress: %{customdata[4]:.2f} %<br>Level: %{customdata[1]}",
         "legendgroup": "0.16666666666666607",
         "line": {
          "color": "#ff0200",
          "dash": "solid",
          "width": 5
         },
         "marker": {
          "symbol": "circle"
         },
         "mode": "lines",
         "name": "",
         "orientation": "v",
         "showlegend": true,
         "type": "scatter",
         "x": [
          "2023-03-03",
          "2023-03-07",
          null
         ],
         "xaxis": "x",
         "y": [
          4.0272108843537415,
          4.054421768707483,
          null
         ],
         "yaxis": "y"
        },
        {
         "customdata": [
          [
           0.5,
           "L5",
           "2023-04-04",
           "2023-04-06",
           15.166666666666666
          ],
          [
           0.5,
           "L5",
           "2023-04-04",
           "2023-04-06",
           15.666666666666666
          ],
          [
           0.5,
           null,
           null,
           null,
           null
          ]
         ],
         "hovertemplate": "Date Range: %{customdata[2]} to %{customdata[3]}<br>Progress in period: %{customdata[0]:.2f} %<br>Cumulative Progress: %{customdata[4]:.2f} %<br>Level: %{customdata[1]}",
         "legendgroup": "0.5",
         "line": {
          "color": "#ff0700",
          "dash": "solid",
          "width": 5
         },
         "marker": {
          "symbol": "circle"
         },
         "mode": "lines",
         "name": "",
         "orientation": "v",
         "showlegend": true,
         "type": "scatter",
         "x": [
          "2023-04-04",
          "2023-04-06",
          null
         ],
         "xaxis": "x",
         "y": [
          4.244897959183674,
          4.258503401360544,
          null
         ],
         "yaxis": "y"
        },
        {
         "customdata": [
          [
           0.6666666666666661,
           "L5",
           "2023-04-06",
           "2023-04-12",
           15.666666666666666
          ],
          [
           0.6666666666666661,
           "L5",
           "2023-04-06",
           "2023-04-12",
           16.333333333333332
          ],
          [
           0.6666666666666661,
           null,
           null,
           null,
           null
          ]
         ],
         "hovertemplate": "Date Range: %{customdata[2]} to %{customdata[3]}<br>Progress in period: %{customdata[0]:.2f} %<br>Cumulative Progress: %{customdata[4]:.2f} %<br>Level: %{customdata[1]}",
         "legendgroup": "0.6666666666666661",
         "line": {
          "color": "#ff0900",
          "dash": "solid",
          "width": 5
         },
         "marker": {
          "symbol": "circle"
         },
         "mode": "lines",
         "name": "",
         "orientation": "v",
         "showlegend": true,
         "type": "scatter",
         "x": [
          "2023-04-06",
          "2023-04-12",
          null
         ],
         "xaxis": "x",
         "y": [
          4.258503401360544,
          4.299319727891157,
          null
         ],
         "yaxis": "y"
        },
        {
         "customdata": [
          [
           0.3333333333333357,
           "L5",
           "2023-04-21",
           "2023-04-25",
           16.333333333333332
          ],
          [
           0.3333333333333357,
           "L5",
           "2023-04-21",
           "2023-04-25",
           16.666666666666668
          ],
          [
           0.3333333333333357,
           null,
           null,
           null,
           null
          ]
         ],
         "hovertemplate": "Date Range: %{customdata[2]} to %{customdata[3]}<br>Progress in period: %{customdata[0]:.2f} %<br>Cumulative Progress: %{customdata[4]:.2f} %<br>Level: %{customdata[1]}",
         "legendgroup": "0.3333333333333357",
         "line": {
          "color": "#ff0500",
          "dash": "solid",
          "width": 5
         },
         "marker": {
          "symbol": "circle"
         },
         "mode": "lines",
         "name": "",
         "orientation": "v",
         "showlegend": true,
         "type": "scatter",
         "x": [
          "2023-04-21",
          "2023-04-25",
          null
         ],
         "xaxis": "x",
         "y": [
          4.360544217687075,
          4.387755102040816,
          null
         ],
         "yaxis": "y"
        },
        {
         "customdata": [
          [
           0.1666666666666643,
           "L5",
           "2023-04-25",
           "2023-04-27",
           16.666666666666668
          ],
          [
           0.1666666666666643,
           "L5",
           "2023-04-25",
           "2023-04-27",
           16.833333333333332
          ],
          [
           0.1666666666666643,
           null,
           null,
           null,
           null
          ]
         ],
         "hovertemplate": "Date Range: %{customdata[2]} to %{customdata[3]}<br>Progress in period: %{customdata[0]:.2f} %<br>Cumulative Progress: %{customdata[4]:.2f} %<br>Level: %{customdata[1]}",
         "legendgroup": "0.1666666666666643",
         "line": {
          "color": "#ff0200",
          "dash": "solid",
          "width": 5
         },
         "marker": {
          "symbol": "circle"
         },
         "mode": "lines",
         "name": "",
         "orientation": "v",
         "showlegend": true,
         "type": "scatter",
         "x": [
          "2023-04-25",
          "2023-04-27",
          null
         ],
         "xaxis": "x",
         "y": [
          4.387755102040816,
          4.401360544217687,
          null
         ],
         "yaxis": "y"
        },
        {
         "customdata": [
          [
           16.500000000000004,
           "L5",
           "2023-05-13",
           "2023-05-18",
           16.833333333333332
          ],
          [
           16.500000000000004,
           "L5",
           "2023-05-13",
           "2023-05-18",
           33.333333333333336
          ],
          [
           16.500000000000004,
           null,
           null,
           null,
           null
          ]
         ],
         "hovertemplate": "Date Range: %{customdata[2]} to %{customdata[3]}<br>Progress in period: %{customdata[0]:.2f} %<br>Cumulative Progress: %{customdata[4]:.2f} %<br>Level: %{customdata[1]}",
         "legendgroup": "16.500000000000004",
         "line": {
          "color": "#ebd600",
          "dash": "solid",
          "width": 5
         },
         "marker": {
          "symbol": "circle"
         },
         "mode": "lines",
         "name": "",
         "orientation": "v",
         "showlegend": true,
         "type": "scatter",
         "x": [
          "2023-05-13",
          "2023-05-18",
          null
         ],
         "xaxis": "x",
         "y": [
          4.510204081632653,
          4.54421768707483,
          null
         ],
         "yaxis": "y"
        },
        {
         "customdata": [
          [
           3,
           "L5",
           "2023-06-05",
           "2023-06-07",
           33.333333333333336
          ],
          [
           3,
           "L5",
           "2023-06-05",
           "2023-06-07",
           36.333333333333336
          ],
          [
           3,
           null,
           null,
           null,
           null
          ]
         ],
         "hovertemplate": "Date Range: %{customdata[2]} to %{customdata[3]}<br>Progress in period: %{customdata[0]:.2f} %<br>Cumulative Progress: %{customdata[4]:.2f} %<br>Level: %{customdata[1]}",
         "legendgroup": "3.0",
         "line": {
          "color": "#ff2a00",
          "dash": "solid",
          "width": 5
         },
         "marker": {
          "symbol": "circle"
         },
         "mode": "lines",
         "name": "",
         "orientation": "v",
         "showlegend": true,
         "type": "scatter",
         "x": [
          "2023-06-05",
          "2023-06-07",
          null
         ],
         "xaxis": "x",
         "y": [
          4.666666666666667,
          4.680272108843537,
          null
         ],
         "yaxis": "y"
        },
        {
         "customdata": [
          [
           23,
           "L5",
           "2023-06-09",
           "2023-06-15",
           36.333333333333336
          ],
          [
           23,
           "L5",
           "2023-06-09",
           "2023-06-15",
           59.333333333333336
          ],
          [
           23,
           null,
           null,
           null,
           null
          ]
         ],
         "hovertemplate": "Date Range: %{customdata[2]} to %{customdata[3]}<br>Progress in period: %{customdata[0]:.2f} %<br>Cumulative Progress: %{customdata[4]:.2f} %<br>Level: %{customdata[1]}",
         "legendgroup": "23.0",
         "line": {
          "color": "#93e000",
          "dash": "solid",
          "width": 5
         },
         "marker": {
          "symbol": "circle"
         },
         "mode": "lines",
         "name": "",
         "orientation": "v",
         "showlegend": true,
         "type": "scatter",
         "x": [
          "2023-06-09",
          "2023-06-15",
          null
         ],
         "xaxis": "x",
         "y": [
          4.6938775510204085,
          4.73469387755102,
          null
         ],
         "yaxis": "y"
        },
        {
         "customdata": [
          [
           10.333333333333336,
           "L5",
           "2023-06-20",
           "2023-06-22",
           59.333333333333336
          ],
          [
           10.333333333333336,
           "L5",
           "2023-06-20",
           "2023-06-22",
           69.66666666666667
          ],
          [
           10.333333333333336,
           null,
           null,
           null,
           null
          ]
         ],
         "hovertemplate": "Date Range: %{customdata[2]} to %{customdata[3]}<br>Progress in period: %{customdata[0]:.2f} %<br>Cumulative Progress: %{customdata[4]:.2f} %<br>Level: %{customdata[1]}",
         "legendgroup": "10.333333333333336",
         "line": {
          "color": "#ff9200",
          "dash": "solid",
          "width": 5
         },
         "marker": {
          "symbol": "circle"
         },
         "mode": "lines",
         "name": "",
         "orientation": "v",
         "showlegend": true,
         "type": "scatter",
         "x": [
          "2023-06-20",
          "2023-06-22",
          null
         ],
         "xaxis": "x",
         "y": [
          4.7687074829931975,
          4.782312925170068,
          null
         ],
         "yaxis": "y"
        },
        {
         "customdata": [
          [
           9.666666666666657,
           "L5",
           "2023-06-22",
           "2023-06-30",
           69.66666666666667
          ],
          [
           9.666666666666657,
           "L5",
           "2023-06-22",
           "2023-06-30",
           79.33333333333333
          ],
          [
           9.666666666666657,
           null,
           null,
           null,
           null
          ]
         ],
         "hovertemplate": "Date Range: %{customdata[2]} to %{customdata[3]}<br>Progress in period: %{customdata[0]:.2f} %<br>Cumulative Progress: %{customdata[4]:.2f} %<br>Level: %{customdata[1]}",
         "legendgroup": "9.666666666666657",
         "line": {
          "color": "#ff8900",
          "dash": "solid",
          "width": 5
         },
         "marker": {
          "symbol": "circle"
         },
         "mode": "lines",
         "name": "",
         "orientation": "v",
         "showlegend": true,
         "type": "scatter",
         "x": [
          "2023-06-22",
          "2023-06-30",
          null
         ],
         "xaxis": "x",
         "y": [
          4.782312925170068,
          4.836734693877551,
          null
         ],
         "yaxis": "y"
        },
        {
         "customdata": [
          [
           0.3333333333333428,
           "L5",
           "2023-06-30",
           "2023-07-06",
           79.33333333333333
          ],
          [
           0.3333333333333428,
           "L5",
           "2023-06-30",
           "2023-07-06",
           79.66666666666667
          ],
          [
           0.3333333333333428,
           null,
           null,
           null,
           null
          ]
         ],
         "hovertemplate": "Date Range: %{customdata[2]} to %{customdata[3]}<br>Progress in period: %{customdata[0]:.2f} %<br>Cumulative Progress: %{customdata[4]:.2f} %<br>Level: %{customdata[1]}",
         "legendgroup": "0.3333333333333428",
         "line": {
          "color": "#ff0500",
          "dash": "solid",
          "width": 5
         },
         "marker": {
          "symbol": "circle"
         },
         "mode": "lines",
         "name": "",
         "orientation": "v",
         "showlegend": true,
         "type": "scatter",
         "x": [
          "2023-06-30",
          "2023-07-06",
          null
         ],
         "xaxis": "x",
         "y": [
          4.836734693877551,
          4.877551020408164,
          null
         ],
         "yaxis": "y"
        },
        {
         "customdata": [
          [
           0.1666666666666572,
           "L5",
           "2023-07-06",
           "2023-07-13",
           79.66666666666667
          ],
          [
           0.1666666666666572,
           "L5",
           "2023-07-06",
           "2023-07-13",
           79.83333333333333
          ],
          [
           0.1666666666666572,
           null,
           null,
           null,
           null
          ]
         ],
         "hovertemplate": "Date Range: %{customdata[2]} to %{customdata[3]}<br>Progress in period: %{customdata[0]:.2f} %<br>Cumulative Progress: %{customdata[4]:.2f} %<br>Level: %{customdata[1]}",
         "legendgroup": "0.1666666666666572",
         "line": {
          "color": "#ff0200",
          "dash": "solid",
          "width": 5
         },
         "marker": {
          "symbol": "circle"
         },
         "mode": "lines",
         "name": "",
         "orientation": "v",
         "showlegend": true,
         "type": "scatter",
         "x": [
          "2023-07-06",
          "2023-07-13",
          null
         ],
         "xaxis": "x",
         "y": [
          4.877551020408164,
          4.925170068027211,
          null
         ],
         "yaxis": "y"
        },
        {
         "customdata": [
          [
           20.16666666666667,
           "L5",
           "2023-07-22",
           "2023-07-24",
           79.83333333333333
          ],
          [
           20.16666666666667,
           "L5",
           "2023-07-22",
           "2023-07-24",
           100
          ],
          [
           20.16666666666667,
           null,
           null,
           null,
           null
          ]
         ],
         "hovertemplate": "Date Range: %{customdata[2]} to %{customdata[3]}<br>Progress in period: %{customdata[0]:.2f} %<br>Cumulative Progress: %{customdata[4]:.2f} %<br>Level: %{customdata[1]}",
         "legendgroup": "20.16666666666667",
         "line": {
          "color": "#b9dc00",
          "dash": "solid",
          "width": 5
         },
         "marker": {
          "symbol": "circle"
         },
         "mode": "lines",
         "name": "",
         "orientation": "v",
         "showlegend": true,
         "type": "scatter",
         "x": [
          "2023-07-22",
          "2023-07-24",
          null
         ],
         "xaxis": "x",
         "y": [
          4.986394557823129,
          5,
          null
         ],
         "yaxis": "y"
        },
        {
         "customdata": [
          [
           5.166666666666667,
           "L6",
           "2023-02-27",
           "2023-03-03",
           0
          ],
          [
           5.166666666666667,
           "L6",
           "2023-02-27",
           "2023-03-03",
           5.166666666666667
          ],
          [
           5.166666666666667,
           null,
           null,
           null,
           null
          ]
         ],
         "hovertemplate": "Date Range: %{customdata[2]} to %{customdata[3]}<br>Progress in period: %{customdata[0]:.2f} %<br>Cumulative Progress: %{customdata[4]:.2f} %<br>Level: %{customdata[1]}",
         "legendgroup": "5.166666666666667",
         "line": {
          "color": "#ff4900",
          "dash": "solid",
          "width": 5
         },
         "marker": {
          "symbol": "circle"
         },
         "mode": "lines",
         "name": "",
         "orientation": "v",
         "showlegend": true,
         "type": "scatter",
         "x": [
          "2023-02-27",
          "2023-03-03",
          null
         ],
         "xaxis": "x",
         "y": [
          5,
          5.0272108843537415,
          null
         ],
         "yaxis": "y"
        },
        {
         "customdata": [
          [
           3.999999999999999,
           "L6",
           "2023-03-03",
           "2023-03-07",
           5.166666666666667
          ],
          [
           3.999999999999999,
           "L6",
           "2023-03-03",
           "2023-03-07",
           9.166666666666666
          ],
          [
           3.999999999999999,
           null,
           null,
           null,
           null
          ]
         ],
         "hovertemplate": "Date Range: %{customdata[2]} to %{customdata[3]}<br>Progress in period: %{customdata[0]:.2f} %<br>Cumulative Progress: %{customdata[4]:.2f} %<br>Level: %{customdata[1]}",
         "legendgroup": "3.999999999999999",
         "line": {
          "color": "#ff3900",
          "dash": "solid",
          "width": 5
         },
         "marker": {
          "symbol": "circle"
         },
         "mode": "lines",
         "name": "",
         "orientation": "v",
         "showlegend": true,
         "type": "scatter",
         "x": [
          "2023-03-03",
          "2023-03-07",
          null
         ],
         "xaxis": "x",
         "y": [
          5.0272108843537415,
          5.054421768707483,
          null
         ],
         "yaxis": "y"
        },
        {
         "customdata": [
          [
           2.5,
           "L6",
           "2023-03-07",
           "2023-03-09",
           9.166666666666666
          ],
          [
           2.5,
           "L6",
           "2023-03-07",
           "2023-03-09",
           11.666666666666666
          ],
          [
           2.5,
           null,
           null,
           null,
           null
          ]
         ],
         "hovertemplate": "Date Range: %{customdata[2]} to %{customdata[3]}<br>Progress in period: %{customdata[0]:.2f} %<br>Cumulative Progress: %{customdata[4]:.2f} %<br>Level: %{customdata[1]}",
         "legendgroup": "2.5",
         "line": {
          "color": "#ff2300",
          "dash": "solid",
          "width": 5
         },
         "marker": {
          "symbol": "circle"
         },
         "mode": "lines",
         "name": "",
         "orientation": "v",
         "showlegend": true,
         "type": "scatter",
         "x": [
          "2023-03-07",
          "2023-03-09",
          null
         ],
         "xaxis": "x",
         "y": [
          5.054421768707483,
          5.068027210884353,
          null
         ],
         "yaxis": "y"
        },
        {
         "customdata": [
          [
           1.833333333333334,
           "L6",
           "2023-03-20",
           "2023-03-23",
           11.666666666666666
          ],
          [
           1.833333333333334,
           "L6",
           "2023-03-20",
           "2023-03-23",
           13.5
          ],
          [
           1.833333333333334,
           null,
           null,
           null,
           null
          ]
         ],
         "hovertemplate": "Date Range: %{customdata[2]} to %{customdata[3]}<br>Progress in period: %{customdata[0]:.2f} %<br>Cumulative Progress: %{customdata[4]:.2f} %<br>Level: %{customdata[1]}",
         "legendgroup": "1.833333333333334",
         "line": {
          "color": "#ff1a00",
          "dash": "solid",
          "width": 5
         },
         "marker": {
          "symbol": "circle"
         },
         "mode": "lines",
         "name": "",
         "orientation": "v",
         "showlegend": true,
         "type": "scatter",
         "x": [
          "2023-03-20",
          "2023-03-23",
          null
         ],
         "xaxis": "x",
         "y": [
          5.142857142857143,
          5.163265306122449,
          null
         ],
         "yaxis": "y"
        },
        {
         "customdata": [
          [
           0.16666666666666607,
           "L6",
           "2023-04-06",
           "2023-04-12",
           13.5
          ],
          [
           0.16666666666666607,
           "L6",
           "2023-04-06",
           "2023-04-12",
           13.666666666666666
          ],
          [
           0.16666666666666607,
           null,
           null,
           null,
           null
          ]
         ],
         "hovertemplate": "Date Range: %{customdata[2]} to %{customdata[3]}<br>Progress in period: %{customdata[0]:.2f} %<br>Cumulative Progress: %{customdata[4]:.2f} %<br>Level: %{customdata[1]}",
         "legendgroup": "0.16666666666666607",
         "line": {
          "color": "#ff0200",
          "dash": "solid",
          "width": 5
         },
         "marker": {
          "symbol": "circle"
         },
         "mode": "lines",
         "name": "",
         "orientation": "v",
         "showlegend": true,
         "type": "scatter",
         "x": [
          "2023-04-06",
          "2023-04-12",
          null
         ],
         "xaxis": "x",
         "y": [
          5.258503401360544,
          5.299319727891157,
          null
         ],
         "yaxis": "y"
        },
        {
         "customdata": [
          [
           0.16666666666666785,
           "L6",
           "2023-04-21",
           "2023-04-25",
           13.666666666666666
          ],
          [
           0.16666666666666785,
           "L6",
           "2023-04-21",
           "2023-04-25",
           13.833333333333334
          ],
          [
           0.16666666666666785,
           null,
           null,
           null,
           null
          ]
         ],
         "hovertemplate": "Date Range: %{customdata[2]} to %{customdata[3]}<br>Progress in period: %{customdata[0]:.2f} %<br>Cumulative Progress: %{customdata[4]:.2f} %<br>Level: %{customdata[1]}",
         "legendgroup": "0.16666666666666785",
         "line": {
          "color": "#ff0200",
          "dash": "solid",
          "width": 5
         },
         "marker": {
          "symbol": "circle"
         },
         "mode": "lines",
         "name": "",
         "orientation": "v",
         "showlegend": true,
         "type": "scatter",
         "x": [
          "2023-04-21",
          "2023-04-25",
          null
         ],
         "xaxis": "x",
         "y": [
          5.360544217687075,
          5.387755102040816,
          null
         ],
         "yaxis": "y"
        },
        {
         "customdata": [
          [
           6.999999999999998,
           "L6",
           "2023-06-05",
           "2023-06-07",
           13.833333333333334
          ],
          [
           6.999999999999998,
           "L6",
           "2023-06-05",
           "2023-06-07",
           20.833333333333332
          ],
          [
           6.999999999999998,
           null,
           null,
           null,
           null
          ]
         ],
         "hovertemplate": "Date Range: %{customdata[2]} to %{customdata[3]}<br>Progress in period: %{customdata[0]:.2f} %<br>Cumulative Progress: %{customdata[4]:.2f} %<br>Level: %{customdata[1]}",
         "legendgroup": "6.999999999999998",
         "line": {
          "color": "#ff6300",
          "dash": "solid",
          "width": 5
         },
         "marker": {
          "symbol": "circle"
         },
         "mode": "lines",
         "name": "",
         "orientation": "v",
         "showlegend": true,
         "type": "scatter",
         "x": [
          "2023-06-05",
          "2023-06-07",
          null
         ],
         "xaxis": "x",
         "y": [
          5.666666666666667,
          5.680272108843537,
          null
         ],
         "yaxis": "y"
        },
        {
         "customdata": [
          [
           49.16666666666667,
           "L6",
           "2023-06-09",
           "2023-06-15",
           20.833333333333332
          ],
          [
           49.16666666666667,
           "L6",
           "2023-06-09",
           "2023-06-15",
           70
          ],
          [
           49.16666666666667,
           null,
           null,
           null,
           null
          ]
         ],
         "hovertemplate": "Date Range: %{customdata[2]} to %{customdata[3]}<br>Progress in period: %{customdata[0]:.2f} %<br>Cumulative Progress: %{customdata[4]:.2f} %<br>Level: %{customdata[1]}",
         "legendgroup": "49.16666666666667",
         "line": {
          "color": "#34eb00",
          "dash": "solid",
          "width": 5
         },
         "marker": {
          "symbol": "circle"
         },
         "mode": "lines",
         "name": "",
         "orientation": "v",
         "showlegend": true,
         "type": "scatter",
         "x": [
          "2023-06-09",
          "2023-06-15",
          null
         ],
         "xaxis": "x",
         "y": [
          5.6938775510204085,
          5.73469387755102,
          null
         ],
         "yaxis": "y"
        },
        {
         "customdata": [
          [
           5,
           "L6",
           "2023-06-20",
           "2023-06-22",
           70
          ],
          [
           5,
           "L6",
           "2023-06-20",
           "2023-06-22",
           75
          ],
          [
           5,
           null,
           null,
           null,
           null
          ]
         ],
         "hovertemplate": "Date Range: %{customdata[2]} to %{customdata[3]}<br>Progress in period: %{customdata[0]:.2f} %<br>Cumulative Progress: %{customdata[4]:.2f} %<br>Level: %{customdata[1]}",
         "legendgroup": "5.0",
         "line": {
          "color": "#ff4700",
          "dash": "solid",
          "width": 5
         },
         "marker": {
          "symbol": "circle"
         },
         "mode": "lines",
         "name": "",
         "orientation": "v",
         "showlegend": true,
         "type": "scatter",
         "x": [
          "2023-06-20",
          "2023-06-22",
          null
         ],
         "xaxis": "x",
         "y": [
          5.7687074829931975,
          5.782312925170068,
          null
         ],
         "yaxis": "y"
        },
        {
         "customdata": [
          [
           1,
           "L6",
           "2023-06-22",
           "2023-06-30",
           75
          ],
          [
           1,
           "L6",
           "2023-06-22",
           "2023-06-30",
           76
          ],
          [
           1,
           null,
           null,
           null,
           null
          ]
         ],
         "hovertemplate": "Date Range: %{customdata[2]} to %{customdata[3]}<br>Progress in period: %{customdata[0]:.2f} %<br>Cumulative Progress: %{customdata[4]:.2f} %<br>Level: %{customdata[1]}",
         "legendgroup": "1.0",
         "line": {
          "color": "#ff0e00",
          "dash": "solid",
          "width": 5
         },
         "marker": {
          "symbol": "circle"
         },
         "mode": "lines",
         "name": "",
         "orientation": "v",
         "showlegend": true,
         "type": "scatter",
         "x": [
          "2023-06-22",
          "2023-06-30",
          null
         ],
         "xaxis": "x",
         "y": [
          5.782312925170068,
          5.836734693877551,
          null
         ],
         "yaxis": "y"
        },
        {
         "customdata": [
          [
           6.5,
           "L6",
           "2023-06-30",
           "2023-07-06",
           76
          ],
          [
           6.5,
           "L6",
           "2023-06-30",
           "2023-07-06",
           82.5
          ],
          [
           6.5,
           null,
           null,
           null,
           null
          ]
         ],
         "hovertemplate": "Date Range: %{customdata[2]} to %{customdata[3]}<br>Progress in period: %{customdata[0]:.2f} %<br>Cumulative Progress: %{customdata[4]:.2f} %<br>Level: %{customdata[1]}",
         "legendgroup": "6.5",
         "line": {
          "color": "#ff5c00",
          "dash": "solid",
          "width": 5
         },
         "marker": {
          "symbol": "circle"
         },
         "mode": "lines",
         "name": "",
         "orientation": "v",
         "showlegend": true,
         "type": "scatter",
         "x": [
          "2023-06-30",
          "2023-07-06",
          null
         ],
         "xaxis": "x",
         "y": [
          5.836734693877551,
          5.877551020408164,
          null
         ],
         "yaxis": "y"
        },
        {
         "customdata": [
          [
           1.1666666666666714,
           "L6",
           "2023-07-06",
           "2023-07-13",
           82.5
          ],
          [
           1.1666666666666714,
           "L6",
           "2023-07-06",
           "2023-07-13",
           83.66666666666667
          ],
          [
           1.1666666666666714,
           null,
           null,
           null,
           null
          ]
         ],
         "hovertemplate": "Date Range: %{customdata[2]} to %{customdata[3]}<br>Progress in period: %{customdata[0]:.2f} %<br>Cumulative Progress: %{customdata[4]:.2f} %<br>Level: %{customdata[1]}",
         "legendgroup": "1.1666666666666714",
         "line": {
          "color": "#ff1000",
          "dash": "solid",
          "width": 5
         },
         "marker": {
          "symbol": "circle"
         },
         "mode": "lines",
         "name": "",
         "orientation": "v",
         "showlegend": true,
         "type": "scatter",
         "x": [
          "2023-07-06",
          "2023-07-13",
          null
         ],
         "xaxis": "x",
         "y": [
          5.877551020408164,
          5.925170068027211,
          null
         ],
         "yaxis": "y"
        },
        {
         "customdata": [
          [
           16.33333333333333,
           "L6",
           "2023-07-22",
           "2023-07-24",
           83.66666666666667
          ],
          [
           16.33333333333333,
           "L6",
           "2023-07-22",
           "2023-07-24",
           100
          ],
          [
           16.33333333333333,
           null,
           null,
           null,
           null
          ]
         ],
         "hovertemplate": "Date Range: %{customdata[2]} to %{customdata[3]}<br>Progress in period: %{customdata[0]:.2f} %<br>Cumulative Progress: %{customdata[4]:.2f} %<br>Level: %{customdata[1]}",
         "legendgroup": "16.33333333333333",
         "line": {
          "color": "#edd600",
          "dash": "solid",
          "width": 5
         },
         "marker": {
          "symbol": "circle"
         },
         "mode": "lines",
         "name": "",
         "orientation": "v",
         "showlegend": true,
         "type": "scatter",
         "x": [
          "2023-07-22",
          "2023-07-24",
          null
         ],
         "xaxis": "x",
         "y": [
          5.986394557823129,
          6,
          null
         ],
         "yaxis": "y"
        },
        {
         "customdata": [
          [
           5.833333333333333,
           "L7",
           "2023-03-07",
           "2023-03-09",
           0
          ],
          [
           5.833333333333333,
           "L7",
           "2023-03-07",
           "2023-03-09",
           5.833333333333333
          ],
          [
           5.833333333333333,
           null,
           null,
           null,
           null
          ]
         ],
         "hovertemplate": "Date Range: %{customdata[2]} to %{customdata[3]}<br>Progress in period: %{customdata[0]:.2f} %<br>Cumulative Progress: %{customdata[4]:.2f} %<br>Level: %{customdata[1]}",
         "legendgroup": "5.833333333333333",
         "line": {
          "color": "#ff5200",
          "dash": "solid",
          "width": 5
         },
         "marker": {
          "symbol": "circle"
         },
         "mode": "lines",
         "name": "",
         "orientation": "v",
         "showlegend": true,
         "type": "scatter",
         "x": [
          "2023-03-07",
          "2023-03-09",
          null
         ],
         "xaxis": "x",
         "y": [
          6,
          6.013986013986014,
          null
         ],
         "yaxis": "y"
        },
        {
         "customdata": [
          [
           6.833333333333333,
           "L7",
           "2023-03-09",
           "2023-03-14",
           5.833333333333333
          ],
          [
           6.833333333333333,
           "L7",
           "2023-03-09",
           "2023-03-14",
           12.666666666666666
          ],
          [
           6.833333333333333,
           null,
           null,
           null,
           null
          ]
         ],
         "hovertemplate": "Date Range: %{customdata[2]} to %{customdata[3]}<br>Progress in period: %{customdata[0]:.2f} %<br>Cumulative Progress: %{customdata[4]:.2f} %<br>Level: %{customdata[1]}",
         "legendgroup": "6.833333333333333",
         "line": {
          "color": "#ff6100",
          "dash": "solid",
          "width": 5
         },
         "marker": {
          "symbol": "circle"
         },
         "mode": "lines",
         "name": "",
         "orientation": "v",
         "showlegend": true,
         "type": "scatter",
         "x": [
          "2023-03-09",
          "2023-03-14",
          null
         ],
         "xaxis": "x",
         "y": [
          6.013986013986014,
          6.048951048951049,
          null
         ],
         "yaxis": "y"
        },
        {
         "customdata": [
          [
           0.3333333333333339,
           "L7",
           "2023-03-16",
           "2023-03-20",
           12.666666666666666
          ],
          [
           0.3333333333333339,
           "L7",
           "2023-03-16",
           "2023-03-20",
           13
          ],
          [
           0.3333333333333339,
           null,
           null,
           null,
           null
          ],
          [
           0.3333333333333339,
           "L7",
           "2023-04-21",
           "2023-04-25",
           13
          ],
          [
           0.3333333333333339,
           "L7",
           "2023-04-21",
           "2023-04-25",
           13.333333333333334
          ],
          [
           0.3333333333333339,
           null,
           null,
           null,
           null
          ]
         ],
         "hovertemplate": "Date Range: %{customdata[2]} to %{customdata[3]}<br>Progress in period: %{customdata[0]:.2f} %<br>Cumulative Progress: %{customdata[4]:.2f} %<br>Level: %{customdata[1]}",
         "legendgroup": "0.3333333333333339",
         "line": {
          "color": "#ff0500",
          "dash": "solid",
          "width": 5
         },
         "marker": {
          "symbol": "circle"
         },
         "mode": "lines",
         "name": "",
         "orientation": "v",
         "showlegend": true,
         "type": "scatter",
         "x": [
          "2023-03-16",
          "2023-03-20",
          null,
          "2023-04-21",
          "2023-04-25",
          null
         ],
         "xaxis": "x",
         "y": [
          6.062937062937063,
          6.090909090909091,
          null,
          6.314685314685315,
          6.3426573426573425,
          null
         ],
         "yaxis": "y"
        },
        {
         "customdata": [
          [
           2,
           "L7",
           "2023-04-25",
           "2023-04-27",
           13.333333333333334
          ],
          [
           2,
           "L7",
           "2023-04-25",
           "2023-04-27",
           15.333333333333334
          ],
          [
           2,
           null,
           null,
           null,
           null
          ]
         ],
         "hovertemplate": "Date Range: %{customdata[2]} to %{customdata[3]}<br>Progress in period: %{customdata[0]:.2f} %<br>Cumulative Progress: %{customdata[4]:.2f} %<br>Level: %{customdata[1]}",
         "legendgroup": "2.0",
         "line": {
          "color": "#ff1c00",
          "dash": "solid",
          "width": 5
         },
         "marker": {
          "symbol": "circle"
         },
         "mode": "lines",
         "name": "",
         "orientation": "v",
         "showlegend": true,
         "type": "scatter",
         "x": [
          "2023-04-25",
          "2023-04-27",
          null
         ],
         "xaxis": "x",
         "y": [
          6.3426573426573425,
          6.356643356643357,
          null
         ],
         "yaxis": "y"
        },
        {
         "customdata": [
          [
           65,
           "L7",
           "2023-06-05",
           "2023-06-07",
           15.333333333333334
          ],
          [
           65,
           "L7",
           "2023-06-05",
           "2023-06-07",
           80.33333333333333
          ],
          [
           65,
           null,
           null,
           null,
           null
          ]
         ],
         "hovertemplate": "Date Range: %{customdata[2]} to %{customdata[3]}<br>Progress in period: %{customdata[0]:.2f} %<br>Cumulative Progress: %{customdata[4]:.2f} %<br>Level: %{customdata[1]}",
         "legendgroup": "65.0",
         "line": {
          "color": "#34eb00",
          "dash": "solid",
          "width": 5
         },
         "marker": {
          "symbol": "circle"
         },
         "mode": "lines",
         "name": "",
         "orientation": "v",
         "showlegend": true,
         "type": "scatter",
         "x": [
          "2023-06-05",
          "2023-06-07",
          null
         ],
         "xaxis": "x",
         "y": [
          6.629370629370629,
          6.643356643356643,
          null
         ],
         "yaxis": "y"
        },
        {
         "customdata": [
          [
           1,
           "L7",
           "2023-06-09",
           "2023-06-15",
           80.33333333333333
          ],
          [
           1,
           "L7",
           "2023-06-09",
           "2023-06-15",
           81.33333333333333
          ],
          [
           1,
           null,
           null,
           null,
           null
          ],
          [
           1,
           "L7",
           "2023-07-06",
           "2023-07-13",
           83.16666666666667
          ],
          [
           1,
           "L7",
           "2023-07-06",
           "2023-07-13",
           84.16666666666667
          ],
          [
           1,
           null,
           null,
           null,
           null
          ]
         ],
         "hovertemplate": "Date Range: %{customdata[2]} to %{customdata[3]}<br>Progress in period: %{customdata[0]:.2f} %<br>Cumulative Progress: %{customdata[4]:.2f} %<br>Level: %{customdata[1]}",
         "legendgroup": "1.0",
         "line": {
          "color": "#ff0e00",
          "dash": "solid",
          "width": 5
         },
         "marker": {
          "symbol": "circle"
         },
         "mode": "lines",
         "name": "",
         "orientation": "v",
         "showlegend": true,
         "type": "scatter",
         "x": [
          "2023-06-09",
          "2023-06-15",
          null,
          "2023-07-06",
          "2023-07-13",
          null
         ],
         "xaxis": "x",
         "y": [
          6.6573426573426575,
          6.699300699300699,
          null,
          6.846153846153846,
          6.895104895104895,
          null
         ],
         "yaxis": "y"
        },
        {
         "customdata": [
          [
           1.1666666666666714,
           "L7",
           "2023-06-20",
           "2023-06-22",
           81.33333333333333
          ],
          [
           1.1666666666666714,
           "L7",
           "2023-06-20",
           "2023-06-22",
           82.5
          ],
          [
           1.1666666666666714,
           null,
           null,
           null,
           null
          ]
         ],
         "hovertemplate": "Date Range: %{customdata[2]} to %{customdata[3]}<br>Progress in period: %{customdata[0]:.2f} %<br>Cumulative Progress: %{customdata[4]:.2f} %<br>Level: %{customdata[1]}",
         "legendgroup": "1.1666666666666714",
         "line": {
          "color": "#ff1000",
          "dash": "solid",
          "width": 5
         },
         "marker": {
          "symbol": "circle"
         },
         "mode": "lines",
         "name": "",
         "orientation": "v",
         "showlegend": true,
         "type": "scatter",
         "x": [
          "2023-06-20",
          "2023-06-22",
          null
         ],
         "xaxis": "x",
         "y": [
          6.734265734265734,
          6.748251748251748,
          null
         ],
         "yaxis": "y"
        },
        {
         "customdata": [
          [
           0.6666666666666714,
           "L7",
           "2023-06-22",
           "2023-06-30",
           82.5
          ],
          [
           0.6666666666666714,
           "L7",
           "2023-06-22",
           "2023-06-30",
           83.16666666666667
          ],
          [
           0.6666666666666714,
           null,
           null,
           null,
           null
          ]
         ],
         "hovertemplate": "Date Range: %{customdata[2]} to %{customdata[3]}<br>Progress in period: %{customdata[0]:.2f} %<br>Cumulative Progress: %{customdata[4]:.2f} %<br>Level: %{customdata[1]}",
         "legendgroup": "0.6666666666666714",
         "line": {
          "color": "#ff0900",
          "dash": "solid",
          "width": 5
         },
         "marker": {
          "symbol": "circle"
         },
         "mode": "lines",
         "name": "",
         "orientation": "v",
         "showlegend": true,
         "type": "scatter",
         "x": [
          "2023-06-22",
          "2023-06-30",
          null
         ],
         "xaxis": "x",
         "y": [
          6.748251748251748,
          6.804195804195804,
          null
         ],
         "yaxis": "y"
        },
        {
         "customdata": [
          [
           1.8333333333333286,
           "L7",
           "2023-07-22",
           "2023-07-24",
           84.16666666666667
          ],
          [
           1.8333333333333286,
           "L7",
           "2023-07-22",
           "2023-07-24",
           86
          ],
          [
           1.8333333333333286,
           null,
           null,
           null,
           null
          ]
         ],
         "hovertemplate": "Date Range: %{customdata[2]} to %{customdata[3]}<br>Progress in period: %{customdata[0]:.2f} %<br>Cumulative Progress: %{customdata[4]:.2f} %<br>Level: %{customdata[1]}",
         "legendgroup": "1.8333333333333286",
         "line": {
          "color": "#ff1a00",
          "dash": "solid",
          "width": 5
         },
         "marker": {
          "symbol": "circle"
         },
         "mode": "lines",
         "name": "",
         "orientation": "v",
         "showlegend": true,
         "type": "scatter",
         "x": [
          "2023-07-22",
          "2023-07-24",
          null
         ],
         "xaxis": "x",
         "y": [
          6.958041958041958,
          6.972027972027972,
          null
         ],
         "yaxis": "y"
        },
        {
         "customdata": [
          [
           13.666666666666671,
           "L7",
           "2023-07-27",
           "2023-07-28",
           86
          ],
          [
           13.666666666666671,
           "L7",
           "2023-07-27",
           "2023-07-28",
           99.66666666666667
          ],
          [
           13.666666666666671,
           null,
           null,
           null,
           null
          ]
         ],
         "hovertemplate": "Date Range: %{customdata[2]} to %{customdata[3]}<br>Progress in period: %{customdata[0]:.2f} %<br>Cumulative Progress: %{customdata[4]:.2f} %<br>Level: %{customdata[1]}",
         "legendgroup": "13.666666666666671",
         "line": {
          "color": "#ffc100",
          "dash": "solid",
          "width": 5
         },
         "marker": {
          "symbol": "circle"
         },
         "mode": "lines",
         "name": "",
         "orientation": "v",
         "showlegend": true,
         "type": "scatter",
         "x": [
          "2023-07-27",
          "2023-07-28",
          null
         ],
         "xaxis": "x",
         "y": [
          6.993006993006993,
          7,
          null
         ],
         "yaxis": "y"
        },
        {
         "customdata": [
          [
           2.5,
           "L8",
           "2023-03-16",
           "2023-03-20",
           0
          ],
          [
           2.5,
           "L8",
           "2023-03-16",
           "2023-03-20",
           2.5
          ],
          [
           2.5,
           null,
           null,
           null,
           null
          ]
         ],
         "hovertemplate": "Date Range: %{customdata[2]} to %{customdata[3]}<br>Progress in period: %{customdata[0]:.2f} %<br>Cumulative Progress: %{customdata[4]:.2f} %<br>Level: %{customdata[1]}",
         "legendgroup": "2.5",
         "line": {
          "color": "#ff2300",
          "dash": "solid",
          "width": 5
         },
         "marker": {
          "symbol": "circle"
         },
         "mode": "lines",
         "name": "",
         "orientation": "v",
         "showlegend": true,
         "type": "scatter",
         "x": [
          "2023-03-16",
          "2023-03-20",
          null
         ],
         "xaxis": "x",
         "y": [
          7,
          7.0272108843537415,
          null
         ],
         "yaxis": "y"
        },
        {
         "customdata": [
          [
           3,
           "L8",
           "2023-03-20",
           "2023-03-23",
           2.5
          ],
          [
           3,
           "L8",
           "2023-03-20",
           "2023-03-23",
           5.5
          ],
          [
           3,
           null,
           null,
           null,
           null
          ]
         ],
         "hovertemplate": "Date Range: %{customdata[2]} to %{customdata[3]}<br>Progress in period: %{customdata[0]:.2f} %<br>Cumulative Progress: %{customdata[4]:.2f} %<br>Level: %{customdata[1]}",
         "legendgroup": "3.0",
         "line": {
          "color": "#ff2a00",
          "dash": "solid",
          "width": 5
         },
         "marker": {
          "symbol": "circle"
         },
         "mode": "lines",
         "name": "",
         "orientation": "v",
         "showlegend": true,
         "type": "scatter",
         "x": [
          "2023-03-20",
          "2023-03-23",
          null
         ],
         "xaxis": "x",
         "y": [
          7.0272108843537415,
          7.0476190476190474,
          null
         ],
         "yaxis": "y"
        },
        {
         "customdata": [
          [
           1.833333333333333,
           "L8",
           "2023-04-25",
           "2023-04-27",
           5.5
          ],
          [
           1.833333333333333,
           "L8",
           "2023-04-25",
           "2023-04-27",
           7.333333333333333
          ],
          [
           1.833333333333333,
           null,
           null,
           null,
           null
          ]
         ],
         "hovertemplate": "Date Range: %{customdata[2]} to %{customdata[3]}<br>Progress in period: %{customdata[0]:.2f} %<br>Cumulative Progress: %{customdata[4]:.2f} %<br>Level: %{customdata[1]}",
         "legendgroup": "1.833333333333333",
         "line": {
          "color": "#ff1a00",
          "dash": "solid",
          "width": 5
         },
         "marker": {
          "symbol": "circle"
         },
         "mode": "lines",
         "name": "",
         "orientation": "v",
         "showlegend": true,
         "type": "scatter",
         "x": [
          "2023-04-25",
          "2023-04-27",
          null
         ],
         "xaxis": "x",
         "y": [
          7.272108843537415,
          7.285714285714286,
          null
         ],
         "yaxis": "y"
        },
        {
         "customdata": [
          [
           0.16666666666666696,
           "L8",
           "2023-05-13",
           "2023-05-18",
           7.333333333333333
          ],
          [
           0.16666666666666696,
           "L8",
           "2023-05-13",
           "2023-05-18",
           7.5
          ],
          [
           0.16666666666666696,
           null,
           null,
           null,
           null
          ]
         ],
         "hovertemplate": "Date Range: %{customdata[2]} to %{customdata[3]}<br>Progress in period: %{customdata[0]:.2f} %<br>Cumulative Progress: %{customdata[4]:.2f} %<br>Level: %{customdata[1]}",
         "legendgroup": "0.16666666666666696",
         "line": {
          "color": "#ff0200",
          "dash": "solid",
          "width": 5
         },
         "marker": {
          "symbol": "circle"
         },
         "mode": "lines",
         "name": "",
         "orientation": "v",
         "showlegend": true,
         "type": "scatter",
         "x": [
          "2023-05-13",
          "2023-05-18",
          null
         ],
         "xaxis": "x",
         "y": [
          7.394557823129252,
          7.428571428571429,
          null
         ],
         "yaxis": "y"
        },
        {
         "customdata": [
          [
           15.333333333333332,
           "L8",
           "2023-06-05",
           "2023-06-07",
           7.5
          ],
          [
           15.333333333333332,
           "L8",
           "2023-06-05",
           "2023-06-07",
           22.833333333333332
          ],
          [
           15.333333333333332,
           null,
           null,
           null,
           null
          ]
         ],
         "hovertemplate": "Date Range: %{customdata[2]} to %{customdata[3]}<br>Progress in period: %{customdata[0]:.2f} %<br>Cumulative Progress: %{customdata[4]:.2f} %<br>Level: %{customdata[1]}",
         "legendgroup": "15.333333333333332",
         "line": {
          "color": "#fad500",
          "dash": "solid",
          "width": 5
         },
         "marker": {
          "symbol": "circle"
         },
         "mode": "lines",
         "name": "",
         "orientation": "v",
         "showlegend": true,
         "type": "scatter",
         "x": [
          "2023-06-05",
          "2023-06-07",
          null
         ],
         "xaxis": "x",
         "y": [
          7.551020408163265,
          7.564625850340136,
          null
         ],
         "yaxis": "y"
        },
        {
         "customdata": [
          [
           46.66666666666667,
           "L8",
           "2023-06-09",
           "2023-06-15",
           22.833333333333332
          ],
          [
           46.66666666666667,
           "L8",
           "2023-06-09",
           "2023-06-15",
           69.5
          ],
          [
           46.66666666666667,
           null,
           null,
           null,
           null
          ]
         ],
         "hovertemplate": "Date Range: %{customdata[2]} to %{customdata[3]}<br>Progress in period: %{customdata[0]:.2f} %<br>Cumulative Progress: %{customdata[4]:.2f} %<br>Level: %{customdata[1]}",
         "legendgroup": "46.66666666666667",
         "line": {
          "color": "#34eb00",
          "dash": "solid",
          "width": 5
         },
         "marker": {
          "symbol": "circle"
         },
         "mode": "lines",
         "name": "",
         "orientation": "v",
         "showlegend": true,
         "type": "scatter",
         "x": [
          "2023-06-09",
          "2023-06-15",
          null
         ],
         "xaxis": "x",
         "y": [
          7.578231292517007,
          7.619047619047619,
          null
         ],
         "yaxis": "y"
        },
        {
         "customdata": [
          [
           3.6666666666666714,
           "L8",
           "2023-06-20",
           "2023-06-22",
           69.5
          ],
          [
           3.6666666666666714,
           "L8",
           "2023-06-20",
           "2023-06-22",
           73.16666666666667
          ],
          [
           3.6666666666666714,
           null,
           null,
           null,
           null
          ]
         ],
         "hovertemplate": "Date Range: %{customdata[2]} to %{customdata[3]}<br>Progress in period: %{customdata[0]:.2f} %<br>Cumulative Progress: %{customdata[4]:.2f} %<br>Level: %{customdata[1]}",
         "legendgroup": "3.6666666666666714",
         "line": {
          "color": "#ff3400",
          "dash": "solid",
          "width": 5
         },
         "marker": {
          "symbol": "circle"
         },
         "mode": "lines",
         "name": "",
         "orientation": "v",
         "showlegend": true,
         "type": "scatter",
         "x": [
          "2023-06-20",
          "2023-06-22",
          null
         ],
         "xaxis": "x",
         "y": [
          7.653061224489796,
          7.666666666666667,
          null
         ],
         "yaxis": "y"
        },
        {
         "customdata": [
          [
           0.6666666666666572,
           "L8",
           "2023-06-22",
           "2023-06-30",
           73.16666666666667
          ],
          [
           0.6666666666666572,
           "L8",
           "2023-06-22",
           "2023-06-30",
           73.83333333333333
          ],
          [
           0.6666666666666572,
           null,
           null,
           null,
           null
          ]
         ],
         "hovertemplate": "Date Range: %{customdata[2]} to %{customdata[3]}<br>Progress in period: %{customdata[0]:.2f} %<br>Cumulative Progress: %{customdata[4]:.2f} %<br>Level: %{customdata[1]}",
         "legendgroup": "0.6666666666666572",
         "line": {
          "color": "#ff0900",
          "dash": "solid",
          "width": 5
         },
         "marker": {
          "symbol": "circle"
         },
         "mode": "lines",
         "name": "",
         "orientation": "v",
         "showlegend": true,
         "type": "scatter",
         "x": [
          "2023-06-22",
          "2023-06-30",
          null
         ],
         "xaxis": "x",
         "y": [
          7.666666666666667,
          7.72108843537415,
          null
         ],
         "yaxis": "y"
        },
        {
         "customdata": [
          [
           0.1666666666666714,
           "L8",
           "2023-06-30",
           "2023-07-06",
           73.83333333333333
          ],
          [
           0.1666666666666714,
           "L8",
           "2023-06-30",
           "2023-07-06",
           74
          ],
          [
           0.1666666666666714,
           null,
           null,
           null,
           null
          ],
          [
           0.1666666666666714,
           "L8",
           "2023-08-03",
           "2023-08-10",
           97.33333333333333
          ],
          [
           0.1666666666666714,
           "L8",
           "2023-08-03",
           "2023-08-10",
           97.5
          ],
          [
           0.1666666666666714,
           null,
           null,
           null,
           null
          ]
         ],
         "hovertemplate": "Date Range: %{customdata[2]} to %{customdata[3]}<br>Progress in period: %{customdata[0]:.2f} %<br>Cumulative Progress: %{customdata[4]:.2f} %<br>Level: %{customdata[1]}",
         "legendgroup": "0.1666666666666714",
         "line": {
          "color": "#ff0200",
          "dash": "solid",
          "width": 5
         },
         "marker": {
          "symbol": "circle"
         },
         "mode": "lines",
         "name": "",
         "orientation": "v",
         "showlegend": true,
         "type": "scatter",
         "x": [
          "2023-06-30",
          "2023-07-06",
          null,
          "2023-08-03",
          "2023-08-10",
          null
         ],
         "xaxis": "x",
         "y": [
          7.72108843537415,
          7.761904761904762,
          null,
          7.9523809523809526,
          8,
          null
         ],
         "yaxis": "y"
        },
        {
         "customdata": [
          [
           0.5,
           "L8",
           "2023-07-06",
           "2023-07-13",
           74
          ],
          [
           0.5,
           "L8",
           "2023-07-06",
           "2023-07-13",
           74.5
          ],
          [
           0.5,
           null,
           null,
           null,
           null
          ]
         ],
         "hovertemplate": "Date Range: %{customdata[2]} to %{customdata[3]}<br>Progress in period: %{customdata[0]:.2f} %<br>Cumulative Progress: %{customdata[4]:.2f} %<br>Level: %{customdata[1]}",
         "legendgroup": "0.5",
         "line": {
          "color": "#ff0700",
          "dash": "solid",
          "width": 5
         },
         "marker": {
          "symbol": "circle"
         },
         "mode": "lines",
         "name": "",
         "orientation": "v",
         "showlegend": true,
         "type": "scatter",
         "x": [
          "2023-07-06",
          "2023-07-13",
          null
         ],
         "xaxis": "x",
         "y": [
          7.761904761904762,
          7.809523809523809,
          null
         ],
         "yaxis": "y"
        },
        {
         "customdata": [
          [
           3.1666666666666714,
           "L8",
           "2023-07-22",
           "2023-07-24",
           74.5
          ],
          [
           3.1666666666666714,
           "L8",
           "2023-07-22",
           "2023-07-24",
           77.66666666666667
          ],
          [
           3.1666666666666714,
           null,
           null,
           null,
           null
          ]
         ],
         "hovertemplate": "Date Range: %{customdata[2]} to %{customdata[3]}<br>Progress in period: %{customdata[0]:.2f} %<br>Cumulative Progress: %{customdata[4]:.2f} %<br>Level: %{customdata[1]}",
         "legendgroup": "3.1666666666666714",
         "line": {
          "color": "#ff2d00",
          "dash": "solid",
          "width": 5
         },
         "marker": {
          "symbol": "circle"
         },
         "mode": "lines",
         "name": "",
         "orientation": "v",
         "showlegend": true,
         "type": "scatter",
         "x": [
          "2023-07-22",
          "2023-07-24",
          null
         ],
         "xaxis": "x",
         "y": [
          7.870748299319728,
          7.884353741496598,
          null
         ],
         "yaxis": "y"
        },
        {
         "customdata": [
          [
           17.666666666666657,
           "L8",
           "2023-07-27",
           "2023-07-28",
           77.66666666666667
          ],
          [
           17.666666666666657,
           "L8",
           "2023-07-27",
           "2023-07-28",
           95.33333333333333
          ],
          [
           17.666666666666657,
           null,
           null,
           null,
           null
          ]
         ],
         "hovertemplate": "Date Range: %{customdata[2]} to %{customdata[3]}<br>Progress in period: %{customdata[0]:.2f} %<br>Cumulative Progress: %{customdata[4]:.2f} %<br>Level: %{customdata[1]}",
         "legendgroup": "17.666666666666657",
         "line": {
          "color": "#dbd800",
          "dash": "solid",
          "width": 5
         },
         "marker": {
          "symbol": "circle"
         },
         "mode": "lines",
         "name": "",
         "orientation": "v",
         "showlegend": true,
         "type": "scatter",
         "x": [
          "2023-07-27",
          "2023-07-28",
          null
         ],
         "xaxis": "x",
         "y": [
          7.904761904761905,
          7.91156462585034,
          null
         ],
         "yaxis": "y"
        },
        {
         "customdata": [
          [
           2,
           "L8",
           "2023-07-28",
           "2023-08-03",
           95.33333333333333
          ],
          [
           2,
           "L8",
           "2023-07-28",
           "2023-08-03",
           97.33333333333333
          ],
          [
           2,
           null,
           null,
           null,
           null
          ]
         ],
         "hovertemplate": "Date Range: %{customdata[2]} to %{customdata[3]}<br>Progress in period: %{customdata[0]:.2f} %<br>Cumulative Progress: %{customdata[4]:.2f} %<br>Level: %{customdata[1]}",
         "legendgroup": "2.0",
         "line": {
          "color": "#ff1c00",
          "dash": "solid",
          "width": 5
         },
         "marker": {
          "symbol": "circle"
         },
         "mode": "lines",
         "name": "",
         "orientation": "v",
         "showlegend": true,
         "type": "scatter",
         "x": [
          "2023-07-28",
          "2023-08-03",
          null
         ],
         "xaxis": "x",
         "y": [
          7.91156462585034,
          7.9523809523809526,
          null
         ],
         "yaxis": "y"
        },
        {
         "hoverinfo": "skip",
         "hovertemplate": "x=%{x}<br>y=%{y}<extra></extra>",
         "legendgroup": "",
         "line": {
          "color": "black",
          "dash": "solid",
          "width": 5
         },
         "marker": {
          "symbol": "circle"
         },
         "mode": "lines",
         "name": "",
         "opacity": 0.05,
         "orientation": "v",
         "showlegend": false,
         "type": "scatter",
         "x": [
          "2023-01-12",
          "2023-06-30",
          null,
          "2023-01-17",
          "2023-07-06",
          null,
          "2023-01-23",
          "2023-07-24",
          null,
          "2023-01-27",
          "2023-08-10",
          null,
          "2023-01-30",
          "2023-08-17",
          null,
          "2023-02-13",
          "2023-07-24",
          null,
          "2023-02-21",
          "2023-08-10",
          null,
          "2023-02-24",
          "2023-09-07",
          null
         ],
         "xaxis": "x",
         "y": [
          0,
          1,
          null,
          1,
          2,
          null,
          2,
          3,
          null,
          3,
          4,
          null,
          4,
          5,
          null,
          5,
          6,
          null,
          6,
          7,
          null,
          7,
          8,
          null
         ],
         "yaxis": "y"
        },
        {
         "customdata": [
          [
           13.375,
           "L1",
           "2023-01-12",
           "2023-01-16",
           0
          ],
          [
           13.375,
           "L1",
           "2023-01-12",
           "2023-01-16",
           13.375
          ],
          [
           13.375,
           null,
           null,
           null,
           null
          ]
         ],
         "hovertemplate": "Date Range: %{customdata[2]} to %{customdata[3]}<br>Progress in period: %{customdata[0]:.2f} %<br>Cumulative Progress: %{customdata[4]:.2f} %<br>Level: %{customdata[1]}",
         "legendgroup": "13.375",
         "line": {
          "color": "#ffbd00",
          "dash": "solid",
          "width": 5
         },
         "marker": {
          "symbol": "circle"
         },
         "mode": "lines",
         "name": "",
         "orientation": "v",
         "showlegend": true,
         "type": "scatter",
         "x": [
          "2023-01-12",
          "2023-01-16",
          null
         ],
         "xaxis": "x",
         "y": [
          0,
          0.023668639053254437,
          null
         ],
         "yaxis": "y"
        },
        {
         "customdata": [
          [
           3.416666666666668,
           "L1",
           "2023-01-17",
           "2023-01-19",
           13.375
          ],
          [
           3.416666666666668,
           "L1",
           "2023-01-17",
           "2023-01-19",
           16.791666666666668
          ],
          [
           3.416666666666668,
           null,
           null,
           null,
           null
          ]
         ],
         "hovertemplate": "Date Range: %{customdata[2]} to %{customdata[3]}<br>Progress in period: %{customdata[0]:.2f} %<br>Cumulative Progress: %{customdata[4]:.2f} %<br>Level: %{customdata[1]}",
         "legendgroup": "3.416666666666668",
         "line": {
          "color": "#ff3000",
          "dash": "solid",
          "width": 5
         },
         "marker": {
          "symbol": "circle"
         },
         "mode": "lines",
         "name": "",
         "orientation": "v",
         "showlegend": true,
         "type": "scatter",
         "x": [
          "2023-01-17",
          "2023-01-19",
          null
         ],
         "xaxis": "x",
         "y": [
          0.029585798816568046,
          0.04142011834319527,
          null
         ],
         "yaxis": "y"
        },
        {
         "customdata": [
          [
           0.08333333333333215,
           "L1",
           "2023-01-21",
           "2023-01-23",
           16.791666666666668
          ],
          [
           0.08333333333333215,
           "L1",
           "2023-01-21",
           "2023-01-23",
           16.875
          ],
          [
           0.08333333333333215,
           null,
           null,
           null,
           null
          ],
          [
           0.08333333333333215,
           "L1",
           "2023-01-23",
           "2023-01-26",
           16.875
          ],
          [
           0.08333333333333215,
           "L1",
           "2023-01-23",
           "2023-01-26",
           16.958333333333332
          ],
          [
           0.08333333333333215,
           null,
           null,
           null,
           null
          ]
         ],
         "hovertemplate": "Date Range: %{customdata[2]} to %{customdata[3]}<br>Progress in period: %{customdata[0]:.2f} %<br>Cumulative Progress: %{customdata[4]:.2f} %<br>Level: %{customdata[1]}",
         "legendgroup": "0.08333333333333215",
         "line": {
          "color": "#ff0100",
          "dash": "solid",
          "width": 5
         },
         "marker": {
          "symbol": "circle"
         },
         "mode": "lines",
         "name": "",
         "orientation": "v",
         "showlegend": true,
         "type": "scatter",
         "x": [
          "2023-01-21",
          "2023-01-23",
          null,
          "2023-01-23",
          "2023-01-26",
          null
         ],
         "xaxis": "x",
         "y": [
          0.05325443786982249,
          0.0650887573964497,
          null,
          0.0650887573964497,
          0.08284023668639054,
          null
         ],
         "yaxis": "y"
        },
        {
         "customdata": [
          [
           1.6666666666666679,
           "L1",
           "2023-01-27",
           "2023-01-30",
           16.958333333333332
          ],
          [
           1.6666666666666679,
           "L1",
           "2023-01-27",
           "2023-01-30",
           18.625
          ],
          [
           1.6666666666666679,
           null,
           null,
           null,
           null
          ]
         ],
         "hovertemplate": "Date Range: %{customdata[2]} to %{customdata[3]}<br>Progress in period: %{customdata[0]:.2f} %<br>Cumulative Progress: %{customdata[4]:.2f} %<br>Level: %{customdata[1]}",
         "legendgroup": "1.6666666666666679",
         "line": {
          "color": "#ff1800",
          "dash": "solid",
          "width": 5
         },
         "marker": {
          "symbol": "circle"
         },
         "mode": "lines",
         "name": "",
         "orientation": "v",
         "showlegend": true,
         "type": "scatter",
         "x": [
          "2023-01-27",
          "2023-01-30",
          null
         ],
         "xaxis": "x",
         "y": [
          0.08875739644970414,
          0.10650887573964497,
          null
         ],
         "yaxis": "y"
        },
        {
         "customdata": [
          [
           0.125,
           "L1",
           "2023-01-30",
           "2023-02-02",
           18.625
          ],
          [
           0.125,
           "L1",
           "2023-01-30",
           "2023-02-02",
           18.75
          ],
          [
           0.125,
           null,
           null,
           null,
           null
          ]
         ],
         "hovertemplate": "Date Range: %{customdata[2]} to %{customdata[3]}<br>Progress in period: %{customdata[0]:.2f} %<br>Cumulative Progress: %{customdata[4]:.2f} %<br>Level: %{customdata[1]}",
         "legendgroup": "0.125",
         "line": {
          "color": "#ff0200",
          "dash": "solid",
          "width": 5
         },
         "marker": {
          "symbol": "circle"
         },
         "mode": "lines",
         "name": "",
         "orientation": "v",
         "showlegend": true,
         "type": "scatter",
         "x": [
          "2023-01-30",
          "2023-02-02",
          null
         ],
         "xaxis": "x",
         "y": [
          0.10650887573964497,
          0.1242603550295858,
          null
         ],
         "yaxis": "y"
        },
        {
         "customdata": [
          [
           4.125,
           "L1",
           "2023-02-07",
           "2023-02-13",
           18.75
          ],
          [
           4.125,
           "L1",
           "2023-02-07",
           "2023-02-13",
           22.875
          ],
          [
           4.125,
           null,
           null,
           null,
           null
          ]
         ],
         "hovertemplate": "Date Range: %{customdata[2]} to %{customdata[3]}<br>Progress in period: %{customdata[0]:.2f} %<br>Cumulative Progress: %{customdata[4]:.2f} %<br>Level: %{customdata[1]}",
         "legendgroup": "4.125",
         "line": {
          "color": "#ff3a00",
          "dash": "solid",
          "width": 5
         },
         "marker": {
          "symbol": "circle"
         },
         "mode": "lines",
         "name": "",
         "orientation": "v",
         "showlegend": true,
         "type": "scatter",
         "x": [
          "2023-02-07",
          "2023-02-13",
          null
         ],
         "xaxis": "x",
         "y": [
          0.15384615384615385,
          0.1893491124260355,
          null
         ],
         "yaxis": "y"
        },
        {
         "customdata": [
          [
           7.583333333333332,
           "L1",
           "2023-02-13",
           "2023-02-21",
           22.875
          ],
          [
           7.583333333333332,
           "L1",
           "2023-02-13",
           "2023-02-21",
           30.458333333333332
          ],
          [
           7.583333333333332,
           null,
           null,
           null,
           null
          ]
         ],
         "hovertemplate": "Date Range: %{customdata[2]} to %{customdata[3]}<br>Progress in period: %{customdata[0]:.2f} %<br>Cumulative Progress: %{customdata[4]:.2f} %<br>Level: %{customdata[1]}",
         "legendgroup": "7.583333333333332",
         "line": {
          "color": "#ff6b00",
          "dash": "solid",
          "width": 5
         },
         "marker": {
          "symbol": "circle"
         },
         "mode": "lines",
         "name": "",
         "orientation": "v",
         "showlegend": true,
         "type": "scatter",
         "x": [
          "2023-02-13",
          "2023-02-21",
          null
         ],
         "xaxis": "x",
         "y": [
          0.1893491124260355,
          0.23668639053254437,
          null
         ],
         "yaxis": "y"
        },
        {
         "customdata": [
          [
           5.333333333333332,
           "L1",
           "2023-02-21",
           "2023-02-24",
           30.458333333333332
          ],
          [
           5.333333333333332,
           "L1",
           "2023-02-21",
           "2023-02-24",
           35.791666666666664
          ],
          [
           5.333333333333332,
           null,
           null,
           null,
           null
          ]
         ],
         "hovertemplate": "Date Range: %{customdata[2]} to %{customdata[3]}<br>Progress in period: %{customdata[0]:.2f} %<br>Cumulative Progress: %{customdata[4]:.2f} %<br>Level: %{customdata[1]}",
         "legendgroup": "5.333333333333332",
         "line": {
          "color": "#ff4b00",
          "dash": "solid",
          "width": 5
         },
         "marker": {
          "symbol": "circle"
         },
         "mode": "lines",
         "name": "",
         "orientation": "v",
         "showlegend": true,
         "type": "scatter",
         "x": [
          "2023-02-21",
          "2023-02-24",
          null
         ],
         "xaxis": "x",
         "y": [
          0.23668639053254437,
          0.25443786982248523,
          null
         ],
         "yaxis": "y"
        },
        {
         "customdata": [
          [
           5.458333333333336,
           "L1",
           "2023-02-24",
           "2023-02-27",
           35.791666666666664
          ],
          [
           5.458333333333336,
           "L1",
           "2023-02-24",
           "2023-02-27",
           41.25
          ],
          [
           5.458333333333336,
           null,
           null,
           null,
           null
          ]
         ],
         "hovertemplate": "Date Range: %{customdata[2]} to %{customdata[3]}<br>Progress in period: %{customdata[0]:.2f} %<br>Cumulative Progress: %{customdata[4]:.2f} %<br>Level: %{customdata[1]}",
         "legendgroup": "5.458333333333336",
         "line": {
          "color": "#ff4d00",
          "dash": "solid",
          "width": 5
         },
         "marker": {
          "symbol": "circle"
         },
         "mode": "lines",
         "name": "",
         "orientation": "v",
         "showlegend": true,
         "type": "scatter",
         "x": [
          "2023-02-24",
          "2023-02-27",
          null
         ],
         "xaxis": "x",
         "y": [
          0.25443786982248523,
          0.27218934911242604,
          null
         ],
         "yaxis": "y"
        },
        {
         "customdata": [
          [
           6.791666666666664,
           "L1",
           "2023-02-27",
           "2023-03-03",
           41.25
          ],
          [
           6.791666666666664,
           "L1",
           "2023-02-27",
           "2023-03-03",
           48.041666666666664
          ],
          [
           6.791666666666664,
           null,
           null,
           null,
           null
          ]
         ],
         "hovertemplate": "Date Range: %{customdata[2]} to %{customdata[3]}<br>Progress in period: %{customdata[0]:.2f} %<br>Cumulative Progress: %{customdata[4]:.2f} %<br>Level: %{customdata[1]}",
         "legendgroup": "6.791666666666664",
         "line": {
          "color": "#ff6000",
          "dash": "solid",
          "width": 5
         },
         "marker": {
          "symbol": "circle"
         },
         "mode": "lines",
         "name": "",
         "orientation": "v",
         "showlegend": true,
         "type": "scatter",
         "x": [
          "2023-02-27",
          "2023-03-03",
          null
         ],
         "xaxis": "x",
         "y": [
          0.27218934911242604,
          0.2958579881656805,
          null
         ],
         "yaxis": "y"
        },
        {
         "customdata": [
          [
           5.75,
           "L1",
           "2023-03-03",
           "2023-03-07",
           48.041666666666664
          ],
          [
           5.75,
           "L1",
           "2023-03-03",
           "2023-03-07",
           53.791666666666664
          ],
          [
           5.75,
           null,
           null,
           null,
           null
          ]
         ],
         "hovertemplate": "Date Range: %{customdata[2]} to %{customdata[3]}<br>Progress in period: %{customdata[0]:.2f} %<br>Cumulative Progress: %{customdata[4]:.2f} %<br>Level: %{customdata[1]}",
         "legendgroup": "5.75",
         "line": {
          "color": "#ff5100",
          "dash": "solid",
          "width": 5
         },
         "marker": {
          "symbol": "circle"
         },
         "mode": "lines",
         "name": "",
         "orientation": "v",
         "showlegend": true,
         "type": "scatter",
         "x": [
          "2023-03-03",
          "2023-03-07",
          null
         ],
         "xaxis": "x",
         "y": [
          0.2958579881656805,
          0.31952662721893493,
          null
         ],
         "yaxis": "y"
        },
        {
         "customdata": [
          [
           3.4583333333333357,
           "L1",
           "2023-03-07",
           "2023-03-09",
           53.791666666666664
          ],
          [
           3.4583333333333357,
           "L1",
           "2023-03-07",
           "2023-03-09",
           57.25
          ],
          [
           3.4583333333333357,
           null,
           null,
           null,
           null
          ]
         ],
         "hovertemplate": "Date Range: %{customdata[2]} to %{customdata[3]}<br>Progress in period: %{customdata[0]:.2f} %<br>Cumulative Progress: %{customdata[4]:.2f} %<br>Level: %{customdata[1]}",
         "legendgroup": "3.4583333333333357",
         "line": {
          "color": "#ff3100",
          "dash": "solid",
          "width": 5
         },
         "marker": {
          "symbol": "circle"
         },
         "mode": "lines",
         "name": "",
         "orientation": "v",
         "showlegend": true,
         "type": "scatter",
         "x": [
          "2023-03-07",
          "2023-03-09",
          null
         ],
         "xaxis": "x",
         "y": [
          0.31952662721893493,
          0.33136094674556216,
          null
         ],
         "yaxis": "y"
        },
        {
         "customdata": [
          [
           4.708333333333336,
           "L1",
           "2023-03-09",
           "2023-03-14",
           57.25
          ],
          [
           4.708333333333336,
           "L1",
           "2023-03-09",
           "2023-03-14",
           61.958333333333336
          ],
          [
           4.708333333333336,
           null,
           null,
           null,
           null
          ]
         ],
         "hovertemplate": "Date Range: %{customdata[2]} to %{customdata[3]}<br>Progress in period: %{customdata[0]:.2f} %<br>Cumulative Progress: %{customdata[4]:.2f} %<br>Level: %{customdata[1]}",
         "legendgroup": "4.708333333333336",
         "line": {
          "color": "#ff4300",
          "dash": "solid",
          "width": 5
         },
         "marker": {
          "symbol": "circle"
         },
         "mode": "lines",
         "name": "",
         "orientation": "v",
         "showlegend": true,
         "type": "scatter",
         "x": [
          "2023-03-09",
          "2023-03-14",
          null
         ],
         "xaxis": "x",
         "y": [
          0.33136094674556216,
          0.3609467455621302,
          null
         ],
         "yaxis": "y"
        },
        {
         "customdata": [
          [
           3.7916666666666643,
           "L1",
           "2023-03-16",
           "2023-03-20",
           61.958333333333336
          ],
          [
           3.7916666666666643,
           "L1",
           "2023-03-16",
           "2023-03-20",
           65.75
          ],
          [
           3.7916666666666643,
           null,
           null,
           null,
           null
          ]
         ],
         "hovertemplate": "Date Range: %{customdata[2]} to %{customdata[3]}<br>Progress in period: %{customdata[0]:.2f} %<br>Cumulative Progress: %{customdata[4]:.2f} %<br>Level: %{customdata[1]}",
         "legendgroup": "3.7916666666666643",
         "line": {
          "color": "#ff3600",
          "dash": "solid",
          "width": 5
         },
         "marker": {
          "symbol": "circle"
         },
         "mode": "lines",
         "name": "",
         "orientation": "v",
         "showlegend": true,
         "type": "scatter",
         "x": [
          "2023-03-16",
          "2023-03-20",
          null
         ],
         "xaxis": "x",
         "y": [
          0.3727810650887574,
          0.39644970414201186,
          null
         ],
         "yaxis": "y"
        },
        {
         "customdata": [
          [
           7.708333333333329,
           "L1",
           "2023-03-20",
           "2023-03-23",
           65.75
          ],
          [
           7.708333333333329,
           "L1",
           "2023-03-20",
           "2023-03-23",
           73.45833333333333
          ],
          [
           7.708333333333329,
           null,
           null,
           null,
           null
          ]
         ],
         "hovertemplate": "Date Range: %{customdata[2]} to %{customdata[3]}<br>Progress in period: %{customdata[0]:.2f} %<br>Cumulative Progress: %{customdata[4]:.2f} %<br>Level: %{customdata[1]}",
         "legendgroup": "7.708333333333329",
         "line": {
          "color": "#ff6d00",
          "dash": "solid",
          "width": 5
         },
         "marker": {
          "symbol": "circle"
         },
         "mode": "lines",
         "name": "",
         "orientation": "v",
         "showlegend": true,
         "type": "scatter",
         "x": [
          "2023-03-20",
          "2023-03-23",
          null
         ],
         "xaxis": "x",
         "y": [
          0.39644970414201186,
          0.41420118343195267,
          null
         ],
         "yaxis": "y"
        },
        {
         "customdata": [
          [
           2.0416666666666714,
           "L1",
           "2023-03-30",
           "2023-03-31",
           73.45833333333333
          ],
          [
           2.0416666666666714,
           "L1",
           "2023-03-30",
           "2023-03-31",
           75.5
          ],
          [
           2.0416666666666714,
           null,
           null,
           null,
           null
          ]
         ],
         "hovertemplate": "Date Range: %{customdata[2]} to %{customdata[3]}<br>Progress in period: %{customdata[0]:.2f} %<br>Cumulative Progress: %{customdata[4]:.2f} %<br>Level: %{customdata[1]}",
         "legendgroup": "2.0416666666666714",
         "line": {
          "color": "#ff1d00",
          "dash": "solid",
          "width": 5
         },
         "marker": {
          "symbol": "circle"
         },
         "mode": "lines",
         "name": "",
         "orientation": "v",
         "showlegend": true,
         "type": "scatter",
         "x": [
          "2023-03-30",
          "2023-03-31",
          null
         ],
         "xaxis": "x",
         "y": [
          0.4556213017751479,
          0.46153846153846156,
          null
         ],
         "yaxis": "y"
        },
        {
         "customdata": [
          [
           0.9583333333333286,
           "L1",
           "2023-03-31",
           "2023-04-04",
           75.5
          ],
          [
           0.9583333333333286,
           "L1",
           "2023-03-31",
           "2023-04-04",
           76.45833333333333
          ],
          [
           0.9583333333333286,
           null,
           null,
           null,
           null
          ]
         ],
         "hovertemplate": "Date Range: %{customdata[2]} to %{customdata[3]}<br>Progress in period: %{customdata[0]:.2f} %<br>Cumulative Progress: %{customdata[4]:.2f} %<br>Level: %{customdata[1]}",
         "legendgroup": "0.9583333333333286",
         "line": {
          "color": "#ff0e00",
          "dash": "solid",
          "width": 5
         },
         "marker": {
          "symbol": "circle"
         },
         "mode": "lines",
         "name": "",
         "orientation": "v",
         "showlegend": true,
         "type": "scatter",
         "x": [
          "2023-03-31",
          "2023-04-04",
          null
         ],
         "xaxis": "x",
         "y": [
          0.46153846153846156,
          0.48520710059171596,
          null
         ],
         "yaxis": "y"
        },
        {
         "customdata": [
          [
           0.7083333333333428,
           "L1",
           "2023-04-04",
           "2023-04-06",
           76.45833333333333
          ],
          [
           0.7083333333333428,
           "L1",
           "2023-04-04",
           "2023-04-06",
           77.16666666666667
          ],
          [
           0.7083333333333428,
           null,
           null,
           null,
           null
          ]
         ],
         "hovertemplate": "Date Range: %{customdata[2]} to %{customdata[3]}<br>Progress in period: %{customdata[0]:.2f} %<br>Cumulative Progress: %{customdata[4]:.2f} %<br>Level: %{customdata[1]}",
         "legendgroup": "0.7083333333333428",
         "line": {
          "color": "#ff0a00",
          "dash": "solid",
          "width": 5
         },
         "marker": {
          "symbol": "circle"
         },
         "mode": "lines",
         "name": "",
         "orientation": "v",
         "showlegend": true,
         "type": "scatter",
         "x": [
          "2023-04-04",
          "2023-04-06",
          null
         ],
         "xaxis": "x",
         "y": [
          0.48520710059171596,
          0.4970414201183432,
          null
         ],
         "yaxis": "y"
        },
        {
         "customdata": [
          [
           0.5,
           "L1",
           "2023-04-12",
           "2023-04-15",
           77.16666666666667
          ],
          [
           0.5,
           "L1",
           "2023-04-12",
           "2023-04-15",
           77.66666666666667
          ],
          [
           0.5,
           null,
           null,
           null,
           null
          ]
         ],
         "hovertemplate": "Date Range: %{customdata[2]} to %{customdata[3]}<br>Progress in period: %{customdata[0]:.2f} %<br>Cumulative Progress: %{customdata[4]:.2f} %<br>Level: %{customdata[1]}",
         "legendgroup": "0.5",
         "line": {
          "color": "#ff0700",
          "dash": "solid",
          "width": 5
         },
         "marker": {
          "symbol": "circle"
         },
         "mode": "lines",
         "name": "",
         "orientation": "v",
         "showlegend": true,
         "type": "scatter",
         "x": [
          "2023-04-12",
          "2023-04-15",
          null
         ],
         "xaxis": "x",
         "y": [
          0.5325443786982249,
          0.5502958579881657,
          null
         ],
         "yaxis": "y"
        },
        {
         "customdata": [
          [
           0.875,
           "L1",
           "2023-05-13",
           "2023-05-18",
           77.66666666666667
          ],
          [
           0.875,
           "L1",
           "2023-05-13",
           "2023-05-18",
           78.54166666666667
          ],
          [
           0.875,
           null,
           null,
           null,
           null
          ]
         ],
         "hovertemplate": "Date Range: %{customdata[2]} to %{customdata[3]}<br>Progress in period: %{customdata[0]:.2f} %<br>Cumulative Progress: %{customdata[4]:.2f} %<br>Level: %{customdata[1]}",
         "legendgroup": "0.875",
         "line": {
          "color": "#ff0c00",
          "dash": "solid",
          "width": 5
         },
         "marker": {
          "symbol": "circle"
         },
         "mode": "lines",
         "name": "",
         "orientation": "v",
         "showlegend": true,
         "type": "scatter",
         "x": [
          "2023-05-13",
          "2023-05-18",
          null
         ],
         "xaxis": "x",
         "y": [
          0.7159763313609467,
          0.7455621301775148,
          null
         ],
         "yaxis": "y"
        },
        {
         "customdata": [
          [
           18.875,
           "L1",
           "2023-06-05",
           "2023-06-07",
           78.54166666666667
          ],
          [
           18.875,
           "L1",
           "2023-06-05",
           "2023-06-07",
           97.41666666666667
          ],
          [
           18.875,
           null,
           null,
           null,
           null
          ]
         ],
         "hovertemplate": "Date Range: %{customdata[2]} to %{customdata[3]}<br>Progress in period: %{customdata[0]:.2f} %<br>Cumulative Progress: %{customdata[4]:.2f} %<br>Level: %{customdata[1]}",
         "legendgroup": "18.875",
         "line": {
          "color": "#cbda00",
          "dash": "solid",
          "width": 5
         },
         "marker": {
          "symbol": "circle"
         },
         "mode": "lines",
         "name": "",
         "orientation": "v",
         "showlegend": true,
         "type": "scatter",
         "x": [
          "2023-06-05",
          "2023-06-07",
          null
         ],
         "xaxis": "x",
         "y": [
          0.8520710059171598,
          0.863905325443787,
          null
         ],
         "yaxis": "y"
        },
        {
         "customdata": [
          [
           2.5833333333333286,
           "L1",
           "2023-06-22",
           "2023-06-30",
           97.41666666666667
          ],
          [
           2.5833333333333286,
           "L1",
           "2023-06-22",
           "2023-06-30",
           100
          ],
          [
           2.5833333333333286,
           null,
           null,
           null,
           null
          ]
         ],
         "hovertemplate": "Date Range: %{customdata[2]} to %{customdata[3]}<br>Progress in period: %{customdata[0]:.2f} %<br>Cumulative Progress: %{customdata[4]:.2f} %<br>Level: %{customdata[1]}",
         "legendgroup": "2.5833333333333286",
         "line": {
          "color": "#ff2500",
          "dash": "solid",
          "width": 5
         },
         "marker": {
          "symbol": "circle"
         },
         "mode": "lines",
         "name": "",
         "orientation": "v",
         "showlegend": true,
         "type": "scatter",
         "x": [
          "2023-06-22",
          "2023-06-30",
          null
         ],
         "xaxis": "x",
         "y": [
          0.9526627218934911,
          1,
          null
         ],
         "yaxis": "y"
        },
        {
         "customdata": [
          [
           4.875,
           "L2",
           "2023-01-17",
           "2023-01-19",
           0
          ],
          [
           4.875,
           "L2",
           "2023-01-17",
           "2023-01-19",
           4.875
          ],
          [
           4.875,
           null,
           null,
           null,
           null
          ]
         ],
         "hovertemplate": "Date Range: %{customdata[2]} to %{customdata[3]}<br>Progress in period: %{customdata[0]:.2f} %<br>Cumulative Progress: %{customdata[4]:.2f} %<br>Level: %{customdata[1]}",
         "legendgroup": "4.875",
         "line": {
          "color": "#ff4500",
          "dash": "solid",
          "width": 5
         },
         "marker": {
          "symbol": "circle"
         },
         "mode": "lines",
         "name": "",
         "orientation": "v",
         "showlegend": true,
         "type": "scatter",
         "x": [
          "2023-01-17",
          "2023-01-19",
          null
         ],
         "xaxis": "x",
         "y": [
          1,
          1.011764705882353,
          null
         ],
         "yaxis": "y"
        },
        {
         "customdata": [
          [
           3.708333333333334,
           "L2",
           "2023-01-21",
           "2023-01-23",
           4.875
          ],
          [
           3.708333333333334,
           "L2",
           "2023-01-21",
           "2023-01-23",
           8.583333333333334
          ],
          [
           3.708333333333334,
           null,
           null,
           null,
           null
          ]
         ],
         "hovertemplate": "Date Range: %{customdata[2]} to %{customdata[3]}<br>Progress in period: %{customdata[0]:.2f} %<br>Cumulative Progress: %{customdata[4]:.2f} %<br>Level: %{customdata[1]}",
         "legendgroup": "3.708333333333334",
         "line": {
          "color": "#ff3400",
          "dash": "solid",
          "width": 5
         },
         "marker": {
          "symbol": "circle"
         },
         "mode": "lines",
         "name": "",
         "orientation": "v",
         "showlegend": true,
         "type": "scatter",
         "x": [
          "2023-01-21",
          "2023-01-23",
          null
         ],
         "xaxis": "x",
         "y": [
          1.0235294117647058,
          1.035294117647059,
          null
         ],
         "yaxis": "y"
        },
        {
         "customdata": [
          [
           2.958333333333332,
           "L2",
           "2023-01-23",
           "2023-01-26",
           8.583333333333334
          ],
          [
           2.958333333333332,
           "L2",
           "2023-01-23",
           "2023-01-26",
           11.541666666666666
          ],
          [
           2.958333333333332,
           null,
           null,
           null,
           null
          ]
         ],
         "hovertemplate": "Date Range: %{customdata[2]} to %{customdata[3]}<br>Progress in period: %{customdata[0]:.2f} %<br>Cumulative Progress: %{customdata[4]:.2f} %<br>Level: %{customdata[1]}",
         "legendgroup": "2.958333333333332",
         "line": {
          "color": "#ff2a00",
          "dash": "solid",
          "width": 5
         },
         "marker": {
          "symbol": "circle"
         },
         "mode": "lines",
         "name": "",
         "orientation": "v",
         "showlegend": true,
         "type": "scatter",
         "x": [
          "2023-01-23",
          "2023-01-26",
          null
         ],
         "xaxis": "x",
         "y": [
          1.035294117647059,
          1.0529411764705883,
          null
         ],
         "yaxis": "y"
        },
        {
         "customdata": [
          [
           1.0416666666666679,
           "L2",
           "2023-01-27",
           "2023-01-30",
           11.541666666666666
          ],
          [
           1.0416666666666679,
           "L2",
           "2023-01-27",
           "2023-01-30",
           12.583333333333334
          ],
          [
           1.0416666666666679,
           null,
           null,
           null,
           null
          ]
         ],
         "hovertemplate": "Date Range: %{customdata[2]} to %{customdata[3]}<br>Progress in period: %{customdata[0]:.2f} %<br>Cumulative Progress: %{customdata[4]:.2f} %<br>Level: %{customdata[1]}",
         "legendgroup": "1.0416666666666679",
         "line": {
          "color": "#ff0f00",
          "dash": "solid",
          "width": 5
         },
         "marker": {
          "symbol": "circle"
         },
         "mode": "lines",
         "name": "",
         "orientation": "v",
         "showlegend": true,
         "type": "scatter",
         "x": [
          "2023-01-27",
          "2023-01-30",
          null
         ],
         "xaxis": "x",
         "y": [
          1.0588235294117647,
          1.076470588235294,
          null
         ],
         "yaxis": "y"
        },
        {
         "customdata": [
          [
           0.9166666666666661,
           "L2",
           "2023-01-30",
           "2023-02-02",
           12.583333333333334
          ],
          [
           0.9166666666666661,
           "L2",
           "2023-01-30",
           "2023-02-02",
           13.5
          ],
          [
           0.9166666666666661,
           null,
           null,
           null,
           null
          ]
         ],
         "hovertemplate": "Date Range: %{customdata[2]} to %{customdata[3]}<br>Progress in period: %{customdata[0]:.2f} %<br>Cumulative Progress: %{customdata[4]:.2f} %<br>Level: %{customdata[1]}",
         "legendgroup": "0.9166666666666661",
         "line": {
          "color": "#ff0d00",
          "dash": "solid",
          "width": 5
         },
         "marker": {
          "symbol": "circle"
         },
         "mode": "lines",
         "name": "",
         "orientation": "v",
         "showlegend": true,
         "type": "scatter",
         "x": [
          "2023-01-30",
          "2023-02-02",
          null
         ],
         "xaxis": "x",
         "y": [
          1.076470588235294,
          1.0941176470588236,
          null
         ],
         "yaxis": "y"
        },
        {
         "customdata": [
          [
           0.8333333333333339,
           "L2",
           "2023-02-02",
           "2023-02-07",
           13.5
          ],
          [
           0.8333333333333339,
           "L2",
           "2023-02-02",
           "2023-02-07",
           14.333333333333334
          ],
          [
           0.8333333333333339,
           null,
           null,
           null,
           null
          ]
         ],
         "hovertemplate": "Date Range: %{customdata[2]} to %{customdata[3]}<br>Progress in period: %{customdata[0]:.2f} %<br>Cumulative Progress: %{customdata[4]:.2f} %<br>Level: %{customdata[1]}",
         "legendgroup": "0.8333333333333339",
         "line": {
          "color": "#ff0c00",
          "dash": "solid",
          "width": 5
         },
         "marker": {
          "symbol": "circle"
         },
         "mode": "lines",
         "name": "",
         "orientation": "v",
         "showlegend": true,
         "type": "scatter",
         "x": [
          "2023-02-02",
          "2023-02-07",
          null
         ],
         "xaxis": "x",
         "y": [
          1.0941176470588236,
          1.1235294117647059,
          null
         ],
         "yaxis": "y"
        },
        {
         "customdata": [
          [
           4.958333333333334,
           "L2",
           "2023-02-07",
           "2023-02-13",
           14.333333333333334
          ],
          [
           4.958333333333334,
           "L2",
           "2023-02-07",
           "2023-02-13",
           19.291666666666668
          ],
          [
           4.958333333333334,
           null,
           null,
           null,
           null
          ]
         ],
         "hovertemplate": "Date Range: %{customdata[2]} to %{customdata[3]}<br>Progress in period: %{customdata[0]:.2f} %<br>Cumulative Progress: %{customdata[4]:.2f} %<br>Level: %{customdata[1]}",
         "legendgroup": "4.958333333333334",
         "line": {
          "color": "#ff4600",
          "dash": "solid",
          "width": 5
         },
         "marker": {
          "symbol": "circle"
         },
         "mode": "lines",
         "name": "",
         "orientation": "v",
         "showlegend": true,
         "type": "scatter",
         "x": [
          "2023-02-07",
          "2023-02-13",
          null
         ],
         "xaxis": "x",
         "y": [
          1.1235294117647059,
          1.1588235294117646,
          null
         ],
         "yaxis": "y"
        },
        {
         "customdata": [
          [
           0.7916666666666643,
           "L2",
           "2023-02-13",
           "2023-02-21",
           19.291666666666668
          ],
          [
           0.7916666666666643,
           "L2",
           "2023-02-13",
           "2023-02-21",
           20.083333333333332
          ],
          [
           0.7916666666666643,
           null,
           null,
           null,
           null
          ]
         ],
         "hovertemplate": "Date Range: %{customdata[2]} to %{customdata[3]}<br>Progress in period: %{customdata[0]:.2f} %<br>Cumulative Progress: %{customdata[4]:.2f} %<br>Level: %{customdata[1]}",
         "legendgroup": "0.7916666666666643",
         "line": {
          "color": "#ff0b00",
          "dash": "solid",
          "width": 5
         },
         "marker": {
          "symbol": "circle"
         },
         "mode": "lines",
         "name": "",
         "orientation": "v",
         "showlegend": true,
         "type": "scatter",
         "x": [
          "2023-02-13",
          "2023-02-21",
          null
         ],
         "xaxis": "x",
         "y": [
          1.1588235294117646,
          1.2058823529411764,
          null
         ],
         "yaxis": "y"
        },
        {
         "customdata": [
          [
           1.5833333333333357,
           "L2",
           "2023-02-21",
           "2023-02-24",
           20.083333333333332
          ],
          [
           1.5833333333333357,
           "L2",
           "2023-02-21",
           "2023-02-24",
           21.666666666666668
          ],
          [
           1.5833333333333357,
           null,
           null,
           null,
           null
          ]
         ],
         "hovertemplate": "Date Range: %{customdata[2]} to %{customdata[3]}<br>Progress in period: %{customdata[0]:.2f} %<br>Cumulative Progress: %{customdata[4]:.2f} %<br>Level: %{customdata[1]}",
         "legendgroup": "1.5833333333333357",
         "line": {
          "color": "#ff1600",
          "dash": "solid",
          "width": 5
         },
         "marker": {
          "symbol": "circle"
         },
         "mode": "lines",
         "name": "",
         "orientation": "v",
         "showlegend": true,
         "type": "scatter",
         "x": [
          "2023-02-21",
          "2023-02-24",
          null
         ],
         "xaxis": "x",
         "y": [
          1.2058823529411764,
          1.223529411764706,
          null
         ],
         "yaxis": "y"
        },
        {
         "customdata": [
          [
           0.25,
           "L2",
           "2023-02-24",
           "2023-02-27",
           21.666666666666668
          ],
          [
           0.25,
           "L2",
           "2023-02-24",
           "2023-02-27",
           21.916666666666668
          ],
          [
           0.25,
           null,
           null,
           null,
           null
          ],
          [
           0.25,
           "L2",
           "2023-06-30",
           "2023-07-06",
           99.58333333333333
          ],
          [
           0.25,
           "L2",
           "2023-06-30",
           "2023-07-06",
           99.83333333333333
          ],
          [
           0.25,
           null,
           null,
           null,
           null
          ]
         ],
         "hovertemplate": "Date Range: %{customdata[2]} to %{customdata[3]}<br>Progress in period: %{customdata[0]:.2f} %<br>Cumulative Progress: %{customdata[4]:.2f} %<br>Level: %{customdata[1]}",
         "legendgroup": "0.25",
         "line": {
          "color": "#ff0400",
          "dash": "solid",
          "width": 5
         },
         "marker": {
          "symbol": "circle"
         },
         "mode": "lines",
         "name": "",
         "orientation": "v",
         "showlegend": true,
         "type": "scatter",
         "x": [
          "2023-02-24",
          "2023-02-27",
          null,
          "2023-06-30",
          "2023-07-06",
          null
         ],
         "xaxis": "x",
         "y": [
          1.223529411764706,
          1.2411764705882353,
          null,
          1.9647058823529413,
          2,
          null
         ],
         "yaxis": "y"
        },
        {
         "customdata": [
          [
           2.1666666666666643,
           "L2",
           "2023-03-03",
           "2023-03-07",
           21.916666666666668
          ],
          [
           2.1666666666666643,
           "L2",
           "2023-03-03",
           "2023-03-07",
           24.083333333333332
          ],
          [
           2.1666666666666643,
           null,
           null,
           null,
           null
          ]
         ],
         "hovertemplate": "Date Range: %{customdata[2]} to %{customdata[3]}<br>Progress in period: %{customdata[0]:.2f} %<br>Cumulative Progress: %{customdata[4]:.2f} %<br>Level: %{customdata[1]}",
         "legendgroup": "2.1666666666666643",
         "line": {
          "color": "#ff1f00",
          "dash": "solid",
          "width": 5
         },
         "marker": {
          "symbol": "circle"
         },
         "mode": "lines",
         "name": "",
         "orientation": "v",
         "showlegend": true,
         "type": "scatter",
         "x": [
          "2023-03-03",
          "2023-03-07",
          null
         ],
         "xaxis": "x",
         "y": [
          1.2647058823529411,
          1.288235294117647,
          null
         ],
         "yaxis": "y"
        },
        {
         "customdata": [
          [
           6.458333333333336,
           "L2",
           "2023-03-07",
           "2023-03-09",
           24.083333333333332
          ],
          [
           6.458333333333336,
           "L2",
           "2023-03-07",
           "2023-03-09",
           30.541666666666668
          ],
          [
           6.458333333333336,
           null,
           null,
           null,
           null
          ]
         ],
         "hovertemplate": "Date Range: %{customdata[2]} to %{customdata[3]}<br>Progress in period: %{customdata[0]:.2f} %<br>Cumulative Progress: %{customdata[4]:.2f} %<br>Level: %{customdata[1]}",
         "legendgroup": "6.458333333333336",
         "line": {
          "color": "#ff5b00",
          "dash": "solid",
          "width": 5
         },
         "marker": {
          "symbol": "circle"
         },
         "mode": "lines",
         "name": "",
         "orientation": "v",
         "showlegend": true,
         "type": "scatter",
         "x": [
          "2023-03-07",
          "2023-03-09",
          null
         ],
         "xaxis": "x",
         "y": [
          1.288235294117647,
          1.3,
          null
         ],
         "yaxis": "y"
        },
        {
         "customdata": [
          [
           11.041666666666668,
           "L2",
           "2023-03-09",
           "2023-03-14",
           30.541666666666668
          ],
          [
           11.041666666666668,
           "L2",
           "2023-03-09",
           "2023-03-14",
           41.583333333333336
          ],
          [
           11.041666666666668,
           null,
           null,
           null,
           null
          ]
         ],
         "hovertemplate": "Date Range: %{customdata[2]} to %{customdata[3]}<br>Progress in period: %{customdata[0]:.2f} %<br>Cumulative Progress: %{customdata[4]:.2f} %<br>Level: %{customdata[1]}",
         "legendgroup": "11.041666666666668",
         "line": {
          "color": "#ff9c00",
          "dash": "solid",
          "width": 5
         },
         "marker": {
          "symbol": "circle"
         },
         "mode": "lines",
         "name": "",
         "orientation": "v",
         "showlegend": true,
         "type": "scatter",
         "x": [
          "2023-03-09",
          "2023-03-14",
          null
         ],
         "xaxis": "x",
         "y": [
          1.3,
          1.3294117647058823,
          null
         ],
         "yaxis": "y"
        },
        {
         "customdata": [
          [
           6.791666666666664,
           "L2",
           "2023-03-16",
           "2023-03-20",
           41.583333333333336
          ],
          [
           6.791666666666664,
           "L2",
           "2023-03-16",
           "2023-03-20",
           48.375
          ],
          [
           6.791666666666664,
           null,
           null,
           null,
           null
          ]
         ],
         "hovertemplate": "Date Range: %{customdata[2]} to %{customdata[3]}<br>Progress in period: %{customdata[0]:.2f} %<br>Cumulative Progress: %{customdata[4]:.2f} %<br>Level: %{customdata[1]}",
         "legendgroup": "6.791666666666664",
         "line": {
          "color": "#ff6000",
          "dash": "solid",
          "width": 5
         },
         "marker": {
          "symbol": "circle"
         },
         "mode": "lines",
         "name": "",
         "orientation": "v",
         "showlegend": true,
         "type": "scatter",
         "x": [
          "2023-03-16",
          "2023-03-20",
          null
         ],
         "xaxis": "x",
         "y": [
          1.3411764705882354,
          1.3647058823529412,
          null
         ],
         "yaxis": "y"
        },
        {
         "customdata": [
          [
           15.875,
           "L2",
           "2023-03-20",
           "2023-03-23",
           48.375
          ],
          [
           15.875,
           "L2",
           "2023-03-20",
           "2023-03-23",
           64.25
          ],
          [
           15.875,
           null,
           null,
           null,
           null
          ]
         ],
         "hovertemplate": "Date Range: %{customdata[2]} to %{customdata[3]}<br>Progress in period: %{customdata[0]:.2f} %<br>Cumulative Progress: %{customdata[4]:.2f} %<br>Level: %{customdata[1]}",
         "legendgroup": "15.875",
         "line": {
          "color": "#f3d500",
          "dash": "solid",
          "width": 5
         },
         "marker": {
          "symbol": "circle"
         },
         "mode": "lines",
         "name": "",
         "orientation": "v",
         "showlegend": true,
         "type": "scatter",
         "x": [
          "2023-03-20",
          "2023-03-23",
          null
         ],
         "xaxis": "x",
         "y": [
          1.3647058823529412,
          1.3823529411764706,
          null
         ],
         "yaxis": "y"
        },
        {
         "customdata": [
          [
           4.083333333333329,
           "L2",
           "2023-03-30",
           "2023-03-31",
           64.25
          ],
          [
           4.083333333333329,
           "L2",
           "2023-03-30",
           "2023-03-31",
           68.33333333333333
          ],
          [
           4.083333333333329,
           null,
           null,
           null,
           null
          ]
         ],
         "hovertemplate": "Date Range: %{customdata[2]} to %{customdata[3]}<br>Progress in period: %{customdata[0]:.2f} %<br>Cumulative Progress: %{customdata[4]:.2f} %<br>Level: %{customdata[1]}",
         "legendgroup": "4.083333333333329",
         "line": {
          "color": "#ff3a00",
          "dash": "solid",
          "width": 5
         },
         "marker": {
          "symbol": "circle"
         },
         "mode": "lines",
         "name": "",
         "orientation": "v",
         "showlegend": true,
         "type": "scatter",
         "x": [
          "2023-03-30",
          "2023-03-31",
          null
         ],
         "xaxis": "x",
         "y": [
          1.423529411764706,
          1.4294117647058824,
          null
         ],
         "yaxis": "y"
        },
        {
         "customdata": [
          [
           4.5,
           "L2",
           "2023-03-31",
           "2023-04-04",
           68.33333333333333
          ],
          [
           4.5,
           "L2",
           "2023-03-31",
           "2023-04-04",
           72.83333333333333
          ],
          [
           4.5,
           null,
           null,
           null,
           null
          ]
         ],
         "hovertemplate": "Date Range: %{customdata[2]} to %{customdata[3]}<br>Progress in period: %{customdata[0]:.2f} %<br>Cumulative Progress: %{customdata[4]:.2f} %<br>Level: %{customdata[1]}",
         "legendgroup": "4.5",
         "line": {
          "color": "#ff4000",
          "dash": "solid",
          "width": 5
         },
         "marker": {
          "symbol": "circle"
         },
         "mode": "lines",
         "name": "",
         "orientation": "v",
         "showlegend": true,
         "type": "scatter",
         "x": [
          "2023-03-31",
          "2023-04-04",
          null
         ],
         "xaxis": "x",
         "y": [
          1.4294117647058824,
          1.4529411764705882,
          null
         ],
         "yaxis": "y"
        },
        {
         "customdata": [
          [
           1.2916666666666714,
           "L2",
           "2023-04-04",
           "2023-04-06",
           72.83333333333333
          ],
          [
           1.2916666666666714,
           "L2",
           "2023-04-04",
           "2023-04-06",
           74.125
          ],
          [
           1.2916666666666714,
           null,
           null,
           null,
           null
          ]
         ],
         "hovertemplate": "Date Range: %{customdata[2]} to %{customdata[3]}<br>Progress in period: %{customdata[0]:.2f} %<br>Cumulative Progress: %{customdata[4]:.2f} %<br>Level: %{customdata[1]}",
         "legendgroup": "1.2916666666666714",
         "line": {
          "color": "#ff1200",
          "dash": "solid",
          "width": 5
         },
         "marker": {
          "symbol": "circle"
         },
         "mode": "lines",
         "name": "",
         "orientation": "v",
         "showlegend": true,
         "type": "scatter",
         "x": [
          "2023-04-04",
          "2023-04-06",
          null
         ],
         "xaxis": "x",
         "y": [
          1.4529411764705882,
          1.4647058823529413,
          null
         ],
         "yaxis": "y"
        },
        {
         "customdata": [
          [
           0.0833333333333286,
           "L2",
           "2023-04-12",
           "2023-04-15",
           74.125
          ],
          [
           0.0833333333333286,
           "L2",
           "2023-04-12",
           "2023-04-15",
           74.20833333333333
          ],
          [
           0.0833333333333286,
           null,
           null,
           null,
           null
          ]
         ],
         "hovertemplate": "Date Range: %{customdata[2]} to %{customdata[3]}<br>Progress in period: %{customdata[0]:.2f} %<br>Cumulative Progress: %{customdata[4]:.2f} %<br>Level: %{customdata[1]}",
         "legendgroup": "0.0833333333333286",
         "line": {
          "color": "#ff0100",
          "dash": "solid",
          "width": 5
         },
         "marker": {
          "symbol": "circle"
         },
         "mode": "lines",
         "name": "",
         "orientation": "v",
         "showlegend": true,
         "type": "scatter",
         "x": [
          "2023-04-12",
          "2023-04-15",
          null
         ],
         "xaxis": "x",
         "y": [
          1.5,
          1.5176470588235293,
          null
         ],
         "yaxis": "y"
        },
        {
         "customdata": [
          [
           0.08333333333334281,
           "L2",
           "2023-04-21",
           "2023-04-25",
           74.20833333333333
          ],
          [
           0.08333333333334281,
           "L2",
           "2023-04-21",
           "2023-04-25",
           74.29166666666667
          ],
          [
           0.08333333333334281,
           null,
           null,
           null,
           null
          ]
         ],
         "hovertemplate": "Date Range: %{customdata[2]} to %{customdata[3]}<br>Progress in period: %{customdata[0]:.2f} %<br>Cumulative Progress: %{customdata[4]:.2f} %<br>Level: %{customdata[1]}",
         "legendgroup": "0.08333333333334281",
         "line": {
          "color": "#ff0100",
          "dash": "solid",
          "width": 5
         },
         "marker": {
          "symbol": "circle"
         },
         "mode": "lines",
         "name": "",
         "orientation": "v",
         "showlegend": true,
         "type": "scatter",
         "x": [
          "2023-04-21",
          "2023-04-25",
          null
         ],
         "xaxis": "x",
         "y": [
          1.5529411764705883,
          1.576470588235294,
          null
         ],
         "yaxis": "y"
        },
        {
         "customdata": [
          [
           0.2083333333333286,
           "L2",
           "2023-04-25",
           "2023-04-27",
           74.29166666666667
          ],
          [
           0.2083333333333286,
           "L2",
           "2023-04-25",
           "2023-04-27",
           74.5
          ],
          [
           0.2083333333333286,
           null,
           null,
           null,
           null
          ]
         ],
         "hovertemplate": "Date Range: %{customdata[2]} to %{customdata[3]}<br>Progress in period: %{customdata[0]:.2f} %<br>Cumulative Progress: %{customdata[4]:.2f} %<br>Level: %{customdata[1]}",
         "legendgroup": "0.2083333333333286",
         "line": {
          "color": "#ff0300",
          "dash": "solid",
          "width": 5
         },
         "marker": {
          "symbol": "circle"
         },
         "mode": "lines",
         "name": "",
         "orientation": "v",
         "showlegend": true,
         "type": "scatter",
         "x": [
          "2023-04-25",
          "2023-04-27",
          null
         ],
         "xaxis": "x",
         "y": [
          1.576470588235294,
          1.5882352941176472,
          null
         ],
         "yaxis": "y"
        },
        {
         "customdata": [
          [
           23.29166666666667,
           "L2",
           "2023-06-05",
           "2023-06-07",
           74.5
          ],
          [
           23.29166666666667,
           "L2",
           "2023-06-05",
           "2023-06-07",
           97.79166666666667
          ],
          [
           23.29166666666667,
           null,
           null,
           null,
           null
          ]
         ],
         "hovertemplate": "Date Range: %{customdata[2]} to %{customdata[3]}<br>Progress in period: %{customdata[0]:.2f} %<br>Cumulative Progress: %{customdata[4]:.2f} %<br>Level: %{customdata[1]}",
         "legendgroup": "23.29166666666667",
         "line": {
          "color": "#8fe100",
          "dash": "solid",
          "width": 5
         },
         "marker": {
          "symbol": "circle"
         },
         "mode": "lines",
         "name": "",
         "orientation": "v",
         "showlegend": true,
         "type": "scatter",
         "x": [
          "2023-06-05",
          "2023-06-07",
          null
         ],
         "xaxis": "x",
         "y": [
          1.8176470588235294,
          1.8294117647058825,
          null
         ],
         "yaxis": "y"
        },
        {
         "customdata": [
          [
           1.7916666666666572,
           "L2",
           "2023-06-20",
           "2023-06-22",
           97.79166666666667
          ],
          [
           1.7916666666666572,
           "L2",
           "2023-06-20",
           "2023-06-22",
           99.58333333333333
          ],
          [
           1.7916666666666572,
           null,
           null,
           null,
           null
          ]
         ],
         "hovertemplate": "Date Range: %{customdata[2]} to %{customdata[3]}<br>Progress in period: %{customdata[0]:.2f} %<br>Cumulative Progress: %{customdata[4]:.2f} %<br>Level: %{customdata[1]}",
         "legendgroup": "1.7916666666666572",
         "line": {
          "color": "#ff1900",
          "dash": "solid",
          "width": 5
         },
         "marker": {
          "symbol": "circle"
         },
         "mode": "lines",
         "name": "",
         "orientation": "v",
         "showlegend": true,
         "type": "scatter",
         "x": [
          "2023-06-20",
          "2023-06-22",
          null
         ],
         "xaxis": "x",
         "y": [
          1.9058823529411764,
          1.9176470588235293,
          null
         ],
         "yaxis": "y"
        },
        {
         "customdata": [
          [
           6.458333333333333,
           "L3",
           "2023-01-23",
           "2023-01-26",
           0
          ],
          [
           6.458333333333333,
           "L3",
           "2023-01-23",
           "2023-01-26",
           6.458333333333333
          ],
          [
           6.458333333333333,
           null,
           null,
           null,
           null
          ]
         ],
         "hovertemplate": "Date Range: %{customdata[2]} to %{customdata[3]}<br>Progress in period: %{customdata[0]:.2f} %<br>Cumulative Progress: %{customdata[4]:.2f} %<br>Level: %{customdata[1]}",
         "legendgroup": "6.458333333333333",
         "line": {
          "color": "#ff5b00",
          "dash": "solid",
          "width": 5
         },
         "marker": {
          "symbol": "circle"
         },
         "mode": "lines",
         "name": "",
         "orientation": "v",
         "showlegend": true,
         "type": "scatter",
         "x": [
          "2023-01-23",
          "2023-01-26",
          null
         ],
         "xaxis": "x",
         "y": [
          2,
          2.0164835164835164,
          null
         ],
         "yaxis": "y"
        },
        {
         "customdata": [
          [
           6.500000000000001,
           "L3",
           "2023-01-27",
           "2023-01-30",
           6.458333333333333
          ],
          [
           6.500000000000001,
           "L3",
           "2023-01-27",
           "2023-01-30",
           12.958333333333334
          ],
          [
           6.500000000000001,
           null,
           null,
           null,
           null
          ]
         ],
         "hovertemplate": "Date Range: %{customdata[2]} to %{customdata[3]}<br>Progress in period: %{customdata[0]:.2f} %<br>Cumulative Progress: %{customdata[4]:.2f} %<br>Level: %{customdata[1]}",
         "legendgroup": "6.500000000000001",
         "line": {
          "color": "#ff5c00",
          "dash": "solid",
          "width": 5
         },
         "marker": {
          "symbol": "circle"
         },
         "mode": "lines",
         "name": "",
         "orientation": "v",
         "showlegend": true,
         "type": "scatter",
         "x": [
          "2023-01-27",
          "2023-01-30",
          null
         ],
         "xaxis": "x",
         "y": [
          2.021978021978022,
          2.0384615384615383,
          null
         ],
         "yaxis": "y"
        },
        {
         "customdata": [
          [
           0.5416666666666661,
           "L3",
           "2023-02-02",
           "2023-02-07",
           12.958333333333334
          ],
          [
           0.5416666666666661,
           "L3",
           "2023-02-02",
           "2023-02-07",
           13.5
          ],
          [
           0.5416666666666661,
           null,
           null,
           null,
           null
          ]
         ],
         "hovertemplate": "Date Range: %{customdata[2]} to %{customdata[3]}<br>Progress in period: %{customdata[0]:.2f} %<br>Cumulative Progress: %{customdata[4]:.2f} %<br>Level: %{customdata[1]}",
         "legendgroup": "0.5416666666666661",
         "line": {
          "color": "#ff0800",
          "dash": "solid",
          "width": 5
         },
         "marker": {
          "symbol": "circle"
         },
         "mode": "lines",
         "name": "",
         "orientation": "v",
         "showlegend": true,
         "type": "scatter",
         "x": [
          "2023-02-02",
          "2023-02-07",
          null
         ],
         "xaxis": "x",
         "y": [
          2.0549450549450547,
          2.0824175824175826,
          null
         ],
         "yaxis": "y"
        },
        {
         "customdata": [
          [
           6.458333333333332,
           "L3",
           "2023-02-07",
           "2023-02-13",
           13.5
          ],
          [
           6.458333333333332,
           "L3",
           "2023-02-07",
           "2023-02-13",
           19.958333333333332
          ],
          [
           6.458333333333332,
           null,
           null,
           null,
           null
          ]
         ],
         "hovertemplate": "Date Range: %{customdata[2]} to %{customdata[3]}<br>Progress in period: %{customdata[0]:.2f} %<br>Cumulative Progress: %{customdata[4]:.2f} %<br>Level: %{customdata[1]}",
         "legendgroup": "6.458333333333332",
         "line": {
          "color": "#ff5b00",
          "dash": "solid",
          "width": 5
         },
         "marker": {
          "symbol": "circle"
         },
         "mode": "lines",
         "name": "",
         "orientation": "v",
         "showlegend": true,
         "type": "scatter",
         "x": [
          "2023-02-07",
          "2023-02-13",
          null
         ],
         "xaxis": "x",
         "y": [
          2.0824175824175826,
          2.1153846153846154,
          null
         ],
         "yaxis": "y"
        },
        {
         "customdata": [
          [
           0.4583333333333357,
           "L3",
           "2023-02-13",
           "2023-02-21",
           19.958333333333332
          ],
          [
           0.4583333333333357,
           "L3",
           "2023-02-13",
           "2023-02-21",
           20.416666666666668
          ],
          [
           0.4583333333333357,
           null,
           null,
           null,
           null
          ]
         ],
         "hovertemplate": "Date Range: %{customdata[2]} to %{customdata[3]}<br>Progress in period: %{customdata[0]:.2f} %<br>Cumulative Progress: %{customdata[4]:.2f} %<br>Level: %{customdata[1]}",
         "legendgroup": "0.4583333333333357",
         "line": {
          "color": "#ff0600",
          "dash": "solid",
          "width": 5
         },
         "marker": {
          "symbol": "circle"
         },
         "mode": "lines",
         "name": "",
         "orientation": "v",
         "showlegend": true,
         "type": "scatter",
         "x": [
          "2023-02-13",
          "2023-02-21",
          null
         ],
         "xaxis": "x",
         "y": [
          2.1153846153846154,
          2.159340659340659,
          null
         ],
         "yaxis": "y"
        },
        {
         "customdata": [
          [
           0.20833333333333215,
           "L3",
           "2023-02-21",
           "2023-02-24",
           20.416666666666668
          ],
          [
           0.20833333333333215,
           "L3",
           "2023-02-21",
           "2023-02-24",
           20.625
          ],
          [
           0.20833333333333215,
           null,
           null,
           null,
           null
          ]
         ],
         "hovertemplate": "Date Range: %{customdata[2]} to %{customdata[3]}<br>Progress in period: %{customdata[0]:.2f} %<br>Cumulative Progress: %{customdata[4]:.2f} %<br>Level: %{customdata[1]}",
         "legendgroup": "0.20833333333333215",
         "line": {
          "color": "#ff0300",
          "dash": "solid",
          "width": 5
         },
         "marker": {
          "symbol": "circle"
         },
         "mode": "lines",
         "name": "",
         "orientation": "v",
         "showlegend": true,
         "type": "scatter",
         "x": [
          "2023-02-21",
          "2023-02-24",
          null
         ],
         "xaxis": "x",
         "y": [
          2.159340659340659,
          2.1758241758241756,
          null
         ],
         "yaxis": "y"
        },
        {
         "customdata": [
          [
           0.7916666666666679,
           "L3",
           "2023-02-24",
           "2023-02-27",
           20.625
          ],
          [
           0.7916666666666679,
           "L3",
           "2023-02-24",
           "2023-02-27",
           21.416666666666668
          ],
          [
           0.7916666666666679,
           null,
           null,
           null,
           null
          ]
         ],
         "hovertemplate": "Date Range: %{customdata[2]} to %{customdata[3]}<br>Progress in period: %{customdata[0]:.2f} %<br>Cumulative Progress: %{customdata[4]:.2f} %<br>Level: %{customdata[1]}",
         "legendgroup": "0.7916666666666679",
         "line": {
          "color": "#ff0b00",
          "dash": "solid",
          "width": 5
         },
         "marker": {
          "symbol": "circle"
         },
         "mode": "lines",
         "name": "",
         "orientation": "v",
         "showlegend": true,
         "type": "scatter",
         "x": [
          "2023-02-24",
          "2023-02-27",
          null
         ],
         "xaxis": "x",
         "y": [
          2.1758241758241756,
          2.1923076923076925,
          null
         ],
         "yaxis": "y"
        },
        {
         "customdata": [
          [
           0.125,
           "L3",
           "2023-02-27",
           "2023-03-03",
           21.416666666666668
          ],
          [
           0.125,
           "L3",
           "2023-02-27",
           "2023-03-03",
           21.541666666666668
          ],
          [
           0.125,
           null,
           null,
           null,
           null
          ],
          [
           0.125,
           "L3",
           "2023-04-21",
           "2023-04-25",
           72.375
          ],
          [
           0.125,
           "L3",
           "2023-04-21",
           "2023-04-25",
           72.5
          ],
          [
           0.125,
           null,
           null,
           null,
           null
          ]
         ],
         "hovertemplate": "Date Range: %{customdata[2]} to %{customdata[3]}<br>Progress in period: %{customdata[0]:.2f} %<br>Cumulative Progress: %{customdata[4]:.2f} %<br>Level: %{customdata[1]}",
         "legendgroup": "0.125",
         "line": {
          "color": "#ff0200",
          "dash": "solid",
          "width": 5
         },
         "marker": {
          "symbol": "circle"
         },
         "mode": "lines",
         "name": "",
         "orientation": "v",
         "showlegend": true,
         "type": "scatter",
         "x": [
          "2023-02-27",
          "2023-03-03",
          null,
          "2023-04-21",
          "2023-04-25",
          null
         ],
         "xaxis": "x",
         "y": [
          2.1923076923076925,
          2.2142857142857144,
          null,
          2.4835164835164836,
          2.5054945054945055,
          null
         ],
         "yaxis": "y"
        },
        {
         "customdata": [
          [
           9.958333333333332,
           "L3",
           "2023-03-09",
           "2023-03-14",
           21.541666666666668
          ],
          [
           9.958333333333332,
           "L3",
           "2023-03-09",
           "2023-03-14",
           31.5
          ],
          [
           9.958333333333332,
           null,
           null,
           null,
           null
          ]
         ],
         "hovertemplate": "Date Range: %{customdata[2]} to %{customdata[3]}<br>Progress in period: %{customdata[0]:.2f} %<br>Cumulative Progress: %{customdata[4]:.2f} %<br>Level: %{customdata[1]}",
         "legendgroup": "9.958333333333332",
         "line": {
          "color": "#ff8d00",
          "dash": "solid",
          "width": 5
         },
         "marker": {
          "symbol": "circle"
         },
         "mode": "lines",
         "name": "",
         "orientation": "v",
         "showlegend": true,
         "type": "scatter",
         "x": [
          "2023-03-09",
          "2023-03-14",
          null
         ],
         "xaxis": "x",
         "y": [
          2.2472527472527473,
          2.2747252747252746,
          null
         ],
         "yaxis": "y"
        },
        {
         "customdata": [
          [
           9.125,
           "L3",
           "2023-03-16",
           "2023-03-20",
           31.5
          ],
          [
           9.125,
           "L3",
           "2023-03-16",
           "2023-03-20",
           40.625
          ],
          [
           9.125,
           null,
           null,
           null,
           null
          ]
         ],
         "hovertemplate": "Date Range: %{customdata[2]} to %{customdata[3]}<br>Progress in period: %{customdata[0]:.2f} %<br>Cumulative Progress: %{customdata[4]:.2f} %<br>Level: %{customdata[1]}",
         "legendgroup": "9.125",
         "line": {
          "color": "#ff8100",
          "dash": "solid",
          "width": 5
         },
         "marker": {
          "symbol": "circle"
         },
         "mode": "lines",
         "name": "",
         "orientation": "v",
         "showlegend": true,
         "type": "scatter",
         "x": [
          "2023-03-16",
          "2023-03-20",
          null
         ],
         "xaxis": "x",
         "y": [
          2.2857142857142856,
          2.3076923076923075,
          null
         ],
         "yaxis": "y"
        },
        {
         "customdata": [
          [
           21.458333333333336,
           "L3",
           "2023-03-20",
           "2023-03-23",
           40.625
          ],
          [
           21.458333333333336,
           "L3",
           "2023-03-20",
           "2023-03-23",
           62.083333333333336
          ],
          [
           21.458333333333336,
           null,
           null,
           null,
           null
          ]
         ],
         "hovertemplate": "Date Range: %{customdata[2]} to %{customdata[3]}<br>Progress in period: %{customdata[0]:.2f} %<br>Cumulative Progress: %{customdata[4]:.2f} %<br>Level: %{customdata[1]}",
         "legendgroup": "21.458333333333336",
         "line": {
          "color": "#a8de00",
          "dash": "solid",
          "width": 5
         },
         "marker": {
          "symbol": "circle"
         },
         "mode": "lines",
         "name": "",
         "orientation": "v",
         "showlegend": true,
         "type": "scatter",
         "x": [
          "2023-03-20",
          "2023-03-23",
          null
         ],
         "xaxis": "x",
         "y": [
          2.3076923076923075,
          2.3241758241758244,
          null
         ],
         "yaxis": "y"
        },
        {
         "customdata": [
          [
           2.624999999999993,
           "L3",
           "2023-03-30",
           "2023-03-31",
           62.083333333333336
          ],
          [
           2.624999999999993,
           "L3",
           "2023-03-30",
           "2023-03-31",
           64.70833333333333
          ],
          [
           2.624999999999993,
           null,
           null,
           null,
           null
          ]
         ],
         "hovertemplate": "Date Range: %{customdata[2]} to %{customdata[3]}<br>Progress in period: %{customdata[0]:.2f} %<br>Cumulative Progress: %{customdata[4]:.2f} %<br>Level: %{customdata[1]}",
         "legendgroup": "2.624999999999993",
         "line": {
          "color": "#ff2500",
          "dash": "solid",
          "width": 5
         },
         "marker": {
          "symbol": "circle"
         },
         "mode": "lines",
         "name": "",
         "orientation": "v",
         "showlegend": true,
         "type": "scatter",
         "x": [
          "2023-03-30",
          "2023-03-31",
          null
         ],
         "xaxis": "x",
         "y": [
          2.3626373626373627,
          2.368131868131868,
          null
         ],
         "yaxis": "y"
        },
        {
         "customdata": [
          [
           1.25,
           "L3",
           "2023-03-31",
           "2023-04-04",
           64.70833333333333
          ],
          [
           1.25,
           "L3",
           "2023-03-31",
           "2023-04-04",
           65.95833333333333
          ],
          [
           1.25,
           null,
           null,
           null,
           null
          ]
         ],
         "hovertemplate": "Date Range: %{customdata[2]} to %{customdata[3]}<br>Progress in period: %{customdata[0]:.2f} %<br>Cumulative Progress: %{customdata[4]:.2f} %<br>Level: %{customdata[1]}",
         "legendgroup": "1.25",
         "line": {
          "color": "#ff1200",
          "dash": "solid",
          "width": 5
         },
         "marker": {
          "symbol": "circle"
         },
         "mode": "lines",
         "name": "",
         "orientation": "v",
         "showlegend": true,
         "type": "scatter",
         "x": [
          "2023-03-31",
          "2023-04-04",
          null
         ],
         "xaxis": "x",
         "y": [
          2.368131868131868,
          2.39010989010989,
          null
         ],
         "yaxis": "y"
        },
        {
         "customdata": [
          [
           4.583333333333343,
           "L3",
           "2023-04-04",
           "2023-04-06",
           65.95833333333333
          ],
          [
           4.583333333333343,
           "L3",
           "2023-04-04",
           "2023-04-06",
           70.54166666666667
          ],
          [
           4.583333333333343,
           null,
           null,
           null,
           null
          ]
         ],
         "hovertemplate": "Date Range: %{customdata[2]} to %{customdata[3]}<br>Progress in period: %{customdata[0]:.2f} %<br>Cumulative Progress: %{customdata[4]:.2f} %<br>Level: %{customdata[1]}",
         "legendgroup": "4.583333333333343",
         "line": {
          "color": "#ff4100",
          "dash": "solid",
          "width": 5
         },
         "marker": {
          "symbol": "circle"
         },
         "mode": "lines",
         "name": "",
         "orientation": "v",
         "showlegend": true,
         "type": "scatter",
         "x": [
          "2023-04-04",
          "2023-04-06",
          null
         ],
         "xaxis": "x",
         "y": [
          2.39010989010989,
          2.401098901098901,
          null
         ],
         "yaxis": "y"
        },
        {
         "customdata": [
          [
           1.8333333333333286,
           "L3",
           "2023-04-06",
           "2023-04-12",
           70.54166666666667
          ],
          [
           1.8333333333333286,
           "L3",
           "2023-04-06",
           "2023-04-12",
           72.375
          ],
          [
           1.8333333333333286,
           null,
           null,
           null,
           null
          ]
         ],
         "hovertemplate": "Date Range: %{customdata[2]} to %{customdata[3]}<br>Progress in period: %{customdata[0]:.2f} %<br>Cumulative Progress: %{customdata[4]:.2f} %<br>Level: %{customdata[1]}",
         "legendgroup": "1.8333333333333286",
         "line": {
          "color": "#ff1a00",
          "dash": "solid",
          "width": 5
         },
         "marker": {
          "symbol": "circle"
         },
         "mode": "lines",
         "name": "",
         "orientation": "v",
         "showlegend": true,
         "type": "scatter",
         "x": [
          "2023-04-06",
          "2023-04-12",
          null
         ],
         "xaxis": "x",
         "y": [
          2.401098901098901,
          2.4340659340659343,
          null
         ],
         "yaxis": "y"
        },
        {
         "customdata": [
          [
           0.041666666666671404,
           "L3",
           "2023-04-27",
           "2023-05-02",
           72.5
          ],
          [
           0.041666666666671404,
           "L3",
           "2023-04-27",
           "2023-05-02",
           72.54166666666667
          ],
          [
           0.041666666666671404,
           null,
           null,
           null,
           null
          ]
         ],
         "hovertemplate": "Date Range: %{customdata[2]} to %{customdata[3]}<br>Progress in period: %{customdata[0]:.2f} %<br>Cumulative Progress: %{customdata[4]:.2f} %<br>Level: %{customdata[1]}",
         "legendgroup": "0.041666666666671404",
         "line": {
          "color": "#ff0100",
          "dash": "solid",
          "width": 5
         },
         "marker": {
          "symbol": "circle"
         },
         "mode": "lines",
         "name": "",
         "orientation": "v",
         "showlegend": true,
         "type": "scatter",
         "x": [
          "2023-04-27",
          "2023-05-02",
          null
         ],
         "xaxis": "x",
         "y": [
          2.5164835164835164,
          2.543956043956044,
          null
         ],
         "yaxis": "y"
        },
        {
         "customdata": [
          [
           1,
           "L3",
           "2023-05-13",
           "2023-05-18",
           72.54166666666667
          ],
          [
           1,
           "L3",
           "2023-05-13",
           "2023-05-18",
           73.54166666666667
          ],
          [
           1,
           null,
           null,
           null,
           null
          ]
         ],
         "hovertemplate": "Date Range: %{customdata[2]} to %{customdata[3]}<br>Progress in period: %{customdata[0]:.2f} %<br>Cumulative Progress: %{customdata[4]:.2f} %<br>Level: %{customdata[1]}",
         "legendgroup": "1.0",
         "line": {
          "color": "#ff0e00",
          "dash": "solid",
          "width": 5
         },
         "marker": {
          "symbol": "circle"
         },
         "mode": "lines",
         "name": "",
         "orientation": "v",
         "showlegend": true,
         "type": "scatter",
         "x": [
          "2023-05-13",
          "2023-05-18",
          null
         ],
         "xaxis": "x",
         "y": [
          2.6043956043956045,
          2.631868131868132,
          null
         ],
         "yaxis": "y"
        },
        {
         "customdata": [
          [
           8.708333333333329,
           "L3",
           "2023-06-05",
           "2023-06-07",
           73.54166666666667
          ],
          [
           8.708333333333329,
           "L3",
           "2023-06-05",
           "2023-06-07",
           82.25
          ],
          [
           8.708333333333329,
           null,
           null,
           null,
           null
          ]
         ],
         "hovertemplate": "Date Range: %{customdata[2]} to %{customdata[3]}<br>Progress in period: %{customdata[0]:.2f} %<br>Cumulative Progress: %{customdata[4]:.2f} %<br>Level: %{customdata[1]}",
         "legendgroup": "8.708333333333329",
         "line": {
          "color": "#ff7b00",
          "dash": "solid",
          "width": 5
         },
         "marker": {
          "symbol": "circle"
         },
         "mode": "lines",
         "name": "",
         "orientation": "v",
         "showlegend": true,
         "type": "scatter",
         "x": [
          "2023-06-05",
          "2023-06-07",
          null
         ],
         "xaxis": "x",
         "y": [
          2.730769230769231,
          2.741758241758242,
          null
         ],
         "yaxis": "y"
        },
        {
         "customdata": [
          [
           0.2916666666666714,
           "L3",
           "2023-06-09",
           "2023-06-15",
           82.25
          ],
          [
           0.2916666666666714,
           "L3",
           "2023-06-09",
           "2023-06-15",
           82.54166666666667
          ],
          [
           0.2916666666666714,
           null,
           null,
           null,
           null
          ]
         ],
         "hovertemplate": "Date Range: %{customdata[2]} to %{customdata[3]}<br>Progress in period: %{customdata[0]:.2f} %<br>Cumulative Progress: %{customdata[4]:.2f} %<br>Level: %{customdata[1]}",
         "legendgroup": "0.2916666666666714",
         "line": {
          "color": "#ff0400",
          "dash": "solid",
          "width": 5
         },
         "marker": {
          "symbol": "circle"
         },
         "mode": "lines",
         "name": "",
         "orientation": "v",
         "showlegend": true,
         "type": "scatter",
         "x": [
          "2023-06-09",
          "2023-06-15",
          null
         ],
         "xaxis": "x",
         "y": [
          2.7527472527472527,
          2.7857142857142856,
          null
         ],
         "yaxis": "y"
        },
        {
         "customdata": [
          [
           16.70833333333333,
           "L3",
           "2023-06-22",
           "2023-06-30",
           82.54166666666667
          ],
          [
           16.70833333333333,
           "L3",
           "2023-06-22",
           "2023-06-30",
           99.25
          ],
          [
           16.70833333333333,
           null,
           null,
           null,
           null
          ]
         ],
         "hovertemplate": "Date Range: %{customdata[2]} to %{customdata[3]}<br>Progress in period: %{customdata[0]:.2f} %<br>Cumulative Progress: %{customdata[4]:.2f} %<br>Level: %{customdata[1]}",
         "legendgroup": "16.70833333333333",
         "line": {
          "color": "#e8d700",
          "dash": "solid",
          "width": 5
         },
         "marker": {
          "symbol": "circle"
         },
         "mode": "lines",
         "name": "",
         "orientation": "v",
         "showlegend": true,
         "type": "scatter",
         "x": [
          "2023-06-22",
          "2023-06-30",
          null
         ],
         "xaxis": "x",
         "y": [
          2.824175824175824,
          2.868131868131868,
          null
         ],
         "yaxis": "y"
        },
        {
         "customdata": [
          [
           0.5833333333333286,
           "L3",
           "2023-07-06",
           "2023-07-13",
           99.25
          ],
          [
           0.5833333333333286,
           "L3",
           "2023-07-06",
           "2023-07-13",
           99.83333333333333
          ],
          [
           0.5833333333333286,
           null,
           null,
           null,
           null
          ]
         ],
         "hovertemplate": "Date Range: %{customdata[2]} to %{customdata[3]}<br>Progress in period: %{customdata[0]:.2f} %<br>Cumulative Progress: %{customdata[4]:.2f} %<br>Level: %{customdata[1]}",
         "legendgroup": "0.5833333333333286",
         "line": {
          "color": "#ff0800",
          "dash": "solid",
          "width": 5
         },
         "marker": {
          "symbol": "circle"
         },
         "mode": "lines",
         "name": "",
         "orientation": "v",
         "showlegend": true,
         "type": "scatter",
         "x": [
          "2023-07-06",
          "2023-07-13",
          null
         ],
         "xaxis": "x",
         "y": [
          2.901098901098901,
          2.9395604395604398,
          null
         ],
         "yaxis": "y"
        },
        {
         "customdata": [
          [
           0.1666666666666714,
           "L3",
           "2023-07-22",
           "2023-07-24",
           99.83333333333333
          ],
          [
           0.1666666666666714,
           "L3",
           "2023-07-22",
           "2023-07-24",
           100
          ],
          [
           0.1666666666666714,
           null,
           null,
           null,
           null
          ]
         ],
         "hovertemplate": "Date Range: %{customdata[2]} to %{customdata[3]}<br>Progress in period: %{customdata[0]:.2f} %<br>Cumulative Progress: %{customdata[4]:.2f} %<br>Level: %{customdata[1]}",
         "legendgroup": "0.1666666666666714",
         "line": {
          "color": "#ff0200",
          "dash": "solid",
          "width": 5
         },
         "marker": {
          "symbol": "circle"
         },
         "mode": "lines",
         "name": "",
         "orientation": "v",
         "showlegend": true,
         "type": "scatter",
         "x": [
          "2023-07-22",
          "2023-07-24",
          null
         ],
         "xaxis": "x",
         "y": [
          2.989010989010989,
          3,
          null
         ],
         "yaxis": "y"
        },
        {
         "customdata": [
          [
           3.5833333333333335,
           "L4",
           "2023-01-27",
           "2023-01-30",
           0
          ],
          [
           3.5833333333333335,
           "L4",
           "2023-01-27",
           "2023-01-30",
           3.5833333333333335
          ],
          [
           3.5833333333333335,
           null,
           null,
           null,
           null
          ]
         ],
         "hovertemplate": "Date Range: %{customdata[2]} to %{customdata[3]}<br>Progress in period: %{customdata[0]:.2f} %<br>Cumulative Progress: %{customdata[4]:.2f} %<br>Level: %{customdata[1]}",
         "legendgroup": "3.5833333333333335",
         "line": {
          "color": "#ff3300",
          "dash": "solid",
          "width": 5
         },
         "marker": {
          "symbol": "circle"
         },
         "mode": "lines",
         "name": "",
         "orientation": "v",
         "showlegend": true,
         "type": "scatter",
         "x": [
          "2023-01-27",
          "2023-01-30",
          null
         ],
         "xaxis": "x",
         "y": [
          3,
          3.0153846153846153,
          null
         ],
         "yaxis": "y"
        },
        {
         "customdata": [
          [
           8.166666666666666,
           "L4",
           "2023-01-30",
           "2023-02-02",
           3.5833333333333335
          ],
          [
           8.166666666666666,
           "L4",
           "2023-01-30",
           "2023-02-02",
           11.75
          ],
          [
           8.166666666666666,
           null,
           null,
           null,
           null
          ]
         ],
         "hovertemplate": "Date Range: %{customdata[2]} to %{customdata[3]}<br>Progress in period: %{customdata[0]:.2f} %<br>Cumulative Progress: %{customdata[4]:.2f} %<br>Level: %{customdata[1]}",
         "legendgroup": "8.166666666666666",
         "line": {
          "color": "#ff7300",
          "dash": "solid",
          "width": 5
         },
         "marker": {
          "symbol": "circle"
         },
         "mode": "lines",
         "name": "",
         "orientation": "v",
         "showlegend": true,
         "type": "scatter",
         "x": [
          "2023-01-30",
          "2023-02-02",
          null
         ],
         "xaxis": "x",
         "y": [
          3.0153846153846153,
          3.0307692307692307,
          null
         ],
         "yaxis": "y"
        },
        {
         "customdata": [
          [
           0.25,
           "L4",
           "2023-02-02",
           "2023-02-07",
           11.75
          ],
          [
           0.25,
           "L4",
           "2023-02-02",
           "2023-02-07",
           12
          ],
          [
           0.25,
           null,
           null,
           null,
           null
          ]
         ],
         "hovertemplate": "Date Range: %{customdata[2]} to %{customdata[3]}<br>Progress in period: %{customdata[0]:.2f} %<br>Cumulative Progress: %{customdata[4]:.2f} %<br>Level: %{customdata[1]}",
         "legendgroup": "0.25",
         "line": {
          "color": "#ff0400",
          "dash": "solid",
          "width": 5
         },
         "marker": {
          "symbol": "circle"
         },
         "mode": "lines",
         "name": "",
         "orientation": "v",
         "showlegend": true,
         "type": "scatter",
         "x": [
          "2023-02-02",
          "2023-02-07",
          null
         ],
         "xaxis": "x",
         "y": [
          3.0307692307692307,
          3.056410256410256,
          null
         ],
         "yaxis": "y"
        },
        {
         "customdata": [
          [
           9.916666666666668,
           "L4",
           "2023-02-07",
           "2023-02-13",
           12
          ],
          [
           9.916666666666668,
           "L4",
           "2023-02-07",
           "2023-02-13",
           21.916666666666668
          ],
          [
           9.916666666666668,
           null,
           null,
           null,
           null
          ]
         ],
         "hovertemplate": "Date Range: %{customdata[2]} to %{customdata[3]}<br>Progress in period: %{customdata[0]:.2f} %<br>Cumulative Progress: %{customdata[4]:.2f} %<br>Level: %{customdata[1]}",
         "legendgroup": "9.916666666666668",
         "line": {
          "color": "#ff8c00",
          "dash": "solid",
          "width": 5
         },
         "marker": {
          "symbol": "circle"
         },
         "mode": "lines",
         "name": "",
         "orientation": "v",
         "showlegend": true,
         "type": "scatter",
         "x": [
          "2023-02-07",
          "2023-02-13",
          null
         ],
         "xaxis": "x",
         "y": [
          3.056410256410256,
          3.0871794871794873,
          null
         ],
         "yaxis": "y"
        },
        {
         "customdata": [
          [
           2.375,
           "L4",
           "2023-03-16",
           "2023-03-20",
           21.916666666666668
          ],
          [
           2.375,
           "L4",
           "2023-03-16",
           "2023-03-20",
           24.291666666666668
          ],
          [
           2.375,
           null,
           null,
           null,
           null
          ]
         ],
         "hovertemplate": "Date Range: %{customdata[2]} to %{customdata[3]}<br>Progress in period: %{customdata[0]:.2f} %<br>Cumulative Progress: %{customdata[4]:.2f} %<br>Level: %{customdata[1]}",
         "legendgroup": "2.375",
         "line": {
          "color": "#ff2200",
          "dash": "solid",
          "width": 5
         },
         "marker": {
          "symbol": "circle"
         },
         "mode": "lines",
         "name": "",
         "orientation": "v",
         "showlegend": true,
         "type": "scatter",
         "x": [
          "2023-03-16",
          "2023-03-20",
          null
         ],
         "xaxis": "x",
         "y": [
          3.246153846153846,
          3.2666666666666666,
          null
         ],
         "yaxis": "y"
        },
        {
         "customdata": [
          [
           6.208333333333332,
           "L4",
           "2023-03-20",
           "2023-03-23",
           24.291666666666668
          ],
          [
           6.208333333333332,
           "L4",
           "2023-03-20",
           "2023-03-23",
           30.5
          ],
          [
           6.208333333333332,
           null,
           null,
           null,
           null
          ]
         ],
         "hovertemplate": "Date Range: %{customdata[2]} to %{customdata[3]}<br>Progress in period: %{customdata[0]:.2f} %<br>Cumulative Progress: %{customdata[4]:.2f} %<br>Level: %{customdata[1]}",
         "legendgroup": "6.208333333333332",
         "line": {
          "color": "#ff5800",
          "dash": "solid",
          "width": 5
         },
         "marker": {
          "symbol": "circle"
         },
         "mode": "lines",
         "name": "",
         "orientation": "v",
         "showlegend": true,
         "type": "scatter",
         "x": [
          "2023-03-20",
          "2023-03-23",
          null
         ],
         "xaxis": "x",
         "y": [
          3.2666666666666666,
          3.282051282051282,
          null
         ],
         "yaxis": "y"
        },
        {
         "customdata": [
          [
           25.708333333333336,
           "L4",
           "2023-03-30",
           "2023-03-31",
           30.5
          ],
          [
           25.708333333333336,
           "L4",
           "2023-03-30",
           "2023-03-31",
           56.208333333333336
          ],
          [
           25.708333333333336,
           null,
           null,
           null,
           null
          ]
         ],
         "hovertemplate": "Date Range: %{customdata[2]} to %{customdata[3]}<br>Progress in period: %{customdata[0]:.2f} %<br>Cumulative Progress: %{customdata[4]:.2f} %<br>Level: %{customdata[1]}",
         "legendgroup": "25.708333333333336",
         "line": {
          "color": "#6ee400",
          "dash": "solid",
          "width": 5
         },
         "marker": {
          "symbol": "circle"
         },
         "mode": "lines",
         "name": "",
         "orientation": "v",
         "showlegend": true,
         "type": "scatter",
         "x": [
          "2023-03-30",
          "2023-03-31",
          null
         ],
         "xaxis": "x",
         "y": [
          3.3179487179487177,
          3.3230769230769233,
          null
         ],
         "yaxis": "y"
        },
        {
         "customdata": [
          [
           1.625,
           "L4",
           "2023-03-31",
           "2023-04-04",
           56.208333333333336
          ],
          [
           1.625,
           "L4",
           "2023-03-31",
           "2023-04-04",
           57.833333333333336
          ],
          [
           1.625,
           null,
           null,
           null,
           null
          ]
         ],
         "hovertemplate": "Date Range: %{customdata[2]} to %{customdata[3]}<br>Progress in period: %{customdata[0]:.2f} %<br>Cumulative Progress: %{customdata[4]:.2f} %<br>Level: %{customdata[1]}",
         "legendgroup": "1.625",
         "line": {
          "color": "#ff1700",
          "dash": "solid",
          "width": 5
         },
         "marker": {
          "symbol": "circle"
         },
         "mode": "lines",
         "name": "",
         "orientation": "v",
         "showlegend": true,
         "type": "scatter",
         "x": [
          "2023-03-31",
          "2023-04-04",
          null
         ],
         "xaxis": "x",
         "y": [
          3.3230769230769233,
          3.3435897435897437,
          null
         ],
         "yaxis": "y"
        },
        {
         "customdata": [
          [
           6.291666666666664,
           "L4",
           "2023-04-04",
           "2023-04-06",
           57.833333333333336
          ],
          [
           6.291666666666664,
           "L4",
           "2023-04-04",
           "2023-04-06",
           64.125
          ],
          [
           6.291666666666664,
           null,
           null,
           null,
           null
          ]
         ],
         "hovertemplate": "Date Range: %{customdata[2]} to %{customdata[3]}<br>Progress in period: %{customdata[0]:.2f} %<br>Cumulative Progress: %{customdata[4]:.2f} %<br>Level: %{customdata[1]}",
         "legendgroup": "6.291666666666664",
         "line": {
          "color": "#ff5900",
          "dash": "solid",
          "width": 5
         },
         "marker": {
          "symbol": "circle"
         },
         "mode": "lines",
         "name": "",
         "orientation": "v",
         "showlegend": true,
         "type": "scatter",
         "x": [
          "2023-04-04",
          "2023-04-06",
          null
         ],
         "xaxis": "x",
         "y": [
          3.3435897435897437,
          3.353846153846154,
          null
         ],
         "yaxis": "y"
        },
        {
         "customdata": [
          [
           4.541666666666671,
           "L4",
           "2023-04-06",
           "2023-04-12",
           64.125
          ],
          [
           4.541666666666671,
           "L4",
           "2023-04-06",
           "2023-04-12",
           68.66666666666667
          ],
          [
           4.541666666666671,
           null,
           null,
           null,
           null
          ]
         ],
         "hovertemplate": "Date Range: %{customdata[2]} to %{customdata[3]}<br>Progress in period: %{customdata[0]:.2f} %<br>Cumulative Progress: %{customdata[4]:.2f} %<br>Level: %{customdata[1]}",
         "legendgroup": "4.541666666666671",
         "line": {
          "color": "#ff4000",
          "dash": "solid",
          "width": 5
         },
         "marker": {
          "symbol": "circle"
         },
         "mode": "lines",
         "name": "",
         "orientation": "v",
         "showlegend": true,
         "type": "scatter",
         "x": [
          "2023-04-06",
          "2023-04-12",
          null
         ],
         "xaxis": "x",
         "y": [
          3.353846153846154,
          3.3846153846153846,
          null
         ],
         "yaxis": "y"
        },
        {
         "customdata": [
          [
           2.416666666666657,
           "L4",
           "2023-04-12",
           "2023-04-15",
           68.66666666666667
          ],
          [
           2.416666666666657,
           "L4",
           "2023-04-12",
           "2023-04-15",
           71.08333333333333
          ],
          [
           2.416666666666657,
           null,
           null,
           null,
           null
          ]
         ],
         "hovertemplate": "Date Range: %{customdata[2]} to %{customdata[3]}<br>Progress in period: %{customdata[0]:.2f} %<br>Cumulative Progress: %{customdata[4]:.2f} %<br>Level: %{customdata[1]}",
         "legendgroup": "2.416666666666657",
         "line": {
          "color": "#ff2200",
          "dash": "solid",
          "width": 5
         },
         "marker": {
          "symbol": "circle"
         },
         "mode": "lines",
         "name": "",
         "orientation": "v",
         "showlegend": true,
         "type": "scatter",
         "x": [
          "2023-04-12",
          "2023-04-15",
          null
         ],
         "xaxis": "x",
         "y": [
          3.3846153846153846,
          3.4,
          null
         ],
         "yaxis": "y"
        },
        {
         "customdata": [
          [
           0.8333333333333428,
           "L4",
           "2023-04-15",
           "2023-04-18",
           71.08333333333333
          ],
          [
           0.8333333333333428,
           "L4",
           "2023-04-15",
           "2023-04-18",
           71.91666666666667
          ],
          [
           0.8333333333333428,
           null,
           null,
           null,
           null
          ]
         ],
         "hovertemplate": "Date Range: %{customdata[2]} to %{customdata[3]}<br>Progress in period: %{customdata[0]:.2f} %<br>Cumulative Progress: %{customdata[4]:.2f} %<br>Level: %{customdata[1]}",
         "legendgroup": "0.8333333333333428",
         "line": {
          "color": "#ff0c00",
          "dash": "solid",
          "width": 5
         },
         "marker": {
          "symbol": "circle"
         },
         "mode": "lines",
         "name": "",
         "orientation": "v",
         "showlegend": true,
         "type": "scatter",
         "x": [
          "2023-04-15",
          "2023-04-18",
          null
         ],
         "xaxis": "x",
         "y": [
          3.4,
          3.4153846153846152,
          null
         ],
         "yaxis": "y"
        },
        {
         "customdata": [
          [
           0.2083333333333286,
           "L4",
           "2023-04-25",
           "2023-04-27",
           71.91666666666667
          ],
          [
           0.2083333333333286,
           "L4",
           "2023-04-25",
           "2023-04-27",
           72.125
          ],
          [
           0.2083333333333286,
           null,
           null,
           null,
           null
          ]
         ],
         "hovertemplate": "Date Range: %{customdata[2]} to %{customdata[3]}<br>Progress in period: %{customdata[0]:.2f} %<br>Cumulative Progress: %{customdata[4]:.2f} %<br>Level: %{customdata[1]}",
         "legendgroup": "0.2083333333333286",
         "line": {
          "color": "#ff0300",
          "dash": "solid",
          "width": 5
         },
         "marker": {
          "symbol": "circle"
         },
         "mode": "lines",
         "name": "",
         "orientation": "v",
         "showlegend": true,
         "type": "scatter",
         "x": [
          "2023-04-25",
          "2023-04-27",
          null
         ],
         "xaxis": "x",
         "y": [
          3.4512820512820515,
          3.4615384615384617,
          null
         ],
         "yaxis": "y"
        },
        {
         "customdata": [
          [
           0.5,
           "L4",
           "2023-04-27",
           "2023-05-02",
           72.125
          ],
          [
           0.5,
           "L4",
           "2023-04-27",
           "2023-05-02",
           72.625
          ],
          [
           0.5,
           null,
           null,
           null,
           null
          ]
         ],
         "hovertemplate": "Date Range: %{customdata[2]} to %{customdata[3]}<br>Progress in period: %{customdata[0]:.2f} %<br>Cumulative Progress: %{customdata[4]:.2f} %<br>Level: %{customdata[1]}",
         "legendgroup": "0.5",
         "line": {
          "color": "#ff0700",
          "dash": "solid",
          "width": 5
         },
         "marker": {
          "symbol": "circle"
         },
         "mode": "lines",
         "name": "",
         "orientation": "v",
         "showlegend": true,
         "type": "scatter",
         "x": [
          "2023-04-27",
          "2023-05-02",
          null
         ],
         "xaxis": "x",
         "y": [
          3.4615384615384617,
          3.4871794871794872,
          null
         ],
         "yaxis": "y"
        },
        {
         "customdata": [
          [
           0.125,
           "L4",
           "2023-05-13",
           "2023-05-18",
           72.625
          ],
          [
           0.125,
           "L4",
           "2023-05-13",
           "2023-05-18",
           72.75
          ],
          [
           0.125,
           null,
           null,
           null,
           null
          ],
          [
           0.125,
           "L4",
           "2023-07-28",
           "2023-08-03",
           99.79166666666667
          ],
          [
           0.125,
           "L4",
           "2023-07-28",
           "2023-08-03",
           99.91666666666667
          ],
          [
           0.125,
           null,
           null,
           null,
           null
          ]
         ],
         "hovertemplate": "Date Range: %{customdata[2]} to %{customdata[3]}<br>Progress in period: %{customdata[0]:.2f} %<br>Cumulative Progress: %{customdata[4]:.2f} %<br>Level: %{customdata[1]}",
         "legendgroup": "0.125",
         "line": {
          "color": "#ff0200",
          "dash": "solid",
          "width": 5
         },
         "marker": {
          "symbol": "circle"
         },
         "mode": "lines",
         "name": "",
         "orientation": "v",
         "showlegend": true,
         "type": "scatter",
         "x": [
          "2023-05-13",
          "2023-05-18",
          null,
          "2023-07-28",
          "2023-08-03",
          null
         ],
         "xaxis": "x",
         "y": [
          3.5435897435897434,
          3.569230769230769,
          null,
          3.9333333333333336,
          3.9641025641025642,
          null
         ],
         "yaxis": "y"
        },
        {
         "customdata": [
          [
           9.375,
           "L4",
           "2023-06-22",
           "2023-06-30",
           72.75
          ],
          [
           9.375,
           "L4",
           "2023-06-22",
           "2023-06-30",
           82.125
          ],
          [
           9.375,
           null,
           null,
           null,
           null
          ]
         ],
         "hovertemplate": "Date Range: %{customdata[2]} to %{customdata[3]}<br>Progress in period: %{customdata[0]:.2f} %<br>Cumulative Progress: %{customdata[4]:.2f} %<br>Level: %{customdata[1]}",
         "legendgroup": "9.375",
         "line": {
          "color": "#ff8400",
          "dash": "solid",
          "width": 5
         },
         "marker": {
          "symbol": "circle"
         },
         "mode": "lines",
         "name": "",
         "orientation": "v",
         "showlegend": true,
         "type": "scatter",
         "x": [
          "2023-06-22",
          "2023-06-30",
          null
         ],
         "xaxis": "x",
         "y": [
          3.7487179487179487,
          3.7897435897435896,
          null
         ],
         "yaxis": "y"
        },
        {
         "customdata": [
          [
           1.9583333333333286,
           "L4",
           "2023-06-30",
           "2023-07-06",
           82.125
          ],
          [
           1.9583333333333286,
           "L4",
           "2023-06-30",
           "2023-07-06",
           84.08333333333333
          ],
          [
           1.9583333333333286,
           null,
           null,
           null,
           null
          ]
         ],
         "hovertemplate": "Date Range: %{customdata[2]} to %{customdata[3]}<br>Progress in period: %{customdata[0]:.2f} %<br>Cumulative Progress: %{customdata[4]:.2f} %<br>Level: %{customdata[1]}",
         "legendgroup": "1.9583333333333286",
         "line": {
          "color": "#ff1c00",
          "dash": "solid",
          "width": 5
         },
         "marker": {
          "symbol": "circle"
         },
         "mode": "lines",
         "name": "",
         "orientation": "v",
         "showlegend": true,
         "type": "scatter",
         "x": [
          "2023-06-30",
          "2023-07-06",
          null
         ],
         "xaxis": "x",
         "y": [
          3.7897435897435896,
          3.8205128205128203,
          null
         ],
         "yaxis": "y"
        },
        {
         "customdata": [
          [
           15.708333333333343,
           "L4",
           "2023-07-06",
           "2023-07-13",
           84.08333333333333
          ],
          [
           15.708333333333343,
           "L4",
           "2023-07-06",
           "2023-07-13",
           99.79166666666667
          ],
          [
           15.708333333333343,
           null,
           null,
           null,
           null
          ]
         ],
         "hovertemplate": "Date Range: %{customdata[2]} to %{customdata[3]}<br>Progress in period: %{customdata[0]:.2f} %<br>Cumulative Progress: %{customdata[4]:.2f} %<br>Level: %{customdata[1]}",
         "legendgroup": "15.708333333333343",
         "line": {
          "color": "#f5d500",
          "dash": "solid",
          "width": 5
         },
         "marker": {
          "symbol": "circle"
         },
         "mode": "lines",
         "name": "",
         "orientation": "v",
         "showlegend": true,
         "type": "scatter",
         "x": [
          "2023-07-06",
          "2023-07-13",
          null
         ],
         "xaxis": "x",
         "y": [
          3.8205128205128203,
          3.8564102564102565,
          null
         ],
         "yaxis": "y"
        },
        {
         "customdata": [
          [
           0.0833333333333286,
           "L4",
           "2023-08-03",
           "2023-08-10",
           99.91666666666667
          ],
          [
           0.0833333333333286,
           "L4",
           "2023-08-03",
           "2023-08-10",
           100
          ],
          [
           0.0833333333333286,
           null,
           null,
           null,
           null
          ]
         ],
         "hovertemplate": "Date Range: %{customdata[2]} to %{customdata[3]}<br>Progress in period: %{customdata[0]:.2f} %<br>Cumulative Progress: %{customdata[4]:.2f} %<br>Level: %{customdata[1]}",
         "legendgroup": "0.0833333333333286",
         "line": {
          "color": "#ff0100",
          "dash": "solid",
          "width": 5
         },
         "marker": {
          "symbol": "circle"
         },
         "mode": "lines",
         "name": "",
         "orientation": "v",
         "showlegend": true,
         "type": "scatter",
         "x": [
          "2023-08-03",
          "2023-08-10",
          null
         ],
         "xaxis": "x",
         "y": [
          3.9641025641025642,
          4,
          null
         ],
         "yaxis": "y"
        },
        {
         "customdata": [
          [
           3.2083333333333335,
           "L5",
           "2023-01-30",
           "2023-02-02",
           0
          ],
          [
           3.2083333333333335,
           "L5",
           "2023-01-30",
           "2023-02-02",
           3.2083333333333335
          ],
          [
           3.2083333333333335,
           null,
           null,
           null,
           null
          ]
         ],
         "hovertemplate": "Date Range: %{customdata[2]} to %{customdata[3]}<br>Progress in period: %{customdata[0]:.2f} %<br>Cumulative Progress: %{customdata[4]:.2f} %<br>Level: %{customdata[1]}",
         "legendgroup": "3.2083333333333335",
         "line": {
          "color": "#ff2d00",
          "dash": "solid",
          "width": 5
         },
         "marker": {
          "symbol": "circle"
         },
         "mode": "lines",
         "name": "",
         "orientation": "v",
         "showlegend": true,
         "type": "scatter",
         "x": [
          "2023-01-30",
          "2023-02-02",
          null
         ],
         "xaxis": "x",
         "y": [
          4,
          4.015075376884422,
          null
         ],
         "yaxis": "y"
        },
        {
         "customdata": [
          [
           1.6249999999999996,
           "L5",
           "2023-02-02",
           "2023-02-07",
           3.2083333333333335
          ],
          [
           1.6249999999999996,
           "L5",
           "2023-02-02",
           "2023-02-07",
           4.833333333333333
          ],
          [
           1.6249999999999996,
           null,
           null,
           null,
           null
          ]
         ],
         "hovertemplate": "Date Range: %{customdata[2]} to %{customdata[3]}<br>Progress in period: %{customdata[0]:.2f} %<br>Cumulative Progress: %{customdata[4]:.2f} %<br>Level: %{customdata[1]}",
         "legendgroup": "1.6249999999999996",
         "line": {
          "color": "#ff1700",
          "dash": "solid",
          "width": 5
         },
         "marker": {
          "symbol": "circle"
         },
         "mode": "lines",
         "name": "",
         "orientation": "v",
         "showlegend": true,
         "type": "scatter",
         "x": [
          "2023-02-02",
          "2023-02-07",
          null
         ],
         "xaxis": "x",
         "y": [
          4.015075376884422,
          4.040201005025126,
          null
         ],
         "yaxis": "y"
        },
        {
         "customdata": [
          [
           15.833333333333336,
           "L5",
           "2023-02-07",
           "2023-02-13",
           4.833333333333333
          ],
          [
           15.833333333333336,
           "L5",
           "2023-02-07",
           "2023-02-13",
           20.666666666666668
          ],
          [
           15.833333333333336,
           null,
           null,
           null,
           null
          ]
         ],
         "hovertemplate": "Date Range: %{customdata[2]} to %{customdata[3]}<br>Progress in period: %{customdata[0]:.2f} %<br>Cumulative Progress: %{customdata[4]:.2f} %<br>Level: %{customdata[1]}",
         "legendgroup": "15.833333333333336",
         "line": {
          "color": "#f4d500",
          "dash": "solid",
          "width": 5
         },
         "marker": {
          "symbol": "circle"
         },
         "mode": "lines",
         "name": "",
         "orientation": "v",
         "showlegend": true,
         "type": "scatter",
         "x": [
          "2023-02-07",
          "2023-02-13",
          null
         ],
         "xaxis": "x",
         "y": [
          4.040201005025126,
          4.0703517587939695,
          null
         ],
         "yaxis": "y"
        },
        {
         "customdata": [
          [
           2.0416666666666643,
           "L5",
           "2023-02-13",
           "2023-02-21",
           20.666666666666668
          ],
          [
           2.0416666666666643,
           "L5",
           "2023-02-13",
           "2023-02-21",
           22.708333333333332
          ],
          [
           2.0416666666666643,
           null,
           null,
           null,
           null
          ]
         ],
         "hovertemplate": "Date Range: %{customdata[2]} to %{customdata[3]}<br>Progress in period: %{customdata[0]:.2f} %<br>Cumulative Progress: %{customdata[4]:.2f} %<br>Level: %{customdata[1]}",
         "legendgroup": "2.0416666666666643",
         "line": {
          "color": "#ff1d00",
          "dash": "solid",
          "width": 5
         },
         "marker": {
          "symbol": "circle"
         },
         "mode": "lines",
         "name": "",
         "orientation": "v",
         "showlegend": true,
         "type": "scatter",
         "x": [
          "2023-02-13",
          "2023-02-21",
          null
         ],
         "xaxis": "x",
         "y": [
          4.0703517587939695,
          4.110552763819095,
          null
         ],
         "yaxis": "y"
        },
        {
         "customdata": [
          [
           0.3333333333333357,
           "L5",
           "2023-02-24",
           "2023-02-27",
           22.708333333333332
          ],
          [
           0.3333333333333357,
           "L5",
           "2023-02-24",
           "2023-02-27",
           23.041666666666668
          ],
          [
           0.3333333333333357,
           null,
           null,
           null,
           null
          ]
         ],
         "hovertemplate": "Date Range: %{customdata[2]} to %{customdata[3]}<br>Progress in period: %{customdata[0]:.2f} %<br>Cumulative Progress: %{customdata[4]:.2f} %<br>Level: %{customdata[1]}",
         "legendgroup": "0.3333333333333357",
         "line": {
          "color": "#ff0500",
          "dash": "solid",
          "width": 5
         },
         "marker": {
          "symbol": "circle"
         },
         "mode": "lines",
         "name": "",
         "orientation": "v",
         "showlegend": true,
         "type": "scatter",
         "x": [
          "2023-02-24",
          "2023-02-27",
          null
         ],
         "xaxis": "x",
         "y": [
          4.125628140703517,
          4.14070351758794,
          null
         ],
         "yaxis": "y"
        },
        {
         "customdata": [
          [
           0.45833333333333215,
           "L5",
           "2023-03-07",
           "2023-03-09",
           23.041666666666668
          ],
          [
           0.45833333333333215,
           "L5",
           "2023-03-07",
           "2023-03-09",
           23.5
          ],
          [
           0.45833333333333215,
           null,
           null,
           null,
           null
          ]
         ],
         "hovertemplate": "Date Range: %{customdata[2]} to %{customdata[3]}<br>Progress in period: %{customdata[0]:.2f} %<br>Cumulative Progress: %{customdata[4]:.2f} %<br>Level: %{customdata[1]}",
         "legendgroup": "0.45833333333333215",
         "line": {
          "color": "#ff0600",
          "dash": "solid",
          "width": 5
         },
         "marker": {
          "symbol": "circle"
         },
         "mode": "lines",
         "name": "",
         "orientation": "v",
         "showlegend": true,
         "type": "scatter",
         "x": [
          "2023-03-07",
          "2023-03-09",
          null
         ],
         "xaxis": "x",
         "y": [
          4.180904522613066,
          4.190954773869347,
          null
         ],
         "yaxis": "y"
        },
        {
         "customdata": [
          [
           0.04166666666666785,
           "L5",
           "2023-03-09",
           "2023-03-14",
           23.5
          ],
          [
           0.04166666666666785,
           "L5",
           "2023-03-09",
           "2023-03-14",
           23.541666666666668
          ],
          [
           0.04166666666666785,
           null,
           null,
           null,
           null
          ]
         ],
         "hovertemplate": "Date Range: %{customdata[2]} to %{customdata[3]}<br>Progress in period: %{customdata[0]:.2f} %<br>Cumulative Progress: %{customdata[4]:.2f} %<br>Level: %{customdata[1]}",
         "legendgroup": "0.04166666666666785",
         "line": {
          "color": "#ff0100",
          "dash": "solid",
          "width": 5
         },
         "marker": {
          "symbol": "circle"
         },
         "mode": "lines",
         "name": "",
         "orientation": "v",
         "showlegend": true,
         "type": "scatter",
         "x": [
          "2023-03-09",
          "2023-03-14",
          null
         ],
         "xaxis": "x",
         "y": [
          4.190954773869347,
          4.21608040201005,
          null
         ],
         "yaxis": "y"
        },
        {
         "customdata": [
          [
           5.5,
           "L5",
           "2023-03-30",
           "2023-03-31",
           23.541666666666668
          ],
          [
           5.5,
           "L5",
           "2023-03-30",
           "2023-03-31",
           29.041666666666668
          ],
          [
           5.5,
           null,
           null,
           null,
           null
          ]
         ],
         "hovertemplate": "Date Range: %{customdata[2]} to %{customdata[3]}<br>Progress in period: %{customdata[0]:.2f} %<br>Cumulative Progress: %{customdata[4]:.2f} %<br>Level: %{customdata[1]}",
         "legendgroup": "5.5",
         "line": {
          "color": "#ff4e00",
          "dash": "solid",
          "width": 5
         },
         "marker": {
          "symbol": "circle"
         },
         "mode": "lines",
         "name": "",
         "orientation": "v",
         "showlegend": true,
         "type": "scatter",
         "x": [
          "2023-03-30",
          "2023-03-31",
          null
         ],
         "xaxis": "x",
         "y": [
          4.296482412060302,
          4.301507537688442,
          null
         ],
         "yaxis": "y"
        },
        {
         "customdata": [
          [
           19.499999999999996,
           "L5",
           "2023-03-31",
           "2023-04-04",
           29.041666666666668
          ],
          [
           19.499999999999996,
           "L5",
           "2023-03-31",
           "2023-04-04",
           48.541666666666664
          ],
          [
           19.499999999999996,
           null,
           null,
           null,
           null
          ]
         ],
         "hovertemplate": "Date Range: %{customdata[2]} to %{customdata[3]}<br>Progress in period: %{customdata[0]:.2f} %<br>Cumulative Progress: %{customdata[4]:.2f} %<br>Level: %{customdata[1]}",
         "legendgroup": "19.499999999999996",
         "line": {
          "color": "#c2db00",
          "dash": "solid",
          "width": 5
         },
         "marker": {
          "symbol": "circle"
         },
         "mode": "lines",
         "name": "",
         "orientation": "v",
         "showlegend": true,
         "type": "scatter",
         "x": [
          "2023-03-31",
          "2023-04-04",
          null
         ],
         "xaxis": "x",
         "y": [
          4.301507537688442,
          4.321608040201005,
          null
         ],
         "yaxis": "y"
        },
        {
         "customdata": [
          [
           7.625,
           "L5",
           "2023-04-04",
           "2023-04-06",
           48.541666666666664
          ],
          [
           7.625,
           "L5",
           "2023-04-04",
           "2023-04-06",
           56.166666666666664
          ],
          [
           7.625,
           null,
           null,
           null,
           null
          ]
         ],
         "hovertemplate": "Date Range: %{customdata[2]} to %{customdata[3]}<br>Progress in period: %{customdata[0]:.2f} %<br>Cumulative Progress: %{customdata[4]:.2f} %<br>Level: %{customdata[1]}",
         "legendgroup": "7.625",
         "line": {
          "color": "#ff6c00",
          "dash": "solid",
          "width": 5
         },
         "marker": {
          "symbol": "circle"
         },
         "mode": "lines",
         "name": "",
         "orientation": "v",
         "showlegend": true,
         "type": "scatter",
         "x": [
          "2023-04-04",
          "2023-04-06",
          null
         ],
         "xaxis": "x",
         "y": [
          4.321608040201005,
          4.331658291457287,
          null
         ],
         "yaxis": "y"
        },
        {
         "customdata": [
          [
           6.375,
           "L5",
           "2023-04-06",
           "2023-04-12",
           56.166666666666664
          ],
          [
           6.375,
           "L5",
           "2023-04-06",
           "2023-04-12",
           62.541666666666664
          ],
          [
           6.375,
           null,
           null,
           null,
           null
          ]
         ],
         "hovertemplate": "Date Range: %{customdata[2]} to %{customdata[3]}<br>Progress in period: %{customdata[0]:.2f} %<br>Cumulative Progress: %{customdata[4]:.2f} %<br>Level: %{customdata[1]}",
         "legendgroup": "6.375",
         "line": {
          "color": "#ff5a00",
          "dash": "solid",
          "width": 5
         },
         "marker": {
          "symbol": "circle"
         },
         "mode": "lines",
         "name": "",
         "orientation": "v",
         "showlegend": true,
         "type": "scatter",
         "x": [
          "2023-04-06",
          "2023-04-12",
          null
         ],
         "xaxis": "x",
         "y": [
          4.331658291457287,
          4.36180904522613,
          null
         ],
         "yaxis": "y"
        },
        {
         "customdata": [
          [
           0.5833333333333357,
           "L5",
           "2023-04-12",
           "2023-04-15",
           62.541666666666664
          ],
          [
           0.5833333333333357,
           "L5",
           "2023-04-12",
           "2023-04-15",
           63.125
          ],
          [
           0.5833333333333357,
           null,
           null,
           null,
           null
          ]
         ],
         "hovertemplate": "Date Range: %{customdata[2]} to %{customdata[3]}<br>Progress in period: %{customdata[0]:.2f} %<br>Cumulative Progress: %{customdata[4]:.2f} %<br>Level: %{customdata[1]}",
         "legendgroup": "0.5833333333333357",
         "line": {
          "color": "#ff0800",
          "dash": "solid",
          "width": 5
         },
         "marker": {
          "symbol": "circle"
         },
         "mode": "lines",
         "name": "",
         "orientation": "v",
         "showlegend": true,
         "type": "scatter",
         "x": [
          "2023-04-12",
          "2023-04-15",
          null
         ],
         "xaxis": "x",
         "y": [
          4.36180904522613,
          4.376884422110553,
          null
         ],
         "yaxis": "y"
        },
        {
         "customdata": [
          [
           3.0833333333333286,
           "L5",
           "2023-04-15",
           "2023-04-18",
           63.125
          ],
          [
           3.0833333333333286,
           "L5",
           "2023-04-15",
           "2023-04-18",
           66.20833333333333
          ],
          [
           3.0833333333333286,
           null,
           null,
           null,
           null
          ]
         ],
         "hovertemplate": "Date Range: %{customdata[2]} to %{customdata[3]}<br>Progress in period: %{customdata[0]:.2f} %<br>Cumulative Progress: %{customdata[4]:.2f} %<br>Level: %{customdata[1]}",
         "legendgroup": "3.0833333333333286",
         "line": {
          "color": "#ff2c00",
          "dash": "solid",
          "width": 5
         },
         "marker": {
          "symbol": "circle"
         },
         "mode": "lines",
         "name": "",
         "orientation": "v",
         "showlegend": true,
         "type": "scatter",
         "x": [
          "2023-04-15",
          "2023-04-18",
          null
         ],
         "xaxis": "x",
         "y": [
          4.376884422110553,
          4.391959798994975,
          null
         ],
         "yaxis": "y"
        },
        {
         "customdata": [
          [
           5.375,
           "L5",
           "2023-04-18",
           "2023-04-21",
           66.20833333333333
          ],
          [
           5.375,
           "L5",
           "2023-04-18",
           "2023-04-21",
           71.58333333333333
          ],
          [
           5.375,
           null,
           null,
           null,
           null
          ]
         ],
         "hovertemplate": "Date Range: %{customdata[2]} to %{customdata[3]}<br>Progress in period: %{customdata[0]:.2f} %<br>Cumulative Progress: %{customdata[4]:.2f} %<br>Level: %{customdata[1]}",
         "legendgroup": "5.375",
         "line": {
          "color": "#ff4c00",
          "dash": "solid",
          "width": 5
         },
         "marker": {
          "symbol": "circle"
         },
         "mode": "lines",
         "name": "",
         "orientation": "v",
         "showlegend": true,
         "type": "scatter",
         "x": [
          "2023-04-18",
          "2023-04-21",
          null
         ],
         "xaxis": "x",
         "y": [
          4.391959798994975,
          4.407035175879397,
          null
         ],
         "yaxis": "y"
        },
        {
         "customdata": [
          [
           0.6666666666666714,
           "L5",
           "2023-04-21",
           "2023-04-25",
           71.58333333333333
          ],
          [
           0.6666666666666714,
           "L5",
           "2023-04-21",
           "2023-04-25",
           72.25
          ],
          [
           0.6666666666666714,
           null,
           null,
           null,
           null
          ]
         ],
         "hovertemplate": "Date Range: %{customdata[2]} to %{customdata[3]}<br>Progress in period: %{customdata[0]:.2f} %<br>Cumulative Progress: %{customdata[4]:.2f} %<br>Level: %{customdata[1]}",
         "legendgroup": "0.6666666666666714",
         "line": {
          "color": "#ff0900",
          "dash": "solid",
          "width": 5
         },
         "marker": {
          "symbol": "circle"
         },
         "mode": "lines",
         "name": "",
         "orientation": "v",
         "showlegend": true,
         "type": "scatter",
         "x": [
          "2023-04-21",
          "2023-04-25",
          null
         ],
         "xaxis": "x",
         "y": [
          4.407035175879397,
          4.42713567839196,
          null
         ],
         "yaxis": "y"
        },
        {
         "customdata": [
          [
           0.0833333333333286,
           "L5",
           "2023-04-25",
           "2023-04-27",
           72.25
          ],
          [
           0.0833333333333286,
           "L5",
           "2023-04-25",
           "2023-04-27",
           72.33333333333333
          ],
          [
           0.0833333333333286,
           null,
           null,
           null,
           null
          ]
         ],
         "hovertemplate": "Date Range: %{customdata[2]} to %{customdata[3]}<br>Progress in period: %{customdata[0]:.2f} %<br>Cumulative Progress: %{customdata[4]:.2f} %<br>Level: %{customdata[1]}",
         "legendgroup": "0.0833333333333286",
         "line": {
          "color": "#ff0100",
          "dash": "solid",
          "width": 5
         },
         "marker": {
          "symbol": "circle"
         },
         "mode": "lines",
         "name": "",
         "orientation": "v",
         "showlegend": true,
         "type": "scatter",
         "x": [
          "2023-04-25",
          "2023-04-27",
          null
         ],
         "xaxis": "x",
         "y": [
          4.42713567839196,
          4.437185929648241,
          null
         ],
         "yaxis": "y"
        },
        {
         "customdata": [
          [
           0.2916666666666714,
           "L5",
           "2023-06-05",
           "2023-06-07",
           72.33333333333333
          ],
          [
           0.2916666666666714,
           "L5",
           "2023-06-05",
           "2023-06-07",
           72.625
          ],
          [
           0.2916666666666714,
           null,
           null,
           null,
           null
          ]
         ],
         "hovertemplate": "Date Range: %{customdata[2]} to %{customdata[3]}<br>Progress in period: %{customdata[0]:.2f} %<br>Cumulative Progress: %{customdata[4]:.2f} %<br>Level: %{customdata[1]}",
         "legendgroup": "0.2916666666666714",
         "line": {
          "color": "#ff0400",
          "dash": "solid",
          "width": 5
         },
         "marker": {
          "symbol": "circle"
         },
         "mode": "lines",
         "name": "",
         "orientation": "v",
         "showlegend": true,
         "type": "scatter",
         "x": [
          "2023-06-05",
          "2023-06-07",
          null
         ],
         "xaxis": "x",
         "y": [
          4.633165829145729,
          4.64321608040201,
          null
         ],
         "yaxis": "y"
        },
        {
         "customdata": [
          [
           1.125,
           "L5",
           "2023-06-22",
           "2023-06-30",
           72.625
          ],
          [
           1.125,
           "L5",
           "2023-06-22",
           "2023-06-30",
           73.75
          ],
          [
           1.125,
           null,
           null,
           null,
           null
          ]
         ],
         "hovertemplate": "Date Range: %{customdata[2]} to %{customdata[3]}<br>Progress in period: %{customdata[0]:.2f} %<br>Cumulative Progress: %{customdata[4]:.2f} %<br>Level: %{customdata[1]}",
         "legendgroup": "1.125",
         "line": {
          "color": "#ff1000",
          "dash": "solid",
          "width": 5
         },
         "marker": {
          "symbol": "circle"
         },
         "mode": "lines",
         "name": "",
         "orientation": "v",
         "showlegend": true,
         "type": "scatter",
         "x": [
          "2023-06-22",
          "2023-06-30",
          null
         ],
         "xaxis": "x",
         "y": [
          4.71859296482412,
          4.758793969849246,
          null
         ],
         "yaxis": "y"
        },
        {
         "customdata": [
          [
           0.2083333333333286,
           "L5",
           "2023-06-30",
           "2023-07-06",
           73.75
          ],
          [
           0.2083333333333286,
           "L5",
           "2023-06-30",
           "2023-07-06",
           73.95833333333333
          ],
          [
           0.2083333333333286,
           null,
           null,
           null,
           null
          ]
         ],
         "hovertemplate": "Date Range: %{customdata[2]} to %{customdata[3]}<br>Progress in period: %{customdata[0]:.2f} %<br>Cumulative Progress: %{customdata[4]:.2f} %<br>Level: %{customdata[1]}",
         "legendgroup": "0.2083333333333286",
         "line": {
          "color": "#ff0300",
          "dash": "solid",
          "width": 5
         },
         "marker": {
          "symbol": "circle"
         },
         "mode": "lines",
         "name": "",
         "orientation": "v",
         "showlegend": true,
         "type": "scatter",
         "x": [
          "2023-06-30",
          "2023-07-06",
          null
         ],
         "xaxis": "x",
         "y": [
          4.758793969849246,
          4.788944723618091,
          null
         ],
         "yaxis": "y"
        },
        {
         "customdata": [
          [
           0.5833333333333428,
           "L5",
           "2023-07-06",
           "2023-07-13",
           73.95833333333333
          ],
          [
           0.5833333333333428,
           "L5",
           "2023-07-06",
           "2023-07-13",
           74.54166666666667
          ],
          [
           0.5833333333333428,
           null,
           null,
           null,
           null
          ]
         ],
         "hovertemplate": "Date Range: %{customdata[2]} to %{customdata[3]}<br>Progress in period: %{customdata[0]:.2f} %<br>Cumulative Progress: %{customdata[4]:.2f} %<br>Level: %{customdata[1]}",
         "legendgroup": "0.5833333333333428",
         "line": {
          "color": "#ff0800",
          "dash": "solid",
          "width": 5
         },
         "marker": {
          "symbol": "circle"
         },
         "mode": "lines",
         "name": "",
         "orientation": "v",
         "showlegend": true,
         "type": "scatter",
         "x": [
          "2023-07-06",
          "2023-07-13",
          null
         ],
         "xaxis": "x",
         "y": [
          4.788944723618091,
          4.824120603015075,
          null
         ],
         "yaxis": "y"
        },
        {
         "customdata": [
          [
           25.25,
           "L5",
           "2023-07-22",
           "2023-07-24",
           74.54166666666667
          ],
          [
           25.25,
           "L5",
           "2023-07-22",
           "2023-07-24",
           99.79166666666667
          ],
          [
           25.25,
           null,
           null,
           null,
           null
          ]
         ],
         "hovertemplate": "Date Range: %{customdata[2]} to %{customdata[3]}<br>Progress in period: %{customdata[0]:.2f} %<br>Cumulative Progress: %{customdata[4]:.2f} %<br>Level: %{customdata[1]}",
         "legendgroup": "25.25",
         "line": {
          "color": "#74e400",
          "dash": "solid",
          "width": 5
         },
         "marker": {
          "symbol": "circle"
         },
         "mode": "lines",
         "name": "",
         "orientation": "v",
         "showlegend": true,
         "type": "scatter",
         "x": [
          "2023-07-22",
          "2023-07-24",
          null
         ],
         "xaxis": "x",
         "y": [
          4.869346733668341,
          4.8793969849246235,
          null
         ],
         "yaxis": "y"
        },
        {
         "customdata": [
          [
           0.1666666666666572,
           "L5",
           "2023-07-28",
           "2023-08-03",
           99.79166666666667
          ],
          [
           0.1666666666666572,
           "L5",
           "2023-07-28",
           "2023-08-03",
           99.95833333333333
          ],
          [
           0.1666666666666572,
           null,
           null,
           null,
           null
          ]
         ],
         "hovertemplate": "Date Range: %{customdata[2]} to %{customdata[3]}<br>Progress in period: %{customdata[0]:.2f} %<br>Cumulative Progress: %{customdata[4]:.2f} %<br>Level: %{customdata[1]}",
         "legendgroup": "0.1666666666666572",
         "line": {
          "color": "#ff0200",
          "dash": "solid",
          "width": 5
         },
         "marker": {
          "symbol": "circle"
         },
         "mode": "lines",
         "name": "",
         "orientation": "v",
         "showlegend": true,
         "type": "scatter",
         "x": [
          "2023-07-28",
          "2023-08-03",
          null
         ],
         "xaxis": "x",
         "y": [
          4.899497487437186,
          4.9296482412060305,
          null
         ],
         "yaxis": "y"
        },
        {
         "customdata": [
          [
           0.041666666666671404,
           "L5",
           "2023-08-10",
           "2023-08-17",
           99.95833333333333
          ],
          [
           0.041666666666671404,
           "L5",
           "2023-08-10",
           "2023-08-17",
           100
          ],
          [
           0.041666666666671404,
           null,
           null,
           null,
           null
          ]
         ],
         "hovertemplate": "Date Range: %{customdata[2]} to %{customdata[3]}<br>Progress in period: %{customdata[0]:.2f} %<br>Cumulative Progress: %{customdata[4]:.2f} %<br>Level: %{customdata[1]}",
         "legendgroup": "0.041666666666671404",
         "line": {
          "color": "#ff0100",
          "dash": "solid",
          "width": 5
         },
         "marker": {
          "symbol": "circle"
         },
         "mode": "lines",
         "name": "",
         "orientation": "v",
         "showlegend": true,
         "type": "scatter",
         "x": [
          "2023-08-10",
          "2023-08-17",
          null
         ],
         "xaxis": "x",
         "y": [
          4.964824120603015,
          5,
          null
         ],
         "yaxis": "y"
        },
        {
         "customdata": [
          [
           8,
           "L6",
           "2023-02-13",
           "2023-02-21",
           0
          ],
          [
           8,
           "L6",
           "2023-02-13",
           "2023-02-21",
           8
          ],
          [
           8,
           null,
           null,
           null,
           null
          ]
         ],
         "hovertemplate": "Date Range: %{customdata[2]} to %{customdata[3]}<br>Progress in period: %{customdata[0]:.2f} %<br>Cumulative Progress: %{customdata[4]:.2f} %<br>Level: %{customdata[1]}",
         "legendgroup": "8.0",
         "line": {
          "color": "#ff7100",
          "dash": "solid",
          "width": 5
         },
         "marker": {
          "symbol": "circle"
         },
         "mode": "lines",
         "name": "",
         "orientation": "v",
         "showlegend": true,
         "type": "scatter",
         "x": [
          "2023-02-13",
          "2023-02-21",
          null
         ],
         "xaxis": "x",
         "y": [
          5,
          5.049689440993789,
          null
         ],
         "yaxis": "y"
        },
        {
         "customdata": [
          [
           14,
           "L6",
           "2023-02-21",
           "2023-02-24",
           8
          ],
          [
           14,
           "L6",
           "2023-02-21",
           "2023-02-24",
           22
          ],
          [
           14,
           null,
           null,
           null,
           null
          ]
         ],
         "hovertemplate": "Date Range: %{customdata[2]} to %{customdata[3]}<br>Progress in period: %{customdata[0]:.2f} %<br>Cumulative Progress: %{customdata[4]:.2f} %<br>Level: %{customdata[1]}",
         "legendgroup": "14.0",
         "line": {
          "color": "#ffc600",
          "dash": "solid",
          "width": 5
         },
         "marker": {
          "symbol": "circle"
         },
         "mode": "lines",
         "name": "",
         "orientation": "v",
         "showlegend": true,
         "type": "scatter",
         "x": [
          "2023-02-21",
          "2023-02-24",
          null
         ],
         "xaxis": "x",
         "y": [
          5.049689440993789,
          5.068322981366459,
          null
         ],
         "yaxis": "y"
        },
        {
         "customdata": [
          [
           0.7916666666666679,
           "L6",
           "2023-02-24",
           "2023-02-27",
           22
          ],
          [
           0.7916666666666679,
           "L6",
           "2023-02-24",
           "2023-02-27",
           22.791666666666668
          ],
          [
           0.7916666666666679,
           null,
           null,
           null,
           null
          ]
         ],
         "hovertemplate": "Date Range: %{customdata[2]} to %{customdata[3]}<br>Progress in period: %{customdata[0]:.2f} %<br>Cumulative Progress: %{customdata[4]:.2f} %<br>Level: %{customdata[1]}",
         "legendgroup": "0.7916666666666679",
         "line": {
          "color": "#ff0b00",
          "dash": "solid",
          "width": 5
         },
         "marker": {
          "symbol": "circle"
         },
         "mode": "lines",
         "name": "",
         "orientation": "v",
         "showlegend": true,
         "type": "scatter",
         "x": [
          "2023-02-24",
          "2023-02-27",
          null
         ],
         "xaxis": "x",
         "y": [
          5.068322981366459,
          5.086956521739131,
          null
         ],
         "yaxis": "y"
        },
        {
         "customdata": [
          [
           0.4166666666666643,
           "L6",
           "2023-02-27",
           "2023-03-03",
           22.791666666666668
          ],
          [
           0.4166666666666643,
           "L6",
           "2023-02-27",
           "2023-03-03",
           23.208333333333332
          ],
          [
           0.4166666666666643,
           null,
           null,
           null,
           null
          ]
         ],
         "hovertemplate": "Date Range: %{customdata[2]} to %{customdata[3]}<br>Progress in period: %{customdata[0]:.2f} %<br>Cumulative Progress: %{customdata[4]:.2f} %<br>Level: %{customdata[1]}",
         "legendgroup": "0.4166666666666643",
         "line": {
          "color": "#ff0600",
          "dash": "solid",
          "width": 5
         },
         "marker": {
          "symbol": "circle"
         },
         "mode": "lines",
         "name": "",
         "orientation": "v",
         "showlegend": true,
         "type": "scatter",
         "x": [
          "2023-02-27",
          "2023-03-03",
          null
         ],
         "xaxis": "x",
         "y": [
          5.086956521739131,
          5.111801242236025,
          null
         ],
         "yaxis": "y"
        },
        {
         "customdata": [
          [
           0.0833333333333357,
           "L6",
           "2023-03-07",
           "2023-03-09",
           23.208333333333332
          ],
          [
           0.0833333333333357,
           "L6",
           "2023-03-07",
           "2023-03-09",
           23.291666666666668
          ],
          [
           0.0833333333333357,
           null,
           null,
           null,
           null
          ]
         ],
         "hovertemplate": "Date Range: %{customdata[2]} to %{customdata[3]}<br>Progress in period: %{customdata[0]:.2f} %<br>Cumulative Progress: %{customdata[4]:.2f} %<br>Level: %{customdata[1]}",
         "legendgroup": "0.0833333333333357",
         "line": {
          "color": "#ff0100",
          "dash": "solid",
          "width": 5
         },
         "marker": {
          "symbol": "circle"
         },
         "mode": "lines",
         "name": "",
         "orientation": "v",
         "showlegend": true,
         "type": "scatter",
         "x": [
          "2023-03-07",
          "2023-03-09",
          null
         ],
         "xaxis": "x",
         "y": [
          5.136645962732919,
          5.149068322981367,
          null
         ],
         "yaxis": "y"
        },
        {
         "customdata": [
          [
           1,
           "L6",
           "2023-03-31",
           "2023-04-04",
           23.291666666666668
          ],
          [
           1,
           "L6",
           "2023-03-31",
           "2023-04-04",
           24.291666666666668
          ],
          [
           1,
           null,
           null,
           null,
           null
          ]
         ],
         "hovertemplate": "Date Range: %{customdata[2]} to %{customdata[3]}<br>Progress in period: %{customdata[0]:.2f} %<br>Cumulative Progress: %{customdata[4]:.2f} %<br>Level: %{customdata[1]}",
         "legendgroup": "1.0",
         "line": {
          "color": "#ff0e00",
          "dash": "solid",
          "width": 5
         },
         "marker": {
          "symbol": "circle"
         },
         "mode": "lines",
         "name": "",
         "orientation": "v",
         "showlegend": true,
         "type": "scatter",
         "x": [
          "2023-03-31",
          "2023-04-04",
          null
         ],
         "xaxis": "x",
         "y": [
          5.285714285714286,
          5.3105590062111805,
          null
         ],
         "yaxis": "y"
        },
        {
         "customdata": [
          [
           2.6666666666666643,
           "L6",
           "2023-04-04",
           "2023-04-06",
           24.291666666666668
          ],
          [
           2.6666666666666643,
           "L6",
           "2023-04-04",
           "2023-04-06",
           26.958333333333332
          ],
          [
           2.6666666666666643,
           null,
           null,
           null,
           null
          ]
         ],
         "hovertemplate": "Date Range: %{customdata[2]} to %{customdata[3]}<br>Progress in period: %{customdata[0]:.2f} %<br>Cumulative Progress: %{customdata[4]:.2f} %<br>Level: %{customdata[1]}",
         "legendgroup": "2.6666666666666643",
         "line": {
          "color": "#ff2600",
          "dash": "solid",
          "width": 5
         },
         "marker": {
          "symbol": "circle"
         },
         "mode": "lines",
         "name": "",
         "orientation": "v",
         "showlegend": true,
         "type": "scatter",
         "x": [
          "2023-04-04",
          "2023-04-06",
          null
         ],
         "xaxis": "x",
         "y": [
          5.3105590062111805,
          5.3229813664596275,
          null
         ],
         "yaxis": "y"
        },
        {
         "customdata": [
          [
           12.250000000000004,
           "L6",
           "2023-04-06",
           "2023-04-12",
           26.958333333333332
          ],
          [
           12.250000000000004,
           "L6",
           "2023-04-06",
           "2023-04-12",
           39.208333333333336
          ],
          [
           12.250000000000004,
           null,
           null,
           null,
           null
          ]
         ],
         "hovertemplate": "Date Range: %{customdata[2]} to %{customdata[3]}<br>Progress in period: %{customdata[0]:.2f} %<br>Cumulative Progress: %{customdata[4]:.2f} %<br>Level: %{customdata[1]}",
         "legendgroup": "12.250000000000004",
         "line": {
          "color": "#ffad00",
          "dash": "solid",
          "width": 5
         },
         "marker": {
          "symbol": "circle"
         },
         "mode": "lines",
         "name": "",
         "orientation": "v",
         "showlegend": true,
         "type": "scatter",
         "x": [
          "2023-04-06",
          "2023-04-12",
          null
         ],
         "xaxis": "x",
         "y": [
          5.3229813664596275,
          5.3602484472049685,
          null
         ],
         "yaxis": "y"
        },
        {
         "customdata": [
          [
           18.416666666666664,
           "L6",
           "2023-04-12",
           "2023-04-15",
           39.208333333333336
          ],
          [
           18.416666666666664,
           "L6",
           "2023-04-12",
           "2023-04-15",
           57.625
          ],
          [
           18.416666666666664,
           null,
           null,
           null,
           null
          ]
         ],
         "hovertemplate": "Date Range: %{customdata[2]} to %{customdata[3]}<br>Progress in period: %{customdata[0]:.2f} %<br>Cumulative Progress: %{customdata[4]:.2f} %<br>Level: %{customdata[1]}",
         "legendgroup": "18.416666666666664",
         "line": {
          "color": "#d1d900",
          "dash": "solid",
          "width": 5
         },
         "marker": {
          "symbol": "circle"
         },
         "mode": "lines",
         "name": "",
         "orientation": "v",
         "showlegend": true,
         "type": "scatter",
         "x": [
          "2023-04-12",
          "2023-04-15",
          null
         ],
         "xaxis": "x",
         "y": [
          5.3602484472049685,
          5.37888198757764,
          null
         ],
         "yaxis": "y"
        },
        {
         "customdata": [
          [
           7.25,
           "L6",
           "2023-04-15",
           "2023-04-18",
           57.625
          ],
          [
           7.25,
           "L6",
           "2023-04-15",
           "2023-04-18",
           64.875
          ],
          [
           7.25,
           null,
           null,
           null,
           null
          ]
         ],
         "hovertemplate": "Date Range: %{customdata[2]} to %{customdata[3]}<br>Progress in period: %{customdata[0]:.2f} %<br>Cumulative Progress: %{customdata[4]:.2f} %<br>Level: %{customdata[1]}",
         "legendgroup": "7.25",
         "line": {
          "color": "#ff6600",
          "dash": "solid",
          "width": 5
         },
         "marker": {
          "symbol": "circle"
         },
         "mode": "lines",
         "name": "",
         "orientation": "v",
         "showlegend": true,
         "type": "scatter",
         "x": [
          "2023-04-15",
          "2023-04-18",
          null
         ],
         "xaxis": "x",
         "y": [
          5.37888198757764,
          5.39751552795031,
          null
         ],
         "yaxis": "y"
        },
        {
         "customdata": [
          [
           7.083333333333329,
           "L6",
           "2023-04-18",
           "2023-04-21",
           64.875
          ],
          [
           7.083333333333329,
           "L6",
           "2023-04-18",
           "2023-04-21",
           71.95833333333333
          ],
          [
           7.083333333333329,
           null,
           null,
           null,
           null
          ]
         ],
         "hovertemplate": "Date Range: %{customdata[2]} to %{customdata[3]}<br>Progress in period: %{customdata[0]:.2f} %<br>Cumulative Progress: %{customdata[4]:.2f} %<br>Level: %{customdata[1]}",
         "legendgroup": "7.083333333333329",
         "line": {
          "color": "#ff6400",
          "dash": "solid",
          "width": 5
         },
         "marker": {
          "symbol": "circle"
         },
         "mode": "lines",
         "name": "",
         "orientation": "v",
         "showlegend": true,
         "type": "scatter",
         "x": [
          "2023-04-18",
          "2023-04-21",
          null
         ],
         "xaxis": "x",
         "y": [
          5.39751552795031,
          5.416149068322982,
          null
         ],
         "yaxis": "y"
        },
        {
         "customdata": [
          [
           0.4583333333333428,
           "L6",
           "2023-04-21",
           "2023-04-25",
           71.95833333333333
          ],
          [
           0.4583333333333428,
           "L6",
           "2023-04-21",
           "2023-04-25",
           72.41666666666667
          ],
          [
           0.4583333333333428,
           null,
           null,
           null,
           null
          ]
         ],
         "hovertemplate": "Date Range: %{customdata[2]} to %{customdata[3]}<br>Progress in period: %{customdata[0]:.2f} %<br>Cumulative Progress: %{customdata[4]:.2f} %<br>Level: %{customdata[1]}",
         "legendgroup": "0.4583333333333428",
         "line": {
          "color": "#ff0600",
          "dash": "solid",
          "width": 5
         },
         "marker": {
          "symbol": "circle"
         },
         "mode": "lines",
         "name": "",
         "orientation": "v",
         "showlegend": true,
         "type": "scatter",
         "x": [
          "2023-04-21",
          "2023-04-25",
          null
         ],
         "xaxis": "x",
         "y": [
          5.416149068322982,
          5.440993788819876,
          null
         ],
         "yaxis": "y"
        },
        {
         "customdata": [
          [
           0.2083333333333286,
           "L6",
           "2023-04-25",
           "2023-04-27",
           72.41666666666667
          ],
          [
           0.2083333333333286,
           "L6",
           "2023-04-25",
           "2023-04-27",
           72.625
          ],
          [
           0.2083333333333286,
           null,
           null,
           null,
           null
          ]
         ],
         "hovertemplate": "Date Range: %{customdata[2]} to %{customdata[3]}<br>Progress in period: %{customdata[0]:.2f} %<br>Cumulative Progress: %{customdata[4]:.2f} %<br>Level: %{customdata[1]}",
         "legendgroup": "0.2083333333333286",
         "line": {
          "color": "#ff0300",
          "dash": "solid",
          "width": 5
         },
         "marker": {
          "symbol": "circle"
         },
         "mode": "lines",
         "name": "",
         "orientation": "v",
         "showlegend": true,
         "type": "scatter",
         "x": [
          "2023-04-25",
          "2023-04-27",
          null
         ],
         "xaxis": "x",
         "y": [
          5.440993788819876,
          5.453416149068323,
          null
         ],
         "yaxis": "y"
        },
        {
         "customdata": [
          [
           0.125,
           "L6",
           "2023-05-13",
           "2023-05-18",
           72.625
          ],
          [
           0.125,
           "L6",
           "2023-05-13",
           "2023-05-18",
           72.75
          ],
          [
           0.125,
           null,
           null,
           null,
           null
          ],
          [
           0.125,
           "L6",
           "2023-06-09",
           "2023-06-15",
           72.75
          ],
          [
           0.125,
           "L6",
           "2023-06-09",
           "2023-06-15",
           72.875
          ],
          [
           0.125,
           null,
           null,
           null,
           null
          ],
          [
           0.125,
           "L6",
           "2023-06-20",
           "2023-06-22",
           72.875
          ],
          [
           0.125,
           "L6",
           "2023-06-20",
           "2023-06-22",
           73
          ],
          [
           0.125,
           null,
           null,
           null,
           null
          ]
         ],
         "hovertemplate": "Date Range: %{customdata[2]} to %{customdata[3]}<br>Progress in period: %{customdata[0]:.2f} %<br>Cumulative Progress: %{customdata[4]:.2f} %<br>Level: %{customdata[1]}",
         "legendgroup": "0.125",
         "line": {
          "color": "#ff0200",
          "dash": "solid",
          "width": 5
         },
         "marker": {
          "symbol": "circle"
         },
         "mode": "lines",
         "name": "",
         "orientation": "v",
         "showlegend": true,
         "type": "scatter",
         "x": [
          "2023-05-13",
          "2023-05-18",
          null,
          "2023-06-09",
          "2023-06-15",
          null,
          "2023-06-20",
          "2023-06-22",
          null
         ],
         "xaxis": "x",
         "y": [
          5.552795031055901,
          5.583850931677018,
          null,
          5.720496894409938,
          5.75776397515528,
          null,
          5.788819875776397,
          5.801242236024844,
          null
         ],
         "yaxis": "y"
        },
        {
         "customdata": [
          [
           27,
           "L6",
           "2023-07-22",
           "2023-07-24",
           73
          ],
          [
           27,
           "L6",
           "2023-07-22",
           "2023-07-24",
           100
          ],
          [
           27,
           null,
           null,
           null,
           null
          ]
         ],
         "hovertemplate": "Date Range: %{customdata[2]} to %{customdata[3]}<br>Progress in period: %{customdata[0]:.2f} %<br>Cumulative Progress: %{customdata[4]:.2f} %<br>Level: %{customdata[1]}",
         "legendgroup": "27.0",
         "line": {
          "color": "#5de600",
          "dash": "solid",
          "width": 5
         },
         "marker": {
          "symbol": "circle"
         },
         "mode": "lines",
         "name": "",
         "orientation": "v",
         "showlegend": true,
         "type": "scatter",
         "x": [
          "2023-07-22",
          "2023-07-24",
          null
         ],
         "xaxis": "x",
         "y": [
          5.987577639751553,
          6,
          null
         ],
         "yaxis": "y"
        },
        {
         "customdata": [
          [
           0.5,
           "L7",
           "2023-02-21",
           "2023-02-24",
           0
          ],
          [
           0.5,
           "L7",
           "2023-02-21",
           "2023-02-24",
           0.5
          ],
          [
           0.5,
           null,
           null,
           null,
           null
          ]
         ],
         "hovertemplate": "Date Range: %{customdata[2]} to %{customdata[3]}<br>Progress in period: %{customdata[0]:.2f} %<br>Cumulative Progress: %{customdata[4]:.2f} %<br>Level: %{customdata[1]}",
         "legendgroup": "0.5",
         "line": {
          "color": "#ff0700",
          "dash": "solid",
          "width": 5
         },
         "marker": {
          "symbol": "circle"
         },
         "mode": "lines",
         "name": "",
         "orientation": "v",
         "showlegend": true,
         "type": "scatter",
         "x": [
          "2023-02-21",
          "2023-02-24",
          null
         ],
         "xaxis": "x",
         "y": [
          6,
          6.017647058823529,
          null
         ],
         "yaxis": "y"
        },
        {
         "customdata": [
          [
           0.45833333333333337,
           "L7",
           "2023-02-27",
           "2023-03-03",
           0.5
          ],
          [
           0.45833333333333337,
           "L7",
           "2023-02-27",
           "2023-03-03",
           0.9583333333333334
          ],
          [
           0.45833333333333337,
           null,
           null,
           null,
           null
          ]
         ],
         "hovertemplate": "Date Range: %{customdata[2]} to %{customdata[3]}<br>Progress in period: %{customdata[0]:.2f} %<br>Cumulative Progress: %{customdata[4]:.2f} %<br>Level: %{customdata[1]}",
         "legendgroup": "0.45833333333333337",
         "line": {
          "color": "#ff0600",
          "dash": "solid",
          "width": 5
         },
         "marker": {
          "symbol": "circle"
         },
         "mode": "lines",
         "name": "",
         "orientation": "v",
         "showlegend": true,
         "type": "scatter",
         "x": [
          "2023-02-27",
          "2023-03-03",
          null
         ],
         "xaxis": "x",
         "y": [
          6.035294117647059,
          6.0588235294117645,
          null
         ],
         "yaxis": "y"
        },
        {
         "customdata": [
          [
           11.333333333333332,
           "L7",
           "2023-03-03",
           "2023-03-07",
           0.9583333333333334
          ],
          [
           11.333333333333332,
           "L7",
           "2023-03-03",
           "2023-03-07",
           12.291666666666666
          ],
          [
           11.333333333333332,
           null,
           null,
           null,
           null
          ]
         ],
         "hovertemplate": "Date Range: %{customdata[2]} to %{customdata[3]}<br>Progress in period: %{customdata[0]:.2f} %<br>Cumulative Progress: %{customdata[4]:.2f} %<br>Level: %{customdata[1]}",
         "legendgroup": "11.333333333333332",
         "line": {
          "color": "#ffa000",
          "dash": "solid",
          "width": 5
         },
         "marker": {
          "symbol": "circle"
         },
         "mode": "lines",
         "name": "",
         "orientation": "v",
         "showlegend": true,
         "type": "scatter",
         "x": [
          "2023-03-03",
          "2023-03-07",
          null
         ],
         "xaxis": "x",
         "y": [
          6.0588235294117645,
          6.08235294117647,
          null
         ],
         "yaxis": "y"
        },
        {
         "customdata": [
          [
           8.833333333333334,
           "L7",
           "2023-03-07",
           "2023-03-09",
           12.291666666666666
          ],
          [
           8.833333333333334,
           "L7",
           "2023-03-07",
           "2023-03-09",
           21.125
          ],
          [
           8.833333333333334,
           null,
           null,
           null,
           null
          ]
         ],
         "hovertemplate": "Date Range: %{customdata[2]} to %{customdata[3]}<br>Progress in period: %{customdata[0]:.2f} %<br>Cumulative Progress: %{customdata[4]:.2f} %<br>Level: %{customdata[1]}",
         "legendgroup": "8.833333333333334",
         "line": {
          "color": "#ff7d00",
          "dash": "solid",
          "width": 5
         },
         "marker": {
          "symbol": "circle"
         },
         "mode": "lines",
         "name": "",
         "orientation": "v",
         "showlegend": true,
         "type": "scatter",
         "x": [
          "2023-03-07",
          "2023-03-09",
          null
         ],
         "xaxis": "x",
         "y": [
          6.08235294117647,
          6.094117647058823,
          null
         ],
         "yaxis": "y"
        },
        {
         "customdata": [
          [
           1.8333333333333321,
           "L7",
           "2023-03-09",
           "2023-03-14",
           21.125
          ],
          [
           1.8333333333333321,
           "L7",
           "2023-03-09",
           "2023-03-14",
           22.958333333333332
          ],
          [
           1.8333333333333321,
           null,
           null,
           null,
           null
          ]
         ],
         "hovertemplate": "Date Range: %{customdata[2]} to %{customdata[3]}<br>Progress in period: %{customdata[0]:.2f} %<br>Cumulative Progress: %{customdata[4]:.2f} %<br>Level: %{customdata[1]}",
         "legendgroup": "1.8333333333333321",
         "line": {
          "color": "#ff1a00",
          "dash": "solid",
          "width": 5
         },
         "marker": {
          "symbol": "circle"
         },
         "mode": "lines",
         "name": "",
         "orientation": "v",
         "showlegend": true,
         "type": "scatter",
         "x": [
          "2023-03-09",
          "2023-03-14",
          null
         ],
         "xaxis": "x",
         "y": [
          6.094117647058823,
          6.123529411764705,
          null
         ],
         "yaxis": "y"
        },
        {
         "customdata": [
          [
           0.16666666666666785,
           "L7",
           "2023-03-30",
           "2023-03-31",
           22.958333333333332
          ],
          [
           0.16666666666666785,
           "L7",
           "2023-03-30",
           "2023-03-31",
           23.125
          ],
          [
           0.16666666666666785,
           null,
           null,
           null,
           null
          ]
         ],
         "hovertemplate": "Date Range: %{customdata[2]} to %{customdata[3]}<br>Progress in period: %{customdata[0]:.2f} %<br>Cumulative Progress: %{customdata[4]:.2f} %<br>Level: %{customdata[1]}",
         "legendgroup": "0.16666666666666785",
         "line": {
          "color": "#ff0200",
          "dash": "solid",
          "width": 5
         },
         "marker": {
          "symbol": "circle"
         },
         "mode": "lines",
         "name": "",
         "orientation": "v",
         "showlegend": true,
         "type": "scatter",
         "x": [
          "2023-03-30",
          "2023-03-31",
          null
         ],
         "xaxis": "x",
         "y": [
          6.2176470588235295,
          6.223529411764706,
          null
         ],
         "yaxis": "y"
        },
        {
         "customdata": [
          [
           1.75,
           "L7",
           "2023-04-06",
           "2023-04-12",
           23.125
          ],
          [
           1.75,
           "L7",
           "2023-04-06",
           "2023-04-12",
           24.875
          ],
          [
           1.75,
           null,
           null,
           null,
           null
          ]
         ],
         "hovertemplate": "Date Range: %{customdata[2]} to %{customdata[3]}<br>Progress in period: %{customdata[0]:.2f} %<br>Cumulative Progress: %{customdata[4]:.2f} %<br>Level: %{customdata[1]}",
         "legendgroup": "1.75",
         "line": {
          "color": "#ff1900",
          "dash": "solid",
          "width": 5
         },
         "marker": {
          "symbol": "circle"
         },
         "mode": "lines",
         "name": "",
         "orientation": "v",
         "showlegend": true,
         "type": "scatter",
         "x": [
          "2023-04-06",
          "2023-04-12",
          null
         ],
         "xaxis": "x",
         "y": [
          6.258823529411765,
          6.294117647058823,
          null
         ],
         "yaxis": "y"
        },
        {
         "customdata": [
          [
           2.125,
           "L7",
           "2023-04-12",
           "2023-04-15",
           24.875
          ],
          [
           2.125,
           "L7",
           "2023-04-12",
           "2023-04-15",
           27
          ],
          [
           2.125,
           null,
           null,
           null,
           null
          ]
         ],
         "hovertemplate": "Date Range: %{customdata[2]} to %{customdata[3]}<br>Progress in period: %{customdata[0]:.2f} %<br>Cumulative Progress: %{customdata[4]:.2f} %<br>Level: %{customdata[1]}",
         "legendgroup": "2.125",
         "line": {
          "color": "#ff1e00",
          "dash": "solid",
          "width": 5
         },
         "marker": {
          "symbol": "circle"
         },
         "mode": "lines",
         "name": "",
         "orientation": "v",
         "showlegend": true,
         "type": "scatter",
         "x": [
          "2023-04-12",
          "2023-04-15",
          null
         ],
         "xaxis": "x",
         "y": [
          6.294117647058823,
          6.311764705882353,
          null
         ],
         "yaxis": "y"
        },
        {
         "customdata": [
          [
           4.875,
           "L7",
           "2023-04-15",
           "2023-04-18",
           27
          ],
          [
           4.875,
           "L7",
           "2023-04-15",
           "2023-04-18",
           31.875
          ],
          [
           4.875,
           null,
           null,
           null,
           null
          ]
         ],
         "hovertemplate": "Date Range: %{customdata[2]} to %{customdata[3]}<br>Progress in period: %{customdata[0]:.2f} %<br>Cumulative Progress: %{customdata[4]:.2f} %<br>Level: %{customdata[1]}",
         "legendgroup": "4.875",
         "line": {
          "color": "#ff4500",
          "dash": "solid",
          "width": 5
         },
         "marker": {
          "symbol": "circle"
         },
         "mode": "lines",
         "name": "",
         "orientation": "v",
         "showlegend": true,
         "type": "scatter",
         "x": [
          "2023-04-15",
          "2023-04-18",
          null
         ],
         "xaxis": "x",
         "y": [
          6.311764705882353,
          6.329411764705882,
          null
         ],
         "yaxis": "y"
        },
        {
         "customdata": [
          [
           10.625,
           "L7",
           "2023-04-18",
           "2023-04-21",
           31.875
          ],
          [
           10.625,
           "L7",
           "2023-04-18",
           "2023-04-21",
           42.5
          ],
          [
           10.625,
           null,
           null,
           null,
           null
          ]
         ],
         "hovertemplate": "Date Range: %{customdata[2]} to %{customdata[3]}<br>Progress in period: %{customdata[0]:.2f} %<br>Cumulative Progress: %{customdata[4]:.2f} %<br>Level: %{customdata[1]}",
         "legendgroup": "10.625",
         "line": {
          "color": "#ff9600",
          "dash": "solid",
          "width": 5
         },
         "marker": {
          "symbol": "circle"
         },
         "mode": "lines",
         "name": "",
         "orientation": "v",
         "showlegend": true,
         "type": "scatter",
         "x": [
          "2023-04-18",
          "2023-04-21",
          null
         ],
         "xaxis": "x",
         "y": [
          6.329411764705882,
          6.347058823529411,
          null
         ],
         "yaxis": "y"
        },
        {
         "customdata": [
          [
           7.875,
           "L7",
           "2023-04-21",
           "2023-04-25",
           42.5
          ],
          [
           7.875,
           "L7",
           "2023-04-21",
           "2023-04-25",
           50.375
          ],
          [
           7.875,
           null,
           null,
           null,
           null
          ]
         ],
         "hovertemplate": "Date Range: %{customdata[2]} to %{customdata[3]}<br>Progress in period: %{customdata[0]:.2f} %<br>Cumulative Progress: %{customdata[4]:.2f} %<br>Level: %{customdata[1]}",
         "legendgroup": "7.875",
         "line": {
          "color": "#ff6f00",
          "dash": "solid",
          "width": 5
         },
         "marker": {
          "symbol": "circle"
         },
         "mode": "lines",
         "name": "",
         "orientation": "v",
         "showlegend": true,
         "type": "scatter",
         "x": [
          "2023-04-21",
          "2023-04-25",
          null
         ],
         "xaxis": "x",
         "y": [
          6.347058823529411,
          6.370588235294118,
          null
         ],
         "yaxis": "y"
        },
        {
         "customdata": [
          [
           14.375,
           "L7",
           "2023-04-25",
           "2023-04-27",
           50.375
          ],
          [
           14.375,
           "L7",
           "2023-04-25",
           "2023-04-27",
           64.75
          ],
          [
           14.375,
           null,
           null,
           null,
           null
          ]
         ],
         "hovertemplate": "Date Range: %{customdata[2]} to %{customdata[3]}<br>Progress in period: %{customdata[0]:.2f} %<br>Cumulative Progress: %{customdata[4]:.2f} %<br>Level: %{customdata[1]}",
         "legendgroup": "14.375",
         "line": {
          "color": "#ffcb00",
          "dash": "solid",
          "width": 5
         },
         "marker": {
          "symbol": "circle"
         },
         "mode": "lines",
         "name": "",
         "orientation": "v",
         "showlegend": true,
         "type": "scatter",
         "x": [
          "2023-04-25",
          "2023-04-27",
          null
         ],
         "xaxis": "x",
         "y": [
          6.370588235294118,
          6.382352941176471,
          null
         ],
         "yaxis": "y"
        },
        {
         "customdata": [
          [
           7.333333333333329,
           "L7",
           "2023-04-27",
           "2023-05-02",
           64.75
          ],
          [
           7.333333333333329,
           "L7",
           "2023-04-27",
           "2023-05-02",
           72.08333333333333
          ],
          [
           7.333333333333329,
           null,
           null,
           null,
           null
          ]
         ],
         "hovertemplate": "Date Range: %{customdata[2]} to %{customdata[3]}<br>Progress in period: %{customdata[0]:.2f} %<br>Cumulative Progress: %{customdata[4]:.2f} %<br>Level: %{customdata[1]}",
         "legendgroup": "7.333333333333329",
         "line": {
          "color": "#ff6800",
          "dash": "solid",
          "width": 5
         },
         "marker": {
          "symbol": "circle"
         },
         "mode": "lines",
         "name": "",
         "orientation": "v",
         "showlegend": true,
         "type": "scatter",
         "x": [
          "2023-04-27",
          "2023-05-02",
          null
         ],
         "xaxis": "x",
         "y": [
          6.382352941176471,
          6.411764705882353,
          null
         ],
         "yaxis": "y"
        },
        {
         "customdata": [
          [
           0.125,
           "L7",
           "2023-05-13",
           "2023-05-18",
           72.08333333333333
          ],
          [
           0.125,
           "L7",
           "2023-05-13",
           "2023-05-18",
           72.20833333333333
          ],
          [
           0.125,
           null,
           null,
           null,
           null
          ]
         ],
         "hovertemplate": "Date Range: %{customdata[2]} to %{customdata[3]}<br>Progress in period: %{customdata[0]:.2f} %<br>Cumulative Progress: %{customdata[4]:.2f} %<br>Level: %{customdata[1]}",
         "legendgroup": "0.125",
         "line": {
          "color": "#ff0200",
          "dash": "solid",
          "width": 5
         },
         "marker": {
          "symbol": "circle"
         },
         "mode": "lines",
         "name": "",
         "orientation": "v",
         "showlegend": true,
         "type": "scatter",
         "x": [
          "2023-05-13",
          "2023-05-18",
          null
         ],
         "xaxis": "x",
         "y": [
          6.476470588235294,
          6.5058823529411764,
          null
         ],
         "yaxis": "y"
        },
        {
         "customdata": [
          [
           0.1666666666666714,
           "L7",
           "2023-06-05",
           "2023-06-07",
           72.20833333333333
          ],
          [
           0.1666666666666714,
           "L7",
           "2023-06-05",
           "2023-06-07",
           72.375
          ],
          [
           0.1666666666666714,
           null,
           null,
           null,
           null
          ]
         ],
         "hovertemplate": "Date Range: %{customdata[2]} to %{customdata[3]}<br>Progress in period: %{customdata[0]:.2f} %<br>Cumulative Progress: %{customdata[4]:.2f} %<br>Level: %{customdata[1]}",
         "legendgroup": "0.1666666666666714",
         "line": {
          "color": "#ff0200",
          "dash": "solid",
          "width": 5
         },
         "marker": {
          "symbol": "circle"
         },
         "mode": "lines",
         "name": "",
         "orientation": "v",
         "showlegend": true,
         "type": "scatter",
         "x": [
          "2023-06-05",
          "2023-06-07",
          null
         ],
         "xaxis": "x",
         "y": [
          6.6117647058823525,
          6.623529411764705,
          null
         ],
         "yaxis": "y"
        },
        {
         "customdata": [
          [
           0.0833333333333286,
           "L7",
           "2023-06-20",
           "2023-06-22",
           72.375
          ],
          [
           0.0833333333333286,
           "L7",
           "2023-06-20",
           "2023-06-22",
           72.45833333333333
          ],
          [
           0.0833333333333286,
           null,
           null,
           null,
           null
          ]
         ],
         "hovertemplate": "Date Range: %{customdata[2]} to %{customdata[3]}<br>Progress in period: %{customdata[0]:.2f} %<br>Cumulative Progress: %{customdata[4]:.2f} %<br>Level: %{customdata[1]}",
         "legendgroup": "0.0833333333333286",
         "line": {
          "color": "#ff0100",
          "dash": "solid",
          "width": 5
         },
         "marker": {
          "symbol": "circle"
         },
         "mode": "lines",
         "name": "",
         "orientation": "v",
         "showlegend": true,
         "type": "scatter",
         "x": [
          "2023-06-20",
          "2023-06-22",
          null
         ],
         "xaxis": "x",
         "y": [
          6.7,
          6.711764705882353,
          null
         ],
         "yaxis": "y"
        },
        {
         "customdata": [
          [
           1.0833333333333428,
           "L7",
           "2023-07-22",
           "2023-07-24",
           72.45833333333333
          ],
          [
           1.0833333333333428,
           "L7",
           "2023-07-22",
           "2023-07-24",
           73.54166666666667
          ],
          [
           1.0833333333333428,
           null,
           null,
           null,
           null
          ]
         ],
         "hovertemplate": "Date Range: %{customdata[2]} to %{customdata[3]}<br>Progress in period: %{customdata[0]:.2f} %<br>Cumulative Progress: %{customdata[4]:.2f} %<br>Level: %{customdata[1]}",
         "legendgroup": "1.0833333333333428",
         "line": {
          "color": "#ff0f00",
          "dash": "solid",
          "width": 5
         },
         "marker": {
          "symbol": "circle"
         },
         "mode": "lines",
         "name": "",
         "orientation": "v",
         "showlegend": true,
         "type": "scatter",
         "x": [
          "2023-07-22",
          "2023-07-24",
          null
         ],
         "xaxis": "x",
         "y": [
          6.8882352941176475,
          6.9,
          null
         ],
         "yaxis": "y"
        },
        {
         "customdata": [
          [
           15.75,
           "L7",
           "2023-07-28",
           "2023-08-03",
           73.54166666666667
          ],
          [
           15.75,
           "L7",
           "2023-07-28",
           "2023-08-03",
           89.29166666666667
          ],
          [
           15.75,
           null,
           null,
           null,
           null
          ]
         ],
         "hovertemplate": "Date Range: %{customdata[2]} to %{customdata[3]}<br>Progress in period: %{customdata[0]:.2f} %<br>Cumulative Progress: %{customdata[4]:.2f} %<br>Level: %{customdata[1]}",
         "legendgroup": "15.75",
         "line": {
          "color": "#f5d500",
          "dash": "solid",
          "width": 5
         },
         "marker": {
          "symbol": "circle"
         },
         "mode": "lines",
         "name": "",
         "orientation": "v",
         "showlegend": true,
         "type": "scatter",
         "x": [
          "2023-07-28",
          "2023-08-03",
          null
         ],
         "xaxis": "x",
         "y": [
          6.923529411764706,
          6.958823529411765,
          null
         ],
         "yaxis": "y"
        },
        {
         "customdata": [
          [
           10.708333333333329,
           "L7",
           "2023-08-03",
           "2023-08-10",
           89.29166666666667
          ],
          [
           10.708333333333329,
           "L7",
           "2023-08-03",
           "2023-08-10",
           100
          ],
          [
           10.708333333333329,
           null,
           null,
           null,
           null
          ]
         ],
         "hovertemplate": "Date Range: %{customdata[2]} to %{customdata[3]}<br>Progress in period: %{customdata[0]:.2f} %<br>Cumulative Progress: %{customdata[4]:.2f} %<br>Level: %{customdata[1]}",
         "legendgroup": "10.708333333333329",
         "line": {
          "color": "#ff9700",
          "dash": "solid",
          "width": 5
         },
         "marker": {
          "symbol": "circle"
         },
         "mode": "lines",
         "name": "",
         "orientation": "v",
         "showlegend": true,
         "type": "scatter",
         "x": [
          "2023-08-03",
          "2023-08-10",
          null
         ],
         "xaxis": "x",
         "y": [
          6.958823529411765,
          7,
          null
         ],
         "yaxis": "y"
        },
        {
         "customdata": [
          [
           2,
           "L8",
           "2023-02-24",
           "2023-02-27",
           0
          ],
          [
           2,
           "L8",
           "2023-02-24",
           "2023-02-27",
           2
          ],
          [
           2,
           null,
           null,
           null,
           null
          ]
         ],
         "hovertemplate": "Date Range: %{customdata[2]} to %{customdata[3]}<br>Progress in period: %{customdata[0]:.2f} %<br>Cumulative Progress: %{customdata[4]:.2f} %<br>Level: %{customdata[1]}",
         "legendgroup": "2.0",
         "line": {
          "color": "#ff1c00",
          "dash": "solid",
          "width": 5
         },
         "marker": {
          "symbol": "circle"
         },
         "mode": "lines",
         "name": "",
         "orientation": "v",
         "showlegend": true,
         "type": "scatter",
         "x": [
          "2023-02-24",
          "2023-02-27",
          null
         ],
         "xaxis": "x",
         "y": [
          7,
          7.015384615384615,
          null
         ],
         "yaxis": "y"
        },
        {
         "customdata": [
          [
           4.041666666666667,
           "L8",
           "2023-02-27",
           "2023-03-03",
           2
          ],
          [
           4.041666666666667,
           "L8",
           "2023-02-27",
           "2023-03-03",
           6.041666666666667
          ],
          [
           4.041666666666667,
           null,
           null,
           null,
           null
          ]
         ],
         "hovertemplate": "Date Range: %{customdata[2]} to %{customdata[3]}<br>Progress in period: %{customdata[0]:.2f} %<br>Cumulative Progress: %{customdata[4]:.2f} %<br>Level: %{customdata[1]}",
         "legendgroup": "4.041666666666667",
         "line": {
          "color": "#ff3900",
          "dash": "solid",
          "width": 5
         },
         "marker": {
          "symbol": "circle"
         },
         "mode": "lines",
         "name": "",
         "orientation": "v",
         "showlegend": true,
         "type": "scatter",
         "x": [
          "2023-02-27",
          "2023-03-03",
          null
         ],
         "xaxis": "x",
         "y": [
          7.015384615384615,
          7.035897435897436,
          null
         ],
         "yaxis": "y"
        },
        {
         "customdata": [
          [
           5.874999999999999,
           "L8",
           "2023-03-03",
           "2023-03-07",
           6.041666666666667
          ],
          [
           5.874999999999999,
           "L8",
           "2023-03-03",
           "2023-03-07",
           11.916666666666666
          ],
          [
           5.874999999999999,
           null,
           null,
           null,
           null
          ]
         ],
         "hovertemplate": "Date Range: %{customdata[2]} to %{customdata[3]}<br>Progress in period: %{customdata[0]:.2f} %<br>Cumulative Progress: %{customdata[4]:.2f} %<br>Level: %{customdata[1]}",
         "legendgroup": "5.874999999999999",
         "line": {
          "color": "#ff5300",
          "dash": "solid",
          "width": 5
         },
         "marker": {
          "symbol": "circle"
         },
         "mode": "lines",
         "name": "",
         "orientation": "v",
         "showlegend": true,
         "type": "scatter",
         "x": [
          "2023-03-03",
          "2023-03-07",
          null
         ],
         "xaxis": "x",
         "y": [
          7.035897435897436,
          7.056410256410256,
          null
         ],
         "yaxis": "y"
        },
        {
         "customdata": [
          [
           7.750000000000002,
           "L8",
           "2023-03-07",
           "2023-03-09",
           11.916666666666666
          ],
          [
           7.750000000000002,
           "L8",
           "2023-03-07",
           "2023-03-09",
           19.666666666666668
          ],
          [
           7.750000000000002,
           null,
           null,
           null,
           null
          ]
         ],
         "hovertemplate": "Date Range: %{customdata[2]} to %{customdata[3]}<br>Progress in period: %{customdata[0]:.2f} %<br>Cumulative Progress: %{customdata[4]:.2f} %<br>Level: %{customdata[1]}",
         "legendgroup": "7.750000000000002",
         "line": {
          "color": "#ff6e00",
          "dash": "solid",
          "width": 5
         },
         "marker": {
          "symbol": "circle"
         },
         "mode": "lines",
         "name": "",
         "orientation": "v",
         "showlegend": true,
         "type": "scatter",
         "x": [
          "2023-03-07",
          "2023-03-09",
          null
         ],
         "xaxis": "x",
         "y": [
          7.056410256410256,
          7.066666666666666,
          null
         ],
         "yaxis": "y"
        },
        {
         "customdata": [
          [
           0.1666666666666643,
           "L8",
           "2023-03-09",
           "2023-03-14",
           19.666666666666668
          ],
          [
           0.1666666666666643,
           "L8",
           "2023-03-09",
           "2023-03-14",
           19.833333333333332
          ],
          [
           0.1666666666666643,
           null,
           null,
           null,
           null
          ]
         ],
         "hovertemplate": "Date Range: %{customdata[2]} to %{customdata[3]}<br>Progress in period: %{customdata[0]:.2f} %<br>Cumulative Progress: %{customdata[4]:.2f} %<br>Level: %{customdata[1]}",
         "legendgroup": "0.1666666666666643",
         "line": {
          "color": "#ff0200",
          "dash": "solid",
          "width": 5
         },
         "marker": {
          "symbol": "circle"
         },
         "mode": "lines",
         "name": "",
         "orientation": "v",
         "showlegend": true,
         "type": "scatter",
         "x": [
          "2023-03-09",
          "2023-03-14",
          null
         ],
         "xaxis": "x",
         "y": [
          7.066666666666666,
          7.092307692307692,
          null
         ],
         "yaxis": "y"
        },
        {
         "customdata": [
          [
           0.75,
           "L8",
           "2023-03-20",
           "2023-03-23",
           19.833333333333332
          ],
          [
           0.75,
           "L8",
           "2023-03-20",
           "2023-03-23",
           20.583333333333332
          ],
          [
           0.75,
           null,
           null,
           null,
           null
          ],
          [
           0.75,
           "L8",
           "2023-04-25",
           "2023-04-27",
           23.333333333333332
          ],
          [
           0.75,
           "L8",
           "2023-04-25",
           "2023-04-27",
           24.083333333333332
          ],
          [
           0.75,
           null,
           null,
           null,
           null
          ]
         ],
         "hovertemplate": "Date Range: %{customdata[2]} to %{customdata[3]}<br>Progress in period: %{customdata[0]:.2f} %<br>Cumulative Progress: %{customdata[4]:.2f} %<br>Level: %{customdata[1]}",
         "legendgroup": "0.75",
         "line": {
          "color": "#ff0b00",
          "dash": "solid",
          "width": 5
         },
         "marker": {
          "symbol": "circle"
         },
         "mode": "lines",
         "name": "",
         "orientation": "v",
         "showlegend": true,
         "type": "scatter",
         "x": [
          "2023-03-20",
          "2023-03-23",
          null,
          "2023-04-25",
          "2023-04-27",
          null
         ],
         "xaxis": "x",
         "y": [
          7.123076923076923,
          7.138461538461539,
          null,
          7.3076923076923075,
          7.317948717948718,
          null
         ],
         "yaxis": "y"
        },
        {
         "customdata": [
          [
           0.16666666666666785,
           "L8",
           "2023-03-30",
           "2023-03-31",
           20.583333333333332
          ],
          [
           0.16666666666666785,
           "L8",
           "2023-03-30",
           "2023-03-31",
           20.75
          ],
          [
           0.16666666666666785,
           null,
           null,
           null,
           null
          ]
         ],
         "hovertemplate": "Date Range: %{customdata[2]} to %{customdata[3]}<br>Progress in period: %{customdata[0]:.2f} %<br>Cumulative Progress: %{customdata[4]:.2f} %<br>Level: %{customdata[1]}",
         "legendgroup": "0.16666666666666785",
         "line": {
          "color": "#ff0200",
          "dash": "solid",
          "width": 5
         },
         "marker": {
          "symbol": "circle"
         },
         "mode": "lines",
         "name": "",
         "orientation": "v",
         "showlegend": true,
         "type": "scatter",
         "x": [
          "2023-03-30",
          "2023-03-31",
          null
         ],
         "xaxis": "x",
         "y": [
          7.174358974358975,
          7.17948717948718,
          null
         ],
         "yaxis": "y"
        },
        {
         "customdata": [
          [
           0.625,
           "L8",
           "2023-03-31",
           "2023-04-04",
           20.75
          ],
          [
           0.625,
           "L8",
           "2023-03-31",
           "2023-04-04",
           21.375
          ],
          [
           0.625,
           null,
           null,
           null,
           null
          ]
         ],
         "hovertemplate": "Date Range: %{customdata[2]} to %{customdata[3]}<br>Progress in period: %{customdata[0]:.2f} %<br>Cumulative Progress: %{customdata[4]:.2f} %<br>Level: %{customdata[1]}",
         "legendgroup": "0.625",
         "line": {
          "color": "#ff0900",
          "dash": "solid",
          "width": 5
         },
         "marker": {
          "symbol": "circle"
         },
         "mode": "lines",
         "name": "",
         "orientation": "v",
         "showlegend": true,
         "type": "scatter",
         "x": [
          "2023-03-31",
          "2023-04-04",
          null
         ],
         "xaxis": "x",
         "y": [
          7.17948717948718,
          7.2,
          null
         ],
         "yaxis": "y"
        },
        {
         "customdata": [
          [
           0.45833333333333215,
           "L8",
           "2023-04-06",
           "2023-04-12",
           21.375
          ],
          [
           0.45833333333333215,
           "L8",
           "2023-04-06",
           "2023-04-12",
           21.833333333333332
          ],
          [
           0.45833333333333215,
           null,
           null,
           null,
           null
          ]
         ],
         "hovertemplate": "Date Range: %{customdata[2]} to %{customdata[3]}<br>Progress in period: %{customdata[0]:.2f} %<br>Cumulative Progress: %{customdata[4]:.2f} %<br>Level: %{customdata[1]}",
         "legendgroup": "0.45833333333333215",
         "line": {
          "color": "#ff0600",
          "dash": "solid",
          "width": 5
         },
         "marker": {
          "symbol": "circle"
         },
         "mode": "lines",
         "name": "",
         "orientation": "v",
         "showlegend": true,
         "type": "scatter",
         "x": [
          "2023-04-06",
          "2023-04-12",
          null
         ],
         "xaxis": "x",
         "y": [
          7.21025641025641,
          7.241025641025641,
          null
         ],
         "yaxis": "y"
        },
        {
         "customdata": [
          [
           0.9583333333333357,
           "L8",
           "2023-04-12",
           "2023-04-15",
           21.833333333333332
          ],
          [
           0.9583333333333357,
           "L8",
           "2023-04-12",
           "2023-04-15",
           22.791666666666668
          ],
          [
           0.9583333333333357,
           null,
           null,
           null,
           null
          ]
         ],
         "hovertemplate": "Date Range: %{customdata[2]} to %{customdata[3]}<br>Progress in period: %{customdata[0]:.2f} %<br>Cumulative Progress: %{customdata[4]:.2f} %<br>Level: %{customdata[1]}",
         "legendgroup": "0.9583333333333357",
         "line": {
          "color": "#ff0e00",
          "dash": "solid",
          "width": 5
         },
         "marker": {
          "symbol": "circle"
         },
         "mode": "lines",
         "name": "",
         "orientation": "v",
         "showlegend": true,
         "type": "scatter",
         "x": [
          "2023-04-12",
          "2023-04-15",
          null
         ],
         "xaxis": "x",
         "y": [
          7.241025641025641,
          7.256410256410256,
          null
         ],
         "yaxis": "y"
        },
        {
         "customdata": [
          [
           0.5416666666666643,
           "L8",
           "2023-04-18",
           "2023-04-21",
           22.791666666666668
          ],
          [
           0.5416666666666643,
           "L8",
           "2023-04-18",
           "2023-04-21",
           23.333333333333332
          ],
          [
           0.5416666666666643,
           null,
           null,
           null,
           null
          ]
         ],
         "hovertemplate": "Date Range: %{customdata[2]} to %{customdata[3]}<br>Progress in period: %{customdata[0]:.2f} %<br>Cumulative Progress: %{customdata[4]:.2f} %<br>Level: %{customdata[1]}",
         "legendgroup": "0.5416666666666643",
         "line": {
          "color": "#ff0800",
          "dash": "solid",
          "width": 5
         },
         "marker": {
          "symbol": "circle"
         },
         "mode": "lines",
         "name": "",
         "orientation": "v",
         "showlegend": true,
         "type": "scatter",
         "x": [
          "2023-04-18",
          "2023-04-21",
          null
         ],
         "xaxis": "x",
         "y": [
          7.271794871794872,
          7.287179487179487,
          null
         ],
         "yaxis": "y"
        },
        {
         "customdata": [
          [
           3.791666666666668,
           "L8",
           "2023-04-27",
           "2023-05-02",
           24.083333333333332
          ],
          [
           3.791666666666668,
           "L8",
           "2023-04-27",
           "2023-05-02",
           27.875
          ],
          [
           3.791666666666668,
           null,
           null,
           null,
           null
          ]
         ],
         "hovertemplate": "Date Range: %{customdata[2]} to %{customdata[3]}<br>Progress in period: %{customdata[0]:.2f} %<br>Cumulative Progress: %{customdata[4]:.2f} %<br>Level: %{customdata[1]}",
         "legendgroup": "3.791666666666668",
         "line": {
          "color": "#ff3600",
          "dash": "solid",
          "width": 5
         },
         "marker": {
          "symbol": "circle"
         },
         "mode": "lines",
         "name": "",
         "orientation": "v",
         "showlegend": true,
         "type": "scatter",
         "x": [
          "2023-04-27",
          "2023-05-02",
          null
         ],
         "xaxis": "x",
         "y": [
          7.317948717948718,
          7.343589743589743,
          null
         ],
         "yaxis": "y"
        },
        {
         "customdata": [
          [
           30.125,
           "L8",
           "2023-05-13",
           "2023-05-18",
           27.875
          ],
          [
           30.125,
           "L8",
           "2023-05-13",
           "2023-05-18",
           58
          ],
          [
           30.125,
           null,
           null,
           null,
           null
          ]
         ],
         "hovertemplate": "Date Range: %{customdata[2]} to %{customdata[3]}<br>Progress in period: %{customdata[0]:.2f} %<br>Cumulative Progress: %{customdata[4]:.2f} %<br>Level: %{customdata[1]}",
         "legendgroup": "30.125",
         "line": {
          "color": "#34eb00",
          "dash": "solid",
          "width": 5
         },
         "marker": {
          "symbol": "circle"
         },
         "mode": "lines",
         "name": "",
         "orientation": "v",
         "showlegend": true,
         "type": "scatter",
         "x": [
          "2023-05-13",
          "2023-05-18",
          null
         ],
         "xaxis": "x",
         "y": [
          7.4,
          7.425641025641026,
          null
         ],
         "yaxis": "y"
        },
        {
         "customdata": [
          [
           9.25,
           "L8",
           "2023-06-05",
           "2023-06-07",
           58
          ],
          [
           9.25,
           "L8",
           "2023-06-05",
           "2023-06-07",
           67.25
          ],
          [
           9.25,
           null,
           null,
           null,
           null
          ]
         ],
         "hovertemplate": "Date Range: %{customdata[2]} to %{customdata[3]}<br>Progress in period: %{customdata[0]:.2f} %<br>Cumulative Progress: %{customdata[4]:.2f} %<br>Level: %{customdata[1]}",
         "legendgroup": "9.25",
         "line": {
          "color": "#ff8300",
          "dash": "solid",
          "width": 5
         },
         "marker": {
          "symbol": "circle"
         },
         "mode": "lines",
         "name": "",
         "orientation": "v",
         "showlegend": true,
         "type": "scatter",
         "x": [
          "2023-06-05",
          "2023-06-07",
          null
         ],
         "xaxis": "x",
         "y": [
          7.517948717948718,
          7.528205128205128,
          null
         ],
         "yaxis": "y"
        },
        {
         "customdata": [
          [
           3.7916666666666714,
           "L8",
           "2023-06-09",
           "2023-06-15",
           67.25
          ],
          [
           3.7916666666666714,
           "L8",
           "2023-06-09",
           "2023-06-15",
           71.04166666666667
          ],
          [
           3.7916666666666714,
           null,
           null,
           null,
           null
          ]
         ],
         "hovertemplate": "Date Range: %{customdata[2]} to %{customdata[3]}<br>Progress in period: %{customdata[0]:.2f} %<br>Cumulative Progress: %{customdata[4]:.2f} %<br>Level: %{customdata[1]}",
         "legendgroup": "3.7916666666666714",
         "line": {
          "color": "#ff3600",
          "dash": "solid",
          "width": 5
         },
         "marker": {
          "symbol": "circle"
         },
         "mode": "lines",
         "name": "",
         "orientation": "v",
         "showlegend": true,
         "type": "scatter",
         "x": [
          "2023-06-09",
          "2023-06-15",
          null
         ],
         "xaxis": "x",
         "y": [
          7.538461538461538,
          7.569230769230769,
          null
         ],
         "yaxis": "y"
        },
        {
         "customdata": [
          [
           0.4583333333333286,
           "L8",
           "2023-06-20",
           "2023-06-22",
           71.04166666666667
          ],
          [
           0.4583333333333286,
           "L8",
           "2023-06-20",
           "2023-06-22",
           71.5
          ],
          [
           0.4583333333333286,
           null,
           null,
           null,
           null
          ],
          [
           0.4583333333333286,
           "L8",
           "2023-07-22",
           "2023-07-24",
           71.625
          ],
          [
           0.4583333333333286,
           "L8",
           "2023-07-22",
           "2023-07-24",
           72.08333333333333
          ],
          [
           0.4583333333333286,
           null,
           null,
           null,
           null
          ]
         ],
         "hovertemplate": "Date Range: %{customdata[2]} to %{customdata[3]}<br>Progress in period: %{customdata[0]:.2f} %<br>Cumulative Progress: %{customdata[4]:.2f} %<br>Level: %{customdata[1]}",
         "legendgroup": "0.4583333333333286",
         "line": {
          "color": "#ff0600",
          "dash": "solid",
          "width": 5
         },
         "marker": {
          "symbol": "circle"
         },
         "mode": "lines",
         "name": "",
         "orientation": "v",
         "showlegend": true,
         "type": "scatter",
         "x": [
          "2023-06-20",
          "2023-06-22",
          null,
          "2023-07-22",
          "2023-07-24",
          null
         ],
         "xaxis": "x",
         "y": [
          7.5948717948717945,
          7.605128205128205,
          null,
          7.758974358974359,
          7.769230769230769,
          null
         ],
         "yaxis": "y"
        },
        {
         "customdata": [
          [
           0.125,
           "L8",
           "2023-06-22",
           "2023-06-30",
           71.5
          ],
          [
           0.125,
           "L8",
           "2023-06-22",
           "2023-06-30",
           71.625
          ],
          [
           0.125,
           null,
           null,
           null,
           null
          ]
         ],
         "hovertemplate": "Date Range: %{customdata[2]} to %{customdata[3]}<br>Progress in period: %{customdata[0]:.2f} %<br>Cumulative Progress: %{customdata[4]:.2f} %<br>Level: %{customdata[1]}",
         "legendgroup": "0.125",
         "line": {
          "color": "#ff0200",
          "dash": "solid",
          "width": 5
         },
         "marker": {
          "symbol": "circle"
         },
         "mode": "lines",
         "name": "",
         "orientation": "v",
         "showlegend": true,
         "type": "scatter",
         "x": [
          "2023-06-22",
          "2023-06-30",
          null
         ],
         "xaxis": "x",
         "y": [
          7.605128205128205,
          7.6461538461538465,
          null
         ],
         "yaxis": "y"
        },
        {
         "customdata": [
          [
           1.1666666666666714,
           "L8",
           "2023-07-28",
           "2023-08-03",
           72.08333333333333
          ],
          [
           1.1666666666666714,
           "L8",
           "2023-07-28",
           "2023-08-03",
           73.25
          ],
          [
           1.1666666666666714,
           null,
           null,
           null,
           null
          ]
         ],
         "hovertemplate": "Date Range: %{customdata[2]} to %{customdata[3]}<br>Progress in period: %{customdata[0]:.2f} %<br>Cumulative Progress: %{customdata[4]:.2f} %<br>Level: %{customdata[1]}",
         "legendgroup": "1.1666666666666714",
         "line": {
          "color": "#ff1000",
          "dash": "solid",
          "width": 5
         },
         "marker": {
          "symbol": "circle"
         },
         "mode": "lines",
         "name": "",
         "orientation": "v",
         "showlegend": true,
         "type": "scatter",
         "x": [
          "2023-07-28",
          "2023-08-03",
          null
         ],
         "xaxis": "x",
         "y": [
          7.78974358974359,
          7.82051282051282,
          null
         ],
         "yaxis": "y"
        },
        {
         "customdata": [
          [
           10.583333333333329,
           "L8",
           "2023-08-03",
           "2023-08-10",
           73.25
          ],
          [
           10.583333333333329,
           "L8",
           "2023-08-03",
           "2023-08-10",
           83.83333333333333
          ],
          [
           10.583333333333329,
           null,
           null,
           null,
           null
          ]
         ],
         "hovertemplate": "Date Range: %{customdata[2]} to %{customdata[3]}<br>Progress in period: %{customdata[0]:.2f} %<br>Cumulative Progress: %{customdata[4]:.2f} %<br>Level: %{customdata[1]}",
         "legendgroup": "10.583333333333329",
         "line": {
          "color": "#ff9600",
          "dash": "solid",
          "width": 5
         },
         "marker": {
          "symbol": "circle"
         },
         "mode": "lines",
         "name": "",
         "orientation": "v",
         "showlegend": true,
         "type": "scatter",
         "x": [
          "2023-08-03",
          "2023-08-10",
          null
         ],
         "xaxis": "x",
         "y": [
          7.82051282051282,
          7.856410256410256,
          null
         ],
         "yaxis": "y"
        },
        {
         "customdata": [
          [
           15.875,
           "L8",
           "2023-08-31",
           "2023-09-07",
           83.83333333333333
          ],
          [
           15.875,
           "L8",
           "2023-08-31",
           "2023-09-07",
           99.70833333333333
          ],
          [
           15.875,
           null,
           null,
           null,
           null
          ]
         ],
         "hovertemplate": "Date Range: %{customdata[2]} to %{customdata[3]}<br>Progress in period: %{customdata[0]:.2f} %<br>Cumulative Progress: %{customdata[4]:.2f} %<br>Level: %{customdata[1]}",
         "legendgroup": "15.875",
         "line": {
          "color": "#f3d500",
          "dash": "solid",
          "width": 5
         },
         "marker": {
          "symbol": "circle"
         },
         "mode": "lines",
         "name": "",
         "orientation": "v",
         "showlegend": true,
         "type": "scatter",
         "x": [
          "2023-08-31",
          "2023-09-07",
          null
         ],
         "xaxis": "x",
         "y": [
          7.964102564102564,
          8,
          null
         ],
         "yaxis": "y"
        },
        {
         "hoverinfo": "skip",
         "hovertemplate": "x=%{x}<br>y=%{y}<extra></extra>",
         "legendgroup": "",
         "line": {
          "color": "black",
          "dash": "solid",
          "width": 5
         },
         "marker": {
          "symbol": "circle"
         },
         "mode": "lines",
         "name": "",
         "opacity": 0.05,
         "orientation": "v",
         "showlegend": false,
         "type": "scatter",
         "x": [
          null,
          null,
          null,
          null,
          null,
          null,
          null,
          null,
          null,
          null,
          null,
          null,
          null,
          null,
          null,
          null,
          null,
          null,
          null,
          null,
          null,
          null,
          null,
          null
         ],
         "xaxis": "x",
         "y": [
          0,
          0,
          null,
          1,
          1,
          null,
          2,
          2,
          null,
          3,
          3,
          null,
          4,
          4,
          null,
          5,
          5,
          null,
          6,
          6,
          null,
          7,
          7,
          null
         ],
         "yaxis": "y"
        },
        {
         "hoverinfo": "skip",
         "hovertemplate": "x=%{x}<br>y=%{y}<extra></extra>",
         "legendgroup": "",
         "line": {
          "color": "black",
          "dash": "solid",
          "width": 5
         },
         "marker": {
          "symbol": "circle"
         },
         "mode": "lines",
         "name": "",
         "opacity": 0.05,
         "orientation": "v",
         "showlegend": false,
         "type": "scatter",
         "x": [
          "2023-03-09",
          "2023-08-17",
          null,
          "2023-06-05",
          "2023-08-10",
          null,
          "2023-06-09",
          "2023-08-17",
          null,
          "2023-06-22",
          "2023-09-14",
          null,
          "2023-07-06",
          "2023-09-14",
          null,
          "2023-07-22",
          "2023-09-07",
          null,
          "2023-07-28",
          "2023-09-14",
          null,
          "2023-08-03",
          "2023-09-14",
          null
         ],
         "xaxis": "x",
         "y": [
          0,
          1,
          null,
          1,
          2,
          null,
          2,
          3,
          null,
          3,
          4,
          null,
          4,
          5,
          null,
          5,
          6,
          null,
          6,
          7,
          null,
          7,
          8,
          null
         ],
         "yaxis": "y"
        },
        {
         "customdata": [
          [
           2.25,
           "L1",
           "2023-03-09",
           "2023-03-14",
           0
          ],
          [
           2.25,
           "L1",
           "2023-03-09",
           "2023-03-14",
           2.25
          ],
          [
           2.25,
           null,
           null,
           null,
           null
          ]
         ],
         "hovertemplate": "Date Range: %{customdata[2]} to %{customdata[3]}<br>Progress in period: %{customdata[0]:.2f} %<br>Cumulative Progress: %{customdata[4]:.2f} %<br>Level: %{customdata[1]}",
         "legendgroup": "2.25",
         "line": {
          "color": "#ff2000",
          "dash": "solid",
          "width": 5
         },
         "marker": {
          "symbol": "circle"
         },
         "mode": "lines",
         "name": "",
         "orientation": "v",
         "showlegend": true,
         "type": "scatter",
         "x": [
          "2023-03-09",
          "2023-03-14",
          null
         ],
         "xaxis": "x",
         "y": [
          0,
          0.031055900621118012,
          null
         ],
         "yaxis": "y"
        },
        {
         "customdata": [
          [
           3.041666666666667,
           "L1",
           "2023-03-16",
           "2023-03-20",
           2.25
          ],
          [
           3.041666666666667,
           "L1",
           "2023-03-16",
           "2023-03-20",
           5.291666666666667
          ],
          [
           3.041666666666667,
           null,
           null,
           null,
           null
          ],
          [
           3.041666666666667,
           "L1",
           "2023-03-20",
           "2023-03-23",
           5.291666666666667
          ],
          [
           3.041666666666667,
           "L1",
           "2023-03-20",
           "2023-03-23",
           8.333333333333334
          ],
          [
           3.041666666666667,
           null,
           null,
           null,
           null
          ]
         ],
         "hovertemplate": "Date Range: %{customdata[2]} to %{customdata[3]}<br>Progress in period: %{customdata[0]:.2f} %<br>Cumulative Progress: %{customdata[4]:.2f} %<br>Level: %{customdata[1]}",
         "legendgroup": "3.041666666666667",
         "line": {
          "color": "#ff2b00",
          "dash": "solid",
          "width": 5
         },
         "marker": {
          "symbol": "circle"
         },
         "mode": "lines",
         "name": "",
         "orientation": "v",
         "showlegend": true,
         "type": "scatter",
         "x": [
          "2023-03-16",
          "2023-03-20",
          null,
          "2023-03-20",
          "2023-03-23",
          null
         ],
         "xaxis": "x",
         "y": [
          0.043478260869565216,
          0.06832298136645963,
          null,
          0.06832298136645963,
          0.08695652173913043,
          null
         ],
         "yaxis": "y"
        },
        {
         "customdata": [
          [
           4.666666666666666,
           "L1",
           "2023-03-30",
           "2023-03-31",
           8.333333333333334
          ],
          [
           4.666666666666666,
           "L1",
           "2023-03-30",
           "2023-03-31",
           13
          ],
          [
           4.666666666666666,
           null,
           null,
           null,
           null
          ]
         ],
         "hovertemplate": "Date Range: %{customdata[2]} to %{customdata[3]}<br>Progress in period: %{customdata[0]:.2f} %<br>Cumulative Progress: %{customdata[4]:.2f} %<br>Level: %{customdata[1]}",
         "legendgroup": "4.666666666666666",
         "line": {
          "color": "#ff4200",
          "dash": "solid",
          "width": 5
         },
         "marker": {
          "symbol": "circle"
         },
         "mode": "lines",
         "name": "",
         "orientation": "v",
         "showlegend": true,
         "type": "scatter",
         "x": [
          "2023-03-30",
          "2023-03-31",
          null
         ],
         "xaxis": "x",
         "y": [
          0.13043478260869565,
          0.13664596273291926,
          null
         ],
         "yaxis": "y"
        },
        {
         "customdata": [
          [
           2.5,
           "L1",
           "2023-03-31",
           "2023-04-04",
           13
          ],
          [
           2.5,
           "L1",
           "2023-03-31",
           "2023-04-04",
           15.5
          ],
          [
           2.5,
           null,
           null,
           null,
           null
          ]
         ],
         "hovertemplate": "Date Range: %{customdata[2]} to %{customdata[3]}<br>Progress in period: %{customdata[0]:.2f} %<br>Cumulative Progress: %{customdata[4]:.2f} %<br>Level: %{customdata[1]}",
         "legendgroup": "2.5",
         "line": {
          "color": "#ff2300",
          "dash": "solid",
          "width": 5
         },
         "marker": {
          "symbol": "circle"
         },
         "mode": "lines",
         "name": "",
         "orientation": "v",
         "showlegend": true,
         "type": "scatter",
         "x": [
          "2023-03-31",
          "2023-04-04",
          null
         ],
         "xaxis": "x",
         "y": [
          0.13664596273291926,
          0.16149068322981366,
          null
         ],
         "yaxis": "y"
        },
        {
         "customdata": [
          [
           1.0833333333333321,
           "L1",
           "2023-04-04",
           "2023-04-06",
           15.5
          ],
          [
           1.0833333333333321,
           "L1",
           "2023-04-04",
           "2023-04-06",
           16.583333333333332
          ],
          [
           1.0833333333333321,
           null,
           null,
           null,
           null
          ]
         ],
         "hovertemplate": "Date Range: %{customdata[2]} to %{customdata[3]}<br>Progress in period: %{customdata[0]:.2f} %<br>Cumulative Progress: %{customdata[4]:.2f} %<br>Level: %{customdata[1]}",
         "legendgroup": "1.0833333333333321",
         "line": {
          "color": "#ff0f00",
          "dash": "solid",
          "width": 5
         },
         "marker": {
          "symbol": "circle"
         },
         "mode": "lines",
         "name": "",
         "orientation": "v",
         "showlegend": true,
         "type": "scatter",
         "x": [
          "2023-04-04",
          "2023-04-06",
          null
         ],
         "xaxis": "x",
         "y": [
          0.16149068322981366,
          0.17391304347826086,
          null
         ],
         "yaxis": "y"
        },
        {
         "customdata": [
          [
           0.0833333333333357,
           "L1",
           "2023-04-12",
           "2023-04-15",
           16.583333333333332
          ],
          [
           0.0833333333333357,
           "L1",
           "2023-04-12",
           "2023-04-15",
           16.666666666666668
          ],
          [
           0.0833333333333357,
           null,
           null,
           null,
           null
          ]
         ],
         "hovertemplate": "Date Range: %{customdata[2]} to %{customdata[3]}<br>Progress in period: %{customdata[0]:.2f} %<br>Cumulative Progress: %{customdata[4]:.2f} %<br>Level: %{customdata[1]}",
         "legendgroup": "0.0833333333333357",
         "line": {
          "color": "#ff0100",
          "dash": "solid",
          "width": 5
         },
         "marker": {
          "symbol": "circle"
         },
         "mode": "lines",
         "name": "",
         "orientation": "v",
         "showlegend": true,
         "type": "scatter",
         "x": [
          "2023-04-12",
          "2023-04-15",
          null
         ],
         "xaxis": "x",
         "y": [
          0.2111801242236025,
          0.22981366459627328,
          null
         ],
         "yaxis": "y"
        },
        {
         "customdata": [
          [
           4.125,
           "L1",
           "2023-05-13",
           "2023-05-18",
           16.666666666666668
          ],
          [
           4.125,
           "L1",
           "2023-05-13",
           "2023-05-18",
           20.791666666666668
          ],
          [
           4.125,
           null,
           null,
           null,
           null
          ]
         ],
         "hovertemplate": "Date Range: %{customdata[2]} to %{customdata[3]}<br>Progress in period: %{customdata[0]:.2f} %<br>Cumulative Progress: %{customdata[4]:.2f} %<br>Level: %{customdata[1]}",
         "legendgroup": "4.125",
         "line": {
          "color": "#ff3a00",
          "dash": "solid",
          "width": 5
         },
         "marker": {
          "symbol": "circle"
         },
         "mode": "lines",
         "name": "",
         "orientation": "v",
         "showlegend": true,
         "type": "scatter",
         "x": [
          "2023-05-13",
          "2023-05-18",
          null
         ],
         "xaxis": "x",
         "y": [
          0.40372670807453415,
          0.43478260869565216,
          null
         ],
         "yaxis": "y"
        },
        {
         "customdata": [
          [
           40.79166666666667,
           "L1",
           "2023-06-05",
           "2023-06-07",
           20.791666666666668
          ],
          [
           40.79166666666667,
           "L1",
           "2023-06-05",
           "2023-06-07",
           61.583333333333336
          ],
          [
           40.79166666666667,
           null,
           null,
           null,
           null
          ]
         ],
         "hovertemplate": "Date Range: %{customdata[2]} to %{customdata[3]}<br>Progress in period: %{customdata[0]:.2f} %<br>Cumulative Progress: %{customdata[4]:.2f} %<br>Level: %{customdata[1]}",
         "legendgroup": "40.79166666666667",
         "line": {
          "color": "#34eb00",
          "dash": "solid",
          "width": 5
         },
         "marker": {
          "symbol": "circle"
         },
         "mode": "lines",
         "name": "",
         "orientation": "v",
         "showlegend": true,
         "type": "scatter",
         "x": [
          "2023-06-05",
          "2023-06-07",
          null
         ],
         "xaxis": "x",
         "y": [
          0.546583850931677,
          0.5590062111801242,
          null
         ],
         "yaxis": "y"
        },
        {
         "customdata": [
          [
           0.5416666666666643,
           "L1",
           "2023-06-20",
           "2023-06-22",
           61.583333333333336
          ],
          [
           0.5416666666666643,
           "L1",
           "2023-06-20",
           "2023-06-22",
           62.125
          ],
          [
           0.5416666666666643,
           null,
           null,
           null,
           null
          ]
         ],
         "hovertemplate": "Date Range: %{customdata[2]} to %{customdata[3]}<br>Progress in period: %{customdata[0]:.2f} %<br>Cumulative Progress: %{customdata[4]:.2f} %<br>Level: %{customdata[1]}",
         "legendgroup": "0.5416666666666643",
         "line": {
          "color": "#ff0800",
          "dash": "solid",
          "width": 5
         },
         "marker": {
          "symbol": "circle"
         },
         "mode": "lines",
         "name": "",
         "orientation": "v",
         "showlegend": true,
         "type": "scatter",
         "x": [
          "2023-06-20",
          "2023-06-22",
          null
         ],
         "xaxis": "x",
         "y": [
          0.639751552795031,
          0.6521739130434783,
          null
         ],
         "yaxis": "y"
        },
        {
         "customdata": [
          [
           3.5833333333333286,
           "L1",
           "2023-06-22",
           "2023-06-30",
           62.125
          ],
          [
           3.5833333333333286,
           "L1",
           "2023-06-22",
           "2023-06-30",
           65.70833333333333
          ],
          [
           3.5833333333333286,
           null,
           null,
           null,
           null
          ]
         ],
         "hovertemplate": "Date Range: %{customdata[2]} to %{customdata[3]}<br>Progress in period: %{customdata[0]:.2f} %<br>Cumulative Progress: %{customdata[4]:.2f} %<br>Level: %{customdata[1]}",
         "legendgroup": "3.5833333333333286",
         "line": {
          "color": "#ff3300",
          "dash": "solid",
          "width": 5
         },
         "marker": {
          "symbol": "circle"
         },
         "mode": "lines",
         "name": "",
         "orientation": "v",
         "showlegend": true,
         "type": "scatter",
         "x": [
          "2023-06-22",
          "2023-06-30",
          null
         ],
         "xaxis": "x",
         "y": [
          0.6521739130434783,
          0.7018633540372671,
          null
         ],
         "yaxis": "y"
        },
        {
         "customdata": [
          [
           0.125,
           "L1",
           "2023-06-30",
           "2023-07-06",
           65.70833333333333
          ],
          [
           0.125,
           "L1",
           "2023-06-30",
           "2023-07-06",
           65.83333333333333
          ],
          [
           0.125,
           null,
           null,
           null,
           null
          ],
          [
           0.125,
           "L1",
           "2023-08-10",
           "2023-08-17",
           99.75
          ],
          [
           0.125,
           "L1",
           "2023-08-10",
           "2023-08-17",
           99.875
          ],
          [
           0.125,
           null,
           null,
           null,
           null
          ]
         ],
         "hovertemplate": "Date Range: %{customdata[2]} to %{customdata[3]}<br>Progress in period: %{customdata[0]:.2f} %<br>Cumulative Progress: %{customdata[4]:.2f} %<br>Level: %{customdata[1]}",
         "legendgroup": "0.125",
         "line": {
          "color": "#ff0200",
          "dash": "solid",
          "width": 5
         },
         "marker": {
          "symbol": "circle"
         },
         "mode": "lines",
         "name": "",
         "orientation": "v",
         "showlegend": true,
         "type": "scatter",
         "x": [
          "2023-06-30",
          "2023-07-06",
          null,
          "2023-08-10",
          "2023-08-17",
          null
         ],
         "xaxis": "x",
         "y": [
          0.7018633540372671,
          0.7391304347826086,
          null,
          0.9565217391304348,
          1,
          null
         ],
         "yaxis": "y"
        },
        {
         "customdata": [
          [
           0.4583333333333428,
           "L1",
           "2023-07-06",
           "2023-07-13",
           65.83333333333333
          ],
          [
           0.4583333333333428,
           "L1",
           "2023-07-06",
           "2023-07-13",
           66.29166666666667
          ],
          [
           0.4583333333333428,
           null,
           null,
           null,
           null
          ]
         ],
         "hovertemplate": "Date Range: %{customdata[2]} to %{customdata[3]}<br>Progress in period: %{customdata[0]:.2f} %<br>Cumulative Progress: %{customdata[4]:.2f} %<br>Level: %{customdata[1]}",
         "legendgroup": "0.4583333333333428",
         "line": {
          "color": "#ff0600",
          "dash": "solid",
          "width": 5
         },
         "marker": {
          "symbol": "circle"
         },
         "mode": "lines",
         "name": "",
         "orientation": "v",
         "showlegend": true,
         "type": "scatter",
         "x": [
          "2023-07-06",
          "2023-07-13",
          null
         ],
         "xaxis": "x",
         "y": [
          0.7391304347826086,
          0.782608695652174,
          null
         ],
         "yaxis": "y"
        },
        {
         "customdata": [
          [
           20,
           "L1",
           "2023-07-27",
           "2023-07-28",
           66.29166666666667
          ],
          [
           20,
           "L1",
           "2023-07-27",
           "2023-07-28",
           86.29166666666667
          ],
          [
           20,
           null,
           null,
           null,
           null
          ]
         ],
         "hovertemplate": "Date Range: %{customdata[2]} to %{customdata[3]}<br>Progress in period: %{customdata[0]:.2f} %<br>Cumulative Progress: %{customdata[4]:.2f} %<br>Level: %{customdata[1]}",
         "legendgroup": "20.0",
         "line": {
          "color": "#bbdc00",
          "dash": "solid",
          "width": 5
         },
         "marker": {
          "symbol": "circle"
         },
         "mode": "lines",
         "name": "",
         "orientation": "v",
         "showlegend": true,
         "type": "scatter",
         "x": [
          "2023-07-27",
          "2023-07-28",
          null
         ],
         "xaxis": "x",
         "y": [
          0.8695652173913043,
          0.8757763975155279,
          null
         ],
         "yaxis": "y"
        },
        {
         "customdata": [
          [
           13.291666666666657,
           "L1",
           "2023-07-28",
           "2023-08-03",
           86.29166666666667
          ],
          [
           13.291666666666657,
           "L1",
           "2023-07-28",
           "2023-08-03",
           99.58333333333333
          ],
          [
           13.291666666666657,
           null,
           null,
           null,
           null
          ]
         ],
         "hovertemplate": "Date Range: %{customdata[2]} to %{customdata[3]}<br>Progress in period: %{customdata[0]:.2f} %<br>Cumulative Progress: %{customdata[4]:.2f} %<br>Level: %{customdata[1]}",
         "legendgroup": "13.291666666666657",
         "line": {
          "color": "#ffbc00",
          "dash": "solid",
          "width": 5
         },
         "marker": {
          "symbol": "circle"
         },
         "mode": "lines",
         "name": "",
         "orientation": "v",
         "showlegend": true,
         "type": "scatter",
         "x": [
          "2023-07-28",
          "2023-08-03",
          null
         ],
         "xaxis": "x",
         "y": [
          0.8757763975155279,
          0.9130434782608695,
          null
         ],
         "yaxis": "y"
        },
        {
         "customdata": [
          [
           0.1666666666666714,
           "L1",
           "2023-08-03",
           "2023-08-10",
           99.58333333333333
          ],
          [
           0.1666666666666714,
           "L1",
           "2023-08-03",
           "2023-08-10",
           99.75
          ],
          [
           0.1666666666666714,
           null,
           null,
           null,
           null
          ]
         ],
         "hovertemplate": "Date Range: %{customdata[2]} to %{customdata[3]}<br>Progress in period: %{customdata[0]:.2f} %<br>Cumulative Progress: %{customdata[4]:.2f} %<br>Level: %{customdata[1]}",
         "legendgroup": "0.1666666666666714",
         "line": {
          "color": "#ff0200",
          "dash": "solid",
          "width": 5
         },
         "marker": {
          "symbol": "circle"
         },
         "mode": "lines",
         "name": "",
         "orientation": "v",
         "showlegend": true,
         "type": "scatter",
         "x": [
          "2023-08-03",
          "2023-08-10",
          null
         ],
         "xaxis": "x",
         "y": [
          0.9130434782608695,
          0.9565217391304348,
          null
         ],
         "yaxis": "y"
        },
        {
         "customdata": [
          [
           50.958333333333336,
           "L2",
           "2023-06-05",
           "2023-06-07",
           0
          ],
          [
           50.958333333333336,
           "L2",
           "2023-06-05",
           "2023-06-07",
           50.958333333333336
          ],
          [
           50.958333333333336,
           null,
           null,
           null,
           null
          ]
         ],
         "hovertemplate": "Date Range: %{customdata[2]} to %{customdata[3]}<br>Progress in period: %{customdata[0]:.2f} %<br>Cumulative Progress: %{customdata[4]:.2f} %<br>Level: %{customdata[1]}",
         "legendgroup": "50.958333333333336",
         "line": {
          "color": "#34eb00",
          "dash": "solid",
          "width": 5
         },
         "marker": {
          "symbol": "circle"
         },
         "mode": "lines",
         "name": "",
         "orientation": "v",
         "showlegend": true,
         "type": "scatter",
         "x": [
          "2023-06-05",
          "2023-06-07",
          null
         ],
         "xaxis": "x",
         "y": [
          1,
          1.0303030303030303,
          null
         ],
         "yaxis": "y"
        },
        {
         "customdata": [
          [
           18.791666666666664,
           "L2",
           "2023-06-09",
           "2023-06-15",
           50.958333333333336
          ],
          [
           18.791666666666664,
           "L2",
           "2023-06-09",
           "2023-06-15",
           69.75
          ],
          [
           18.791666666666664,
           null,
           null,
           null,
           null
          ]
         ],
         "hovertemplate": "Date Range: %{customdata[2]} to %{customdata[3]}<br>Progress in period: %{customdata[0]:.2f} %<br>Cumulative Progress: %{customdata[4]:.2f} %<br>Level: %{customdata[1]}",
         "legendgroup": "18.791666666666664",
         "line": {
          "color": "#ccda00",
          "dash": "solid",
          "width": 5
         },
         "marker": {
          "symbol": "circle"
         },
         "mode": "lines",
         "name": "",
         "orientation": "v",
         "showlegend": true,
         "type": "scatter",
         "x": [
          "2023-06-09",
          "2023-06-15",
          null
         ],
         "xaxis": "x",
         "y": [
          1.0606060606060606,
          1.1515151515151516,
          null
         ],
         "yaxis": "y"
        },
        {
         "customdata": [
          [
           0.6666666666666714,
           "L2",
           "2023-06-20",
           "2023-06-22",
           69.75
          ],
          [
           0.6666666666666714,
           "L2",
           "2023-06-20",
           "2023-06-22",
           70.41666666666667
          ],
          [
           0.6666666666666714,
           null,
           null,
           null,
           null
          ]
         ],
         "hovertemplate": "Date Range: %{customdata[2]} to %{customdata[3]}<br>Progress in period: %{customdata[0]:.2f} %<br>Cumulative Progress: %{customdata[4]:.2f} %<br>Level: %{customdata[1]}",
         "legendgroup": "0.6666666666666714",
         "line": {
          "color": "#ff0900",
          "dash": "solid",
          "width": 5
         },
         "marker": {
          "symbol": "circle"
         },
         "mode": "lines",
         "name": "",
         "orientation": "v",
         "showlegend": true,
         "type": "scatter",
         "x": [
          "2023-06-20",
          "2023-06-22",
          null
         ],
         "xaxis": "x",
         "y": [
          1.2272727272727273,
          1.2575757575757576,
          null
         ],
         "yaxis": "y"
        },
        {
         "customdata": [
          [
           6.583333333333329,
           "L2",
           "2023-06-22",
           "2023-06-30",
           70.41666666666667
          ],
          [
           6.583333333333329,
           "L2",
           "2023-06-22",
           "2023-06-30",
           77
          ],
          [
           6.583333333333329,
           null,
           null,
           null,
           null
          ]
         ],
         "hovertemplate": "Date Range: %{customdata[2]} to %{customdata[3]}<br>Progress in period: %{customdata[0]:.2f} %<br>Cumulative Progress: %{customdata[4]:.2f} %<br>Level: %{customdata[1]}",
         "legendgroup": "6.583333333333329",
         "line": {
          "color": "#ff5d00",
          "dash": "solid",
          "width": 5
         },
         "marker": {
          "symbol": "circle"
         },
         "mode": "lines",
         "name": "",
         "orientation": "v",
         "showlegend": true,
         "type": "scatter",
         "x": [
          "2023-06-22",
          "2023-06-30",
          null
         ],
         "xaxis": "x",
         "y": [
          1.2575757575757576,
          1.378787878787879,
          null
         ],
         "yaxis": "y"
        },
        {
         "customdata": [
          [
           2.9583333333333286,
           "L2",
           "2023-06-30",
           "2023-07-06",
           77
          ],
          [
           2.9583333333333286,
           "L2",
           "2023-06-30",
           "2023-07-06",
           79.95833333333333
          ],
          [
           2.9583333333333286,
           null,
           null,
           null,
           null
          ]
         ],
         "hovertemplate": "Date Range: %{customdata[2]} to %{customdata[3]}<br>Progress in period: %{customdata[0]:.2f} %<br>Cumulative Progress: %{customdata[4]:.2f} %<br>Level: %{customdata[1]}",
         "legendgroup": "2.9583333333333286",
         "line": {
          "color": "#ff2a00",
          "dash": "solid",
          "width": 5
         },
         "marker": {
          "symbol": "circle"
         },
         "mode": "lines",
         "name": "",
         "orientation": "v",
         "showlegend": true,
         "type": "scatter",
         "x": [
          "2023-06-30",
          "2023-07-06",
          null
         ],
         "xaxis": "x",
         "y": [
          1.378787878787879,
          1.4696969696969697,
          null
         ],
         "yaxis": "y"
        },
        {
         "customdata": [
          [
           1.4166666666666714,
           "L2",
           "2023-07-06",
           "2023-07-13",
           79.95833333333333
          ],
          [
           1.4166666666666714,
           "L2",
           "2023-07-06",
           "2023-07-13",
           81.375
          ],
          [
           1.4166666666666714,
           null,
           null,
           null,
           null
          ]
         ],
         "hovertemplate": "Date Range: %{customdata[2]} to %{customdata[3]}<br>Progress in period: %{customdata[0]:.2f} %<br>Cumulative Progress: %{customdata[4]:.2f} %<br>Level: %{customdata[1]}",
         "legendgroup": "1.4166666666666714",
         "line": {
          "color": "#ff1400",
          "dash": "solid",
          "width": 5
         },
         "marker": {
          "symbol": "circle"
         },
         "mode": "lines",
         "name": "",
         "orientation": "v",
         "showlegend": true,
         "type": "scatter",
         "x": [
          "2023-07-06",
          "2023-07-13",
          null
         ],
         "xaxis": "x",
         "y": [
          1.4696969696969697,
          1.5757575757575757,
          null
         ],
         "yaxis": "y"
        },
        {
         "customdata": [
          [
           8.541666666666671,
           "L2",
           "2023-07-27",
           "2023-07-28",
           81.375
          ],
          [
           8.541666666666671,
           "L2",
           "2023-07-27",
           "2023-07-28",
           89.91666666666667
          ],
          [
           8.541666666666671,
           null,
           null,
           null,
           null
          ]
         ],
         "hovertemplate": "Date Range: %{customdata[2]} to %{customdata[3]}<br>Progress in period: %{customdata[0]:.2f} %<br>Cumulative Progress: %{customdata[4]:.2f} %<br>Level: %{customdata[1]}",
         "legendgroup": "8.541666666666671",
         "line": {
          "color": "#ff7900",
          "dash": "solid",
          "width": 5
         },
         "marker": {
          "symbol": "circle"
         },
         "mode": "lines",
         "name": "",
         "orientation": "v",
         "showlegend": true,
         "type": "scatter",
         "x": [
          "2023-07-27",
          "2023-07-28",
          null
         ],
         "xaxis": "x",
         "y": [
          1.7878787878787878,
          1.803030303030303,
          null
         ],
         "yaxis": "y"
        },
        {
         "customdata": [
          [
           9.541666666666657,
           "L2",
           "2023-07-28",
           "2023-08-03",
           89.91666666666667
          ],
          [
           9.541666666666657,
           "L2",
           "2023-07-28",
           "2023-08-03",
           99.45833333333333
          ],
          [
           9.541666666666657,
           null,
           null,
           null,
           null
          ]
         ],
         "hovertemplate": "Date Range: %{customdata[2]} to %{customdata[3]}<br>Progress in period: %{customdata[0]:.2f} %<br>Cumulative Progress: %{customdata[4]:.2f} %<br>Level: %{customdata[1]}",
         "legendgroup": "9.541666666666657",
         "line": {
          "color": "#ff8700",
          "dash": "solid",
          "width": 5
         },
         "marker": {
          "symbol": "circle"
         },
         "mode": "lines",
         "name": "",
         "orientation": "v",
         "showlegend": true,
         "type": "scatter",
         "x": [
          "2023-07-28",
          "2023-08-03",
          null
         ],
         "xaxis": "x",
         "y": [
          1.803030303030303,
          1.893939393939394,
          null
         ],
         "yaxis": "y"
        },
        {
         "customdata": [
          [
           0.2083333333333428,
           "L2",
           "2023-08-03",
           "2023-08-10",
           99.45833333333333
          ],
          [
           0.2083333333333428,
           "L2",
           "2023-08-03",
           "2023-08-10",
           99.66666666666667
          ],
          [
           0.2083333333333428,
           null,
           null,
           null,
           null
          ]
         ],
         "hovertemplate": "Date Range: %{customdata[2]} to %{customdata[3]}<br>Progress in period: %{customdata[0]:.2f} %<br>Cumulative Progress: %{customdata[4]:.2f} %<br>Level: %{customdata[1]}",
         "legendgroup": "0.2083333333333428",
         "line": {
          "color": "#ff0300",
          "dash": "solid",
          "width": 5
         },
         "marker": {
          "symbol": "circle"
         },
         "mode": "lines",
         "name": "",
         "orientation": "v",
         "showlegend": true,
         "type": "scatter",
         "x": [
          "2023-08-03",
          "2023-08-10",
          null
         ],
         "xaxis": "x",
         "y": [
          1.893939393939394,
          2,
          null
         ],
         "yaxis": "y"
        },
        {
         "customdata": [
          [
           34.916666666666664,
           "L3",
           "2023-06-09",
           "2023-06-15",
           0
          ],
          [
           34.916666666666664,
           "L3",
           "2023-06-09",
           "2023-06-15",
           34.916666666666664
          ],
          [
           34.916666666666664,
           null,
           null,
           null,
           null
          ]
         ],
         "hovertemplate": "Date Range: %{customdata[2]} to %{customdata[3]}<br>Progress in period: %{customdata[0]:.2f} %<br>Cumulative Progress: %{customdata[4]:.2f} %<br>Level: %{customdata[1]}",
         "legendgroup": "34.916666666666664",
         "line": {
          "color": "#34eb00",
          "dash": "solid",
          "width": 5
         },
         "marker": {
          "symbol": "circle"
         },
         "mode": "lines",
         "name": "",
         "orientation": "v",
         "showlegend": true,
         "type": "scatter",
         "x": [
          "2023-06-09",
          "2023-06-15",
          null
         ],
         "xaxis": "x",
         "y": [
          2,
          2.0869565217391304,
          null
         ],
         "yaxis": "y"
        },
        {
         "customdata": [
          [
           22.41666666666667,
           "L3",
           "2023-06-22",
           "2023-06-30",
           34.916666666666664
          ],
          [
           22.41666666666667,
           "L3",
           "2023-06-22",
           "2023-06-30",
           57.333333333333336
          ],
          [
           22.41666666666667,
           null,
           null,
           null,
           null
          ]
         ],
         "hovertemplate": "Date Range: %{customdata[2]} to %{customdata[3]}<br>Progress in period: %{customdata[0]:.2f} %<br>Cumulative Progress: %{customdata[4]:.2f} %<br>Level: %{customdata[1]}",
         "legendgroup": "22.41666666666667",
         "line": {
          "color": "#9bdf00",
          "dash": "solid",
          "width": 5
         },
         "marker": {
          "symbol": "circle"
         },
         "mode": "lines",
         "name": "",
         "orientation": "v",
         "showlegend": true,
         "type": "scatter",
         "x": [
          "2023-06-22",
          "2023-06-30",
          null
         ],
         "xaxis": "x",
         "y": [
          2.1884057971014492,
          2.3043478260869565,
          null
         ],
         "yaxis": "y"
        },
        {
         "customdata": [
          [
           2.4583333333333286,
           "L3",
           "2023-07-06",
           "2023-07-13",
           57.333333333333336
          ],
          [
           2.4583333333333286,
           "L3",
           "2023-07-06",
           "2023-07-13",
           59.791666666666664
          ],
          [
           2.4583333333333286,
           null,
           null,
           null,
           null
          ]
         ],
         "hovertemplate": "Date Range: %{customdata[2]} to %{customdata[3]}<br>Progress in period: %{customdata[0]:.2f} %<br>Cumulative Progress: %{customdata[4]:.2f} %<br>Level: %{customdata[1]}",
         "legendgroup": "2.4583333333333286",
         "line": {
          "color": "#ff2300",
          "dash": "solid",
          "width": 5
         },
         "marker": {
          "symbol": "circle"
         },
         "mode": "lines",
         "name": "",
         "orientation": "v",
         "showlegend": true,
         "type": "scatter",
         "x": [
          "2023-07-06",
          "2023-07-13",
          null
         ],
         "xaxis": "x",
         "y": [
          2.391304347826087,
          2.4927536231884058,
          null
         ],
         "yaxis": "y"
        },
        {
         "customdata": [
          [
           0.1666666666666714,
           "L3",
           "2023-07-22",
           "2023-07-24",
           59.791666666666664
          ],
          [
           0.1666666666666714,
           "L3",
           "2023-07-22",
           "2023-07-24",
           59.958333333333336
          ],
          [
           0.1666666666666714,
           null,
           null,
           null,
           null
          ]
         ],
         "hovertemplate": "Date Range: %{customdata[2]} to %{customdata[3]}<br>Progress in period: %{customdata[0]:.2f} %<br>Cumulative Progress: %{customdata[4]:.2f} %<br>Level: %{customdata[1]}",
         "legendgroup": "0.1666666666666714",
         "line": {
          "color": "#ff0200",
          "dash": "solid",
          "width": 5
         },
         "marker": {
          "symbol": "circle"
         },
         "mode": "lines",
         "name": "",
         "orientation": "v",
         "showlegend": true,
         "type": "scatter",
         "x": [
          "2023-07-22",
          "2023-07-24",
          null
         ],
         "xaxis": "x",
         "y": [
          2.6231884057971016,
          2.6521739130434785,
          null
         ],
         "yaxis": "y"
        },
        {
         "customdata": [
          [
           23.416666666666664,
           "L3",
           "2023-07-27",
           "2023-07-28",
           59.958333333333336
          ],
          [
           23.416666666666664,
           "L3",
           "2023-07-27",
           "2023-07-28",
           83.375
          ],
          [
           23.416666666666664,
           null,
           null,
           null,
           null
          ]
         ],
         "hovertemplate": "Date Range: %{customdata[2]} to %{customdata[3]}<br>Progress in period: %{customdata[0]:.2f} %<br>Cumulative Progress: %{customdata[4]:.2f} %<br>Level: %{customdata[1]}",
         "legendgroup": "23.416666666666664",
         "line": {
          "color": "#8de100",
          "dash": "solid",
          "width": 5
         },
         "marker": {
          "symbol": "circle"
         },
         "mode": "lines",
         "name": "",
         "orientation": "v",
         "showlegend": true,
         "type": "scatter",
         "x": [
          "2023-07-27",
          "2023-07-28",
          null
         ],
         "xaxis": "x",
         "y": [
          2.6956521739130435,
          2.710144927536232,
          null
         ],
         "yaxis": "y"
        },
        {
         "customdata": [
          [
           16.125,
           "L3",
           "2023-07-28",
           "2023-08-03",
           83.375
          ],
          [
           16.125,
           "L3",
           "2023-07-28",
           "2023-08-03",
           99.5
          ],
          [
           16.125,
           null,
           null,
           null,
           null
          ]
         ],
         "hovertemplate": "Date Range: %{customdata[2]} to %{customdata[3]}<br>Progress in period: %{customdata[0]:.2f} %<br>Cumulative Progress: %{customdata[4]:.2f} %<br>Level: %{customdata[1]}",
         "legendgroup": "16.125",
         "line": {
          "color": "#f0d600",
          "dash": "solid",
          "width": 5
         },
         "marker": {
          "symbol": "circle"
         },
         "mode": "lines",
         "name": "",
         "orientation": "v",
         "showlegend": true,
         "type": "scatter",
         "x": [
          "2023-07-28",
          "2023-08-03",
          null
         ],
         "xaxis": "x",
         "y": [
          2.710144927536232,
          2.7971014492753623,
          null
         ],
         "yaxis": "y"
        },
        {
         "customdata": [
          [
           0.2083333333333286,
           "L3",
           "2023-08-03",
           "2023-08-10",
           99.5
          ],
          [
           0.2083333333333286,
           "L3",
           "2023-08-03",
           "2023-08-10",
           99.70833333333333
          ],
          [
           0.2083333333333286,
           null,
           null,
           null,
           null
          ]
         ],
         "hovertemplate": "Date Range: %{customdata[2]} to %{customdata[3]}<br>Progress in period: %{customdata[0]:.2f} %<br>Cumulative Progress: %{customdata[4]:.2f} %<br>Level: %{customdata[1]}",
         "legendgroup": "0.2083333333333286",
         "line": {
          "color": "#ff0300",
          "dash": "solid",
          "width": 5
         },
         "marker": {
          "symbol": "circle"
         },
         "mode": "lines",
         "name": "",
         "orientation": "v",
         "showlegend": true,
         "type": "scatter",
         "x": [
          "2023-08-03",
          "2023-08-10",
          null
         ],
         "xaxis": "x",
         "y": [
          2.7971014492753623,
          2.898550724637681,
          null
         ],
         "yaxis": "y"
        },
        {
         "customdata": [
          [
           0.125,
           "L3",
           "2023-08-10",
           "2023-08-17",
           99.70833333333333
          ],
          [
           0.125,
           "L3",
           "2023-08-10",
           "2023-08-17",
           99.83333333333333
          ],
          [
           0.125,
           null,
           null,
           null,
           null
          ]
         ],
         "hovertemplate": "Date Range: %{customdata[2]} to %{customdata[3]}<br>Progress in period: %{customdata[0]:.2f} %<br>Cumulative Progress: %{customdata[4]:.2f} %<br>Level: %{customdata[1]}",
         "legendgroup": "0.125",
         "line": {
          "color": "#ff0200",
          "dash": "solid",
          "width": 5
         },
         "marker": {
          "symbol": "circle"
         },
         "mode": "lines",
         "name": "",
         "orientation": "v",
         "showlegend": true,
         "type": "scatter",
         "x": [
          "2023-08-10",
          "2023-08-17",
          null
         ],
         "xaxis": "x",
         "y": [
          2.898550724637681,
          3,
          null
         ],
         "yaxis": "y"
        },
        {
         "customdata": [
          [
           28.291666666666668,
           "L4",
           "2023-06-22",
           "2023-06-30",
           0
          ],
          [
           28.291666666666668,
           "L4",
           "2023-06-22",
           "2023-06-30",
           28.291666666666668
          ],
          [
           28.291666666666668,
           null,
           null,
           null,
           null
          ]
         ],
         "hovertemplate": "Date Range: %{customdata[2]} to %{customdata[3]}<br>Progress in period: %{customdata[0]:.2f} %<br>Cumulative Progress: %{customdata[4]:.2f} %<br>Level: %{customdata[1]}",
         "legendgroup": "28.291666666666668",
         "line": {
          "color": "#4be800",
          "dash": "solid",
          "width": 5
         },
         "marker": {
          "symbol": "circle"
         },
         "mode": "lines",
         "name": "",
         "orientation": "v",
         "showlegend": true,
         "type": "scatter",
         "x": [
          "2023-06-22",
          "2023-06-30",
          null
         ],
         "xaxis": "x",
         "y": [
          3,
          3.0952380952380953,
          null
         ],
         "yaxis": "y"
        },
        {
         "customdata": [
          [
           29.958333333333332,
           "L4",
           "2023-06-30",
           "2023-07-06",
           28.291666666666668
          ],
          [
           29.958333333333332,
           "L4",
           "2023-06-30",
           "2023-07-06",
           58.25
          ],
          [
           29.958333333333332,
           null,
           null,
           null,
           null
          ]
         ],
         "hovertemplate": "Date Range: %{customdata[2]} to %{customdata[3]}<br>Progress in period: %{customdata[0]:.2f} %<br>Cumulative Progress: %{customdata[4]:.2f} %<br>Level: %{customdata[1]}",
         "legendgroup": "29.958333333333332",
         "line": {
          "color": "#35eb00",
          "dash": "solid",
          "width": 5
         },
         "marker": {
          "symbol": "circle"
         },
         "mode": "lines",
         "name": "",
         "orientation": "v",
         "showlegend": true,
         "type": "scatter",
         "x": [
          "2023-06-30",
          "2023-07-06",
          null
         ],
         "xaxis": "x",
         "y": [
          3.0952380952380953,
          3.1666666666666665,
          null
         ],
         "yaxis": "y"
        },
        {
         "customdata": [
          [
           15.583333333333329,
           "L4",
           "2023-07-06",
           "2023-07-13",
           58.25
          ],
          [
           15.583333333333329,
           "L4",
           "2023-07-06",
           "2023-07-13",
           73.83333333333333
          ],
          [
           15.583333333333329,
           null,
           null,
           null,
           null
          ]
         ],
         "hovertemplate": "Date Range: %{customdata[2]} to %{customdata[3]}<br>Progress in period: %{customdata[0]:.2f} %<br>Cumulative Progress: %{customdata[4]:.2f} %<br>Level: %{customdata[1]}",
         "legendgroup": "15.583333333333329",
         "line": {
          "color": "#f7d500",
          "dash": "solid",
          "width": 5
         },
         "marker": {
          "symbol": "circle"
         },
         "mode": "lines",
         "name": "",
         "orientation": "v",
         "showlegend": true,
         "type": "scatter",
         "x": [
          "2023-07-06",
          "2023-07-13",
          null
         ],
         "xaxis": "x",
         "y": [
          3.1666666666666665,
          3.25,
          null
         ],
         "yaxis": "y"
        },
        {
         "customdata": [
          [
           15.208333333333343,
           "L4",
           "2023-07-27",
           "2023-07-28",
           73.83333333333333
          ],
          [
           15.208333333333343,
           "L4",
           "2023-07-27",
           "2023-07-28",
           89.04166666666667
          ],
          [
           15.208333333333343,
           null,
           null,
           null,
           null
          ]
         ],
         "hovertemplate": "Date Range: %{customdata[2]} to %{customdata[3]}<br>Progress in period: %{customdata[0]:.2f} %<br>Cumulative Progress: %{customdata[4]:.2f} %<br>Level: %{customdata[1]}",
         "legendgroup": "15.208333333333343",
         "line": {
          "color": "#fcd400",
          "dash": "solid",
          "width": 5
         },
         "marker": {
          "symbol": "circle"
         },
         "mode": "lines",
         "name": "",
         "orientation": "v",
         "showlegend": true,
         "type": "scatter",
         "x": [
          "2023-07-27",
          "2023-07-28",
          null
         ],
         "xaxis": "x",
         "y": [
          3.4166666666666665,
          3.4285714285714284,
          null
         ],
         "yaxis": "y"
        },
        {
         "customdata": [
          [
           10.541666666666657,
           "L4",
           "2023-07-28",
           "2023-08-03",
           89.04166666666667
          ],
          [
           10.541666666666657,
           "L4",
           "2023-07-28",
           "2023-08-03",
           99.58333333333333
          ],
          [
           10.541666666666657,
           null,
           null,
           null,
           null
          ]
         ],
         "hovertemplate": "Date Range: %{customdata[2]} to %{customdata[3]}<br>Progress in period: %{customdata[0]:.2f} %<br>Cumulative Progress: %{customdata[4]:.2f} %<br>Level: %{customdata[1]}",
         "legendgroup": "10.541666666666657",
         "line": {
          "color": "#ff9500",
          "dash": "solid",
          "width": 5
         },
         "marker": {
          "symbol": "circle"
         },
         "mode": "lines",
         "name": "",
         "orientation": "v",
         "showlegend": true,
         "type": "scatter",
         "x": [
          "2023-07-28",
          "2023-08-03",
          null
         ],
         "xaxis": "x",
         "y": [
          3.4285714285714284,
          3.5,
          null
         ],
         "yaxis": "y"
        },
        {
         "customdata": [
          [
           0.1666666666666714,
           "L4",
           "2023-08-03",
           "2023-08-10",
           99.58333333333333
          ],
          [
           0.1666666666666714,
           "L4",
           "2023-08-03",
           "2023-08-10",
           99.75
          ],
          [
           0.1666666666666714,
           null,
           null,
           null,
           null
          ]
         ],
         "hovertemplate": "Date Range: %{customdata[2]} to %{customdata[3]}<br>Progress in period: %{customdata[0]:.2f} %<br>Cumulative Progress: %{customdata[4]:.2f} %<br>Level: %{customdata[1]}",
         "legendgroup": "0.1666666666666714",
         "line": {
          "color": "#ff0200",
          "dash": "solid",
          "width": 5
         },
         "marker": {
          "symbol": "circle"
         },
         "mode": "lines",
         "name": "",
         "orientation": "v",
         "showlegend": true,
         "type": "scatter",
         "x": [
          "2023-08-03",
          "2023-08-10",
          null
         ],
         "xaxis": "x",
         "y": [
          3.5,
          3.5833333333333335,
          null
         ],
         "yaxis": "y"
        },
        {
         "customdata": [
          [
           0.125,
           "L4",
           "2023-08-10",
           "2023-08-17",
           99.75
          ],
          [
           0.125,
           "L4",
           "2023-08-10",
           "2023-08-17",
           99.875
          ],
          [
           0.125,
           null,
           null,
           null,
           null
          ]
         ],
         "hovertemplate": "Date Range: %{customdata[2]} to %{customdata[3]}<br>Progress in period: %{customdata[0]:.2f} %<br>Cumulative Progress: %{customdata[4]:.2f} %<br>Level: %{customdata[1]}",
         "legendgroup": "0.125",
         "line": {
          "color": "#ff0200",
          "dash": "solid",
          "width": 5
         },
         "marker": {
          "symbol": "circle"
         },
         "mode": "lines",
         "name": "",
         "orientation": "v",
         "showlegend": true,
         "type": "scatter",
         "x": [
          "2023-08-10",
          "2023-08-17",
          null
         ],
         "xaxis": "x",
         "y": [
          3.5833333333333335,
          3.6666666666666665,
          null
         ],
         "yaxis": "y"
        },
        {
         "customdata": [
          [
           0.041666666666671404,
           "L4",
           "2023-09-07",
           "2023-09-14",
           99.875
          ],
          [
           0.041666666666671404,
           "L4",
           "2023-09-07",
           "2023-09-14",
           99.91666666666667
          ],
          [
           0.041666666666671404,
           null,
           null,
           null,
           null
          ]
         ],
         "hovertemplate": "Date Range: %{customdata[2]} to %{customdata[3]}<br>Progress in period: %{customdata[0]:.2f} %<br>Cumulative Progress: %{customdata[4]:.2f} %<br>Level: %{customdata[1]}",
         "legendgroup": "0.041666666666671404",
         "line": {
          "color": "#ff0100",
          "dash": "solid",
          "width": 5
         },
         "marker": {
          "symbol": "circle"
         },
         "mode": "lines",
         "name": "",
         "orientation": "v",
         "showlegend": true,
         "type": "scatter",
         "x": [
          "2023-09-07",
          "2023-09-14",
          null
         ],
         "xaxis": "x",
         "y": [
          3.9166666666666665,
          4,
          null
         ],
         "yaxis": "y"
        },
        {
         "customdata": [
          [
           28.083333333333332,
           "L5",
           "2023-07-06",
           "2023-07-13",
           0
          ],
          [
           28.083333333333332,
           "L5",
           "2023-07-06",
           "2023-07-13",
           28.083333333333332
          ],
          [
           28.083333333333332,
           null,
           null,
           null,
           null
          ]
         ],
         "hovertemplate": "Date Range: %{customdata[2]} to %{customdata[3]}<br>Progress in period: %{customdata[0]:.2f} %<br>Cumulative Progress: %{customdata[4]:.2f} %<br>Level: %{customdata[1]}",
         "legendgroup": "28.083333333333332",
         "line": {
          "color": "#4ee800",
          "dash": "solid",
          "width": 5
         },
         "marker": {
          "symbol": "circle"
         },
         "mode": "lines",
         "name": "",
         "orientation": "v",
         "showlegend": true,
         "type": "scatter",
         "x": [
          "2023-07-06",
          "2023-07-13",
          null
         ],
         "xaxis": "x",
         "y": [
          4,
          4.1,
          null
         ],
         "yaxis": "y"
        },
        {
         "customdata": [
          [
           45.125,
           "L5",
           "2023-07-22",
           "2023-07-24",
           28.083333333333332
          ],
          [
           45.125,
           "L5",
           "2023-07-22",
           "2023-07-24",
           73.20833333333333
          ],
          [
           45.125,
           null,
           null,
           null,
           null
          ]
         ],
         "hovertemplate": "Date Range: %{customdata[2]} to %{customdata[3]}<br>Progress in period: %{customdata[0]:.2f} %<br>Cumulative Progress: %{customdata[4]:.2f} %<br>Level: %{customdata[1]}",
         "legendgroup": "45.125",
         "line": {
          "color": "#34eb00",
          "dash": "solid",
          "width": 5
         },
         "marker": {
          "symbol": "circle"
         },
         "mode": "lines",
         "name": "",
         "orientation": "v",
         "showlegend": true,
         "type": "scatter",
         "x": [
          "2023-07-22",
          "2023-07-24",
          null
         ],
         "xaxis": "x",
         "y": [
          4.228571428571429,
          4.257142857142857,
          null
         ],
         "yaxis": "y"
        },
        {
         "customdata": [
          [
           1.75,
           "L5",
           "2023-07-27",
           "2023-07-28",
           73.20833333333333
          ],
          [
           1.75,
           "L5",
           "2023-07-27",
           "2023-07-28",
           74.95833333333333
          ],
          [
           1.75,
           null,
           null,
           null,
           null
          ]
         ],
         "hovertemplate": "Date Range: %{customdata[2]} to %{customdata[3]}<br>Progress in period: %{customdata[0]:.2f} %<br>Cumulative Progress: %{customdata[4]:.2f} %<br>Level: %{customdata[1]}",
         "legendgroup": "1.75",
         "line": {
          "color": "#ff1900",
          "dash": "solid",
          "width": 5
         },
         "marker": {
          "symbol": "circle"
         },
         "mode": "lines",
         "name": "",
         "orientation": "v",
         "showlegend": true,
         "type": "scatter",
         "x": [
          "2023-07-27",
          "2023-07-28",
          null
         ],
         "xaxis": "x",
         "y": [
          4.3,
          4.314285714285714,
          null
         ],
         "yaxis": "y"
        },
        {
         "customdata": [
          [
           16.083333333333343,
           "L5",
           "2023-07-28",
           "2023-08-03",
           74.95833333333333
          ],
          [
           16.083333333333343,
           "L5",
           "2023-07-28",
           "2023-08-03",
           91.04166666666667
          ],
          [
           16.083333333333343,
           null,
           null,
           null,
           null
          ]
         ],
         "hovertemplate": "Date Range: %{customdata[2]} to %{customdata[3]}<br>Progress in period: %{customdata[0]:.2f} %<br>Cumulative Progress: %{customdata[4]:.2f} %<br>Level: %{customdata[1]}",
         "legendgroup": "16.083333333333343",
         "line": {
          "color": "#f0d600",
          "dash": "solid",
          "width": 5
         },
         "marker": {
          "symbol": "circle"
         },
         "mode": "lines",
         "name": "",
         "orientation": "v",
         "showlegend": true,
         "type": "scatter",
         "x": [
          "2023-07-28",
          "2023-08-03",
          null
         ],
         "xaxis": "x",
         "y": [
          4.314285714285714,
          4.4,
          null
         ],
         "yaxis": "y"
        },
        {
         "customdata": [
          [
           7.875,
           "L5",
           "2023-08-03",
           "2023-08-10",
           91.04166666666667
          ],
          [
           7.875,
           "L5",
           "2023-08-03",
           "2023-08-10",
           98.91666666666667
          ],
          [
           7.875,
           null,
           null,
           null,
           null
          ]
         ],
         "hovertemplate": "Date Range: %{customdata[2]} to %{customdata[3]}<br>Progress in period: %{customdata[0]:.2f} %<br>Cumulative Progress: %{customdata[4]:.2f} %<br>Level: %{customdata[1]}",
         "legendgroup": "7.875",
         "line": {
          "color": "#ff6f00",
          "dash": "solid",
          "width": 5
         },
         "marker": {
          "symbol": "circle"
         },
         "mode": "lines",
         "name": "",
         "orientation": "v",
         "showlegend": true,
         "type": "scatter",
         "x": [
          "2023-08-03",
          "2023-08-10",
          null
         ],
         "xaxis": "x",
         "y": [
          4.4,
          4.5,
          null
         ],
         "yaxis": "y"
        },
        {
         "customdata": [
          [
           0.3333333333333286,
           "L5",
           "2023-08-10",
           "2023-08-17",
           98.91666666666667
          ],
          [
           0.3333333333333286,
           "L5",
           "2023-08-10",
           "2023-08-17",
           99.25
          ],
          [
           0.3333333333333286,
           null,
           null,
           null,
           null
          ]
         ],
         "hovertemplate": "Date Range: %{customdata[2]} to %{customdata[3]}<br>Progress in period: %{customdata[0]:.2f} %<br>Cumulative Progress: %{customdata[4]:.2f} %<br>Level: %{customdata[1]}",
         "legendgroup": "0.3333333333333286",
         "line": {
          "color": "#ff0500",
          "dash": "solid",
          "width": 5
         },
         "marker": {
          "symbol": "circle"
         },
         "mode": "lines",
         "name": "",
         "orientation": "v",
         "showlegend": true,
         "type": "scatter",
         "x": [
          "2023-08-10",
          "2023-08-17",
          null
         ],
         "xaxis": "x",
         "y": [
          4.5,
          4.6,
          null
         ],
         "yaxis": "y"
        },
        {
         "customdata": [
          [
           0.0833333333333286,
           "L5",
           "2023-08-31",
           "2023-09-07",
           99.25
          ],
          [
           0.0833333333333286,
           "L5",
           "2023-08-31",
           "2023-09-07",
           99.33333333333333
          ],
          [
           0.0833333333333286,
           null,
           null,
           null,
           null
          ]
         ],
         "hovertemplate": "Date Range: %{customdata[2]} to %{customdata[3]}<br>Progress in period: %{customdata[0]:.2f} %<br>Cumulative Progress: %{customdata[4]:.2f} %<br>Level: %{customdata[1]}",
         "legendgroup": "0.0833333333333286",
         "line": {
          "color": "#ff0100",
          "dash": "solid",
          "width": 5
         },
         "marker": {
          "symbol": "circle"
         },
         "mode": "lines",
         "name": "",
         "orientation": "v",
         "showlegend": true,
         "type": "scatter",
         "x": [
          "2023-08-31",
          "2023-09-07",
          null
         ],
         "xaxis": "x",
         "y": [
          4.8,
          4.9,
          null
         ],
         "yaxis": "y"
        },
        {
         "customdata": [
          [
           0.041666666666671404,
           "L5",
           "2023-09-07",
           "2023-09-14",
           99.33333333333333
          ],
          [
           0.041666666666671404,
           "L5",
           "2023-09-07",
           "2023-09-14",
           99.375
          ],
          [
           0.041666666666671404,
           null,
           null,
           null,
           null
          ]
         ],
         "hovertemplate": "Date Range: %{customdata[2]} to %{customdata[3]}<br>Progress in period: %{customdata[0]:.2f} %<br>Cumulative Progress: %{customdata[4]:.2f} %<br>Level: %{customdata[1]}",
         "legendgroup": "0.041666666666671404",
         "line": {
          "color": "#ff0100",
          "dash": "solid",
          "width": 5
         },
         "marker": {
          "symbol": "circle"
         },
         "mode": "lines",
         "name": "",
         "orientation": "v",
         "showlegend": true,
         "type": "scatter",
         "x": [
          "2023-09-07",
          "2023-09-14",
          null
         ],
         "xaxis": "x",
         "y": [
          4.9,
          5,
          null
         ],
         "yaxis": "y"
        },
        {
         "customdata": [
          [
           36.666666666666664,
           "L6",
           "2023-07-22",
           "2023-07-24",
           0
          ],
          [
           36.666666666666664,
           "L6",
           "2023-07-22",
           "2023-07-24",
           36.666666666666664
          ],
          [
           36.666666666666664,
           null,
           null,
           null,
           null
          ]
         ],
         "hovertemplate": "Date Range: %{customdata[2]} to %{customdata[3]}<br>Progress in period: %{customdata[0]:.2f} %<br>Cumulative Progress: %{customdata[4]:.2f} %<br>Level: %{customdata[1]}",
         "legendgroup": "36.666666666666664",
         "line": {
          "color": "#34eb00",
          "dash": "solid",
          "width": 5
         },
         "marker": {
          "symbol": "circle"
         },
         "mode": "lines",
         "name": "",
         "orientation": "v",
         "showlegend": true,
         "type": "scatter",
         "x": [
          "2023-07-22",
          "2023-07-24",
          null
         ],
         "xaxis": "x",
         "y": [
          5,
          5.042553191489362,
          null
         ],
         "yaxis": "y"
        },
        {
         "customdata": [
          [
           11.875,
           "L6",
           "2023-07-27",
           "2023-07-28",
           36.666666666666664
          ],
          [
           11.875,
           "L6",
           "2023-07-27",
           "2023-07-28",
           48.541666666666664
          ],
          [
           11.875,
           null,
           null,
           null,
           null
          ]
         ],
         "hovertemplate": "Date Range: %{customdata[2]} to %{customdata[3]}<br>Progress in period: %{customdata[0]:.2f} %<br>Cumulative Progress: %{customdata[4]:.2f} %<br>Level: %{customdata[1]}",
         "legendgroup": "11.875",
         "line": {
          "color": "#ffa800",
          "dash": "solid",
          "width": 5
         },
         "marker": {
          "symbol": "circle"
         },
         "mode": "lines",
         "name": "",
         "orientation": "v",
         "showlegend": true,
         "type": "scatter",
         "x": [
          "2023-07-27",
          "2023-07-28",
          null
         ],
         "xaxis": "x",
         "y": [
          5.1063829787234045,
          5.127659574468085,
          null
         ],
         "yaxis": "y"
        },
        {
         "customdata": [
          [
           50.37500000000001,
           "L6",
           "2023-07-28",
           "2023-08-03",
           48.541666666666664
          ],
          [
           50.37500000000001,
           "L6",
           "2023-07-28",
           "2023-08-03",
           98.91666666666667
          ],
          [
           50.37500000000001,
           null,
           null,
           null,
           null
          ]
         ],
         "hovertemplate": "Date Range: %{customdata[2]} to %{customdata[3]}<br>Progress in period: %{customdata[0]:.2f} %<br>Cumulative Progress: %{customdata[4]:.2f} %<br>Level: %{customdata[1]}",
         "legendgroup": "50.37500000000001",
         "line": {
          "color": "#34eb00",
          "dash": "solid",
          "width": 5
         },
         "marker": {
          "symbol": "circle"
         },
         "mode": "lines",
         "name": "",
         "orientation": "v",
         "showlegend": true,
         "type": "scatter",
         "x": [
          "2023-07-28",
          "2023-08-03",
          null
         ],
         "xaxis": "x",
         "y": [
          5.127659574468085,
          5.25531914893617,
          null
         ],
         "yaxis": "y"
        },
        {
         "customdata": [
          [
           0.04166666666665719,
           "L6",
           "2023-08-03",
           "2023-08-10",
           98.91666666666667
          ],
          [
           0.04166666666665719,
           "L6",
           "2023-08-03",
           "2023-08-10",
           98.95833333333333
          ],
          [
           0.04166666666665719,
           null,
           null,
           null,
           null
          ]
         ],
         "hovertemplate": "Date Range: %{customdata[2]} to %{customdata[3]}<br>Progress in period: %{customdata[0]:.2f} %<br>Cumulative Progress: %{customdata[4]:.2f} %<br>Level: %{customdata[1]}",
         "legendgroup": "0.04166666666665719",
         "line": {
          "color": "#ff0100",
          "dash": "solid",
          "width": 5
         },
         "marker": {
          "symbol": "circle"
         },
         "mode": "lines",
         "name": "",
         "orientation": "v",
         "showlegend": true,
         "type": "scatter",
         "x": [
          "2023-08-03",
          "2023-08-10",
          null
         ],
         "xaxis": "x",
         "y": [
          5.25531914893617,
          5.404255319148936,
          null
         ],
         "yaxis": "y"
        },
        {
         "customdata": [
          [
           0.25,
           "L6",
           "2023-08-10",
           "2023-08-17",
           98.95833333333333
          ],
          [
           0.25,
           "L6",
           "2023-08-10",
           "2023-08-17",
           99.20833333333333
          ],
          [
           0.25,
           null,
           null,
           null,
           null
          ]
         ],
         "hovertemplate": "Date Range: %{customdata[2]} to %{customdata[3]}<br>Progress in period: %{customdata[0]:.2f} %<br>Cumulative Progress: %{customdata[4]:.2f} %<br>Level: %{customdata[1]}",
         "legendgroup": "0.25",
         "line": {
          "color": "#ff0400",
          "dash": "solid",
          "width": 5
         },
         "marker": {
          "symbol": "circle"
         },
         "mode": "lines",
         "name": "",
         "orientation": "v",
         "showlegend": true,
         "type": "scatter",
         "x": [
          "2023-08-10",
          "2023-08-17",
          null
         ],
         "xaxis": "x",
         "y": [
          5.404255319148936,
          5.553191489361702,
          null
         ],
         "yaxis": "y"
        },
        {
         "customdata": [
          [
           0.041666666666671404,
           "L6",
           "2023-08-31",
           "2023-09-07",
           99.20833333333333
          ],
          [
           0.041666666666671404,
           "L6",
           "2023-08-31",
           "2023-09-07",
           99.25
          ],
          [
           0.041666666666671404,
           null,
           null,
           null,
           null
          ]
         ],
         "hovertemplate": "Date Range: %{customdata[2]} to %{customdata[3]}<br>Progress in period: %{customdata[0]:.2f} %<br>Cumulative Progress: %{customdata[4]:.2f} %<br>Level: %{customdata[1]}",
         "legendgroup": "0.041666666666671404",
         "line": {
          "color": "#ff0100",
          "dash": "solid",
          "width": 5
         },
         "marker": {
          "symbol": "circle"
         },
         "mode": "lines",
         "name": "",
         "orientation": "v",
         "showlegend": true,
         "type": "scatter",
         "x": [
          "2023-08-31",
          "2023-09-07",
          null
         ],
         "xaxis": "x",
         "y": [
          5.851063829787234,
          6,
          null
         ],
         "yaxis": "y"
        },
        {
         "customdata": [
          [
           22.208333333333332,
           "L7",
           "2023-07-28",
           "2023-08-03",
           0
          ],
          [
           22.208333333333332,
           "L7",
           "2023-07-28",
           "2023-08-03",
           22.208333333333332
          ],
          [
           22.208333333333332,
           null,
           null,
           null,
           null
          ]
         ],
         "hovertemplate": "Date Range: %{customdata[2]} to %{customdata[3]}<br>Progress in period: %{customdata[0]:.2f} %<br>Cumulative Progress: %{customdata[4]:.2f} %<br>Level: %{customdata[1]}",
         "legendgroup": "22.208333333333332",
         "line": {
          "color": "#9ddf00",
          "dash": "solid",
          "width": 5
         },
         "marker": {
          "symbol": "circle"
         },
         "mode": "lines",
         "name": "",
         "orientation": "v",
         "showlegend": true,
         "type": "scatter",
         "x": [
          "2023-07-28",
          "2023-08-03",
          null
         ],
         "xaxis": "x",
         "y": [
          6,
          6.125,
          null
         ],
         "yaxis": "y"
        },
        {
         "customdata": [
          [
           23.041666666666668,
           "L7",
           "2023-08-03",
           "2023-08-10",
           22.208333333333332
          ],
          [
           23.041666666666668,
           "L7",
           "2023-08-03",
           "2023-08-10",
           45.25
          ],
          [
           23.041666666666668,
           null,
           null,
           null,
           null
          ]
         ],
         "hovertemplate": "Date Range: %{customdata[2]} to %{customdata[3]}<br>Progress in period: %{customdata[0]:.2f} %<br>Cumulative Progress: %{customdata[4]:.2f} %<br>Level: %{customdata[1]}",
         "legendgroup": "23.041666666666668",
         "line": {
          "color": "#92e000",
          "dash": "solid",
          "width": 5
         },
         "marker": {
          "symbol": "circle"
         },
         "mode": "lines",
         "name": "",
         "orientation": "v",
         "showlegend": true,
         "type": "scatter",
         "x": [
          "2023-08-03",
          "2023-08-10",
          null
         ],
         "xaxis": "x",
         "y": [
          6.125,
          6.270833333333333,
          null
         ],
         "yaxis": "y"
        },
        {
         "customdata": [
          [
           53.625,
           "L7",
           "2023-08-10",
           "2023-08-17",
           45.25
          ],
          [
           53.625,
           "L7",
           "2023-08-10",
           "2023-08-17",
           98.875
          ],
          [
           53.625,
           null,
           null,
           null,
           null
          ]
         ],
         "hovertemplate": "Date Range: %{customdata[2]} to %{customdata[3]}<br>Progress in period: %{customdata[0]:.2f} %<br>Cumulative Progress: %{customdata[4]:.2f} %<br>Level: %{customdata[1]}",
         "legendgroup": "53.625",
         "line": {
          "color": "#34eb00",
          "dash": "solid",
          "width": 5
         },
         "marker": {
          "symbol": "circle"
         },
         "mode": "lines",
         "name": "",
         "orientation": "v",
         "showlegend": true,
         "type": "scatter",
         "x": [
          "2023-08-10",
          "2023-08-17",
          null
         ],
         "xaxis": "x",
         "y": [
          6.270833333333333,
          6.416666666666667,
          null
         ],
         "yaxis": "y"
        },
        {
         "customdata": [
          [
           0.125,
           "L7",
           "2023-08-31",
           "2023-09-07",
           98.875
          ],
          [
           0.125,
           "L7",
           "2023-08-31",
           "2023-09-07",
           99
          ],
          [
           0.125,
           null,
           null,
           null,
           null
          ],
          [
           0.125,
           "L7",
           "2023-09-07",
           "2023-09-14",
           99
          ],
          [
           0.125,
           "L7",
           "2023-09-07",
           "2023-09-14",
           99.125
          ],
          [
           0.125,
           null,
           null,
           null,
           null
          ]
         ],
         "hovertemplate": "Date Range: %{customdata[2]} to %{customdata[3]}<br>Progress in period: %{customdata[0]:.2f} %<br>Cumulative Progress: %{customdata[4]:.2f} %<br>Level: %{customdata[1]}",
         "legendgroup": "0.125",
         "line": {
          "color": "#ff0200",
          "dash": "solid",
          "width": 5
         },
         "marker": {
          "symbol": "circle"
         },
         "mode": "lines",
         "name": "",
         "orientation": "v",
         "showlegend": true,
         "type": "scatter",
         "x": [
          "2023-08-31",
          "2023-09-07",
          null,
          "2023-09-07",
          "2023-09-14",
          null
         ],
         "xaxis": "x",
         "y": [
          6.708333333333333,
          6.854166666666667,
          null,
          6.854166666666667,
          7,
          null
         ],
         "yaxis": "y"
        },
        {
         "customdata": [
          [
           15.041666666666666,
           "L8",
           "2023-08-03",
           "2023-08-10",
           0
          ],
          [
           15.041666666666666,
           "L8",
           "2023-08-03",
           "2023-08-10",
           15.041666666666666
          ],
          [
           15.041666666666666,
           null,
           null,
           null,
           null
          ]
         ],
         "hovertemplate": "Date Range: %{customdata[2]} to %{customdata[3]}<br>Progress in period: %{customdata[0]:.2f} %<br>Cumulative Progress: %{customdata[4]:.2f} %<br>Level: %{customdata[1]}",
         "legendgroup": "15.041666666666666",
         "line": {
          "color": "#fed400",
          "dash": "solid",
          "width": 5
         },
         "marker": {
          "symbol": "circle"
         },
         "mode": "lines",
         "name": "",
         "orientation": "v",
         "showlegend": true,
         "type": "scatter",
         "x": [
          "2023-08-03",
          "2023-08-10",
          null
         ],
         "xaxis": "x",
         "y": [
          7,
          7.166666666666667,
          null
         ],
         "yaxis": "y"
        },
        {
         "customdata": [
          [
           83.08333333333333,
           "L8",
           "2023-08-31",
           "2023-09-07",
           15.041666666666666
          ],
          [
           83.08333333333333,
           "L8",
           "2023-08-31",
           "2023-09-07",
           98.125
          ],
          [
           83.08333333333333,
           null,
           null,
           null,
           null
          ]
         ],
         "hovertemplate": "Date Range: %{customdata[2]} to %{customdata[3]}<br>Progress in period: %{customdata[0]:.2f} %<br>Cumulative Progress: %{customdata[4]:.2f} %<br>Level: %{customdata[1]}",
         "legendgroup": "83.08333333333333",
         "line": {
          "color": "#34eb00",
          "dash": "solid",
          "width": 5
         },
         "marker": {
          "symbol": "circle"
         },
         "mode": "lines",
         "name": "",
         "orientation": "v",
         "showlegend": true,
         "type": "scatter",
         "x": [
          "2023-08-31",
          "2023-09-07",
          null
         ],
         "xaxis": "x",
         "y": [
          7.666666666666667,
          7.833333333333333,
          null
         ],
         "yaxis": "y"
        },
        {
         "customdata": [
          [
           0.2083333333333286,
           "L8",
           "2023-09-07",
           "2023-09-14",
           98.125
          ],
          [
           0.2083333333333286,
           "L8",
           "2023-09-07",
           "2023-09-14",
           98.33333333333333
          ],
          [
           0.2083333333333286,
           null,
           null,
           null,
           null
          ]
         ],
         "hovertemplate": "Date Range: %{customdata[2]} to %{customdata[3]}<br>Progress in period: %{customdata[0]:.2f} %<br>Cumulative Progress: %{customdata[4]:.2f} %<br>Level: %{customdata[1]}",
         "legendgroup": "0.2083333333333286",
         "line": {
          "color": "#ff0300",
          "dash": "solid",
          "width": 5
         },
         "marker": {
          "symbol": "circle"
         },
         "mode": "lines",
         "name": "",
         "orientation": "v",
         "showlegend": true,
         "type": "scatter",
         "x": [
          "2023-09-07",
          "2023-09-14",
          null
         ],
         "xaxis": "x",
         "y": [
          7.833333333333333,
          8,
          null
         ],
         "yaxis": "y"
        },
        {
         "hoverinfo": "skip",
         "hovertemplate": "x=%{x}<br>y=%{y}<extra></extra>",
         "legendgroup": "",
         "line": {
          "color": "black",
          "dash": "solid",
          "width": 5
         },
         "marker": {
          "symbol": "circle"
         },
         "mode": "lines",
         "name": "",
         "opacity": 0.05,
         "orientation": "v",
         "showlegend": false,
         "type": "scatter",
         "x": [
          "2023-02-02",
          "2023-09-07",
          null,
          "2023-06-22",
          "2023-08-10",
          null,
          "2023-03-31",
          "2023-08-10",
          null,
          "2023-07-28",
          "2023-08-17",
          null,
          "2023-07-28",
          "2023-09-07",
          null,
          "2023-08-03",
          "2023-09-14",
          null,
          "2023-08-10",
          "2023-09-14",
          null,
          "2023-08-31",
          "2023-09-14",
          null
         ],
         "xaxis": "x",
         "y": [
          0,
          1,
          null,
          1,
          2,
          null,
          2,
          3,
          null,
          3,
          4,
          null,
          4,
          5,
          null,
          5,
          6,
          null,
          6,
          6.760555555555555,
          null,
          7,
          7.3438888888888885,
          null
         ],
         "yaxis": "y"
        },
        {
         "customdata": [
          [
           0.8888888888888888,
           "L1",
           "2023-02-02",
           "2023-02-07",
           0
          ],
          [
           0.8888888888888888,
           "L1",
           "2023-02-02",
           "2023-02-07",
           0.8888888888888888
          ],
          [
           0.8888888888888888,
           null,
           null,
           null,
           null
          ]
         ],
         "hovertemplate": "Date Range: %{customdata[2]} to %{customdata[3]}<br>Progress in period: %{customdata[0]:.2f} %<br>Cumulative Progress: %{customdata[4]:.2f} %<br>Level: %{customdata[1]}",
         "legendgroup": "0.8888888888888888",
         "line": {
          "color": "#ff0d00",
          "dash": "solid",
          "width": 5
         },
         "marker": {
          "symbol": "circle"
         },
         "mode": "lines",
         "name": "",
         "orientation": "v",
         "showlegend": true,
         "type": "scatter",
         "x": [
          "2023-02-02",
          "2023-02-07",
          null
         ],
         "xaxis": "x",
         "y": [
          0,
          0.02304147465437788,
          null
         ],
         "yaxis": "y"
        },
        {
         "customdata": [
          [
           0.7222222222222223,
           "L1",
           "2023-03-09",
           "2023-03-14",
           0.8888888888888888
          ],
          [
           0.7222222222222223,
           "L1",
           "2023-03-09",
           "2023-03-14",
           1.6111111111111112
          ],
          [
           0.7222222222222223,
           null,
           null,
           null,
           null
          ]
         ],
         "hovertemplate": "Date Range: %{customdata[2]} to %{customdata[3]}<br>Progress in period: %{customdata[0]:.2f} %<br>Cumulative Progress: %{customdata[4]:.2f} %<br>Level: %{customdata[1]}",
         "legendgroup": "0.7222222222222223",
         "line": {
          "color": "#ff0a00",
          "dash": "solid",
          "width": 5
         },
         "marker": {
          "symbol": "circle"
         },
         "mode": "lines",
         "name": "",
         "orientation": "v",
         "showlegend": true,
         "type": "scatter",
         "x": [
          "2023-03-09",
          "2023-03-14",
          null
         ],
         "xaxis": "x",
         "y": [
          0.16129032258064516,
          0.18433179723502305,
          null
         ],
         "yaxis": "y"
        },
        {
         "customdata": [
          [
           9.5,
           "L1",
           "2023-03-30",
           "2023-03-31",
           1.6111111111111112
          ],
          [
           9.5,
           "L1",
           "2023-03-30",
           "2023-03-31",
           11.11111111111111
          ],
          [
           9.5,
           null,
           null,
           null,
           null
          ]
         ],
         "hovertemplate": "Date Range: %{customdata[2]} to %{customdata[3]}<br>Progress in period: %{customdata[0]:.2f} %<br>Cumulative Progress: %{customdata[4]:.2f} %<br>Level: %{customdata[1]}",
         "legendgroup": "9.5",
         "line": {
          "color": "#ff8600",
          "dash": "solid",
          "width": 5
         },
         "marker": {
          "symbol": "circle"
         },
         "mode": "lines",
         "name": "",
         "orientation": "v",
         "showlegend": true,
         "type": "scatter",
         "x": [
          "2023-03-30",
          "2023-03-31",
          null
         ],
         "xaxis": "x",
         "y": [
          0.25806451612903225,
          0.2626728110599078,
          null
         ],
         "yaxis": "y"
        },
        {
         "customdata": [
          [
           5.555555555555557,
           "L1",
           "2023-04-04",
           "2023-04-06",
           11.11111111111111
          ],
          [
           5.555555555555557,
           "L1",
           "2023-04-04",
           "2023-04-06",
           16.666666666666668
          ],
          [
           5.555555555555557,
           null,
           null,
           null,
           null
          ]
         ],
         "hovertemplate": "Date Range: %{customdata[2]} to %{customdata[3]}<br>Progress in period: %{customdata[0]:.2f} %<br>Cumulative Progress: %{customdata[4]:.2f} %<br>Level: %{customdata[1]}",
         "legendgroup": "5.555555555555557",
         "line": {
          "color": "#ff4f00",
          "dash": "solid",
          "width": 5
         },
         "marker": {
          "symbol": "circle"
         },
         "mode": "lines",
         "name": "",
         "orientation": "v",
         "showlegend": true,
         "type": "scatter",
         "x": [
          "2023-04-04",
          "2023-04-06",
          null
         ],
         "xaxis": "x",
         "y": [
          0.28110599078341014,
          0.2903225806451613,
          null
         ],
         "yaxis": "y"
        },
        {
         "customdata": [
          [
           41.94444444444444,
           "L1",
           "2023-06-22",
           "2023-06-30",
           16.666666666666668
          ],
          [
           41.94444444444444,
           "L1",
           "2023-06-22",
           "2023-06-30",
           58.611111111111114
          ],
          [
           41.94444444444444,
           null,
           null,
           null,
           null
          ]
         ],
         "hovertemplate": "Date Range: %{customdata[2]} to %{customdata[3]}<br>Progress in period: %{customdata[0]:.2f} %<br>Cumulative Progress: %{customdata[4]:.2f} %<br>Level: %{customdata[1]}",
         "legendgroup": "41.94444444444444",
         "line": {
          "color": "#34eb00",
          "dash": "solid",
          "width": 5
         },
         "marker": {
          "symbol": "circle"
         },
         "mode": "lines",
         "name": "",
         "orientation": "v",
         "showlegend": true,
         "type": "scatter",
         "x": [
          "2023-06-22",
          "2023-06-30",
          null
         ],
         "xaxis": "x",
         "y": [
          0.6451612903225806,
          0.6820276497695853,
          null
         ],
         "yaxis": "y"
        },
        {
         "customdata": [
          [
           13.111111111111114,
           "L1",
           "2023-06-30",
           "2023-07-06",
           58.611111111111114
          ],
          [
           13.111111111111114,
           "L1",
           "2023-06-30",
           "2023-07-06",
           71.72222222222223
          ],
          [
           13.111111111111114,
           null,
           null,
           null,
           null
          ]
         ],
         "hovertemplate": "Date Range: %{customdata[2]} to %{customdata[3]}<br>Progress in period: %{customdata[0]:.2f} %<br>Cumulative Progress: %{customdata[4]:.2f} %<br>Level: %{customdata[1]}",
         "legendgroup": "13.111111111111114",
         "line": {
          "color": "#ffb900",
          "dash": "solid",
          "width": 5
         },
         "marker": {
          "symbol": "circle"
         },
         "mode": "lines",
         "name": "",
         "orientation": "v",
         "showlegend": true,
         "type": "scatter",
         "x": [
          "2023-06-30",
          "2023-07-06",
          null
         ],
         "xaxis": "x",
         "y": [
          0.6820276497695853,
          0.7096774193548387,
          null
         ],
         "yaxis": "y"
        },
        {
         "customdata": [
          [
           27.944444444444443,
           "L1",
           "2023-07-06",
           "2023-07-13",
           71.72222222222223
          ],
          [
           27.944444444444443,
           "L1",
           "2023-07-06",
           "2023-07-13",
           99.66666666666667
          ],
          [
           27.944444444444443,
           null,
           null,
           null,
           null
          ]
         ],
         "hovertemplate": "Date Range: %{customdata[2]} to %{customdata[3]}<br>Progress in period: %{customdata[0]:.2f} %<br>Cumulative Progress: %{customdata[4]:.2f} %<br>Level: %{customdata[1]}",
         "legendgroup": "27.944444444444443",
         "line": {
          "color": "#50e800",
          "dash": "solid",
          "width": 5
         },
         "marker": {
          "symbol": "circle"
         },
         "mode": "lines",
         "name": "",
         "orientation": "v",
         "showlegend": true,
         "type": "scatter",
         "x": [
          "2023-07-06",
          "2023-07-13",
          null
         ],
         "xaxis": "x",
         "y": [
          0.7096774193548387,
          0.7419354838709677,
          null
         ],
         "yaxis": "y"
        },
        {
         "customdata": [
          [
           0.11111111111110006,
           "L1",
           "2023-07-27",
           "2023-07-28",
           99.66666666666667
          ],
          [
           0.11111111111110006,
           "L1",
           "2023-07-27",
           "2023-07-28",
           99.77777777777777
          ],
          [
           0.11111111111110006,
           null,
           null,
           null,
           null
          ]
         ],
         "hovertemplate": "Date Range: %{customdata[2]} to %{customdata[3]}<br>Progress in period: %{customdata[0]:.2f} %<br>Cumulative Progress: %{customdata[4]:.2f} %<br>Level: %{customdata[1]}",
         "legendgroup": "0.11111111111110006",
         "line": {
          "color": "#ff0200",
          "dash": "solid",
          "width": 5
         },
         "marker": {
          "symbol": "circle"
         },
         "mode": "lines",
         "name": "",
         "orientation": "v",
         "showlegend": true,
         "type": "scatter",
         "x": [
          "2023-07-27",
          "2023-07-28",
          null
         ],
         "xaxis": "x",
         "y": [
          0.8064516129032258,
          0.8110599078341014,
          null
         ],
         "yaxis": "y"
        },
        {
         "customdata": [
          [
           0.11111111111111427,
           "L1",
           "2023-08-31",
           "2023-09-07",
           99.77777777777777
          ],
          [
           0.11111111111111427,
           "L1",
           "2023-08-31",
           "2023-09-07",
           99.88888888888889
          ],
          [
           0.11111111111111427,
           null,
           null,
           null,
           null
          ]
         ],
         "hovertemplate": "Date Range: %{customdata[2]} to %{customdata[3]}<br>Progress in period: %{customdata[0]:.2f} %<br>Cumulative Progress: %{customdata[4]:.2f} %<br>Level: %{customdata[1]}",
         "legendgroup": "0.11111111111111427",
         "line": {
          "color": "#ff0200",
          "dash": "solid",
          "width": 5
         },
         "marker": {
          "symbol": "circle"
         },
         "mode": "lines",
         "name": "",
         "orientation": "v",
         "showlegend": true,
         "type": "scatter",
         "x": [
          "2023-08-31",
          "2023-09-07",
          null
         ],
         "xaxis": "x",
         "y": [
          0.967741935483871,
          1,
          null
         ],
         "yaxis": "y"
        },
        {
         "customdata": [
          [
           29.88888888888889,
           "L2",
           "2023-06-22",
           "2023-06-30",
           0
          ],
          [
           29.88888888888889,
           "L2",
           "2023-06-22",
           "2023-06-30",
           29.88888888888889
          ],
          [
           29.88888888888889,
           null,
           null,
           null,
           null
          ]
         ],
         "hovertemplate": "Date Range: %{customdata[2]} to %{customdata[3]}<br>Progress in period: %{customdata[0]:.2f} %<br>Cumulative Progress: %{customdata[4]:.2f} %<br>Level: %{customdata[1]}",
         "legendgroup": "29.88888888888889",
         "line": {
          "color": "#36eb00",
          "dash": "solid",
          "width": 5
         },
         "marker": {
          "symbol": "circle"
         },
         "mode": "lines",
         "name": "",
         "orientation": "v",
         "showlegend": true,
         "type": "scatter",
         "x": [
          "2023-06-22",
          "2023-06-30",
          null
         ],
         "xaxis": "x",
         "y": [
          1,
          1.163265306122449,
          null
         ],
         "yaxis": "y"
        },
        {
         "customdata": [
          [
           20.499999999999996,
           "L2",
           "2023-06-30",
           "2023-07-06",
           29.88888888888889
          ],
          [
           20.499999999999996,
           "L2",
           "2023-06-30",
           "2023-07-06",
           50.388888888888886
          ],
          [
           20.499999999999996,
           null,
           null,
           null,
           null
          ]
         ],
         "hovertemplate": "Date Range: %{customdata[2]} to %{customdata[3]}<br>Progress in period: %{customdata[0]:.2f} %<br>Cumulative Progress: %{customdata[4]:.2f} %<br>Level: %{customdata[1]}",
         "legendgroup": "20.499999999999996",
         "line": {
          "color": "#b5dc00",
          "dash": "solid",
          "width": 5
         },
         "marker": {
          "symbol": "circle"
         },
         "mode": "lines",
         "name": "",
         "orientation": "v",
         "showlegend": true,
         "type": "scatter",
         "x": [
          "2023-06-30",
          "2023-07-06",
          null
         ],
         "xaxis": "x",
         "y": [
          1.163265306122449,
          1.2857142857142856,
          null
         ],
         "yaxis": "y"
        },
        {
         "customdata": [
          [
           27.333333333333343,
           "L2",
           "2023-07-06",
           "2023-07-13",
           50.388888888888886
          ],
          [
           27.333333333333343,
           "L2",
           "2023-07-06",
           "2023-07-13",
           77.72222222222223
          ],
          [
           27.333333333333343,
           null,
           null,
           null,
           null
          ]
         ],
         "hovertemplate": "Date Range: %{customdata[2]} to %{customdata[3]}<br>Progress in period: %{customdata[0]:.2f} %<br>Cumulative Progress: %{customdata[4]:.2f} %<br>Level: %{customdata[1]}",
         "legendgroup": "27.333333333333343",
         "line": {
          "color": "#58e700",
          "dash": "solid",
          "width": 5
         },
         "marker": {
          "symbol": "circle"
         },
         "mode": "lines",
         "name": "",
         "orientation": "v",
         "showlegend": true,
         "type": "scatter",
         "x": [
          "2023-07-06",
          "2023-07-13",
          null
         ],
         "xaxis": "x",
         "y": [
          1.2857142857142856,
          1.4285714285714286,
          null
         ],
         "yaxis": "y"
        },
        {
         "customdata": [
          [
           0.055555555555542924,
           "L2",
           "2023-07-27",
           "2023-07-28",
           77.72222222222223
          ],
          [
           0.055555555555542924,
           "L2",
           "2023-07-27",
           "2023-07-28",
           77.77777777777777
          ],
          [
           0.055555555555542924,
           null,
           null,
           null,
           null
          ]
         ],
         "hovertemplate": "Date Range: %{customdata[2]} to %{customdata[3]}<br>Progress in period: %{customdata[0]:.2f} %<br>Cumulative Progress: %{customdata[4]:.2f} %<br>Level: %{customdata[1]}",
         "legendgroup": "0.055555555555542924",
         "line": {
          "color": "#ff0100",
          "dash": "solid",
          "width": 5
         },
         "marker": {
          "symbol": "circle"
         },
         "mode": "lines",
         "name": "",
         "orientation": "v",
         "showlegend": true,
         "type": "scatter",
         "x": [
          "2023-07-27",
          "2023-07-28",
          null
         ],
         "xaxis": "x",
         "y": [
          1.7142857142857144,
          1.7346938775510203,
          null
         ],
         "yaxis": "y"
        },
        {
         "customdata": [
          [
           19.944444444444457,
           "L2",
           "2023-07-28",
           "2023-08-03",
           77.77777777777777
          ],
          [
           19.944444444444457,
           "L2",
           "2023-07-28",
           "2023-08-03",
           97.72222222222223
          ],
          [
           19.944444444444457,
           null,
           null,
           null,
           null
          ]
         ],
         "hovertemplate": "Date Range: %{customdata[2]} to %{customdata[3]}<br>Progress in period: %{customdata[0]:.2f} %<br>Cumulative Progress: %{customdata[4]:.2f} %<br>Level: %{customdata[1]}",
         "legendgroup": "19.944444444444457",
         "line": {
          "color": "#bcdc00",
          "dash": "solid",
          "width": 5
         },
         "marker": {
          "symbol": "circle"
         },
         "mode": "lines",
         "name": "",
         "orientation": "v",
         "showlegend": true,
         "type": "scatter",
         "x": [
          "2023-07-28",
          "2023-08-03",
          null
         ],
         "xaxis": "x",
         "y": [
          1.7346938775510203,
          1.8571428571428572,
          null
         ],
         "yaxis": "y"
        },
        {
         "customdata": [
          [
           2.2777777777777715,
           "L2",
           "2023-08-03",
           "2023-08-10",
           97.72222222222223
          ],
          [
           2.2777777777777715,
           "L2",
           "2023-08-03",
           "2023-08-10",
           100
          ],
          [
           2.2777777777777715,
           null,
           null,
           null,
           null
          ]
         ],
         "hovertemplate": "Date Range: %{customdata[2]} to %{customdata[3]}<br>Progress in period: %{customdata[0]:.2f} %<br>Cumulative Progress: %{customdata[4]:.2f} %<br>Level: %{customdata[1]}",
         "legendgroup": "2.2777777777777715",
         "line": {
          "color": "#ff2000",
          "dash": "solid",
          "width": 5
         },
         "marker": {
          "symbol": "circle"
         },
         "mode": "lines",
         "name": "",
         "orientation": "v",
         "showlegend": true,
         "type": "scatter",
         "x": [
          "2023-08-03",
          "2023-08-10",
          null
         ],
         "xaxis": "x",
         "y": [
          1.8571428571428572,
          2,
          null
         ],
         "yaxis": "y"
        },
        {
         "customdata": [
          [
           4.111111111111111,
           "L3",
           "2023-03-31",
           "2023-04-04",
           0
          ],
          [
           4.111111111111111,
           "L3",
           "2023-03-31",
           "2023-04-04",
           4.111111111111111
          ],
          [
           4.111111111111111,
           null,
           null,
           null,
           null
          ]
         ],
         "hovertemplate": "Date Range: %{customdata[2]} to %{customdata[3]}<br>Progress in period: %{customdata[0]:.2f} %<br>Cumulative Progress: %{customdata[4]:.2f} %<br>Level: %{customdata[1]}",
         "legendgroup": "4.111111111111111",
         "line": {
          "color": "#ff3a00",
          "dash": "solid",
          "width": 5
         },
         "marker": {
          "symbol": "circle"
         },
         "mode": "lines",
         "name": "",
         "orientation": "v",
         "showlegend": true,
         "type": "scatter",
         "x": [
          "2023-03-31",
          "2023-04-04",
          null
         ],
         "xaxis": "x",
         "y": [
          2,
          2.0303030303030303,
          null
         ],
         "yaxis": "y"
        },
        {
         "customdata": [
          [
           46.05555555555556,
           "L3",
           "2023-07-06",
           "2023-07-13",
           4.111111111111111
          ],
          [
           46.05555555555556,
           "L3",
           "2023-07-06",
           "2023-07-13",
           50.166666666666664
          ],
          [
           46.05555555555556,
           null,
           null,
           null,
           null
          ]
         ],
         "hovertemplate": "Date Range: %{customdata[2]} to %{customdata[3]}<br>Progress in period: %{customdata[0]:.2f} %<br>Cumulative Progress: %{customdata[4]:.2f} %<br>Level: %{customdata[1]}",
         "legendgroup": "46.05555555555556",
         "line": {
          "color": "#34eb00",
          "dash": "solid",
          "width": 5
         },
         "marker": {
          "symbol": "circle"
         },
         "mode": "lines",
         "name": "",
         "orientation": "v",
         "showlegend": true,
         "type": "scatter",
         "x": [
          "2023-07-06",
          "2023-07-13",
          null
         ],
         "xaxis": "x",
         "y": [
          2.734848484848485,
          2.787878787878788,
          null
         ],
         "yaxis": "y"
        },
        {
         "customdata": [
          [
           16.27777777777778,
           "L3",
           "2023-07-22",
           "2023-07-24",
           50.166666666666664
          ],
          [
           16.27777777777778,
           "L3",
           "2023-07-22",
           "2023-07-24",
           66.44444444444444
          ],
          [
           16.27777777777778,
           null,
           null,
           null,
           null
          ]
         ],
         "hovertemplate": "Date Range: %{customdata[2]} to %{customdata[3]}<br>Progress in period: %{customdata[0]:.2f} %<br>Cumulative Progress: %{customdata[4]:.2f} %<br>Level: %{customdata[1]}",
         "legendgroup": "16.27777777777778",
         "line": {
          "color": "#eed600",
          "dash": "solid",
          "width": 5
         },
         "marker": {
          "symbol": "circle"
         },
         "mode": "lines",
         "name": "",
         "orientation": "v",
         "showlegend": true,
         "type": "scatter",
         "x": [
          "2023-07-22",
          "2023-07-24",
          null
         ],
         "xaxis": "x",
         "y": [
          2.856060606060606,
          2.871212121212121,
          null
         ],
         "yaxis": "y"
        },
        {
         "customdata": [
          [
           0.22222222222222854,
           "L3",
           "2023-07-27",
           "2023-07-28",
           66.44444444444444
          ],
          [
           0.22222222222222854,
           "L3",
           "2023-07-27",
           "2023-07-28",
           66.66666666666667
          ],
          [
           0.22222222222222854,
           null,
           null,
           null,
           null
          ]
         ],
         "hovertemplate": "Date Range: %{customdata[2]} to %{customdata[3]}<br>Progress in period: %{customdata[0]:.2f} %<br>Cumulative Progress: %{customdata[4]:.2f} %<br>Level: %{customdata[1]}",
         "legendgroup": "0.22222222222222854",
         "line": {
          "color": "#ff0300",
          "dash": "solid",
          "width": 5
         },
         "marker": {
          "symbol": "circle"
         },
         "mode": "lines",
         "name": "",
         "orientation": "v",
         "showlegend": true,
         "type": "scatter",
         "x": [
          "2023-07-27",
          "2023-07-28",
          null
         ],
         "xaxis": "x",
         "y": [
          2.893939393939394,
          2.9015151515151514,
          null
         ],
         "yaxis": "y"
        },
        {
         "customdata": [
          [
           21.33333333333333,
           "L3",
           "2023-07-28",
           "2023-08-03",
           66.66666666666667
          ],
          [
           21.33333333333333,
           "L3",
           "2023-07-28",
           "2023-08-03",
           88
          ],
          [
           21.33333333333333,
           null,
           null,
           null,
           null
          ]
         ],
         "hovertemplate": "Date Range: %{customdata[2]} to %{customdata[3]}<br>Progress in period: %{customdata[0]:.2f} %<br>Cumulative Progress: %{customdata[4]:.2f} %<br>Level: %{customdata[1]}",
         "legendgroup": "21.33333333333333",
         "line": {
          "color": "#a9de00",
          "dash": "solid",
          "width": 5
         },
         "marker": {
          "symbol": "circle"
         },
         "mode": "lines",
         "name": "",
         "orientation": "v",
         "showlegend": true,
         "type": "scatter",
         "x": [
          "2023-07-28",
          "2023-08-03",
          null
         ],
         "xaxis": "x",
         "y": [
          2.9015151515151514,
          2.9469696969696972,
          null
         ],
         "yaxis": "y"
        },
        {
         "customdata": [
          [
           12,
           "L3",
           "2023-08-03",
           "2023-08-10",
           88
          ],
          [
           12,
           "L3",
           "2023-08-03",
           "2023-08-10",
           100
          ],
          [
           12,
           null,
           null,
           null,
           null
          ]
         ],
         "hovertemplate": "Date Range: %{customdata[2]} to %{customdata[3]}<br>Progress in period: %{customdata[0]:.2f} %<br>Cumulative Progress: %{customdata[4]:.2f} %<br>Level: %{customdata[1]}",
         "legendgroup": "12.0",
         "line": {
          "color": "#ffaa00",
          "dash": "solid",
          "width": 5
         },
         "marker": {
          "symbol": "circle"
         },
         "mode": "lines",
         "name": "",
         "orientation": "v",
         "showlegend": true,
         "type": "scatter",
         "x": [
          "2023-08-03",
          "2023-08-10",
          null
         ],
         "xaxis": "x",
         "y": [
          2.9469696969696972,
          3,
          null
         ],
         "yaxis": "y"
        },
        {
         "customdata": [
          [
           57.94444444444444,
           "L4",
           "2023-07-28",
           "2023-08-03",
           0
          ],
          [
           57.94444444444444,
           "L4",
           "2023-07-28",
           "2023-08-03",
           57.94444444444444
          ],
          [
           57.94444444444444,
           null,
           null,
           null,
           null
          ]
         ],
         "hovertemplate": "Date Range: %{customdata[2]} to %{customdata[3]}<br>Progress in period: %{customdata[0]:.2f} %<br>Cumulative Progress: %{customdata[4]:.2f} %<br>Level: %{customdata[1]}",
         "legendgroup": "57.94444444444444",
         "line": {
          "color": "#34eb00",
          "dash": "solid",
          "width": 5
         },
         "marker": {
          "symbol": "circle"
         },
         "mode": "lines",
         "name": "",
         "orientation": "v",
         "showlegend": true,
         "type": "scatter",
         "x": [
          "2023-07-28",
          "2023-08-03",
          null
         ],
         "xaxis": "x",
         "y": [
          3,
          3.3,
          null
         ],
         "yaxis": "y"
        },
        {
         "customdata": [
          [
           22.388888888888886,
           "L4",
           "2023-08-03",
           "2023-08-10",
           57.94444444444444
          ],
          [
           22.388888888888886,
           "L4",
           "2023-08-03",
           "2023-08-10",
           80.33333333333333
          ],
          [
           22.388888888888886,
           null,
           null,
           null,
           null
          ]
         ],
         "hovertemplate": "Date Range: %{customdata[2]} to %{customdata[3]}<br>Progress in period: %{customdata[0]:.2f} %<br>Cumulative Progress: %{customdata[4]:.2f} %<br>Level: %{customdata[1]}",
         "legendgroup": "22.388888888888886",
         "line": {
          "color": "#9bdf00",
          "dash": "solid",
          "width": 5
         },
         "marker": {
          "symbol": "circle"
         },
         "mode": "lines",
         "name": "",
         "orientation": "v",
         "showlegend": true,
         "type": "scatter",
         "x": [
          "2023-08-03",
          "2023-08-10",
          null
         ],
         "xaxis": "x",
         "y": [
          3.3,
          3.65,
          null
         ],
         "yaxis": "y"
        },
        {
         "customdata": [
          [
           19.555555555555557,
           "L4",
           "2023-08-10",
           "2023-08-17",
           80.33333333333333
          ],
          [
           19.555555555555557,
           "L4",
           "2023-08-10",
           "2023-08-17",
           99.88888888888889
          ],
          [
           19.555555555555557,
           null,
           null,
           null,
           null
          ]
         ],
         "hovertemplate": "Date Range: %{customdata[2]} to %{customdata[3]}<br>Progress in period: %{customdata[0]:.2f} %<br>Cumulative Progress: %{customdata[4]:.2f} %<br>Level: %{customdata[1]}",
         "legendgroup": "19.555555555555557",
         "line": {
          "color": "#c1db00",
          "dash": "solid",
          "width": 5
         },
         "marker": {
          "symbol": "circle"
         },
         "mode": "lines",
         "name": "",
         "orientation": "v",
         "showlegend": true,
         "type": "scatter",
         "x": [
          "2023-08-10",
          "2023-08-17",
          null
         ],
         "xaxis": "x",
         "y": [
          3.65,
          4,
          null
         ],
         "yaxis": "y"
        },
        {
         "customdata": [
          [
           32.388888888888886,
           "L5",
           "2023-07-28",
           "2023-08-03",
           0
          ],
          [
           32.388888888888886,
           "L5",
           "2023-07-28",
           "2023-08-03",
           32.388888888888886
          ],
          [
           32.388888888888886,
           null,
           null,
           null,
           null
          ]
         ],
         "hovertemplate": "Date Range: %{customdata[2]} to %{customdata[3]}<br>Progress in period: %{customdata[0]:.2f} %<br>Cumulative Progress: %{customdata[4]:.2f} %<br>Level: %{customdata[1]}",
         "legendgroup": "32.388888888888886",
         "line": {
          "color": "#34eb00",
          "dash": "solid",
          "width": 5
         },
         "marker": {
          "symbol": "circle"
         },
         "mode": "lines",
         "name": "",
         "orientation": "v",
         "showlegend": true,
         "type": "scatter",
         "x": [
          "2023-07-28",
          "2023-08-03",
          null
         ],
         "xaxis": "x",
         "y": [
          4,
          4.146341463414634,
          null
         ],
         "yaxis": "y"
        },
        {
         "customdata": [
          [
           30.333333333333336,
           "L5",
           "2023-08-03",
           "2023-08-10",
           32.388888888888886
          ],
          [
           30.333333333333336,
           "L5",
           "2023-08-03",
           "2023-08-10",
           62.72222222222222
          ],
          [
           30.333333333333336,
           null,
           null,
           null,
           null
          ]
         ],
         "hovertemplate": "Date Range: %{customdata[2]} to %{customdata[3]}<br>Progress in period: %{customdata[0]:.2f} %<br>Cumulative Progress: %{customdata[4]:.2f} %<br>Level: %{customdata[1]}",
         "legendgroup": "30.333333333333336",
         "line": {
          "color": "#34eb00",
          "dash": "solid",
          "width": 5
         },
         "marker": {
          "symbol": "circle"
         },
         "mode": "lines",
         "name": "",
         "orientation": "v",
         "showlegend": true,
         "type": "scatter",
         "x": [
          "2023-08-03",
          "2023-08-10",
          null
         ],
         "xaxis": "x",
         "y": [
          4.146341463414634,
          4.317073170731708,
          null
         ],
         "yaxis": "y"
        },
        {
         "customdata": [
          [
           3.7777777777777786,
           "L5",
           "2023-08-10",
           "2023-08-17",
           62.72222222222222
          ],
          [
           3.7777777777777786,
           "L5",
           "2023-08-10",
           "2023-08-17",
           66.5
          ],
          [
           3.7777777777777786,
           null,
           null,
           null,
           null
          ]
         ],
         "hovertemplate": "Date Range: %{customdata[2]} to %{customdata[3]}<br>Progress in period: %{customdata[0]:.2f} %<br>Cumulative Progress: %{customdata[4]:.2f} %<br>Level: %{customdata[1]}",
         "legendgroup": "3.7777777777777786",
         "line": {
          "color": "#ff3500",
          "dash": "solid",
          "width": 5
         },
         "marker": {
          "symbol": "circle"
         },
         "mode": "lines",
         "name": "",
         "orientation": "v",
         "showlegend": true,
         "type": "scatter",
         "x": [
          "2023-08-10",
          "2023-08-17",
          null
         ],
         "xaxis": "x",
         "y": [
          4.317073170731708,
          4.487804878048781,
          null
         ],
         "yaxis": "y"
        },
        {
         "customdata": [
          [
           33.33333333333333,
           "L5",
           "2023-08-31",
           "2023-09-07",
           66.5
          ],
          [
           33.33333333333333,
           "L5",
           "2023-08-31",
           "2023-09-07",
           99.83333333333333
          ],
          [
           33.33333333333333,
           null,
           null,
           null,
           null
          ]
         ],
         "hovertemplate": "Date Range: %{customdata[2]} to %{customdata[3]}<br>Progress in period: %{customdata[0]:.2f} %<br>Cumulative Progress: %{customdata[4]:.2f} %<br>Level: %{customdata[1]}",
         "legendgroup": "33.33333333333333",
         "line": {
          "color": "#34eb00",
          "dash": "solid",
          "width": 5
         },
         "marker": {
          "symbol": "circle"
         },
         "mode": "lines",
         "name": "",
         "orientation": "v",
         "showlegend": true,
         "type": "scatter",
         "x": [
          "2023-08-31",
          "2023-09-07",
          null
         ],
         "xaxis": "x",
         "y": [
          4.829268292682927,
          5,
          null
         ],
         "yaxis": "y"
        },
        {
         "customdata": [
          [
           19.166666666666668,
           "L6",
           "2023-08-03",
           "2023-08-10",
           0
          ],
          [
           19.166666666666668,
           "L6",
           "2023-08-03",
           "2023-08-10",
           19.166666666666668
          ],
          [
           19.166666666666668,
           null,
           null,
           null,
           null
          ]
         ],
         "hovertemplate": "Date Range: %{customdata[2]} to %{customdata[3]}<br>Progress in period: %{customdata[0]:.2f} %<br>Cumulative Progress: %{customdata[4]:.2f} %<br>Level: %{customdata[1]}",
         "legendgroup": "19.166666666666668",
         "line": {
          "color": "#c7da00",
          "dash": "solid",
          "width": 5
         },
         "marker": {
          "symbol": "circle"
         },
         "mode": "lines",
         "name": "",
         "orientation": "v",
         "showlegend": true,
         "type": "scatter",
         "x": [
          "2023-08-03",
          "2023-08-10",
          null
         ],
         "xaxis": "x",
         "y": [
          5,
          5.166666666666667,
          null
         ],
         "yaxis": "y"
        },
        {
         "customdata": [
          [
           22.444444444444446,
           "L6",
           "2023-08-10",
           "2023-08-17",
           19.166666666666668
          ],
          [
           22.444444444444446,
           "L6",
           "2023-08-10",
           "2023-08-17",
           41.611111111111114
          ],
          [
           22.444444444444446,
           null,
           null,
           null,
           null
          ]
         ],
         "hovertemplate": "Date Range: %{customdata[2]} to %{customdata[3]}<br>Progress in period: %{customdata[0]:.2f} %<br>Cumulative Progress: %{customdata[4]:.2f} %<br>Level: %{customdata[1]}",
         "legendgroup": "22.444444444444446",
         "line": {
          "color": "#9adf00",
          "dash": "solid",
          "width": 5
         },
         "marker": {
          "symbol": "circle"
         },
         "mode": "lines",
         "name": "",
         "orientation": "v",
         "showlegend": true,
         "type": "scatter",
         "x": [
          "2023-08-10",
          "2023-08-17",
          null
         ],
         "xaxis": "x",
         "y": [
          5.166666666666667,
          5.333333333333333,
          null
         ],
         "yaxis": "y"
        },
        {
         "customdata": [
          [
           24.055555555555557,
           "L6",
           "2023-08-31",
           "2023-09-07",
           41.611111111111114
          ],
          [
           24.055555555555557,
           "L6",
           "2023-08-31",
           "2023-09-07",
           65.66666666666667
          ],
          [
           24.055555555555557,
           null,
           null,
           null,
           null
          ]
         ],
         "hovertemplate": "Date Range: %{customdata[2]} to %{customdata[3]}<br>Progress in period: %{customdata[0]:.2f} %<br>Cumulative Progress: %{customdata[4]:.2f} %<br>Level: %{customdata[1]}",
         "legendgroup": "24.055555555555557",
         "line": {
          "color": "#84e200",
          "dash": "solid",
          "width": 5
         },
         "marker": {
          "symbol": "circle"
         },
         "mode": "lines",
         "name": "",
         "orientation": "v",
         "showlegend": true,
         "type": "scatter",
         "x": [
          "2023-08-31",
          "2023-09-07",
          null
         ],
         "xaxis": "x",
         "y": [
          5.666666666666667,
          5.833333333333333,
          null
         ],
         "yaxis": "y"
        },
        {
         "customdata": [
          [
           33.16666666666666,
           "L6",
           "2023-09-07",
           "2023-09-14",
           65.66666666666667
          ],
          [
           33.16666666666666,
           "L6",
           "2023-09-07",
           "2023-09-14",
           98.83333333333333
          ],
          [
           33.16666666666666,
           null,
           null,
           null,
           null
          ]
         ],
         "hovertemplate": "Date Range: %{customdata[2]} to %{customdata[3]}<br>Progress in period: %{customdata[0]:.2f} %<br>Cumulative Progress: %{customdata[4]:.2f} %<br>Level: %{customdata[1]}",
         "legendgroup": "33.16666666666666",
         "line": {
          "color": "#34eb00",
          "dash": "solid",
          "width": 5
         },
         "marker": {
          "symbol": "circle"
         },
         "mode": "lines",
         "name": "",
         "orientation": "v",
         "showlegend": true,
         "type": "scatter",
         "x": [
          "2023-09-07",
          "2023-09-14",
          null
         ],
         "xaxis": "x",
         "y": [
          5.833333333333333,
          6,
          null
         ],
         "yaxis": "y"
        },
        {
         "customdata": [
          [
           14.055555555555555,
           "L7",
           "2023-08-10",
           "2023-08-17",
           0
          ],
          [
           14.055555555555555,
           "L7",
           "2023-08-10",
           "2023-08-17",
           14.055555555555555
          ],
          [
           14.055555555555555,
           null,
           null,
           null,
           null
          ]
         ],
         "hovertemplate": "Date Range: %{customdata[2]} to %{customdata[3]}<br>Progress in period: %{customdata[0]:.2f} %<br>Cumulative Progress: %{customdata[4]:.2f} %<br>Level: %{customdata[1]}",
         "legendgroup": "14.055555555555555",
         "line": {
          "color": "#ffc700",
          "dash": "solid",
          "width": 5
         },
         "marker": {
          "symbol": "circle"
         },
         "mode": "lines",
         "name": "",
         "orientation": "v",
         "showlegend": true,
         "type": "scatter",
         "x": [
          "2023-08-10",
          "2023-08-17",
          null
         ],
         "xaxis": "x",
         "y": [
          6,
          6.152111111111111,
          null
         ],
         "yaxis": "y"
        },
        {
         "customdata": [
          [
           30.388888888888886,
           "L7",
           "2023-08-31",
           "2023-09-07",
           14.055555555555555
          ],
          [
           30.388888888888886,
           "L7",
           "2023-08-31",
           "2023-09-07",
           44.44444444444444
          ],
          [
           30.388888888888886,
           null,
           null,
           null,
           null
          ]
         ],
         "hovertemplate": "Date Range: %{customdata[2]} to %{customdata[3]}<br>Progress in period: %{customdata[0]:.2f} %<br>Cumulative Progress: %{customdata[4]:.2f} %<br>Level: %{customdata[1]}",
         "legendgroup": "30.388888888888886",
         "line": {
          "color": "#34eb00",
          "dash": "solid",
          "width": 5
         },
         "marker": {
          "symbol": "circle"
         },
         "mode": "lines",
         "name": "",
         "orientation": "v",
         "showlegend": true,
         "type": "scatter",
         "x": [
          "2023-08-31",
          "2023-09-07",
          null
         ],
         "xaxis": "x",
         "y": [
          6.456333333333333,
          6.608444444444444,
          null
         ],
         "yaxis": "y"
        },
        {
         "customdata": [
          [
           31.611111111111114,
           "L7",
           "2023-09-07",
           "2023-09-14",
           44.44444444444444
          ],
          [
           31.611111111111114,
           "L7",
           "2023-09-07",
           "2023-09-14",
           76.05555555555556
          ],
          [
           31.611111111111114,
           null,
           null,
           null,
           null
          ]
         ],
         "hovertemplate": "Date Range: %{customdata[2]} to %{customdata[3]}<br>Progress in period: %{customdata[0]:.2f} %<br>Cumulative Progress: %{customdata[4]:.2f} %<br>Level: %{customdata[1]}",
         "legendgroup": "31.611111111111114",
         "line": {
          "color": "#34eb00",
          "dash": "solid",
          "width": 5
         },
         "marker": {
          "symbol": "circle"
         },
         "mode": "lines",
         "name": "",
         "orientation": "v",
         "showlegend": true,
         "type": "scatter",
         "x": [
          "2023-09-07",
          "2023-09-14",
          null
         ],
         "xaxis": "x",
         "y": [
          6.608444444444444,
          6.760555555555555,
          null
         ],
         "yaxis": "y"
        },
        {
         "customdata": [
          [
           23.77777777777778,
           "L8",
           "2023-08-31",
           "2023-09-07",
           0
          ],
          [
           23.77777777777778,
           "L8",
           "2023-08-31",
           "2023-09-07",
           23.77777777777778
          ],
          [
           23.77777777777778,
           null,
           null,
           null,
           null
          ]
         ],
         "hovertemplate": "Date Range: %{customdata[2]} to %{customdata[3]}<br>Progress in period: %{customdata[0]:.2f} %<br>Cumulative Progress: %{customdata[4]:.2f} %<br>Level: %{customdata[1]}",
         "legendgroup": "23.77777777777778",
         "line": {
          "color": "#88e100",
          "dash": "solid",
          "width": 5
         },
         "marker": {
          "symbol": "circle"
         },
         "mode": "lines",
         "name": "",
         "orientation": "v",
         "showlegend": true,
         "type": "scatter",
         "x": [
          "2023-08-31",
          "2023-09-07",
          null
         ],
         "xaxis": "x",
         "y": [
          7,
          7.171944444444445,
          null
         ],
         "yaxis": "y"
        },
        {
         "customdata": [
          [
           10.611111111111107,
           "L8",
           "2023-09-07",
           "2023-09-14",
           23.77777777777778
          ],
          [
           10.611111111111107,
           "L8",
           "2023-09-07",
           "2023-09-14",
           34.388888888888886
          ],
          [
           10.611111111111107,
           null,
           null,
           null,
           null
          ]
         ],
         "hovertemplate": "Date Range: %{customdata[2]} to %{customdata[3]}<br>Progress in period: %{customdata[0]:.2f} %<br>Cumulative Progress: %{customdata[4]:.2f} %<br>Level: %{customdata[1]}",
         "legendgroup": "10.611111111111107",
         "line": {
          "color": "#ff9600",
          "dash": "solid",
          "width": 5
         },
         "marker": {
          "symbol": "circle"
         },
         "mode": "lines",
         "name": "",
         "orientation": "v",
         "showlegend": true,
         "type": "scatter",
         "x": [
          "2023-09-07",
          "2023-09-14",
          null
         ],
         "xaxis": "x",
         "y": [
          7.171944444444445,
          7.3438888888888885,
          null
         ],
         "yaxis": "y"
        },
        {
         "hovertemplate": "x=%{x}<br>y=%{y}<br>color=%{marker.color}<extra></extra>",
         "legendgroup": "",
         "line": {
          "width": 5
         },
         "marker": {
          "color": [
           0,
           15,
           30
          ],
          "coloraxis": "coloraxis",
          "symbol": "circle"
         },
         "mode": "markers",
         "name": "",
         "orientation": "v",
         "showlegend": false,
         "type": "scatter",
         "x": [
          null,
          null,
          null
         ],
         "xaxis": "x",
         "y": [
          null,
          null,
          null
         ],
         "yaxis": "y"
        }
       ],
       "layout": {
        "coloraxis": {
         "colorbar": {
          "title": {
           "text": "Percentage progress (%)"
          }
         },
         "colorscale": [
          [
           0,
           "rgb(255,0,0)"
          ],
          [
           0.5,
           "rgb(255,212,0)"
          ],
          [
           1,
           "rgb(52,235,0)"
          ]
         ]
        },
        "height": 560,
        "legend": {
         "tracegroupgap": 0
        },
        "showlegend": false,
        "template": {
         "data": {
          "bar": [
           {
            "error_x": {
             "color": "rgb(36,36,36)"
            },
            "error_y": {
             "color": "rgb(36,36,36)"
            },
            "marker": {
             "line": {
              "color": "rgb(234,234,242)",
              "width": 0.5
             },
             "pattern": {
              "fillmode": "overlay",
              "size": 10,
              "solidity": 0.2
             }
            },
            "type": "bar"
           }
          ],
          "barpolar": [
           {
            "marker": {
             "line": {
              "color": "rgb(234,234,242)",
              "width": 0.5
             },
             "pattern": {
              "fillmode": "overlay",
              "size": 10,
              "solidity": 0.2
             }
            },
            "type": "barpolar"
           }
          ],
          "carpet": [
           {
            "aaxis": {
             "endlinecolor": "rgb(36,36,36)",
             "gridcolor": "white",
             "linecolor": "white",
             "minorgridcolor": "white",
             "startlinecolor": "rgb(36,36,36)"
            },
            "baxis": {
             "endlinecolor": "rgb(36,36,36)",
             "gridcolor": "white",
             "linecolor": "white",
             "minorgridcolor": "white",
             "startlinecolor": "rgb(36,36,36)"
            },
            "type": "carpet"
           }
          ],
          "choropleth": [
           {
            "colorbar": {
             "outlinewidth": 0,
             "tickcolor": "rgb(36,36,36)",
             "ticklen": 8,
             "ticks": "outside",
             "tickwidth": 2
            },
            "type": "choropleth"
           }
          ],
          "contour": [
           {
            "colorbar": {
             "outlinewidth": 0,
             "tickcolor": "rgb(36,36,36)",
             "ticklen": 8,
             "ticks": "outside",
             "tickwidth": 2
            },
            "colorscale": [
             [
              0,
              "rgb(2,4,25)"
             ],
             [
              0.06274509803921569,
              "rgb(24,15,41)"
             ],
             [
              0.12549019607843137,
              "rgb(47,23,57)"
             ],
             [
              0.18823529411764706,
              "rgb(71,28,72)"
             ],
             [
              0.25098039215686274,
              "rgb(97,30,82)"
             ],
             [
              0.3137254901960784,
              "rgb(123,30,89)"
             ],
             [
              0.3764705882352941,
              "rgb(150,27,91)"
             ],
             [
              0.4392156862745098,
              "rgb(177,22,88)"
             ],
             [
              0.5019607843137255,
              "rgb(203,26,79)"
             ],
             [
              0.5647058823529412,
              "rgb(223,47,67)"
             ],
             [
              0.6274509803921569,
              "rgb(236,76,61)"
             ],
             [
              0.6901960784313725,
              "rgb(242,107,73)"
             ],
             [
              0.7529411764705882,
              "rgb(244,135,95)"
             ],
             [
              0.8156862745098039,
              "rgb(245,162,122)"
             ],
             [
              0.8784313725490196,
              "rgb(246,188,153)"
             ],
             [
              0.9411764705882353,
              "rgb(247,212,187)"
             ],
             [
              1,
              "rgb(250,234,220)"
             ]
            ],
            "type": "contour"
           }
          ],
          "contourcarpet": [
           {
            "colorbar": {
             "outlinewidth": 0,
             "tickcolor": "rgb(36,36,36)",
             "ticklen": 8,
             "ticks": "outside",
             "tickwidth": 2
            },
            "type": "contourcarpet"
           }
          ],
          "heatmap": [
           {
            "colorbar": {
             "outlinewidth": 0,
             "tickcolor": "rgb(36,36,36)",
             "ticklen": 8,
             "ticks": "outside",
             "tickwidth": 2
            },
            "colorscale": [
             [
              0,
              "rgb(2,4,25)"
             ],
             [
              0.06274509803921569,
              "rgb(24,15,41)"
             ],
             [
              0.12549019607843137,
              "rgb(47,23,57)"
             ],
             [
              0.18823529411764706,
              "rgb(71,28,72)"
             ],
             [
              0.25098039215686274,
              "rgb(97,30,82)"
             ],
             [
              0.3137254901960784,
              "rgb(123,30,89)"
             ],
             [
              0.3764705882352941,
              "rgb(150,27,91)"
             ],
             [
              0.4392156862745098,
              "rgb(177,22,88)"
             ],
             [
              0.5019607843137255,
              "rgb(203,26,79)"
             ],
             [
              0.5647058823529412,
              "rgb(223,47,67)"
             ],
             [
              0.6274509803921569,
              "rgb(236,76,61)"
             ],
             [
              0.6901960784313725,
              "rgb(242,107,73)"
             ],
             [
              0.7529411764705882,
              "rgb(244,135,95)"
             ],
             [
              0.8156862745098039,
              "rgb(245,162,122)"
             ],
             [
              0.8784313725490196,
              "rgb(246,188,153)"
             ],
             [
              0.9411764705882353,
              "rgb(247,212,187)"
             ],
             [
              1,
              "rgb(250,234,220)"
             ]
            ],
            "type": "heatmap"
           }
          ],
          "heatmapgl": [
           {
            "colorbar": {
             "outlinewidth": 0,
             "tickcolor": "rgb(36,36,36)",
             "ticklen": 8,
             "ticks": "outside",
             "tickwidth": 2
            },
            "colorscale": [
             [
              0,
              "rgb(2,4,25)"
             ],
             [
              0.06274509803921569,
              "rgb(24,15,41)"
             ],
             [
              0.12549019607843137,
              "rgb(47,23,57)"
             ],
             [
              0.18823529411764706,
              "rgb(71,28,72)"
             ],
             [
              0.25098039215686274,
              "rgb(97,30,82)"
             ],
             [
              0.3137254901960784,
              "rgb(123,30,89)"
             ],
             [
              0.3764705882352941,
              "rgb(150,27,91)"
             ],
             [
              0.4392156862745098,
              "rgb(177,22,88)"
             ],
             [
              0.5019607843137255,
              "rgb(203,26,79)"
             ],
             [
              0.5647058823529412,
              "rgb(223,47,67)"
             ],
             [
              0.6274509803921569,
              "rgb(236,76,61)"
             ],
             [
              0.6901960784313725,
              "rgb(242,107,73)"
             ],
             [
              0.7529411764705882,
              "rgb(244,135,95)"
             ],
             [
              0.8156862745098039,
              "rgb(245,162,122)"
             ],
             [
              0.8784313725490196,
              "rgb(246,188,153)"
             ],
             [
              0.9411764705882353,
              "rgb(247,212,187)"
             ],
             [
              1,
              "rgb(250,234,220)"
             ]
            ],
            "type": "heatmapgl"
           }
          ],
          "histogram": [
           {
            "marker": {
             "pattern": {
              "fillmode": "overlay",
              "size": 10,
              "solidity": 0.2
             }
            },
            "type": "histogram"
           }
          ],
          "histogram2d": [
           {
            "colorbar": {
             "outlinewidth": 0,
             "tickcolor": "rgb(36,36,36)",
             "ticklen": 8,
             "ticks": "outside",
             "tickwidth": 2
            },
            "colorscale": [
             [
              0,
              "rgb(2,4,25)"
             ],
             [
              0.06274509803921569,
              "rgb(24,15,41)"
             ],
             [
              0.12549019607843137,
              "rgb(47,23,57)"
             ],
             [
              0.18823529411764706,
              "rgb(71,28,72)"
             ],
             [
              0.25098039215686274,
              "rgb(97,30,82)"
             ],
             [
              0.3137254901960784,
              "rgb(123,30,89)"
             ],
             [
              0.3764705882352941,
              "rgb(150,27,91)"
             ],
             [
              0.4392156862745098,
              "rgb(177,22,88)"
             ],
             [
              0.5019607843137255,
              "rgb(203,26,79)"
             ],
             [
              0.5647058823529412,
              "rgb(223,47,67)"
             ],
             [
              0.6274509803921569,
              "rgb(236,76,61)"
             ],
             [
              0.6901960784313725,
              "rgb(242,107,73)"
             ],
             [
              0.7529411764705882,
              "rgb(244,135,95)"
             ],
             [
              0.8156862745098039,
              "rgb(245,162,122)"
             ],
             [
              0.8784313725490196,
              "rgb(246,188,153)"
             ],
             [
              0.9411764705882353,
              "rgb(247,212,187)"
             ],
             [
              1,
              "rgb(250,234,220)"
             ]
            ],
            "type": "histogram2d"
           }
          ],
          "histogram2dcontour": [
           {
            "colorbar": {
             "outlinewidth": 0,
             "tickcolor": "rgb(36,36,36)",
             "ticklen": 8,
             "ticks": "outside",
             "tickwidth": 2
            },
            "colorscale": [
             [
              0,
              "rgb(2,4,25)"
             ],
             [
              0.06274509803921569,
              "rgb(24,15,41)"
             ],
             [
              0.12549019607843137,
              "rgb(47,23,57)"
             ],
             [
              0.18823529411764706,
              "rgb(71,28,72)"
             ],
             [
              0.25098039215686274,
              "rgb(97,30,82)"
             ],
             [
              0.3137254901960784,
              "rgb(123,30,89)"
             ],
             [
              0.3764705882352941,
              "rgb(150,27,91)"
             ],
             [
              0.4392156862745098,
              "rgb(177,22,88)"
             ],
             [
              0.5019607843137255,
              "rgb(203,26,79)"
             ],
             [
              0.5647058823529412,
              "rgb(223,47,67)"
             ],
             [
              0.6274509803921569,
              "rgb(236,76,61)"
             ],
             [
              0.6901960784313725,
              "rgb(242,107,73)"
             ],
             [
              0.7529411764705882,
              "rgb(244,135,95)"
             ],
             [
              0.8156862745098039,
              "rgb(245,162,122)"
             ],
             [
              0.8784313725490196,
              "rgb(246,188,153)"
             ],
             [
              0.9411764705882353,
              "rgb(247,212,187)"
             ],
             [
              1,
              "rgb(250,234,220)"
             ]
            ],
            "type": "histogram2dcontour"
           }
          ],
          "mesh3d": [
           {
            "colorbar": {
             "outlinewidth": 0,
             "tickcolor": "rgb(36,36,36)",
             "ticklen": 8,
             "ticks": "outside",
             "tickwidth": 2
            },
            "type": "mesh3d"
           }
          ],
          "parcoords": [
           {
            "line": {
             "colorbar": {
              "outlinewidth": 0,
              "tickcolor": "rgb(36,36,36)",
              "ticklen": 8,
              "ticks": "outside",
              "tickwidth": 2
             }
            },
            "type": "parcoords"
           }
          ],
          "pie": [
           {
            "automargin": true,
            "type": "pie"
           }
          ],
          "scatter": [
           {
            "marker": {
             "colorbar": {
              "outlinewidth": 0,
              "tickcolor": "rgb(36,36,36)",
              "ticklen": 8,
              "ticks": "outside",
              "tickwidth": 2
             }
            },
            "type": "scatter"
           }
          ],
          "scatter3d": [
           {
            "line": {
             "colorbar": {
              "outlinewidth": 0,
              "tickcolor": "rgb(36,36,36)",
              "ticklen": 8,
              "ticks": "outside",
              "tickwidth": 2
             }
            },
            "marker": {
             "colorbar": {
              "outlinewidth": 0,
              "tickcolor": "rgb(36,36,36)",
              "ticklen": 8,
              "ticks": "outside",
              "tickwidth": 2
             }
            },
            "type": "scatter3d"
           }
          ],
          "scattercarpet": [
           {
            "marker": {
             "colorbar": {
              "outlinewidth": 0,
              "tickcolor": "rgb(36,36,36)",
              "ticklen": 8,
              "ticks": "outside",
              "tickwidth": 2
             }
            },
            "type": "scattercarpet"
           }
          ],
          "scattergeo": [
           {
            "marker": {
             "colorbar": {
              "outlinewidth": 0,
              "tickcolor": "rgb(36,36,36)",
              "ticklen": 8,
              "ticks": "outside",
              "tickwidth": 2
             }
            },
            "type": "scattergeo"
           }
          ],
          "scattergl": [
           {
            "marker": {
             "colorbar": {
              "outlinewidth": 0,
              "tickcolor": "rgb(36,36,36)",
              "ticklen": 8,
              "ticks": "outside",
              "tickwidth": 2
             }
            },
            "type": "scattergl"
           }
          ],
          "scattermapbox": [
           {
            "marker": {
             "colorbar": {
              "outlinewidth": 0,
              "tickcolor": "rgb(36,36,36)",
              "ticklen": 8,
              "ticks": "outside",
              "tickwidth": 2
             }
            },
            "type": "scattermapbox"
           }
          ],
          "scatterpolar": [
           {
            "marker": {
             "colorbar": {
              "outlinewidth": 0,
              "tickcolor": "rgb(36,36,36)",
              "ticklen": 8,
              "ticks": "outside",
              "tickwidth": 2
             }
            },
            "type": "scatterpolar"
           }
          ],
          "scatterpolargl": [
           {
            "marker": {
             "colorbar": {
              "outlinewidth": 0,
              "tickcolor": "rgb(36,36,36)",
              "ticklen": 8,
              "ticks": "outside",
              "tickwidth": 2
             }
            },
            "type": "scatterpolargl"
           }
          ],
          "scatterternary": [
           {
            "marker": {
             "colorbar": {
              "outlinewidth": 0,
              "tickcolor": "rgb(36,36,36)",
              "ticklen": 8,
              "ticks": "outside",
              "tickwidth": 2
             }
            },
            "type": "scatterternary"
           }
          ],
          "surface": [
           {
            "colorbar": {
             "outlinewidth": 0,
             "tickcolor": "rgb(36,36,36)",
             "ticklen": 8,
             "ticks": "outside",
             "tickwidth": 2
            },
            "colorscale": [
             [
              0,
              "rgb(2,4,25)"
             ],
             [
              0.06274509803921569,
              "rgb(24,15,41)"
             ],
             [
              0.12549019607843137,
              "rgb(47,23,57)"
             ],
             [
              0.18823529411764706,
              "rgb(71,28,72)"
             ],
             [
              0.25098039215686274,
              "rgb(97,30,82)"
             ],
             [
              0.3137254901960784,
              "rgb(123,30,89)"
             ],
             [
              0.3764705882352941,
              "rgb(150,27,91)"
             ],
             [
              0.4392156862745098,
              "rgb(177,22,88)"
             ],
             [
              0.5019607843137255,
              "rgb(203,26,79)"
             ],
             [
              0.5647058823529412,
              "rgb(223,47,67)"
             ],
             [
              0.6274509803921569,
              "rgb(236,76,61)"
             ],
             [
              0.6901960784313725,
              "rgb(242,107,73)"
             ],
             [
              0.7529411764705882,
              "rgb(244,135,95)"
             ],
             [
              0.8156862745098039,
              "rgb(245,162,122)"
             ],
             [
              0.8784313725490196,
              "rgb(246,188,153)"
             ],
             [
              0.9411764705882353,
              "rgb(247,212,187)"
             ],
             [
              1,
              "rgb(250,234,220)"
             ]
            ],
            "type": "surface"
           }
          ],
          "table": [
           {
            "cells": {
             "fill": {
              "color": "rgb(231,231,240)"
             },
             "line": {
              "color": "white"
             }
            },
            "header": {
             "fill": {
              "color": "rgb(183,183,191)"
             },
             "line": {
              "color": "white"
             }
            },
            "type": "table"
           }
          ]
         },
         "layout": {
          "annotationdefaults": {
           "arrowcolor": "rgb(67,103,167)"
          },
          "autotypenumbers": "strict",
          "coloraxis": {
           "colorbar": {
            "outlinewidth": 0,
            "tickcolor": "rgb(36,36,36)",
            "ticklen": 8,
            "ticks": "outside",
            "tickwidth": 2
           }
          },
          "colorscale": {
           "sequential": [
            [
             0,
             "rgb(2,4,25)"
            ],
            [
             0.06274509803921569,
             "rgb(24,15,41)"
            ],
            [
             0.12549019607843137,
             "rgb(47,23,57)"
            ],
            [
             0.18823529411764706,
             "rgb(71,28,72)"
            ],
            [
             0.25098039215686274,
             "rgb(97,30,82)"
            ],
            [
             0.3137254901960784,
             "rgb(123,30,89)"
            ],
            [
             0.3764705882352941,
             "rgb(150,27,91)"
            ],
            [
             0.4392156862745098,
             "rgb(177,22,88)"
            ],
            [
             0.5019607843137255,
             "rgb(203,26,79)"
            ],
            [
             0.5647058823529412,
             "rgb(223,47,67)"
            ],
            [
             0.6274509803921569,
             "rgb(236,76,61)"
            ],
            [
             0.6901960784313725,
             "rgb(242,107,73)"
            ],
            [
             0.7529411764705882,
             "rgb(244,135,95)"
            ],
            [
             0.8156862745098039,
             "rgb(245,162,122)"
            ],
            [
             0.8784313725490196,
             "rgb(246,188,153)"
            ],
            [
             0.9411764705882353,
             "rgb(247,212,187)"
            ],
            [
             1,
             "rgb(250,234,220)"
            ]
           ],
           "sequentialminus": [
            [
             0,
             "rgb(2,4,25)"
            ],
            [
             0.06274509803921569,
             "rgb(24,15,41)"
            ],
            [
             0.12549019607843137,
             "rgb(47,23,57)"
            ],
            [
             0.18823529411764706,
             "rgb(71,28,72)"
            ],
            [
             0.25098039215686274,
             "rgb(97,30,82)"
            ],
            [
             0.3137254901960784,
             "rgb(123,30,89)"
            ],
            [
             0.3764705882352941,
             "rgb(150,27,91)"
            ],
            [
             0.4392156862745098,
             "rgb(177,22,88)"
            ],
            [
             0.5019607843137255,
             "rgb(203,26,79)"
            ],
            [
             0.5647058823529412,
             "rgb(223,47,67)"
            ],
            [
             0.6274509803921569,
             "rgb(236,76,61)"
            ],
            [
             0.6901960784313725,
             "rgb(242,107,73)"
            ],
            [
             0.7529411764705882,
             "rgb(244,135,95)"
            ],
            [
             0.8156862745098039,
             "rgb(245,162,122)"
            ],
            [
             0.8784313725490196,
             "rgb(246,188,153)"
            ],
            [
             0.9411764705882353,
             "rgb(247,212,187)"
            ],
            [
             1,
             "rgb(250,234,220)"
            ]
           ]
          },
          "colorway": [
           "rgb(76,114,176)",
           "rgb(221,132,82)",
           "rgb(85,168,104)",
           "rgb(196,78,82)",
           "rgb(129,114,179)",
           "rgb(147,120,96)",
           "rgb(218,139,195)",
           "rgb(140,140,140)",
           "rgb(204,185,116)",
           "rgb(100,181,205)"
          ],
          "font": {
           "color": "rgb(36,36,36)"
          },
          "geo": {
           "bgcolor": "white",
           "lakecolor": "white",
           "landcolor": "rgb(234,234,242)",
           "showlakes": true,
           "showland": true,
           "subunitcolor": "white"
          },
          "hoverlabel": {
           "align": "left"
          },
          "hovermode": "closest",
          "paper_bgcolor": "white",
          "plot_bgcolor": "rgb(234,234,242)",
          "polar": {
           "angularaxis": {
            "gridcolor": "white",
            "linecolor": "white",
            "showgrid": true,
            "ticks": ""
           },
           "bgcolor": "rgb(234,234,242)",
           "radialaxis": {
            "gridcolor": "white",
            "linecolor": "white",
            "showgrid": true,
            "ticks": ""
           }
          },
          "scene": {
           "xaxis": {
            "backgroundcolor": "rgb(234,234,242)",
            "gridcolor": "white",
            "gridwidth": 2,
            "linecolor": "white",
            "showbackground": true,
            "showgrid": true,
            "ticks": "",
            "zerolinecolor": "white"
           },
           "yaxis": {
            "backgroundcolor": "rgb(234,234,242)",
            "gridcolor": "white",
            "gridwidth": 2,
            "linecolor": "white",
            "showbackground": true,
            "showgrid": true,
            "ticks": "",
            "zerolinecolor": "white"
           },
           "zaxis": {
            "backgroundcolor": "rgb(234,234,242)",
            "gridcolor": "white",
            "gridwidth": 2,
            "linecolor": "white",
            "showbackground": true,
            "showgrid": true,
            "ticks": "",
            "zerolinecolor": "white"
           }
          },
          "shapedefaults": {
           "fillcolor": "rgb(67,103,167)",
           "line": {
            "width": 0
           },
           "opacity": 0.5
          },
          "ternary": {
           "aaxis": {
            "gridcolor": "white",
            "linecolor": "white",
            "showgrid": true,
            "ticks": ""
           },
           "baxis": {
            "gridcolor": "white",
            "linecolor": "white",
            "showgrid": true,
            "ticks": ""
           },
           "bgcolor": "rgb(234,234,242)",
           "caxis": {
            "gridcolor": "white",
            "linecolor": "white",
            "showgrid": true,
            "ticks": ""
           }
          },
          "xaxis": {
           "automargin": true,
           "gridcolor": "white",
           "linecolor": "white",
           "showgrid": true,
           "ticks": "",
           "title": {
            "standoff": 15
           },
           "zerolinecolor": "white"
          },
          "yaxis": {
           "automargin": true,
           "gridcolor": "white",
           "linecolor": "white",
           "showgrid": true,
           "ticks": "",
           "title": {
            "standoff": 15
           },
           "zerolinecolor": "white"
          }
         }
        },
        "title": {
         "text": "<b>Flowlines Demising Walls North<b>"
        },
        "width": 950,
        "xaxis": {
         "anchor": "y",
         "domain": [
          0,
          1
         ],
         "title": {
          "text": "<b>Date<b>"
         }
        },
        "yaxis": {
         "anchor": "x",
         "domain": [
          0,
          1
         ],
         "tickmode": "array",
         "ticktext": [
          "L0",
          "L1",
          "L2",
          "L3",
          "L4",
          "L5",
          "L6",
          "L7",
          "L8"
         ],
         "tickvals": [
          0,
          1,
          2,
          3,
          4,
          5,
          6,
          7,
          8
         ],
         "title": {
          "text": "<b>Floor<b>"
         }
        }
       }
      }
     },
     "metadata": {},
     "output_type": "display_data"
    },
    {
     "data": {
      "application/vnd.plotly.v1+json": {
       "config": {
        "plotlyServerURL": "https://plot.ly"
       },
       "data": [
        {
         "customdata": [
          [
           "2022-11-07",
           "2022-11-25",
           "L1"
          ],
          [
           "2022-11-07",
           "2022-11-25",
           "L1"
          ],
          [
           null,
           null,
           null
          ],
          [
           "2022-10-31",
           "2022-11-25",
           "L1"
          ],
          [
           "2022-10-31",
           "2022-11-25",
           "L1"
          ],
          [
           null,
           null,
           null
          ],
          [
           "2022-11-21",
           "2022-12-16",
           "L2"
          ],
          [
           "2022-11-21",
           "2022-12-16",
           "L2"
          ],
          [
           null,
           null,
           null
          ],
          [
           "2022-11-18",
           "2022-12-16",
           "L2"
          ],
          [
           "2022-11-18",
           "2022-12-16",
           "L2"
          ],
          [
           null,
           null,
           null
          ],
          [
           "2022-11-21",
           "2022-12-16",
           "L3"
          ],
          [
           "2022-11-21",
           "2022-12-16",
           "L3"
          ],
          [
           null,
           null,
           null
          ],
          [
           "2022-11-21",
           "2022-12-16",
           "L3"
          ],
          [
           "2022-11-21",
           "2022-12-16",
           "L3"
          ],
          [
           null,
           null,
           null
          ],
          [
           "2023-01-02",
           "2023-01-27",
           "L4"
          ],
          [
           "2023-01-02",
           "2023-01-27",
           "L4"
          ],
          [
           null,
           null,
           null
          ],
          [
           "2023-01-02",
           "2023-01-27",
           "L4"
          ],
          [
           "2023-01-02",
           "2023-01-27",
           "L4"
          ],
          [
           null,
           null,
           null
          ],
          [
           "2023-01-16",
           "2023-02-10",
           "L5"
          ],
          [
           "2023-01-16",
           "2023-02-10",
           "L5"
          ],
          [
           null,
           null,
           null
          ],
          [
           "2023-01-16",
           "2023-02-10",
           "L5"
          ],
          [
           "2023-01-16",
           "2023-02-10",
           "L5"
          ],
          [
           null,
           null,
           null
          ],
          [
           "2023-01-26",
           "2023-03-01",
           "L6"
          ],
          [
           "2023-01-26",
           "2023-03-01",
           "L6"
          ],
          [
           null,
           null,
           null
          ],
          [
           "2023-01-26",
           "2023-02-24",
           "L6"
          ],
          [
           "2023-01-26",
           "2023-02-24",
           "L6"
          ],
          [
           null,
           null,
           null
          ],
          [
           "2023-02-03",
           "2023-03-02",
           "L7"
          ],
          [
           "2023-02-03",
           "2023-03-02",
           "L7"
          ],
          [
           null,
           null,
           null
          ],
          [
           "2023-02-03",
           "2023-03-02",
           "L7"
          ],
          [
           "2023-02-03",
           "2023-03-02",
           "L7"
          ],
          [
           null,
           null,
           null
          ],
          [
           "2023-02-17",
           "2023-03-16",
           "L8"
          ],
          [
           "2023-02-17",
           "2023-03-16",
           "L8"
          ],
          [
           null,
           null,
           null
          ],
          [
           "2023-02-17",
           "2023-03-16",
           "L8"
          ],
          [
           "2023-02-17",
           "2023-03-16",
           "L8"
          ],
          [
           null,
           null,
           null
          ],
          [
           "2023-02-20",
           "2023-03-17",
           "L9"
          ],
          [
           "2023-02-20",
           "2023-03-17",
           "L9"
          ],
          [
           null,
           null,
           null
          ],
          [
           "2023-02-20",
           "2023-03-17",
           "L9"
          ],
          [
           "2023-02-20",
           "2023-03-17",
           "L9"
          ],
          [
           null,
           null,
           null
          ],
          [
           "2023-03-03",
           "2023-03-30",
           "L10"
          ],
          [
           "2023-03-03",
           "2023-03-30",
           "L10"
          ],
          [
           null,
           null,
           null
          ],
          [
           "2023-03-03",
           "2023-03-30",
           "L10"
          ],
          [
           "2023-03-03",
           "2023-03-30",
           "L10"
          ],
          [
           null,
           null,
           null
          ],
          [
           "2023-03-03",
           "2023-03-30",
           "L11"
          ],
          [
           "2023-03-03",
           "2023-03-30",
           "L11"
          ],
          [
           null,
           null,
           null
          ],
          [
           "2023-03-03",
           "2023-03-30",
           "L11"
          ],
          [
           "2023-03-03",
           "2023-03-30",
           "L11"
          ],
          [
           null,
           null,
           null
          ]
         ],
         "hovertemplate": "Initial Date: %{customdata[0]}<br>Final Date: %{customdata[1]}<br>Level: %{customdata[2]}",
         "legendgroup": "0, 0",
         "line": {
          "color": "#3366CC",
          "dash": "dash"
         },
         "marker": {
          "symbol": "circle"
         },
         "mode": "lines",
         "name": "Demising Walls Planned",
         "orientation": "v",
         "showlegend": true,
         "type": "scatter",
         "x": [
          "2022-11-07",
          "2022-11-25",
          null,
          "2022-10-31",
          "2022-11-25",
          null,
          "2022-11-21",
          "2022-12-16",
          null,
          "2022-11-18",
          "2022-12-16",
          null,
          "2022-11-21",
          "2022-12-16",
          null,
          "2022-11-21",
          "2022-12-16",
          null,
          "2023-01-02",
          "2023-01-27",
          null,
          "2023-01-02",
          "2023-01-27",
          null,
          "2023-01-16",
          "2023-02-10",
          null,
          "2023-01-16",
          "2023-02-10",
          null,
          "2023-01-26",
          "2023-03-01",
          null,
          "2023-01-26",
          "2023-02-24",
          null,
          "2023-02-03",
          "2023-03-02",
          null,
          "2023-02-03",
          "2023-03-02",
          null,
          "2023-02-17",
          "2023-03-16",
          null,
          "2023-02-17",
          "2023-03-16",
          null,
          "2023-02-20",
          "2023-03-17",
          null,
          "2023-02-20",
          "2023-03-17",
          null,
          "2023-03-03",
          "2023-03-30",
          null,
          "2023-03-03",
          "2023-03-30",
          null,
          "2023-03-03",
          "2023-03-30",
          null,
          "2023-03-03",
          "2023-03-30",
          null
         ],
         "xaxis": "x",
         "y": [
          0,
          0.5,
          null,
          0.5,
          1,
          null,
          1,
          1.5,
          null,
          1.5,
          2,
          null,
          2,
          2.5,
          null,
          2.5,
          3,
          null,
          3,
          3.5,
          null,
          3.5,
          4,
          null,
          4,
          4.5,
          null,
          4.5,
          5,
          null,
          5,
          5.5,
          null,
          5.5,
          6,
          null,
          6,
          6.5,
          null,
          6.5,
          7,
          null,
          7,
          7.5,
          null,
          7.5,
          8,
          null,
          8,
          8.5,
          null,
          8.5,
          9,
          null,
          9,
          9.5,
          null,
          9.5,
          10,
          null,
          10,
          10.5,
          null,
          10.5,
          11,
          null
         ],
         "yaxis": "y"
        },
        {
         "customdata": [
          [
           "2022-11-28",
           "2023-01-17",
           "L1"
          ],
          [
           "2022-11-28",
           "2023-01-17",
           "L1"
          ],
          [
           null,
           null,
           null
          ],
          [
           "2022-12-02",
           "2023-01-20",
           "L1"
          ],
          [
           "2022-12-02",
           "2023-01-20",
           "L1"
          ],
          [
           null,
           null,
           null
          ],
          [
           "2022-12-12",
           "2023-01-27",
           "L2"
          ],
          [
           "2022-12-12",
           "2023-01-27",
           "L2"
          ],
          [
           null,
           null,
           null
          ],
          [
           "2022-12-12",
           "2023-02-13",
           "L2"
          ],
          [
           "2022-12-12",
           "2023-02-13",
           "L2"
          ],
          [
           null,
           null,
           null
          ],
          [
           "2023-01-17",
           "2023-02-17",
           "L3"
          ],
          [
           "2023-01-17",
           "2023-02-17",
           "L3"
          ],
          [
           null,
           null,
           null
          ],
          [
           "2023-01-20",
           "2023-02-20",
           "L3"
          ],
          [
           "2023-01-20",
           "2023-02-20",
           "L3"
          ],
          [
           null,
           null,
           null
          ],
          [
           "2023-01-27",
           "2023-02-20",
           "L4"
          ],
          [
           "2023-01-27",
           "2023-02-20",
           "L4"
          ],
          [
           null,
           null,
           null
          ],
          [
           "2023-01-27",
           "2023-02-24",
           "L4"
          ],
          [
           "2023-01-27",
           "2023-02-24",
           "L4"
          ],
          [
           null,
           null,
           null
          ],
          [
           "2023-02-06",
           "2023-02-20",
           "L5"
          ],
          [
           "2023-02-06",
           "2023-02-20",
           "L5"
          ],
          [
           null,
           null,
           null
          ],
          [
           "2023-02-06",
           "2023-02-27",
           "L5"
          ],
          [
           "2023-02-06",
           "2023-02-27",
           "L5"
          ],
          [
           null,
           null,
           null
          ],
          [
           "2023-02-09",
           "2023-03-09",
           "L6"
          ],
          [
           "2023-02-09",
           "2023-03-09",
           "L6"
          ],
          [
           null,
           null,
           null
          ],
          [
           "2023-02-09",
           "2023-03-06",
           "L6"
          ],
          [
           "2023-02-09",
           "2023-03-06",
           "L6"
          ],
          [
           null,
           null,
           null
          ],
          [
           "2023-02-09",
           "2023-03-10",
           "L7"
          ],
          [
           "2023-02-09",
           "2023-03-10",
           "L7"
          ],
          [
           null,
           null,
           null
          ],
          [
           "2023-02-09",
           "2023-03-10",
           "L7"
          ],
          [
           "2023-02-09",
           "2023-03-10",
           "L7"
          ],
          [
           null,
           null,
           null
          ],
          [
           "2023-02-10",
           "2023-03-24",
           "L8"
          ],
          [
           "2023-02-10",
           "2023-03-24",
           "L8"
          ],
          [
           null,
           null,
           null
          ],
          [
           "2023-02-10",
           "2023-04-03",
           "L8"
          ],
          [
           "2023-02-10",
           "2023-04-03",
           "L8"
          ],
          [
           null,
           null,
           null
          ],
          [
           "2023-02-09",
           "2023-03-27",
           "L9"
          ],
          [
           "2023-02-09",
           "2023-03-27",
           "L9"
          ],
          [
           null,
           null,
           null
          ],
          [
           "2023-02-09",
           "2023-04-03",
           "L9"
          ],
          [
           "2023-02-09",
           "2023-04-03",
           "L9"
          ],
          [
           null,
           null,
           null
          ],
          [
           "2023-03-31",
           "2023-04-14",
           "L10"
          ],
          [
           "2023-03-31",
           "2023-04-14",
           "L10"
          ],
          [
           null,
           null,
           null
          ],
          [
           "2023-04-11",
           "2023-04-21",
           "L10"
          ],
          [
           "2023-04-11",
           "2023-04-21",
           "L10"
          ],
          [
           null,
           null,
           null
          ],
          [
           "2023-03-31",
           "2023-04-14",
           "L11"
          ],
          [
           "2023-03-31",
           "2023-04-14",
           "L11"
          ],
          [
           null,
           null,
           null
          ],
          [
           "2023-04-11",
           "2023-04-21",
           "L11"
          ],
          [
           "2023-04-11",
           "2023-04-21",
           "L11"
          ],
          [
           null,
           null,
           null
          ]
         ],
         "hovertemplate": "Initial Date: %{customdata[0]}<br>Final Date: %{customdata[1]}<br>Level: %{customdata[2]}",
         "legendgroup": "1, 1",
         "line": {
          "color": "#DC3912",
          "dash": "dash"
         },
         "marker": {
          "symbol": "circle"
         },
         "mode": "lines",
         "name": "HL MEP Services (1st Fix) Planned",
         "orientation": "v",
         "showlegend": true,
         "type": "scatter",
         "x": [
          "2022-11-28",
          "2023-01-17",
          null,
          "2022-12-02",
          "2023-01-20",
          null,
          "2022-12-12",
          "2023-01-27",
          null,
          "2022-12-12",
          "2023-02-13",
          null,
          "2023-01-17",
          "2023-02-17",
          null,
          "2023-01-20",
          "2023-02-20",
          null,
          "2023-01-27",
          "2023-02-20",
          null,
          "2023-01-27",
          "2023-02-24",
          null,
          "2023-02-06",
          "2023-02-20",
          null,
          "2023-02-06",
          "2023-02-27",
          null,
          "2023-02-09",
          "2023-03-09",
          null,
          "2023-02-09",
          "2023-03-06",
          null,
          "2023-02-09",
          "2023-03-10",
          null,
          "2023-02-09",
          "2023-03-10",
          null,
          "2023-02-10",
          "2023-03-24",
          null,
          "2023-02-10",
          "2023-04-03",
          null,
          "2023-02-09",
          "2023-03-27",
          null,
          "2023-02-09",
          "2023-04-03",
          null,
          "2023-03-31",
          "2023-04-14",
          null,
          "2023-04-11",
          "2023-04-21",
          null,
          "2023-03-31",
          "2023-04-14",
          null,
          "2023-04-11",
          "2023-04-21",
          null
         ],
         "xaxis": "x",
         "y": [
          0,
          0.5,
          null,
          0.5,
          1,
          null,
          1,
          1.5,
          null,
          1.5,
          2,
          null,
          2,
          2.5,
          null,
          2.5,
          3,
          null,
          3,
          3.5,
          null,
          3.5,
          4,
          null,
          4,
          4.5,
          null,
          4.5,
          5,
          null,
          5,
          5.5,
          null,
          5.5,
          6,
          null,
          6,
          6.5,
          null,
          6.5,
          7,
          null,
          7,
          7.5,
          null,
          7.5,
          8,
          null,
          8,
          8.5,
          null,
          8.5,
          9,
          null,
          9,
          9.5,
          null,
          9.5,
          10,
          null,
          10,
          10.5,
          null,
          10.5,
          11,
          null
         ],
         "yaxis": "y"
        },
        {
         "customdata": [
          [
           "2023-01-24",
           "2023-02-23",
           "L1"
          ],
          [
           "2023-01-24",
           "2023-02-23",
           "L1"
          ],
          [
           null,
           null,
           null
          ],
          [
           "2023-01-20",
           "2023-02-16",
           "L1"
          ],
          [
           "2023-01-20",
           "2023-02-16",
           "L1"
          ],
          [
           null,
           null,
           null
          ],
          [
           "2023-02-13",
           "2023-02-24",
           "L2"
          ],
          [
           "2023-02-13",
           "2023-02-24",
           "L2"
          ],
          [
           null,
           null,
           null
          ],
          [
           "2023-02-14",
           "2023-02-28",
           "L2"
          ],
          [
           "2023-02-14",
           "2023-02-28",
           "L2"
          ],
          [
           null,
           null,
           null
          ],
          [
           "2023-02-20",
           "2023-03-03",
           "L3"
          ],
          [
           "2023-02-20",
           "2023-03-03",
           "L3"
          ],
          [
           null,
           null,
           null
          ],
          [
           "2023-02-22",
           "2023-03-07",
           "L3"
          ],
          [
           "2023-02-22",
           "2023-03-07",
           "L3"
          ],
          [
           null,
           null,
           null
          ],
          [
           "2023-02-22",
           "2023-03-07",
           "L4"
          ],
          [
           "2023-02-22",
           "2023-03-07",
           "L4"
          ],
          [
           null,
           null,
           null
          ],
          [
           "2023-02-28",
           "2023-03-13",
           "L4"
          ],
          [
           "2023-02-28",
           "2023-03-13",
           "L4"
          ],
          [
           null,
           null,
           null
          ],
          [
           "2023-02-22",
           "2023-03-07",
           "L5"
          ],
          [
           "2023-02-22",
           "2023-03-07",
           "L5"
          ],
          [
           null,
           null,
           null
          ],
          [
           "2023-03-01",
           "2023-03-14",
           "L5"
          ],
          [
           "2023-03-01",
           "2023-03-14",
           "L5"
          ],
          [
           null,
           null,
           null
          ],
          [
           "2023-03-10",
           "2023-03-24",
           "L6"
          ],
          [
           "2023-03-10",
           "2023-03-24",
           "L6"
          ],
          [
           null,
           null,
           null
          ],
          [
           "2023-03-08",
           "2023-03-21",
           "L6"
          ],
          [
           "2023-03-08",
           "2023-03-21",
           "L6"
          ],
          [
           null,
           null,
           null
          ],
          [
           "2023-03-14",
           "2023-03-27",
           "L7"
          ],
          [
           "2023-03-14",
           "2023-03-27",
           "L7"
          ],
          [
           null,
           null,
           null
          ],
          [
           "2023-03-14",
           "2023-03-27",
           "L7"
          ],
          [
           "2023-03-14",
           "2023-03-27",
           "L7"
          ],
          [
           null,
           null,
           null
          ],
          [
           "2023-03-28",
           "2023-04-12",
           "L8"
          ],
          [
           "2023-03-28",
           "2023-04-12",
           "L8"
          ],
          [
           null,
           null,
           null
          ],
          [
           "2023-04-05",
           "2023-04-27",
           "L8"
          ],
          [
           "2023-04-05",
           "2023-04-27",
           "L8"
          ],
          [
           null,
           null,
           null
          ],
          [
           "2023-03-29",
           "2023-04-13",
           "L9"
          ],
          [
           "2023-03-29",
           "2023-04-13",
           "L9"
          ],
          [
           null,
           null,
           null
          ],
          [
           "2023-04-05",
           "2023-04-20",
           "L9"
          ],
          [
           "2023-04-05",
           "2023-04-20",
           "L9"
          ],
          [
           null,
           null,
           null
          ],
          [
           "2023-04-18",
           "2023-05-02",
           "L10"
          ],
          [
           "2023-04-18",
           "2023-05-02",
           "L10"
          ],
          [
           null,
           null,
           null
          ],
          [
           "2023-04-25",
           "2023-05-09",
           "L10"
          ],
          [
           "2023-04-25",
           "2023-05-09",
           "L10"
          ],
          [
           null,
           null,
           null
          ],
          [
           "2023-04-18",
           "2023-05-02",
           "L11"
          ],
          [
           "2023-04-18",
           "2023-05-02",
           "L11"
          ],
          [
           null,
           null,
           null
          ],
          [
           "2023-04-25",
           "2023-05-09",
           "L11"
          ],
          [
           "2023-04-25",
           "2023-05-09",
           "L11"
          ],
          [
           null,
           null,
           null
          ]
         ],
         "hovertemplate": "Initial Date: %{customdata[0]}<br>Final Date: %{customdata[1]}<br>Level: %{customdata[2]}",
         "legendgroup": "2, 2",
         "line": {
          "color": "#FF9900",
          "dash": "dash"
         },
         "marker": {
          "symbol": "circle"
         },
         "mode": "lines",
         "name": "Internal walls 2nd Drylining Visit Planned",
         "orientation": "v",
         "showlegend": true,
         "type": "scatter",
         "x": [
          "2023-01-24",
          "2023-02-23",
          null,
          "2023-01-20",
          "2023-02-16",
          null,
          "2023-02-13",
          "2023-02-24",
          null,
          "2023-02-14",
          "2023-02-28",
          null,
          "2023-02-20",
          "2023-03-03",
          null,
          "2023-02-22",
          "2023-03-07",
          null,
          "2023-02-22",
          "2023-03-07",
          null,
          "2023-02-28",
          "2023-03-13",
          null,
          "2023-02-22",
          "2023-03-07",
          null,
          "2023-03-01",
          "2023-03-14",
          null,
          "2023-03-10",
          "2023-03-24",
          null,
          "2023-03-08",
          "2023-03-21",
          null,
          "2023-03-14",
          "2023-03-27",
          null,
          "2023-03-14",
          "2023-03-27",
          null,
          "2023-03-28",
          "2023-04-12",
          null,
          "2023-04-05",
          "2023-04-27",
          null,
          "2023-03-29",
          "2023-04-13",
          null,
          "2023-04-05",
          "2023-04-20",
          null,
          "2023-04-18",
          "2023-05-02",
          null,
          "2023-04-25",
          "2023-05-09",
          null,
          "2023-04-18",
          "2023-05-02",
          null,
          "2023-04-25",
          "2023-05-09",
          null
         ],
         "xaxis": "x",
         "y": [
          0,
          0.5,
          null,
          0.5,
          1,
          null,
          1,
          1.5,
          null,
          1.5,
          2,
          null,
          2,
          2.5,
          null,
          2.5,
          3,
          null,
          3,
          3.5,
          null,
          3.5,
          4,
          null,
          4,
          4.5,
          null,
          4.5,
          5,
          null,
          5,
          5.5,
          null,
          5.5,
          6,
          null,
          6,
          6.5,
          null,
          6.5,
          7,
          null,
          7,
          7.5,
          null,
          7.5,
          8,
          null,
          8,
          8.5,
          null,
          8.5,
          9,
          null,
          9,
          9.5,
          null,
          9.5,
          10,
          null,
          10,
          10.5,
          null,
          10.5,
          11,
          null
         ],
         "yaxis": "y"
        },
        {
         "customdata": [
          [
           "2023-02-24",
           "2023-03-13",
           "L1"
          ],
          [
           "2023-02-24",
           "2023-03-13",
           "L1"
          ],
          [
           null,
           null,
           null
          ],
          [
           "2023-02-17",
           "2023-03-07",
           "L1"
          ],
          [
           "2023-02-17",
           "2023-03-07",
           "L1"
          ],
          [
           null,
           null,
           null
          ],
          [
           "2023-02-27",
           "2023-03-14",
           "L2"
          ],
          [
           "2023-02-27",
           "2023-03-14",
           "L2"
          ],
          [
           null,
           null,
           null
          ],
          [
           "2023-02-28",
           "2023-03-16",
           "L2"
          ],
          [
           "2023-02-28",
           "2023-03-16",
           "L2"
          ],
          [
           null,
           null,
           null
          ],
          [
           "2023-03-06",
           "2023-03-21",
           "L3"
          ],
          [
           "2023-03-06",
           "2023-03-21",
           "L3"
          ],
          [
           null,
           null,
           null
          ],
          [
           "2023-03-08",
           "2023-03-23",
           "L3"
          ],
          [
           "2023-03-08",
           "2023-03-23",
           "L3"
          ],
          [
           null,
           null,
           null
          ],
          [
           "2023-03-08",
           "2023-03-23",
           "L4"
          ],
          [
           "2023-03-08",
           "2023-03-23",
           "L4"
          ],
          [
           null,
           null,
           null
          ],
          [
           "2023-03-14",
           "2023-03-29",
           "L4"
          ],
          [
           "2023-03-14",
           "2023-03-29",
           "L4"
          ],
          [
           null,
           null,
           null
          ],
          [
           "2023-03-08",
           "2023-03-23",
           "L5"
          ],
          [
           "2023-03-08",
           "2023-03-23",
           "L5"
          ],
          [
           null,
           null,
           null
          ],
          [
           "2023-03-15",
           "2023-03-30",
           "L5"
          ],
          [
           "2023-03-15",
           "2023-03-30",
           "L5"
          ],
          [
           null,
           null,
           null
          ],
          [
           "2023-03-24",
           "2023-04-13",
           "L6"
          ],
          [
           "2023-03-24",
           "2023-04-13",
           "L6"
          ],
          [
           null,
           null,
           null
          ],
          [
           "2023-03-22",
           "2023-04-06",
           "L6"
          ],
          [
           "2023-03-22",
           "2023-04-06",
           "L6"
          ],
          [
           null,
           null,
           null
          ],
          [
           "2023-03-28",
           "2023-04-14",
           "L7"
          ],
          [
           "2023-03-28",
           "2023-04-14",
           "L7"
          ],
          [
           null,
           null,
           null
          ],
          [
           "2023-03-28",
           "2023-04-14",
           "L7"
          ],
          [
           "2023-03-28",
           "2023-04-14",
           "L7"
          ],
          [
           null,
           null,
           null
          ],
          [
           "2023-04-13",
           "2023-04-28",
           "L8"
          ],
          [
           "2023-04-13",
           "2023-04-28",
           "L8"
          ],
          [
           null,
           null,
           null
          ],
          [
           "2023-04-28",
           "2023-05-16",
           "L8"
          ],
          [
           "2023-04-28",
           "2023-05-16",
           "L8"
          ],
          [
           null,
           null,
           null
          ],
          [
           "2023-04-14",
           "2023-05-02",
           "L9"
          ],
          [
           "2023-04-14",
           "2023-05-02",
           "L9"
          ],
          [
           null,
           null,
           null
          ],
          [
           "2023-04-21",
           "2023-05-09",
           "L9"
          ],
          [
           "2023-04-21",
           "2023-05-09",
           "L9"
          ],
          [
           null,
           null,
           null
          ],
          [
           "2023-05-03",
           "2023-05-18",
           "L10"
          ],
          [
           "2023-05-03",
           "2023-05-18",
           "L10"
          ],
          [
           null,
           null,
           null
          ],
          [
           "2023-05-10",
           "2023-05-25",
           "L10"
          ],
          [
           "2023-05-10",
           "2023-05-25",
           "L10"
          ],
          [
           null,
           null,
           null
          ],
          [
           "2023-05-03",
           "2023-05-18",
           "L11"
          ],
          [
           "2023-05-03",
           "2023-05-18",
           "L11"
          ],
          [
           null,
           null,
           null
          ],
          [
           "2023-05-10",
           "2023-05-25",
           "L11"
          ],
          [
           "2023-05-10",
           "2023-05-25",
           "L11"
          ],
          [
           null,
           null,
           null
          ]
         ],
         "hovertemplate": "Initial Date: %{customdata[0]}<br>Final Date: %{customdata[1]}<br>Level: %{customdata[2]}",
         "legendgroup": "3, 3",
         "line": {
          "color": "#109618",
          "dash": "dash"
         },
         "marker": {
          "symbol": "circle"
         },
         "mode": "lines",
         "name": "HL MEP Services (2nd Fix) Planned",
         "orientation": "v",
         "showlegend": true,
         "type": "scatter",
         "x": [
          "2023-02-24",
          "2023-03-13",
          null,
          "2023-02-17",
          "2023-03-07",
          null,
          "2023-02-27",
          "2023-03-14",
          null,
          "2023-02-28",
          "2023-03-16",
          null,
          "2023-03-06",
          "2023-03-21",
          null,
          "2023-03-08",
          "2023-03-23",
          null,
          "2023-03-08",
          "2023-03-23",
          null,
          "2023-03-14",
          "2023-03-29",
          null,
          "2023-03-08",
          "2023-03-23",
          null,
          "2023-03-15",
          "2023-03-30",
          null,
          "2023-03-24",
          "2023-04-13",
          null,
          "2023-03-22",
          "2023-04-06",
          null,
          "2023-03-28",
          "2023-04-14",
          null,
          "2023-03-28",
          "2023-04-14",
          null,
          "2023-04-13",
          "2023-04-28",
          null,
          "2023-04-28",
          "2023-05-16",
          null,
          "2023-04-14",
          "2023-05-02",
          null,
          "2023-04-21",
          "2023-05-09",
          null,
          "2023-05-03",
          "2023-05-18",
          null,
          "2023-05-10",
          "2023-05-25",
          null,
          "2023-05-03",
          "2023-05-18",
          null,
          "2023-05-10",
          "2023-05-25",
          null
         ],
         "xaxis": "x",
         "y": [
          0,
          0.5,
          null,
          0.5,
          1,
          null,
          1,
          1.5,
          null,
          1.5,
          2,
          null,
          2,
          2.5,
          null,
          2.5,
          3,
          null,
          3,
          3.5,
          null,
          3.5,
          4,
          null,
          4,
          4.5,
          null,
          4.5,
          5,
          null,
          5,
          5.5,
          null,
          5.5,
          6,
          null,
          6,
          6.5,
          null,
          6.5,
          7,
          null,
          7,
          7.5,
          null,
          7.5,
          8,
          null,
          8,
          8.5,
          null,
          8.5,
          9,
          null,
          9,
          9.5,
          null,
          9.5,
          10,
          null,
          10,
          10.5,
          null,
          10.5,
          11,
          null
         ],
         "yaxis": "y"
        },
        {
         "customdata": [
          [
           "2023-03-16",
           "2023-04-18",
           "L1"
          ],
          [
           "2023-03-16",
           "2023-04-18",
           "L1"
          ],
          [
           null,
           null,
           null
          ],
          [
           "2023-03-10",
           "2023-04-12",
           "L1"
          ],
          [
           "2023-03-10",
           "2023-04-12",
           "L1"
          ],
          [
           null,
           null,
           null
          ],
          [
           "2023-03-17",
           "2023-04-19",
           "L2"
          ],
          [
           "2023-03-17",
           "2023-04-19",
           "L2"
          ],
          [
           null,
           null,
           null
          ],
          [
           "2023-03-20",
           "2023-04-20",
           "L2"
          ],
          [
           "2023-03-20",
           "2023-04-20",
           "L2"
          ],
          [
           null,
           null,
           null
          ],
          [
           "2023-03-24",
           "2023-04-26",
           "L3"
          ],
          [
           "2023-03-24",
           "2023-04-26",
           "L3"
          ],
          [
           null,
           null,
           null
          ],
          [
           "2023-03-28",
           "2023-04-28",
           "L3"
          ],
          [
           "2023-03-28",
           "2023-04-28",
           "L3"
          ],
          [
           null,
           null,
           null
          ],
          [
           "2023-03-28",
           "2023-04-28",
           "L4"
          ],
          [
           "2023-03-28",
           "2023-04-28",
           "L4"
          ],
          [
           null,
           null,
           null
          ],
          [
           "2023-04-03",
           "2023-05-05",
           "L4"
          ],
          [
           "2023-04-03",
           "2023-05-05",
           "L4"
          ],
          [
           null,
           null,
           null
          ],
          [
           "2023-03-28",
           "2023-04-28",
           "L5"
          ],
          [
           "2023-03-28",
           "2023-04-28",
           "L5"
          ],
          [
           null,
           null,
           null
          ],
          [
           "2023-04-04",
           "2023-05-08",
           "L5"
          ],
          [
           "2023-04-04",
           "2023-05-08",
           "L5"
          ],
          [
           null,
           null,
           null
          ],
          [
           "2023-04-17",
           "2023-05-17",
           "L6"
          ],
          [
           "2023-04-17",
           "2023-05-17",
           "L6"
          ],
          [
           null,
           null,
           null
          ],
          [
           "2023-04-13",
           "2023-05-15",
           "L6"
          ],
          [
           "2023-04-13",
           "2023-05-15",
           "L6"
          ],
          [
           null,
           null,
           null
          ],
          [
           "2023-04-19",
           "2023-05-19",
           "L7"
          ],
          [
           "2023-04-19",
           "2023-05-19",
           "L7"
          ],
          [
           null,
           null,
           null
          ],
          [
           "2023-04-19",
           "2023-05-19",
           "L7"
          ],
          [
           "2023-04-19",
           "2023-05-19",
           "L7"
          ],
          [
           null,
           null,
           null
          ],
          [
           "2023-05-04",
           "2023-05-26",
           "L8"
          ],
          [
           "2023-05-04",
           "2023-05-26",
           "L8"
          ],
          [
           null,
           null,
           null
          ],
          [
           "2023-05-19",
           "2023-06-13",
           "L8"
          ],
          [
           "2023-05-19",
           "2023-06-13",
           "L8"
          ],
          [
           null,
           null,
           null
          ],
          [
           "2023-05-05",
           "2023-06-06",
           "L9"
          ],
          [
           "2023-05-05",
           "2023-06-06",
           "L9"
          ],
          [
           null,
           null,
           null
          ],
          [
           "2023-05-12",
           "2023-06-13",
           "L9"
          ],
          [
           "2023-05-12",
           "2023-06-13",
           "L9"
          ],
          [
           null,
           null,
           null
          ],
          [
           "2023-05-23",
           "2023-06-22",
           "L10"
          ],
          [
           "2023-05-23",
           "2023-06-22",
           "L10"
          ],
          [
           null,
           null,
           null
          ],
          [
           "2023-05-31",
           "2023-07-05",
           "L10"
          ],
          [
           "2023-05-31",
           "2023-07-05",
           "L10"
          ],
          [
           null,
           null,
           null
          ],
          [
           "2023-05-23",
           "2023-06-22",
           "L11"
          ],
          [
           "2023-05-23",
           "2023-06-22",
           "L11"
          ],
          [
           null,
           null,
           null
          ],
          [
           "2023-05-31",
           "2023-06-29",
           "L11"
          ],
          [
           "2023-05-31",
           "2023-06-29",
           "L11"
          ],
          [
           null,
           null,
           null
          ]
         ],
         "hovertemplate": "Initial Date: %{customdata[0]}<br>Final Date: %{customdata[1]}<br>Level: %{customdata[2]}",
         "legendgroup": "4, 4",
         "line": {
          "color": "#990099",
          "dash": "dash"
         },
         "marker": {
          "symbol": "circle"
         },
         "mode": "lines",
         "name": "Final Drylining / Install Ceilings Planned",
         "orientation": "v",
         "showlegend": true,
         "type": "scatter",
         "x": [
          "2023-03-16",
          "2023-04-18",
          null,
          "2023-03-10",
          "2023-04-12",
          null,
          "2023-03-17",
          "2023-04-19",
          null,
          "2023-03-20",
          "2023-04-20",
          null,
          "2023-03-24",
          "2023-04-26",
          null,
          "2023-03-28",
          "2023-04-28",
          null,
          "2023-03-28",
          "2023-04-28",
          null,
          "2023-04-03",
          "2023-05-05",
          null,
          "2023-03-28",
          "2023-04-28",
          null,
          "2023-04-04",
          "2023-05-08",
          null,
          "2023-04-17",
          "2023-05-17",
          null,
          "2023-04-13",
          "2023-05-15",
          null,
          "2023-04-19",
          "2023-05-19",
          null,
          "2023-04-19",
          "2023-05-19",
          null,
          "2023-05-04",
          "2023-05-26",
          null,
          "2023-05-19",
          "2023-06-13",
          null,
          "2023-05-05",
          "2023-06-06",
          null,
          "2023-05-12",
          "2023-06-13",
          null,
          "2023-05-23",
          "2023-06-22",
          null,
          "2023-05-31",
          "2023-07-05",
          null,
          "2023-05-23",
          "2023-06-22",
          null,
          "2023-05-31",
          "2023-06-29",
          null
         ],
         "xaxis": "x",
         "y": [
          0,
          0.5,
          null,
          0.5,
          1,
          null,
          1,
          1.5,
          null,
          1.5,
          2,
          null,
          2,
          2.5,
          null,
          2.5,
          3,
          null,
          3,
          3.5,
          null,
          3.5,
          4,
          null,
          4,
          4.5,
          null,
          4.5,
          5,
          null,
          5,
          5.5,
          null,
          5.5,
          6,
          null,
          6,
          6.5,
          null,
          6.5,
          7,
          null,
          7,
          7.5,
          null,
          7.5,
          8,
          null,
          8,
          8.5,
          null,
          8.5,
          9,
          null,
          9,
          9.5,
          null,
          9.5,
          10,
          null,
          10,
          10.5,
          null,
          10.5,
          11,
          null
         ],
         "yaxis": "y"
        },
        {
         "customdata": [
          [
           "2023-04-18",
           "2023-05-23",
           "L1"
          ],
          [
           "2023-04-18",
           "2023-05-23",
           "L1"
          ],
          [
           null,
           null,
           null
          ],
          [
           "2023-04-12",
           "2023-05-17",
           "L1"
          ],
          [
           "2023-04-12",
           "2023-05-17",
           "L1"
          ],
          [
           null,
           null,
           null
          ],
          [
           "2023-04-19",
           "2023-05-24",
           "L2"
          ],
          [
           "2023-04-19",
           "2023-05-24",
           "L2"
          ],
          [
           null,
           null,
           null
          ],
          [
           "2023-04-20",
           "2023-05-26",
           "L2"
          ],
          [
           "2023-04-20",
           "2023-05-26",
           "L2"
          ],
          [
           null,
           null,
           null
          ],
          [
           "2023-04-26",
           "2023-06-01",
           "L3"
          ],
          [
           "2023-04-26",
           "2023-06-01",
           "L3"
          ],
          [
           null,
           null,
           null
          ],
          [
           "2023-04-28",
           "2023-06-05",
           "L3"
          ],
          [
           "2023-04-28",
           "2023-06-05",
           "L3"
          ],
          [
           null,
           null,
           null
          ],
          [
           "2023-05-08",
           "2023-06-12",
           "L4"
          ],
          [
           "2023-05-08",
           "2023-06-12",
           "L4"
          ],
          [
           null,
           null,
           null
          ],
          [
           "2023-05-05",
           "2023-06-09",
           "L4"
          ],
          [
           "2023-05-05",
           "2023-06-09",
           "L4"
          ],
          [
           null,
           null,
           null
          ],
          [
           "2023-04-28",
           "2023-06-05",
           "L5"
          ],
          [
           "2023-04-28",
           "2023-06-05",
           "L5"
          ],
          [
           null,
           null,
           null
          ],
          [
           "2023-05-08",
           "2023-06-12",
           "L5"
          ],
          [
           "2023-05-08",
           "2023-06-12",
           "L5"
          ],
          [
           null,
           null,
           null
          ],
          [
           "2023-05-17",
           "2023-06-22",
           "L6"
          ],
          [
           "2023-05-17",
           "2023-06-22",
           "L6"
          ],
          [
           null,
           null,
           null
          ],
          [
           "2023-05-15",
           "2023-06-19",
           "L6"
          ],
          [
           "2023-05-15",
           "2023-06-19",
           "L6"
          ],
          [
           null,
           null,
           null
          ],
          [
           "2023-05-19",
           "2023-06-23",
           "L7"
          ],
          [
           "2023-05-19",
           "2023-06-23",
           "L7"
          ],
          [
           null,
           null,
           null
          ],
          [
           "2023-05-19",
           "2023-06-23",
           "L7"
          ],
          [
           "2023-05-19",
           "2023-06-23",
           "L7"
          ],
          [
           null,
           null,
           null
          ],
          [
           "2023-05-26",
           "2023-06-30",
           "L8"
          ],
          [
           "2023-05-26",
           "2023-06-30",
           "L8"
          ],
          [
           null,
           null,
           null
          ],
          [
           "2023-06-13",
           "2023-07-17",
           "L8"
          ],
          [
           "2023-06-13",
           "2023-07-17",
           "L8"
          ],
          [
           null,
           null,
           null
          ],
          [
           "2023-06-06",
           "2023-07-10",
           "L9"
          ],
          [
           "2023-06-06",
           "2023-07-10",
           "L9"
          ],
          [
           null,
           null,
           null
          ],
          [
           "2023-06-13",
           "2023-07-17",
           "L9"
          ],
          [
           "2023-06-13",
           "2023-07-17",
           "L9"
          ],
          [
           null,
           null,
           null
          ],
          [
           "2023-06-22",
           "2023-07-26",
           "L10"
          ],
          [
           "2023-06-22",
           "2023-07-26",
           "L10"
          ],
          [
           null,
           null,
           null
          ],
          [
           "2023-07-06",
           "2023-08-02",
           "L10"
          ],
          [
           "2023-07-06",
           "2023-08-02",
           "L10"
          ],
          [
           null,
           null,
           null
          ],
          [
           "2023-06-22",
           "2023-07-26",
           "L11"
          ],
          [
           "2023-06-22",
           "2023-07-26",
           "L11"
          ],
          [
           null,
           null,
           null
          ],
          [
           "2023-06-29",
           "2023-08-02",
           "L11"
          ],
          [
           "2023-06-29",
           "2023-08-02",
           "L11"
          ],
          [
           null,
           null,
           null
          ]
         ],
         "hovertemplate": "Initial Date: %{customdata[0]}<br>Final Date: %{customdata[1]}<br>Level: %{customdata[2]}",
         "legendgroup": "5, 5",
         "line": {
          "color": "#0099C6",
          "dash": "dash"
         },
         "marker": {
          "symbol": "circle"
         },
         "mode": "lines",
         "name": "Screed / Joinery / Kitchens Planned",
         "orientation": "v",
         "showlegend": true,
         "type": "scatter",
         "x": [
          "2023-04-18",
          "2023-05-23",
          null,
          "2023-04-12",
          "2023-05-17",
          null,
          "2023-04-19",
          "2023-05-24",
          null,
          "2023-04-20",
          "2023-05-26",
          null,
          "2023-04-26",
          "2023-06-01",
          null,
          "2023-04-28",
          "2023-06-05",
          null,
          "2023-05-08",
          "2023-06-12",
          null,
          "2023-05-05",
          "2023-06-09",
          null,
          "2023-04-28",
          "2023-06-05",
          null,
          "2023-05-08",
          "2023-06-12",
          null,
          "2023-05-17",
          "2023-06-22",
          null,
          "2023-05-15",
          "2023-06-19",
          null,
          "2023-05-19",
          "2023-06-23",
          null,
          "2023-05-19",
          "2023-06-23",
          null,
          "2023-05-26",
          "2023-06-30",
          null,
          "2023-06-13",
          "2023-07-17",
          null,
          "2023-06-06",
          "2023-07-10",
          null,
          "2023-06-13",
          "2023-07-17",
          null,
          "2023-06-22",
          "2023-07-26",
          null,
          "2023-07-06",
          "2023-08-02",
          null,
          "2023-06-22",
          "2023-07-26",
          null,
          "2023-06-29",
          "2023-08-02",
          null
         ],
         "xaxis": "x",
         "y": [
          0,
          0.5,
          null,
          0.5,
          1,
          null,
          1,
          1.5,
          null,
          1.5,
          2,
          null,
          2,
          2.5,
          null,
          2.5,
          3,
          null,
          3,
          3.5,
          null,
          3.5,
          4,
          null,
          4,
          4.5,
          null,
          4.5,
          5,
          null,
          5,
          5.5,
          null,
          5.5,
          6,
          null,
          6,
          6.5,
          null,
          6.5,
          7,
          null,
          7,
          7.5,
          null,
          7.5,
          8,
          null,
          8,
          8.5,
          null,
          8.5,
          9,
          null,
          9,
          9.5,
          null,
          9.5,
          10,
          null,
          10,
          10.5,
          null,
          10.5,
          11,
          null
         ],
         "yaxis": "y"
        },
        {
         "customdata": [
          [
           "2022-11-01",
           "2022-12-06",
           "L1"
          ],
          [
           "2022-11-01",
           "2022-12-06",
           "L1"
          ],
          [
           null,
           null,
           null
          ],
          [
           "2022-11-01",
           "2022-12-27",
           "L1"
          ],
          [
           "2022-11-01",
           "2022-12-27",
           "L1"
          ],
          [
           null,
           null,
           null
          ],
          [
           "2022-11-22",
           "2023-02-07",
           "L2"
          ],
          [
           "2022-11-22",
           "2023-02-07",
           "L2"
          ],
          [
           null,
           null,
           null
          ],
          [
           "2022-11-22",
           "2023-03-28",
           "L2"
          ],
          [
           "2022-11-22",
           "2023-03-28",
           "L2"
          ],
          [
           null,
           null,
           null
          ],
          [
           "2022-12-12",
           "2023-08-10",
           "L3"
          ],
          [
           "2022-12-12",
           "2023-08-10",
           "L3"
          ],
          [
           null,
           null,
           null
          ],
          [
           "2022-12-12",
           "2023-05-12",
           "L3"
          ],
          [
           "2022-12-12",
           "2023-05-12",
           "L3"
          ],
          [
           null,
           null,
           null
          ],
          [
           "2023-01-09",
           "2023-03-03",
           "L4"
          ],
          [
           "2023-01-09",
           "2023-03-03",
           "L4"
          ],
          [
           null,
           null,
           null
          ],
          [
           "2023-01-16",
           "2023-08-10",
           "L4"
          ],
          [
           "2023-01-16",
           "2023-08-10",
           "L4"
          ],
          [
           null,
           null,
           null
          ],
          [
           "2023-02-27",
           "2023-04-05",
           "L5"
          ],
          [
           "2023-02-27",
           "2023-04-05",
           "L5"
          ],
          [
           null,
           null,
           null
          ],
          [
           "2023-01-23",
           "2023-04-22",
           "L5"
          ],
          [
           "2023-01-23",
           "2023-04-22",
           "L5"
          ],
          [
           null,
           null,
           null
          ],
          [
           "2023-02-27",
           "2023-04-15",
           "L6"
          ],
          [
           "2023-02-27",
           "2023-04-15",
           "L6"
          ],
          [
           null,
           null,
           null
          ],
          [
           "2023-02-13",
           "2023-06-04",
           "L6"
          ],
          [
           "2023-02-13",
           "2023-06-04",
           "L6"
          ],
          [
           null,
           null,
           null
          ],
          [
           "2023-02-27",
           "2023-03-03",
           "L7"
          ],
          [
           "2023-02-27",
           "2023-03-03",
           "L7"
          ],
          [
           null,
           null,
           null
          ],
          [
           "2023-02-13",
           "2023-03-23",
           "L7"
          ],
          [
           "2023-02-13",
           "2023-03-23",
           "L7"
          ],
          [
           null,
           null,
           null
          ],
          [
           "2023-03-20",
           "2023-04-01",
           "L8"
          ],
          [
           "2023-03-20",
           "2023-04-01",
           "L8"
          ],
          [
           null,
           null,
           null
          ],
          [
           "2023-03-20",
           "2023-04-04",
           "L8"
          ],
          [
           "2023-03-20",
           "2023-04-04",
           "L8"
          ],
          [
           null,
           null,
           null
          ],
          [
           "2023-03-20",
           "2023-08-10",
           "L9"
          ],
          [
           "2023-03-20",
           "2023-08-10",
           "L9"
          ],
          [
           null,
           null,
           null
          ],
          [
           "2023-03-20",
           "2023-08-10",
           "L9"
          ],
          [
           "2023-03-20",
           "2023-08-10",
           "L9"
          ],
          [
           null,
           null,
           null
          ],
          [
           "2023-03-20",
           "2023-03-30",
           "L10"
          ],
          [
           "2023-03-20",
           "2023-03-30",
           "L10"
          ],
          [
           null,
           null,
           null
          ],
          [
           "2023-03-20",
           "2023-05-05",
           "L10"
          ],
          [
           "2023-03-20",
           "2023-05-05",
           "L10"
          ],
          [
           null,
           null,
           null
          ],
          [
           "2023-05-02",
           "2023-07-14",
           "L11"
          ],
          [
           "2023-05-02",
           "2023-07-14",
           "L11"
          ],
          [
           null,
           null,
           null
          ],
          [
           "2023-04-12",
           "2023-08-12",
           "L11"
          ],
          [
           "2023-04-12",
           "2023-08-12",
           "L11"
          ],
          [
           null,
           null,
           null
          ],
          [
           "2023-06-22",
           "2024-03-08",
           "L12"
          ],
          [
           "2023-06-22",
           "2024-03-08",
           "L12"
          ],
          [
           null,
           null,
           null
          ],
          [
           null,
           null,
           "L12"
          ],
          [
           null,
           null,
           "L12"
          ],
          [
           null,
           null,
           null
          ],
          [
           null,
           null,
           "L13"
          ],
          [
           null,
           null,
           "L13"
          ],
          [
           null,
           null,
           null
          ],
          [
           null,
           null,
           "L13"
          ],
          [
           null,
           null,
           "L13"
          ],
          [
           null,
           null,
           null
          ],
          [
           null,
           null,
           "L14"
          ],
          [
           null,
           null,
           "L14"
          ],
          [
           null,
           null,
           null
          ],
          [
           null,
           null,
           "L14"
          ],
          [
           null,
           null,
           "L14"
          ],
          [
           null,
           null,
           null
          ],
          [
           null,
           null,
           "L15"
          ],
          [
           null,
           null,
           "L15"
          ],
          [
           null,
           null,
           null
          ],
          [
           null,
           null,
           "L15"
          ],
          [
           null,
           null,
           "L15"
          ],
          [
           null,
           null,
           null
          ]
         ],
         "hovertemplate": "Initial Date: %{customdata[0]}<br>Final Date: %{customdata[1]}<br>Level: %{customdata[2]}",
         "legendgroup": "0",
         "line": {
          "color": "#3366CC",
          "dash": "solid"
         },
         "marker": {
          "symbol": "circle"
         },
         "mode": "lines",
         "name": "Demising Walls Actuals",
         "orientation": "v",
         "showlegend": true,
         "type": "scatter",
         "x": [
          "2022-11-01",
          "2022-12-06",
          null,
          "2022-11-01",
          "2022-12-27",
          null,
          "2022-11-22",
          "2023-02-07",
          null,
          "2022-11-22",
          "2023-03-28",
          null,
          "2022-12-12",
          "2023-08-10",
          null,
          "2022-12-12",
          "2023-05-12",
          null,
          "2023-01-09",
          "2023-03-03",
          null,
          "2023-01-16",
          "2023-08-10",
          null,
          "2023-02-27",
          "2023-04-05",
          null,
          "2023-01-23",
          "2023-04-22",
          null,
          "2023-02-27",
          "2023-04-15",
          null,
          "2023-02-13",
          "2023-06-04",
          null,
          "2023-02-27",
          "2023-03-03",
          null,
          "2023-02-13",
          "2023-03-23",
          null,
          "2023-03-20",
          "2023-04-01",
          null,
          "2023-03-20",
          "2023-04-04",
          null,
          "2023-03-20",
          "2023-08-10",
          null,
          "2023-03-20",
          "2023-08-10",
          null,
          "2023-03-20",
          "2023-03-30",
          null,
          "2023-03-20",
          "2023-05-05",
          null,
          "2023-05-02",
          "2023-07-14",
          null,
          "2023-04-12",
          "2023-08-12",
          null,
          "2023-06-22",
          "2024-03-08",
          null,
          null,
          null,
          null,
          null,
          null,
          null,
          null,
          null,
          null,
          null,
          null,
          null,
          null,
          null,
          null,
          null,
          null,
          null,
          null,
          null,
          null
         ],
         "xaxis": "x",
         "y": [
          0,
          0.5,
          null,
          0.5,
          1,
          null,
          1,
          1.5,
          null,
          1.5,
          2,
          null,
          2,
          2.5,
          null,
          2.5,
          3,
          null,
          3,
          3.5,
          null,
          3.5,
          4,
          null,
          4,
          4.5,
          null,
          4.5,
          5,
          null,
          5,
          5.5,
          null,
          5.5,
          6,
          null,
          6,
          6.5,
          null,
          6.5,
          7,
          null,
          7,
          7.5,
          null,
          7.5,
          8,
          null,
          8,
          8.5,
          null,
          8.5,
          9,
          null,
          9,
          9.5,
          null,
          9.5,
          10,
          null,
          10,
          10.5,
          null,
          10.5,
          11,
          null,
          11,
          11.5,
          null,
          11.5,
          12,
          null,
          12,
          12.5,
          null,
          12.5,
          13,
          null,
          13,
          13.5,
          null,
          13.5,
          14,
          null,
          14,
          14.5,
          null,
          14.5,
          15,
          null
         ],
         "yaxis": "y"
        },
        {
         "customdata": [
          [
           "2023-01-09",
           "2023-06-19",
           "L1"
          ],
          [
           "2023-01-09",
           "2023-06-19",
           "L1"
          ],
          [
           null,
           null,
           null
          ],
          [
           "2022-12-12",
           "2023-06-19",
           "L1"
          ],
          [
           "2022-12-12",
           "2023-06-19",
           "L1"
          ],
          [
           null,
           null,
           null
          ],
          [
           "2023-01-30",
           "2023-06-19",
           "L2"
          ],
          [
           "2023-01-30",
           "2023-06-19",
           "L2"
          ],
          [
           null,
           null,
           null
          ],
          [
           "2023-01-26",
           "2023-06-19",
           "L2"
          ],
          [
           "2023-01-26",
           "2023-06-19",
           "L2"
          ],
          [
           null,
           null,
           null
          ],
          [
           "2023-02-07",
           "2023-07-22",
           "L3"
          ],
          [
           "2023-02-07",
           "2023-07-22",
           "L3"
          ],
          [
           null,
           null,
           null
          ],
          [
           "2023-02-02",
           "2023-07-22",
           "L3"
          ],
          [
           "2023-02-02",
           "2023-07-22",
           "L3"
          ],
          [
           null,
           null,
           null
          ],
          [
           "2023-02-27",
           "2023-07-22",
           "L4"
          ],
          [
           "2023-02-27",
           "2023-07-22",
           "L4"
          ],
          [
           null,
           null,
           null
          ],
          [
           "2023-02-07",
           "2023-07-22",
           "L4"
          ],
          [
           "2023-02-07",
           "2023-07-22",
           "L4"
          ],
          [
           null,
           null,
           null
          ],
          [
           "2023-02-27",
           "2023-07-22",
           "L5"
          ],
          [
           "2023-02-27",
           "2023-07-22",
           "L5"
          ],
          [
           null,
           null,
           null
          ],
          [
           "2023-02-27",
           "2023-08-27",
           "L5"
          ],
          [
           "2023-02-27",
           "2023-08-27",
           "L5"
          ],
          [
           null,
           null,
           null
          ],
          [
           "2023-02-27",
           "2023-08-17",
           "L6"
          ],
          [
           "2023-02-27",
           "2023-08-17",
           "L6"
          ],
          [
           null,
           null,
           null
          ],
          [
           "2023-02-27",
           "2023-08-17",
           "L6"
          ],
          [
           "2023-02-27",
           "2023-08-17",
           "L6"
          ],
          [
           null,
           null,
           null
          ],
          [
           "2023-03-14",
           "2023-08-17",
           "L7"
          ],
          [
           "2023-03-14",
           "2023-08-17",
           "L7"
          ],
          [
           null,
           null,
           null
          ],
          [
           "2023-03-14",
           "2023-08-17",
           "L7"
          ],
          [
           "2023-03-14",
           "2023-08-17",
           "L7"
          ],
          [
           null,
           null,
           null
          ],
          [
           "2023-03-20",
           "2023-08-17",
           "L8"
          ],
          [
           "2023-03-20",
           "2023-08-17",
           "L8"
          ],
          [
           null,
           null,
           null
          ],
          [
           "2023-03-20",
           "2023-08-17",
           "L8"
          ],
          [
           "2023-03-20",
           "2023-08-17",
           "L8"
          ],
          [
           null,
           null,
           null
          ],
          [
           "2023-06-15",
           "2023-10-18",
           "L9"
          ],
          [
           "2023-06-15",
           "2023-10-18",
           "L9"
          ],
          [
           null,
           null,
           null
          ],
          [
           "2023-05-23",
           "2023-08-31",
           "L9"
          ],
          [
           "2023-05-23",
           "2023-08-31",
           "L9"
          ],
          [
           null,
           null,
           null
          ],
          [
           "2023-05-23",
           "2023-10-07",
           "L10"
          ],
          [
           "2023-05-23",
           "2023-10-07",
           "L10"
          ],
          [
           null,
           null,
           null
          ],
          [
           "2023-06-22",
           "2023-10-14",
           "L10"
          ],
          [
           "2023-06-22",
           "2023-10-14",
           "L10"
          ],
          [
           null,
           null,
           null
          ],
          [
           "2023-07-13",
           "2023-11-11",
           "L11"
          ],
          [
           "2023-07-13",
           "2023-11-11",
           "L11"
          ],
          [
           null,
           null,
           null
          ],
          [
           "2023-06-22",
           "2023-10-21",
           "L11"
          ],
          [
           "2023-06-22",
           "2023-10-21",
           "L11"
          ],
          [
           null,
           null,
           null
          ],
          [
           "2023-08-03",
           "2023-11-15",
           "L12"
          ],
          [
           "2023-08-03",
           "2023-11-15",
           "L12"
          ],
          [
           null,
           null,
           null
          ],
          [
           null,
           null,
           "L12"
          ],
          [
           null,
           null,
           "L12"
          ],
          [
           null,
           null,
           null
          ],
          [
           "2023-09-14",
           "2023-11-04",
           "L13"
          ],
          [
           "2023-09-14",
           "2023-11-04",
           "L13"
          ],
          [
           null,
           null,
           null
          ],
          [
           null,
           null,
           "L13"
          ],
          [
           null,
           null,
           "L13"
          ],
          [
           null,
           null,
           null
          ],
          [
           null,
           null,
           "L14"
          ],
          [
           null,
           null,
           "L14"
          ],
          [
           null,
           null,
           null
          ],
          [
           null,
           null,
           "L14"
          ],
          [
           null,
           null,
           "L14"
          ],
          [
           null,
           null,
           null
          ],
          [
           null,
           null,
           "L15"
          ],
          [
           null,
           null,
           "L15"
          ],
          [
           null,
           null,
           null
          ],
          [
           null,
           null,
           "L15"
          ],
          [
           null,
           null,
           "L15"
          ],
          [
           null,
           null,
           null
          ]
         ],
         "hovertemplate": "Initial Date: %{customdata[0]}<br>Final Date: %{customdata[1]}<br>Level: %{customdata[2]}",
         "legendgroup": "1",
         "line": {
          "color": "#DC3912",
          "dash": "solid"
         },
         "marker": {
          "symbol": "circle"
         },
         "mode": "lines",
         "name": "HL MEP Services (1st Fix) Actuals",
         "orientation": "v",
         "showlegend": true,
         "type": "scatter",
         "x": [
          "2023-01-09",
          "2023-06-19",
          null,
          "2022-12-12",
          "2023-06-19",
          null,
          "2023-01-30",
          "2023-06-19",
          null,
          "2023-01-26",
          "2023-06-19",
          null,
          "2023-02-07",
          "2023-07-22",
          null,
          "2023-02-02",
          "2023-07-22",
          null,
          "2023-02-27",
          "2023-07-22",
          null,
          "2023-02-07",
          "2023-07-22",
          null,
          "2023-02-27",
          "2023-07-22",
          null,
          "2023-02-27",
          "2023-08-27",
          null,
          "2023-02-27",
          "2023-08-17",
          null,
          "2023-02-27",
          "2023-08-17",
          null,
          "2023-03-14",
          "2023-08-17",
          null,
          "2023-03-14",
          "2023-08-17",
          null,
          "2023-03-20",
          "2023-08-17",
          null,
          "2023-03-20",
          "2023-08-17",
          null,
          "2023-06-15",
          "2023-10-18",
          null,
          "2023-05-23",
          "2023-08-31",
          null,
          "2023-05-23",
          "2023-10-07",
          null,
          "2023-06-22",
          "2023-10-14",
          null,
          "2023-07-13",
          "2023-11-11",
          null,
          "2023-06-22",
          "2023-10-21",
          null,
          "2023-08-03",
          "2023-11-15",
          null,
          null,
          null,
          null,
          "2023-09-14",
          "2023-11-04",
          null,
          null,
          null,
          null,
          null,
          null,
          null,
          null,
          null,
          null,
          null,
          null,
          null,
          null,
          null,
          null
         ],
         "xaxis": "x",
         "y": [
          0,
          0.5,
          null,
          0.5,
          1,
          null,
          1,
          1.5,
          null,
          1.5,
          2,
          null,
          2,
          2.5,
          null,
          2.5,
          3,
          null,
          3,
          3.5,
          null,
          3.5,
          4,
          null,
          4,
          4.5,
          null,
          4.5,
          5,
          null,
          5,
          5.5,
          null,
          5.5,
          6,
          null,
          6,
          6.5,
          null,
          6.5,
          7,
          null,
          7,
          7.5,
          null,
          7.5,
          8,
          null,
          8,
          8.5,
          null,
          8.5,
          9,
          null,
          9,
          9.5,
          null,
          9.5,
          10,
          null,
          10,
          10.5,
          null,
          10.5,
          11,
          null,
          11,
          11.5,
          null,
          11.5,
          12,
          null,
          12,
          12.5,
          null,
          12.5,
          13,
          null,
          13,
          13.5,
          null,
          13.5,
          14,
          null,
          14,
          14.5,
          null,
          14.5,
          15,
          null
         ],
         "yaxis": "y"
        },
        {
         "customdata": [
          [
           "2022-11-22",
           "2023-08-17",
           "L1"
          ],
          [
           "2022-11-22",
           "2023-08-17",
           "L1"
          ],
          [
           null,
           null,
           null
          ],
          [
           "2022-11-22",
           "2023-06-19",
           "L1"
          ],
          [
           "2022-11-22",
           "2023-06-19",
           "L1"
          ],
          [
           null,
           null,
           null
          ],
          [
           "2023-01-26",
           "2023-08-10",
           "L2"
          ],
          [
           "2023-01-26",
           "2023-08-10",
           "L2"
          ],
          [
           null,
           null,
           null
          ],
          [
           "2023-01-26",
           "2023-07-28",
           "L2"
          ],
          [
           "2023-01-26",
           "2023-07-28",
           "L2"
          ],
          [
           null,
           null,
           null
          ],
          [
           "2023-02-07",
           "2023-08-17",
           "L3"
          ],
          [
           "2023-02-07",
           "2023-08-17",
           "L3"
          ],
          [
           null,
           null,
           null
          ],
          [
           "2023-01-26",
           "2023-08-10",
           "L3"
          ],
          [
           "2023-01-26",
           "2023-08-10",
           "L3"
          ],
          [
           null,
           null,
           null
          ],
          [
           "2023-01-26",
           "2023-08-10",
           "L4"
          ],
          [
           "2023-01-26",
           "2023-08-10",
           "L4"
          ],
          [
           null,
           null,
           null
          ],
          [
           "2023-01-16",
           "2023-08-10",
           "L4"
          ],
          [
           "2023-01-16",
           "2023-08-10",
           "L4"
          ],
          [
           null,
           null,
           null
          ],
          [
           "2023-02-27",
           "2023-12-04",
           "L5"
          ],
          [
           "2023-02-27",
           "2023-12-04",
           "L5"
          ],
          [
           null,
           null,
           null
          ],
          [
           "2023-02-27",
           "2023-09-22",
           "L5"
          ],
          [
           "2023-02-27",
           "2023-09-22",
           "L5"
          ],
          [
           null,
           null,
           null
          ],
          [
           "2023-02-13",
           "2023-09-28",
           "L6"
          ],
          [
           "2023-02-13",
           "2023-09-28",
           "L6"
          ],
          [
           null,
           null,
           null
          ],
          [
           "2023-02-27",
           "2023-09-28",
           "L6"
          ],
          [
           "2023-02-27",
           "2023-09-28",
           "L6"
          ],
          [
           null,
           null,
           null
          ],
          [
           "2023-02-13",
           "2023-09-28",
           "L7"
          ],
          [
           "2023-02-13",
           "2023-09-28",
           "L7"
          ],
          [
           null,
           null,
           null
          ],
          [
           "2023-03-14",
           "2023-10-17",
           "L7"
          ],
          [
           "2023-03-14",
           "2023-10-17",
           "L7"
          ],
          [
           null,
           null,
           null
          ],
          [
           "2023-03-20",
           "2023-11-13",
           "L8"
          ],
          [
           "2023-03-20",
           "2023-11-13",
           "L8"
          ],
          [
           null,
           null,
           null
          ],
          [
           "2023-03-20",
           "2023-11-13",
           "L8"
          ],
          [
           "2023-03-20",
           "2023-11-13",
           "L8"
          ],
          [
           null,
           null,
           null
          ],
          [
           "2023-03-20",
           "2023-09-28",
           "L9"
          ],
          [
           "2023-03-20",
           "2023-09-28",
           "L9"
          ],
          [
           null,
           null,
           null
          ],
          [
           "2023-03-20",
           "2023-09-28",
           "L9"
          ],
          [
           "2023-03-20",
           "2023-09-28",
           "L9"
          ],
          [
           null,
           null,
           null
          ],
          [
           "2023-03-20",
           "2023-10-11",
           "L10"
          ],
          [
           "2023-03-20",
           "2023-10-11",
           "L10"
          ],
          [
           null,
           null,
           null
          ],
          [
           "2023-03-20",
           "2023-09-28",
           "L10"
          ],
          [
           "2023-03-20",
           "2023-09-28",
           "L10"
          ],
          [
           null,
           null,
           null
          ],
          [
           "2023-05-23",
           "2023-11-18",
           "L11"
          ],
          [
           "2023-05-23",
           "2023-11-18",
           "L11"
          ],
          [
           null,
           null,
           null
          ],
          [
           "2023-05-23",
           "2023-10-13",
           "L11"
          ],
          [
           "2023-05-23",
           "2023-10-13",
           "L11"
          ],
          [
           null,
           null,
           null
          ],
          [
           "2023-07-24",
           "2023-12-10",
           "L12"
          ],
          [
           "2023-07-24",
           "2023-12-10",
           "L12"
          ],
          [
           null,
           null,
           null
          ],
          [
           null,
           null,
           "L12"
          ],
          [
           null,
           null,
           "L12"
          ],
          [
           null,
           null,
           null
          ],
          [
           "2023-07-24",
           "2023-11-21",
           "L13"
          ],
          [
           "2023-07-24",
           "2023-11-21",
           "L13"
          ],
          [
           null,
           null,
           null
          ],
          [
           null,
           null,
           "L13"
          ],
          [
           null,
           null,
           "L13"
          ],
          [
           null,
           null,
           null
          ],
          [
           null,
           null,
           "L14"
          ],
          [
           null,
           null,
           "L14"
          ],
          [
           null,
           null,
           null
          ],
          [
           null,
           null,
           "L14"
          ],
          [
           null,
           null,
           "L14"
          ],
          [
           null,
           null,
           null
          ],
          [
           null,
           null,
           "L15"
          ],
          [
           null,
           null,
           "L15"
          ],
          [
           null,
           null,
           null
          ],
          [
           null,
           null,
           "L15"
          ],
          [
           null,
           null,
           "L15"
          ],
          [
           null,
           null,
           null
          ]
         ],
         "hovertemplate": "Initial Date: %{customdata[0]}<br>Final Date: %{customdata[1]}<br>Level: %{customdata[2]}",
         "legendgroup": "2",
         "line": {
          "color": "#FF9900",
          "dash": "solid"
         },
         "marker": {
          "symbol": "circle"
         },
         "mode": "lines",
         "name": "Internal walls 2nd Drylining Visit Actuals",
         "orientation": "v",
         "showlegend": true,
         "type": "scatter",
         "x": [
          "2022-11-22",
          "2023-08-17",
          null,
          "2022-11-22",
          "2023-06-19",
          null,
          "2023-01-26",
          "2023-08-10",
          null,
          "2023-01-26",
          "2023-07-28",
          null,
          "2023-02-07",
          "2023-08-17",
          null,
          "2023-01-26",
          "2023-08-10",
          null,
          "2023-01-26",
          "2023-08-10",
          null,
          "2023-01-16",
          "2023-08-10",
          null,
          "2023-02-27",
          "2023-12-04",
          null,
          "2023-02-27",
          "2023-09-22",
          null,
          "2023-02-13",
          "2023-09-28",
          null,
          "2023-02-27",
          "2023-09-28",
          null,
          "2023-02-13",
          "2023-09-28",
          null,
          "2023-03-14",
          "2023-10-17",
          null,
          "2023-03-20",
          "2023-11-13",
          null,
          "2023-03-20",
          "2023-11-13",
          null,
          "2023-03-20",
          "2023-09-28",
          null,
          "2023-03-20",
          "2023-09-28",
          null,
          "2023-03-20",
          "2023-10-11",
          null,
          "2023-03-20",
          "2023-09-28",
          null,
          "2023-05-23",
          "2023-11-18",
          null,
          "2023-05-23",
          "2023-10-13",
          null,
          "2023-07-24",
          "2023-12-10",
          null,
          null,
          null,
          null,
          "2023-07-24",
          "2023-11-21",
          null,
          null,
          null,
          null,
          null,
          null,
          null,
          null,
          null,
          null,
          null,
          null,
          null,
          null,
          null,
          null
         ],
         "xaxis": "x",
         "y": [
          0,
          0.5,
          null,
          0.5,
          1,
          null,
          1,
          1.5,
          null,
          1.5,
          2,
          null,
          2,
          2.5,
          null,
          2.5,
          3,
          null,
          3,
          3.5,
          null,
          3.5,
          4,
          null,
          4,
          4.5,
          null,
          4.5,
          5,
          null,
          5,
          5.5,
          null,
          5.5,
          6,
          null,
          6,
          6.5,
          null,
          6.5,
          7,
          null,
          7,
          7.5,
          null,
          7.5,
          8,
          null,
          8,
          8.5,
          null,
          8.5,
          9,
          null,
          9,
          9.5,
          null,
          9.5,
          10,
          null,
          10,
          10.5,
          null,
          10.5,
          11,
          null,
          11,
          11.5,
          null,
          11.5,
          12,
          null,
          12,
          12.5,
          null,
          12.5,
          13,
          null,
          13,
          13.5,
          null,
          13.5,
          14,
          null,
          14,
          14.5,
          null,
          14.5,
          15,
          null
         ],
         "yaxis": "y"
        },
        {
         "customdata": [
          [
           "2023-04-12",
           "2023-05-23",
           "L1"
          ],
          [
           "2023-04-12",
           "2023-05-23",
           "L1"
          ],
          [
           null,
           null,
           null
          ],
          [
           "2023-02-07",
           "2023-08-17",
           "L1"
          ],
          [
           "2023-02-07",
           "2023-08-17",
           "L1"
          ],
          [
           null,
           null,
           null
          ],
          [
           "2023-04-12",
           "2023-08-17",
           "L2"
          ],
          [
           "2023-04-12",
           "2023-08-17",
           "L2"
          ],
          [
           null,
           null,
           null
          ],
          [
           "2023-04-12",
           "2023-08-17",
           "L2"
          ],
          [
           "2023-04-12",
           "2023-08-17",
           "L2"
          ],
          [
           null,
           null,
           null
          ],
          [
           "2023-04-27",
           "2023-08-17",
           "L3"
          ],
          [
           "2023-04-27",
           "2023-08-17",
           "L3"
          ],
          [
           null,
           null,
           null
          ],
          [
           "2023-05-05",
           "2023-08-17",
           "L3"
          ],
          [
           "2023-05-05",
           "2023-08-17",
           "L3"
          ],
          [
           null,
           null,
           null
          ],
          [
           "2023-05-05",
           "2023-08-17",
           "L4"
          ],
          [
           "2023-05-05",
           "2023-08-17",
           "L4"
          ],
          [
           null,
           null,
           null
          ],
          [
           "2023-05-18",
           "2023-08-17",
           "L4"
          ],
          [
           "2023-05-18",
           "2023-08-17",
           "L4"
          ],
          [
           null,
           null,
           null
          ],
          [
           "2023-05-18",
           "2023-09-04",
           "L5"
          ],
          [
           "2023-05-18",
           "2023-09-04",
           "L5"
          ],
          [
           null,
           null,
           null
          ],
          [
           "2023-06-15",
           "2023-08-29",
           "L5"
          ],
          [
           "2023-06-15",
           "2023-08-29",
           "L5"
          ],
          [
           null,
           null,
           null
          ],
          [
           "2023-05-18",
           "2023-08-17",
           "L6"
          ],
          [
           "2023-05-18",
           "2023-08-17",
           "L6"
          ],
          [
           null,
           null,
           null
          ],
          [
           "2023-06-19",
           "2023-08-17",
           "L6"
          ],
          [
           "2023-06-19",
           "2023-08-17",
           "L6"
          ],
          [
           null,
           null,
           null
          ],
          [
           "2023-05-23",
           "2023-08-17",
           "L7"
          ],
          [
           "2023-05-23",
           "2023-08-17",
           "L7"
          ],
          [
           null,
           null,
           null
          ],
          [
           "2023-05-23",
           "2023-08-17",
           "L7"
          ],
          [
           "2023-05-23",
           "2023-08-17",
           "L7"
          ],
          [
           null,
           null,
           null
          ],
          [
           "2023-06-22",
           "2023-09-21",
           "L8"
          ],
          [
           "2023-06-22",
           "2023-09-21",
           "L8"
          ],
          [
           null,
           null,
           null
          ],
          [
           "2023-07-13",
           "2023-08-31",
           "L8"
          ],
          [
           "2023-07-13",
           "2023-08-31",
           "L8"
          ],
          [
           null,
           null,
           null
          ],
          [
           "2023-07-24",
           "2023-08-25",
           "L9"
          ],
          [
           "2023-07-24",
           "2023-08-25",
           "L9"
          ],
          [
           null,
           null,
           null
          ],
          [
           "2023-07-13",
           "2023-09-02",
           "L9"
          ],
          [
           "2023-07-13",
           "2023-09-02",
           "L9"
          ],
          [
           null,
           null,
           null
          ],
          [
           "2023-08-03",
           "2023-08-18",
           "L10"
          ],
          [
           "2023-08-03",
           "2023-08-18",
           "L10"
          ],
          [
           null,
           null,
           null
          ],
          [
           "2023-08-03",
           "2023-09-20",
           "L10"
          ],
          [
           "2023-08-03",
           "2023-09-20",
           "L10"
          ],
          [
           null,
           null,
           null
          ],
          [
           null,
           null,
           "L11"
          ],
          [
           null,
           null,
           "L11"
          ],
          [
           null,
           null,
           null
          ],
          [
           "2023-08-17",
           "2024-02-11",
           "L11"
          ],
          [
           "2023-08-17",
           "2024-02-11",
           "L11"
          ],
          [
           null,
           null,
           null
          ],
          [
           null,
           null,
           "L12"
          ],
          [
           null,
           null,
           "L12"
          ],
          [
           null,
           null,
           null
          ],
          [
           null,
           null,
           "L12"
          ],
          [
           null,
           null,
           "L12"
          ],
          [
           null,
           null,
           null
          ],
          [
           null,
           null,
           "L13"
          ],
          [
           null,
           null,
           "L13"
          ],
          [
           null,
           null,
           null
          ],
          [
           null,
           null,
           "L13"
          ],
          [
           null,
           null,
           "L13"
          ],
          [
           null,
           null,
           null
          ],
          [
           null,
           null,
           "L14"
          ],
          [
           null,
           null,
           "L14"
          ],
          [
           null,
           null,
           null
          ],
          [
           null,
           null,
           "L14"
          ],
          [
           null,
           null,
           "L14"
          ],
          [
           null,
           null,
           null
          ],
          [
           null,
           null,
           "L15"
          ],
          [
           null,
           null,
           "L15"
          ],
          [
           null,
           null,
           null
          ],
          [
           null,
           null,
           "L15"
          ],
          [
           null,
           null,
           "L15"
          ],
          [
           null,
           null,
           null
          ]
         ],
         "hovertemplate": "Initial Date: %{customdata[0]}<br>Final Date: %{customdata[1]}<br>Level: %{customdata[2]}",
         "legendgroup": "3",
         "line": {
          "color": "#109618",
          "dash": "solid"
         },
         "marker": {
          "symbol": "circle"
         },
         "mode": "lines",
         "name": "HL MEP Services (2nd Fix) Actuals",
         "orientation": "v",
         "showlegend": true,
         "type": "scatter",
         "x": [
          "2023-04-12",
          "2023-05-23",
          null,
          "2023-02-07",
          "2023-08-17",
          null,
          "2023-04-12",
          "2023-08-17",
          null,
          "2023-04-12",
          "2023-08-17",
          null,
          "2023-04-27",
          "2023-08-17",
          null,
          "2023-05-05",
          "2023-08-17",
          null,
          "2023-05-05",
          "2023-08-17",
          null,
          "2023-05-18",
          "2023-08-17",
          null,
          "2023-05-18",
          "2023-09-04",
          null,
          "2023-06-15",
          "2023-08-29",
          null,
          "2023-05-18",
          "2023-08-17",
          null,
          "2023-06-19",
          "2023-08-17",
          null,
          "2023-05-23",
          "2023-08-17",
          null,
          "2023-05-23",
          "2023-08-17",
          null,
          "2023-06-22",
          "2023-09-21",
          null,
          "2023-07-13",
          "2023-08-31",
          null,
          "2023-07-24",
          "2023-08-25",
          null,
          "2023-07-13",
          "2023-09-02",
          null,
          "2023-08-03",
          "2023-08-18",
          null,
          "2023-08-03",
          "2023-09-20",
          null,
          null,
          null,
          null,
          "2023-08-17",
          "2024-02-11",
          null,
          null,
          null,
          null,
          null,
          null,
          null,
          null,
          null,
          null,
          null,
          null,
          null,
          null,
          null,
          null,
          null,
          null,
          null,
          null,
          null,
          null,
          null,
          null,
          null
         ],
         "xaxis": "x",
         "y": [
          0,
          0.5,
          null,
          0.5,
          1,
          null,
          1,
          1.5,
          null,
          1.5,
          2,
          null,
          2,
          2.5,
          null,
          2.5,
          3,
          null,
          3,
          3.5,
          null,
          3.5,
          4,
          null,
          4,
          4.5,
          null,
          4.5,
          5,
          null,
          5,
          5.5,
          null,
          5.5,
          6,
          null,
          6,
          6.5,
          null,
          6.5,
          7,
          null,
          7,
          7.5,
          null,
          7.5,
          8,
          null,
          8,
          8.5,
          null,
          8.5,
          9,
          null,
          9,
          9.5,
          null,
          9.5,
          10,
          null,
          10,
          10.5,
          null,
          10.5,
          11,
          null,
          11,
          11.5,
          null,
          11.5,
          12,
          null,
          12,
          12.5,
          null,
          12.5,
          13,
          null,
          13,
          13.5,
          null,
          13.5,
          14,
          null,
          14,
          14.5,
          null,
          14.5,
          15,
          null
         ],
         "yaxis": "y"
        },
        {
         "customdata": [
          [
           "2023-06-07",
           "2023-08-07",
           "L1"
          ],
          [
           "2023-06-07",
           "2023-08-07",
           "L1"
          ],
          [
           null,
           null,
           null
          ],
          [
           "2023-02-27",
           "2023-08-17",
           "L1"
          ],
          [
           "2023-02-27",
           "2023-08-17",
           "L1"
          ],
          [
           null,
           null,
           null
          ],
          [
           "2023-06-22",
           "2023-08-31",
           "L2"
          ],
          [
           "2023-06-22",
           "2023-08-31",
           "L2"
          ],
          [
           null,
           null,
           null
          ],
          [
           "2023-06-22",
           "2023-08-17",
           "L2"
          ],
          [
           "2023-06-22",
           "2023-08-17",
           "L2"
          ],
          [
           null,
           null,
           null
          ],
          [
           "2023-06-07",
           "2023-08-26",
           "L3"
          ],
          [
           "2023-06-07",
           "2023-08-26",
           "L3"
          ],
          [
           null,
           null,
           null
          ],
          [
           "2023-07-13",
           "2023-09-06",
           "L3"
          ],
          [
           "2023-07-13",
           "2023-09-06",
           "L3"
          ],
          [
           null,
           null,
           null
          ],
          [
           "2023-07-13",
           "2023-08-10",
           "L4"
          ],
          [
           "2023-07-13",
           "2023-08-10",
           "L4"
          ],
          [
           null,
           null,
           null
          ],
          [
           "2023-07-13",
           "2023-08-17",
           "L4"
          ],
          [
           "2023-07-13",
           "2023-08-17",
           "L4"
          ],
          [
           null,
           null,
           null
          ],
          [
           "2023-07-13",
           "2023-11-04",
           "L5"
          ],
          [
           "2023-07-13",
           "2023-11-04",
           "L5"
          ],
          [
           null,
           null,
           null
          ],
          [
           "2023-08-03",
           "2023-10-08",
           "L5"
          ],
          [
           "2023-08-03",
           "2023-10-08",
           "L5"
          ],
          [
           null,
           null,
           null
          ],
          [
           "2023-08-03",
           "2023-10-11",
           "L6"
          ],
          [
           "2023-08-03",
           "2023-10-11",
           "L6"
          ],
          [
           null,
           null,
           null
          ],
          [
           "2023-08-03",
           "2023-10-10",
           "L6"
          ],
          [
           "2023-08-03",
           "2023-10-10",
           "L6"
          ],
          [
           null,
           null,
           null
          ],
          [
           "2023-08-03",
           "2023-09-22",
           "L7"
          ],
          [
           "2023-08-03",
           "2023-09-22",
           "L7"
          ],
          [
           null,
           null,
           null
          ],
          [
           "2023-08-03",
           "2023-10-02",
           "L7"
          ],
          [
           "2023-08-03",
           "2023-10-02",
           "L7"
          ],
          [
           null,
           null,
           null
          ],
          [
           "2023-08-10",
           "2023-10-25",
           "L8"
          ],
          [
           "2023-08-10",
           "2023-10-25",
           "L8"
          ],
          [
           null,
           null,
           null
          ],
          [
           "2023-08-10",
           "2023-10-22",
           "L8"
          ],
          [
           "2023-08-10",
           "2023-10-22",
           "L8"
          ],
          [
           null,
           null,
           null
          ],
          [
           "2023-09-14",
           "2023-10-01",
           "L9"
          ],
          [
           "2023-09-14",
           "2023-10-01",
           "L9"
          ],
          [
           null,
           null,
           null
          ],
          [
           "2023-08-17",
           "2023-10-10",
           "L9"
          ],
          [
           "2023-08-17",
           "2023-10-10",
           "L9"
          ],
          [
           null,
           null,
           null
          ],
          [
           "2023-09-14",
           "2023-09-28",
           "L10"
          ],
          [
           "2023-09-14",
           "2023-09-28",
           "L10"
          ],
          [
           null,
           null,
           null
          ],
          [
           "2023-09-14",
           "2023-10-01",
           "L10"
          ],
          [
           "2023-09-14",
           "2023-10-01",
           "L10"
          ],
          [
           null,
           null,
           null
          ],
          [
           "2023-09-14",
           "2023-10-06",
           "L11"
          ],
          [
           "2023-09-14",
           "2023-10-06",
           "L11"
          ],
          [
           null,
           null,
           null
          ],
          [
           "2023-09-14",
           "2023-10-11",
           "L11"
          ],
          [
           "2023-09-14",
           "2023-10-11",
           "L11"
          ],
          [
           null,
           null,
           null
          ],
          [
           null,
           null,
           "L12"
          ],
          [
           null,
           null,
           "L12"
          ],
          [
           null,
           null,
           null
          ],
          [
           null,
           null,
           "L12"
          ],
          [
           null,
           null,
           "L12"
          ],
          [
           null,
           null,
           null
          ],
          [
           null,
           null,
           "L13"
          ],
          [
           null,
           null,
           "L13"
          ],
          [
           null,
           null,
           null
          ],
          [
           null,
           null,
           "L13"
          ],
          [
           null,
           null,
           "L13"
          ],
          [
           null,
           null,
           null
          ],
          [
           null,
           null,
           "L14"
          ],
          [
           null,
           null,
           "L14"
          ],
          [
           null,
           null,
           null
          ],
          [
           null,
           null,
           "L14"
          ],
          [
           null,
           null,
           "L14"
          ],
          [
           null,
           null,
           null
          ],
          [
           null,
           null,
           "L15"
          ],
          [
           null,
           null,
           "L15"
          ],
          [
           null,
           null,
           null
          ],
          [
           null,
           null,
           "L15"
          ],
          [
           null,
           null,
           "L15"
          ],
          [
           null,
           null,
           null
          ]
         ],
         "hovertemplate": "Initial Date: %{customdata[0]}<br>Final Date: %{customdata[1]}<br>Level: %{customdata[2]}",
         "legendgroup": "4",
         "line": {
          "color": "#990099",
          "dash": "solid"
         },
         "marker": {
          "symbol": "circle"
         },
         "mode": "lines",
         "name": "Final Drylining / Install Ceilings Actuals",
         "orientation": "v",
         "showlegend": true,
         "type": "scatter",
         "x": [
          "2023-06-07",
          "2023-08-07",
          null,
          "2023-02-27",
          "2023-08-17",
          null,
          "2023-06-22",
          "2023-08-31",
          null,
          "2023-06-22",
          "2023-08-17",
          null,
          "2023-06-07",
          "2023-08-26",
          null,
          "2023-07-13",
          "2023-09-06",
          null,
          "2023-07-13",
          "2023-08-10",
          null,
          "2023-07-13",
          "2023-08-17",
          null,
          "2023-07-13",
          "2023-11-04",
          null,
          "2023-08-03",
          "2023-10-08",
          null,
          "2023-08-03",
          "2023-10-11",
          null,
          "2023-08-03",
          "2023-10-10",
          null,
          "2023-08-03",
          "2023-09-22",
          null,
          "2023-08-03",
          "2023-10-02",
          null,
          "2023-08-10",
          "2023-10-25",
          null,
          "2023-08-10",
          "2023-10-22",
          null,
          "2023-09-14",
          "2023-10-01",
          null,
          "2023-08-17",
          "2023-10-10",
          null,
          "2023-09-14",
          "2023-09-28",
          null,
          "2023-09-14",
          "2023-10-01",
          null,
          "2023-09-14",
          "2023-10-06",
          null,
          "2023-09-14",
          "2023-10-11",
          null,
          null,
          null,
          null,
          null,
          null,
          null,
          null,
          null,
          null,
          null,
          null,
          null,
          null,
          null,
          null,
          null,
          null,
          null,
          null,
          null,
          null,
          null,
          null,
          null
         ],
         "xaxis": "x",
         "y": [
          0,
          0.5,
          null,
          0.5,
          1,
          null,
          1,
          1.5,
          null,
          1.5,
          2,
          null,
          2,
          2.5,
          null,
          2.5,
          3,
          null,
          3,
          3.5,
          null,
          3.5,
          4,
          null,
          4,
          4.5,
          null,
          4.5,
          5,
          null,
          5,
          5.5,
          null,
          5.5,
          6,
          null,
          6,
          6.5,
          null,
          6.5,
          7,
          null,
          7,
          7.5,
          null,
          7.5,
          8,
          null,
          8,
          8.5,
          null,
          8.5,
          9,
          null,
          9,
          9.5,
          null,
          9.5,
          10,
          null,
          10,
          10.5,
          null,
          10.5,
          11,
          null,
          11,
          11.5,
          null,
          11.5,
          12,
          null,
          12,
          12.5,
          null,
          12.5,
          13,
          null,
          13,
          13.5,
          null,
          13.5,
          14,
          null,
          14,
          14.5,
          null,
          14.5,
          15,
          null
         ],
         "yaxis": "y"
        },
        {
         "customdata": [
          [
           "2023-06-22",
           "2023-09-10",
           "L1"
          ],
          [
           "2023-06-22",
           "2023-09-10",
           "L1"
          ],
          [
           null,
           null,
           null
          ],
          [
           "2023-03-20",
           "2023-09-02",
           "L1"
          ],
          [
           "2023-03-20",
           "2023-09-02",
           "L1"
          ],
          [
           null,
           null,
           null
          ],
          [
           "2023-07-13",
           "2023-08-31",
           "L2"
          ],
          [
           "2023-07-13",
           "2023-08-31",
           "L2"
          ],
          [
           null,
           null,
           null
          ],
          [
           "2023-07-27",
           "2023-08-18",
           "L2"
          ],
          [
           "2023-07-27",
           "2023-08-18",
           "L2"
          ],
          [
           null,
           null,
           null
          ],
          [
           "2023-07-27",
           "2023-09-01",
           "L3"
          ],
          [
           "2023-07-27",
           "2023-09-01",
           "L3"
          ],
          [
           null,
           null,
           null
          ],
          [
           "2023-07-13",
           "2023-09-18",
           "L3"
          ],
          [
           "2023-07-13",
           "2023-09-18",
           "L3"
          ],
          [
           null,
           null,
           null
          ],
          [
           "2023-08-03",
           "2023-09-28",
           "L4"
          ],
          [
           "2023-08-03",
           "2023-09-28",
           "L4"
          ],
          [
           null,
           null,
           null
          ],
          [
           "2023-07-27",
           "2023-09-26",
           "L4"
          ],
          [
           "2023-07-27",
           "2023-09-26",
           "L4"
          ],
          [
           null,
           null,
           null
          ],
          [
           "2023-08-03",
           "2023-12-12",
           "L5"
          ],
          [
           "2023-08-03",
           "2023-12-12",
           "L5"
          ],
          [
           null,
           null,
           null
          ],
          [
           "2023-08-03",
           "2023-10-15",
           "L5"
          ],
          [
           "2023-08-03",
           "2023-10-15",
           "L5"
          ],
          [
           null,
           null,
           null
          ],
          [
           "2023-08-10",
           "2023-10-09",
           "L6"
          ],
          [
           "2023-08-10",
           "2023-10-09",
           "L6"
          ],
          [
           null,
           null,
           null
          ],
          [
           "2023-08-03",
           "2023-10-05",
           "L6"
          ],
          [
           "2023-08-03",
           "2023-10-05",
           "L6"
          ],
          [
           null,
           null,
           null
          ],
          [
           "2023-09-14",
           "2023-09-29",
           "L7"
          ],
          [
           "2023-09-14",
           "2023-09-29",
           "L7"
          ],
          [
           null,
           null,
           null
          ],
          [
           "2023-08-17",
           "2023-10-15",
           "L7"
          ],
          [
           "2023-08-17",
           "2023-10-15",
           "L7"
          ],
          [
           null,
           null,
           null
          ],
          [
           "2023-09-14",
           "2023-09-27",
           "L8"
          ],
          [
           "2023-09-14",
           "2023-09-27",
           "L8"
          ],
          [
           null,
           null,
           null
          ],
          [
           "2023-09-14",
           "2023-09-27",
           "L8"
          ],
          [
           "2023-09-14",
           "2023-09-27",
           "L8"
          ],
          [
           null,
           null,
           null
          ],
          [
           "2023-09-14",
           "2023-10-11",
           "L9"
          ],
          [
           "2023-09-14",
           "2023-10-11",
           "L9"
          ],
          [
           null,
           null,
           null
          ],
          [
           "2023-09-14",
           "2023-10-04",
           "L9"
          ],
          [
           "2023-09-14",
           "2023-10-04",
           "L9"
          ],
          [
           null,
           null,
           null
          ],
          [
           "2023-09-14",
           "2023-10-10",
           "L10"
          ],
          [
           "2023-09-14",
           "2023-10-10",
           "L10"
          ],
          [
           null,
           null,
           null
          ],
          [
           "2023-09-14",
           "2023-10-15",
           "L10"
          ],
          [
           "2023-09-14",
           "2023-10-15",
           "L10"
          ],
          [
           null,
           null,
           null
          ],
          [
           "2023-09-14",
           "2023-10-22",
           "L11"
          ],
          [
           "2023-09-14",
           "2023-10-22",
           "L11"
          ],
          [
           null,
           null,
           null
          ],
          [
           "2023-09-14",
           "2023-11-04",
           "L11"
          ],
          [
           "2023-09-14",
           "2023-11-04",
           "L11"
          ],
          [
           null,
           null,
           null
          ],
          [
           null,
           null,
           "L12"
          ],
          [
           null,
           null,
           "L12"
          ],
          [
           null,
           null,
           null
          ],
          [
           null,
           null,
           "L12"
          ],
          [
           null,
           null,
           "L12"
          ],
          [
           null,
           null,
           null
          ],
          [
           null,
           null,
           "L13"
          ],
          [
           null,
           null,
           "L13"
          ],
          [
           null,
           null,
           null
          ],
          [
           null,
           null,
           "L13"
          ],
          [
           null,
           null,
           "L13"
          ],
          [
           null,
           null,
           null
          ],
          [
           null,
           null,
           "L14"
          ],
          [
           null,
           null,
           "L14"
          ],
          [
           null,
           null,
           null
          ],
          [
           null,
           null,
           "L14"
          ],
          [
           null,
           null,
           "L14"
          ],
          [
           null,
           null,
           null
          ],
          [
           null,
           null,
           "L15"
          ],
          [
           null,
           null,
           "L15"
          ],
          [
           null,
           null,
           null
          ],
          [
           null,
           null,
           "L15"
          ],
          [
           null,
           null,
           "L15"
          ],
          [
           null,
           null,
           null
          ]
         ],
         "hovertemplate": "Initial Date: %{customdata[0]}<br>Final Date: %{customdata[1]}<br>Level: %{customdata[2]}",
         "legendgroup": "5",
         "line": {
          "color": "#0099C6",
          "dash": "solid"
         },
         "marker": {
          "symbol": "circle"
         },
         "mode": "lines",
         "name": "Screed / Joinery / Kitchens Actuals",
         "orientation": "v",
         "showlegend": true,
         "type": "scatter",
         "x": [
          "2023-06-22",
          "2023-09-10",
          null,
          "2023-03-20",
          "2023-09-02",
          null,
          "2023-07-13",
          "2023-08-31",
          null,
          "2023-07-27",
          "2023-08-18",
          null,
          "2023-07-27",
          "2023-09-01",
          null,
          "2023-07-13",
          "2023-09-18",
          null,
          "2023-08-03",
          "2023-09-28",
          null,
          "2023-07-27",
          "2023-09-26",
          null,
          "2023-08-03",
          "2023-12-12",
          null,
          "2023-08-03",
          "2023-10-15",
          null,
          "2023-08-10",
          "2023-10-09",
          null,
          "2023-08-03",
          "2023-10-05",
          null,
          "2023-09-14",
          "2023-09-29",
          null,
          "2023-08-17",
          "2023-10-15",
          null,
          "2023-09-14",
          "2023-09-27",
          null,
          "2023-09-14",
          "2023-09-27",
          null,
          "2023-09-14",
          "2023-10-11",
          null,
          "2023-09-14",
          "2023-10-04",
          null,
          "2023-09-14",
          "2023-10-10",
          null,
          "2023-09-14",
          "2023-10-15",
          null,
          "2023-09-14",
          "2023-10-22",
          null,
          "2023-09-14",
          "2023-11-04",
          null,
          null,
          null,
          null,
          null,
          null,
          null,
          null,
          null,
          null,
          null,
          null,
          null,
          null,
          null,
          null,
          null,
          null,
          null,
          null,
          null,
          null,
          null,
          null,
          null
         ],
         "xaxis": "x",
         "y": [
          0,
          0.5,
          null,
          0.5,
          1,
          null,
          1,
          1.5,
          null,
          1.5,
          2,
          null,
          2,
          2.5,
          null,
          2.5,
          3,
          null,
          3,
          3.5,
          null,
          3.5,
          4,
          null,
          4,
          4.5,
          null,
          4.5,
          5,
          null,
          5,
          5.5,
          null,
          5.5,
          6,
          null,
          6,
          6.5,
          null,
          6.5,
          7,
          null,
          7,
          7.5,
          null,
          7.5,
          8,
          null,
          8,
          8.5,
          null,
          8.5,
          9,
          null,
          9,
          9.5,
          null,
          9.5,
          10,
          null,
          10,
          10.5,
          null,
          10.5,
          11,
          null,
          11,
          11.5,
          null,
          11.5,
          12,
          null,
          12,
          12.5,
          null,
          12.5,
          13,
          null,
          13,
          13.5,
          null,
          13.5,
          14,
          null,
          14,
          14.5,
          null,
          14.5,
          15,
          null
         ],
         "yaxis": "y"
        }
       ],
       "layout": {
        "annotations": [
         {
          "font": {
           "size": 8
          },
          "showarrow": false,
          "text": "<b>1-5<b>",
          "x": -0.02608695652173913,
          "xref": "paper",
          "y": 0.25,
          "yref": "y"
         },
         {
          "font": {
           "size": 8
          },
          "showarrow": false,
          "text": "<b>6-10<b>",
          "x": -0.02608695652173913,
          "xref": "paper",
          "y": 0.75,
          "yref": "y"
         },
         {
          "font": {
           "size": 8
          },
          "showarrow": false,
          "text": "<b>1-5<b>",
          "x": -0.02608695652173913,
          "xref": "paper",
          "y": 1.25,
          "yref": "y"
         },
         {
          "font": {
           "size": 8
          },
          "showarrow": false,
          "text": "<b>6-10<b>",
          "x": -0.02608695652173913,
          "xref": "paper",
          "y": 1.75,
          "yref": "y"
         },
         {
          "font": {
           "size": 8
          },
          "showarrow": false,
          "text": "<b>1-5<b>",
          "x": -0.02608695652173913,
          "xref": "paper",
          "y": 2.25,
          "yref": "y"
         },
         {
          "font": {
           "size": 8
          },
          "showarrow": false,
          "text": "<b>6-10<b>",
          "x": -0.02608695652173913,
          "xref": "paper",
          "y": 2.75,
          "yref": "y"
         },
         {
          "font": {
           "size": 8
          },
          "showarrow": false,
          "text": "<b>1-5<b>",
          "x": -0.02608695652173913,
          "xref": "paper",
          "y": 3.25,
          "yref": "y"
         },
         {
          "font": {
           "size": 8
          },
          "showarrow": false,
          "text": "<b>6-10<b>",
          "x": -0.02608695652173913,
          "xref": "paper",
          "y": 3.75,
          "yref": "y"
         },
         {
          "font": {
           "size": 8
          },
          "showarrow": false,
          "text": "<b>1-5<b>",
          "x": -0.02608695652173913,
          "xref": "paper",
          "y": 4.25,
          "yref": "y"
         },
         {
          "font": {
           "size": 8
          },
          "showarrow": false,
          "text": "<b>6-10<b>",
          "x": -0.02608695652173913,
          "xref": "paper",
          "y": 4.75,
          "yref": "y"
         },
         {
          "font": {
           "size": 8
          },
          "showarrow": false,
          "text": "<b>1-5<b>",
          "x": -0.02608695652173913,
          "xref": "paper",
          "y": 5.25,
          "yref": "y"
         },
         {
          "font": {
           "size": 8
          },
          "showarrow": false,
          "text": "<b>6-10<b>",
          "x": -0.02608695652173913,
          "xref": "paper",
          "y": 5.75,
          "yref": "y"
         },
         {
          "font": {
           "size": 8
          },
          "showarrow": false,
          "text": "<b>1-5<b>",
          "x": -0.02608695652173913,
          "xref": "paper",
          "y": 6.25,
          "yref": "y"
         },
         {
          "font": {
           "size": 8
          },
          "showarrow": false,
          "text": "<b>6-10<b>",
          "x": -0.02608695652173913,
          "xref": "paper",
          "y": 6.75,
          "yref": "y"
         },
         {
          "font": {
           "size": 8
          },
          "showarrow": false,
          "text": "<b>1-5<b>",
          "x": -0.02608695652173913,
          "xref": "paper",
          "y": 7.25,
          "yref": "y"
         },
         {
          "font": {
           "size": 8
          },
          "showarrow": false,
          "text": "<b>6-10<b>",
          "x": -0.02608695652173913,
          "xref": "paper",
          "y": 7.75,
          "yref": "y"
         },
         {
          "font": {
           "size": 8
          },
          "showarrow": false,
          "text": "<b>1-5<b>",
          "x": -0.02608695652173913,
          "xref": "paper",
          "y": 8.25,
          "yref": "y"
         },
         {
          "font": {
           "size": 8
          },
          "showarrow": false,
          "text": "<b>6-10<b>",
          "x": -0.02608695652173913,
          "xref": "paper",
          "y": 8.75,
          "yref": "y"
         },
         {
          "font": {
           "size": 8
          },
          "showarrow": false,
          "text": "<b>1-5<b>",
          "x": -0.02608695652173913,
          "xref": "paper",
          "y": 9.25,
          "yref": "y"
         },
         {
          "font": {
           "size": 8
          },
          "showarrow": false,
          "text": "<b>6-10<b>",
          "x": -0.02608695652173913,
          "xref": "paper",
          "y": 9.75,
          "yref": "y"
         },
         {
          "font": {
           "size": 8
          },
          "showarrow": false,
          "text": "<b>1-5<b>",
          "x": -0.02608695652173913,
          "xref": "paper",
          "y": 10.25,
          "yref": "y"
         },
         {
          "font": {
           "size": 8
          },
          "showarrow": false,
          "text": "<b>6-10<b>",
          "x": -0.02608695652173913,
          "xref": "paper",
          "y": 10.75,
          "yref": "y"
         },
         {
          "font": {
           "size": 8
          },
          "showarrow": false,
          "text": "<b>1-5<b>",
          "x": -0.02608695652173913,
          "xref": "paper",
          "y": 11.25,
          "yref": "y"
         },
         {
          "font": {
           "size": 8
          },
          "showarrow": false,
          "text": "<b>6-10<b>",
          "x": -0.02608695652173913,
          "xref": "paper",
          "y": 11.75,
          "yref": "y"
         },
         {
          "font": {
           "size": 8
          },
          "showarrow": false,
          "text": "<b>1-5<b>",
          "x": -0.02608695652173913,
          "xref": "paper",
          "y": 12.25,
          "yref": "y"
         },
         {
          "font": {
           "size": 8
          },
          "showarrow": false,
          "text": "<b>6-10<b>",
          "x": -0.02608695652173913,
          "xref": "paper",
          "y": 12.75,
          "yref": "y"
         },
         {
          "font": {
           "size": 9
          },
          "showarrow": false,
          "text": "<b>L1<b>",
          "x": -0.05217391304347826,
          "xref": "paper",
          "y": 0.5,
          "yref": "y"
         },
         {
          "font": {
           "size": 9
          },
          "showarrow": false,
          "text": "<b>L2<b>",
          "x": -0.05217391304347826,
          "xref": "paper",
          "y": 1.5,
          "yref": "y"
         },
         {
          "font": {
           "size": 9
          },
          "showarrow": false,
          "text": "<b>L3<b>",
          "x": -0.05217391304347826,
          "xref": "paper",
          "y": 2.5,
          "yref": "y"
         },
         {
          "font": {
           "size": 9
          },
          "showarrow": false,
          "text": "<b>L4<b>",
          "x": -0.05217391304347826,
          "xref": "paper",
          "y": 3.5,
          "yref": "y"
         },
         {
          "font": {
           "size": 9
          },
          "showarrow": false,
          "text": "<b>L5<b>",
          "x": -0.05217391304347826,
          "xref": "paper",
          "y": 4.5,
          "yref": "y"
         },
         {
          "font": {
           "size": 9
          },
          "showarrow": false,
          "text": "<b>L6<b>",
          "x": -0.05217391304347826,
          "xref": "paper",
          "y": 5.5,
          "yref": "y"
         },
         {
          "font": {
           "size": 9
          },
          "showarrow": false,
          "text": "<b>L7<b>",
          "x": -0.05217391304347826,
          "xref": "paper",
          "y": 6.5,
          "yref": "y"
         },
         {
          "font": {
           "size": 9
          },
          "showarrow": false,
          "text": "<b>L8<b>",
          "x": -0.05217391304347826,
          "xref": "paper",
          "y": 7.5,
          "yref": "y"
         },
         {
          "font": {
           "size": 9
          },
          "showarrow": false,
          "text": "<b>L9<b>",
          "x": -0.05217391304347826,
          "xref": "paper",
          "y": 8.5,
          "yref": "y"
         },
         {
          "font": {
           "size": 9
          },
          "showarrow": false,
          "text": "<b>L10<b>",
          "x": -0.05217391304347826,
          "xref": "paper",
          "y": 9.5,
          "yref": "y"
         },
         {
          "font": {
           "size": 9
          },
          "showarrow": false,
          "text": "<b>L11<b>",
          "x": -0.05217391304347826,
          "xref": "paper",
          "y": 10.5,
          "yref": "y"
         },
         {
          "font": {
           "size": 9
          },
          "showarrow": false,
          "text": "<b>L12<b>",
          "x": -0.05217391304347826,
          "xref": "paper",
          "y": 11.5,
          "yref": "y"
         },
         {
          "font": {
           "size": 9
          },
          "showarrow": false,
          "text": "<b>L13<b>",
          "x": -0.05217391304347826,
          "xref": "paper",
          "y": 12.5,
          "yref": "y"
         }
        ],
        "height": 860,
        "legend": {
         "tracegroupgap": 0
        },
        "plot_bgcolor": "#eaeaf2",
        "shapes": [
         {
          "fillcolor": "#eaeaf2",
          "line": {
           "color": "#ffffff",
           "width": 1.5
          },
          "opacity": 1,
          "type": "rect",
          "x0": -0.05217391304347826,
          "x1": 0,
          "xref": "paper",
          "y0": 0,
          "y1": 1,
          "yref": "paper"
         },
         {
          "line": {
           "color": "#ffffff",
           "width": 1.5
          },
          "opacity": 1,
          "type": "line",
          "x0": -0.05217391304347826,
          "x1": 0,
          "xref": "paper",
          "y0": 0,
          "y1": 0,
          "yref": "y"
         },
         {
          "line": {
           "color": "#ffffff",
           "width": 1.5
          },
          "opacity": 1,
          "type": "line",
          "x0": -0.02608695652173913,
          "x1": 0,
          "xref": "paper",
          "y0": 0.5,
          "y1": 0.5,
          "yref": "y"
         },
         {
          "line": {
           "color": "#ffffff",
           "width": 1.5
          },
          "opacity": 1,
          "type": "line",
          "x0": -0.05217391304347826,
          "x1": 0,
          "xref": "paper",
          "y0": 1,
          "y1": 1,
          "yref": "y"
         },
         {
          "line": {
           "color": "#ffffff",
           "width": 1.5
          },
          "opacity": 1,
          "type": "line",
          "x0": -0.02608695652173913,
          "x1": 0,
          "xref": "paper",
          "y0": 1.5,
          "y1": 1.5,
          "yref": "y"
         },
         {
          "line": {
           "color": "#ffffff",
           "width": 1.5
          },
          "opacity": 1,
          "type": "line",
          "x0": -0.05217391304347826,
          "x1": 0,
          "xref": "paper",
          "y0": 2,
          "y1": 2,
          "yref": "y"
         },
         {
          "line": {
           "color": "#ffffff",
           "width": 1.5
          },
          "opacity": 1,
          "type": "line",
          "x0": -0.02608695652173913,
          "x1": 0,
          "xref": "paper",
          "y0": 2.5,
          "y1": 2.5,
          "yref": "y"
         },
         {
          "line": {
           "color": "#ffffff",
           "width": 1.5
          },
          "opacity": 1,
          "type": "line",
          "x0": -0.05217391304347826,
          "x1": 0,
          "xref": "paper",
          "y0": 3,
          "y1": 3,
          "yref": "y"
         },
         {
          "line": {
           "color": "#ffffff",
           "width": 1.5
          },
          "opacity": 1,
          "type": "line",
          "x0": -0.02608695652173913,
          "x1": 0,
          "xref": "paper",
          "y0": 3.5,
          "y1": 3.5,
          "yref": "y"
         },
         {
          "line": {
           "color": "#ffffff",
           "width": 1.5
          },
          "opacity": 1,
          "type": "line",
          "x0": -0.05217391304347826,
          "x1": 0,
          "xref": "paper",
          "y0": 4,
          "y1": 4,
          "yref": "y"
         },
         {
          "line": {
           "color": "#ffffff",
           "width": 1.5
          },
          "opacity": 1,
          "type": "line",
          "x0": -0.02608695652173913,
          "x1": 0,
          "xref": "paper",
          "y0": 4.5,
          "y1": 4.5,
          "yref": "y"
         },
         {
          "line": {
           "color": "#ffffff",
           "width": 1.5
          },
          "opacity": 1,
          "type": "line",
          "x0": -0.05217391304347826,
          "x1": 0,
          "xref": "paper",
          "y0": 5,
          "y1": 5,
          "yref": "y"
         },
         {
          "line": {
           "color": "#ffffff",
           "width": 1.5
          },
          "opacity": 1,
          "type": "line",
          "x0": -0.02608695652173913,
          "x1": 0,
          "xref": "paper",
          "y0": 5.5,
          "y1": 5.5,
          "yref": "y"
         },
         {
          "line": {
           "color": "#ffffff",
           "width": 1.5
          },
          "opacity": 1,
          "type": "line",
          "x0": -0.05217391304347826,
          "x1": 0,
          "xref": "paper",
          "y0": 6,
          "y1": 6,
          "yref": "y"
         },
         {
          "line": {
           "color": "#ffffff",
           "width": 1.5
          },
          "opacity": 1,
          "type": "line",
          "x0": -0.02608695652173913,
          "x1": 0,
          "xref": "paper",
          "y0": 6.5,
          "y1": 6.5,
          "yref": "y"
         },
         {
          "line": {
           "color": "#ffffff",
           "width": 1.5
          },
          "opacity": 1,
          "type": "line",
          "x0": -0.05217391304347826,
          "x1": 0,
          "xref": "paper",
          "y0": 7,
          "y1": 7,
          "yref": "y"
         },
         {
          "line": {
           "color": "#ffffff",
           "width": 1.5
          },
          "opacity": 1,
          "type": "line",
          "x0": -0.02608695652173913,
          "x1": 0,
          "xref": "paper",
          "y0": 7.5,
          "y1": 7.5,
          "yref": "y"
         },
         {
          "line": {
           "color": "#ffffff",
           "width": 1.5
          },
          "opacity": 1,
          "type": "line",
          "x0": -0.05217391304347826,
          "x1": 0,
          "xref": "paper",
          "y0": 8,
          "y1": 8,
          "yref": "y"
         },
         {
          "line": {
           "color": "#ffffff",
           "width": 1.5
          },
          "opacity": 1,
          "type": "line",
          "x0": -0.02608695652173913,
          "x1": 0,
          "xref": "paper",
          "y0": 8.5,
          "y1": 8.5,
          "yref": "y"
         },
         {
          "line": {
           "color": "#ffffff",
           "width": 1.5
          },
          "opacity": 1,
          "type": "line",
          "x0": -0.05217391304347826,
          "x1": 0,
          "xref": "paper",
          "y0": 9,
          "y1": 9,
          "yref": "y"
         },
         {
          "line": {
           "color": "#ffffff",
           "width": 1.5
          },
          "opacity": 1,
          "type": "line",
          "x0": -0.02608695652173913,
          "x1": 0,
          "xref": "paper",
          "y0": 9.5,
          "y1": 9.5,
          "yref": "y"
         },
         {
          "line": {
           "color": "#ffffff",
           "width": 1.5
          },
          "opacity": 1,
          "type": "line",
          "x0": -0.05217391304347826,
          "x1": 0,
          "xref": "paper",
          "y0": 10,
          "y1": 10,
          "yref": "y"
         },
         {
          "line": {
           "color": "#ffffff",
           "width": 1.5
          },
          "opacity": 1,
          "type": "line",
          "x0": -0.02608695652173913,
          "x1": 0,
          "xref": "paper",
          "y0": 10.5,
          "y1": 10.5,
          "yref": "y"
         },
         {
          "line": {
           "color": "#ffffff",
           "width": 1.5
          },
          "opacity": 1,
          "type": "line",
          "x0": -0.05217391304347826,
          "x1": 0,
          "xref": "paper",
          "y0": 11,
          "y1": 11,
          "yref": "y"
         },
         {
          "line": {
           "color": "#ffffff",
           "width": 1.5
          },
          "opacity": 1,
          "type": "line",
          "x0": -0.02608695652173913,
          "x1": 0,
          "xref": "paper",
          "y0": 11.5,
          "y1": 11.5,
          "yref": "y"
         },
         {
          "line": {
           "color": "#ffffff",
           "width": 1.5
          },
          "opacity": 1,
          "type": "line",
          "x0": -0.05217391304347826,
          "x1": 0,
          "xref": "paper",
          "y0": 12,
          "y1": 12,
          "yref": "y"
         },
         {
          "line": {
           "color": "#ffffff",
           "width": 1.5
          },
          "opacity": 1,
          "type": "line",
          "x0": -0.02608695652173913,
          "x1": 0,
          "xref": "paper",
          "y0": 12.5,
          "y1": 12.5,
          "yref": "y"
         },
         {
          "line": {
           "color": "#ffffff",
           "width": 1.5
          },
          "opacity": 1,
          "type": "line",
          "x0": -0.05217391304347826,
          "x1": 0,
          "xref": "paper",
          "y0": 13,
          "y1": 13,
          "yref": "y"
         },
         {
          "line": {
           "color": "#ffffff",
           "width": 1.5
          },
          "opacity": 1,
          "type": "line",
          "x0": -0.02608695652173913,
          "x1": 0,
          "xref": "paper",
          "y0": 13.5,
          "y1": 13.5,
          "yref": "y"
         },
         {
          "line": {
           "color": "#dadae2",
           "width": 0
          },
          "opacity": 0.1,
          "type": "rect",
          "x0": -0.05217391304347826,
          "x1": 1,
          "xref": "paper",
          "y0": 0,
          "y1": 0.5,
          "yref": "y"
         },
         {
          "line": {
           "color": "#dadae2",
           "width": 0
          },
          "opacity": 0.1,
          "type": "rect",
          "x0": -0.05217391304347826,
          "x1": 1,
          "xref": "paper",
          "y0": 1,
          "y1": 1.5,
          "yref": "y"
         },
         {
          "line": {
           "color": "#dadae2",
           "width": 0
          },
          "opacity": 0.1,
          "type": "rect",
          "x0": -0.05217391304347826,
          "x1": 1,
          "xref": "paper",
          "y0": 2,
          "y1": 2.5,
          "yref": "y"
         },
         {
          "line": {
           "color": "#dadae2",
           "width": 0
          },
          "opacity": 0.1,
          "type": "rect",
          "x0": -0.05217391304347826,
          "x1": 1,
          "xref": "paper",
          "y0": 3,
          "y1": 3.5,
          "yref": "y"
         },
         {
          "line": {
           "color": "#dadae2",
           "width": 0
          },
          "opacity": 0.1,
          "type": "rect",
          "x0": -0.05217391304347826,
          "x1": 1,
          "xref": "paper",
          "y0": 4,
          "y1": 4.5,
          "yref": "y"
         },
         {
          "line": {
           "color": "#dadae2",
           "width": 0
          },
          "opacity": 0.1,
          "type": "rect",
          "x0": -0.05217391304347826,
          "x1": 1,
          "xref": "paper",
          "y0": 5,
          "y1": 5.5,
          "yref": "y"
         },
         {
          "line": {
           "color": "#dadae2",
           "width": 0
          },
          "opacity": 0.1,
          "type": "rect",
          "x0": -0.05217391304347826,
          "x1": 1,
          "xref": "paper",
          "y0": 6,
          "y1": 6.5,
          "yref": "y"
         },
         {
          "line": {
           "color": "#dadae2",
           "width": 0
          },
          "opacity": 0.1,
          "type": "rect",
          "x0": -0.05217391304347826,
          "x1": 1,
          "xref": "paper",
          "y0": 7,
          "y1": 7.5,
          "yref": "y"
         },
         {
          "line": {
           "color": "#dadae2",
           "width": 0
          },
          "opacity": 0.1,
          "type": "rect",
          "x0": -0.05217391304347826,
          "x1": 1,
          "xref": "paper",
          "y0": 8,
          "y1": 8.5,
          "yref": "y"
         },
         {
          "line": {
           "color": "#dadae2",
           "width": 0
          },
          "opacity": 0.1,
          "type": "rect",
          "x0": -0.05217391304347826,
          "x1": 1,
          "xref": "paper",
          "y0": 9,
          "y1": 9.5,
          "yref": "y"
         },
         {
          "line": {
           "color": "#dadae2",
           "width": 0
          },
          "opacity": 0.1,
          "type": "rect",
          "x0": -0.05217391304347826,
          "x1": 1,
          "xref": "paper",
          "y0": 10,
          "y1": 10.5,
          "yref": "y"
         },
         {
          "line": {
           "color": "#dadae2",
           "width": 0
          },
          "opacity": 0.1,
          "type": "rect",
          "x0": -0.05217391304347826,
          "x1": 1,
          "xref": "paper",
          "y0": 11,
          "y1": 11.5,
          "yref": "y"
         },
         {
          "line": {
           "color": "#dadae2",
           "width": 0
          },
          "opacity": 0.1,
          "type": "rect",
          "x0": -0.05217391304347826,
          "x1": 1,
          "xref": "paper",
          "y0": 12,
          "y1": 12.5,
          "yref": "y"
         },
         {
          "line": {
           "color": "#dadae2",
           "width": 0
          },
          "opacity": 0.1,
          "type": "rect",
          "x0": -0.05217391304347826,
          "x1": 1,
          "xref": "paper",
          "y0": 13,
          "y1": 13.5,
          "yref": "y"
         },
         {
          "line": {
           "color": "#ffffff",
           "width": 1.5
          },
          "opacity": 1,
          "type": "line",
          "x0": -0.02608695652173913,
          "x1": -0.02608695652173913,
          "xref": "paper",
          "y0": 0,
          "y1": 1,
          "yref": "paper"
         },
         {
          "line": {
           "color": "#ffffff",
           "width": 1.5
          },
          "opacity": 1,
          "type": "line",
          "x0": -0.05217391304347826,
          "x1": -0.05217391304347826,
          "xref": "paper",
          "y0": 0,
          "y1": 1,
          "yref": "paper"
         }
        ],
        "template": {
         "data": {
          "bar": [
           {
            "error_x": {
             "color": "rgb(36,36,36)"
            },
            "error_y": {
             "color": "rgb(36,36,36)"
            },
            "marker": {
             "line": {
              "color": "rgb(234,234,242)",
              "width": 0.5
             },
             "pattern": {
              "fillmode": "overlay",
              "size": 10,
              "solidity": 0.2
             }
            },
            "type": "bar"
           }
          ],
          "barpolar": [
           {
            "marker": {
             "line": {
              "color": "rgb(234,234,242)",
              "width": 0.5
             },
             "pattern": {
              "fillmode": "overlay",
              "size": 10,
              "solidity": 0.2
             }
            },
            "type": "barpolar"
           }
          ],
          "carpet": [
           {
            "aaxis": {
             "endlinecolor": "rgb(36,36,36)",
             "gridcolor": "white",
             "linecolor": "white",
             "minorgridcolor": "white",
             "startlinecolor": "rgb(36,36,36)"
            },
            "baxis": {
             "endlinecolor": "rgb(36,36,36)",
             "gridcolor": "white",
             "linecolor": "white",
             "minorgridcolor": "white",
             "startlinecolor": "rgb(36,36,36)"
            },
            "type": "carpet"
           }
          ],
          "choropleth": [
           {
            "colorbar": {
             "outlinewidth": 0,
             "tickcolor": "rgb(36,36,36)",
             "ticklen": 8,
             "ticks": "outside",
             "tickwidth": 2
            },
            "type": "choropleth"
           }
          ],
          "contour": [
           {
            "colorbar": {
             "outlinewidth": 0,
             "tickcolor": "rgb(36,36,36)",
             "ticklen": 8,
             "ticks": "outside",
             "tickwidth": 2
            },
            "colorscale": [
             [
              0,
              "rgb(2,4,25)"
             ],
             [
              0.06274509803921569,
              "rgb(24,15,41)"
             ],
             [
              0.12549019607843137,
              "rgb(47,23,57)"
             ],
             [
              0.18823529411764706,
              "rgb(71,28,72)"
             ],
             [
              0.25098039215686274,
              "rgb(97,30,82)"
             ],
             [
              0.3137254901960784,
              "rgb(123,30,89)"
             ],
             [
              0.3764705882352941,
              "rgb(150,27,91)"
             ],
             [
              0.4392156862745098,
              "rgb(177,22,88)"
             ],
             [
              0.5019607843137255,
              "rgb(203,26,79)"
             ],
             [
              0.5647058823529412,
              "rgb(223,47,67)"
             ],
             [
              0.6274509803921569,
              "rgb(236,76,61)"
             ],
             [
              0.6901960784313725,
              "rgb(242,107,73)"
             ],
             [
              0.7529411764705882,
              "rgb(244,135,95)"
             ],
             [
              0.8156862745098039,
              "rgb(245,162,122)"
             ],
             [
              0.8784313725490196,
              "rgb(246,188,153)"
             ],
             [
              0.9411764705882353,
              "rgb(247,212,187)"
             ],
             [
              1,
              "rgb(250,234,220)"
             ]
            ],
            "type": "contour"
           }
          ],
          "contourcarpet": [
           {
            "colorbar": {
             "outlinewidth": 0,
             "tickcolor": "rgb(36,36,36)",
             "ticklen": 8,
             "ticks": "outside",
             "tickwidth": 2
            },
            "type": "contourcarpet"
           }
          ],
          "heatmap": [
           {
            "colorbar": {
             "outlinewidth": 0,
             "tickcolor": "rgb(36,36,36)",
             "ticklen": 8,
             "ticks": "outside",
             "tickwidth": 2
            },
            "colorscale": [
             [
              0,
              "rgb(2,4,25)"
             ],
             [
              0.06274509803921569,
              "rgb(24,15,41)"
             ],
             [
              0.12549019607843137,
              "rgb(47,23,57)"
             ],
             [
              0.18823529411764706,
              "rgb(71,28,72)"
             ],
             [
              0.25098039215686274,
              "rgb(97,30,82)"
             ],
             [
              0.3137254901960784,
              "rgb(123,30,89)"
             ],
             [
              0.3764705882352941,
              "rgb(150,27,91)"
             ],
             [
              0.4392156862745098,
              "rgb(177,22,88)"
             ],
             [
              0.5019607843137255,
              "rgb(203,26,79)"
             ],
             [
              0.5647058823529412,
              "rgb(223,47,67)"
             ],
             [
              0.6274509803921569,
              "rgb(236,76,61)"
             ],
             [
              0.6901960784313725,
              "rgb(242,107,73)"
             ],
             [
              0.7529411764705882,
              "rgb(244,135,95)"
             ],
             [
              0.8156862745098039,
              "rgb(245,162,122)"
             ],
             [
              0.8784313725490196,
              "rgb(246,188,153)"
             ],
             [
              0.9411764705882353,
              "rgb(247,212,187)"
             ],
             [
              1,
              "rgb(250,234,220)"
             ]
            ],
            "type": "heatmap"
           }
          ],
          "heatmapgl": [
           {
            "colorbar": {
             "outlinewidth": 0,
             "tickcolor": "rgb(36,36,36)",
             "ticklen": 8,
             "ticks": "outside",
             "tickwidth": 2
            },
            "colorscale": [
             [
              0,
              "rgb(2,4,25)"
             ],
             [
              0.06274509803921569,
              "rgb(24,15,41)"
             ],
             [
              0.12549019607843137,
              "rgb(47,23,57)"
             ],
             [
              0.18823529411764706,
              "rgb(71,28,72)"
             ],
             [
              0.25098039215686274,
              "rgb(97,30,82)"
             ],
             [
              0.3137254901960784,
              "rgb(123,30,89)"
             ],
             [
              0.3764705882352941,
              "rgb(150,27,91)"
             ],
             [
              0.4392156862745098,
              "rgb(177,22,88)"
             ],
             [
              0.5019607843137255,
              "rgb(203,26,79)"
             ],
             [
              0.5647058823529412,
              "rgb(223,47,67)"
             ],
             [
              0.6274509803921569,
              "rgb(236,76,61)"
             ],
             [
              0.6901960784313725,
              "rgb(242,107,73)"
             ],
             [
              0.7529411764705882,
              "rgb(244,135,95)"
             ],
             [
              0.8156862745098039,
              "rgb(245,162,122)"
             ],
             [
              0.8784313725490196,
              "rgb(246,188,153)"
             ],
             [
              0.9411764705882353,
              "rgb(247,212,187)"
             ],
             [
              1,
              "rgb(250,234,220)"
             ]
            ],
            "type": "heatmapgl"
           }
          ],
          "histogram": [
           {
            "marker": {
             "pattern": {
              "fillmode": "overlay",
              "size": 10,
              "solidity": 0.2
             }
            },
            "type": "histogram"
           }
          ],
          "histogram2d": [
           {
            "colorbar": {
             "outlinewidth": 0,
             "tickcolor": "rgb(36,36,36)",
             "ticklen": 8,
             "ticks": "outside",
             "tickwidth": 2
            },
            "colorscale": [
             [
              0,
              "rgb(2,4,25)"
             ],
             [
              0.06274509803921569,
              "rgb(24,15,41)"
             ],
             [
              0.12549019607843137,
              "rgb(47,23,57)"
             ],
             [
              0.18823529411764706,
              "rgb(71,28,72)"
             ],
             [
              0.25098039215686274,
              "rgb(97,30,82)"
             ],
             [
              0.3137254901960784,
              "rgb(123,30,89)"
             ],
             [
              0.3764705882352941,
              "rgb(150,27,91)"
             ],
             [
              0.4392156862745098,
              "rgb(177,22,88)"
             ],
             [
              0.5019607843137255,
              "rgb(203,26,79)"
             ],
             [
              0.5647058823529412,
              "rgb(223,47,67)"
             ],
             [
              0.6274509803921569,
              "rgb(236,76,61)"
             ],
             [
              0.6901960784313725,
              "rgb(242,107,73)"
             ],
             [
              0.7529411764705882,
              "rgb(244,135,95)"
             ],
             [
              0.8156862745098039,
              "rgb(245,162,122)"
             ],
             [
              0.8784313725490196,
              "rgb(246,188,153)"
             ],
             [
              0.9411764705882353,
              "rgb(247,212,187)"
             ],
             [
              1,
              "rgb(250,234,220)"
             ]
            ],
            "type": "histogram2d"
           }
          ],
          "histogram2dcontour": [
           {
            "colorbar": {
             "outlinewidth": 0,
             "tickcolor": "rgb(36,36,36)",
             "ticklen": 8,
             "ticks": "outside",
             "tickwidth": 2
            },
            "colorscale": [
             [
              0,
              "rgb(2,4,25)"
             ],
             [
              0.06274509803921569,
              "rgb(24,15,41)"
             ],
             [
              0.12549019607843137,
              "rgb(47,23,57)"
             ],
             [
              0.18823529411764706,
              "rgb(71,28,72)"
             ],
             [
              0.25098039215686274,
              "rgb(97,30,82)"
             ],
             [
              0.3137254901960784,
              "rgb(123,30,89)"
             ],
             [
              0.3764705882352941,
              "rgb(150,27,91)"
             ],
             [
              0.4392156862745098,
              "rgb(177,22,88)"
             ],
             [
              0.5019607843137255,
              "rgb(203,26,79)"
             ],
             [
              0.5647058823529412,
              "rgb(223,47,67)"
             ],
             [
              0.6274509803921569,
              "rgb(236,76,61)"
             ],
             [
              0.6901960784313725,
              "rgb(242,107,73)"
             ],
             [
              0.7529411764705882,
              "rgb(244,135,95)"
             ],
             [
              0.8156862745098039,
              "rgb(245,162,122)"
             ],
             [
              0.8784313725490196,
              "rgb(246,188,153)"
             ],
             [
              0.9411764705882353,
              "rgb(247,212,187)"
             ],
             [
              1,
              "rgb(250,234,220)"
             ]
            ],
            "type": "histogram2dcontour"
           }
          ],
          "mesh3d": [
           {
            "colorbar": {
             "outlinewidth": 0,
             "tickcolor": "rgb(36,36,36)",
             "ticklen": 8,
             "ticks": "outside",
             "tickwidth": 2
            },
            "type": "mesh3d"
           }
          ],
          "parcoords": [
           {
            "line": {
             "colorbar": {
              "outlinewidth": 0,
              "tickcolor": "rgb(36,36,36)",
              "ticklen": 8,
              "ticks": "outside",
              "tickwidth": 2
             }
            },
            "type": "parcoords"
           }
          ],
          "pie": [
           {
            "automargin": true,
            "type": "pie"
           }
          ],
          "scatter": [
           {
            "marker": {
             "colorbar": {
              "outlinewidth": 0,
              "tickcolor": "rgb(36,36,36)",
              "ticklen": 8,
              "ticks": "outside",
              "tickwidth": 2
             }
            },
            "type": "scatter"
           }
          ],
          "scatter3d": [
           {
            "line": {
             "colorbar": {
              "outlinewidth": 0,
              "tickcolor": "rgb(36,36,36)",
              "ticklen": 8,
              "ticks": "outside",
              "tickwidth": 2
             }
            },
            "marker": {
             "colorbar": {
              "outlinewidth": 0,
              "tickcolor": "rgb(36,36,36)",
              "ticklen": 8,
              "ticks": "outside",
              "tickwidth": 2
             }
            },
            "type": "scatter3d"
           }
          ],
          "scattercarpet": [
           {
            "marker": {
             "colorbar": {
              "outlinewidth": 0,
              "tickcolor": "rgb(36,36,36)",
              "ticklen": 8,
              "ticks": "outside",
              "tickwidth": 2
             }
            },
            "type": "scattercarpet"
           }
          ],
          "scattergeo": [
           {
            "marker": {
             "colorbar": {
              "outlinewidth": 0,
              "tickcolor": "rgb(36,36,36)",
              "ticklen": 8,
              "ticks": "outside",
              "tickwidth": 2
             }
            },
            "type": "scattergeo"
           }
          ],
          "scattergl": [
           {
            "marker": {
             "colorbar": {
              "outlinewidth": 0,
              "tickcolor": "rgb(36,36,36)",
              "ticklen": 8,
              "ticks": "outside",
              "tickwidth": 2
             }
            },
            "type": "scattergl"
           }
          ],
          "scattermapbox": [
           {
            "marker": {
             "colorbar": {
              "outlinewidth": 0,
              "tickcolor": "rgb(36,36,36)",
              "ticklen": 8,
              "ticks": "outside",
              "tickwidth": 2
             }
            },
            "type": "scattermapbox"
           }
          ],
          "scatterpolar": [
           {
            "marker": {
             "colorbar": {
              "outlinewidth": 0,
              "tickcolor": "rgb(36,36,36)",
              "ticklen": 8,
              "ticks": "outside",
              "tickwidth": 2
             }
            },
            "type": "scatterpolar"
           }
          ],
          "scatterpolargl": [
           {
            "marker": {
             "colorbar": {
              "outlinewidth": 0,
              "tickcolor": "rgb(36,36,36)",
              "ticklen": 8,
              "ticks": "outside",
              "tickwidth": 2
             }
            },
            "type": "scatterpolargl"
           }
          ],
          "scatterternary": [
           {
            "marker": {
             "colorbar": {
              "outlinewidth": 0,
              "tickcolor": "rgb(36,36,36)",
              "ticklen": 8,
              "ticks": "outside",
              "tickwidth": 2
             }
            },
            "type": "scatterternary"
           }
          ],
          "surface": [
           {
            "colorbar": {
             "outlinewidth": 0,
             "tickcolor": "rgb(36,36,36)",
             "ticklen": 8,
             "ticks": "outside",
             "tickwidth": 2
            },
            "colorscale": [
             [
              0,
              "rgb(2,4,25)"
             ],
             [
              0.06274509803921569,
              "rgb(24,15,41)"
             ],
             [
              0.12549019607843137,
              "rgb(47,23,57)"
             ],
             [
              0.18823529411764706,
              "rgb(71,28,72)"
             ],
             [
              0.25098039215686274,
              "rgb(97,30,82)"
             ],
             [
              0.3137254901960784,
              "rgb(123,30,89)"
             ],
             [
              0.3764705882352941,
              "rgb(150,27,91)"
             ],
             [
              0.4392156862745098,
              "rgb(177,22,88)"
             ],
             [
              0.5019607843137255,
              "rgb(203,26,79)"
             ],
             [
              0.5647058823529412,
              "rgb(223,47,67)"
             ],
             [
              0.6274509803921569,
              "rgb(236,76,61)"
             ],
             [
              0.6901960784313725,
              "rgb(242,107,73)"
             ],
             [
              0.7529411764705882,
              "rgb(244,135,95)"
             ],
             [
              0.8156862745098039,
              "rgb(245,162,122)"
             ],
             [
              0.8784313725490196,
              "rgb(246,188,153)"
             ],
             [
              0.9411764705882353,
              "rgb(247,212,187)"
             ],
             [
              1,
              "rgb(250,234,220)"
             ]
            ],
            "type": "surface"
           }
          ],
          "table": [
           {
            "cells": {
             "fill": {
              "color": "rgb(231,231,240)"
             },
             "line": {
              "color": "white"
             }
            },
            "header": {
             "fill": {
              "color": "rgb(183,183,191)"
             },
             "line": {
              "color": "white"
             }
            },
            "type": "table"
           }
          ]
         },
         "layout": {
          "annotationdefaults": {
           "arrowcolor": "rgb(67,103,167)"
          },
          "autotypenumbers": "strict",
          "coloraxis": {
           "colorbar": {
            "outlinewidth": 0,
            "tickcolor": "rgb(36,36,36)",
            "ticklen": 8,
            "ticks": "outside",
            "tickwidth": 2
           }
          },
          "colorscale": {
           "sequential": [
            [
             0,
             "rgb(2,4,25)"
            ],
            [
             0.06274509803921569,
             "rgb(24,15,41)"
            ],
            [
             0.12549019607843137,
             "rgb(47,23,57)"
            ],
            [
             0.18823529411764706,
             "rgb(71,28,72)"
            ],
            [
             0.25098039215686274,
             "rgb(97,30,82)"
            ],
            [
             0.3137254901960784,
             "rgb(123,30,89)"
            ],
            [
             0.3764705882352941,
             "rgb(150,27,91)"
            ],
            [
             0.4392156862745098,
             "rgb(177,22,88)"
            ],
            [
             0.5019607843137255,
             "rgb(203,26,79)"
            ],
            [
             0.5647058823529412,
             "rgb(223,47,67)"
            ],
            [
             0.6274509803921569,
             "rgb(236,76,61)"
            ],
            [
             0.6901960784313725,
             "rgb(242,107,73)"
            ],
            [
             0.7529411764705882,
             "rgb(244,135,95)"
            ],
            [
             0.8156862745098039,
             "rgb(245,162,122)"
            ],
            [
             0.8784313725490196,
             "rgb(246,188,153)"
            ],
            [
             0.9411764705882353,
             "rgb(247,212,187)"
            ],
            [
             1,
             "rgb(250,234,220)"
            ]
           ],
           "sequentialminus": [
            [
             0,
             "rgb(2,4,25)"
            ],
            [
             0.06274509803921569,
             "rgb(24,15,41)"
            ],
            [
             0.12549019607843137,
             "rgb(47,23,57)"
            ],
            [
             0.18823529411764706,
             "rgb(71,28,72)"
            ],
            [
             0.25098039215686274,
             "rgb(97,30,82)"
            ],
            [
             0.3137254901960784,
             "rgb(123,30,89)"
            ],
            [
             0.3764705882352941,
             "rgb(150,27,91)"
            ],
            [
             0.4392156862745098,
             "rgb(177,22,88)"
            ],
            [
             0.5019607843137255,
             "rgb(203,26,79)"
            ],
            [
             0.5647058823529412,
             "rgb(223,47,67)"
            ],
            [
             0.6274509803921569,
             "rgb(236,76,61)"
            ],
            [
             0.6901960784313725,
             "rgb(242,107,73)"
            ],
            [
             0.7529411764705882,
             "rgb(244,135,95)"
            ],
            [
             0.8156862745098039,
             "rgb(245,162,122)"
            ],
            [
             0.8784313725490196,
             "rgb(246,188,153)"
            ],
            [
             0.9411764705882353,
             "rgb(247,212,187)"
            ],
            [
             1,
             "rgb(250,234,220)"
            ]
           ]
          },
          "colorway": [
           "rgb(76,114,176)",
           "rgb(221,132,82)",
           "rgb(85,168,104)",
           "rgb(196,78,82)",
           "rgb(129,114,179)",
           "rgb(147,120,96)",
           "rgb(218,139,195)",
           "rgb(140,140,140)",
           "rgb(204,185,116)",
           "rgb(100,181,205)"
          ],
          "font": {
           "color": "rgb(36,36,36)"
          },
          "geo": {
           "bgcolor": "white",
           "lakecolor": "white",
           "landcolor": "rgb(234,234,242)",
           "showlakes": true,
           "showland": true,
           "subunitcolor": "white"
          },
          "hoverlabel": {
           "align": "left"
          },
          "hovermode": "closest",
          "paper_bgcolor": "white",
          "plot_bgcolor": "rgb(234,234,242)",
          "polar": {
           "angularaxis": {
            "gridcolor": "white",
            "linecolor": "white",
            "showgrid": true,
            "ticks": ""
           },
           "bgcolor": "rgb(234,234,242)",
           "radialaxis": {
            "gridcolor": "white",
            "linecolor": "white",
            "showgrid": true,
            "ticks": ""
           }
          },
          "scene": {
           "xaxis": {
            "backgroundcolor": "rgb(234,234,242)",
            "gridcolor": "white",
            "gridwidth": 2,
            "linecolor": "white",
            "showbackground": true,
            "showgrid": true,
            "ticks": "",
            "zerolinecolor": "white"
           },
           "yaxis": {
            "backgroundcolor": "rgb(234,234,242)",
            "gridcolor": "white",
            "gridwidth": 2,
            "linecolor": "white",
            "showbackground": true,
            "showgrid": true,
            "ticks": "",
            "zerolinecolor": "white"
           },
           "zaxis": {
            "backgroundcolor": "rgb(234,234,242)",
            "gridcolor": "white",
            "gridwidth": 2,
            "linecolor": "white",
            "showbackground": true,
            "showgrid": true,
            "ticks": "",
            "zerolinecolor": "white"
           }
          },
          "shapedefaults": {
           "fillcolor": "rgb(67,103,167)",
           "line": {
            "width": 0
           },
           "opacity": 0.5
          },
          "ternary": {
           "aaxis": {
            "gridcolor": "white",
            "linecolor": "white",
            "showgrid": true,
            "ticks": ""
           },
           "baxis": {
            "gridcolor": "white",
            "linecolor": "white",
            "showgrid": true,
            "ticks": ""
           },
           "bgcolor": "rgb(234,234,242)",
           "caxis": {
            "gridcolor": "white",
            "linecolor": "white",
            "showgrid": true,
            "ticks": ""
           }
          },
          "xaxis": {
           "automargin": true,
           "gridcolor": "white",
           "linecolor": "white",
           "showgrid": true,
           "ticks": "",
           "title": {
            "standoff": 15
           },
           "zerolinecolor": "white"
          },
          "yaxis": {
           "automargin": true,
           "gridcolor": "white",
           "linecolor": "white",
           "showgrid": true,
           "ticks": "",
           "title": {
            "standoff": 15
           },
           "zerolinecolor": "white"
          }
         }
        },
        "title": {
         "text": "<b>Flowlines 6WP Plan v Actual North by Location<b>",
         "x": 0.3
        },
        "width": 1403,
        "xaxis": {
         "anchor": "y",
         "domain": [
          0,
          1
         ],
         "range": [
          "2022-10-26T00:00:00",
          "2024-03-13"
         ],
         "title": {
          "text": "<b>Date<b>"
         }
        },
        "yaxis": {
         "anchor": "x",
         "domain": [
          0,
          1
         ],
         "range": [
          -0.25,
          13.25
         ],
         "ticktext": [
          "",
          "",
          "",
          "",
          "",
          "",
          "",
          "",
          "",
          "",
          "",
          "",
          "",
          "",
          "",
          "",
          "",
          "",
          "",
          "",
          "",
          "",
          "",
          "",
          "",
          "",
          "",
          ""
         ],
         "tickvals": [
          0,
          0.5,
          1,
          1.5,
          2,
          2.5,
          3,
          3.5,
          4,
          4.5,
          5,
          5.5,
          6,
          6.5,
          7,
          7.5,
          8,
          8.5,
          9,
          9.5,
          10,
          10.5,
          11,
          11.5,
          12,
          12.5,
          13,
          13.5
         ],
         "title": {
          "standoff": 30,
          "text": "<b>Floor<b>"
         }
        }
       }
      }
     },
     "metadata": {},
     "output_type": "display_data"
    }
   ],
   "source": [
    "import Productivity_dates\n",
    "from Productivity_dates import Flowlines2fig, Flowlines1figsth\n",
    "import dash\n",
    "from dash import dcc, html, Dash, callback\n",
    "from dash.dependencies import Input, Output, State\n",
    "import plotly.graph_objs as go\n",
    "import plotly.express as px\n",
    "import datetime\n",
    "from datetime import date, timedelta\n",
    "import numpy as np"
   ]
  },
  {
   "cell_type": "code",
   "execution_count": 2,
   "metadata": {},
   "outputs": [
    {
     "data": {
      "text/html": [
       "\n",
       "        <iframe\n",
       "            width=\"100%\"\n",
       "            height=\"650\"\n",
       "            src=\"http://127.0.0.1:8054/\"\n",
       "            frameborder=\"0\"\n",
       "            allowfullscreen\n",
       "            \n",
       "        ></iframe>\n",
       "        "
      ],
      "text/plain": [
       "<IPython.lib.display.IFrame at 0x7fea91b60ee0>"
      ]
     },
     "metadata": {},
     "output_type": "display_data"
    }
   ],
   "source": [
    "locationlist = ['North', 'South']\n",
    "indexlist = [0]\n",
    "\n",
    "app = Dash(__name__)\n",
    "app.layout = html.Div([\n",
    "    html.Div([dcc.Graph(id='plot-output', style = {'width': '100%', 'height': '800px'})], style={'position': 'absolute'}),\n",
    "    html.Div([dcc.Dropdown(locationlist, 'North', id='floor-location-dropdown', style={'width':'100px', 'backgroundColor': '#f6f6f6'})], \n",
    "             style={'position': 'relative', 'left': '1150px', 'top': '20px'})\n",
    "])\n",
    "\n",
    "@callback(\n",
    "    Output('plot-output', 'figure'),\n",
    "    Input('floor-location-dropdown', 'value')\n",
    ")\n",
    "\n",
    "def update_plot_output(value):\n",
    "    index = 0\n",
    "    if value != None:\n",
    "        index = locationlist.index(value)\n",
    "        indexlist.append(index)\n",
    "    else:\n",
    "        index = indexlist[-1]\n",
    "    figs = px.line(template='seaborn')\n",
    "\n",
    "    #Copy this dataplot\n",
    "    for i in [Flowlines2fig, Flowlines1figsth][index].data:\n",
    "            \n",
    "            i.visible = True\n",
    "            figs.add_trace(i)\n",
    "\n",
    "    #Copy this layout\n",
    "    figs.layout = [Flowlines2fig, Flowlines1figsth][index].layout\n",
    "    if index == 0:\n",
    "        figs.update_layout(yaxis = dict(title_standoff = 60))\n",
    "    return figs\n",
    "\n",
    "\n",
    "if __name__ == '__main__':\n",
    "    app.run(debug=True, port=8054)"
   ]
  }
 ],
 "metadata": {
  "kernelspec": {
   "display_name": "Python 3",
   "language": "python",
   "name": "python3"
  },
  "language_info": {
   "codemirror_mode": {
    "name": "ipython",
    "version": 3
   },
   "file_extension": ".py",
   "mimetype": "text/x-python",
   "name": "python",
   "nbconvert_exporter": "python",
   "pygments_lexer": "ipython3",
   "version": "3.9.12"
  }
 },
 "nbformat": 4,
 "nbformat_minor": 2
}
